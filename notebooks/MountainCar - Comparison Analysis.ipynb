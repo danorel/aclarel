{
 "cells": [
  {
   "cell_type": "code",
   "execution_count": 1,
   "id": "4ca45a75-f165-4ea3-bc90-82975e6a1ffc",
   "metadata": {},
   "outputs": [
    {
     "name": "stdout",
     "output_type": "stream",
     "text": [
      "/Users/danorel/Workspace/Education/University/KMA/Research/aclarel\n"
     ]
    }
   ],
   "source": [
    "%cd .."
   ]
  },
  {
   "cell_type": "code",
   "execution_count": 2,
   "id": "39deedfb-bba0-4411-ba29-682770bd9115",
   "metadata": {},
   "outputs": [],
   "source": [
    "import functools\n",
    "import pathlib\n",
    "import os\n",
    "\n",
    "from tqdm import tqdm\n",
    "\n",
    "import environments.mountain_car.environment as mountain_car\n",
    "import environments.mountain_car.experiments as experiments"
   ]
  },
  {
   "cell_type": "markdown",
   "id": "2578746b-32c2-4d99-97c1-ddb34ac23df5",
   "metadata": {},
   "source": [
    "## Curriculum Learning: Setup"
   ]
  },
  {
   "cell_type": "markdown",
   "id": "83fe9e13-c218-4b3b-a556-4cadca967a73",
   "metadata": {},
   "source": [
    "### Data Frame"
   ]
  },
  {
   "cell_type": "code",
   "execution_count": 3,
   "id": "1da28ed2-c431-4eaf-8c1b-06379ed1223a",
   "metadata": {},
   "outputs": [],
   "source": [
    "import pandas as pd\n",
    "\n",
    "def data_frame_from_agent(agent):\n",
    "    df = pd.DataFrame(agent.measurements)\n",
    "    return df"
   ]
  },
  {
   "cell_type": "markdown",
   "id": "0177b7c8-d10a-4258-976e-b39bcf5e148b",
   "metadata": {},
   "source": [
    "## Reinforcement Learning: Experiments"
   ]
  },
  {
   "cell_type": "code",
   "execution_count": 4,
   "id": "0e36bc6a-1ea4-4cec-b410-2a53cee6dd20",
   "metadata": {},
   "outputs": [],
   "source": [
    "DATASETS_DIR = pathlib.Path(\"datasets\") / \"mountain_car\"\n",
    "DATASETS_DIR.mkdir(parents=True, exist_ok=True)"
   ]
  },
  {
   "cell_type": "code",
   "execution_count": 5,
   "id": "60ed4129-32d1-4d96-989d-23e76bd50d30",
   "metadata": {},
   "outputs": [],
   "source": [
    "COLUMNS = ['agent_name', 'evaluation', 'curriculum_name', 'aar', 'ses', 'learning_stability', 'mean_reward', 'std_reward', 'total_reward', 'success_rate']"
   ]
  },
  {
   "cell_type": "markdown",
   "id": "fad6e92a-49c0-4c9f-9ca9-2dfad2290c98",
   "metadata": {},
   "source": [
    "### DQN"
   ]
  },
  {
   "cell_type": "markdown",
   "id": "381359f6-ce78-48fc-b4b4-450891ecf863",
   "metadata": {},
   "source": [
    "#### Curriculum parameter: gravity"
   ]
  },
  {
   "cell_type": "code",
   "execution_count": 6,
   "id": "b29c9f1e-b0ac-4375-878f-4a6eff425452",
   "metadata": {
    "scrolled": true
   },
   "outputs": [
    {
     "name": "stdout",
     "output_type": "stream",
     "text": [
      "Device: cpu\n",
      "Autocast gradients: False\n"
     ]
    },
    {
     "name": "stderr",
     "output_type": "stream",
     "text": [
      "/Users/danorel/miniconda3/envs/aclarel_3.11.3/lib/python3.11/site-packages/torch/cuda/amp/grad_scaler.py:126: UserWarning: torch.cuda.amp.GradScaler is enabled, but CUDA is not available.  Disabling.\n",
      "  warnings.warn(\n",
      "/Users/danorel/miniconda3/envs/aclarel_3.11.3/lib/python3.11/site-packages/torch/cuda/amp/grad_scaler.py:126: UserWarning: torch.cuda.amp.GradScaler is enabled, but CUDA is not available.  Disabling.\n",
      "  warnings.warn(\n",
      "/Users/danorel/miniconda3/envs/aclarel_3.11.3/lib/python3.11/site-packages/torch/cuda/amp/grad_scaler.py:126: UserWarning: torch.cuda.amp.GradScaler is enabled, but CUDA is not available.  Disabling.\n",
      "  warnings.warn(\n",
      "/Users/danorel/miniconda3/envs/aclarel_3.11.3/lib/python3.11/site-packages/torch/cuda/amp/grad_scaler.py:126: UserWarning: torch.cuda.amp.GradScaler is enabled, but CUDA is not available.  Disabling.\n",
      "  warnings.warn(\n",
      "/Users/danorel/miniconda3/envs/aclarel_3.11.3/lib/python3.11/site-packages/torch/cuda/amp/grad_scaler.py:126: UserWarning: torch.cuda.amp.GradScaler is enabled, but CUDA is not available.  Disabling.\n",
      "  warnings.warn(\n",
      "/Users/danorel/miniconda3/envs/aclarel_3.11.3/lib/python3.11/site-packages/torch/cuda/amp/grad_scaler.py:126: UserWarning: torch.cuda.amp.GradScaler is enabled, but CUDA is not available.  Disabling.\n",
      "  warnings.warn(\n",
      "/Users/danorel/miniconda3/envs/aclarel_3.11.3/lib/python3.11/site-packages/torch/cuda/amp/grad_scaler.py:126: UserWarning: torch.cuda.amp.GradScaler is enabled, but CUDA is not available.  Disabling.\n",
      "  warnings.warn(\n",
      "/Users/danorel/miniconda3/envs/aclarel_3.11.3/lib/python3.11/site-packages/torch/cuda/amp/grad_scaler.py:126: UserWarning: torch.cuda.amp.GradScaler is enabled, but CUDA is not available.  Disabling.\n",
      "  warnings.warn(\n",
      "/Users/danorel/miniconda3/envs/aclarel_3.11.3/lib/python3.11/site-packages/torch/cuda/amp/grad_scaler.py:126: UserWarning: torch.cuda.amp.GradScaler is enabled, but CUDA is not available.  Disabling.\n",
      "  warnings.warn(\n",
      "/Users/danorel/miniconda3/envs/aclarel_3.11.3/lib/python3.11/site-packages/torch/cuda/amp/grad_scaler.py:126: UserWarning: torch.cuda.amp.GradScaler is enabled, but CUDA is not available.  Disabling.\n",
      "  warnings.warn(\n",
      "/Users/danorel/miniconda3/envs/aclarel_3.11.3/lib/python3.11/site-packages/torch/cuda/amp/grad_scaler.py:126: UserWarning: torch.cuda.amp.GradScaler is enabled, but CUDA is not available.  Disabling.\n",
      "  warnings.warn(\n"
     ]
    },
    {
     "name": "stdout",
     "output_type": "stream",
     "text": [
      "Device: cpu\n",
      "Autocast gradients: False\n",
      "Device: cpu\n",
      "Autocast gradients: False\n",
      "Device: cpu\n",
      "Autocast gradients: False\n",
      "Device: cpu\n",
      "Autocast gradients: False\n",
      "Device: cpu\n",
      "Autocast gradients: False\n",
      "Device: cpu\n",
      "Autocast gradients: False\n",
      "Device: cpu\n",
      "Autocast gradients: False\n",
      "Device: cpu\n",
      "Autocast gradients: False\n",
      "Device: cpu\n",
      "Autocast gradients: False\n",
      "Device: cpu\n",
      "Autocast gradients: False\n"
     ]
    },
    {
     "name": "stderr",
     "output_type": "stream",
     "text": [
      "  0%|                                                                                                                   | 0/11 [00:00<?, ?it/s]"
     ]
    },
    {
     "name": "stdout",
     "output_type": "stream",
     "text": [
      "Training of 'dqn' via CL method 'transfer-learning' has started\n"
     ]
    },
    {
     "name": "stderr",
     "output_type": "stream",
     "text": [
      "\n",
      "  0%|                                                                                                                  | 0/101 [00:00<?, ?it/s]\u001b[A/Users/danorel/miniconda3/envs/aclarel_3.11.3/lib/python3.11/site-packages/gym/utils/passive_env_checker.py:233: DeprecationWarning: `np.bool8` is a deprecated alias for `np.bool_`.  (Deprecated NumPy 1.24)\n",
      "  if not isinstance(terminated, (bool, np.bool8)):\n",
      "/Users/danorel/Workspace/Education/University/KMA/Research/aclarel/environments/mountain_car/rl_methods/dqn.py:109: UserWarning: Creating a tensor from a list of numpy.ndarrays is extremely slow. Please consider converting the list to a single numpy.ndarray with numpy.array() before converting to a tensor. (Triggered internally at /Users/runner/work/pytorch/pytorch/pytorch/torch/csrc/utils/tensor_new.cpp:278.)\n",
      "  state_batch = torch.tensor(states, dtype=torch.float32, device=self.device)\n",
      "/Users/danorel/Workspace/Education/University/KMA/Research/aclarel/environments/mountain_car/rl_methods/__init__.py:64: FutureWarning: The behavior of DataFrame concatenation with empty or all-NA entries is deprecated. In a future version, this will no longer exclude empty or all-NA columns when determining the result dtypes. To retain the old behavior, exclude the relevant entries before the concat operation.\n",
      "  self.measurements = pd.concat([self.measurements, measurement], ignore_index=True)\n",
      "\n",
      "  1%|█                                                                                                         | 1/101 [00:14<24:12, 14.52s/it]\u001b[A"
     ]
    },
    {
     "name": "stdout",
     "output_type": "stream",
     "text": [
      "Evaluation 0 (Epsilon=0.91998):\n",
      "\tTraining:\n",
      " \t\tGravity: 0.00025\n",
      " \t\tStability: 485.45\n",
      "\tEvalution:\n",
      " \t\tAAR: -173.952\n",
      " \t\tSES: 1.0\n",
      " \t\tMean Reward: -1000.0\n",
      " \t\tStd Reward: 0.0\n"
     ]
    },
    {
     "name": "stderr",
     "output_type": "stream",
     "text": [
      "\n",
      "  2%|██                                                                                                        | 2/101 [00:30<25:50, 15.66s/it]\u001b[A\n",
      "  3%|███▏                                                                                                      | 3/101 [00:48<27:11, 16.65s/it]\u001b[A\n",
      "  4%|████▏                                                                                                     | 4/101 [01:06<27:18, 16.89s/it]\u001b[A\n",
      "  5%|█████▏                                                                                                    | 5/101 [01:23<27:05, 16.93s/it]\u001b[A\n",
      "  6%|██████▎                                                                                                   | 6/101 [01:40<27:04, 17.10s/it]\u001b[A\n",
      "  7%|███████▎                                                                                                  | 7/101 [01:57<26:55, 17.19s/it]\u001b[A\n",
      "  8%|████████▍                                                                                                 | 8/101 [02:15<26:43, 17.24s/it]\u001b[A\n",
      "  9%|█████████▍                                                                                                | 9/101 [02:32<26:22, 17.20s/it]\u001b[A\n",
      " 10%|██████████▍                                                                                              | 10/101 [02:50<26:20, 17.37s/it]\u001b[A\n",
      " 11%|███████████▍                                                                                             | 11/101 [03:07<26:07, 17.41s/it]\u001b[A"
     ]
    },
    {
     "name": "stdout",
     "output_type": "stream",
     "text": [
      "Evaluation 10 (Epsilon=0.34111):\n",
      "\tTraining:\n",
      " \t\tGravity: 0.000709\n",
      " \t\tStability: 110.545\n",
      "\tEvalution:\n",
      " \t\tAAR: -52.233\n",
      " \t\tSES: 1.0\n",
      " \t\tMean Reward: -1000.0\n",
      " \t\tStd Reward: 0.0\n"
     ]
    },
    {
     "name": "stderr",
     "output_type": "stream",
     "text": [
      "\n",
      " 12%|████████████▍                                                                                            | 12/101 [03:25<25:54, 17.46s/it]\u001b[A\n",
      " 13%|█████████████▌                                                                                           | 13/101 [03:42<25:40, 17.50s/it]\u001b[A\n",
      " 14%|██████████████▌                                                                                          | 14/101 [04:00<25:41, 17.72s/it]\u001b[A\n",
      " 15%|███████████████▌                                                                                         | 15/101 [04:18<25:18, 17.66s/it]\u001b[A\n",
      " 16%|████████████████▋                                                                                        | 16/101 [04:39<26:17, 18.56s/it]\u001b[A\n",
      " 17%|█████████████████▋                                                                                       | 17/101 [04:58<26:15, 18.75s/it]\u001b[A\n",
      " 18%|██████████████████▋                                                                                      | 18/101 [05:16<25:39, 18.54s/it]\u001b[A\n",
      " 19%|███████████████████▊                                                                                     | 19/101 [05:34<24:57, 18.26s/it]\u001b[A\n",
      " 20%|████████████████████▊                                                                                    | 20/101 [05:51<24:17, 17.99s/it]\u001b[A\n",
      " 21%|█████████████████████▊                                                                                   | 21/101 [06:08<23:44, 17.80s/it]\u001b[A"
     ]
    },
    {
     "name": "stdout",
     "output_type": "stream",
     "text": [
      "Evaluation 20 (Epsilon=0.12548):\n",
      "\tTraining:\n",
      " \t\tGravity: 0.001168\n",
      " \t\tStability: 111.395\n",
      "\tEvalution:\n",
      " \t\tAAR: -38.268\n",
      " \t\tSES: 1.0\n",
      " \t\tMean Reward: -1000.0\n",
      " \t\tStd Reward: 0.0\n"
     ]
    },
    {
     "name": "stderr",
     "output_type": "stream",
     "text": [
      "\n",
      " 22%|██████████████████████▊                                                                                  | 22/101 [06:26<23:22, 17.75s/it]\u001b[A\n",
      " 23%|███████████████████████▉                                                                                 | 23/101 [06:44<23:16, 17.90s/it]\u001b[A\n",
      " 24%|████████████████████████▉                                                                                | 24/101 [07:02<22:59, 17.92s/it]\u001b[A\n",
      " 25%|█████████████████████████▉                                                                               | 25/101 [07:20<22:43, 17.94s/it]\u001b[A\n",
      " 26%|███████████████████████████                                                                              | 26/101 [07:38<22:25, 17.94s/it]\u001b[A\n",
      " 27%|████████████████████████████                                                                             | 27/101 [07:58<22:54, 18.57s/it]\u001b[A\n",
      " 28%|█████████████████████████████                                                                            | 28/101 [08:18<23:09, 19.03s/it]\u001b[A\n",
      " 29%|██████████████████████████████▏                                                                          | 29/101 [08:38<23:01, 19.19s/it]\u001b[A\n",
      " 30%|███████████████████████████████▏                                                                         | 30/101 [08:57<22:44, 19.22s/it]\u001b[A\n",
      " 31%|████████████████████████████████▏                                                                        | 31/101 [09:16<22:19, 19.13s/it]\u001b[A"
     ]
    },
    {
     "name": "stdout",
     "output_type": "stream",
     "text": [
      "Evaluation 30 (Epsilon=0.04616):\n",
      "\tTraining:\n",
      " \t\tGravity: 0.001628\n",
      " \t\tStability: 257.432\n",
      "\tEvalution:\n",
      " \t\tAAR: -29.902\n",
      " \t\tSES: 1.0\n",
      " \t\tMean Reward: -1000.0\n",
      " \t\tStd Reward: 0.0\n"
     ]
    },
    {
     "name": "stderr",
     "output_type": "stream",
     "text": [
      "\n",
      " 32%|█████████████████████████████████▎                                                                       | 32/101 [09:37<22:46, 19.81s/it]\u001b[A\n",
      " 33%|██████████████████████████████████▎                                                                      | 33/101 [09:58<22:34, 19.92s/it]\u001b[A\n",
      " 34%|███████████████████████████████████▎                                                                     | 34/101 [10:17<21:57, 19.66s/it]\u001b[A\n",
      " 35%|████████████████████████████████████▍                                                                    | 35/101 [10:35<21:05, 19.17s/it]\u001b[A\n",
      " 36%|█████████████████████████████████████▍                                                                   | 36/101 [10:57<21:43, 20.05s/it]\u001b[A\n",
      " 37%|██████████████████████████████████████▍                                                                  | 37/101 [11:16<21:15, 19.93s/it]\u001b[A\n",
      " 38%|███████████████████████████████████████▌                                                                 | 38/101 [11:36<20:59, 19.99s/it]\u001b[A\n",
      " 39%|████████████████████████████████████████▌                                                                | 39/101 [11:56<20:31, 19.86s/it]\u001b[A\n",
      " 40%|█████████████████████████████████████████▌                                                               | 40/101 [12:15<19:56, 19.62s/it]\u001b[A\n",
      " 41%|██████████████████████████████████████████▌                                                              | 41/101 [12:34<19:25, 19.43s/it]\u001b[A"
     ]
    },
    {
     "name": "stdout",
     "output_type": "stream",
     "text": [
      "Evaluation 40 (Epsilon=0.01698):\n",
      "\tTraining:\n",
      " \t\tGravity: 0.002087\n",
      " \t\tStability: 216.453\n",
      "\tEvalution:\n",
      " \t\tAAR: -21.762\n",
      " \t\tSES: 1.0\n",
      " \t\tMean Reward: -1000.0\n",
      " \t\tStd Reward: 0.0\n"
     ]
    },
    {
     "name": "stderr",
     "output_type": "stream",
     "text": [
      "\n",
      " 42%|███████████████████████████████████████████▋                                                             | 42/101 [12:52<18:38, 18.96s/it]\u001b[A\n",
      " 43%|████████████████████████████████████████████▋                                                            | 43/101 [13:09<17:52, 18.49s/it]\u001b[A\n",
      " 44%|█████████████████████████████████████████████▋                                                           | 44/101 [13:27<17:17, 18.19s/it]\u001b[A\n",
      " 45%|██████████████████████████████████████████████▊                                                          | 45/101 [13:47<17:34, 18.83s/it]\u001b[A\n",
      " 46%|███████████████████████████████████████████████▊                                                         | 46/101 [14:07<17:28, 19.06s/it]\u001b[A\n",
      " 47%|████████████████████████████████████████████████▊                                                        | 47/101 [14:27<17:29, 19.44s/it]\u001b[A\n",
      " 48%|█████████████████████████████████████████████████▉                                                       | 48/101 [14:51<18:16, 20.69s/it]\u001b[A\n",
      " 49%|██████████████████████████████████████████████████▉                                                      | 49/101 [15:09<17:20, 20.01s/it]\u001b[A\n",
      " 50%|███████████████████████████████████████████████████▉                                                     | 50/101 [15:28<16:43, 19.68s/it]\u001b[A\n",
      " 50%|█████████████████████████████████████████████████████                                                    | 51/101 [15:47<16:13, 19.47s/it]\u001b[A"
     ]
    },
    {
     "name": "stdout",
     "output_type": "stream",
     "text": [
      "Evaluation 50 (Epsilon=0.01):\n",
      "\tTraining:\n",
      " \t\tGravity: 0.0025\n",
      " \t\tStability: 342.788\n",
      "\tEvalution:\n",
      " \t\tAAR: -19.323\n",
      " \t\tSES: 1.0\n",
      " \t\tMean Reward: -1000.0\n",
      " \t\tStd Reward: 0.0\n"
     ]
    },
    {
     "name": "stderr",
     "output_type": "stream",
     "text": [
      "\n",
      " 51%|██████████████████████████████████████████████████████                                                   | 52/101 [16:06<15:50, 19.40s/it]\u001b[A\n",
      " 52%|███████████████████████████████████████████████████████                                                  | 53/101 [16:24<15:10, 18.96s/it]\u001b[A\n",
      " 53%|████████████████████████████████████████████████████████▏                                                | 54/101 [16:42<14:38, 18.69s/it]\u001b[A\n",
      " 54%|█████████████████████████████████████████████████████████▏                                               | 55/101 [16:59<13:56, 18.19s/it]\u001b[A\n",
      " 55%|██████████████████████████████████████████████████████████▏                                              | 56/101 [17:17<13:30, 18.01s/it]\u001b[A\n",
      " 56%|███████████████████████████████████████████████████████████▎                                             | 57/101 [17:35<13:15, 18.09s/it]\u001b[A\n",
      " 57%|████████████████████████████████████████████████████████████▎                                            | 58/101 [17:53<12:53, 17.98s/it]\u001b[A\n",
      " 58%|█████████████████████████████████████████████████████████████▎                                           | 59/101 [18:10<12:29, 17.84s/it]\u001b[A\n",
      " 59%|██████████████████████████████████████████████████████████████▍                                          | 60/101 [18:27<12:00, 17.58s/it]\u001b[A\n",
      " 60%|███████████████████████████████████████████████████████████████▍                                         | 61/101 [18:45<11:44, 17.61s/it]\u001b[A"
     ]
    },
    {
     "name": "stdout",
     "output_type": "stream",
     "text": [
      "Evaluation 60 (Epsilon=0.01):\n",
      "\tTraining:\n",
      " \t\tGravity: 0.0025\n",
      " \t\tStability: 163.168\n",
      "\tEvalution:\n",
      " \t\tAAR: -19.159\n",
      " \t\tSES: 1.0\n",
      " \t\tMean Reward: -1000.0\n",
      " \t\tStd Reward: 0.0\n"
     ]
    },
    {
     "name": "stderr",
     "output_type": "stream",
     "text": [
      "\n",
      " 61%|████████████████████████████████████████████████████████████████▍                                        | 62/101 [19:03<11:32, 17.76s/it]\u001b[A\n",
      " 62%|█████████████████████████████████████████████████████████████████▍                                       | 63/101 [19:21<11:13, 17.73s/it]\u001b[A\n",
      " 63%|██████████████████████████████████████████████████████████████████▌                                      | 64/101 [19:43<11:45, 19.08s/it]\u001b[A\n",
      " 64%|███████████████████████████████████████████████████████████████████▌                                     | 65/101 [20:01<11:19, 18.87s/it]\u001b[A\n",
      " 65%|████████████████████████████████████████████████████████████████████▌                                    | 66/101 [20:20<10:57, 18.78s/it]\u001b[A\n",
      " 66%|█████████████████████████████████████████████████████████████████████▋                                   | 67/101 [20:40<10:46, 19.01s/it]\u001b[A\n",
      " 67%|██████████████████████████████████████████████████████████████████████▋                                  | 68/101 [20:58<10:26, 19.00s/it]\u001b[A\n",
      " 68%|███████████████████████████████████████████████████████████████████████▋                                 | 69/101 [21:17<10:01, 18.80s/it]\u001b[A\n",
      " 69%|████████████████████████████████████████████████████████████████████████▊                                | 70/101 [21:35<09:37, 18.64s/it]\u001b[A\n",
      " 70%|█████████████████████████████████████████████████████████████████████████▊                               | 71/101 [21:54<09:22, 18.75s/it]\u001b[A"
     ]
    },
    {
     "name": "stdout",
     "output_type": "stream",
     "text": [
      "Evaluation 70 (Epsilon=0.01):\n",
      "\tTraining:\n",
      " \t\tGravity: 0.0025\n",
      " \t\tStability: 192.696\n",
      "\tEvalution:\n",
      " \t\tAAR: -20.859\n",
      " \t\tSES: 1.0\n",
      " \t\tMean Reward: -1000.0\n",
      " \t\tStd Reward: 0.0\n"
     ]
    },
    {
     "name": "stderr",
     "output_type": "stream",
     "text": [
      "\n",
      " 71%|██████████████████████████████████████████████████████████████████████████▊                              | 72/101 [22:12<08:57, 18.54s/it]\u001b[A\n",
      " 72%|███████████████████████████████████████████████████████████████████████████▉                             | 73/101 [22:30<08:31, 18.27s/it]\u001b[A\n",
      " 73%|████████████████████████████████████████████████████████████████████████████▉                            | 74/101 [22:47<08:07, 18.04s/it]\u001b[A\n",
      " 74%|█████████████████████████████████████████████████████████████████████████████▉                           | 75/101 [23:05<07:46, 17.95s/it]\u001b[A\n",
      " 75%|███████████████████████████████████████████████████████████████████████████████                          | 76/101 [23:23<07:30, 18.02s/it]\u001b[A\n",
      " 76%|████████████████████████████████████████████████████████████████████████████████                         | 77/101 [23:40<07:06, 17.79s/it]\u001b[A\n",
      " 77%|█████████████████████████████████████████████████████████████████████████████████                        | 78/101 [23:58<06:48, 17.74s/it]\u001b[A\n",
      " 78%|██████████████████████████████████████████████████████████████████████████████████▏                      | 79/101 [24:16<06:30, 17.73s/it]\u001b[A\n",
      " 79%|███████████████████████████████████████████████████████████████████████████████████▏                     | 80/101 [24:33<06:11, 17.69s/it]\u001b[A\n",
      " 80%|████████████████████████████████████████████████████████████████████████████████████▏                    | 81/101 [24:51<05:52, 17.61s/it]\u001b[A"
     ]
    },
    {
     "name": "stdout",
     "output_type": "stream",
     "text": [
      "Evaluation 80 (Epsilon=0.01):\n",
      "\tTraining:\n",
      " \t\tGravity: 0.0025\n",
      " \t\tStability: 370.395\n",
      "\tEvalution:\n",
      " \t\tAAR: -18.167\n",
      " \t\tSES: 1.0\n",
      " \t\tMean Reward: -1000.0\n",
      " \t\tStd Reward: 0.0\n"
     ]
    },
    {
     "name": "stderr",
     "output_type": "stream",
     "text": [
      "\n",
      " 81%|█████████████████████████████████████████████████████████████████████████████████████▏                   | 82/101 [25:09<05:35, 17.65s/it]\u001b[A\n",
      " 82%|██████████████████████████████████████████████████████████████████████████████████████▎                  | 83/101 [25:26<05:17, 17.64s/it]\u001b[A\n",
      " 83%|███████████████████████████████████████████████████████████████████████████████████████▎                 | 84/101 [25:44<05:00, 17.66s/it]\u001b[A\n",
      " 84%|████████████████████████████████████████████████████████████████████████████████████████▎                | 85/101 [26:02<04:42, 17.68s/it]\u001b[A\n",
      " 85%|█████████████████████████████████████████████████████████████████████████████████████████▍               | 86/101 [26:19<04:24, 17.60s/it]\u001b[A\n",
      " 86%|██████████████████████████████████████████████████████████████████████████████████████████▍              | 87/101 [26:37<04:07, 17.68s/it]\u001b[A\n",
      " 87%|███████████████████████████████████████████████████████████████████████████████████████████▍             | 88/101 [26:55<03:50, 17.76s/it]\u001b[A\n",
      " 88%|████████████████████████████████████████████████████████████████████████████████████████████▌            | 89/101 [27:12<03:32, 17.67s/it]\u001b[A\n",
      " 89%|█████████████████████████████████████████████████████████████████████████████████████████████▌           | 90/101 [27:30<03:15, 17.78s/it]\u001b[A\n",
      " 90%|██████████████████████████████████████████████████████████████████████████████████████████████▌          | 91/101 [27:47<02:53, 17.36s/it]\u001b[A"
     ]
    },
    {
     "name": "stdout",
     "output_type": "stream",
     "text": [
      "Evaluation 90 (Epsilon=0.01):\n",
      "\tTraining:\n",
      " \t\tGravity: 0.0025\n",
      " \t\tStability: 240.356\n",
      "\tEvalution:\n",
      " \t\tAAR: -17.675\n",
      " \t\tSES: 1.0\n",
      " \t\tMean Reward: -1000.0\n",
      " \t\tStd Reward: 0.0\n"
     ]
    },
    {
     "name": "stderr",
     "output_type": "stream",
     "text": [
      "\n",
      " 91%|███████████████████████████████████████████████████████████████████████████████████████████████▋         | 92/101 [28:02<02:31, 16.87s/it]\u001b[A\n",
      " 92%|████████████████████████████████████████████████████████████████████████████████████████████████▋        | 93/101 [28:18<02:11, 16.40s/it]\u001b[A\n",
      " 93%|█████████████████████████████████████████████████████████████████████████████████████████████████▋       | 94/101 [28:33<01:52, 16.08s/it]\u001b[A\n",
      " 94%|██████████████████████████████████████████████████████████████████████████████████████████████████▊      | 95/101 [28:48<01:34, 15.71s/it]\u001b[A\n",
      " 95%|███████████████████████████████████████████████████████████████████████████████████████████████████▊     | 96/101 [29:03<01:17, 15.52s/it]\u001b[A\n",
      " 96%|████████████████████████████████████████████████████████████████████████████████████████████████████▊    | 97/101 [29:18<01:00, 15.24s/it]\u001b[A\n",
      " 97%|█████████████████████████████████████████████████████████████████████████████████████████████████████▉   | 98/101 [29:33<00:45, 15.27s/it]\u001b[A\n",
      " 98%|██████████████████████████████████████████████████████████████████████████████████████████████████████▉  | 99/101 [29:48<00:30, 15.30s/it]\u001b[A\n",
      " 99%|██████████████████████████████████████████████████████████████████████████████████████████████████████▉ | 100/101 [30:05<00:15, 15.64s/it]\u001b[A\n",
      "100%|████████████████████████████████████████████████████████████████████████████████████████████████████████| 101/101 [30:21<00:00, 18.03s/it]\u001b[A"
     ]
    },
    {
     "name": "stdout",
     "output_type": "stream",
     "text": [
      "Evaluation 100 (Epsilon=0.01):\n",
      "\tTraining:\n",
      " \t\tGravity: 0.0025\n",
      " \t\tStability: 265.331\n",
      "\tEvalution:\n",
      " \t\tAAR: -19.429\n",
      " \t\tSES: 1.0\n",
      " \t\tMean Reward: -1000.0\n",
      " \t\tStd Reward: 0.0\n"
     ]
    },
    {
     "name": "stderr",
     "output_type": "stream",
     "text": [
      "\n",
      "  9%|█████████▎                                                                                             | 1/11 [30:22<5:03:42, 1822.24s/it]"
     ]
    },
    {
     "name": "stdout",
     "output_type": "stream",
     "text": [
      "Training of 'dqn' via CL method 'teacher-learning' has started\n"
     ]
    },
    {
     "name": "stderr",
     "output_type": "stream",
     "text": [
      "\n",
      "  0%|                                                                                                                  | 0/101 [00:00<?, ?it/s]\u001b[A\n",
      "  1%|█                                                                                                         | 1/101 [00:14<24:20, 14.61s/it]\u001b[A"
     ]
    },
    {
     "name": "stdout",
     "output_type": "stream",
     "text": [
      "Evaluation 0 (Epsilon=0.9071):\n",
      "\tTraining:\n",
      " \t\tGravity: 0.002433\n",
      " \t\tStability: 273.605\n",
      "\tEvalution:\n",
      " \t\tAAR: -20.151\n",
      " \t\tSES: 1.0\n",
      " \t\tMean Reward: -1000.0\n",
      " \t\tStd Reward: 0.0\n"
     ]
    },
    {
     "name": "stderr",
     "output_type": "stream",
     "text": [
      "\n",
      "  2%|██                                                                                                        | 2/101 [00:29<24:39, 14.95s/it]\u001b[A\n",
      "  3%|███▏                                                                                                      | 3/101 [00:45<24:58, 15.29s/it]\u001b[A\n",
      "  4%|████▏                                                                                                     | 4/101 [01:01<25:14, 15.61s/it]\u001b[A\n",
      "  5%|█████▏                                                                                                    | 5/101 [01:17<25:23, 15.87s/it]\u001b[A\n",
      "  6%|██████▎                                                                                                   | 6/101 [01:34<25:17, 15.97s/it]\u001b[A\n",
      "  7%|███████▎                                                                                                  | 7/101 [01:51<25:42, 16.41s/it]\u001b[A\n",
      "  8%|████████▍                                                                                                 | 8/101 [02:11<27:22, 17.66s/it]\u001b[A\n",
      "  9%|█████████▍                                                                                                | 9/101 [02:31<28:03, 18.30s/it]\u001b[A\n",
      " 10%|██████████▍                                                                                              | 10/101 [02:50<28:02, 18.49s/it]\u001b[A\n",
      " 11%|███████████▍                                                                                             | 11/101 [03:16<31:06, 20.74s/it]\u001b[A"
     ]
    },
    {
     "name": "stdout",
     "output_type": "stream",
     "text": [
      "Evaluation 10 (Epsilon=0.33369):\n",
      "\tTraining:\n",
      " \t\tGravity: 0.001758\n",
      " \t\tStability: 209.499\n",
      "\tEvalution:\n",
      " \t\tAAR: -24.688\n",
      " \t\tSES: 1.0\n",
      " \t\tMean Reward: -1000.0\n",
      " \t\tStd Reward: 0.0\n"
     ]
    },
    {
     "name": "stderr",
     "output_type": "stream",
     "text": [
      "\n",
      " 12%|████████████▍                                                                                            | 12/101 [03:35<30:08, 20.32s/it]\u001b[A\n",
      " 13%|█████████████▌                                                                                           | 13/101 [03:55<29:28, 20.09s/it]\u001b[A\n",
      " 14%|██████████████▌                                                                                          | 14/101 [04:14<28:35, 19.72s/it]\u001b[A\n",
      " 15%|███████████████▌                                                                                         | 15/101 [04:32<27:44, 19.35s/it]\u001b[A\n",
      " 16%|████████████████▋                                                                                        | 16/101 [04:51<27:11, 19.19s/it]\u001b[A\n",
      " 17%|█████████████████▋                                                                                       | 17/101 [05:10<26:46, 19.13s/it]\u001b[A\n",
      " 18%|██████████████████▋                                                                                      | 18/101 [05:29<26:36, 19.24s/it]\u001b[A\n",
      " 19%|███████████████████▊                                                                                     | 19/101 [05:49<26:25, 19.33s/it]\u001b[A\n",
      " 20%|████████████████████▊                                                                                    | 20/101 [06:07<25:46, 19.09s/it]\u001b[A\n",
      " 21%|█████████████████████▊                                                                                   | 21/101 [06:28<26:01, 19.52s/it]\u001b[A"
     ]
    },
    {
     "name": "stdout",
     "output_type": "stream",
     "text": [
      "Evaluation 20 (Epsilon=0.12275):\n",
      "\tTraining:\n",
      " \t\tGravity: 0.001083\n",
      " \t\tStability: 98.851\n",
      "\tEvalution:\n",
      " \t\tAAR: -31.765\n",
      " \t\tSES: 1.0\n",
      " \t\tMean Reward: -1000.0\n",
      " \t\tStd Reward: 0.0\n"
     ]
    },
    {
     "name": "stderr",
     "output_type": "stream",
     "text": [
      "\n",
      " 22%|██████████████████████▊                                                                                  | 22/101 [06:47<25:31, 19.39s/it]\u001b[A\n",
      " 23%|███████████████████████▉                                                                                 | 23/101 [07:06<25:02, 19.26s/it]\u001b[A\n",
      " 24%|████████████████████████▉                                                                                | 24/101 [07:26<24:57, 19.44s/it]\u001b[A\n",
      " 25%|█████████████████████████▉                                                                               | 25/101 [07:46<24:57, 19.70s/it]\u001b[A\n",
      " 26%|███████████████████████████                                                                              | 26/101 [08:13<27:08, 21.71s/it]\u001b[A\n",
      " 27%|████████████████████████████                                                                             | 27/101 [08:35<26:58, 21.87s/it]\u001b[A\n",
      " 28%|█████████████████████████████                                                                            | 28/101 [08:55<26:10, 21.51s/it]\u001b[A\n",
      " 29%|██████████████████████████████▏                                                                          | 29/101 [09:15<25:03, 20.89s/it]\u001b[A\n",
      " 30%|███████████████████████████████▏                                                                         | 30/101 [09:35<24:17, 20.53s/it]\u001b[A\n",
      " 31%|████████████████████████████████▏                                                                        | 31/101 [09:54<23:28, 20.12s/it]\u001b[A"
     ]
    },
    {
     "name": "stdout",
     "output_type": "stream",
     "text": [
      "Evaluation 30 (Epsilon=0.04515):\n",
      "\tTraining:\n",
      " \t\tGravity: 0.000408\n",
      " \t\tStability: 48.934\n",
      "\tEvalution:\n",
      " \t\tAAR: -59.879\n",
      " \t\tSES: 1.0\n",
      " \t\tMean Reward: -1000.0\n",
      " \t\tStd Reward: 0.0\n"
     ]
    },
    {
     "name": "stderr",
     "output_type": "stream",
     "text": [
      "\n",
      " 32%|█████████████████████████████████▎                                                                       | 32/101 [10:13<22:52, 19.90s/it]\u001b[A\n",
      " 33%|██████████████████████████████████▎                                                                      | 33/101 [10:32<22:15, 19.63s/it]\u001b[A\n",
      " 34%|███████████████████████████████████▎                                                                     | 34/101 [10:52<21:59, 19.70s/it]\u001b[A\n",
      " 35%|████████████████████████████████████▍                                                                    | 35/101 [11:11<21:32, 19.59s/it]\u001b[A\n",
      " 36%|█████████████████████████████████████▍                                                                   | 36/101 [11:30<20:56, 19.34s/it]\u001b[A\n",
      " 37%|██████████████████████████████████████▍                                                                  | 37/101 [11:49<20:34, 19.29s/it]\u001b[A\n",
      " 38%|███████████████████████████████████████▌                                                                 | 38/101 [12:07<19:41, 18.76s/it]\u001b[A\n",
      " 39%|████████████████████████████████████████▌                                                                | 39/101 [12:22<18:23, 17.79s/it]\u001b[A\n",
      " 40%|█████████████████████████████████████████▌                                                               | 40/101 [12:37<17:13, 16.95s/it]\u001b[A\n",
      " 41%|██████████████████████████████████████████▌                                                              | 41/101 [12:54<16:56, 16.94s/it]\u001b[A"
     ]
    },
    {
     "name": "stdout",
     "output_type": "stream",
     "text": [
      "Evaluation 40 (Epsilon=0.01752):\n",
      "\tTraining:\n",
      " \t\tGravity: 2.4e-05\n",
      " \t\tStability: 248.904\n",
      "\tEvalution:\n",
      " \t\tAAR: -1183.408\n",
      " \t\tSES: 1.0\n",
      " \t\tMean Reward: -1000.0\n",
      " \t\tStd Reward: 0.0\n"
     ]
    },
    {
     "name": "stderr",
     "output_type": "stream",
     "text": [
      "\n",
      " 42%|███████████████████████████████████████████▋                                                             | 42/101 [13:12<16:57, 17.25s/it]\u001b[A\n",
      " 43%|████████████████████████████████████████████▋                                                            | 43/101 [13:29<16:24, 16.98s/it]\u001b[A\n",
      " 44%|█████████████████████████████████████████████▋                                                           | 44/101 [13:47<16:38, 17.51s/it]\u001b[A\n",
      " 45%|██████████████████████████████████████████████▊                                                          | 45/101 [14:04<16:14, 17.41s/it]\u001b[A\n",
      " 46%|███████████████████████████████████████████████▊                                                         | 46/101 [14:22<15:54, 17.36s/it]\u001b[A\n",
      " 47%|████████████████████████████████████████████████▊                                                        | 47/101 [14:40<15:49, 17.59s/it]\u001b[A\n",
      " 48%|█████████████████████████████████████████████████▉                                                       | 48/101 [14:57<15:31, 17.57s/it]\u001b[A\n",
      " 49%|██████████████████████████████████████████████████▉                                                      | 49/101 [15:19<16:20, 18.86s/it]\u001b[A\n",
      " 50%|███████████████████████████████████████████████████▉                                                     | 50/101 [15:41<16:53, 19.86s/it]\u001b[A\n",
      " 50%|█████████████████████████████████████████████████████                                                    | 51/101 [16:02<16:40, 20.00s/it]\u001b[A"
     ]
    },
    {
     "name": "stdout",
     "output_type": "stream",
     "text": [
      "Evaluation 50 (Epsilon=0.01):\n",
      "\tTraining:\n",
      " \t\tGravity: 8e-05\n",
      " \t\tStability: 18.676\n",
      "\tEvalution:\n",
      " \t\tAAR: -779.752\n",
      " \t\tSES: 1.0\n",
      " \t\tMean Reward: -1000.0\n",
      " \t\tStd Reward: 0.0\n"
     ]
    },
    {
     "name": "stderr",
     "output_type": "stream",
     "text": [
      "\n",
      " 51%|██████████████████████████████████████████████████████                                                   | 52/101 [16:21<16:09, 19.78s/it]\u001b[A\n",
      " 52%|███████████████████████████████████████████████████████                                                  | 53/101 [16:40<15:43, 19.65s/it]\u001b[A\n",
      " 53%|████████████████████████████████████████████████████████▏                                                | 54/101 [16:57<14:36, 18.66s/it]\u001b[A\n",
      " 54%|█████████████████████████████████████████████████████████▏                                               | 55/101 [17:15<14:09, 18.47s/it]\u001b[A\n",
      " 55%|██████████████████████████████████████████████████████████▏                                              | 56/101 [17:34<13:59, 18.66s/it]\u001b[A\n",
      " 56%|███████████████████████████████████████████████████████████▎                                             | 57/101 [17:55<14:08, 19.29s/it]\u001b[A\n",
      " 57%|████████████████████████████████████████████████████████████▎                                            | 58/101 [18:15<14:08, 19.72s/it]\u001b[A\n",
      " 58%|█████████████████████████████████████████████████████████████▎                                           | 59/101 [18:34<13:31, 19.33s/it]\u001b[A\n",
      " 59%|██████████████████████████████████████████████████████████████▍                                          | 60/101 [18:52<12:58, 18.98s/it]\u001b[A\n",
      " 60%|███████████████████████████████████████████████████████████████▍                                         | 61/101 [19:12<12:46, 19.16s/it]\u001b[A"
     ]
    },
    {
     "name": "stdout",
     "output_type": "stream",
     "text": [
      "Evaluation 60 (Epsilon=0.01):\n",
      "\tTraining:\n",
      " \t\tGravity: 6e-05\n",
      " \t\tStability: 32.813\n",
      "\tEvalution:\n",
      " \t\tAAR: -447.189\n",
      " \t\tSES: 1.0\n",
      " \t\tMean Reward: -1000.0\n",
      " \t\tStd Reward: 0.0\n"
     ]
    },
    {
     "name": "stderr",
     "output_type": "stream",
     "text": [
      "\n",
      " 61%|████████████████████████████████████████████████████████████████▍                                        | 62/101 [19:33<12:54, 19.86s/it]\u001b[A\n",
      " 62%|█████████████████████████████████████████████████████████████████▍                                       | 63/101 [19:49<11:55, 18.83s/it]\u001b[A\n",
      " 63%|██████████████████████████████████████████████████████████████████▌                                      | 64/101 [20:09<11:46, 19.10s/it]\u001b[A\n",
      " 64%|███████████████████████████████████████████████████████████████████▌                                     | 65/101 [20:31<11:59, 19.97s/it]\u001b[A\n",
      " 65%|████████████████████████████████████████████████████████████████████▌                                    | 66/101 [20:51<11:37, 19.93s/it]\u001b[A\n",
      " 66%|█████████████████████████████████████████████████████████████████████▋                                   | 67/101 [21:11<11:18, 19.96s/it]\u001b[A\n",
      " 67%|██████████████████████████████████████████████████████████████████████▋                                  | 68/101 [21:29<10:37, 19.32s/it]\u001b[A\n",
      " 68%|███████████████████████████████████████████████████████████████████████▋                                 | 69/101 [21:47<10:09, 19.03s/it]\u001b[A\n",
      " 69%|████████████████████████████████████████████████████████████████████████▊                                | 70/101 [22:05<09:37, 18.64s/it]\u001b[A\n",
      " 70%|█████████████████████████████████████████████████████████████████████████▊                               | 71/101 [22:21<08:53, 17.79s/it]\u001b[A"
     ]
    },
    {
     "name": "stdout",
     "output_type": "stream",
     "text": [
      "Evaluation 70 (Epsilon=0.01):\n",
      "\tTraining:\n",
      " \t\tGravity: 5.3e-05\n",
      " \t\tStability: 253.682\n",
      "\tEvalution:\n",
      " \t\tAAR: -3812.567\n",
      " \t\tSES: 1.0\n",
      " \t\tMean Reward: -1000.0\n",
      " \t\tStd Reward: 0.0\n"
     ]
    },
    {
     "name": "stderr",
     "output_type": "stream",
     "text": [
      "\n",
      " 71%|██████████████████████████████████████████████████████████████████████████▊                              | 72/101 [22:39<08:36, 17.79s/it]\u001b[A\n",
      " 72%|███████████████████████████████████████████████████████████████████████████▉                             | 73/101 [22:55<08:10, 17.54s/it]\u001b[A\n",
      " 73%|████████████████████████████████████████████████████████████████████████████▉                            | 74/101 [23:13<07:49, 17.40s/it]\u001b[A\n",
      " 74%|█████████████████████████████████████████████████████████████████████████████▉                           | 75/101 [23:31<07:36, 17.57s/it]\u001b[A\n",
      " 75%|███████████████████████████████████████████████████████████████████████████████                          | 76/101 [23:49<07:22, 17.70s/it]\u001b[A\n",
      " 76%|████████████████████████████████████████████████████████████████████████████████                         | 77/101 [24:06<07:04, 17.70s/it]\u001b[A\n",
      " 77%|█████████████████████████████████████████████████████████████████████████████████                        | 78/101 [24:22<06:34, 17.16s/it]\u001b[A\n",
      " 78%|██████████████████████████████████████████████████████████████████████████████████▏                      | 79/101 [24:39<06:17, 17.14s/it]\u001b[A\n",
      " 79%|███████████████████████████████████████████████████████████████████████████████████▏                     | 80/101 [24:58<06:12, 17.72s/it]\u001b[A\n",
      " 80%|████████████████████████████████████████████████████████████████████████████████████▏                    | 81/101 [25:14<05:44, 17.25s/it]\u001b[A"
     ]
    },
    {
     "name": "stdout",
     "output_type": "stream",
     "text": [
      "Evaluation 80 (Epsilon=0.01):\n",
      "\tTraining:\n",
      " \t\tGravity: 9e-06\n",
      " \t\tStability: 218.404\n",
      "\tEvalution:\n",
      " \t\tAAR: -526.678\n",
      " \t\tSES: 1.0\n",
      " \t\tMean Reward: -1000.0\n",
      " \t\tStd Reward: 0.0\n"
     ]
    },
    {
     "name": "stderr",
     "output_type": "stream",
     "text": [
      "\n",
      " 81%|█████████████████████████████████████████████████████████████████████████████████████▏                   | 82/101 [25:32<05:31, 17.44s/it]\u001b[A\n",
      " 82%|██████████████████████████████████████████████████████████████████████████████████████▎                  | 83/101 [25:50<05:16, 17.56s/it]\u001b[A\n",
      " 83%|███████████████████████████████████████████████████████████████████████████████████████▎                 | 84/101 [26:07<04:57, 17.48s/it]\u001b[A\n",
      " 84%|████████████████████████████████████████████████████████████████████████████████████████▎                | 85/101 [26:28<04:52, 18.30s/it]\u001b[A\n",
      " 85%|█████████████████████████████████████████████████████████████████████████████████████████▍               | 86/101 [26:45<04:29, 17.95s/it]\u001b[A\n",
      " 86%|██████████████████████████████████████████████████████████████████████████████████████████▍              | 87/101 [27:06<04:23, 18.84s/it]\u001b[A\n",
      " 87%|███████████████████████████████████████████████████████████████████████████████████████████▍             | 88/101 [27:26<04:08, 19.14s/it]\u001b[A\n",
      " 88%|████████████████████████████████████████████████████████████████████████████████████████████▌            | 89/101 [27:42<03:40, 18.36s/it]\u001b[A\n",
      " 89%|█████████████████████████████████████████████████████████████████████████████████████████████▌           | 90/101 [28:01<03:24, 18.62s/it]\u001b[A\n",
      " 90%|██████████████████████████████████████████████████████████████████████████████████████████████▌          | 91/101 [28:20<03:07, 18.76s/it]\u001b[A"
     ]
    },
    {
     "name": "stdout",
     "output_type": "stream",
     "text": [
      "Evaluation 90 (Epsilon=0.01):\n",
      "\tTraining:\n",
      " \t\tGravity: 2.7e-05\n",
      " \t\tStability: 37.689\n",
      "\tEvalution:\n",
      " \t\tAAR: -435.139\n",
      " \t\tSES: 1.0\n",
      " \t\tMean Reward: -1000.0\n",
      " \t\tStd Reward: 0.0\n"
     ]
    },
    {
     "name": "stderr",
     "output_type": "stream",
     "text": [
      "\n",
      " 91%|███████████████████████████████████████████████████████████████████████████████████████████████▋         | 92/101 [28:38<02:45, 18.40s/it]\u001b[A\n",
      " 92%|████████████████████████████████████████████████████████████████████████████████████████████████▋        | 93/101 [28:57<02:29, 18.73s/it]\u001b[A\n",
      " 93%|█████████████████████████████████████████████████████████████████████████████████████████████████▋       | 94/101 [29:17<02:11, 18.84s/it]\u001b[A\n",
      " 94%|██████████████████████████████████████████████████████████████████████████████████████████████████▊      | 95/101 [29:36<01:53, 18.89s/it]\u001b[A\n",
      " 95%|███████████████████████████████████████████████████████████████████████████████████████████████████▊     | 96/101 [29:54<01:34, 18.88s/it]\u001b[A\n",
      " 96%|████████████████████████████████████████████████████████████████████████████████████████████████████▊    | 97/101 [30:14<01:16, 19.01s/it]\u001b[A\n",
      " 97%|█████████████████████████████████████████████████████████████████████████████████████████████████████▉   | 98/101 [30:37<01:01, 20.41s/it]\u001b[A\n",
      " 98%|██████████████████████████████████████████████████████████████████████████████████████████████████████▉  | 99/101 [31:00<00:42, 21.00s/it]\u001b[A\n",
      " 99%|██████████████████████████████████████████████████████████████████████████████████████████████████████▉ | 100/101 [31:18<00:20, 20.14s/it]\u001b[A\n",
      "100%|████████████████████████████████████████████████████████████████████████████████████████████████████████| 101/101 [31:40<00:00, 18.82s/it]\u001b[A"
     ]
    },
    {
     "name": "stdout",
     "output_type": "stream",
     "text": [
      "Evaluation 100 (Epsilon=0.01):\n",
      "\tTraining:\n",
      " \t\tGravity: 4.8e-05\n",
      " \t\tStability: 39.171\n",
      "\tEvalution:\n",
      " \t\tAAR: -1312.541\n",
      " \t\tSES: 1.0\n",
      " \t\tMean Reward: -1000.0\n",
      " \t\tStd Reward: 0.0\n"
     ]
    },
    {
     "name": "stderr",
     "output_type": "stream",
     "text": [
      "\n",
      " 18%|██████████████████▎                                                                                  | 2/11 [1:02:04<4:40:22, 1869.14s/it]"
     ]
    },
    {
     "name": "stdout",
     "output_type": "stream",
     "text": [
      "Training of 'dqn' via CL method 'one-pass' has started\n"
     ]
    },
    {
     "name": "stderr",
     "output_type": "stream",
     "text": [
      "\n",
      "  0%|                                                                                                                  | 0/101 [00:00<?, ?it/s]\u001b[A\n",
      "  1%|█                                                                                                         | 1/101 [00:10<18:13, 10.93s/it]\u001b[A"
     ]
    },
    {
     "name": "stdout",
     "output_type": "stream",
     "text": [
      "Evaluation 0 (Epsilon=0.94771):\n",
      "\tTraining:\n",
      " \t\tGravity: 0.00025\n",
      " \t\tStability: 442.879\n",
      "\tEvalution:\n",
      " \t\tAAR: -165.28\n",
      " \t\tSES: 0.999\n",
      " \t\tMean Reward: -1000.0\n",
      " \t\tStd Reward: 0.0\n"
     ]
    },
    {
     "name": "stderr",
     "output_type": "stream",
     "text": [
      "\n",
      "  2%|██                                                                                                        | 2/101 [00:27<23:13, 14.07s/it]\u001b[A\n",
      "  3%|███▏                                                                                                      | 3/101 [00:46<26:49, 16.43s/it]\u001b[A\n",
      "  4%|████▏                                                                                                     | 4/101 [01:05<28:08, 17.41s/it]\u001b[A\n",
      "  5%|█████▏                                                                                                    | 5/101 [01:23<28:25, 17.77s/it]\u001b[A\n",
      "  6%|██████▎                                                                                                   | 6/101 [01:41<28:20, 17.90s/it]\u001b[A\n",
      "  7%|███████▎                                                                                                  | 7/101 [02:02<29:31, 18.85s/it]\u001b[A\n",
      "  8%|████████▍                                                                                                 | 8/101 [02:20<28:45, 18.56s/it]\u001b[A\n",
      "  9%|█████████▍                                                                                                | 9/101 [02:37<27:51, 18.17s/it]\u001b[A\n",
      " 10%|██████████▍                                                                                              | 10/101 [02:57<28:17, 18.66s/it]\u001b[A\n",
      " 11%|███████████▍                                                                                             | 11/101 [03:17<28:37, 19.08s/it]\u001b[A"
     ]
    },
    {
     "name": "stdout",
     "output_type": "stream",
     "text": [
      "Evaluation 10 (Epsilon=0.3802):\n",
      "\tTraining:\n",
      " \t\tGravity: 0.000477\n",
      " \t\tStability: 101.8\n",
      "\tEvalution:\n",
      " \t\tAAR: -84.78\n",
      " \t\tSES: 1.0\n",
      " \t\tMean Reward: -1000.0\n",
      " \t\tStd Reward: 0.0\n"
     ]
    },
    {
     "name": "stderr",
     "output_type": "stream",
     "text": [
      "\n",
      " 12%|████████████▍                                                                                            | 12/101 [03:37<28:32, 19.24s/it]\u001b[A\n",
      " 13%|█████████████▌                                                                                           | 13/101 [03:57<28:46, 19.62s/it]\u001b[A\n",
      " 14%|██████████████▌                                                                                          | 14/101 [04:18<28:50, 19.89s/it]\u001b[A\n",
      " 15%|███████████████▌                                                                                         | 15/101 [04:37<28:14, 19.71s/it]\u001b[A\n",
      " 16%|████████████████▋                                                                                        | 16/101 [04:58<28:29, 20.11s/it]\u001b[A\n",
      " 17%|█████████████████▋                                                                                       | 17/101 [05:18<27:59, 19.99s/it]\u001b[A\n",
      " 18%|██████████████████▋                                                                                      | 18/101 [05:38<27:49, 20.12s/it]\u001b[A\n",
      " 19%|███████████████████▊                                                                                     | 19/101 [05:59<27:35, 20.19s/it]\u001b[A\n",
      " 20%|████████████████████▊                                                                                    | 20/101 [06:20<27:41, 20.51s/it]\u001b[A\n",
      " 21%|█████████████████████▊                                                                                   | 21/101 [06:41<27:33, 20.66s/it]\u001b[A"
     ]
    },
    {
     "name": "stdout",
     "output_type": "stream",
     "text": [
      "Evaluation 20 (Epsilon=0.13986):\n",
      "\tTraining:\n",
      " \t\tGravity: 0.000705\n",
      " \t\tStability: 122.197\n",
      "\tEvalution:\n",
      " \t\tAAR: -50.943\n",
      " \t\tSES: 1.0\n",
      " \t\tMean Reward: -1000.0\n",
      " \t\tStd Reward: 0.0\n"
     ]
    },
    {
     "name": "stderr",
     "output_type": "stream",
     "text": [
      "\n",
      " 22%|██████████████████████▊                                                                                  | 22/101 [07:03<27:43, 21.06s/it]\u001b[A\n",
      " 23%|███████████████████████▉                                                                                 | 23/101 [07:27<28:38, 22.03s/it]\u001b[A\n",
      " 24%|████████████████████████▉                                                                                | 24/101 [07:49<28:01, 21.84s/it]\u001b[A\n",
      " 25%|█████████████████████████▉                                                                               | 25/101 [08:09<26:56, 21.26s/it]\u001b[A\n",
      " 26%|███████████████████████████                                                                              | 26/101 [08:31<27:02, 21.63s/it]\u001b[A\n",
      " 27%|████████████████████████████                                                                             | 27/101 [08:53<26:54, 21.82s/it]\u001b[A\n",
      " 28%|█████████████████████████████                                                                            | 28/101 [09:15<26:28, 21.77s/it]\u001b[A\n",
      " 29%|██████████████████████████████▏                                                                          | 29/101 [09:37<26:10, 21.81s/it]\u001b[A\n",
      " 30%|███████████████████████████████▏                                                                         | 30/101 [09:57<25:16, 21.36s/it]\u001b[A\n",
      " 31%|████████████████████████████████▏                                                                        | 31/101 [10:18<24:45, 21.23s/it]\u001b[A"
     ]
    },
    {
     "name": "stdout",
     "output_type": "stream",
     "text": [
      "Evaluation 30 (Epsilon=0.05145):\n",
      "\tTraining:\n",
      " \t\tGravity: 0.000932\n",
      " \t\tStability: 91.413\n",
      "\tEvalution:\n",
      " \t\tAAR: -35.384\n",
      " \t\tSES: 1.0\n",
      " \t\tMean Reward: -1000.0\n",
      " \t\tStd Reward: 0.0\n"
     ]
    },
    {
     "name": "stderr",
     "output_type": "stream",
     "text": [
      "\n",
      " 32%|█████████████████████████████████▎                                                                       | 32/101 [10:40<24:35, 21.39s/it]\u001b[A\n",
      " 33%|██████████████████████████████████▎                                                                      | 33/101 [11:02<24:39, 21.76s/it]\u001b[A\n",
      " 34%|███████████████████████████████████▎                                                                     | 34/101 [11:22<23:34, 21.11s/it]\u001b[A\n",
      " 35%|████████████████████████████████████▍                                                                    | 35/101 [11:42<22:55, 20.84s/it]\u001b[A\n",
      " 36%|█████████████████████████████████████▍                                                                   | 36/101 [12:04<22:45, 21.00s/it]\u001b[A\n",
      " 37%|██████████████████████████████████████▍                                                                  | 37/101 [12:26<22:50, 21.42s/it]\u001b[A\n",
      " 38%|███████████████████████████████████████▌                                                                 | 38/101 [12:48<22:33, 21.49s/it]\u001b[A\n",
      " 39%|████████████████████████████████████████▌                                                                | 39/101 [13:10<22:21, 21.63s/it]\u001b[A\n",
      " 40%|█████████████████████████████████████████▌                                                               | 40/101 [13:30<21:39, 21.31s/it]\u001b[A\n",
      " 41%|██████████████████████████████████████████▌                                                              | 41/101 [13:52<21:26, 21.45s/it]\u001b[A"
     ]
    },
    {
     "name": "stdout",
     "output_type": "stream",
     "text": [
      "Evaluation 40 (Epsilon=0.01893):\n",
      "\tTraining:\n",
      " \t\tGravity: 0.001159\n",
      " \t\tStability: 98.163\n",
      "\tEvalution:\n",
      " \t\tAAR: -25.535\n",
      " \t\tSES: 1.0\n",
      " \t\tMean Reward: -1000.0\n",
      " \t\tStd Reward: 0.0\n"
     ]
    },
    {
     "name": "stderr",
     "output_type": "stream",
     "text": [
      "\n",
      " 42%|███████████████████████████████████████████▋                                                             | 42/101 [14:14<21:09, 21.52s/it]\u001b[A\n",
      " 43%|████████████████████████████████████████████▋                                                            | 43/101 [14:34<20:26, 21.15s/it]\u001b[A\n",
      " 44%|█████████████████████████████████████████████▋                                                           | 44/101 [14:53<19:37, 20.66s/it]\u001b[A\n",
      " 45%|██████████████████████████████████████████████▊                                                          | 45/101 [15:12<18:48, 20.15s/it]\u001b[A\n",
      " 46%|███████████████████████████████████████████████▊                                                         | 46/101 [15:33<18:37, 20.31s/it]\u001b[A\n",
      " 47%|████████████████████████████████████████████████▊                                                        | 47/101 [15:53<18:12, 20.24s/it]\u001b[A\n",
      " 48%|█████████████████████████████████████████████████▉                                                       | 48/101 [16:13<17:47, 20.14s/it]\u001b[A\n",
      " 49%|██████████████████████████████████████████████████▉                                                      | 49/101 [16:33<17:23, 20.08s/it]\u001b[A\n",
      " 50%|███████████████████████████████████████████████████▉                                                     | 50/101 [16:52<16:48, 19.77s/it]\u001b[A\n",
      " 50%|█████████████████████████████████████████████████████                                                    | 51/101 [17:12<16:36, 19.93s/it]\u001b[A"
     ]
    },
    {
     "name": "stdout",
     "output_type": "stream",
     "text": [
      "Evaluation 50 (Epsilon=0.01):\n",
      "\tTraining:\n",
      " \t\tGravity: 0.001386\n",
      " \t\tStability: 102.234\n",
      "\tEvalution:\n",
      " \t\tAAR: -21.12\n",
      " \t\tSES: 1.0\n",
      " \t\tMean Reward: -1000.0\n",
      " \t\tStd Reward: 0.0\n"
     ]
    },
    {
     "name": "stderr",
     "output_type": "stream",
     "text": [
      "\n",
      " 51%|██████████████████████████████████████████████████████                                                   | 52/101 [17:33<16:28, 20.17s/it]\u001b[A\n",
      " 52%|███████████████████████████████████████████████████████                                                  | 53/101 [17:53<16:09, 20.20s/it]\u001b[A\n",
      " 53%|████████████████████████████████████████████████████████▏                                                | 54/101 [18:13<15:42, 20.06s/it]\u001b[A\n",
      " 54%|█████████████████████████████████████████████████████████▏                                               | 55/101 [18:32<15:12, 19.85s/it]\u001b[A\n",
      " 55%|██████████████████████████████████████████████████████████▏                                              | 56/101 [18:53<15:04, 20.10s/it]\u001b[A\n",
      " 56%|███████████████████████████████████████████████████████████▎                                             | 57/101 [19:14<14:57, 20.40s/it]\u001b[A\n",
      " 57%|████████████████████████████████████████████████████████████▎                                            | 58/101 [19:35<14:40, 20.49s/it]\u001b[A\n",
      " 58%|█████████████████████████████████████████████████████████████▎                                           | 59/101 [19:55<14:10, 20.24s/it]\u001b[A\n",
      " 59%|██████████████████████████████████████████████████████████████▍                                          | 60/101 [20:14<13:45, 20.13s/it]\u001b[A\n",
      " 60%|███████████████████████████████████████████████████████████████▍                                         | 61/101 [20:36<13:38, 20.45s/it]\u001b[A"
     ]
    },
    {
     "name": "stdout",
     "output_type": "stream",
     "text": [
      "Evaluation 60 (Epsilon=0.01):\n",
      "\tTraining:\n",
      " \t\tGravity: 0.001614\n",
      " \t\tStability: 163.69\n",
      "\tEvalution:\n",
      " \t\tAAR: -20.117\n",
      " \t\tSES: 1.0\n",
      " \t\tMean Reward: -1000.0\n",
      " \t\tStd Reward: 0.0\n"
     ]
    },
    {
     "name": "stderr",
     "output_type": "stream",
     "text": [
      "\n",
      " 61%|████████████████████████████████████████████████████████████████▍                                        | 62/101 [20:56<13:14, 20.38s/it]\u001b[A\n",
      " 62%|█████████████████████████████████████████████████████████████████▍                                       | 63/101 [21:17<13:03, 20.62s/it]\u001b[A\n",
      " 63%|██████████████████████████████████████████████████████████████████▌                                      | 64/101 [21:38<12:43, 20.64s/it]\u001b[A\n",
      " 64%|███████████████████████████████████████████████████████████████████▌                                     | 65/101 [21:59<12:30, 20.83s/it]\u001b[A\n",
      " 65%|████████████████████████████████████████████████████████████████████▌                                    | 66/101 [22:20<12:05, 20.74s/it]\u001b[A\n",
      " 66%|█████████████████████████████████████████████████████████████████████▋                                   | 67/101 [22:41<11:54, 21.01s/it]\u001b[A\n",
      " 67%|██████████████████████████████████████████████████████████████████████▋                                  | 68/101 [23:08<12:32, 22.81s/it]\u001b[A\n",
      " 68%|███████████████████████████████████████████████████████████████████████▋                                 | 69/101 [23:29<11:50, 22.21s/it]\u001b[A\n",
      " 69%|████████████████████████████████████████████████████████████████████████▊                                | 70/101 [23:49<11:03, 21.40s/it]\u001b[A\n",
      " 70%|█████████████████████████████████████████████████████████████████████████▊                               | 71/101 [24:09<10:32, 21.10s/it]\u001b[A"
     ]
    },
    {
     "name": "stdout",
     "output_type": "stream",
     "text": [
      "Evaluation 70 (Epsilon=0.01):\n",
      "\tTraining:\n",
      " \t\tGravity: 0.001841\n",
      " \t\tStability: 179.394\n",
      "\tEvalution:\n",
      " \t\tAAR: -17.456\n",
      " \t\tSES: 1.0\n",
      " \t\tMean Reward: -1000.0\n",
      " \t\tStd Reward: 0.0\n"
     ]
    },
    {
     "name": "stderr",
     "output_type": "stream",
     "text": [
      "\n",
      " 71%|██████████████████████████████████████████████████████████████████████████▊                              | 72/101 [24:36<11:00, 22.79s/it]\u001b[A\n",
      " 72%|███████████████████████████████████████████████████████████████████████████▉                             | 73/101 [24:58<10:35, 22.69s/it]\u001b[A\n",
      " 73%|████████████████████████████████████████████████████████████████████████████▉                            | 74/101 [25:21<10:10, 22.60s/it]\u001b[A\n",
      " 74%|█████████████████████████████████████████████████████████████████████████████▉                           | 75/101 [25:42<09:38, 22.24s/it]\u001b[A\n",
      " 75%|███████████████████████████████████████████████████████████████████████████████                          | 76/101 [26:04<09:12, 22.08s/it]\u001b[A\n",
      " 76%|████████████████████████████████████████████████████████████████████████████████                         | 77/101 [26:26<08:53, 22.22s/it]\u001b[A\n",
      " 77%|█████████████████████████████████████████████████████████████████████████████████                        | 78/101 [26:48<08:27, 22.05s/it]\u001b[A\n",
      " 78%|██████████████████████████████████████████████████████████████████████████████████▏                      | 79/101 [27:09<07:56, 21.65s/it]\u001b[A\n",
      " 79%|███████████████████████████████████████████████████████████████████████████████████▏                     | 80/101 [27:30<07:35, 21.67s/it]\u001b[A\n",
      " 80%|████████████████████████████████████████████████████████████████████████████████████▏                    | 81/101 [27:52<07:11, 21.57s/it]\u001b[A"
     ]
    },
    {
     "name": "stdout",
     "output_type": "stream",
     "text": [
      "Evaluation 80 (Epsilon=0.01):\n",
      "\tTraining:\n",
      " \t\tGravity: 0.002068\n",
      " \t\tStability: 74.194\n",
      "\tEvalution:\n",
      " \t\tAAR: -13.85\n",
      " \t\tSES: 1.0\n",
      " \t\tMean Reward: -1000.0\n",
      " \t\tStd Reward: 0.0\n"
     ]
    },
    {
     "name": "stderr",
     "output_type": "stream",
     "text": [
      "\n",
      " 81%|█████████████████████████████████████████████████████████████████████████████████████▏                   | 82/101 [28:13<06:49, 21.54s/it]\u001b[A\n",
      " 82%|██████████████████████████████████████████████████████████████████████████████████████▎                  | 83/101 [28:35<06:27, 21.53s/it]\u001b[A\n",
      " 83%|███████████████████████████████████████████████████████████████████████████████████████▎                 | 84/101 [28:55<05:58, 21.10s/it]\u001b[A\n",
      " 84%|████████████████████████████████████████████████████████████████████████████████████████▎                | 85/101 [29:15<05:36, 21.02s/it]\u001b[A\n",
      " 85%|█████████████████████████████████████████████████████████████████████████████████████████▍               | 86/101 [29:37<05:17, 21.14s/it]\u001b[A\n",
      " 86%|██████████████████████████████████████████████████████████████████████████████████████████▍              | 87/101 [29:59<04:59, 21.42s/it]\u001b[A\n",
      " 87%|███████████████████████████████████████████████████████████████████████████████████████████▍             | 88/101 [30:25<04:55, 22.75s/it]\u001b[A\n",
      " 88%|████████████████████████████████████████████████████████████████████████████████████████████▌            | 89/101 [30:46<04:27, 22.28s/it]\u001b[A\n",
      " 89%|█████████████████████████████████████████████████████████████████████████████████████████████▌           | 90/101 [31:09<04:06, 22.42s/it]\u001b[A\n",
      " 90%|██████████████████████████████████████████████████████████████████████████████████████████████▌          | 91/101 [31:30<03:39, 21.97s/it]\u001b[A"
     ]
    },
    {
     "name": "stdout",
     "output_type": "stream",
     "text": [
      "Evaluation 90 (Epsilon=0.01):\n",
      "\tTraining:\n",
      " \t\tGravity: 0.002295\n",
      " \t\tStability: 175.416\n",
      "\tEvalution:\n",
      " \t\tAAR: -14.286\n",
      " \t\tSES: 1.0\n",
      " \t\tMean Reward: -1000.0\n",
      " \t\tStd Reward: 0.0\n"
     ]
    },
    {
     "name": "stderr",
     "output_type": "stream",
     "text": [
      "\n",
      " 91%|███████████████████████████████████████████████████████████████████████████████████████████████▋         | 92/101 [31:52<03:17, 21.94s/it]\u001b[A\n",
      " 92%|████████████████████████████████████████████████████████████████████████████████████████████████▋        | 93/101 [32:14<02:57, 22.21s/it]\u001b[A\n",
      " 93%|█████████████████████████████████████████████████████████████████████████████████████████████████▋       | 94/101 [32:36<02:34, 22.06s/it]\u001b[A\n",
      " 94%|██████████████████████████████████████████████████████████████████████████████████████████████████▊      | 95/101 [33:00<02:15, 22.54s/it]\u001b[A\n",
      " 95%|███████████████████████████████████████████████████████████████████████████████████████████████████▊     | 96/101 [33:22<01:52, 22.54s/it]\u001b[A\n",
      " 96%|████████████████████████████████████████████████████████████████████████████████████████████████████▊    | 97/101 [33:46<01:31, 22.84s/it]\u001b[A\n",
      " 97%|█████████████████████████████████████████████████████████████████████████████████████████████████████▉   | 98/101 [34:11<01:10, 23.51s/it]\u001b[A\n",
      " 98%|██████████████████████████████████████████████████████████████████████████████████████████████████████▉  | 99/101 [34:36<00:47, 23.96s/it]\u001b[A\n",
      " 99%|██████████████████████████████████████████████████████████████████████████████████████████████████████▉ | 100/101 [34:59<00:23, 23.56s/it]\u001b[A\n",
      "100%|████████████████████████████████████████████████████████████████████████████████████████████████████████| 101/101 [35:21<00:00, 21.01s/it]\u001b[A"
     ]
    },
    {
     "name": "stdout",
     "output_type": "stream",
     "text": [
      "Evaluation 100 (Epsilon=0.01):\n",
      "\tTraining:\n",
      " \t\tGravity: 0.0025\n",
      " \t\tStability: 231.442\n",
      "\tEvalution:\n",
      " \t\tAAR: -12.594\n",
      " \t\tSES: 1.0\n",
      " \t\tMean Reward: -1000.0\n",
      " \t\tStd Reward: 0.0\n"
     ]
    },
    {
     "name": "stderr",
     "output_type": "stream",
     "text": [
      "\n",
      " 27%|███████████████████████████▌                                                                         | 3/11 [1:37:27<4:24:41, 1985.22s/it]"
     ]
    },
    {
     "name": "stdout",
     "output_type": "stream",
     "text": [
      "Training of 'dqn' via CL method 'root-p' has started\n"
     ]
    },
    {
     "name": "stderr",
     "output_type": "stream",
     "text": [
      "\n",
      "  0%|                                                                                                                  | 0/101 [00:00<?, ?it/s]\u001b[A\n",
      "  1%|█                                                                                                         | 1/101 [00:21<36:16, 21.77s/it]\u001b[A"
     ]
    },
    {
     "name": "stdout",
     "output_type": "stream",
     "text": [
      "Evaluation 0 (Epsilon=0.9071):\n",
      "\tTraining:\n",
      " \t\tGravity: 0.001375\n",
      " \t\tStability: 311.878\n",
      "\tEvalution:\n",
      " \t\tAAR: -33.808\n",
      " \t\tSES: 1.0\n",
      " \t\tMean Reward: -1000.0\n",
      " \t\tStd Reward: 0.0\n"
     ]
    },
    {
     "name": "stderr",
     "output_type": "stream",
     "text": [
      "\n",
      "  2%|██                                                                                                        | 2/101 [00:46<38:52, 23.56s/it]\u001b[A\n",
      "  3%|███▏                                                                                                      | 3/101 [01:18<44:54, 27.49s/it]\u001b[A\n",
      "  4%|████▏                                                                                                     | 4/101 [01:58<52:12, 32.29s/it]\u001b[A\n",
      "  5%|█████▏                                                                                                    | 5/101 [02:36<54:49, 34.27s/it]\u001b[A\n",
      "  6%|██████▎                                                                                                   | 6/101 [03:12<55:16, 34.92s/it]\u001b[A\n",
      "  7%|███████▎                                                                                                  | 7/101 [03:41<51:46, 33.05s/it]\u001b[A\n",
      "  8%|████████▍                                                                                                 | 8/101 [04:06<47:26, 30.60s/it]\u001b[A\n",
      "  9%|█████████▍                                                                                                | 9/101 [04:34<45:34, 29.73s/it]\u001b[A\n",
      " 10%|██████████▍                                                                                              | 10/101 [05:05<45:42, 30.14s/it]\u001b[A\n",
      " 11%|███████████▍                                                                                             | 11/101 [05:34<44:42, 29.80s/it]\u001b[A"
     ]
    },
    {
     "name": "stdout",
     "output_type": "stream",
     "text": [
      "Evaluation 10 (Epsilon=0.33369):\n",
      "\tTraining:\n",
      " \t\tGravity: 0.001375\n",
      " \t\tStability: 235.095\n",
      "\tEvalution:\n",
      " \t\tAAR: -37.802\n",
      " \t\tSES: 1.0\n",
      " \t\tMean Reward: -1000.0\n",
      " \t\tStd Reward: 0.0\n"
     ]
    },
    {
     "name": "stderr",
     "output_type": "stream",
     "text": [
      "\n",
      " 12%|████████████▍                                                                                            | 12/101 [06:03<43:51, 29.57s/it]\u001b[A\n",
      " 13%|█████████████▌                                                                                           | 13/101 [06:33<43:30, 29.67s/it]\u001b[A\n",
      " 14%|██████████████▌                                                                                          | 14/101 [07:01<42:23, 29.24s/it]\u001b[A\n",
      " 15%|███████████████▌                                                                                         | 15/101 [07:30<41:28, 28.93s/it]\u001b[A\n",
      " 16%|████████████████▋                                                                                        | 16/101 [08:01<41:48, 29.52s/it]\u001b[A\n",
      " 17%|█████████████████▋                                                                                       | 17/101 [08:38<44:30, 31.79s/it]\u001b[A\n",
      " 18%|██████████████████▋                                                                                      | 18/101 [09:14<45:56, 33.21s/it]\u001b[A\n",
      " 19%|███████████████████▊                                                                                     | 19/101 [09:43<43:24, 31.76s/it]\u001b[A\n",
      " 20%|████████████████████▊                                                                                    | 20/101 [10:12<41:48, 30.97s/it]\u001b[A\n",
      " 21%|█████████████████████▊                                                                                   | 21/101 [10:42<41:12, 30.90s/it]\u001b[A"
     ]
    },
    {
     "name": "stdout",
     "output_type": "stream",
     "text": [
      "Evaluation 20 (Epsilon=0.12275):\n",
      "\tTraining:\n",
      " \t\tGravity: 0.001375\n",
      " \t\tStability: 157.523\n",
      "\tEvalution:\n",
      " \t\tAAR: -33.159\n",
      " \t\tSES: 1.0\n",
      " \t\tMean Reward: -1000.0\n",
      " \t\tStd Reward: 0.0\n"
     ]
    },
    {
     "name": "stderr",
     "output_type": "stream",
     "text": [
      "\n",
      " 22%|██████████████████████▊                                                                                  | 22/101 [11:10<39:20, 29.88s/it]\u001b[A\n",
      " 23%|███████████████████████▉                                                                                 | 23/101 [11:40<38:55, 29.95s/it]\u001b[A\n",
      " 24%|████████████████████████▉                                                                                | 24/101 [12:13<39:45, 30.98s/it]\u001b[A\n",
      " 25%|█████████████████████████▉                                                                               | 25/101 [12:45<39:19, 31.05s/it]\u001b[A\n",
      " 26%|███████████████████████████                                                                              | 26/101 [13:15<38:31, 30.82s/it]\u001b[A\n",
      " 27%|████████████████████████████                                                                             | 27/101 [13:41<36:23, 29.50s/it]\u001b[A\n",
      " 28%|█████████████████████████████                                                                            | 28/101 [14:09<35:03, 28.82s/it]\u001b[A\n",
      " 29%|██████████████████████████████▏                                                                          | 29/101 [14:38<34:42, 28.92s/it]\u001b[A\n",
      " 30%|███████████████████████████████▏                                                                         | 30/101 [15:04<33:15, 28.10s/it]\u001b[A\n",
      " 31%|████████████████████████████████▏                                                                        | 31/101 [15:30<32:03, 27.48s/it]\u001b[A"
     ]
    },
    {
     "name": "stdout",
     "output_type": "stream",
     "text": [
      "Evaluation 30 (Epsilon=0.04515):\n",
      "\tTraining:\n",
      " \t\tGravity: 0.001375\n",
      " \t\tStability: 124.758\n",
      "\tEvalution:\n",
      " \t\tAAR: -34.337\n",
      " \t\tSES: 1.0\n",
      " \t\tMean Reward: -1000.0\n",
      " \t\tStd Reward: 0.0\n"
     ]
    },
    {
     "name": "stderr",
     "output_type": "stream",
     "text": [
      "\n",
      " 32%|█████████████████████████████████▎                                                                       | 32/101 [16:02<33:14, 28.91s/it]\u001b[A\n",
      " 33%|██████████████████████████████████▎                                                                      | 33/101 [16:36<34:29, 30.44s/it]\u001b[A\n",
      " 34%|███████████████████████████████████▎                                                                     | 34/101 [17:02<32:29, 29.10s/it]\u001b[A\n",
      " 35%|████████████████████████████████████▍                                                                    | 35/101 [17:28<30:54, 28.10s/it]\u001b[A\n",
      " 36%|█████████████████████████████████████▍                                                                   | 36/101 [17:54<29:55, 27.62s/it]\u001b[A\n",
      " 37%|██████████████████████████████████████▍                                                                  | 37/101 [18:20<28:53, 27.08s/it]\u001b[A\n",
      " 38%|███████████████████████████████████████▌                                                                 | 38/101 [18:49<28:58, 27.60s/it]\u001b[A\n",
      " 39%|████████████████████████████████████████▌                                                                | 39/101 [19:27<31:34, 30.55s/it]\u001b[A\n",
      " 40%|█████████████████████████████████████████▌                                                               | 40/101 [20:01<32:06, 31.58s/it]\u001b[A\n",
      " 41%|██████████████████████████████████████████▌                                                              | 41/101 [20:33<31:51, 31.87s/it]\u001b[A"
     ]
    },
    {
     "name": "stdout",
     "output_type": "stream",
     "text": [
      "Evaluation 40 (Epsilon=0.01661):\n",
      "\tTraining:\n",
      " \t\tGravity: 0.001375\n",
      " \t\tStability: 49.947\n",
      "\tEvalution:\n",
      " \t\tAAR: -33.146\n",
      " \t\tSES: 1.0\n",
      " \t\tMean Reward: -1000.0\n",
      " \t\tStd Reward: 0.0\n"
     ]
    },
    {
     "name": "stderr",
     "output_type": "stream",
     "text": [
      "\n",
      " 42%|███████████████████████████████████████████▋                                                             | 42/101 [21:08<32:14, 32.79s/it]\u001b[A\n",
      " 43%|████████████████████████████████████████████▋                                                            | 43/101 [21:40<31:20, 32.43s/it]\u001b[A\n",
      " 44%|█████████████████████████████████████████████▋                                                           | 44/101 [22:15<31:43, 33.40s/it]\u001b[A\n",
      " 45%|██████████████████████████████████████████████▊                                                          | 45/101 [22:57<33:24, 35.79s/it]\u001b[A\n",
      " 46%|███████████████████████████████████████████████▊                                                         | 46/101 [23:34<33:12, 36.23s/it]\u001b[A\n",
      " 47%|████████████████████████████████████████████████▊                                                        | 47/101 [24:06<31:30, 35.01s/it]\u001b[A\n",
      " 48%|█████████████████████████████████████████████████▉                                                       | 48/101 [24:30<28:05, 31.80s/it]\u001b[A\n",
      " 49%|██████████████████████████████████████████████████▉                                                      | 49/101 [24:54<25:23, 29.30s/it]\u001b[A\n",
      " 50%|███████████████████████████████████████████████████▉                                                     | 50/101 [25:20<24:11, 28.45s/it]\u001b[A\n",
      " 50%|█████████████████████████████████████████████████████                                                    | 51/101 [25:52<24:35, 29.52s/it]\u001b[A"
     ]
    },
    {
     "name": "stdout",
     "output_type": "stream",
     "text": [
      "Evaluation 50 (Epsilon=0.01):\n",
      "\tTraining:\n",
      " \t\tGravity: 0.001375\n",
      " \t\tStability: 52.095\n",
      "\tEvalution:\n",
      " \t\tAAR: -34.033\n",
      " \t\tSES: 1.0\n",
      " \t\tMean Reward: -1000.0\n",
      " \t\tStd Reward: 0.0\n"
     ]
    },
    {
     "name": "stderr",
     "output_type": "stream",
     "text": [
      "\n",
      " 51%|██████████████████████████████████████████████████████                                                   | 52/101 [26:27<25:25, 31.13s/it]\u001b[A\n",
      " 52%|███████████████████████████████████████████████████████                                                  | 53/101 [27:00<25:24, 31.77s/it]\u001b[A\n",
      " 53%|████████████████████████████████████████████████████████▏                                                | 54/101 [27:35<25:31, 32.59s/it]\u001b[A\n",
      " 54%|█████████████████████████████████████████████████████████▏                                               | 55/101 [28:01<23:32, 30.71s/it]\u001b[A\n",
      " 55%|██████████████████████████████████████████████████████████▏                                              | 56/101 [28:27<21:59, 29.32s/it]\u001b[A\n",
      " 56%|███████████████████████████████████████████████████████████▎                                             | 57/101 [28:58<21:42, 29.61s/it]\u001b[A\n",
      " 57%|████████████████████████████████████████████████████████████▎                                            | 58/101 [29:23<20:13, 28.22s/it]\u001b[A\n",
      " 58%|█████████████████████████████████████████████████████████████▎                                           | 59/101 [29:51<19:48, 28.31s/it]\u001b[A\n",
      " 59%|██████████████████████████████████████████████████████████████▍                                          | 60/101 [30:16<18:36, 27.23s/it]\u001b[A\n",
      " 60%|███████████████████████████████████████████████████████████████▍                                         | 61/101 [30:39<17:17, 25.94s/it]\u001b[A"
     ]
    },
    {
     "name": "stdout",
     "output_type": "stream",
     "text": [
      "Evaluation 60 (Epsilon=0.01):\n",
      "\tTraining:\n",
      " \t\tGravity: 0.001375\n",
      " \t\tStability: 90.729\n",
      "\tEvalution:\n",
      " \t\tAAR: -32.986\n",
      " \t\tSES: 1.0\n",
      " \t\tMean Reward: -1000.0\n",
      " \t\tStd Reward: 0.0\n"
     ]
    },
    {
     "name": "stderr",
     "output_type": "stream",
     "text": [
      "\n",
      " 61%|████████████████████████████████████████████████████████████████▍                                        | 62/101 [31:02<16:22, 25.20s/it]\u001b[A\n",
      " 62%|█████████████████████████████████████████████████████████████████▍                                       | 63/101 [31:28<16:03, 25.36s/it]\u001b[A\n",
      " 63%|██████████████████████████████████████████████████████████████████▌                                      | 64/101 [32:04<17:37, 28.57s/it]\u001b[A\n",
      " 64%|███████████████████████████████████████████████████████████████████▌                                     | 65/101 [32:33<17:14, 28.74s/it]\u001b[A\n",
      " 65%|████████████████████████████████████████████████████████████████████▌                                    | 66/101 [33:00<16:28, 28.25s/it]\u001b[A\n",
      " 66%|█████████████████████████████████████████████████████████████████████▋                                   | 67/101 [33:30<16:18, 28.78s/it]\u001b[A\n",
      " 67%|██████████████████████████████████████████████████████████████████████▋                                  | 68/101 [33:58<15:40, 28.51s/it]\u001b[A\n",
      " 68%|███████████████████████████████████████████████████████████████████████▋                                 | 69/101 [34:26<15:04, 28.27s/it]\u001b[A\n",
      " 69%|████████████████████████████████████████████████████████████████████████▊                                | 70/101 [34:52<14:19, 27.72s/it]\u001b[A\n",
      " 70%|█████████████████████████████████████████████████████████████████████████▊                               | 71/101 [35:21<13:57, 27.92s/it]\u001b[A"
     ]
    },
    {
     "name": "stdout",
     "output_type": "stream",
     "text": [
      "Evaluation 70 (Epsilon=0.01):\n",
      "\tTraining:\n",
      " \t\tGravity: 0.001375\n",
      " \t\tStability: 51.264\n",
      "\tEvalution:\n",
      " \t\tAAR: -34.048\n",
      " \t\tSES: 1.0\n",
      " \t\tMean Reward: -1000.0\n",
      " \t\tStd Reward: 0.0\n"
     ]
    },
    {
     "name": "stderr",
     "output_type": "stream",
     "text": [
      "\n",
      " 71%|██████████████████████████████████████████████████████████████████████████▊                              | 72/101 [35:45<13:01, 26.96s/it]\u001b[A\n",
      " 72%|███████████████████████████████████████████████████████████████████████████▉                             | 73/101 [36:08<12:01, 25.78s/it]\u001b[A\n",
      " 73%|████████████████████████████████████████████████████████████████████████████▉                            | 74/101 [36:31<11:08, 24.76s/it]\u001b[A\n",
      " 74%|█████████████████████████████████████████████████████████████████████████████▉                           | 75/101 [36:54<10:32, 24.31s/it]\u001b[A\n",
      " 75%|███████████████████████████████████████████████████████████████████████████████                          | 76/101 [37:18<10:02, 24.09s/it]\u001b[A\n",
      " 76%|████████████████████████████████████████████████████████████████████████████████                         | 77/101 [37:41<09:33, 23.91s/it]\u001b[A\n",
      " 77%|█████████████████████████████████████████████████████████████████████████████████                        | 78/101 [38:05<09:09, 23.91s/it]\u001b[A\n",
      " 78%|██████████████████████████████████████████████████████████████████████████████████▏                      | 79/101 [38:27<08:35, 23.43s/it]\u001b[A\n",
      " 79%|███████████████████████████████████████████████████████████████████████████████████▏                     | 80/101 [38:51<08:16, 23.64s/it]\u001b[A\n",
      " 80%|████████████████████████████████████████████████████████████████████████████████████▏                    | 81/101 [39:15<07:54, 23.71s/it]\u001b[A"
     ]
    },
    {
     "name": "stdout",
     "output_type": "stream",
     "text": [
      "Evaluation 80 (Epsilon=0.01):\n",
      "\tTraining:\n",
      " \t\tGravity: 0.001375\n",
      " \t\tStability: 39.982\n",
      "\tEvalution:\n",
      " \t\tAAR: -34.212\n",
      " \t\tSES: 1.0\n",
      " \t\tMean Reward: -1000.0\n",
      " \t\tStd Reward: 0.0\n"
     ]
    },
    {
     "name": "stderr",
     "output_type": "stream",
     "text": [
      "\n",
      " 81%|█████████████████████████████████████████████████████████████████████████████████████▏                   | 82/101 [39:40<07:36, 24.04s/it]\u001b[A\n",
      " 82%|██████████████████████████████████████████████████████████████████████████████████████▎                  | 83/101 [40:06<07:24, 24.70s/it]\u001b[A\n",
      " 83%|███████████████████████████████████████████████████████████████████████████████████████▎                 | 84/101 [40:33<07:09, 25.25s/it]\u001b[A\n",
      " 84%|████████████████████████████████████████████████████████████████████████████████████████▎                | 85/101 [40:59<06:48, 25.53s/it]\u001b[A\n",
      " 85%|█████████████████████████████████████████████████████████████████████████████████████████▍               | 86/101 [41:24<06:17, 25.20s/it]\u001b[A\n",
      " 86%|██████████████████████████████████████████████████████████████████████████████████████████▍              | 87/101 [41:49<05:55, 25.40s/it]\u001b[A\n",
      " 87%|███████████████████████████████████████████████████████████████████████████████████████████▍             | 88/101 [42:16<05:36, 25.85s/it]\u001b[A\n",
      " 88%|████████████████████████████████████████████████████████████████████████████████████████████▌            | 89/101 [42:42<05:09, 25.81s/it]\u001b[A\n",
      " 89%|█████████████████████████████████████████████████████████████████████████████████████████████▌           | 90/101 [43:08<04:43, 25.80s/it]\u001b[A\n",
      " 90%|██████████████████████████████████████████████████████████████████████████████████████████████▌          | 91/101 [43:35<04:21, 26.12s/it]\u001b[A"
     ]
    },
    {
     "name": "stdout",
     "output_type": "stream",
     "text": [
      "Evaluation 90 (Epsilon=0.01):\n",
      "\tTraining:\n",
      " \t\tGravity: 0.001375\n",
      " \t\tStability: 33.261\n",
      "\tEvalution:\n",
      " \t\tAAR: -33.694\n",
      " \t\tSES: 1.0\n",
      " \t\tMean Reward: -1000.0\n",
      " \t\tStd Reward: 0.0\n"
     ]
    },
    {
     "name": "stderr",
     "output_type": "stream",
     "text": [
      "\n",
      " 91%|███████████████████████████████████████████████████████████████████████████████████████████████▋         | 92/101 [44:04<04:04, 27.19s/it]\u001b[A\n",
      " 92%|████████████████████████████████████████████████████████████████████████████████████████████████▋        | 93/101 [44:31<03:36, 27.06s/it]\u001b[A\n",
      " 93%|█████████████████████████████████████████████████████████████████████████████████████████████████▋       | 94/101 [44:59<03:11, 27.42s/it]\u001b[A\n",
      " 94%|██████████████████████████████████████████████████████████████████████████████████████████████████▊      | 95/101 [45:29<02:47, 27.98s/it]\u001b[A\n",
      " 95%|███████████████████████████████████████████████████████████████████████████████████████████████████▊     | 96/101 [45:55<02:17, 27.43s/it]\u001b[A\n",
      " 96%|████████████████████████████████████████████████████████████████████████████████████████████████████▊    | 97/101 [46:24<01:51, 27.82s/it]\u001b[A\n",
      " 97%|█████████████████████████████████████████████████████████████████████████████████████████████████████▉   | 98/101 [46:52<01:24, 28.15s/it]\u001b[A\n",
      " 98%|██████████████████████████████████████████████████████████████████████████████████████████████████████▉  | 99/101 [47:20<00:56, 28.02s/it]\u001b[A\n",
      " 99%|██████████████████████████████████████████████████████████████████████████████████████████████████████▉ | 100/101 [47:49<00:28, 28.29s/it]\u001b[A\n",
      "100%|████████████████████████████████████████████████████████████████████████████████████████████████████████| 101/101 [48:18<00:00, 28.70s/it]\u001b[A"
     ]
    },
    {
     "name": "stdout",
     "output_type": "stream",
     "text": [
      "Evaluation 100 (Epsilon=0.01):\n",
      "\tTraining:\n",
      " \t\tGravity: 0.001375\n",
      " \t\tStability: 29.483\n",
      "\tEvalution:\n",
      " \t\tAAR: -34.043\n",
      " \t\tSES: 1.0\n",
      " \t\tMean Reward: -1000.0\n",
      " \t\tStd Reward: 0.0\n"
     ]
    },
    {
     "name": "stderr",
     "output_type": "stream",
     "text": [
      "\n",
      " 36%|████████████████████████████████████▋                                                                | 4/11 [2:25:48<4:33:45, 2346.55s/it]"
     ]
    },
    {
     "name": "stdout",
     "output_type": "stream",
     "text": [
      "Training of 'dqn' via CL method 'hard' has started\n"
     ]
    },
    {
     "name": "stderr",
     "output_type": "stream",
     "text": [
      "\n",
      "  0%|                                                                                                                  | 0/101 [00:00<?, ?it/s]\u001b[A\n",
      "  1%|█                                                                                                         | 1/101 [00:12<20:00, 12.00s/it]\u001b[A"
     ]
    },
    {
     "name": "stdout",
     "output_type": "stream",
     "text": [
      "Evaluation 0 (Epsilon=0.95858):\n",
      "\tTraining:\n",
      " \t\tGravity: 0.00025\n",
      " \t\tStability: 254.143\n",
      "\tEvalution:\n",
      " \t\tAAR: -169.318\n",
      " \t\tSES: 0.998\n",
      " \t\tMean Reward: -1000.0\n",
      " \t\tStd Reward: 0.0\n"
     ]
    },
    {
     "name": "stderr",
     "output_type": "stream",
     "text": [
      "\n",
      "  2%|██                                                                                                        | 2/101 [00:23<19:37, 11.89s/it]\u001b[A\n",
      "  3%|███▏                                                                                                      | 3/101 [00:32<17:02, 10.43s/it]\u001b[A\n",
      "  4%|████▏                                                                                                     | 4/101 [00:43<17:01, 10.53s/it]\u001b[A\n",
      "  5%|█████▏                                                                                                    | 5/101 [00:50<14:45,  9.22s/it]\u001b[A\n",
      "  6%|██████▎                                                                                                   | 6/101 [00:59<14:33,  9.20s/it]\u001b[A\n",
      "  7%|███████▎                                                                                                  | 7/101 [01:10<15:20,  9.80s/it]\u001b[A\n",
      "  8%|████████▍                                                                                                 | 8/101 [01:15<13:03,  8.43s/it]\u001b[A\n",
      "  9%|█████████▍                                                                                                | 9/101 [01:21<11:42,  7.64s/it]\u001b[A\n",
      " 10%|██████████▍                                                                                              | 10/101 [01:26<10:03,  6.64s/it]\u001b[A\n",
      " 11%|███████████▍                                                                                             | 11/101 [01:32<09:39,  6.44s/it]\u001b[A"
     ]
    },
    {
     "name": "stdout",
     "output_type": "stream",
     "text": [
      "Evaluation 10 (Epsilon=0.74728):\n",
      "\tTraining:\n",
      " \t\tGravity: 0.00025\n",
      " \t\tStability: 128.137\n",
      "\tEvalution:\n",
      " \t\tAAR: -162.238\n",
      " \t\tSES: 0.994\n",
      " \t\tMean Reward: -1000.0\n",
      " \t\tStd Reward: 0.0\n"
     ]
    },
    {
     "name": "stderr",
     "output_type": "stream",
     "text": [
      "\n",
      " 12%|████████████▍                                                                                            | 12/101 [01:36<08:51,  5.97s/it]\u001b[A\n",
      " 13%|█████████████▌                                                                                           | 13/101 [01:40<07:33,  5.15s/it]\u001b[A\n",
      " 14%|██████████████▌                                                                                          | 14/101 [01:44<07:02,  4.85s/it]\u001b[A\n",
      " 15%|███████████████▌                                                                                         | 15/101 [01:48<06:37,  4.62s/it]\u001b[A\n",
      " 16%|████████████████▋                                                                                        | 16/101 [01:51<05:48,  4.10s/it]\u001b[A\n",
      " 17%|█████████████████▋                                                                                       | 17/101 [01:54<05:15,  3.76s/it]\u001b[A\n",
      " 18%|██████████████████▋                                                                                      | 18/101 [01:58<05:15,  3.81s/it]\u001b[A\n",
      " 19%|███████████████████▊                                                                                     | 19/101 [02:01<04:52,  3.57s/it]\u001b[A\n",
      " 20%|████████████████████▊                                                                                    | 20/101 [02:04<04:50,  3.58s/it]\u001b[A\n",
      " 21%|█████████████████████▊                                                                                   | 21/101 [02:08<04:50,  3.63s/it]\u001b[A"
     ]
    },
    {
     "name": "stdout",
     "output_type": "stream",
     "text": [
      "Evaluation 20 (Epsilon=0.66516):\n",
      "\tTraining:\n",
      " \t\tGravity: 0.00025\n",
      " \t\tStability: 31.91\n",
      "\tEvalution:\n",
      " \t\tAAR: -175.358\n",
      " \t\tSES: 0.987\n",
      " \t\tMean Reward: -1000.0\n",
      " \t\tStd Reward: 0.0\n"
     ]
    },
    {
     "name": "stderr",
     "output_type": "stream",
     "text": [
      "\n",
      " 22%|██████████████████████▊                                                                                  | 22/101 [02:12<04:42,  3.58s/it]\u001b[A\n",
      " 23%|███████████████████████▉                                                                                 | 23/101 [02:16<04:54,  3.78s/it]\u001b[A\n",
      " 24%|████████████████████████▉                                                                                | 24/101 [02:21<05:11,  4.05s/it]\u001b[A\n",
      " 25%|█████████████████████████▉                                                                               | 25/101 [02:24<04:52,  3.84s/it]\u001b[A\n",
      " 26%|███████████████████████████                                                                              | 26/101 [02:28<04:44,  3.80s/it]\u001b[A\n",
      " 27%|████████████████████████████                                                                             | 27/101 [02:46<10:04,  8.16s/it]\u001b[A\n",
      " 28%|█████████████████████████████                                                                            | 28/101 [03:13<17:01, 13.99s/it]\u001b[A\n",
      " 29%|██████████████████████████████▏                                                                          | 29/101 [03:38<20:25, 17.03s/it]\u001b[A\n",
      " 30%|███████████████████████████████▏                                                                         | 30/101 [03:50<18:22, 15.53s/it]\u001b[A\n",
      " 31%|████████████████████████████████▏                                                                        | 31/101 [04:08<19:13, 16.48s/it]\u001b[A"
     ]
    },
    {
     "name": "stdout",
     "output_type": "stream",
     "text": [
      "Evaluation 30 (Epsilon=0.4301):\n",
      "\tTraining:\n",
      " \t\tGravity: 0.001\n",
      " \t\tStability: 164.301\n",
      "\tEvalution:\n",
      " \t\tAAR: -41.737\n",
      " \t\tSES: 1.0\n",
      " \t\tMean Reward: -1000.0\n",
      " \t\tStd Reward: 0.0\n"
     ]
    },
    {
     "name": "stderr",
     "output_type": "stream",
     "text": [
      "\n",
      " 32%|█████████████████████████████████▎                                                                       | 32/101 [04:23<18:28, 16.07s/it]\u001b[A\n",
      " 33%|██████████████████████████████████▎                                                                      | 33/101 [04:35<16:35, 14.64s/it]\u001b[A\n",
      " 34%|███████████████████████████████████▎                                                                     | 34/101 [04:48<15:52, 14.22s/it]\u001b[A\n",
      " 35%|████████████████████████████████████▍                                                                    | 35/101 [04:55<13:23, 12.17s/it]\u001b[A\n",
      " 36%|█████████████████████████████████████▍                                                                   | 36/101 [04:59<10:27,  9.66s/it]\u001b[A\n",
      " 37%|██████████████████████████████████████▍                                                                  | 37/101 [05:05<09:01,  8.46s/it]\u001b[A\n",
      " 38%|███████████████████████████████████████▌                                                                 | 38/101 [05:12<08:27,  8.05s/it]\u001b[A\n",
      " 39%|████████████████████████████████████████▌                                                                | 39/101 [05:25<09:44,  9.44s/it]\u001b[A\n",
      " 40%|█████████████████████████████████████████▌                                                               | 40/101 [05:31<08:42,  8.56s/it]\u001b[A\n",
      " 41%|██████████████████████████████████████████▌                                                              | 41/101 [05:37<07:42,  7.71s/it]\u001b[A"
     ]
    },
    {
     "name": "stdout",
     "output_type": "stream",
     "text": [
      "Evaluation 40 (Epsilon=0.27126):\n",
      "\tTraining:\n",
      " \t\tGravity: 0.001\n",
      " \t\tStability: 490.014\n",
      "\tEvalution:\n",
      " \t\tAAR: -43.852\n",
      " \t\tSES: 1.0\n",
      " \t\tMean Reward: -1000.0\n",
      " \t\tStd Reward: 0.0\n"
     ]
    },
    {
     "name": "stderr",
     "output_type": "stream",
     "text": [
      "\n",
      " 42%|███████████████████████████████████████████▋                                                             | 42/101 [05:42<06:44,  6.86s/it]\u001b[A\n",
      " 43%|████████████████████████████████████████████▋                                                            | 43/101 [05:51<07:19,  7.58s/it]\u001b[A\n",
      " 44%|█████████████████████████████████████████████▋                                                           | 44/101 [05:59<07:27,  7.85s/it]\u001b[A\n",
      " 45%|██████████████████████████████████████████████▊                                                          | 45/101 [06:07<07:21,  7.88s/it]\u001b[A\n",
      " 46%|███████████████████████████████████████████████▊                                                         | 46/101 [06:11<05:57,  6.50s/it]\u001b[A\n",
      " 47%|████████████████████████████████████████████████▊                                                        | 47/101 [06:14<04:59,  5.54s/it]\u001b[A\n",
      " 48%|█████████████████████████████████████████████████▉                                                       | 48/101 [06:17<04:07,  4.66s/it]\u001b[A\n",
      " 49%|██████████████████████████████████████████████████▉                                                      | 49/101 [06:21<04:00,  4.62s/it]\u001b[A\n",
      " 50%|███████████████████████████████████████████████████▉                                                     | 50/101 [06:30<05:01,  5.90s/it]\u001b[A\n",
      " 50%|█████████████████████████████████████████████████████                                                    | 51/101 [06:34<04:30,  5.42s/it]\u001b[A"
     ]
    },
    {
     "name": "stdout",
     "output_type": "stream",
     "text": [
      "Evaluation 50 (Epsilon=0.20481):\n",
      "\tTraining:\n",
      " \t\tGravity: 0.001\n",
      " \t\tStability: 207.146\n",
      "\tEvalution:\n",
      " \t\tAAR: -47.008\n",
      " \t\tSES: 0.99\n",
      " \t\tMean Reward: -1000.0\n",
      " \t\tStd Reward: 0.0\n"
     ]
    },
    {
     "name": "stderr",
     "output_type": "stream",
     "text": [
      "\n",
      " 51%|██████████████████████████████████████████████████████                                                   | 52/101 [06:52<07:20,  8.98s/it]\u001b[A\n",
      " 52%|███████████████████████████████████████████████████████                                                  | 53/101 [07:09<09:12, 11.51s/it]\u001b[A\n",
      " 53%|████████████████████████████████████████████████████████▏                                                | 54/101 [07:27<10:29, 13.38s/it]\u001b[A\n",
      " 54%|█████████████████████████████████████████████████████████▏                                               | 55/101 [07:45<11:17, 14.73s/it]\u001b[A\n",
      " 55%|██████████████████████████████████████████████████████████▏                                              | 56/101 [08:02<11:31, 15.37s/it]\u001b[A\n",
      " 56%|███████████████████████████████████████████████████████████▎                                             | 57/101 [08:19<11:49, 16.12s/it]\u001b[A\n",
      " 57%|████████████████████████████████████████████████████████████▎                                            | 58/101 [08:37<11:53, 16.59s/it]\u001b[A\n",
      " 58%|█████████████████████████████████████████████████████████████▎                                           | 59/101 [08:55<11:53, 16.99s/it]\u001b[A\n",
      " 59%|██████████████████████████████████████████████████████████████▍                                          | 60/101 [09:12<11:37, 17.02s/it]\u001b[A\n",
      " 60%|███████████████████████████████████████████████████████████████▍                                         | 61/101 [09:30<11:29, 17.24s/it]\u001b[A"
     ]
    },
    {
     "name": "stdout",
     "output_type": "stream",
     "text": [
      "Evaluation 60 (Epsilon=0.07585):\n",
      "\tTraining:\n",
      " \t\tGravity: 0.00175\n",
      " \t\tStability: 312.39\n",
      "\tEvalution:\n",
      " \t\tAAR: -24.972\n",
      " \t\tSES: 1.0\n",
      " \t\tMean Reward: -1000.0\n",
      " \t\tStd Reward: 0.0\n"
     ]
    },
    {
     "name": "stderr",
     "output_type": "stream",
     "text": [
      "\n",
      " 61%|████████████████████████████████████████████████████████████████▍                                        | 62/101 [09:48<11:19, 17.43s/it]\u001b[A\n",
      " 62%|█████████████████████████████████████████████████████████████████▍                                       | 63/101 [10:06<11:07, 17.56s/it]\u001b[A\n",
      " 63%|██████████████████████████████████████████████████████████████████▌                                      | 64/101 [10:23<10:44, 17.43s/it]\u001b[A\n",
      " 64%|███████████████████████████████████████████████████████████████████▌                                     | 65/101 [10:41<10:31, 17.55s/it]\u001b[A\n",
      " 65%|████████████████████████████████████████████████████████████████████▌                                    | 66/101 [10:59<10:19, 17.70s/it]\u001b[A\n",
      " 66%|█████████████████████████████████████████████████████████████████████▋                                   | 67/101 [11:16<09:56, 17.53s/it]\u001b[A\n",
      " 67%|██████████████████████████████████████████████████████████████████████▋                                  | 68/101 [11:34<09:41, 17.61s/it]\u001b[A\n",
      " 68%|███████████████████████████████████████████████████████████████████████▋                                 | 69/101 [11:51<09:26, 17.71s/it]\u001b[A\n",
      " 69%|████████████████████████████████████████████████████████████████████████▊                                | 70/101 [12:09<09:07, 17.68s/it]\u001b[A\n",
      " 70%|█████████████████████████████████████████████████████████████████████████▊                               | 71/101 [12:27<08:49, 17.64s/it]\u001b[A"
     ]
    },
    {
     "name": "stdout",
     "output_type": "stream",
     "text": [
      "Evaluation 70 (Epsilon=0.0279):\n",
      "\tTraining:\n",
      " \t\tGravity: 0.00175\n",
      " \t\tStability: 246.625\n",
      "\tEvalution:\n",
      " \t\tAAR: -26.378\n",
      " \t\tSES: 1.0\n",
      " \t\tMean Reward: -1000.0\n",
      " \t\tStd Reward: 0.0\n"
     ]
    },
    {
     "name": "stderr",
     "output_type": "stream",
     "text": [
      "\n",
      " 71%|██████████████████████████████████████████████████████████████████████████▊                              | 72/101 [12:46<08:50, 18.28s/it]\u001b[A\n",
      " 72%|███████████████████████████████████████████████████████████████████████████▉                             | 73/101 [13:06<08:44, 18.74s/it]\u001b[A\n",
      " 73%|████████████████████████████████████████████████████████████████████████████▉                            | 74/101 [13:26<08:35, 19.08s/it]\u001b[A\n",
      " 74%|█████████████████████████████████████████████████████████████████████████████▉                           | 75/101 [13:45<08:12, 18.94s/it]\u001b[A\n",
      " 75%|███████████████████████████████████████████████████████████████████████████████                          | 76/101 [14:03<07:51, 18.84s/it]\u001b[A\n",
      " 76%|████████████████████████████████████████████████████████████████████████████████                         | 77/101 [14:21<07:24, 18.50s/it]\u001b[A\n",
      " 77%|█████████████████████████████████████████████████████████████████████████████████                        | 78/101 [14:39<07:05, 18.48s/it]\u001b[A\n",
      " 78%|██████████████████████████████████████████████████████████████████████████████████▏                      | 79/101 [14:58<06:45, 18.45s/it]\u001b[A\n",
      " 79%|███████████████████████████████████████████████████████████████████████████████████▏                     | 80/101 [15:16<06:26, 18.42s/it]\u001b[A\n",
      " 80%|████████████████████████████████████████████████████████████████████████████████████▏                    | 81/101 [15:34<06:06, 18.31s/it]\u001b[A"
     ]
    },
    {
     "name": "stdout",
     "output_type": "stream",
     "text": [
      "Evaluation 80 (Epsilon=0.01026):\n",
      "\tTraining:\n",
      " \t\tGravity: 0.0025\n",
      " \t\tStability: 202.571\n",
      "\tEvalution:\n",
      " \t\tAAR: -16.476\n",
      " \t\tSES: 1.0\n",
      " \t\tMean Reward: -1000.0\n",
      " \t\tStd Reward: 0.0\n"
     ]
    },
    {
     "name": "stderr",
     "output_type": "stream",
     "text": [
      "\n",
      " 81%|█████████████████████████████████████████████████████████████████████████████████████▏                   | 82/101 [15:53<05:48, 18.37s/it]\u001b[A\n",
      " 82%|██████████████████████████████████████████████████████████████████████████████████████▎                  | 83/101 [16:11<05:31, 18.42s/it]\u001b[A\n",
      " 83%|███████████████████████████████████████████████████████████████████████████████████████▎                 | 84/101 [16:29<05:09, 18.19s/it]\u001b[A\n",
      " 84%|████████████████████████████████████████████████████████████████████████████████████████▎                | 85/101 [16:47<04:52, 18.26s/it]\u001b[A\n",
      " 85%|█████████████████████████████████████████████████████████████████████████████████████████▍               | 86/101 [17:06<04:34, 18.31s/it]\u001b[A\n",
      " 86%|██████████████████████████████████████████████████████████████████████████████████████████▍              | 87/101 [17:24<04:17, 18.38s/it]\u001b[A\n",
      " 87%|███████████████████████████████████████████████████████████████████████████████████████████▍             | 88/101 [17:42<03:56, 18.20s/it]\u001b[A\n",
      " 88%|████████████████████████████████████████████████████████████████████████████████████████████▌            | 89/101 [18:01<03:39, 18.28s/it]\u001b[A\n",
      " 89%|█████████████████████████████████████████████████████████████████████████████████████████████▌           | 90/101 [18:19<03:21, 18.34s/it]\u001b[A\n",
      " 90%|██████████████████████████████████████████████████████████████████████████████████████████████▌          | 91/101 [18:37<03:01, 18.12s/it]\u001b[A"
     ]
    },
    {
     "name": "stdout",
     "output_type": "stream",
     "text": [
      "Evaluation 90 (Epsilon=0.01):\n",
      "\tTraining:\n",
      " \t\tGravity: 0.0025\n",
      " \t\tStability: 366.949\n",
      "\tEvalution:\n",
      " \t\tAAR: -15.544\n",
      " \t\tSES: 1.0\n",
      " \t\tMean Reward: -1000.0\n",
      " \t\tStd Reward: 0.0\n"
     ]
    },
    {
     "name": "stderr",
     "output_type": "stream",
     "text": [
      "\n",
      " 91%|███████████████████████████████████████████████████████████████████████████████████████████████▋         | 92/101 [18:55<02:44, 18.25s/it]\u001b[A\n",
      " 92%|████████████████████████████████████████████████████████████████████████████████████████████████▋        | 93/101 [19:13<02:25, 18.24s/it]\u001b[A\n",
      " 93%|█████████████████████████████████████████████████████████████████████████████████████████████████▋       | 94/101 [19:32<02:07, 18.21s/it]\u001b[A\n",
      " 94%|██████████████████████████████████████████████████████████████████████████████████████████████████▊      | 95/101 [19:50<01:50, 18.38s/it]\u001b[A\n",
      " 95%|███████████████████████████████████████████████████████████████████████████████████████████████████▊     | 96/101 [20:09<01:32, 18.51s/it]\u001b[A\n",
      " 96%|████████████████████████████████████████████████████████████████████████████████████████████████████▊    | 97/101 [20:27<01:13, 18.32s/it]\u001b[A\n",
      " 97%|█████████████████████████████████████████████████████████████████████████████████████████████████████▉   | 98/101 [20:45<00:55, 18.35s/it]\u001b[A\n",
      " 98%|██████████████████████████████████████████████████████████████████████████████████████████████████████▉  | 99/101 [21:04<00:36, 18.37s/it]\u001b[A\n",
      " 99%|██████████████████████████████████████████████████████████████████████████████████████████████████████▉ | 100/101 [21:22<00:18, 18.18s/it]\u001b[A\n",
      "100%|████████████████████████████████████████████████████████████████████████████████████████████████████████| 101/101 [21:40<00:00, 12.87s/it]\u001b[A"
     ]
    },
    {
     "name": "stdout",
     "output_type": "stream",
     "text": [
      "Evaluation 100 (Epsilon=0.01):\n",
      "\tTraining:\n",
      " \t\tGravity: 0.0025\n",
      " \t\tStability: 408.936\n",
      "\tEvalution:\n",
      " \t\tAAR: -16.565\n",
      " \t\tSES: 1.0\n",
      " \t\tMean Reward: -1000.0\n",
      " \t\tStd Reward: 0.0\n"
     ]
    },
    {
     "name": "stderr",
     "output_type": "stream",
     "text": [
      "\n",
      " 45%|█████████████████████████████████████████████▉                                                       | 5/11 [2:47:29<3:16:58, 1969.70s/it]"
     ]
    },
    {
     "name": "stdout",
     "output_type": "stream",
     "text": [
      "Training of 'dqn' via CL method 'linear' has started\n"
     ]
    },
    {
     "name": "stderr",
     "output_type": "stream",
     "text": [
      "\n",
      "  0%|                                                                                                                  | 0/101 [00:00<?, ?it/s]\u001b[A\n",
      "  1%|█                                                                                                         | 1/101 [00:13<22:51, 13.71s/it]\u001b[A"
     ]
    },
    {
     "name": "stdout",
     "output_type": "stream",
     "text": [
      "Evaluation 0 (Epsilon=0.92302):\n",
      "\tTraining:\n",
      " \t\tGravity: 0.00025\n",
      " \t\tStability: 218.057\n",
      "\tEvalution:\n",
      " \t\tAAR: -179.044\n",
      " \t\tSES: 0.999\n",
      " \t\tMean Reward: -1000.0\n",
      " \t\tStd Reward: 0.0\n"
     ]
    },
    {
     "name": "stderr",
     "output_type": "stream",
     "text": [
      "\n",
      "  2%|██                                                                                                        | 2/101 [00:26<21:39, 13.13s/it]\u001b[A\n",
      "  3%|███▏                                                                                                      | 3/101 [00:43<24:13, 14.83s/it]\u001b[A\n",
      "  4%|████▏                                                                                                     | 4/101 [00:57<23:17, 14.40s/it]\u001b[A\n",
      "  5%|█████▏                                                                                                    | 5/101 [01:10<22:43, 14.20s/it]\u001b[A\n",
      "  6%|██████▎                                                                                                   | 6/101 [01:28<24:04, 15.21s/it]\u001b[A\n",
      "  7%|███████▎                                                                                                  | 7/101 [01:46<25:35, 16.34s/it]\u001b[A\n",
      "  8%|████████▍                                                                                                 | 8/101 [02:04<26:14, 16.93s/it]\u001b[A\n",
      "  9%|█████████▍                                                                                                | 9/101 [02:21<26:00, 16.96s/it]\u001b[A\n",
      " 10%|██████████▍                                                                                              | 10/101 [02:37<25:11, 16.61s/it]\u001b[A\n",
      " 11%|███████████▍                                                                                             | 11/101 [02:55<25:24, 16.94s/it]\u001b[A"
     ]
    },
    {
     "name": "stdout",
     "output_type": "stream",
     "text": [
      "Evaluation 10 (Epsilon=0.37249):\n",
      "\tTraining:\n",
      " \t\tGravity: 0.000475\n",
      " \t\tStability: 206.254\n",
      "\tEvalution:\n",
      " \t\tAAR: -82.273\n",
      " \t\tSES: 1.0\n",
      " \t\tMean Reward: -1000.0\n",
      " \t\tStd Reward: 0.0\n"
     ]
    },
    {
     "name": "stderr",
     "output_type": "stream",
     "text": [
      "\n",
      " 12%|████████████▍                                                                                            | 12/101 [03:13<25:32, 17.22s/it]\u001b[A\n",
      " 13%|█████████████▌                                                                                           | 13/101 [03:31<25:32, 17.42s/it]\u001b[A\n",
      " 14%|██████████████▌                                                                                          | 14/101 [03:48<25:23, 17.51s/it]\u001b[A\n",
      " 15%|███████████████▌                                                                                         | 15/101 [04:07<25:25, 17.74s/it]\u001b[A\n",
      " 16%|████████████████▋                                                                                        | 16/101 [04:25<25:16, 17.84s/it]\u001b[A\n",
      " 17%|█████████████████▋                                                                                       | 17/101 [04:43<25:15, 18.04s/it]\u001b[A\n",
      " 18%|██████████████████▋                                                                                      | 18/101 [05:02<25:08, 18.18s/it]\u001b[A\n",
      " 19%|███████████████████▊                                                                                     | 19/101 [05:19<24:28, 17.91s/it]\u001b[A\n",
      " 20%|████████████████████▊                                                                                    | 20/101 [05:37<24:19, 18.02s/it]\u001b[A\n",
      " 21%|█████████████████████▊                                                                                   | 21/101 [05:55<24:05, 18.06s/it]\u001b[A"
     ]
    },
    {
     "name": "stdout",
     "output_type": "stream",
     "text": [
      "Evaluation 20 (Epsilon=0.13702):\n",
      "\tTraining:\n",
      " \t\tGravity: 0.0007\n",
      " \t\tStability: 82.91\n",
      "\tEvalution:\n",
      " \t\tAAR: -52.819\n",
      " \t\tSES: 1.0\n",
      " \t\tMean Reward: -1000.0\n",
      " \t\tStd Reward: 0.0\n"
     ]
    },
    {
     "name": "stderr",
     "output_type": "stream",
     "text": [
      "\n",
      " 22%|██████████████████████▊                                                                                  | 22/101 [06:14<24:03, 18.28s/it]\u001b[A\n",
      " 23%|███████████████████████▉                                                                                 | 23/101 [06:35<24:32, 18.87s/it]\u001b[A\n",
      " 24%|████████████████████████▉                                                                                | 24/101 [06:52<23:42, 18.47s/it]\u001b[A\n",
      " 25%|█████████████████████████▉                                                                               | 25/101 [07:10<23:14, 18.35s/it]\u001b[A\n",
      " 26%|███████████████████████████                                                                              | 26/101 [07:28<22:55, 18.34s/it]\u001b[A\n",
      " 27%|████████████████████████████                                                                             | 27/101 [07:47<22:51, 18.53s/it]\u001b[A\n",
      " 28%|█████████████████████████████                                                                            | 28/101 [08:05<22:22, 18.38s/it]\u001b[A\n",
      " 29%|██████████████████████████████▏                                                                          | 29/101 [08:23<21:55, 18.27s/it]\u001b[A\n",
      " 30%|███████████████████████████████▏                                                                         | 30/101 [08:42<21:34, 18.23s/it]\u001b[A\n",
      " 31%|████████████████████████████████▏                                                                        | 31/101 [09:00<21:13, 18.20s/it]\u001b[A"
     ]
    },
    {
     "name": "stdout",
     "output_type": "stream",
     "text": [
      "Evaluation 30 (Epsilon=0.05041):\n",
      "\tTraining:\n",
      " \t\tGravity: 0.000925\n",
      " \t\tStability: 122.507\n",
      "\tEvalution:\n",
      " \t\tAAR: -36.446\n",
      " \t\tSES: 1.0\n",
      " \t\tMean Reward: -1000.0\n",
      " \t\tStd Reward: 0.0\n"
     ]
    },
    {
     "name": "stderr",
     "output_type": "stream",
     "text": [
      "\n",
      " 32%|█████████████████████████████████▎                                                                       | 32/101 [09:18<20:57, 18.22s/it]\u001b[A\n",
      " 33%|██████████████████████████████████▎                                                                      | 33/101 [09:36<20:25, 18.02s/it]\u001b[A\n",
      " 34%|███████████████████████████████████▎                                                                     | 34/101 [09:54<20:17, 18.17s/it]\u001b[A\n",
      " 35%|████████████████████████████████████▍                                                                    | 35/101 [10:13<20:10, 18.34s/it]\u001b[A\n",
      " 36%|█████████████████████████████████████▍                                                                   | 36/101 [10:31<19:54, 18.38s/it]\u001b[A\n",
      " 37%|██████████████████████████████████████▍                                                                  | 37/101 [10:50<19:36, 18.38s/it]\u001b[A\n",
      " 38%|███████████████████████████████████████▌                                                                 | 38/101 [11:07<19:07, 18.21s/it]\u001b[A\n",
      " 39%|████████████████████████████████████████▌                                                                | 39/101 [11:26<18:53, 18.28s/it]\u001b[A\n",
      " 40%|█████████████████████████████████████████▌                                                               | 40/101 [11:44<18:33, 18.26s/it]\u001b[A\n",
      " 41%|██████████████████████████████████████████▌                                                              | 41/101 [12:03<18:31, 18.52s/it]\u001b[A"
     ]
    },
    {
     "name": "stdout",
     "output_type": "stream",
     "text": [
      "Evaluation 40 (Epsilon=0.01854):\n",
      "\tTraining:\n",
      " \t\tGravity: 0.00115\n",
      " \t\tStability: 102.609\n",
      "\tEvalution:\n",
      " \t\tAAR: -27.594\n",
      " \t\tSES: 1.0\n",
      " \t\tMean Reward: -1000.0\n",
      " \t\tStd Reward: 0.0\n"
     ]
    },
    {
     "name": "stderr",
     "output_type": "stream",
     "text": [
      "\n",
      " 42%|███████████████████████████████████████████▋                                                             | 42/101 [12:22<18:20, 18.65s/it]\u001b[A\n",
      " 43%|████████████████████████████████████████████▋                                                            | 43/101 [12:40<17:47, 18.41s/it]\u001b[A\n",
      " 44%|█████████████████████████████████████████████▋                                                           | 44/101 [12:58<17:26, 18.35s/it]\u001b[A\n",
      " 45%|██████████████████████████████████████████████▊                                                          | 45/101 [13:17<17:07, 18.36s/it]\u001b[A\n",
      " 46%|███████████████████████████████████████████████▊                                                         | 46/101 [13:35<16:53, 18.43s/it]\u001b[A\n",
      " 47%|████████████████████████████████████████████████▊                                                        | 47/101 [13:54<16:47, 18.66s/it]\u001b[A\n",
      " 48%|█████████████████████████████████████████████████▉                                                       | 48/101 [14:12<16:17, 18.43s/it]\u001b[A\n",
      " 49%|██████████████████████████████████████████████████▉                                                      | 49/101 [14:31<15:56, 18.39s/it]\u001b[A\n",
      " 50%|███████████████████████████████████████████████████▉                                                     | 50/101 [14:49<15:33, 18.31s/it]\u001b[A\n",
      " 50%|█████████████████████████████████████████████████████                                                    | 51/101 [15:07<15:21, 18.43s/it]\u001b[A"
     ]
    },
    {
     "name": "stdout",
     "output_type": "stream",
     "text": [
      "Evaluation 50 (Epsilon=0.01):\n",
      "\tTraining:\n",
      " \t\tGravity: 0.001375\n",
      " \t\tStability: 126.197\n",
      "\tEvalution:\n",
      " \t\tAAR: -22.109\n",
      " \t\tSES: 1.0\n",
      " \t\tMean Reward: -1000.0\n",
      " \t\tStd Reward: 0.0\n"
     ]
    },
    {
     "name": "stderr",
     "output_type": "stream",
     "text": [
      "\n",
      " 51%|██████████████████████████████████████████████████████                                                   | 52/101 [15:27<15:15, 18.69s/it]\u001b[A\n",
      " 52%|███████████████████████████████████████████████████████                                                  | 53/101 [15:45<14:45, 18.46s/it]\u001b[A\n",
      " 53%|████████████████████████████████████████████████████████▏                                                | 54/101 [16:03<14:22, 18.35s/it]\u001b[A\n",
      " 54%|█████████████████████████████████████████████████████████▏                                               | 55/101 [16:21<14:06, 18.40s/it]\u001b[A\n",
      " 55%|██████████████████████████████████████████████████████████▏                                              | 56/101 [16:40<13:46, 18.36s/it]\u001b[A\n",
      " 56%|███████████████████████████████████████████████████████████▎                                             | 57/101 [16:59<13:37, 18.57s/it]\u001b[A\n",
      " 57%|████████████████████████████████████████████████████████████▎                                            | 58/101 [17:17<13:16, 18.51s/it]\u001b[A\n",
      " 58%|█████████████████████████████████████████████████████████████▎                                           | 59/101 [17:35<12:56, 18.48s/it]\u001b[A\n",
      " 59%|██████████████████████████████████████████████████████████████▍                                          | 60/101 [17:54<12:38, 18.49s/it]\u001b[A\n",
      " 60%|███████████████████████████████████████████████████████████████▍                                         | 61/101 [18:14<12:43, 19.09s/it]\u001b[A"
     ]
    },
    {
     "name": "stdout",
     "output_type": "stream",
     "text": [
      "Evaluation 60 (Epsilon=0.01):\n",
      "\tTraining:\n",
      " \t\tGravity: 0.0016\n",
      " \t\tStability: 180.499\n",
      "\tEvalution:\n",
      " \t\tAAR: -21.02\n",
      " \t\tSES: 1.0\n",
      " \t\tMean Reward: -1000.0\n",
      " \t\tStd Reward: 0.0\n"
     ]
    },
    {
     "name": "stderr",
     "output_type": "stream",
     "text": [
      "\n",
      " 61%|████████████████████████████████████████████████████████████████▍                                        | 62/101 [18:38<13:14, 20.36s/it]\u001b[A\n",
      " 62%|█████████████████████████████████████████████████████████████████▍                                       | 63/101 [18:58<12:50, 20.29s/it]\u001b[A\n",
      " 63%|██████████████████████████████████████████████████████████████████▌                                      | 64/101 [19:17<12:21, 20.04s/it]\u001b[A\n",
      " 64%|███████████████████████████████████████████████████████████████████▌                                     | 65/101 [19:37<12:00, 20.02s/it]\u001b[A\n",
      " 65%|████████████████████████████████████████████████████████████████████▌                                    | 66/101 [19:57<11:40, 20.02s/it]\u001b[A\n",
      " 66%|█████████████████████████████████████████████████████████████████████▋                                   | 67/101 [20:22<12:11, 21.52s/it]\u001b[A\n",
      " 67%|██████████████████████████████████████████████████████████████████████▋                                  | 68/101 [20:44<11:50, 21.53s/it]\u001b[A\n",
      " 68%|███████████████████████████████████████████████████████████████████████▋                                 | 69/101 [21:06<11:32, 21.63s/it]\u001b[A\n",
      " 69%|████████████████████████████████████████████████████████████████████████▊                                | 70/101 [21:27<11:06, 21.49s/it]\u001b[A\n",
      " 70%|█████████████████████████████████████████████████████████████████████████▊                               | 71/101 [21:48<10:45, 21.51s/it]\u001b[A"
     ]
    },
    {
     "name": "stdout",
     "output_type": "stream",
     "text": [
      "Evaluation 70 (Epsilon=0.01):\n",
      "\tTraining:\n",
      " \t\tGravity: 0.001825\n",
      " \t\tStability: 143.531\n",
      "\tEvalution:\n",
      " \t\tAAR: -17.515\n",
      " \t\tSES: 1.0\n",
      " \t\tMean Reward: -1000.0\n",
      " \t\tStd Reward: 0.0\n"
     ]
    },
    {
     "name": "stderr",
     "output_type": "stream",
     "text": [
      "\n",
      " 71%|██████████████████████████████████████████████████████████████████████████▊                              | 72/101 [22:15<11:08, 23.06s/it]\u001b[A\n",
      " 72%|███████████████████████████████████████████████████████████████████████████▉                             | 73/101 [22:37<10:31, 22.57s/it]\u001b[A\n",
      " 73%|████████████████████████████████████████████████████████████████████████████▉                            | 74/101 [22:58<09:56, 22.08s/it]\u001b[A\n",
      " 74%|█████████████████████████████████████████████████████████████████████████████▉                           | 75/101 [23:22<09:49, 22.67s/it]\u001b[A\n",
      " 75%|███████████████████████████████████████████████████████████████████████████████                          | 76/101 [23:41<09:03, 21.74s/it]\u001b[A\n",
      " 76%|████████████████████████████████████████████████████████████████████████████████                         | 77/101 [24:02<08:35, 21.50s/it]\u001b[A\n",
      " 77%|█████████████████████████████████████████████████████████████████████████████████                        | 78/101 [24:25<08:27, 22.05s/it]\u001b[A\n",
      " 78%|██████████████████████████████████████████████████████████████████████████████████▏                      | 79/101 [24:47<08:04, 22.03s/it]\u001b[A\n",
      " 79%|███████████████████████████████████████████████████████████████████████████████████▏                     | 80/101 [25:13<08:07, 23.19s/it]\u001b[A\n",
      " 80%|████████████████████████████████████████████████████████████████████████████████████▏                    | 81/101 [25:36<07:41, 23.08s/it]\u001b[A"
     ]
    },
    {
     "name": "stdout",
     "output_type": "stream",
     "text": [
      "Evaluation 80 (Epsilon=0.01):\n",
      "\tTraining:\n",
      " \t\tGravity: 0.00205\n",
      " \t\tStability: 121.359\n",
      "\tEvalution:\n",
      " \t\tAAR: -14.876\n",
      " \t\tSES: 1.0\n",
      " \t\tMean Reward: -1000.0\n",
      " \t\tStd Reward: 0.0\n"
     ]
    },
    {
     "name": "stderr",
     "output_type": "stream",
     "text": [
      "\n",
      " 81%|█████████████████████████████████████████████████████████████████████████████████████▏                   | 82/101 [25:56<06:59, 22.06s/it]\u001b[A\n",
      " 82%|██████████████████████████████████████████████████████████████████████████████████████▎                  | 83/101 [26:17<06:33, 21.89s/it]\u001b[A\n",
      " 83%|███████████████████████████████████████████████████████████████████████████████████████▎                 | 84/101 [26:41<06:23, 22.58s/it]\u001b[A\n",
      " 84%|████████████████████████████████████████████████████████████████████████████████████████▎                | 85/101 [27:06<06:09, 23.12s/it]\u001b[A\n",
      " 85%|█████████████████████████████████████████████████████████████████████████████████████████▍               | 86/101 [27:29<05:48, 23.22s/it]\u001b[A\n",
      " 86%|██████████████████████████████████████████████████████████████████████████████████████████▍              | 87/101 [27:53<05:25, 23.28s/it]\u001b[A\n",
      " 87%|███████████████████████████████████████████████████████████████████████████████████████████▍             | 88/101 [28:14<04:56, 22.80s/it]\u001b[A\n",
      " 88%|████████████████████████████████████████████████████████████████████████████████████████████▌            | 89/101 [28:37<04:31, 22.65s/it]\u001b[A\n",
      " 89%|█████████████████████████████████████████████████████████████████████████████████████████████▌           | 90/101 [28:59<04:07, 22.54s/it]\u001b[A\n",
      " 90%|██████████████████████████████████████████████████████████████████████████████████████████████▌          | 91/101 [29:22<03:46, 22.65s/it]\u001b[A"
     ]
    },
    {
     "name": "stdout",
     "output_type": "stream",
     "text": [
      "Evaluation 90 (Epsilon=0.01):\n",
      "\tTraining:\n",
      " \t\tGravity: 0.002275\n",
      " \t\tStability: 105.496\n",
      "\tEvalution:\n",
      " \t\tAAR: -15.152\n",
      " \t\tSES: 1.0\n",
      " \t\tMean Reward: -1000.0\n",
      " \t\tStd Reward: 0.0\n"
     ]
    },
    {
     "name": "stderr",
     "output_type": "stream",
     "text": [
      "\n",
      " 91%|███████████████████████████████████████████████████████████████████████████████████████████████▋         | 92/101 [29:45<03:25, 22.79s/it]\u001b[A\n",
      " 92%|████████████████████████████████████████████████████████████████████████████████████████████████▋        | 93/101 [30:18<03:27, 25.89s/it]\u001b[A\n",
      " 93%|█████████████████████████████████████████████████████████████████████████████████████████████████▋       | 94/101 [30:42<02:57, 25.40s/it]\u001b[A\n",
      " 94%|██████████████████████████████████████████████████████████████████████████████████████████████████▊      | 95/101 [31:05<02:26, 24.46s/it]\u001b[A\n",
      " 95%|███████████████████████████████████████████████████████████████████████████████████████████████████▊     | 96/101 [31:27<01:58, 23.73s/it]\u001b[A\n",
      " 96%|████████████████████████████████████████████████████████████████████████████████████████████████████▊    | 97/101 [31:48<01:32, 23.15s/it]\u001b[A\n",
      " 97%|█████████████████████████████████████████████████████████████████████████████████████████████████████▉   | 98/101 [32:11<01:08, 22.84s/it]\u001b[A\n",
      " 98%|██████████████████████████████████████████████████████████████████████████████████████████████████████▉  | 99/101 [32:34<00:46, 23.01s/it]\u001b[A\n",
      " 99%|██████████████████████████████████████████████████████████████████████████████████████████████████████▉ | 100/101 [32:56<00:22, 22.82s/it]\u001b[A\n",
      "100%|████████████████████████████████████████████████████████████████████████████████████████████████████████| 101/101 [33:22<00:00, 19.83s/it]\u001b[A"
     ]
    },
    {
     "name": "stdout",
     "output_type": "stream",
     "text": [
      "Evaluation 100 (Epsilon=0.01):\n",
      "\tTraining:\n",
      " \t\tGravity: 0.0025\n",
      " \t\tStability: 123.299\n",
      "\tEvalution:\n",
      " \t\tAAR: -13.986\n",
      " \t\tSES: 1.0\n",
      " \t\tMean Reward: -1000.0\n",
      " \t\tStd Reward: 0.0\n"
     ]
    },
    {
     "name": "stderr",
     "output_type": "stream",
     "text": [
      "\n",
      " 55%|███████████████████████████████████████████████████████                                              | 6/11 [3:20:53<2:45:06, 1981.28s/it]"
     ]
    },
    {
     "name": "stdout",
     "output_type": "stream",
     "text": [
      "Training of 'dqn' via CL method 'logarithmic' has started\n"
     ]
    },
    {
     "name": "stderr",
     "output_type": "stream",
     "text": [
      "\n",
      "  0%|                                                                                                                  | 0/101 [00:00<?, ?it/s]\u001b[A\n",
      "  1%|█                                                                                                         | 1/101 [00:10<16:57, 10.18s/it]\u001b[A"
     ]
    },
    {
     "name": "stdout",
     "output_type": "stream",
     "text": [
      "Evaluation 0 (Epsilon=0.9559):\n",
      "\tTraining:\n",
      " \t\tGravity: 0.00025\n",
      " \t\tStability: 492.236\n",
      "\tEvalution:\n",
      " \t\tAAR: -172.48\n",
      " \t\tSES: 0.998\n",
      " \t\tMean Reward: -1000.0\n",
      " \t\tStd Reward: 0.0\n"
     ]
    },
    {
     "name": "stderr",
     "output_type": "stream",
     "text": [
      "\n",
      "  2%|██                                                                                                        | 2/101 [00:30<26:13, 15.90s/it]\u001b[A\n",
      "  3%|███▏                                                                                                      | 3/101 [00:50<29:31, 18.08s/it]\u001b[A\n",
      "  4%|████▏                                                                                                     | 4/101 [01:12<31:25, 19.44s/it]\u001b[A\n",
      "  5%|█████▏                                                                                                    | 5/101 [01:35<33:02, 20.65s/it]\u001b[A\n",
      "  6%|██████▎                                                                                                   | 6/101 [01:57<33:41, 21.28s/it]\u001b[A\n",
      "  7%|███████▎                                                                                                  | 7/101 [02:19<33:50, 21.60s/it]\u001b[A\n",
      "  8%|████████▍                                                                                                 | 8/101 [02:40<33:03, 21.33s/it]\u001b[A\n",
      "  9%|█████████▍                                                                                                | 9/101 [03:04<33:50, 22.08s/it]\u001b[A\n",
      " 10%|██████████▍                                                                                              | 10/101 [03:31<35:41, 23.54s/it]\u001b[A\n",
      " 11%|███████████▍                                                                                             | 11/101 [03:53<34:52, 23.25s/it]\u001b[A"
     ]
    },
    {
     "name": "stdout",
     "output_type": "stream",
     "text": [
      "Evaluation 10 (Epsilon=0.35393):\n",
      "\tTraining:\n",
      " \t\tGravity: 0.001422\n",
      " \t\tStability: 138.609\n",
      "\tEvalution:\n",
      " \t\tAAR: -27.837\n",
      " \t\tSES: 1.0\n",
      " \t\tMean Reward: -1000.0\n",
      " \t\tStd Reward: 0.0\n"
     ]
    },
    {
     "name": "stderr",
     "output_type": "stream",
     "text": [
      "\n",
      " 12%|████████████▍                                                                                            | 12/101 [04:15<33:52, 22.83s/it]\u001b[A\n",
      " 13%|█████████████▌                                                                                           | 13/101 [04:37<32:51, 22.41s/it]\u001b[A\n",
      " 14%|██████████████▌                                                                                          | 14/101 [05:00<32:48, 22.63s/it]\u001b[A\n",
      " 15%|███████████████▌                                                                                         | 15/101 [05:21<31:59, 22.32s/it]\u001b[A\n",
      " 16%|████████████████▋                                                                                        | 16/101 [05:43<31:27, 22.20s/it]\u001b[A\n",
      " 17%|█████████████████▋                                                                                       | 17/101 [06:05<30:48, 22.00s/it]\u001b[A\n",
      " 18%|██████████████████▋                                                                                      | 18/101 [06:33<33:03, 23.90s/it]\u001b[A\n",
      " 19%|███████████████████▊                                                                                     | 19/101 [06:55<31:47, 23.27s/it]\u001b[A\n",
      " 20%|████████████████████▊                                                                                    | 20/101 [07:17<31:01, 22.98s/it]\u001b[A\n",
      " 21%|█████████████████████▊                                                                                   | 21/101 [07:39<30:22, 22.78s/it]\u001b[A"
     ]
    },
    {
     "name": "stdout",
     "output_type": "stream",
     "text": [
      "Evaluation 20 (Epsilon=0.1302):\n",
      "\tTraining:\n",
      " \t\tGravity: 0.001737\n",
      " \t\tStability: 130.636\n",
      "\tEvalution:\n",
      " \t\tAAR: -19.46\n",
      " \t\tSES: 1.0\n",
      " \t\tMean Reward: -1000.0\n",
      " \t\tStd Reward: 0.0\n"
     ]
    },
    {
     "name": "stderr",
     "output_type": "stream",
     "text": [
      "\n",
      " 22%|██████████████████████▊                                                                                  | 22/101 [08:06<31:39, 24.04s/it]\u001b[A\n",
      " 23%|███████████████████████▉                                                                                 | 23/101 [08:32<31:40, 24.36s/it]\u001b[A\n",
      " 24%|████████████████████████▉                                                                                | 24/101 [08:59<32:31, 25.35s/it]\u001b[A\n",
      " 25%|█████████████████████████▉                                                                               | 25/101 [09:21<30:53, 24.39s/it]\u001b[A\n",
      " 26%|███████████████████████████                                                                              | 26/101 [09:47<30:53, 24.71s/it]\u001b[A\n",
      " 27%|████████████████████████████                                                                             | 27/101 [10:11<30:19, 24.59s/it]\u001b[A\n",
      " 28%|█████████████████████████████                                                                            | 28/101 [10:33<29:00, 23.84s/it]\u001b[A\n",
      " 29%|██████████████████████████████▏                                                                          | 29/101 [10:56<28:10, 23.49s/it]\u001b[A\n",
      " 30%|███████████████████████████████▏                                                                         | 30/101 [11:19<27:48, 23.50s/it]\u001b[A\n",
      " 31%|████████████████████████████████▏                                                                        | 31/101 [11:43<27:22, 23.47s/it]\u001b[A"
     ]
    },
    {
     "name": "stdout",
     "output_type": "stream",
     "text": [
      "Evaluation 30 (Epsilon=0.04789):\n",
      "\tTraining:\n",
      " \t\tGravity: 0.001928\n",
      " \t\tStability: 175.39\n",
      "\tEvalution:\n",
      " \t\tAAR: -18.582\n",
      " \t\tSES: 1.0\n",
      " \t\tMean Reward: -1000.0\n",
      " \t\tStd Reward: 0.0\n"
     ]
    },
    {
     "name": "stderr",
     "output_type": "stream",
     "text": [
      "\n",
      " 32%|█████████████████████████████████▎                                                                       | 32/101 [12:04<26:04, 22.67s/it]\u001b[A\n",
      " 33%|██████████████████████████████████▎                                                                      | 33/101 [12:25<25:22, 22.40s/it]\u001b[A\n",
      " 34%|███████████████████████████████████▎                                                                     | 34/101 [12:48<25:13, 22.58s/it]\u001b[A\n",
      " 35%|████████████████████████████████████▍                                                                    | 35/101 [13:11<24:43, 22.48s/it]\u001b[A\n",
      " 36%|█████████████████████████████████████▍                                                                   | 36/101 [13:36<25:23, 23.44s/it]\u001b[A\n",
      " 37%|██████████████████████████████████████▍                                                                  | 37/101 [14:01<25:20, 23.76s/it]\u001b[A\n",
      " 38%|███████████████████████████████████████▌                                                                 | 38/101 [14:27<25:41, 24.46s/it]\u001b[A\n",
      " 39%|████████████████████████████████████████▌                                                                | 39/101 [14:50<24:46, 23.97s/it]\u001b[A\n",
      " 40%|█████████████████████████████████████████▌                                                               | 40/101 [15:11<23:33, 23.18s/it]\u001b[A\n",
      " 41%|██████████████████████████████████████████▌                                                              | 41/101 [15:33<22:45, 22.76s/it]\u001b[A"
     ]
    },
    {
     "name": "stdout",
     "output_type": "stream",
     "text": [
      "Evaluation 40 (Epsilon=0.01762):\n",
      "\tTraining:\n",
      " \t\tGravity: 0.002064\n",
      " \t\tStability: 187.279\n",
      "\tEvalution:\n",
      " \t\tAAR: -16.521\n",
      " \t\tSES: 1.0\n",
      " \t\tMean Reward: -1000.0\n",
      " \t\tStd Reward: 0.0\n"
     ]
    },
    {
     "name": "stderr",
     "output_type": "stream",
     "text": [
      "\n",
      " 42%|███████████████████████████████████████████▋                                                             | 42/101 [15:53<21:36, 21.98s/it]\u001b[A\n",
      " 43%|████████████████████████████████████████████▋                                                            | 43/101 [16:15<21:06, 21.83s/it]\u001b[A\n",
      " 44%|█████████████████████████████████████████████▋                                                           | 44/101 [16:36<20:37, 21.70s/it]\u001b[A\n",
      " 45%|██████████████████████████████████████████████▊                                                          | 45/101 [16:57<20:12, 21.65s/it]\u001b[A\n",
      " 46%|███████████████████████████████████████████████▊                                                         | 46/101 [17:19<19:53, 21.71s/it]\u001b[A\n",
      " 47%|████████████████████████████████████████████████▊                                                        | 47/101 [17:39<19:02, 21.16s/it]\u001b[A\n",
      " 48%|█████████████████████████████████████████████████▉                                                       | 48/101 [18:00<18:42, 21.18s/it]\u001b[A\n",
      " 49%|██████████████████████████████████████████████████▉                                                      | 49/101 [18:22<18:26, 21.28s/it]\u001b[A\n",
      " 50%|███████████████████████████████████████████████████▉                                                     | 50/101 [18:44<18:23, 21.63s/it]\u001b[A\n",
      " 50%|█████████████████████████████████████████████████████                                                    | 51/101 [19:07<18:11, 21.82s/it]\u001b[A"
     ]
    },
    {
     "name": "stdout",
     "output_type": "stream",
     "text": [
      "Evaluation 50 (Epsilon=0.01):\n",
      "\tTraining:\n",
      " \t\tGravity: 0.002171\n",
      " \t\tStability: 204.585\n",
      "\tEvalution:\n",
      " \t\tAAR: -16.1\n",
      " \t\tSES: 1.0\n",
      " \t\tMean Reward: -1000.0\n",
      " \t\tStd Reward: 0.0\n"
     ]
    },
    {
     "name": "stderr",
     "output_type": "stream",
     "text": [
      "\n",
      " 51%|██████████████████████████████████████████████████████                                                   | 52/101 [19:27<17:28, 21.39s/it]\u001b[A\n",
      " 52%|███████████████████████████████████████████████████████                                                  | 53/101 [19:48<16:56, 21.17s/it]\u001b[A\n",
      " 53%|████████████████████████████████████████████████████████▏                                                | 54/101 [20:08<16:28, 21.04s/it]\u001b[A\n",
      " 54%|█████████████████████████████████████████████████████████▏                                               | 55/101 [20:31<16:28, 21.50s/it]\u001b[A\n",
      " 55%|██████████████████████████████████████████████████████████▏                                              | 56/101 [20:52<16:03, 21.42s/it]\u001b[A\n",
      " 56%|███████████████████████████████████████████████████████████▎                                             | 57/101 [21:12<15:20, 20.93s/it]\u001b[A\n",
      " 57%|████████████████████████████████████████████████████████████▎                                            | 58/101 [21:33<15:02, 20.98s/it]\u001b[A\n",
      " 58%|█████████████████████████████████████████████████████████████▎                                           | 59/101 [21:53<14:32, 20.77s/it]\u001b[A\n",
      " 59%|██████████████████████████████████████████████████████████████▍                                          | 60/101 [22:16<14:29, 21.21s/it]\u001b[A\n",
      " 60%|███████████████████████████████████████████████████████████████▍                                         | 61/101 [22:37<14:04, 21.12s/it]\u001b[A"
     ]
    },
    {
     "name": "stdout",
     "output_type": "stream",
     "text": [
      "Evaluation 60 (Epsilon=0.01):\n",
      "\tTraining:\n",
      " \t\tGravity: 0.002258\n",
      " \t\tStability: 229.105\n",
      "\tEvalution:\n",
      " \t\tAAR: -14.337\n",
      " \t\tSES: 1.0\n",
      " \t\tMean Reward: -1000.0\n",
      " \t\tStd Reward: 0.0\n"
     ]
    },
    {
     "name": "stderr",
     "output_type": "stream",
     "text": [
      "\n",
      " 61%|████████████████████████████████████████████████████████████████▍                                        | 62/101 [22:55<13:17, 20.44s/it]\u001b[A\n",
      " 62%|█████████████████████████████████████████████████████████████████▍                                       | 63/101 [23:15<12:51, 20.31s/it]\u001b[A\n",
      " 63%|██████████████████████████████████████████████████████████████████▌                                      | 64/101 [23:37<12:44, 20.67s/it]\u001b[A\n",
      " 64%|███████████████████████████████████████████████████████████████████▌                                     | 65/101 [23:58<12:26, 20.72s/it]\u001b[A\n",
      " 65%|████████████████████████████████████████████████████████████████████▌                                    | 66/101 [24:19<12:12, 20.93s/it]\u001b[A\n",
      " 66%|█████████████████████████████████████████████████████████████████████▋                                   | 67/101 [24:41<12:03, 21.27s/it]\u001b[A\n",
      " 67%|██████████████████████████████████████████████████████████████████████▋                                  | 68/101 [25:06<12:20, 22.42s/it]\u001b[A\n",
      " 68%|███████████████████████████████████████████████████████████████████████▋                                 | 69/101 [25:29<12:02, 22.57s/it]\u001b[A\n",
      " 69%|████████████████████████████████████████████████████████████████████████▊                                | 70/101 [25:50<11:22, 22.02s/it]\u001b[A\n",
      " 70%|█████████████████████████████████████████████████████████████████████████▊                               | 71/101 [26:12<11:02, 22.07s/it]\u001b[A"
     ]
    },
    {
     "name": "stdout",
     "output_type": "stream",
     "text": [
      "Evaluation 70 (Epsilon=0.01):\n",
      "\tTraining:\n",
      " \t\tGravity: 0.002333\n",
      " \t\tStability: 147.024\n",
      "\tEvalution:\n",
      " \t\tAAR: -13.677\n",
      " \t\tSES: 1.0\n",
      " \t\tMean Reward: -1000.0\n",
      " \t\tStd Reward: 0.0\n"
     ]
    },
    {
     "name": "stderr",
     "output_type": "stream",
     "text": [
      "\n",
      " 71%|██████████████████████████████████████████████████████████████████████████▊                              | 72/101 [26:31<10:15, 21.21s/it]\u001b[A\n",
      " 72%|███████████████████████████████████████████████████████████████████████████▉                             | 73/101 [26:53<09:58, 21.39s/it]\u001b[A\n",
      " 73%|████████████████████████████████████████████████████████████████████████████▉                            | 74/101 [27:15<09:43, 21.62s/it]\u001b[A\n",
      " 74%|█████████████████████████████████████████████████████████████████████████████▉                           | 75/101 [27:40<09:42, 22.39s/it]\u001b[A\n",
      " 75%|███████████████████████████████████████████████████████████████████████████████                          | 76/101 [28:03<09:26, 22.65s/it]\u001b[A\n",
      " 76%|████████████████████████████████████████████████████████████████████████████████                         | 77/101 [28:23<08:44, 21.86s/it]\u001b[A\n",
      " 77%|█████████████████████████████████████████████████████████████████████████████████                        | 78/101 [28:43<08:12, 21.41s/it]\u001b[A\n",
      " 78%|██████████████████████████████████████████████████████████████████████████████████▏                      | 79/101 [29:04<07:48, 21.31s/it]\u001b[A\n",
      " 79%|███████████████████████████████████████████████████████████████████████████████████▏                     | 80/101 [29:26<07:30, 21.45s/it]\u001b[A\n",
      " 80%|████████████████████████████████████████████████████████████████████████████████████▏                    | 81/101 [29:47<07:04, 21.21s/it]\u001b[A"
     ]
    },
    {
     "name": "stdout",
     "output_type": "stream",
     "text": [
      "Evaluation 80 (Epsilon=0.01):\n",
      "\tTraining:\n",
      " \t\tGravity: 0.002397\n",
      " \t\tStability: 111.673\n",
      "\tEvalution:\n",
      " \t\tAAR: -12.971\n",
      " \t\tSES: 1.0\n",
      " \t\tMean Reward: -1000.0\n",
      " \t\tStd Reward: 0.0\n"
     ]
    },
    {
     "name": "stderr",
     "output_type": "stream",
     "text": [
      "\n",
      " 81%|█████████████████████████████████████████████████████████████████████████████████████▏                   | 82/101 [30:06<06:31, 20.62s/it]\u001b[A\n",
      " 82%|██████████████████████████████████████████████████████████████████████████████████████▎                  | 83/101 [30:26<06:06, 20.36s/it]\u001b[A\n",
      " 83%|███████████████████████████████████████████████████████████████████████████████████████▎                 | 84/101 [30:47<05:49, 20.55s/it]\u001b[A\n",
      " 84%|████████████████████████████████████████████████████████████████████████████████████████▎                | 85/101 [31:09<05:34, 20.93s/it]\u001b[A\n",
      " 85%|█████████████████████████████████████████████████████████████████████████████████████████▍               | 86/101 [31:35<05:37, 22.48s/it]\u001b[A\n",
      " 86%|██████████████████████████████████████████████████████████████████████████████████████████▍              | 87/101 [32:05<05:49, 24.99s/it]\u001b[A\n",
      " 87%|███████████████████████████████████████████████████████████████████████████████████████████▍             | 88/101 [32:29<05:19, 24.59s/it]\u001b[A\n",
      " 88%|████████████████████████████████████████████████████████████████████████████████████████████▌            | 89/101 [32:54<04:56, 24.68s/it]\u001b[A\n",
      " 89%|█████████████████████████████████████████████████████████████████████████████████████████████▌           | 90/101 [33:26<04:54, 26.77s/it]\u001b[A\n",
      " 90%|██████████████████████████████████████████████████████████████████████████████████████████████▌          | 91/101 [33:57<04:40, 28.04s/it]\u001b[A"
     ]
    },
    {
     "name": "stdout",
     "output_type": "stream",
     "text": [
      "Evaluation 90 (Epsilon=0.01):\n",
      "\tTraining:\n",
      " \t\tGravity: 0.002454\n",
      " \t\tStability: 235.766\n",
      "\tEvalution:\n",
      " \t\tAAR: -13.448\n",
      " \t\tSES: 1.0\n",
      " \t\tMean Reward: -1000.0\n",
      " \t\tStd Reward: 0.0\n"
     ]
    },
    {
     "name": "stderr",
     "output_type": "stream",
     "text": [
      "\n",
      " 91%|███████████████████████████████████████████████████████████████████████████████████████████████▋         | 92/101 [34:22<04:06, 27.38s/it]\u001b[A\n",
      " 92%|████████████████████████████████████████████████████████████████████████████████████████████████▋        | 93/101 [34:50<03:39, 27.41s/it]\u001b[A\n",
      " 93%|█████████████████████████████████████████████████████████████████████████████████████████████████▋       | 94/101 [35:11<02:59, 25.62s/it]\u001b[A\n",
      " 94%|██████████████████████████████████████████████████████████████████████████████████████████████████▊      | 95/101 [35:31<02:23, 23.92s/it]\u001b[A\n",
      " 95%|███████████████████████████████████████████████████████████████████████████████████████████████████▊     | 96/101 [35:52<01:54, 22.80s/it]\u001b[A\n",
      " 96%|████████████████████████████████████████████████████████████████████████████████████████████████████▊    | 97/101 [36:12<01:28, 22.20s/it]\u001b[A\n",
      " 97%|█████████████████████████████████████████████████████████████████████████████████████████████████████▉   | 98/101 [36:35<01:07, 22.40s/it]\u001b[A\n",
      " 98%|██████████████████████████████████████████████████████████████████████████████████████████████████████▉  | 99/101 [36:58<00:45, 22.60s/it]\u001b[A\n",
      " 99%|██████████████████████████████████████████████████████████████████████████████████████████████████████▉ | 100/101 [37:22<00:22, 22.89s/it]\u001b[A\n",
      "100%|████████████████████████████████████████████████████████████████████████████████████████████████████████| 101/101 [37:42<00:00, 22.40s/it]\u001b[A"
     ]
    },
    {
     "name": "stdout",
     "output_type": "stream",
     "text": [
      "Evaluation 100 (Epsilon=0.01):\n",
      "\tTraining:\n",
      " \t\tGravity: 0.002505\n",
      " \t\tStability: 191.845\n",
      "\tEvalution:\n",
      " \t\tAAR: -12.942\n",
      " \t\tSES: 1.0\n",
      " \t\tMean Reward: -1000.0\n",
      " \t\tStd Reward: 0.0\n"
     ]
    },
    {
     "name": "stderr",
     "output_type": "stream",
     "text": [
      "\n",
      " 64%|████████████████████████████████████████████████████████████████▎                                    | 7/11 [3:58:36<2:18:14, 2073.58s/it]"
     ]
    },
    {
     "name": "stdout",
     "output_type": "stream",
     "text": [
      "Training of 'dqn' via CL method 'logistic' has started\n"
     ]
    },
    {
     "name": "stderr",
     "output_type": "stream",
     "text": [
      "\n",
      "  0%|                                                                                                                  | 0/101 [00:00<?, ?it/s]\u001b[A\n",
      "  1%|█                                                                                                         | 1/101 [00:17<28:51, 17.31s/it]\u001b[A"
     ]
    },
    {
     "name": "stdout",
     "output_type": "stream",
     "text": [
      "Evaluation 0 (Epsilon=0.9209):\n",
      "\tTraining:\n",
      " \t\tGravity: 0.000267\n",
      " \t\tStability: 244.254\n",
      "\tEvalution:\n",
      " \t\tAAR: -154.678\n",
      " \t\tSES: 0.999\n",
      " \t\tMean Reward: -1000.0\n",
      " \t\tStd Reward: 0.0\n"
     ]
    },
    {
     "name": "stderr",
     "output_type": "stream",
     "text": [
      "\n",
      "  2%|██                                                                                                        | 2/101 [00:33<27:08, 16.45s/it]\u001b[A\n",
      "  3%|███▏                                                                                                      | 3/101 [00:50<27:48, 17.02s/it]\u001b[A\n",
      "  4%|████▏                                                                                                     | 4/101 [01:09<28:23, 17.57s/it]\u001b[A\n",
      "  5%|█████▏                                                                                                    | 5/101 [01:29<29:31, 18.46s/it]\u001b[A\n",
      "  6%|██████▎                                                                                                   | 6/101 [01:48<29:51, 18.85s/it]\u001b[A\n",
      "  7%|███████▎                                                                                                  | 7/101 [02:05<28:32, 18.22s/it]\u001b[A\n",
      "  8%|████████▍                                                                                                 | 8/101 [02:24<28:41, 18.51s/it]\u001b[A\n",
      "  9%|█████████▍                                                                                                | 9/101 [02:42<28:02, 18.29s/it]\u001b[A\n",
      " 10%|██████████▍                                                                                              | 10/101 [03:02<28:16, 18.64s/it]\u001b[A\n",
      " 11%|███████████▍                                                                                             | 11/101 [03:21<28:28, 18.98s/it]\u001b[A"
     ]
    },
    {
     "name": "stdout",
     "output_type": "stream",
     "text": [
      "Evaluation 10 (Epsilon=0.37785):\n",
      "\tTraining:\n",
      " \t\tGravity: 0.00029\n",
      " \t\tStability: 176.879\n",
      "\tEvalution:\n",
      " \t\tAAR: -131.483\n",
      " \t\tSES: 1.0\n",
      " \t\tMean Reward: -1000.0\n",
      " \t\tStd Reward: 0.0\n"
     ]
    },
    {
     "name": "stderr",
     "output_type": "stream",
     "text": [
      "\n",
      " 12%|████████████▍                                                                                            | 12/101 [03:41<28:25, 19.17s/it]\u001b[A\n",
      " 13%|█████████████▌                                                                                           | 13/101 [04:03<29:08, 19.87s/it]\u001b[A\n",
      " 14%|██████████████▌                                                                                          | 14/101 [04:23<28:51, 19.90s/it]\u001b[A\n",
      " 15%|███████████████▌                                                                                         | 15/101 [04:43<28:49, 20.11s/it]\u001b[A\n",
      " 16%|████████████████▋                                                                                        | 16/101 [05:04<28:55, 20.41s/it]\u001b[A\n",
      " 17%|█████████████████▋                                                                                       | 17/101 [05:25<28:48, 20.58s/it]\u001b[A\n",
      " 18%|██████████████████▋                                                                                      | 18/101 [05:47<28:49, 20.84s/it]\u001b[A\n",
      " 19%|███████████████████▊                                                                                     | 19/101 [06:10<29:42, 21.74s/it]\u001b[A\n",
      " 20%|████████████████████▊                                                                                    | 20/101 [06:33<29:48, 22.09s/it]\u001b[A\n",
      " 21%|█████████████████████▊                                                                                   | 21/101 [06:54<29:01, 21.77s/it]\u001b[A"
     ]
    },
    {
     "name": "stdout",
     "output_type": "stream",
     "text": [
      "Evaluation 20 (Epsilon=0.14028):\n",
      "\tTraining:\n",
      " \t\tGravity: 0.000357\n",
      " \t\tStability: 178.922\n",
      "\tEvalution:\n",
      " \t\tAAR: -100.741\n",
      " \t\tSES: 1.0\n",
      " \t\tMean Reward: -1000.0\n",
      " \t\tStd Reward: 0.0\n"
     ]
    },
    {
     "name": "stderr",
     "output_type": "stream",
     "text": [
      "\n",
      " 22%|██████████████████████▊                                                                                  | 22/101 [07:14<27:49, 21.13s/it]\u001b[A\n",
      " 23%|███████████████████████▉                                                                                 | 23/101 [07:34<27:01, 20.79s/it]\u001b[A\n",
      " 24%|████████████████████████▉                                                                                | 24/101 [07:53<26:01, 20.28s/it]\u001b[A\n",
      " 25%|█████████████████████████▉                                                                               | 25/101 [08:12<25:07, 19.84s/it]\u001b[A\n",
      " 26%|███████████████████████████                                                                              | 26/101 [08:32<24:56, 19.96s/it]\u001b[A\n",
      " 27%|████████████████████████████                                                                             | 27/101 [08:51<24:16, 19.68s/it]\u001b[A\n",
      " 28%|█████████████████████████████                                                                            | 28/101 [09:11<24:00, 19.73s/it]\u001b[A\n",
      " 29%|██████████████████████████████▏                                                                          | 29/101 [09:31<23:43, 19.78s/it]\u001b[A\n",
      " 30%|███████████████████████████████▏                                                                         | 30/101 [09:51<23:26, 19.81s/it]\u001b[A\n",
      " 31%|████████████████████████████████▏                                                                        | 31/101 [10:11<23:08, 19.84s/it]\u001b[A"
     ]
    },
    {
     "name": "stdout",
     "output_type": "stream",
     "text": [
      "Evaluation 30 (Epsilon=0.0516):\n",
      "\tTraining:\n",
      " \t\tGravity: 0.000518\n",
      " \t\tStability: 98.978\n",
      "\tEvalution:\n",
      " \t\tAAR: -62.044\n",
      " \t\tSES: 1.0\n",
      " \t\tMean Reward: -1000.0\n",
      " \t\tStd Reward: 0.0\n"
     ]
    },
    {
     "name": "stderr",
     "output_type": "stream",
     "text": [
      "\n",
      " 32%|█████████████████████████████████▎                                                                       | 32/101 [10:30<22:35, 19.65s/it]\u001b[A\n",
      " 33%|██████████████████████████████████▎                                                                      | 33/101 [10:51<22:40, 20.01s/it]\u001b[A\n",
      " 34%|███████████████████████████████████▎                                                                     | 34/101 [11:11<22:26, 20.09s/it]\u001b[A\n",
      " 35%|████████████████████████████████████▍                                                                    | 35/101 [11:32<22:16, 20.24s/it]\u001b[A\n",
      " 36%|█████████████████████████████████████▍                                                                   | 36/101 [11:52<22:03, 20.36s/it]\u001b[A\n",
      " 37%|██████████████████████████████████████▍                                                                  | 37/101 [12:14<22:10, 20.80s/it]\u001b[A\n",
      " 38%|███████████████████████████████████████▌                                                                 | 38/101 [12:36<22:03, 21.01s/it]\u001b[A\n",
      " 39%|████████████████████████████████████████▌                                                                | 39/101 [12:56<21:33, 20.87s/it]\u001b[A\n",
      " 40%|█████████████████████████████████████████▌                                                               | 40/101 [13:16<20:49, 20.49s/it]\u001b[A\n",
      " 41%|██████████████████████████████████████████▌                                                              | 41/101 [13:36<20:19, 20.32s/it]\u001b[A"
     ]
    },
    {
     "name": "stdout",
     "output_type": "stream",
     "text": [
      "Evaluation 40 (Epsilon=0.01898):\n",
      "\tTraining:\n",
      " \t\tGravity: 0.000855\n",
      " \t\tStability: 60.219\n",
      "\tEvalution:\n",
      " \t\tAAR: -34.751\n",
      " \t\tSES: 1.0\n",
      " \t\tMean Reward: -1000.0\n",
      " \t\tStd Reward: 0.0\n"
     ]
    },
    {
     "name": "stderr",
     "output_type": "stream",
     "text": [
      "\n",
      " 42%|███████████████████████████████████████████▋                                                             | 42/101 [13:55<19:48, 20.14s/it]\u001b[A\n",
      " 43%|████████████████████████████████████████████▋                                                            | 43/101 [14:17<19:48, 20.49s/it]\u001b[A\n",
      " 44%|█████████████████████████████████████████████▋                                                           | 44/101 [14:39<19:59, 21.05s/it]\u001b[A\n",
      " 45%|██████████████████████████████████████████████▊                                                          | 45/101 [15:01<19:56, 21.37s/it]\u001b[A\n",
      " 46%|███████████████████████████████████████████████▊                                                         | 46/101 [15:22<19:27, 21.23s/it]\u001b[A\n",
      " 47%|████████████████████████████████████████████████▊                                                        | 47/101 [15:42<18:46, 20.86s/it]\u001b[A\n",
      " 48%|█████████████████████████████████████████████████▉                                                       | 48/101 [16:04<18:46, 21.26s/it]\u001b[A\n",
      " 49%|██████████████████████████████████████████████████▉                                                      | 49/101 [16:25<18:15, 21.06s/it]\u001b[A\n",
      " 50%|███████████████████████████████████████████████████▉                                                     | 50/101 [16:45<17:41, 20.82s/it]\u001b[A\n",
      " 50%|█████████████████████████████████████████████████████                                                    | 51/101 [17:06<17:21, 20.82s/it]\u001b[A"
     ]
    },
    {
     "name": "stdout",
     "output_type": "stream",
     "text": [
      "Evaluation 50 (Epsilon=0.01):\n",
      "\tTraining:\n",
      " \t\tGravity: 0.001375\n",
      " \t\tStability: 128.15\n",
      "\tEvalution:\n",
      " \t\tAAR: -22.995\n",
      " \t\tSES: 1.0\n",
      " \t\tMean Reward: -1000.0\n",
      " \t\tStd Reward: 0.0\n"
     ]
    },
    {
     "name": "stderr",
     "output_type": "stream",
     "text": [
      "\n",
      " 51%|██████████████████████████████████████████████████████                                                   | 52/101 [17:26<16:47, 20.56s/it]\u001b[A\n",
      " 52%|███████████████████████████████████████████████████████                                                  | 53/101 [17:46<16:25, 20.53s/it]\u001b[A\n",
      " 53%|████████████████████████████████████████████████████████▏                                                | 54/101 [18:11<17:07, 21.85s/it]\u001b[A\n",
      " 54%|█████████████████████████████████████████████████████████▏                                               | 55/101 [18:33<16:36, 21.67s/it]\u001b[A\n",
      " 55%|██████████████████████████████████████████████████████████▏                                              | 56/101 [18:52<15:47, 21.06s/it]\u001b[A\n",
      " 56%|███████████████████████████████████████████████████████████▎                                             | 57/101 [19:12<15:05, 20.59s/it]\u001b[A\n",
      " 57%|████████████████████████████████████████████████████████████▎                                            | 58/101 [19:32<14:46, 20.62s/it]\u001b[A\n",
      " 58%|█████████████████████████████████████████████████████████████▎                                           | 59/101 [19:55<14:55, 21.32s/it]\u001b[A\n",
      " 59%|██████████████████████████████████████████████████████████████▍                                          | 60/101 [20:22<15:33, 22.78s/it]\u001b[A\n",
      " 60%|███████████████████████████████████████████████████████████████▍                                         | 61/101 [20:47<15:40, 23.51s/it]\u001b[A"
     ]
    },
    {
     "name": "stdout",
     "output_type": "stream",
     "text": [
      "Evaluation 60 (Epsilon=0.01):\n",
      "\tTraining:\n",
      " \t\tGravity: 0.001895\n",
      " \t\tStability: 186.408\n",
      "\tEvalution:\n",
      " \t\tAAR: -17.669\n",
      " \t\tSES: 1.0\n",
      " \t\tMean Reward: -1000.0\n",
      " \t\tStd Reward: 0.0\n"
     ]
    },
    {
     "name": "stderr",
     "output_type": "stream",
     "text": [
      "\n",
      " 61%|████████████████████████████████████████████████████████████████▍                                        | 62/101 [21:09<14:58, 23.04s/it]\u001b[A\n",
      " 62%|█████████████████████████████████████████████████████████████████▍                                       | 63/101 [21:30<14:18, 22.59s/it]\u001b[A\n",
      " 63%|██████████████████████████████████████████████████████████████████▌                                      | 64/101 [21:52<13:52, 22.50s/it]\u001b[A\n",
      " 64%|███████████████████████████████████████████████████████████████████▌                                     | 65/101 [22:14<13:16, 22.12s/it]\u001b[A\n",
      " 65%|████████████████████████████████████████████████████████████████████▌                                    | 66/101 [22:34<12:31, 21.48s/it]\u001b[A\n",
      " 66%|█████████████████████████████████████████████████████████████████████▋                                   | 67/101 [22:55<12:05, 21.34s/it]\u001b[A\n",
      " 67%|██████████████████████████████████████████████████████████████████████▋                                  | 68/101 [23:15<11:30, 20.91s/it]\u001b[A\n",
      " 68%|███████████████████████████████████████████████████████████████████████▋                                 | 69/101 [23:35<11:00, 20.65s/it]\u001b[A\n",
      " 69%|████████████████████████████████████████████████████████████████████████▊                                | 70/101 [23:55<10:37, 20.55s/it]\u001b[A\n",
      " 70%|█████████████████████████████████████████████████████████████████████████▊                               | 71/101 [24:18<10:39, 21.31s/it]\u001b[A"
     ]
    },
    {
     "name": "stdout",
     "output_type": "stream",
     "text": [
      "Evaluation 70 (Epsilon=0.01):\n",
      "\tTraining:\n",
      " \t\tGravity: 0.002232\n",
      " \t\tStability: 125.546\n",
      "\tEvalution:\n",
      " \t\tAAR: -15.598\n",
      " \t\tSES: 1.0\n",
      " \t\tMean Reward: -1000.0\n",
      " \t\tStd Reward: 0.0\n"
     ]
    },
    {
     "name": "stderr",
     "output_type": "stream",
     "text": [
      "\n",
      " 71%|██████████████████████████████████████████████████████████████████████████▊                              | 72/101 [24:41<10:34, 21.90s/it]\u001b[A\n",
      " 72%|███████████████████████████████████████████████████████████████████████████▉                             | 73/101 [25:07<10:46, 23.08s/it]\u001b[A\n",
      " 73%|████████████████████████████████████████████████████████████████████████████▉                            | 74/101 [25:30<10:17, 22.88s/it]\u001b[A\n",
      " 74%|█████████████████████████████████████████████████████████████████████████████▉                           | 75/101 [25:51<09:42, 22.39s/it]\u001b[A\n",
      " 75%|███████████████████████████████████████████████████████████████████████████████                          | 76/101 [26:12<09:06, 21.86s/it]\u001b[A\n",
      " 76%|████████████████████████████████████████████████████████████████████████████████                         | 77/101 [26:33<08:40, 21.70s/it]\u001b[A\n",
      " 77%|█████████████████████████████████████████████████████████████████████████████████                        | 78/101 [26:55<08:25, 21.99s/it]\u001b[A\n",
      " 78%|██████████████████████████████████████████████████████████████████████████████████▏                      | 79/101 [27:18<08:07, 22.15s/it]\u001b[A\n",
      " 79%|███████████████████████████████████████████████████████████████████████████████████▏                     | 80/101 [27:39<07:36, 21.72s/it]\u001b[A\n",
      " 80%|████████████████████████████████████████████████████████████████████████████████████▏                    | 81/101 [28:02<07:24, 22.21s/it]\u001b[A"
     ]
    },
    {
     "name": "stdout",
     "output_type": "stream",
     "text": [
      "Evaluation 80 (Epsilon=0.01):\n",
      "\tTraining:\n",
      " \t\tGravity: 0.002393\n",
      " \t\tStability: 125.538\n",
      "\tEvalution:\n",
      " \t\tAAR: -12.799\n",
      " \t\tSES: 1.0\n",
      " \t\tMean Reward: -1000.0\n",
      " \t\tStd Reward: 0.0\n"
     ]
    },
    {
     "name": "stderr",
     "output_type": "stream",
     "text": [
      "\n",
      " 81%|█████████████████████████████████████████████████████████████████████████████████████▏                   | 82/101 [28:26<07:10, 22.67s/it]\u001b[A\n",
      " 82%|██████████████████████████████████████████████████████████████████████████████████████▎                  | 83/101 [28:47<06:41, 22.29s/it]\u001b[A\n",
      " 83%|███████████████████████████████████████████████████████████████████████████████████████▎                 | 84/101 [29:10<06:22, 22.53s/it]\u001b[A\n",
      " 84%|████████████████████████████████████████████████████████████████████████████████████████▎                | 85/101 [29:34<06:06, 22.91s/it]\u001b[A\n",
      " 85%|█████████████████████████████████████████████████████████████████████████████████████████▍               | 86/101 [29:55<05:33, 22.20s/it]\u001b[A\n",
      " 86%|██████████████████████████████████████████████████████████████████████████████████████████▍              | 87/101 [30:18<05:15, 22.51s/it]\u001b[A\n",
      " 87%|███████████████████████████████████████████████████████████████████████████████████████████▍             | 88/101 [30:39<04:47, 22.09s/it]\u001b[A\n",
      " 88%|████████████████████████████████████████████████████████████████████████████████████████████▌            | 89/101 [31:03<04:30, 22.52s/it]\u001b[A\n",
      " 89%|█████████████████████████████████████████████████████████████████████████████████████████████▌           | 90/101 [31:25<04:06, 22.42s/it]\u001b[A\n",
      " 90%|██████████████████████████████████████████████████████████████████████████████████████████████▌          | 91/101 [31:46<03:41, 22.19s/it]\u001b[A"
     ]
    },
    {
     "name": "stdout",
     "output_type": "stream",
     "text": [
      "Evaluation 90 (Epsilon=0.01):\n",
      "\tTraining:\n",
      " \t\tGravity: 0.00246\n",
      " \t\tStability: 134.591\n",
      "\tEvalution:\n",
      " \t\tAAR: -13.038\n",
      " \t\tSES: 1.0\n",
      " \t\tMean Reward: -1000.0\n",
      " \t\tStd Reward: 0.0\n"
     ]
    },
    {
     "name": "stderr",
     "output_type": "stream",
     "text": [
      "\n",
      " 91%|███████████████████████████████████████████████████████████████████████████████████████████████▋         | 92/101 [32:08<03:17, 21.97s/it]\u001b[A\n",
      " 92%|████████████████████████████████████████████████████████████████████████████████████████████████▋        | 93/101 [32:29<02:53, 21.71s/it]\u001b[A\n",
      " 93%|█████████████████████████████████████████████████████████████████████████████████████████████████▋       | 94/101 [32:51<02:33, 21.96s/it]\u001b[A\n",
      " 94%|██████████████████████████████████████████████████████████████████████████████████████████████████▊      | 95/101 [33:14<02:12, 22.04s/it]\u001b[A\n",
      " 95%|███████████████████████████████████████████████████████████████████████████████████████████████████▊     | 96/101 [33:35<01:48, 21.71s/it]\u001b[A\n",
      " 96%|████████████████████████████████████████████████████████████████████████████████████████████████████▊    | 97/101 [33:56<01:26, 21.63s/it]\u001b[A\n",
      " 97%|█████████████████████████████████████████████████████████████████████████████████████████████████████▉   | 98/101 [34:18<01:04, 21.60s/it]\u001b[A\n",
      " 98%|██████████████████████████████████████████████████████████████████████████████████████████████████████▉  | 99/101 [34:40<00:43, 21.98s/it]\u001b[A\n",
      " 99%|██████████████████████████████████████████████████████████████████████████████████████████████████████▉ | 100/101 [35:02<00:21, 21.94s/it]\u001b[A\n",
      "100%|████████████████████████████████████████████████████████████████████████████████████████████████████████| 101/101 [35:22<00:00, 21.02s/it]\u001b[A"
     ]
    },
    {
     "name": "stdout",
     "output_type": "stream",
     "text": [
      "Evaluation 100 (Epsilon=0.01):\n",
      "\tTraining:\n",
      " \t\tGravity: 0.002485\n",
      " \t\tStability: 188.356\n",
      "\tEvalution:\n",
      " \t\tAAR: -13.007\n",
      " \t\tSES: 1.0\n",
      " \t\tMean Reward: -1000.0\n",
      " \t\tStd Reward: 0.0\n"
     ]
    },
    {
     "name": "stderr",
     "output_type": "stream",
     "text": [
      "\n",
      " 73%|█████████████████████████████████████████████████████████████████████████▍                           | 8/11 [4:34:00<1:44:28, 2089.63s/it]"
     ]
    },
    {
     "name": "stdout",
     "output_type": "stream",
     "text": [
      "Training of 'dqn' via CL method 'mixture' has started\n"
     ]
    },
    {
     "name": "stderr",
     "output_type": "stream",
     "text": [
      "\n",
      "  0%|                                                                                                                  | 0/101 [00:00<?, ?it/s]\u001b[A\n",
      "  1%|█                                                                                                         | 1/101 [00:13<22:16, 13.37s/it]\u001b[A"
     ]
    },
    {
     "name": "stdout",
     "output_type": "stream",
     "text": [
      "Evaluation 0 (Epsilon=0.93632):\n",
      "\tTraining:\n",
      " \t\tGravity: 0.00025\n",
      " \t\tStability: 521.888\n",
      "\tEvalution:\n",
      " \t\tAAR: -175.098\n",
      " \t\tSES: 0.999\n",
      " \t\tMean Reward: -1000.0\n",
      " \t\tStd Reward: 0.0\n"
     ]
    },
    {
     "name": "stderr",
     "output_type": "stream",
     "text": [
      "\n",
      "  2%|██                                                                                                        | 2/101 [00:26<22:11, 13.45s/it]\u001b[A\n",
      "  3%|███▏                                                                                                      | 3/101 [00:36<19:23, 11.87s/it]\u001b[A\n",
      "  4%|████▏                                                                                                     | 4/101 [00:47<18:13, 11.28s/it]\u001b[A\n",
      "  5%|█████▏                                                                                                    | 5/101 [01:00<18:54, 11.82s/it]\u001b[A\n",
      "  6%|██████▎                                                                                                   | 6/101 [01:08<16:44, 10.57s/it]\u001b[A\n",
      "  7%|███████▎                                                                                                  | 7/101 [01:15<14:50,  9.47s/it]\u001b[A\n",
      "  8%|████████▍                                                                                                 | 8/101 [01:25<15:14,  9.83s/it]\u001b[A\n",
      "  9%|█████████▍                                                                                                | 9/101 [01:38<16:36, 10.83s/it]\u001b[A\n",
      " 10%|██████████▍                                                                                              | 10/101 [01:50<16:48, 11.08s/it]\u001b[A\n",
      " 11%|███████████▍                                                                                             | 11/101 [01:59<15:49, 10.55s/it]\u001b[A"
     ]
    },
    {
     "name": "stdout",
     "output_type": "stream",
     "text": [
      "Evaluation 10 (Epsilon=0.58052):\n",
      "\tTraining:\n",
      " \t\tGravity: 0.0007\n",
      " \t\tStability: 496.401\n",
      "\tEvalution:\n",
      " \t\tAAR: -63.583\n",
      " \t\tSES: 0.996\n",
      " \t\tMean Reward: -1000.0\n",
      " \t\tStd Reward: 0.0\n"
     ]
    },
    {
     "name": "stderr",
     "output_type": "stream",
     "text": [
      "\n",
      " 12%|████████████▍                                                                                            | 12/101 [02:14<17:18, 11.66s/it]\u001b[A\n",
      " 13%|█████████████▌                                                                                           | 13/101 [02:26<17:26, 11.89s/it]\u001b[A\n",
      " 14%|██████████████▌                                                                                          | 14/101 [02:38<17:17, 11.93s/it]\u001b[A\n",
      " 15%|███████████████▌                                                                                         | 15/101 [02:47<15:47, 11.02s/it]\u001b[A\n",
      " 16%|████████████████▋                                                                                        | 16/101 [02:57<15:10, 10.71s/it]\u001b[A\n",
      " 17%|█████████████████▋                                                                                       | 17/101 [03:08<15:09, 10.83s/it]\u001b[A\n",
      " 18%|██████████████████▋                                                                                      | 18/101 [03:21<15:58, 11.55s/it]\u001b[A\n",
      " 19%|███████████████████▊                                                                                     | 19/101 [03:35<16:48, 12.30s/it]\u001b[A\n",
      " 20%|████████████████████▊                                                                                    | 20/101 [03:54<19:11, 14.22s/it]\u001b[A\n",
      " 21%|█████████████████████▊                                                                                   | 21/101 [04:12<20:30, 15.39s/it]\u001b[A"
     ]
    },
    {
     "name": "stdout",
     "output_type": "stream",
     "text": [
      "Evaluation 20 (Epsilon=0.3105):\n",
      "\tTraining:\n",
      " \t\tGravity: 0.00115\n",
      " \t\tStability: 334.403\n",
      "\tEvalution:\n",
      " \t\tAAR: -37.127\n",
      " \t\tSES: 0.999\n",
      " \t\tMean Reward: -1000.0\n",
      " \t\tStd Reward: 0.0\n"
     ]
    },
    {
     "name": "stderr",
     "output_type": "stream",
     "text": [
      "\n",
      " 22%|██████████████████████▊                                                                                  | 22/101 [04:28<20:20, 15.45s/it]\u001b[A\n",
      " 23%|███████████████████████▉                                                                                 | 23/101 [04:41<19:03, 14.65s/it]\u001b[A\n",
      " 24%|████████████████████████▉                                                                                | 24/101 [04:57<19:21, 15.08s/it]\u001b[A\n",
      " 25%|█████████████████████████▉                                                                               | 25/101 [05:10<18:15, 14.42s/it]\u001b[A\n",
      " 26%|███████████████████████████                                                                              | 26/101 [05:27<19:18, 15.45s/it]\u001b[A\n",
      " 27%|████████████████████████████                                                                             | 27/101 [05:45<19:45, 16.02s/it]\u001b[A\n",
      " 28%|█████████████████████████████                                                                            | 28/101 [06:05<20:52, 17.16s/it]\u001b[A\n",
      " 29%|██████████████████████████████▏                                                                          | 29/101 [06:25<21:52, 18.22s/it]\u001b[A\n",
      " 30%|███████████████████████████████▏                                                                         | 30/101 [06:42<21:09, 17.88s/it]\u001b[A\n",
      " 31%|████████████████████████████████▏                                                                        | 31/101 [07:02<21:25, 18.36s/it]\u001b[A"
     ]
    },
    {
     "name": "stdout",
     "output_type": "stream",
     "text": [
      "Evaluation 30 (Epsilon=0.14013):\n",
      "\tTraining:\n",
      " \t\tGravity: 0.0016\n",
      " \t\tStability: 294.222\n",
      "\tEvalution:\n",
      " \t\tAAR: -27.818\n",
      " \t\tSES: 1.0\n",
      " \t\tMean Reward: -1000.0\n",
      " \t\tStd Reward: 0.0\n"
     ]
    },
    {
     "name": "stderr",
     "output_type": "stream",
     "text": [
      "\n",
      " 32%|█████████████████████████████████▎                                                                       | 32/101 [07:24<22:33, 19.61s/it]\u001b[A\n",
      " 33%|██████████████████████████████████▎                                                                      | 33/101 [07:45<22:24, 19.78s/it]\u001b[A\n",
      " 34%|███████████████████████████████████▎                                                                     | 34/101 [08:06<22:35, 20.23s/it]\u001b[A\n",
      " 35%|████████████████████████████████████▍                                                                    | 35/101 [08:28<22:52, 20.80s/it]\u001b[A\n",
      " 36%|█████████████████████████████████████▍                                                                   | 36/101 [08:50<23:04, 21.29s/it]\u001b[A\n",
      " 37%|██████████████████████████████████████▍                                                                  | 37/101 [09:12<22:43, 21.31s/it]\u001b[A\n",
      " 38%|███████████████████████████████████████▌                                                                 | 38/101 [09:33<22:29, 21.42s/it]\u001b[A\n",
      " 39%|████████████████████████████████████████▌                                                                | 39/101 [09:56<22:36, 21.88s/it]\u001b[A\n",
      " 40%|█████████████████████████████████████████▌                                                               | 40/101 [10:18<22:11, 21.82s/it]\u001b[A\n",
      " 41%|██████████████████████████████████████████▌                                                              | 41/101 [10:37<21:00, 21.00s/it]\u001b[A"
     ]
    },
    {
     "name": "stdout",
     "output_type": "stream",
     "text": [
      "Evaluation 40 (Epsilon=0.05241):\n",
      "\tTraining:\n",
      " \t\tGravity: 0.00205\n",
      " \t\tStability: 188.196\n",
      "\tEvalution:\n",
      " \t\tAAR: -20.49\n",
      " \t\tSES: 1.0\n",
      " \t\tMean Reward: -1000.0\n",
      " \t\tStd Reward: 0.0\n"
     ]
    },
    {
     "name": "stderr",
     "output_type": "stream",
     "text": [
      "\n",
      " 42%|███████████████████████████████████████████▋                                                             | 42/101 [10:57<20:25, 20.77s/it]\u001b[A\n",
      " 43%|████████████████████████████████████████████▋                                                            | 43/101 [11:17<19:45, 20.44s/it]\u001b[A\n",
      " 44%|█████████████████████████████████████████████▋                                                           | 44/101 [11:37<19:20, 20.36s/it]\u001b[A\n",
      " 45%|██████████████████████████████████████████████▊                                                          | 45/101 [11:58<19:00, 20.36s/it]\u001b[A\n",
      " 46%|███████████████████████████████████████████████▊                                                         | 46/101 [12:17<18:27, 20.14s/it]\u001b[A\n",
      " 47%|████████████████████████████████████████████████▊                                                        | 47/101 [12:37<18:07, 20.13s/it]\u001b[A\n",
      " 48%|█████████████████████████████████████████████████▉                                                       | 48/101 [12:58<17:52, 20.23s/it]\u001b[A\n",
      " 49%|██████████████████████████████████████████████████▉                                                      | 49/101 [13:17<17:22, 20.04s/it]\u001b[A\n",
      " 50%|███████████████████████████████████████████████████▉                                                     | 50/101 [13:37<16:49, 19.79s/it]\u001b[A\n",
      " 50%|█████████████████████████████████████████████████████                                                    | 51/101 [13:38<11:59, 14.38s/it]\u001b[A"
     ]
    },
    {
     "name": "stdout",
     "output_type": "stream",
     "text": [
      "Evaluation 50 (Epsilon=0.0212):\n",
      "\tTraining:\n",
      " \t\tGravity: 0.00025\n",
      " \t\tStability: 4.477\n",
      "\tEvalution:\n",
      " \t\tAAR: -233.124\n",
      " \t\tSES: 1.0\n",
      " \t\tMean Reward: -1000.0\n",
      " \t\tStd Reward: 0.0\n"
     ]
    },
    {
     "name": "stderr",
     "output_type": "stream",
     "text": [
      "\n",
      " 51%|██████████████████████████████████████████████████████                                                   | 52/101 [13:40<08:41, 10.64s/it]\u001b[A\n",
      " 52%|███████████████████████████████████████████████████████                                                  | 53/101 [13:42<06:23,  8.00s/it]\u001b[A\n",
      " 53%|████████████████████████████████████████████████████████▏                                                | 54/101 [13:44<04:49,  6.16s/it]\u001b[A\n",
      " 54%|█████████████████████████████████████████████████████████▏                                               | 55/101 [13:46<03:46,  4.93s/it]\u001b[A\n",
      " 55%|██████████████████████████████████████████████████████████▏                                              | 56/101 [13:48<03:06,  4.16s/it]\u001b[A\n",
      " 56%|███████████████████████████████████████████████████████████▎                                             | 57/101 [13:50<02:29,  3.41s/it]\u001b[A\n",
      " 57%|████████████████████████████████████████████████████████████▎                                            | 58/101 [13:52<02:03,  2.87s/it]\u001b[A\n",
      " 58%|█████████████████████████████████████████████████████████████▎                                           | 59/101 [13:53<01:43,  2.46s/it]\u001b[A\n",
      " 59%|██████████████████████████████████████████████████████████████▍                                          | 60/101 [13:55<01:27,  2.15s/it]\u001b[A\n",
      " 60%|███████████████████████████████████████████████████████████████▍                                         | 61/101 [13:56<01:19,  1.99s/it]\u001b[A"
     ]
    },
    {
     "name": "stdout",
     "output_type": "stream",
     "text": [
      "Evaluation 60 (Epsilon=0.02021):\n",
      "\tTraining:\n",
      " \t\tGravity: 0.00034\n",
      " \t\tStability: 1.565\n",
      "\tEvalution:\n",
      " \t\tAAR: -164.998\n",
      " \t\tSES: 1.0\n",
      " \t\tMean Reward: -1000.0\n",
      " \t\tStd Reward: 0.0\n"
     ]
    },
    {
     "name": "stderr",
     "output_type": "stream",
     "text": [
      "\n",
      " 61%|████████████████████████████████████████████████████████████████▍                                        | 62/101 [13:58<01:14,  1.91s/it]\u001b[A\n",
      " 62%|█████████████████████████████████████████████████████████████████▍                                       | 63/101 [14:00<01:12,  1.92s/it]\u001b[A\n",
      " 63%|██████████████████████████████████████████████████████████████████▌                                      | 64/101 [14:02<01:12,  1.97s/it]\u001b[A\n",
      " 64%|███████████████████████████████████████████████████████████████████▌                                     | 65/101 [14:04<01:09,  1.93s/it]\u001b[A\n",
      " 65%|████████████████████████████████████████████████████████████████████▌                                    | 66/101 [14:06<01:06,  1.89s/it]\u001b[A\n",
      " 66%|█████████████████████████████████████████████████████████████████████▋                                   | 67/101 [14:07<01:03,  1.86s/it]\u001b[A\n",
      " 67%|██████████████████████████████████████████████████████████████████████▋                                  | 68/101 [14:09<01:00,  1.83s/it]\u001b[A\n",
      " 68%|███████████████████████████████████████████████████████████████████████▋                                 | 69/101 [14:11<01:00,  1.89s/it]\u001b[A\n",
      " 69%|████████████████████████████████████████████████████████████████████████▊                                | 70/101 [14:13<01:00,  1.94s/it]\u001b[A\n",
      " 70%|█████████████████████████████████████████████████████████████████████████▊                               | 71/101 [14:15<00:57,  1.91s/it]\u001b[A"
     ]
    },
    {
     "name": "stdout",
     "output_type": "stream",
     "text": [
      "Evaluation 70 (Epsilon=0.0192):\n",
      "\tTraining:\n",
      " \t\tGravity: 0.00061\n",
      " \t\tStability: 3.245\n",
      "\tEvalution:\n",
      " \t\tAAR: -93.989\n",
      " \t\tSES: 1.0\n",
      " \t\tMean Reward: -1000.0\n",
      " \t\tStd Reward: 0.0\n"
     ]
    },
    {
     "name": "stderr",
     "output_type": "stream",
     "text": [
      "\n",
      " 71%|██████████████████████████████████████████████████████████████████████████▊                              | 72/101 [14:17<00:53,  1.85s/it]\u001b[A\n",
      " 72%|███████████████████████████████████████████████████████████████████████████▉                             | 73/101 [14:19<00:51,  1.83s/it]\u001b[A\n",
      " 73%|████████████████████████████████████████████████████████████████████████████▉                            | 74/101 [14:20<00:49,  1.84s/it]\u001b[A\n",
      " 74%|█████████████████████████████████████████████████████████████████████████████▉                           | 75/101 [14:22<00:47,  1.83s/it]\u001b[A\n",
      " 75%|███████████████████████████████████████████████████████████████████████████████                          | 76/101 [14:24<00:46,  1.85s/it]\u001b[A\n",
      " 76%|████████████████████████████████████████████████████████████████████████████████                         | 77/101 [14:26<00:44,  1.87s/it]\u001b[A\n",
      " 77%|█████████████████████████████████████████████████████████████████████████████████                        | 78/101 [14:28<00:45,  1.97s/it]\u001b[A\n",
      " 78%|██████████████████████████████████████████████████████████████████████████████████▏                      | 79/101 [14:30<00:44,  2.02s/it]\u001b[A\n",
      " 79%|███████████████████████████████████████████████████████████████████████████████████▏                     | 80/101 [14:33<00:43,  2.08s/it]\u001b[A\n",
      " 80%|████████████████████████████████████████████████████████████████████████████████████▏                    | 81/101 [14:35<00:43,  2.18s/it]\u001b[A"
     ]
    },
    {
     "name": "stdout",
     "output_type": "stream",
     "text": [
      "Evaluation 80 (Epsilon=0.01808):\n",
      "\tTraining:\n",
      " \t\tGravity: 0.00106\n",
      " \t\tStability: 6.86\n",
      "\tEvalution:\n",
      " \t\tAAR: -46.994\n",
      " \t\tSES: 1.0\n",
      " \t\tMean Reward: -1000.0\n",
      " \t\tStd Reward: 0.0\n"
     ]
    },
    {
     "name": "stderr",
     "output_type": "stream",
     "text": [
      "\n",
      " 81%|█████████████████████████████████████████████████████████████████████████████████████▏                   | 82/101 [14:37<00:42,  2.24s/it]\u001b[A\n",
      " 82%|██████████████████████████████████████████████████████████████████████████████████████▎                  | 83/101 [14:40<00:40,  2.24s/it]\u001b[A\n",
      " 83%|███████████████████████████████████████████████████████████████████████████████████████▎                 | 84/101 [14:45<00:54,  3.21s/it]\u001b[A\n",
      " 84%|████████████████████████████████████████████████████████████████████████████████████████▎                | 85/101 [14:57<01:33,  5.84s/it]\u001b[A\n",
      " 85%|█████████████████████████████████████████████████████████████████████████████████████████▍               | 86/101 [15:09<01:56,  7.76s/it]\u001b[A\n",
      " 86%|██████████████████████████████████████████████████████████████████████████████████████████▍              | 87/101 [15:16<01:42,  7.30s/it]\u001b[A\n",
      " 87%|███████████████████████████████████████████████████████████████████████████████████████████▍             | 88/101 [15:34<02:17, 10.58s/it]\u001b[A\n",
      " 88%|████████████████████████████████████████████████████████████████████████████████████████████▌            | 89/101 [15:55<02:45, 13.76s/it]\u001b[A\n",
      " 89%|█████████████████████████████████████████████████████████████████████████████████████████████▌           | 90/101 [16:16<02:56, 16.02s/it]\u001b[A\n",
      " 90%|██████████████████████████████████████████████████████████████████████████████████████████████▌          | 91/101 [16:38<02:56, 17.67s/it]\u001b[A"
     ]
    },
    {
     "name": "stdout",
     "output_type": "stream",
     "text": [
      "Evaluation 90 (Epsilon=0.01028):\n",
      "\tTraining:\n",
      " \t\tGravity: 0.00169\n",
      " \t\tStability: 274.85\n",
      "\tEvalution:\n",
      " \t\tAAR: -27.137\n",
      " \t\tSES: 1.0\n",
      " \t\tMean Reward: -1000.0\n",
      " \t\tStd Reward: 0.0\n"
     ]
    },
    {
     "name": "stderr",
     "output_type": "stream",
     "text": [
      "\n",
      " 91%|███████████████████████████████████████████████████████████████████████████████████████████████▋         | 92/101 [16:59<02:49, 18.80s/it]\u001b[A\n",
      " 92%|████████████████████████████████████████████████████████████████████████████████████████████████▋        | 93/101 [17:20<02:36, 19.53s/it]\u001b[A\n",
      " 93%|█████████████████████████████████████████████████████████████████████████████████████████████████▋       | 94/101 [17:43<02:22, 20.31s/it]\u001b[A\n",
      " 94%|██████████████████████████████████████████████████████████████████████████████████████████████████▊      | 95/101 [18:08<02:11, 22.00s/it]\u001b[A\n",
      " 95%|███████████████████████████████████████████████████████████████████████████████████████████████████▊     | 96/101 [18:31<01:50, 22.15s/it]\u001b[A\n",
      " 96%|████████████████████████████████████████████████████████████████████████████████████████████████████▊    | 97/101 [18:52<01:27, 21.94s/it]\u001b[A\n",
      " 97%|█████████████████████████████████████████████████████████████████████████████████████████████████████▉   | 98/101 [19:13<01:04, 21.44s/it]\u001b[A\n",
      " 98%|██████████████████████████████████████████████████████████████████████████████████████████████████████▉  | 99/101 [19:33<00:41, 21.00s/it]\u001b[A\n",
      " 99%|██████████████████████████████████████████████████████████████████████████████████████████████████████▉ | 100/101 [19:57<00:21, 22.00s/it]\u001b[A\n",
      "100%|████████████████████████████████████████████████████████████████████████████████████████████████████████| 101/101 [20:23<00:00, 12.11s/it]\u001b[A"
     ]
    },
    {
     "name": "stdout",
     "output_type": "stream",
     "text": [
      "Evaluation 100 (Epsilon=0.01):\n",
      "\tTraining:\n",
      " \t\tGravity: 0.0025\n",
      " \t\tStability: 135.704\n",
      "\tEvalution:\n",
      " \t\tAAR: -16.173\n",
      " \t\tSES: 1.0\n",
      " \t\tMean Reward: -1000.0\n",
      " \t\tStd Reward: 0.0\n"
     ]
    },
    {
     "name": "stderr",
     "output_type": "stream",
     "text": [
      "\n",
      " 82%|██████████████████████████████████████████████████████████████████████████████████▋                  | 9/11 [4:54:25<1:00:38, 1819.15s/it]"
     ]
    },
    {
     "name": "stdout",
     "output_type": "stream",
     "text": [
      "Training of 'dqn' via CL method 'polynomial' has started\n"
     ]
    },
    {
     "name": "stderr",
     "output_type": "stream",
     "text": [
      "\n",
      "  0%|                                                                                                                  | 0/101 [00:00<?, ?it/s]\u001b[A\n",
      "  1%|█                                                                                                         | 1/101 [00:15<25:54, 15.55s/it]\u001b[A"
     ]
    },
    {
     "name": "stdout",
     "output_type": "stream",
     "text": [
      "Evaluation 0 (Epsilon=0.92293):\n",
      "\tTraining:\n",
      " \t\tGravity: 0.00025\n",
      " \t\tStability: 356.287\n",
      "\tEvalution:\n",
      " \t\tAAR: -174.334\n",
      " \t\tSES: 0.999\n",
      " \t\tMean Reward: -1000.0\n",
      " \t\tStd Reward: 0.0\n"
     ]
    },
    {
     "name": "stderr",
     "output_type": "stream",
     "text": [
      "\n",
      "  2%|██                                                                                                        | 2/101 [00:33<27:34, 16.71s/it]\u001b[A\n",
      "  3%|███▏                                                                                                      | 3/101 [00:52<29:37, 18.13s/it]\u001b[A\n",
      "  4%|████▏                                                                                                     | 4/101 [01:14<31:29, 19.48s/it]\u001b[A\n",
      "  5%|█████▏                                                                                                    | 5/101 [01:31<29:45, 18.60s/it]\u001b[A\n",
      "  6%|██████▎                                                                                                   | 6/101 [01:49<29:08, 18.41s/it]\u001b[A\n",
      "  7%|███████▎                                                                                                  | 7/101 [02:13<31:40, 20.22s/it]\u001b[A\n",
      "  8%|████████▍                                                                                                 | 8/101 [02:41<35:04, 22.63s/it]\u001b[A\n",
      "  9%|█████████▍                                                                                                | 9/101 [03:00<33:09, 21.63s/it]\u001b[A\n",
      " 10%|██████████▍                                                                                              | 10/101 [03:20<32:08, 21.19s/it]\u001b[A\n",
      " 11%|███████████▍                                                                                             | 11/101 [03:39<30:49, 20.55s/it]\u001b[A"
     ]
    },
    {
     "name": "stdout",
     "output_type": "stream",
     "text": [
      "Evaluation 10 (Epsilon=0.37007):\n",
      "\tTraining:\n",
      " \t\tGravity: 0.000273\n",
      " \t\tStability: 271.959\n",
      "\tEvalution:\n",
      " \t\tAAR: -143.176\n",
      " \t\tSES: 0.999\n",
      " \t\tMean Reward: -1000.0\n",
      " \t\tStd Reward: 0.0\n"
     ]
    },
    {
     "name": "stderr",
     "output_type": "stream",
     "text": [
      "\n",
      " 12%|████████████▍                                                                                            | 12/101 [03:59<30:04, 20.28s/it]\u001b[A\n",
      " 13%|█████████████▌                                                                                           | 13/101 [04:23<31:23, 21.40s/it]\u001b[A\n",
      " 14%|██████████████▌                                                                                          | 14/101 [04:44<30:38, 21.14s/it]\u001b[A\n",
      " 15%|███████████████▌                                                                                         | 15/101 [05:04<30:03, 20.97s/it]\u001b[A\n",
      " 16%|████████████████▋                                                                                        | 16/101 [05:27<30:18, 21.39s/it]\u001b[A\n",
      " 17%|█████████████████▋                                                                                       | 17/101 [05:49<30:33, 21.83s/it]\u001b[A\n",
      " 18%|██████████████████▋                                                                                      | 18/101 [06:08<28:49, 20.83s/it]\u001b[A\n",
      " 19%|███████████████████▊                                                                                     | 19/101 [06:27<27:35, 20.18s/it]\u001b[A\n",
      " 20%|████████████████████▊                                                                                    | 20/101 [06:45<26:36, 19.71s/it]\u001b[A\n",
      " 21%|█████████████████████▊                                                                                   | 21/101 [07:06<26:31, 19.90s/it]\u001b[A"
     ]
    },
    {
     "name": "stdout",
     "output_type": "stream",
     "text": [
      "Evaluation 20 (Epsilon=0.1379):\n",
      "\tTraining:\n",
      " \t\tGravity: 0.00034\n",
      " \t\tStability: 72.139\n",
      "\tEvalution:\n",
      " \t\tAAR: -105.831\n",
      " \t\tSES: 1.0\n",
      " \t\tMean Reward: -1000.0\n",
      " \t\tStd Reward: 0.0\n"
     ]
    },
    {
     "name": "stderr",
     "output_type": "stream",
     "text": [
      "\n",
      " 22%|██████████████████████▊                                                                                  | 22/101 [07:26<26:18, 19.99s/it]\u001b[A\n",
      " 23%|███████████████████████▉                                                                                 | 23/101 [07:47<26:22, 20.29s/it]\u001b[A\n",
      " 24%|████████████████████████▉                                                                                | 24/101 [08:10<27:00, 21.04s/it]\u001b[A\n",
      " 25%|█████████████████████████▉                                                                               | 25/101 [08:30<26:23, 20.83s/it]\u001b[A\n",
      " 26%|███████████████████████████                                                                              | 26/101 [08:50<25:43, 20.58s/it]\u001b[A\n",
      " 27%|████████████████████████████                                                                             | 27/101 [09:10<25:13, 20.46s/it]\u001b[A\n",
      " 28%|█████████████████████████████                                                                            | 28/101 [09:32<25:16, 20.78s/it]\u001b[A\n",
      " 29%|██████████████████████████████▏                                                                          | 29/101 [09:56<26:14, 21.86s/it]\u001b[A\n",
      " 30%|███████████████████████████████▏                                                                         | 30/101 [10:18<25:56, 21.92s/it]\u001b[A\n",
      " 31%|████████████████████████████████▏                                                                        | 31/101 [10:39<25:04, 21.49s/it]\u001b[A"
     ]
    },
    {
     "name": "stdout",
     "output_type": "stream",
     "text": [
      "Evaluation 30 (Epsilon=0.05073):\n",
      "\tTraining:\n",
      " \t\tGravity: 0.000452\n",
      " \t\tStability: 85.61\n",
      "\tEvalution:\n",
      " \t\tAAR: -71.524\n",
      " \t\tSES: 1.0\n",
      " \t\tMean Reward: -1000.0\n",
      " \t\tStd Reward: 0.0\n"
     ]
    },
    {
     "name": "stderr",
     "output_type": "stream",
     "text": [
      "\n",
      " 32%|█████████████████████████████████▎                                                                       | 32/101 [10:59<24:30, 21.32s/it]\u001b[A\n",
      " 33%|██████████████████████████████████▎                                                                      | 33/101 [11:19<23:30, 20.75s/it]\u001b[A\n",
      " 34%|███████████████████████████████████▎                                                                     | 34/101 [11:39<23:03, 20.66s/it]\u001b[A\n",
      " 35%|████████████████████████████████████▍                                                                    | 35/101 [12:00<22:36, 20.56s/it]\u001b[A\n",
      " 36%|█████████████████████████████████████▍                                                                   | 36/101 [12:21<22:21, 20.65s/it]\u001b[A\n",
      " 37%|██████████████████████████████████████▍                                                                  | 37/101 [12:40<21:47, 20.43s/it]\u001b[A\n",
      " 38%|███████████████████████████████████████▌                                                                 | 38/101 [13:00<21:03, 20.05s/it]\u001b[A\n",
      " 39%|████████████████████████████████████████▌                                                                | 39/101 [13:19<20:34, 19.91s/it]\u001b[A\n",
      " 40%|█████████████████████████████████████████▌                                                               | 40/101 [13:39<20:09, 19.83s/it]\u001b[A\n",
      " 41%|██████████████████████████████████████████▌                                                              | 41/101 [14:00<20:10, 20.17s/it]\u001b[A"
     ]
    },
    {
     "name": "stdout",
     "output_type": "stream",
     "text": [
      "Evaluation 40 (Epsilon=0.01866):\n",
      "\tTraining:\n",
      " \t\tGravity: 0.00061\n",
      " \t\tStability: 128.098\n",
      "\tEvalution:\n",
      " \t\tAAR: -50.276\n",
      " \t\tSES: 1.0\n",
      " \t\tMean Reward: -1000.0\n",
      " \t\tStd Reward: 0.0\n"
     ]
    },
    {
     "name": "stderr",
     "output_type": "stream",
     "text": [
      "\n",
      " 42%|███████████████████████████████████████████▋                                                             | 42/101 [14:20<19:58, 20.31s/it]\u001b[A\n",
      " 43%|████████████████████████████████████████████▋                                                            | 43/101 [14:42<19:55, 20.61s/it]\u001b[A\n",
      " 44%|█████████████████████████████████████████████▋                                                           | 44/101 [15:06<20:45, 21.85s/it]\u001b[A\n",
      " 45%|██████████████████████████████████████████████▊                                                          | 45/101 [15:28<20:22, 21.82s/it]\u001b[A\n",
      " 46%|███████████████████████████████████████████████▊                                                         | 46/101 [15:49<19:36, 21.39s/it]\u001b[A\n",
      " 47%|████████████████████████████████████████████████▊                                                        | 47/101 [16:09<19:01, 21.14s/it]\u001b[A\n",
      " 48%|█████████████████████████████████████████████████▉                                                       | 48/101 [16:32<19:14, 21.79s/it]\u001b[A\n",
      " 49%|██████████████████████████████████████████████████▉                                                      | 49/101 [16:54<18:56, 21.86s/it]\u001b[A\n",
      " 50%|███████████████████████████████████████████████████▉                                                     | 50/101 [17:17<18:44, 22.06s/it]\u001b[A\n",
      " 50%|█████████████████████████████████████████████████████                                                    | 51/101 [17:39<18:18, 21.96s/it]\u001b[A"
     ]
    },
    {
     "name": "stdout",
     "output_type": "stream",
     "text": [
      "Evaluation 50 (Epsilon=0.01):\n",
      "\tTraining:\n",
      " \t\tGravity: 0.000813\n",
      " \t\tStability: 103.241\n",
      "\tEvalution:\n",
      " \t\tAAR: -37.326\n",
      " \t\tSES: 1.0\n",
      " \t\tMean Reward: -1000.0\n",
      " \t\tStd Reward: 0.0\n"
     ]
    },
    {
     "name": "stderr",
     "output_type": "stream",
     "text": [
      "\n",
      " 51%|██████████████████████████████████████████████████████                                                   | 52/101 [18:01<17:58, 22.01s/it]\u001b[A\n",
      " 52%|███████████████████████████████████████████████████████                                                  | 53/101 [18:22<17:19, 21.66s/it]\u001b[A\n",
      " 53%|████████████████████████████████████████████████████████▏                                                | 54/101 [18:43<16:59, 21.69s/it]\u001b[A\n",
      " 54%|█████████████████████████████████████████████████████████▏                                               | 55/101 [19:05<16:35, 21.64s/it]\u001b[A\n",
      " 55%|██████████████████████████████████████████████████████████▏                                              | 56/101 [19:27<16:21, 21.81s/it]\u001b[A\n",
      " 56%|███████████████████████████████████████████████████████████▎                                             | 57/101 [19:47<15:37, 21.31s/it]\u001b[A\n",
      " 57%|████████████████████████████████████████████████████████████▎                                            | 58/101 [20:08<15:01, 20.97s/it]\u001b[A\n",
      " 58%|█████████████████████████████████████████████████████████████▎                                           | 59/101 [20:30<14:54, 21.30s/it]\u001b[A\n",
      " 59%|██████████████████████████████████████████████████████████████▍                                          | 60/101 [20:51<14:36, 21.39s/it]\u001b[A\n",
      " 60%|███████████████████████████████████████████████████████████████▍                                         | 61/101 [21:11<14:00, 21.00s/it]\u001b[A"
     ]
    },
    {
     "name": "stdout",
     "output_type": "stream",
     "text": [
      "Evaluation 60 (Epsilon=0.01):\n",
      "\tTraining:\n",
      " \t\tGravity: 0.00106\n",
      " \t\tStability: 115.922\n",
      "\tEvalution:\n",
      " \t\tAAR: -27.715\n",
      " \t\tSES: 1.0\n",
      " \t\tMean Reward: -1000.0\n",
      " \t\tStd Reward: 0.0\n"
     ]
    },
    {
     "name": "stderr",
     "output_type": "stream",
     "text": [
      "\n",
      " 61%|████████████████████████████████████████████████████████████████▍                                        | 62/101 [21:32<13:34, 20.87s/it]\u001b[A\n",
      " 62%|█████████████████████████████████████████████████████████████████▍                                       | 63/101 [21:54<13:28, 21.27s/it]\u001b[A\n",
      " 63%|██████████████████████████████████████████████████████████████████▌                                      | 64/101 [22:17<13:25, 21.76s/it]\u001b[A\n",
      " 64%|███████████████████████████████████████████████████████████████████▌                                     | 65/101 [22:39<13:11, 21.99s/it]\u001b[A\n",
      " 65%|████████████████████████████████████████████████████████████████████▌                                    | 66/101 [23:00<12:35, 21.60s/it]\u001b[A\n",
      " 66%|█████████████████████████████████████████████████████████████████████▋                                   | 67/101 [23:21<12:01, 21.22s/it]\u001b[A\n",
      " 67%|██████████████████████████████████████████████████████████████████████▋                                  | 68/101 [23:41<11:34, 21.05s/it]\u001b[A\n",
      " 68%|███████████████████████████████████████████████████████████████████████▋                                 | 69/101 [24:02<11:13, 21.04s/it]\u001b[A\n",
      " 69%|████████████████████████████████████████████████████████████████████████▊                                | 70/101 [24:24<10:58, 21.24s/it]\u001b[A\n",
      " 70%|█████████████████████████████████████████████████████████████████████████▊                               | 71/101 [24:45<10:38, 21.27s/it]\u001b[A"
     ]
    },
    {
     "name": "stdout",
     "output_type": "stream",
     "text": [
      "Evaluation 70 (Epsilon=0.01):\n",
      "\tTraining:\n",
      " \t\tGravity: 0.001352\n",
      " \t\tStability: 65.187\n",
      "\tEvalution:\n",
      " \t\tAAR: -21.371\n",
      " \t\tSES: 1.0\n",
      " \t\tMean Reward: -1000.0\n",
      " \t\tStd Reward: 0.0\n"
     ]
    },
    {
     "name": "stderr",
     "output_type": "stream",
     "text": [
      "\n",
      " 71%|██████████████████████████████████████████████████████████████████████████▊                              | 72/101 [25:07<10:16, 21.27s/it]\u001b[A\n",
      " 72%|███████████████████████████████████████████████████████████████████████████▉                             | 73/101 [25:27<09:45, 20.90s/it]\u001b[A\n",
      " 73%|████████████████████████████████████████████████████████████████████████████▉                            | 74/101 [25:47<09:20, 20.74s/it]\u001b[A\n",
      " 74%|█████████████████████████████████████████████████████████████████████████████▉                           | 75/101 [26:09<09:09, 21.15s/it]\u001b[A\n",
      " 75%|███████████████████████████████████████████████████████████████████████████████                          | 76/101 [26:31<08:52, 21.31s/it]\u001b[A\n",
      " 76%|████████████████████████████████████████████████████████████████████████████████                         | 77/101 [26:51<08:24, 21.01s/it]\u001b[A\n",
      " 77%|█████████████████████████████████████████████████████████████████████████████████                        | 78/101 [27:12<08:03, 21.04s/it]\u001b[A\n",
      " 78%|██████████████████████████████████████████████████████████████████████████████████▏                      | 79/101 [27:34<07:48, 21.29s/it]\u001b[A\n",
      " 79%|███████████████████████████████████████████████████████████████████████████████████▏                     | 80/101 [27:56<07:34, 21.63s/it]\u001b[A\n",
      " 80%|████████████████████████████████████████████████████████████████████████████████████▏                    | 81/101 [28:19<07:16, 21.83s/it]\u001b[A"
     ]
    },
    {
     "name": "stdout",
     "output_type": "stream",
     "text": [
      "Evaluation 80 (Epsilon=0.01):\n",
      "\tTraining:\n",
      " \t\tGravity: 0.00169\n",
      " \t\tStability: 128.058\n",
      "\tEvalution:\n",
      " \t\tAAR: -19.096\n",
      " \t\tSES: 1.0\n",
      " \t\tMean Reward: -1000.0\n",
      " \t\tStd Reward: 0.0\n"
     ]
    },
    {
     "name": "stderr",
     "output_type": "stream",
     "text": [
      "\n",
      " 81%|█████████████████████████████████████████████████████████████████████████████████████▏                   | 82/101 [28:40<06:51, 21.65s/it]\u001b[A\n",
      " 82%|██████████████████████████████████████████████████████████████████████████████████████▎                  | 83/101 [29:00<06:19, 21.07s/it]\u001b[A\n",
      " 83%|███████████████████████████████████████████████████████████████████████████████████████▎                 | 84/101 [29:21<05:58, 21.10s/it]\u001b[A\n",
      " 84%|████████████████████████████████████████████████████████████████████████████████████████▎                | 85/101 [29:43<05:44, 21.52s/it]\u001b[A\n",
      " 85%|█████████████████████████████████████████████████████████████████████████████████████████▍               | 86/101 [30:06<05:25, 21.73s/it]\u001b[A\n",
      " 86%|██████████████████████████████████████████████████████████████████████████████████████████▍              | 87/101 [30:26<04:58, 21.33s/it]\u001b[A\n",
      " 87%|███████████████████████████████████████████████████████████████████████████████████████████▍             | 88/101 [30:47<04:35, 21.22s/it]\u001b[A\n",
      " 88%|████████████████████████████████████████████████████████████████████████████████████████████▌            | 89/101 [31:08<04:15, 21.26s/it]\u001b[A\n",
      " 89%|█████████████████████████████████████████████████████████████████████████████████████████████▌           | 90/101 [31:30<03:53, 21.27s/it]\u001b[A\n",
      " 90%|██████████████████████████████████████████████████████████████████████████████████████████████▌          | 91/101 [31:50<03:29, 20.92s/it]\u001b[A"
     ]
    },
    {
     "name": "stdout",
     "output_type": "stream",
     "text": [
      "Evaluation 90 (Epsilon=0.01):\n",
      "\tTraining:\n",
      " \t\tGravity: 0.002073\n",
      " \t\tStability: 160.771\n",
      "\tEvalution:\n",
      " \t\tAAR: -17.038\n",
      " \t\tSES: 1.0\n",
      " \t\tMean Reward: -1000.0\n",
      " \t\tStd Reward: 0.0\n"
     ]
    },
    {
     "name": "stderr",
     "output_type": "stream",
     "text": [
      "\n",
      " 91%|███████████████████████████████████████████████████████████████████████████████████████████████▋         | 92/101 [32:12<03:10, 21.20s/it]\u001b[A\n",
      " 92%|████████████████████████████████████████████████████████████████████████████████████████████████▋        | 93/101 [32:33<02:49, 21.14s/it]\u001b[A\n",
      " 93%|█████████████████████████████████████████████████████████████████████████████████████████████████▋       | 94/101 [32:54<02:27, 21.10s/it]\u001b[A\n",
      " 94%|██████████████████████████████████████████████████████████████████████████████████████████████████▊      | 95/101 [33:16<02:09, 21.53s/it]\u001b[A\n",
      " 95%|███████████████████████████████████████████████████████████████████████████████████████████████████▊     | 96/101 [33:38<01:48, 21.68s/it]\u001b[A\n",
      " 96%|████████████████████████████████████████████████████████████████████████████████████████████████████▊    | 97/101 [33:58<01:25, 21.28s/it]\u001b[A\n",
      " 97%|█████████████████████████████████████████████████████████████████████████████████████████████████████▉   | 98/101 [34:19<01:02, 20.93s/it]\u001b[A\n",
      " 98%|██████████████████████████████████████████████████████████████████████████████████████████████████████▉  | 99/101 [34:41<00:42, 21.25s/it]\u001b[A\n",
      " 99%|██████████████████████████████████████████████████████████████████████████████████████████████████████▉ | 100/101 [35:00<00:20, 20.79s/it]\u001b[A\n",
      "100%|████████████████████████████████████████████████████████████████████████████████████████████████████████| 101/101 [35:20<00:00, 21.00s/it]\u001b[A"
     ]
    },
    {
     "name": "stdout",
     "output_type": "stream",
     "text": [
      "Evaluation 100 (Epsilon=0.01):\n",
      "\tTraining:\n",
      " \t\tGravity: 0.0025\n",
      " \t\tStability: 187.696\n",
      "\tEvalution:\n",
      " \t\tAAR: -12.66\n",
      " \t\tSES: 1.0\n",
      " \t\tMean Reward: -1000.0\n",
      " \t\tStd Reward: 0.0\n"
     ]
    },
    {
     "name": "stderr",
     "output_type": "stream",
     "text": [
      "\n",
      " 91%|████████████████████████████████████████████████████████████████████████████████████████████▋         | 10/11 [5:29:47<31:52, 1912.72s/it]"
     ]
    },
    {
     "name": "stdout",
     "output_type": "stream",
     "text": [
      "Training of 'dqn' via CL method 'anti-curriculum' has started\n"
     ]
    },
    {
     "name": "stderr",
     "output_type": "stream",
     "text": [
      "\n",
      "  0%|                                                                                                                  | 0/101 [00:00<?, ?it/s]\u001b[A\n",
      "  1%|█                                                                                                         | 1/101 [00:20<33:20, 20.00s/it]\u001b[A"
     ]
    },
    {
     "name": "stdout",
     "output_type": "stream",
     "text": [
      "Evaluation 0 (Epsilon=0.9071):\n",
      "\tTraining:\n",
      " \t\tGravity: 0.0025\n",
      " \t\tStability: 330.876\n",
      "\tEvalution:\n",
      " \t\tAAR: -20.333\n",
      " \t\tSES: 1.0\n",
      " \t\tMean Reward: -1000.0\n",
      " \t\tStd Reward: 0.0\n"
     ]
    },
    {
     "name": "stderr",
     "output_type": "stream",
     "text": [
      "\n",
      "  2%|██                                                                                                        | 2/101 [00:42<35:42, 21.64s/it]\u001b[A\n",
      "  3%|███▏                                                                                                      | 3/101 [01:04<35:24, 21.68s/it]\u001b[A\n",
      "  4%|████▏                                                                                                     | 4/101 [01:29<37:15, 23.05s/it]\u001b[A\n",
      "  5%|█████▏                                                                                                    | 5/101 [01:53<37:31, 23.46s/it]\u001b[A\n",
      "  6%|██████▎                                                                                                   | 6/101 [02:16<36:36, 23.12s/it]\u001b[A\n",
      "  7%|███████▎                                                                                                  | 7/101 [02:35<34:05, 21.76s/it]\u001b[A\n",
      "  8%|████████▍                                                                                                 | 8/101 [02:56<33:25, 21.56s/it]\u001b[A\n",
      "  9%|█████████▍                                                                                                | 9/101 [03:16<32:33, 21.23s/it]\u001b[A\n",
      " 10%|██████████▍                                                                                              | 10/101 [03:38<32:32, 21.45s/it]\u001b[A\n",
      " 11%|███████████▍                                                                                             | 11/101 [04:01<32:30, 21.67s/it]\u001b[A"
     ]
    },
    {
     "name": "stdout",
     "output_type": "stream",
     "text": [
      "Evaluation 10 (Epsilon=0.33369):\n",
      "\tTraining:\n",
      " \t\tGravity: 0.002273\n",
      " \t\tStability: 198.962\n",
      "\tEvalution:\n",
      " \t\tAAR: -18.333\n",
      " \t\tSES: 1.0\n",
      " \t\tMean Reward: -1000.0\n",
      " \t\tStd Reward: 0.0\n"
     ]
    },
    {
     "name": "stderr",
     "output_type": "stream",
     "text": [
      "\n",
      " 12%|████████████▍                                                                                            | 12/101 [04:21<31:32, 21.26s/it]\u001b[A\n",
      " 13%|█████████████▌                                                                                           | 13/101 [04:42<31:07, 21.22s/it]\u001b[A\n",
      " 14%|██████████████▌                                                                                          | 14/101 [05:04<31:10, 21.50s/it]\u001b[A\n",
      " 15%|███████████████▌                                                                                         | 15/101 [05:26<30:53, 21.55s/it]\u001b[A\n",
      " 16%|████████████████▋                                                                                        | 16/101 [05:46<29:57, 21.15s/it]\u001b[A\n",
      " 17%|█████████████████▋                                                                                       | 17/101 [06:05<28:42, 20.51s/it]\u001b[A\n",
      " 18%|██████████████████▋                                                                                      | 18/101 [06:26<28:28, 20.58s/it]\u001b[A\n",
      " 19%|███████████████████▊                                                                                     | 19/101 [06:49<29:11, 21.36s/it]\u001b[A\n",
      " 20%|████████████████████▊                                                                                    | 20/101 [07:11<29:00, 21.49s/it]\u001b[A\n",
      " 21%|█████████████████████▊                                                                                   | 21/101 [07:32<28:29, 21.36s/it]\u001b[A"
     ]
    },
    {
     "name": "stdout",
     "output_type": "stream",
     "text": [
      "Evaluation 20 (Epsilon=0.12275):\n",
      "\tTraining:\n",
      " \t\tGravity: 0.002045\n",
      " \t\tStability: 65.697\n",
      "\tEvalution:\n",
      " \t\tAAR: -16.389\n",
      " \t\tSES: 1.0\n",
      " \t\tMean Reward: -1000.0\n",
      " \t\tStd Reward: 0.0\n"
     ]
    },
    {
     "name": "stderr",
     "output_type": "stream",
     "text": [
      "\n",
      " 22%|██████████████████████▊                                                                                  | 22/101 [07:53<27:51, 21.16s/it]\u001b[A\n",
      " 23%|███████████████████████▉                                                                                 | 23/101 [08:13<27:24, 21.08s/it]\u001b[A\n",
      " 24%|████████████████████████▉                                                                                | 24/101 [08:36<27:26, 21.39s/it]\u001b[A\n",
      " 25%|█████████████████████████▉                                                                               | 25/101 [08:59<27:49, 21.97s/it]\u001b[A\n",
      " 26%|███████████████████████████                                                                              | 26/101 [09:19<26:51, 21.49s/it]\u001b[A\n",
      " 27%|████████████████████████████                                                                             | 27/101 [09:38<25:26, 20.63s/it]\u001b[A\n",
      " 28%|█████████████████████████████                                                                            | 28/101 [09:57<24:33, 20.18s/it]\u001b[A\n",
      " 29%|██████████████████████████████▏                                                                          | 29/101 [10:16<23:47, 19.82s/it]\u001b[A\n",
      " 30%|███████████████████████████████▏                                                                         | 30/101 [10:35<23:10, 19.58s/it]\u001b[A\n",
      " 31%|████████████████████████████████▏                                                                        | 31/101 [10:54<22:39, 19.43s/it]\u001b[A"
     ]
    },
    {
     "name": "stdout",
     "output_type": "stream",
     "text": [
      "Evaluation 30 (Epsilon=0.04515):\n",
      "\tTraining:\n",
      " \t\tGravity: 0.001818\n",
      " \t\tStability: 105.409\n",
      "\tEvalution:\n",
      " \t\tAAR: -17.503\n",
      " \t\tSES: 1.0\n",
      " \t\tMean Reward: -1000.0\n",
      " \t\tStd Reward: 0.0\n"
     ]
    },
    {
     "name": "stderr",
     "output_type": "stream",
     "text": [
      "\n",
      " 32%|█████████████████████████████████▎                                                                       | 32/101 [11:12<21:52, 19.02s/it]\u001b[A\n",
      " 33%|██████████████████████████████████▎                                                                      | 33/101 [11:31<21:30, 18.98s/it]\u001b[A\n",
      " 34%|███████████████████████████████████▎                                                                     | 34/101 [11:52<21:42, 19.44s/it]\u001b[A\n",
      " 35%|████████████████████████████████████▍                                                                    | 35/101 [12:16<23:08, 21.03s/it]\u001b[A\n",
      " 36%|█████████████████████████████████████▍                                                                   | 36/101 [12:41<24:02, 22.19s/it]\u001b[A\n",
      " 37%|██████████████████████████████████████▍                                                                  | 37/101 [13:00<22:44, 21.32s/it]\u001b[A\n",
      " 38%|███████████████████████████████████████▌                                                                 | 38/101 [13:22<22:28, 21.40s/it]\u001b[A\n",
      " 39%|████████████████████████████████████████▌                                                                | 39/101 [13:43<22:02, 21.33s/it]\u001b[A\n",
      " 40%|█████████████████████████████████████████▌                                                               | 40/101 [14:03<21:14, 20.89s/it]\u001b[A\n",
      " 41%|██████████████████████████████████████████▌                                                              | 41/101 [14:23<20:40, 20.67s/it]\u001b[A"
     ]
    },
    {
     "name": "stdout",
     "output_type": "stream",
     "text": [
      "Evaluation 40 (Epsilon=0.01661):\n",
      "\tTraining:\n",
      " \t\tGravity: 0.001591\n",
      " \t\tStability: 142.541\n",
      "\tEvalution:\n",
      " \t\tAAR: -21.339\n",
      " \t\tSES: 1.0\n",
      " \t\tMean Reward: -1000.0\n",
      " \t\tStd Reward: 0.0\n"
     ]
    },
    {
     "name": "stderr",
     "output_type": "stream",
     "text": [
      "\n",
      " 42%|███████████████████████████████████████████▋                                                             | 42/101 [14:42<19:49, 20.16s/it]\u001b[A\n",
      " 43%|████████████████████████████████████████████▋                                                            | 43/101 [15:01<19:12, 19.88s/it]\u001b[A\n",
      " 44%|█████████████████████████████████████████████▋                                                           | 44/101 [15:23<19:30, 20.54s/it]\u001b[A\n",
      " 45%|██████████████████████████████████████████████▊                                                          | 45/101 [15:45<19:21, 20.74s/it]\u001b[A\n",
      " 46%|███████████████████████████████████████████████▊                                                         | 46/101 [16:07<19:25, 21.20s/it]\u001b[A\n",
      " 47%|████████████████████████████████████████████████▊                                                        | 47/101 [16:27<18:45, 20.85s/it]\u001b[A\n",
      " 48%|█████████████████████████████████████████████████▉                                                       | 48/101 [16:48<18:34, 21.03s/it]\u001b[A\n",
      " 49%|██████████████████████████████████████████████████▉                                                      | 49/101 [17:10<18:16, 21.09s/it]\u001b[A\n",
      " 50%|███████████████████████████████████████████████████▉                                                     | 50/101 [17:30<17:45, 20.89s/it]\u001b[A\n",
      " 50%|█████████████████████████████████████████████████████                                                    | 51/101 [17:51<17:25, 20.91s/it]\u001b[A"
     ]
    },
    {
     "name": "stdout",
     "output_type": "stream",
     "text": [
      "Evaluation 50 (Epsilon=0.01):\n",
      "\tTraining:\n",
      " \t\tGravity: 0.001364\n",
      " \t\tStability: 68.314\n",
      "\tEvalution:\n",
      " \t\tAAR: -21.078\n",
      " \t\tSES: 1.0\n",
      " \t\tMean Reward: -1000.0\n",
      " \t\tStd Reward: 0.0\n"
     ]
    },
    {
     "name": "stderr",
     "output_type": "stream",
     "text": [
      "\n",
      " 51%|██████████████████████████████████████████████████████                                                   | 52/101 [18:11<16:43, 20.49s/it]\u001b[A\n",
      " 52%|███████████████████████████████████████████████████████                                                  | 53/101 [18:31<16:26, 20.55s/it]\u001b[A\n",
      " 53%|████████████████████████████████████████████████████████▏                                                | 54/101 [18:51<15:54, 20.32s/it]\u001b[A\n",
      " 54%|█████████████████████████████████████████████████████████▏                                               | 55/101 [19:12<15:37, 20.38s/it]\u001b[A\n",
      " 55%|██████████████████████████████████████████████████████████▏                                              | 56/101 [19:32<15:17, 20.38s/it]\u001b[A\n",
      " 56%|███████████████████████████████████████████████████████████▎                                             | 57/101 [19:51<14:40, 20.02s/it]\u001b[A\n",
      " 57%|████████████████████████████████████████████████████████████▎                                            | 58/101 [20:11<14:24, 20.11s/it]\u001b[A\n",
      " 58%|█████████████████████████████████████████████████████████████▎                                           | 59/101 [20:32<14:10, 20.24s/it]\u001b[A\n",
      " 59%|██████████████████████████████████████████████████████████████▍                                          | 60/101 [20:52<13:52, 20.31s/it]\u001b[A\n",
      " 60%|███████████████████████████████████████████████████████████████▍                                         | 61/101 [21:14<13:45, 20.65s/it]\u001b[A"
     ]
    },
    {
     "name": "stdout",
     "output_type": "stream",
     "text": [
      "Evaluation 60 (Epsilon=0.01):\n",
      "\tTraining:\n",
      " \t\tGravity: 0.001136\n",
      " \t\tStability: 80.832\n",
      "\tEvalution:\n",
      " \t\tAAR: -26.281\n",
      " \t\tSES: 1.0\n",
      " \t\tMean Reward: -1000.0\n",
      " \t\tStd Reward: 0.0\n"
     ]
    },
    {
     "name": "stderr",
     "output_type": "stream",
     "text": [
      "\n",
      " 61%|████████████████████████████████████████████████████████████████▍                                        | 62/101 [21:32<12:54, 19.86s/it]\u001b[A\n",
      " 62%|█████████████████████████████████████████████████████████████████▍                                       | 63/101 [21:51<12:28, 19.71s/it]\u001b[A\n",
      " 63%|██████████████████████████████████████████████████████████████████▌                                      | 64/101 [22:12<12:15, 19.89s/it]\u001b[A\n",
      " 64%|███████████████████████████████████████████████████████████████████▌                                     | 65/101 [22:32<12:03, 20.10s/it]\u001b[A\n",
      " 65%|████████████████████████████████████████████████████████████████████▌                                    | 66/101 [22:53<11:50, 20.31s/it]\u001b[A\n",
      " 66%|█████████████████████████████████████████████████████████████████████▋                                   | 67/101 [23:12<11:22, 20.06s/it]\u001b[A\n",
      " 67%|██████████████████████████████████████████████████████████████████████▋                                  | 68/101 [23:33<11:06, 20.21s/it]\u001b[A\n",
      " 68%|███████████████████████████████████████████████████████████████████████▋                                 | 69/101 [23:54<10:52, 20.40s/it]\u001b[A\n",
      " 69%|████████████████████████████████████████████████████████████████████████▊                                | 70/101 [24:15<10:39, 20.64s/it]\u001b[A\n",
      " 70%|█████████████████████████████████████████████████████████████████████████▊                               | 71/101 [24:36<10:20, 20.69s/it]\u001b[A"
     ]
    },
    {
     "name": "stdout",
     "output_type": "stream",
     "text": [
      "Evaluation 70 (Epsilon=0.01):\n",
      "\tTraining:\n",
      " \t\tGravity: 0.000909\n",
      " \t\tStability: 87.078\n",
      "\tEvalution:\n",
      " \t\tAAR: -31.876\n",
      " \t\tSES: 1.0\n",
      " \t\tMean Reward: -1000.0\n",
      " \t\tStd Reward: 0.0\n"
     ]
    },
    {
     "name": "stderr",
     "output_type": "stream",
     "text": [
      "\n",
      " 71%|██████████████████████████████████████████████████████████████████████████▊                              | 72/101 [24:56<09:52, 20.42s/it]\u001b[A\n",
      " 72%|███████████████████████████████████████████████████████████████████████████▉                             | 73/101 [25:17<09:40, 20.72s/it]\u001b[A\n",
      " 73%|████████████████████████████████████████████████████████████████████████████▉                            | 74/101 [25:37<09:17, 20.63s/it]\u001b[A\n",
      " 74%|█████████████████████████████████████████████████████████████████████████████▉                           | 75/101 [25:58<08:57, 20.67s/it]\u001b[A\n",
      " 75%|███████████████████████████████████████████████████████████████████████████████                          | 76/101 [26:19<08:37, 20.69s/it]\u001b[A\n",
      " 76%|████████████████████████████████████████████████████████████████████████████████                         | 77/101 [26:39<08:09, 20.39s/it]\u001b[A\n",
      " 77%|█████████████████████████████████████████████████████████████████████████████████                        | 78/101 [27:00<07:54, 20.61s/it]\u001b[A\n",
      " 78%|██████████████████████████████████████████████████████████████████████████████████▏                      | 79/101 [27:20<07:31, 20.51s/it]\u001b[A\n",
      " 79%|███████████████████████████████████████████████████████████████████████████████████▏                     | 80/101 [27:46<07:43, 22.07s/it]\u001b[A\n",
      " 80%|████████████████████████████████████████████████████████████████████████████████████▏                    | 81/101 [28:07<07:14, 21.74s/it]\u001b[A"
     ]
    },
    {
     "name": "stdout",
     "output_type": "stream",
     "text": [
      "Evaluation 80 (Epsilon=0.01):\n",
      "\tTraining:\n",
      " \t\tGravity: 0.000682\n",
      " \t\tStability: 104.91\n",
      "\tEvalution:\n",
      " \t\tAAR: -44.564\n",
      " \t\tSES: 1.0\n",
      " \t\tMean Reward: -1000.0\n",
      " \t\tStd Reward: 0.0\n"
     ]
    },
    {
     "name": "stderr",
     "output_type": "stream",
     "text": [
      "\n",
      " 81%|█████████████████████████████████████████████████████████████████████████████████████▏                   | 82/101 [28:27<06:43, 21.22s/it]\u001b[A\n",
      " 82%|██████████████████████████████████████████████████████████████████████████████████████▎                  | 83/101 [28:49<06:26, 21.45s/it]\u001b[A\n",
      " 83%|███████████████████████████████████████████████████████████████████████████████████████▎                 | 84/101 [29:09<05:56, 20.99s/it]\u001b[A\n",
      " 84%|████████████████████████████████████████████████████████████████████████████████████████▎                | 85/101 [29:30<05:35, 20.97s/it]\u001b[A\n",
      " 85%|█████████████████████████████████████████████████████████████████████████████████████████▍               | 86/101 [29:50<05:12, 20.83s/it]\u001b[A\n",
      " 86%|██████████████████████████████████████████████████████████████████████████████████████████▍              | 87/101 [30:12<04:54, 21.05s/it]\u001b[A\n",
      " 87%|███████████████████████████████████████████████████████████████████████████████████████████▍             | 88/101 [30:33<04:33, 21.05s/it]\u001b[A\n",
      " 88%|████████████████████████████████████████████████████████████████████████████████████████████▌            | 89/101 [30:53<04:10, 20.84s/it]\u001b[A\n",
      " 89%|█████████████████████████████████████████████████████████████████████████████████████████████▌           | 90/101 [31:18<04:02, 22.08s/it]\u001b[A\n",
      " 90%|██████████████████████████████████████████████████████████████████████████████████████████████▌          | 91/101 [31:39<03:37, 21.76s/it]\u001b[A"
     ]
    },
    {
     "name": "stdout",
     "output_type": "stream",
     "text": [
      "Evaluation 90 (Epsilon=0.01):\n",
      "\tTraining:\n",
      " \t\tGravity: 0.000455\n",
      " \t\tStability: 54.115\n",
      "\tEvalution:\n",
      " \t\tAAR: -60.606\n",
      " \t\tSES: 1.0\n",
      " \t\tMean Reward: -1000.0\n",
      " \t\tStd Reward: 0.0\n"
     ]
    },
    {
     "name": "stderr",
     "output_type": "stream",
     "text": [
      "\n",
      " 91%|███████████████████████████████████████████████████████████████████████████████████████████████▋         | 92/101 [31:59<03:11, 21.31s/it]\u001b[A\n",
      " 92%|████████████████████████████████████████████████████████████████████████████████████████████████▋        | 93/101 [32:21<02:51, 21.50s/it]\u001b[A\n",
      " 93%|█████████████████████████████████████████████████████████████████████████████████████████████████▋       | 94/101 [32:43<02:31, 21.68s/it]\u001b[A\n",
      " 94%|██████████████████████████████████████████████████████████████████████████████████████████████████▊      | 95/101 [33:03<02:07, 21.22s/it]\u001b[A\n",
      " 95%|███████████████████████████████████████████████████████████████████████████████████████████████████▊     | 96/101 [33:25<01:46, 21.38s/it]\u001b[A\n",
      " 96%|████████████████████████████████████████████████████████████████████████████████████████████████████▊    | 97/101 [33:47<01:25, 21.35s/it]\u001b[A\n",
      " 97%|█████████████████████████████████████████████████████████████████████████████████████████████████████▉   | 98/101 [34:09<01:05, 21.76s/it]\u001b[A\n",
      " 98%|██████████████████████████████████████████████████████████████████████████████████████████████████████▉  | 99/101 [34:31<00:43, 21.88s/it]\u001b[A\n",
      " 99%|██████████████████████████████████████████████████████████████████████████████████████████████████████▉ | 100/101 [34:54<00:21, 22.00s/it]\u001b[A\n",
      "100%|████████████████████████████████████████████████████████████████████████████████████████████████████████| 101/101 [35:14<00:00, 20.94s/it]\u001b[A"
     ]
    },
    {
     "name": "stdout",
     "output_type": "stream",
     "text": [
      "Evaluation 100 (Epsilon=0.01):\n",
      "\tTraining:\n",
      " \t\tGravity: 0.00025\n",
      " \t\tStability: 43.604\n",
      "\tEvalution:\n",
      " \t\tAAR: -115.876\n",
      " \t\tSES: 1.0\n",
      " \t\tMean Reward: -1000.0\n",
      " \t\tStd Reward: 0.0\n"
     ]
    },
    {
     "name": "stderr",
     "output_type": "stream",
     "text": [
      "\n",
      "100%|██████████████████████████████████████████████████████████████████████████████████████████████████████| 11/11 [6:05:03<00:00, 1991.22s/it]\n"
     ]
    }
   ],
   "source": [
    "from environments.mountain_car.rl_methods.dqn import DQNAgent\n",
    "\n",
    "dqn_agent = functools.partial(experiments.get_agent, agent_name='dqn')\n",
    "dqn_path = DATASETS_DIR / 'dqn.csv'\n",
    "\n",
    "agents = [\n",
    "    dqn_agent(curriculum_name='transfer-learning'),\n",
    "    dqn_agent(curriculum_name='teacher-learning'),\n",
    "    dqn_agent(curriculum_name='one-pass'),\n",
    "    dqn_agent(curriculum_name='root-p'),\n",
    "    dqn_agent(curriculum_name='hard'),\n",
    "    dqn_agent(curriculum_name='linear'),\n",
    "    dqn_agent(curriculum_name='logarithmic'),\n",
    "    dqn_agent(curriculum_name='logistic'),\n",
    "    dqn_agent(curriculum_name='mixture'),\n",
    "    dqn_agent(curriculum_name='polynomial'),\n",
    "    dqn_agent(curriculum_name='anti-curriculum')\n",
    "]\n",
    "\n",
    "file_exists_and_not_empty = os.path.exists(dqn_path) and os.path.getsize(dqn_path) > 0\n",
    "\n",
    "with open(dqn_path, 'a') as f:\n",
    "    if not file_exists_and_not_empty:\n",
    "        f.write(f\"{','.join(COLUMNS)}\\n\")\n",
    "        f.flush()\n",
    "    for agent in tqdm(agents):\n",
    "        print(f\"Training of '{agent.metadata['agent_name']}' via CL method '{agent.metadata['curriculum_name']}' has started\")\n",
    "        curriculum = experiments.get_curriculum(agent)\n",
    "        mountain_car.train_evaluate(agent, curriculum)\n",
    "        agent_df = data_frame_from_agent(agent)\n",
    "        if f.tell() == 0:\n",
    "            agent_df.to_csv(f, index=False)\n",
    "        else:\n",
    "            agent_df.to_csv(f, header=False, index=False)\n",
    "        f.flush()"
   ]
  },
  {
   "cell_type": "markdown",
   "id": "d8f28f5b-28ff-49e9-bea2-ed214f882027",
   "metadata": {},
   "source": [
    "### PPO"
   ]
  },
  {
   "cell_type": "code",
   "execution_count": 7,
   "id": "afad4268-3206-4691-9d2a-f3f9f92e00a7",
   "metadata": {
    "scrolled": true
   },
   "outputs": [
    {
     "name": "stderr",
     "output_type": "stream",
     "text": [
      "/Users/danorel/miniconda3/envs/aclarel_3.11.3/lib/python3.11/site-packages/torch/cuda/amp/grad_scaler.py:126: UserWarning: torch.cuda.amp.GradScaler is enabled, but CUDA is not available.  Disabling.\n",
      "  warnings.warn(\n",
      "/Users/danorel/miniconda3/envs/aclarel_3.11.3/lib/python3.11/site-packages/torch/cuda/amp/grad_scaler.py:126: UserWarning: torch.cuda.amp.GradScaler is enabled, but CUDA is not available.  Disabling.\n",
      "  warnings.warn(\n",
      "/Users/danorel/miniconda3/envs/aclarel_3.11.3/lib/python3.11/site-packages/torch/cuda/amp/grad_scaler.py:126: UserWarning: torch.cuda.amp.GradScaler is enabled, but CUDA is not available.  Disabling.\n",
      "  warnings.warn(\n",
      "/Users/danorel/miniconda3/envs/aclarel_3.11.3/lib/python3.11/site-packages/torch/cuda/amp/grad_scaler.py:126: UserWarning: torch.cuda.amp.GradScaler is enabled, but CUDA is not available.  Disabling.\n",
      "  warnings.warn(\n",
      "/Users/danorel/miniconda3/envs/aclarel_3.11.3/lib/python3.11/site-packages/torch/cuda/amp/grad_scaler.py:126: UserWarning: torch.cuda.amp.GradScaler is enabled, but CUDA is not available.  Disabling.\n",
      "  warnings.warn(\n",
      "/Users/danorel/miniconda3/envs/aclarel_3.11.3/lib/python3.11/site-packages/torch/cuda/amp/grad_scaler.py:126: UserWarning: torch.cuda.amp.GradScaler is enabled, but CUDA is not available.  Disabling.\n",
      "  warnings.warn(\n",
      "/Users/danorel/miniconda3/envs/aclarel_3.11.3/lib/python3.11/site-packages/torch/cuda/amp/grad_scaler.py:126: UserWarning: torch.cuda.amp.GradScaler is enabled, but CUDA is not available.  Disabling.\n",
      "  warnings.warn(\n",
      "/Users/danorel/miniconda3/envs/aclarel_3.11.3/lib/python3.11/site-packages/torch/cuda/amp/grad_scaler.py:126: UserWarning: torch.cuda.amp.GradScaler is enabled, but CUDA is not available.  Disabling.\n",
      "  warnings.warn(\n",
      "/Users/danorel/miniconda3/envs/aclarel_3.11.3/lib/python3.11/site-packages/torch/cuda/amp/grad_scaler.py:126: UserWarning: torch.cuda.amp.GradScaler is enabled, but CUDA is not available.  Disabling.\n",
      "  warnings.warn(\n",
      "/Users/danorel/miniconda3/envs/aclarel_3.11.3/lib/python3.11/site-packages/torch/cuda/amp/grad_scaler.py:126: UserWarning: torch.cuda.amp.GradScaler is enabled, but CUDA is not available.  Disabling.\n",
      "  warnings.warn(\n",
      "/Users/danorel/miniconda3/envs/aclarel_3.11.3/lib/python3.11/site-packages/torch/cuda/amp/grad_scaler.py:126: UserWarning: torch.cuda.amp.GradScaler is enabled, but CUDA is not available.  Disabling.\n",
      "  warnings.warn(\n",
      "/Users/danorel/miniconda3/envs/aclarel_3.11.3/lib/python3.11/site-packages/torch/cuda/amp/grad_scaler.py:126: UserWarning: torch.cuda.amp.GradScaler is enabled, but CUDA is not available.  Disabling.\n",
      "  warnings.warn(\n"
     ]
    },
    {
     "name": "stdout",
     "output_type": "stream",
     "text": [
      "Device: cpu\n",
      "Autocast gradients: False\n",
      "Device: cpu\n",
      "Autocast gradients: False\n",
      "Device: cpu\n",
      "Autocast gradients: False\n",
      "Device: cpu\n",
      "Autocast gradients: False\n",
      "Device: cpu\n",
      "Autocast gradients: False\n",
      "Device: cpu\n",
      "Autocast gradients: False\n",
      "Device: cpu\n",
      "Autocast gradients: False\n",
      "Device: cpu\n",
      "Autocast gradients: False\n",
      "Device: cpu\n",
      "Autocast gradients: False\n",
      "Device: cpu\n",
      "Autocast gradients: False\n",
      "Device: cpu\n",
      "Autocast gradients: False\n",
      "Device: cpu\n",
      "Autocast gradients: False\n"
     ]
    },
    {
     "name": "stderr",
     "output_type": "stream",
     "text": [
      "  0%|                                                                                                                   | 0/12 [00:00<?, ?it/s]\n",
      "  0%|                                                                                                                   | 0/26 [00:00<?, ?it/s]\u001b[A/Users/danorel/miniconda3/envs/aclarel_3.11.3/lib/python3.11/site-packages/gym/utils/passive_env_checker.py:233: DeprecationWarning: `np.bool8` is a deprecated alias for `np.bool_`.  (Deprecated NumPy 1.24)\n",
      "  if not isinstance(terminated, (bool, np.bool8)):\n",
      "/Users/danorel/Workspace/Education/University/KMA/Research/aclarel/environments/mountain_car/rl_methods/__init__.py:64: FutureWarning: The behavior of DataFrame concatenation with empty or all-NA entries is deprecated. In a future version, this will no longer exclude empty or all-NA columns when determining the result dtypes. To retain the old behavior, exclude the relevant entries before the concat operation.\n",
      "  self.measurements = pd.concat([self.measurements, measurement], ignore_index=True)\n",
      "\n",
      "  4%|████                                                                                                       | 1/26 [01:39<41:21, 99.25s/it]\u001b[A"
     ]
    },
    {
     "name": "stdout",
     "output_type": "stream",
     "text": [
      "Evaluation 0 (Epsilon=None):\n",
      "\tTraining:\n",
      " \t\tGravity: 0.0025\n",
      " \t\tStability: 260.729\n",
      "\tEvalution:\n",
      " \t\tAAR: -19.316\n",
      " \t\tSES: 0\n",
      " \t\tMean Reward: -1000.0\n",
      " \t\tStd Reward: 0.0\n"
     ]
    },
    {
     "name": "stderr",
     "output_type": "stream",
     "text": [
      "\n",
      "  8%|████████▏                                                                                                  | 2/26 [03:19<39:54, 99.76s/it]\u001b[A\n",
      " 12%|████████████▎                                                                                              | 3/26 [04:57<38:00, 99.16s/it]\u001b[A\n",
      " 15%|████████████████▍                                                                                          | 4/26 [06:34<36:02, 98.30s/it]\u001b[A\n",
      " 19%|████████████████████▍                                                                                     | 5/26 [09:11<38:34, 110.20s/it]\u001b[A\n",
      "  0%|                                                                                                                   | 0/12 [09:11<?, ?it/s]\n",
      "\n",
      "KeyboardInterrupt\n",
      "\n"
     ]
    }
   ],
   "source": [
    "from environments.mountain_car.rl_methods.ppo import PPOAgent\n",
    "\n",
    "ppo_agent = functools.partial(experiments.get_agent, agent_name='ppo')\n",
    "ppo_path = DATASETS_DIR / 'ppo.csv'\n",
    "\n",
    "agents = [\n",
    "    ppo_agent(curriculum_name='baseline'),\n",
    "    ppo_agent(curriculum_name='transfer-learning'),\n",
    "    ppo_agent(curriculum_name='teacher-learning'),\n",
    "    ppo_agent(curriculum_name='one-pass'),\n",
    "    ppo_agent(curriculum_name='root-p'),\n",
    "    ppo_agent(curriculum_name='hard'),\n",
    "    ppo_agent(curriculum_name='linear'),\n",
    "    ppo_agent(curriculum_name='logarithmic'),\n",
    "    ppo_agent(curriculum_name='logistic'),\n",
    "    ppo_agent(curriculum_name='mixture'),\n",
    "    ppo_agent(curriculum_name='polynomial'),\n",
    "    ppo_agent(curriculum_name='anti-curriculum')\n",
    "]\n",
    "\n",
    "file_exists_and_not_empty = os.path.exists(ppo_path) and os.path.getsize(ppo_path) > 0\n",
    "\n",
    "with open(ppo_path, 'a') as f:\n",
    "    if not file_exists_and_not_empty:\n",
    "        f.write(f\"{','.join(COLUMNS)}\\n\")\n",
    "        f.flush()\n",
    "    for agent in tqdm(agents):\n",
    "        curriculum = experiments.get_curriculum(agent)\n",
    "        mountain_car.train_evaluate(agent, curriculum)\n",
    "        agent_df = data_frame_from_agent(agent)\n",
    "        if f.tell() == 0:\n",
    "            agent_df.to_csv(f, index=False)\n",
    "        else:\n",
    "            agent_df.to_csv(f, header=False, index=False)\n",
    "        f.flush()"
   ]
  },
  {
   "cell_type": "markdown",
   "id": "cab04375-6ae4-4a04-a7ce-095a0e7c8d4a",
   "metadata": {},
   "source": [
    "### Q-Learning"
   ]
  },
  {
   "cell_type": "markdown",
   "id": "fe0a7c7c-63be-44ec-ac45-8562ec58e8ba",
   "metadata": {},
   "source": [
    "#### Curriculum parameter: gravity"
   ]
  },
  {
   "cell_type": "code",
   "execution_count": null,
   "id": "033bae37-cc5f-4a67-90e4-0985d5940885",
   "metadata": {
    "scrolled": true
   },
   "outputs": [],
   "source": [
    "from environments.mountain_car.rl_methods.q_learning import QLearningAgent\n",
    "\n",
    "q_learning_agent = functools.partial(experiments.get_agent, agent_name='q-learning')\n",
    "q_learning_path = DATASETS_DIR / 'q-learning.csv'\n",
    "\n",
    "agents = [\n",
    "    q_learning_agent(curriculum_name='baseline'),\n",
    "    q_learning_agent(curriculum_name='transfer-learning'),\n",
    "    q_learning_agent(curriculum_name='teacher-learning'),\n",
    "    q_learning_agent(curriculum_name='one-pass'),\n",
    "    q_learning_agent(curriculum_name='root-p'),\n",
    "    q_learning_agent(curriculum_name='hard'),\n",
    "    q_learning_agent(curriculum_name='linear'),\n",
    "    q_learning_agent(curriculum_name='logarithmic'),\n",
    "    q_learning_agent(curriculum_name='logistic'),\n",
    "    q_learning_agent(curriculum_name='mixture'),\n",
    "    q_learning_agent(curriculum_name='polynomial'),\n",
    "    q_learning_agent(curriculum_name='anti-curriculum')\n",
    "]\n",
    "\n",
    "file_exists_and_not_empty = os.path.exists(q_learning_path) and os.path.getsize(q_learning_path) > 0\n",
    "\n",
    "with open(q_learning_path, 'a') as f:\n",
    "    if not file_exists_and_not_empty:\n",
    "        f.write(f\"{','.join(COLUMNS)}\\n\")\n",
    "        f.flush()\n",
    "    for agent in tqdm(agents):\n",
    "        print(f\"Training of '{agent.metadata['agent_name']}' via CL method '{agent.metadata['curriculum_name']}' has started\")\n",
    "        curriculum = experiments.get_curriculum(agent)\n",
    "        mountain_car.train_evaluate(agent, curriculum)\n",
    "        agent_df = data_frame_from_agent(agent)\n",
    "        if f.tell() == 0:\n",
    "            agent_df.to_csv(f, index=False)\n",
    "        else:\n",
    "            agent_df.to_csv(f, header=False, index=False)\n",
    "        f.flush()"
   ]
  }
 ],
 "metadata": {
  "kernelspec": {
   "display_name": "aclarel_3.11.3",
   "language": "python",
   "name": "aclarel_3.11.3"
  },
  "language_info": {
   "codemirror_mode": {
    "name": "ipython",
    "version": 3
   },
   "file_extension": ".py",
   "mimetype": "text/x-python",
   "name": "python",
   "nbconvert_exporter": "python",
   "pygments_lexer": "ipython3",
   "version": "3.11.3"
  }
 },
 "nbformat": 4,
 "nbformat_minor": 5
}
