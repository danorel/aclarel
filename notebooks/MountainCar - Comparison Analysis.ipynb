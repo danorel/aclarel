{
 "cells": [
  {
   "cell_type": "code",
   "execution_count": 1,
   "id": "4ca45a75-f165-4ea3-bc90-82975e6a1ffc",
   "metadata": {},
   "outputs": [
    {
     "name": "stdout",
     "output_type": "stream",
     "text": [
      "/Users/danorel/Workspace/Education/University/KMA/Research/aclarel\n"
     ]
    }
   ],
   "source": [
    "%cd .."
   ]
  },
  {
   "cell_type": "code",
   "execution_count": 2,
   "id": "39deedfb-bba0-4411-ba29-682770bd9115",
   "metadata": {},
   "outputs": [],
   "source": [
    "import functools\n",
    "import pathlib\n",
    "import os\n",
    "\n",
    "from tqdm import tqdm\n",
    "\n",
    "import environments.mountain_car.environment as mountain_car\n",
    "import environments.mountain_car.experiments as experiments"
   ]
  },
  {
   "cell_type": "markdown",
   "id": "2578746b-32c2-4d99-97c1-ddb34ac23df5",
   "metadata": {},
   "source": [
    "## Curriculum Learning: Setup"
   ]
  },
  {
   "cell_type": "markdown",
   "id": "83fe9e13-c218-4b3b-a556-4cadca967a73",
   "metadata": {},
   "source": [
    "### Data Frame"
   ]
  },
  {
   "cell_type": "code",
   "execution_count": 3,
   "id": "1da28ed2-c431-4eaf-8c1b-06379ed1223a",
   "metadata": {},
   "outputs": [],
   "source": [
    "import pandas as pd\n",
    "\n",
    "def data_frame_from_agent(agent):\n",
    "    df = pd.DataFrame(agent.measurements)\n",
    "    return df"
   ]
  },
  {
   "cell_type": "markdown",
   "id": "0177b7c8-d10a-4258-976e-b39bcf5e148b",
   "metadata": {},
   "source": [
    "## Reinforcement Learning: Experiments"
   ]
  },
  {
   "cell_type": "code",
   "execution_count": 4,
   "id": "0e36bc6a-1ea4-4cec-b410-2a53cee6dd20",
   "metadata": {},
   "outputs": [],
   "source": [
    "DATASETS_DIR = pathlib.Path(\"datasets\") / \"mountain_car\"\n",
    "DATASETS_DIR.mkdir(parents=True, exist_ok=True)"
   ]
  },
  {
   "cell_type": "code",
   "execution_count": 5,
   "id": "60ed4129-32d1-4d96-989d-23e76bd50d30",
   "metadata": {},
   "outputs": [],
   "source": [
    "COLUMNS = ['agent_name', 'evaluation', 'curriculum_name', 'aar', 'ses', 'learning_stability', 'mean_reward', 'std_reward', 'total_reward', 'success_rate']"
   ]
  },
  {
   "cell_type": "markdown",
   "id": "fad6e92a-49c0-4c9f-9ca9-2dfad2290c98",
   "metadata": {},
   "source": [
    "### DQN"
   ]
  },
  {
   "cell_type": "markdown",
   "id": "381359f6-ce78-48fc-b4b4-450891ecf863",
   "metadata": {},
   "source": [
    "#### Curriculum parameter: gravity"
   ]
  },
  {
   "cell_type": "code",
   "execution_count": null,
   "id": "b29c9f1e-b0ac-4375-878f-4a6eff425452",
   "metadata": {
    "scrolled": true
   },
   "outputs": [
    {
     "name": "stdout",
     "output_type": "stream",
     "text": [
      "Device: cpu\n",
      "Autocast gradients: False\n"
     ]
    },
    {
     "name": "stderr",
     "output_type": "stream",
     "text": [
      "/Users/danorel/miniconda3/envs/aclarel_3.11.3/lib/python3.11/site-packages/torch/cuda/amp/grad_scaler.py:126: UserWarning: torch.cuda.amp.GradScaler is enabled, but CUDA is not available.  Disabling.\n",
      "  warnings.warn(\n",
      "/Users/danorel/miniconda3/envs/aclarel_3.11.3/lib/python3.11/site-packages/torch/cuda/amp/grad_scaler.py:126: UserWarning: torch.cuda.amp.GradScaler is enabled, but CUDA is not available.  Disabling.\n",
      "  warnings.warn(\n",
      "/Users/danorel/miniconda3/envs/aclarel_3.11.3/lib/python3.11/site-packages/torch/cuda/amp/grad_scaler.py:126: UserWarning: torch.cuda.amp.GradScaler is enabled, but CUDA is not available.  Disabling.\n",
      "  warnings.warn(\n",
      "/Users/danorel/miniconda3/envs/aclarel_3.11.3/lib/python3.11/site-packages/torch/cuda/amp/grad_scaler.py:126: UserWarning: torch.cuda.amp.GradScaler is enabled, but CUDA is not available.  Disabling.\n",
      "  warnings.warn(\n",
      "/Users/danorel/miniconda3/envs/aclarel_3.11.3/lib/python3.11/site-packages/torch/cuda/amp/grad_scaler.py:126: UserWarning: torch.cuda.amp.GradScaler is enabled, but CUDA is not available.  Disabling.\n",
      "  warnings.warn(\n",
      "/Users/danorel/miniconda3/envs/aclarel_3.11.3/lib/python3.11/site-packages/torch/cuda/amp/grad_scaler.py:126: UserWarning: torch.cuda.amp.GradScaler is enabled, but CUDA is not available.  Disabling.\n",
      "  warnings.warn(\n",
      "/Users/danorel/miniconda3/envs/aclarel_3.11.3/lib/python3.11/site-packages/torch/cuda/amp/grad_scaler.py:126: UserWarning: torch.cuda.amp.GradScaler is enabled, but CUDA is not available.  Disabling.\n",
      "  warnings.warn(\n",
      "/Users/danorel/miniconda3/envs/aclarel_3.11.3/lib/python3.11/site-packages/torch/cuda/amp/grad_scaler.py:126: UserWarning: torch.cuda.amp.GradScaler is enabled, but CUDA is not available.  Disabling.\n",
      "  warnings.warn(\n",
      "/Users/danorel/miniconda3/envs/aclarel_3.11.3/lib/python3.11/site-packages/torch/cuda/amp/grad_scaler.py:126: UserWarning: torch.cuda.amp.GradScaler is enabled, but CUDA is not available.  Disabling.\n",
      "  warnings.warn(\n",
      "/Users/danorel/miniconda3/envs/aclarel_3.11.3/lib/python3.11/site-packages/torch/cuda/amp/grad_scaler.py:126: UserWarning: torch.cuda.amp.GradScaler is enabled, but CUDA is not available.  Disabling.\n",
      "  warnings.warn(\n",
      "/Users/danorel/miniconda3/envs/aclarel_3.11.3/lib/python3.11/site-packages/torch/cuda/amp/grad_scaler.py:126: UserWarning: torch.cuda.amp.GradScaler is enabled, but CUDA is not available.  Disabling.\n",
      "  warnings.warn(\n"
     ]
    },
    {
     "name": "stdout",
     "output_type": "stream",
     "text": [
      "Device: cpu\n",
      "Autocast gradients: False\n",
      "Device: cpu\n",
      "Autocast gradients: False\n",
      "Device: cpu\n",
      "Autocast gradients: False\n",
      "Device: cpu\n",
      "Autocast gradients: False\n",
      "Device: cpu\n",
      "Autocast gradients: False\n",
      "Device: cpu\n",
      "Autocast gradients: False\n",
      "Device: cpu\n",
      "Autocast gradients: False\n",
      "Device: cpu\n",
      "Autocast gradients: False\n",
      "Device: cpu\n",
      "Autocast gradients: False\n",
      "Device: cpu\n",
      "Autocast gradients: False\n"
     ]
    },
    {
     "name": "stderr",
     "output_type": "stream",
     "text": [
      "  0%|                                                                                                                   | 0/11 [00:00<?, ?it/s]"
     ]
    },
    {
     "name": "stdout",
     "output_type": "stream",
     "text": [
      "Training of 'dqn' via CL method 'transfer-learning' has started\n"
     ]
    },
    {
     "name": "stderr",
     "output_type": "stream",
     "text": [
      "\n",
      "  0%|                                                                                                                  | 0/101 [00:00<?, ?it/s]\u001b[A/Users/danorel/miniconda3/envs/aclarel_3.11.3/lib/python3.11/site-packages/gym/utils/passive_env_checker.py:233: DeprecationWarning: `np.bool8` is a deprecated alias for `np.bool_`.  (Deprecated NumPy 1.24)\n",
      "  if not isinstance(terminated, (bool, np.bool8)):\n",
      "/Users/danorel/Workspace/Education/University/KMA/Research/aclarel/environments/mountain_car/rl_methods/dqn.py:109: UserWarning: Creating a tensor from a list of numpy.ndarrays is extremely slow. Please consider converting the list to a single numpy.ndarray with numpy.array() before converting to a tensor. (Triggered internally at /Users/runner/work/pytorch/pytorch/pytorch/torch/csrc/utils/tensor_new.cpp:278.)\n",
      "  state_batch = torch.tensor(states, dtype=torch.float32, device=self.device)\n",
      "/Users/danorel/Workspace/Education/University/KMA/Research/aclarel/environments/mountain_car/rl_methods/__init__.py:64: FutureWarning: The behavior of DataFrame concatenation with empty or all-NA entries is deprecated. In a future version, this will no longer exclude empty or all-NA columns when determining the result dtypes. To retain the old behavior, exclude the relevant entries before the concat operation.\n",
      "  self.measurements = pd.concat([self.measurements, measurement], ignore_index=True)\n",
      "\n",
      "  1%|█                                                                                                         | 1/101 [00:14<24:12, 14.52s/it]\u001b[A"
     ]
    },
    {
     "name": "stdout",
     "output_type": "stream",
     "text": [
      "Evaluation 0 (Epsilon=0.91998):\n",
      "\tTraining:\n",
      " \t\tGravity: 0.00025\n",
      " \t\tStability: 485.45\n",
      "\tEvalution:\n",
      " \t\tAAR: -173.952\n",
      " \t\tSES: 1.0\n",
      " \t\tMean Reward: -1000.0\n",
      " \t\tStd Reward: 0.0\n"
     ]
    },
    {
     "name": "stderr",
     "output_type": "stream",
     "text": [
      "\n",
      "  2%|██                                                                                                        | 2/101 [00:30<25:50, 15.66s/it]\u001b[A\n",
      "  3%|███▏                                                                                                      | 3/101 [00:48<27:11, 16.65s/it]\u001b[A\n",
      "  4%|████▏                                                                                                     | 4/101 [01:06<27:18, 16.89s/it]\u001b[A\n",
      "  5%|█████▏                                                                                                    | 5/101 [01:23<27:05, 16.93s/it]\u001b[A\n",
      "  6%|██████▎                                                                                                   | 6/101 [01:40<27:04, 17.10s/it]\u001b[A\n",
      "  7%|███████▎                                                                                                  | 7/101 [01:57<26:55, 17.19s/it]\u001b[A\n",
      "  8%|████████▍                                                                                                 | 8/101 [02:15<26:43, 17.24s/it]\u001b[A\n",
      "  9%|█████████▍                                                                                                | 9/101 [02:32<26:22, 17.20s/it]\u001b[A\n",
      " 10%|██████████▍                                                                                              | 10/101 [02:50<26:20, 17.37s/it]\u001b[A\n",
      " 11%|███████████▍                                                                                             | 11/101 [03:07<26:07, 17.41s/it]\u001b[A"
     ]
    },
    {
     "name": "stdout",
     "output_type": "stream",
     "text": [
      "Evaluation 10 (Epsilon=0.34111):\n",
      "\tTraining:\n",
      " \t\tGravity: 0.000709\n",
      " \t\tStability: 110.545\n",
      "\tEvalution:\n",
      " \t\tAAR: -52.233\n",
      " \t\tSES: 1.0\n",
      " \t\tMean Reward: -1000.0\n",
      " \t\tStd Reward: 0.0\n"
     ]
    },
    {
     "name": "stderr",
     "output_type": "stream",
     "text": [
      "\n",
      " 12%|████████████▍                                                                                            | 12/101 [03:25<25:54, 17.46s/it]\u001b[A\n",
      " 13%|█████████████▌                                                                                           | 13/101 [03:42<25:40, 17.50s/it]\u001b[A\n",
      " 14%|██████████████▌                                                                                          | 14/101 [04:00<25:41, 17.72s/it]\u001b[A\n",
      " 15%|███████████████▌                                                                                         | 15/101 [04:18<25:18, 17.66s/it]\u001b[A\n",
      " 16%|████████████████▋                                                                                        | 16/101 [04:39<26:17, 18.56s/it]\u001b[A\n",
      " 17%|█████████████████▋                                                                                       | 17/101 [04:58<26:15, 18.75s/it]\u001b[A\n",
      " 18%|██████████████████▋                                                                                      | 18/101 [05:16<25:39, 18.54s/it]\u001b[A\n",
      " 19%|███████████████████▊                                                                                     | 19/101 [05:34<24:57, 18.26s/it]\u001b[A\n",
      " 20%|████████████████████▊                                                                                    | 20/101 [05:51<24:17, 17.99s/it]\u001b[A\n",
      " 21%|█████████████████████▊                                                                                   | 21/101 [06:08<23:44, 17.80s/it]\u001b[A"
     ]
    },
    {
     "name": "stdout",
     "output_type": "stream",
     "text": [
      "Evaluation 20 (Epsilon=0.12548):\n",
      "\tTraining:\n",
      " \t\tGravity: 0.001168\n",
      " \t\tStability: 111.395\n",
      "\tEvalution:\n",
      " \t\tAAR: -38.268\n",
      " \t\tSES: 1.0\n",
      " \t\tMean Reward: -1000.0\n",
      " \t\tStd Reward: 0.0\n"
     ]
    },
    {
     "name": "stderr",
     "output_type": "stream",
     "text": [
      "\n",
      " 22%|██████████████████████▊                                                                                  | 22/101 [06:26<23:22, 17.75s/it]\u001b[A\n",
      " 23%|███████████████████████▉                                                                                 | 23/101 [06:44<23:16, 17.90s/it]\u001b[A\n",
      " 24%|████████████████████████▉                                                                                | 24/101 [07:02<22:59, 17.92s/it]\u001b[A\n",
      " 25%|█████████████████████████▉                                                                               | 25/101 [07:20<22:43, 17.94s/it]\u001b[A\n",
      " 26%|███████████████████████████                                                                              | 26/101 [07:38<22:25, 17.94s/it]\u001b[A\n",
      " 27%|████████████████████████████                                                                             | 27/101 [07:58<22:54, 18.57s/it]\u001b[A\n",
      " 28%|█████████████████████████████                                                                            | 28/101 [08:18<23:09, 19.03s/it]\u001b[A\n",
      " 29%|██████████████████████████████▏                                                                          | 29/101 [08:38<23:01, 19.19s/it]\u001b[A\n",
      " 30%|███████████████████████████████▏                                                                         | 30/101 [08:57<22:44, 19.22s/it]\u001b[A\n",
      " 31%|████████████████████████████████▏                                                                        | 31/101 [09:16<22:19, 19.13s/it]\u001b[A"
     ]
    },
    {
     "name": "stdout",
     "output_type": "stream",
     "text": [
      "Evaluation 30 (Epsilon=0.04616):\n",
      "\tTraining:\n",
      " \t\tGravity: 0.001628\n",
      " \t\tStability: 257.432\n",
      "\tEvalution:\n",
      " \t\tAAR: -29.902\n",
      " \t\tSES: 1.0\n",
      " \t\tMean Reward: -1000.0\n",
      " \t\tStd Reward: 0.0\n"
     ]
    },
    {
     "name": "stderr",
     "output_type": "stream",
     "text": [
      "\n",
      " 32%|█████████████████████████████████▎                                                                       | 32/101 [09:37<22:46, 19.81s/it]\u001b[A\n",
      " 33%|██████████████████████████████████▎                                                                      | 33/101 [09:58<22:34, 19.92s/it]\u001b[A\n",
      " 34%|███████████████████████████████████▎                                                                     | 34/101 [10:17<21:57, 19.66s/it]\u001b[A\n",
      " 35%|████████████████████████████████████▍                                                                    | 35/101 [10:35<21:05, 19.17s/it]\u001b[A\n",
      " 36%|█████████████████████████████████████▍                                                                   | 36/101 [10:57<21:43, 20.05s/it]\u001b[A\n",
      " 37%|██████████████████████████████████████▍                                                                  | 37/101 [11:16<21:15, 19.93s/it]\u001b[A\n",
      " 38%|███████████████████████████████████████▌                                                                 | 38/101 [11:36<20:59, 19.99s/it]\u001b[A\n",
      " 39%|████████████████████████████████████████▌                                                                | 39/101 [11:56<20:31, 19.86s/it]\u001b[A\n",
      " 40%|█████████████████████████████████████████▌                                                               | 40/101 [12:15<19:56, 19.62s/it]\u001b[A\n",
      " 41%|██████████████████████████████████████████▌                                                              | 41/101 [12:34<19:25, 19.43s/it]\u001b[A"
     ]
    },
    {
     "name": "stdout",
     "output_type": "stream",
     "text": [
      "Evaluation 40 (Epsilon=0.01698):\n",
      "\tTraining:\n",
      " \t\tGravity: 0.002087\n",
      " \t\tStability: 216.453\n",
      "\tEvalution:\n",
      " \t\tAAR: -21.762\n",
      " \t\tSES: 1.0\n",
      " \t\tMean Reward: -1000.0\n",
      " \t\tStd Reward: 0.0\n"
     ]
    },
    {
     "name": "stderr",
     "output_type": "stream",
     "text": [
      "\n",
      " 42%|███████████████████████████████████████████▋                                                             | 42/101 [12:52<18:38, 18.96s/it]\u001b[A\n",
      " 43%|████████████████████████████████████████████▋                                                            | 43/101 [13:09<17:52, 18.49s/it]\u001b[A\n",
      " 44%|█████████████████████████████████████████████▋                                                           | 44/101 [13:27<17:17, 18.19s/it]\u001b[A\n",
      " 45%|██████████████████████████████████████████████▊                                                          | 45/101 [13:47<17:34, 18.83s/it]\u001b[A\n",
      " 46%|███████████████████████████████████████████████▊                                                         | 46/101 [14:07<17:28, 19.06s/it]\u001b[A\n",
      " 47%|████████████████████████████████████████████████▊                                                        | 47/101 [14:27<17:29, 19.44s/it]\u001b[A\n",
      " 48%|█████████████████████████████████████████████████▉                                                       | 48/101 [14:51<18:16, 20.69s/it]\u001b[A\n",
      " 49%|██████████████████████████████████████████████████▉                                                      | 49/101 [15:09<17:20, 20.01s/it]\u001b[A\n",
      " 50%|███████████████████████████████████████████████████▉                                                     | 50/101 [15:28<16:43, 19.68s/it]\u001b[A\n",
      " 50%|█████████████████████████████████████████████████████                                                    | 51/101 [15:47<16:13, 19.47s/it]\u001b[A"
     ]
    },
    {
     "name": "stdout",
     "output_type": "stream",
     "text": [
      "Evaluation 50 (Epsilon=0.01):\n",
      "\tTraining:\n",
      " \t\tGravity: 0.0025\n",
      " \t\tStability: 342.788\n",
      "\tEvalution:\n",
      " \t\tAAR: -19.323\n",
      " \t\tSES: 1.0\n",
      " \t\tMean Reward: -1000.0\n",
      " \t\tStd Reward: 0.0\n"
     ]
    },
    {
     "name": "stderr",
     "output_type": "stream",
     "text": [
      "\n",
      " 51%|██████████████████████████████████████████████████████                                                   | 52/101 [16:06<15:50, 19.40s/it]\u001b[A\n",
      " 52%|███████████████████████████████████████████████████████                                                  | 53/101 [16:24<15:10, 18.96s/it]\u001b[A\n",
      " 53%|████████████████████████████████████████████████████████▏                                                | 54/101 [16:42<14:38, 18.69s/it]\u001b[A\n",
      " 54%|█████████████████████████████████████████████████████████▏                                               | 55/101 [16:59<13:56, 18.19s/it]\u001b[A\n",
      " 55%|██████████████████████████████████████████████████████████▏                                              | 56/101 [17:17<13:30, 18.01s/it]\u001b[A\n",
      " 56%|███████████████████████████████████████████████████████████▎                                             | 57/101 [17:35<13:15, 18.09s/it]\u001b[A\n",
      " 57%|████████████████████████████████████████████████████████████▎                                            | 58/101 [17:53<12:53, 17.98s/it]\u001b[A\n",
      " 58%|█████████████████████████████████████████████████████████████▎                                           | 59/101 [18:10<12:29, 17.84s/it]\u001b[A\n",
      " 59%|██████████████████████████████████████████████████████████████▍                                          | 60/101 [18:27<12:00, 17.58s/it]\u001b[A\n",
      " 60%|███████████████████████████████████████████████████████████████▍                                         | 61/101 [18:45<11:44, 17.61s/it]\u001b[A"
     ]
    },
    {
     "name": "stdout",
     "output_type": "stream",
     "text": [
      "Evaluation 60 (Epsilon=0.01):\n",
      "\tTraining:\n",
      " \t\tGravity: 0.0025\n",
      " \t\tStability: 163.168\n",
      "\tEvalution:\n",
      " \t\tAAR: -19.159\n",
      " \t\tSES: 1.0\n",
      " \t\tMean Reward: -1000.0\n",
      " \t\tStd Reward: 0.0\n"
     ]
    },
    {
     "name": "stderr",
     "output_type": "stream",
     "text": [
      "\n",
      " 61%|████████████████████████████████████████████████████████████████▍                                        | 62/101 [19:03<11:32, 17.76s/it]\u001b[A\n",
      " 62%|█████████████████████████████████████████████████████████████████▍                                       | 63/101 [19:21<11:13, 17.73s/it]\u001b[A\n",
      " 63%|██████████████████████████████████████████████████████████████████▌                                      | 64/101 [19:43<11:45, 19.08s/it]\u001b[A\n",
      " 64%|███████████████████████████████████████████████████████████████████▌                                     | 65/101 [20:01<11:19, 18.87s/it]\u001b[A\n",
      " 65%|████████████████████████████████████████████████████████████████████▌                                    | 66/101 [20:20<10:57, 18.78s/it]\u001b[A\n",
      " 66%|█████████████████████████████████████████████████████████████████████▋                                   | 67/101 [20:40<10:46, 19.01s/it]\u001b[A\n",
      " 67%|██████████████████████████████████████████████████████████████████████▋                                  | 68/101 [20:58<10:26, 19.00s/it]\u001b[A\n",
      " 68%|███████████████████████████████████████████████████████████████████████▋                                 | 69/101 [21:17<10:01, 18.80s/it]\u001b[A\n",
      " 69%|████████████████████████████████████████████████████████████████████████▊                                | 70/101 [21:35<09:37, 18.64s/it]\u001b[A\n",
      " 70%|█████████████████████████████████████████████████████████████████████████▊                               | 71/101 [21:54<09:22, 18.75s/it]\u001b[A"
     ]
    },
    {
     "name": "stdout",
     "output_type": "stream",
     "text": [
      "Evaluation 70 (Epsilon=0.01):\n",
      "\tTraining:\n",
      " \t\tGravity: 0.0025\n",
      " \t\tStability: 192.696\n",
      "\tEvalution:\n",
      " \t\tAAR: -20.859\n",
      " \t\tSES: 1.0\n",
      " \t\tMean Reward: -1000.0\n",
      " \t\tStd Reward: 0.0\n"
     ]
    },
    {
     "name": "stderr",
     "output_type": "stream",
     "text": [
      "\n",
      " 71%|██████████████████████████████████████████████████████████████████████████▊                              | 72/101 [22:12<08:57, 18.54s/it]\u001b[A\n",
      " 72%|███████████████████████████████████████████████████████████████████████████▉                             | 73/101 [22:30<08:31, 18.27s/it]\u001b[A\n",
      " 73%|████████████████████████████████████████████████████████████████████████████▉                            | 74/101 [22:47<08:07, 18.04s/it]\u001b[A\n",
      " 74%|█████████████████████████████████████████████████████████████████████████████▉                           | 75/101 [23:05<07:46, 17.95s/it]\u001b[A\n",
      " 75%|███████████████████████████████████████████████████████████████████████████████                          | 76/101 [23:23<07:30, 18.02s/it]\u001b[A\n",
      " 76%|████████████████████████████████████████████████████████████████████████████████                         | 77/101 [23:40<07:06, 17.79s/it]\u001b[A\n",
      " 77%|█████████████████████████████████████████████████████████████████████████████████                        | 78/101 [23:58<06:48, 17.74s/it]\u001b[A\n",
      " 78%|██████████████████████████████████████████████████████████████████████████████████▏                      | 79/101 [24:16<06:30, 17.73s/it]\u001b[A\n",
      " 79%|███████████████████████████████████████████████████████████████████████████████████▏                     | 80/101 [24:33<06:11, 17.69s/it]\u001b[A\n",
      " 80%|████████████████████████████████████████████████████████████████████████████████████▏                    | 81/101 [24:51<05:52, 17.61s/it]\u001b[A"
     ]
    },
    {
     "name": "stdout",
     "output_type": "stream",
     "text": [
      "Evaluation 80 (Epsilon=0.01):\n",
      "\tTraining:\n",
      " \t\tGravity: 0.0025\n",
      " \t\tStability: 370.395\n",
      "\tEvalution:\n",
      " \t\tAAR: -18.167\n",
      " \t\tSES: 1.0\n",
      " \t\tMean Reward: -1000.0\n",
      " \t\tStd Reward: 0.0\n"
     ]
    },
    {
     "name": "stderr",
     "output_type": "stream",
     "text": [
      "\n",
      " 81%|█████████████████████████████████████████████████████████████████████████████████████▏                   | 82/101 [25:09<05:35, 17.65s/it]\u001b[A\n",
      " 82%|██████████████████████████████████████████████████████████████████████████████████████▎                  | 83/101 [25:26<05:17, 17.64s/it]\u001b[A\n",
      " 83%|███████████████████████████████████████████████████████████████████████████████████████▎                 | 84/101 [25:44<05:00, 17.66s/it]\u001b[A\n",
      " 84%|████████████████████████████████████████████████████████████████████████████████████████▎                | 85/101 [26:02<04:42, 17.68s/it]\u001b[A\n",
      " 85%|█████████████████████████████████████████████████████████████████████████████████████████▍               | 86/101 [26:19<04:24, 17.60s/it]\u001b[A\n",
      " 86%|██████████████████████████████████████████████████████████████████████████████████████████▍              | 87/101 [26:37<04:07, 17.68s/it]\u001b[A\n",
      " 87%|███████████████████████████████████████████████████████████████████████████████████████████▍             | 88/101 [26:55<03:50, 17.76s/it]\u001b[A\n",
      " 88%|████████████████████████████████████████████████████████████████████████████████████████████▌            | 89/101 [27:12<03:32, 17.67s/it]\u001b[A\n",
      " 89%|█████████████████████████████████████████████████████████████████████████████████████████████▌           | 90/101 [27:30<03:15, 17.78s/it]\u001b[A\n",
      " 90%|██████████████████████████████████████████████████████████████████████████████████████████████▌          | 91/101 [27:47<02:53, 17.36s/it]\u001b[A"
     ]
    },
    {
     "name": "stdout",
     "output_type": "stream",
     "text": [
      "Evaluation 90 (Epsilon=0.01):\n",
      "\tTraining:\n",
      " \t\tGravity: 0.0025\n",
      " \t\tStability: 240.356\n",
      "\tEvalution:\n",
      " \t\tAAR: -17.675\n",
      " \t\tSES: 1.0\n",
      " \t\tMean Reward: -1000.0\n",
      " \t\tStd Reward: 0.0\n"
     ]
    },
    {
     "name": "stderr",
     "output_type": "stream",
     "text": [
      "\n",
      " 91%|███████████████████████████████████████████████████████████████████████████████████████████████▋         | 92/101 [28:02<02:31, 16.87s/it]\u001b[A\n",
      " 92%|████████████████████████████████████████████████████████████████████████████████████████████████▋        | 93/101 [28:18<02:11, 16.40s/it]\u001b[A\n",
      " 93%|█████████████████████████████████████████████████████████████████████████████████████████████████▋       | 94/101 [28:33<01:52, 16.08s/it]\u001b[A\n",
      " 94%|██████████████████████████████████████████████████████████████████████████████████████████████████▊      | 95/101 [28:48<01:34, 15.71s/it]\u001b[A\n",
      " 95%|███████████████████████████████████████████████████████████████████████████████████████████████████▊     | 96/101 [29:03<01:17, 15.52s/it]\u001b[A\n",
      " 96%|████████████████████████████████████████████████████████████████████████████████████████████████████▊    | 97/101 [29:18<01:00, 15.24s/it]\u001b[A\n",
      " 97%|█████████████████████████████████████████████████████████████████████████████████████████████████████▉   | 98/101 [29:33<00:45, 15.27s/it]\u001b[A\n",
      " 98%|██████████████████████████████████████████████████████████████████████████████████████████████████████▉  | 99/101 [29:48<00:30, 15.30s/it]\u001b[A\n",
      " 99%|██████████████████████████████████████████████████████████████████████████████████████████████████████▉ | 100/101 [30:05<00:15, 15.64s/it]\u001b[A\n",
      "100%|████████████████████████████████████████████████████████████████████████████████████████████████████████| 101/101 [30:21<00:00, 18.03s/it]\u001b[A"
     ]
    },
    {
     "name": "stdout",
     "output_type": "stream",
     "text": [
      "Evaluation 100 (Epsilon=0.01):\n",
      "\tTraining:\n",
      " \t\tGravity: 0.0025\n",
      " \t\tStability: 265.331\n",
      "\tEvalution:\n",
      " \t\tAAR: -19.429\n",
      " \t\tSES: 1.0\n",
      " \t\tMean Reward: -1000.0\n",
      " \t\tStd Reward: 0.0\n"
     ]
    },
    {
     "name": "stderr",
     "output_type": "stream",
     "text": [
      "\n",
      "  9%|█████████▎                                                                                             | 1/11 [30:22<5:03:42, 1822.24s/it]"
     ]
    },
    {
     "name": "stdout",
     "output_type": "stream",
     "text": [
      "Training of 'dqn' via CL method 'teacher-learning' has started\n"
     ]
    },
    {
     "name": "stderr",
     "output_type": "stream",
     "text": [
      "\n",
      "  0%|                                                                                                                  | 0/101 [00:00<?, ?it/s]\u001b[A\n",
      "  1%|█                                                                                                         | 1/101 [00:14<24:20, 14.61s/it]\u001b[A"
     ]
    },
    {
     "name": "stdout",
     "output_type": "stream",
     "text": [
      "Evaluation 0 (Epsilon=0.9071):\n",
      "\tTraining:\n",
      " \t\tGravity: 0.002433\n",
      " \t\tStability: 273.605\n",
      "\tEvalution:\n",
      " \t\tAAR: -20.151\n",
      " \t\tSES: 1.0\n",
      " \t\tMean Reward: -1000.0\n",
      " \t\tStd Reward: 0.0\n"
     ]
    },
    {
     "name": "stderr",
     "output_type": "stream",
     "text": [
      "\n",
      "  2%|██                                                                                                        | 2/101 [00:29<24:39, 14.95s/it]\u001b[A\n",
      "  3%|███▏                                                                                                      | 3/101 [00:45<24:58, 15.29s/it]\u001b[A\n",
      "  4%|████▏                                                                                                     | 4/101 [01:01<25:14, 15.61s/it]\u001b[A\n",
      "  5%|█████▏                                                                                                    | 5/101 [01:17<25:23, 15.87s/it]\u001b[A\n",
      "  6%|██████▎                                                                                                   | 6/101 [01:34<25:17, 15.97s/it]\u001b[A\n",
      "  7%|███████▎                                                                                                  | 7/101 [01:51<25:42, 16.41s/it]\u001b[A\n",
      "  8%|████████▍                                                                                                 | 8/101 [02:11<27:22, 17.66s/it]\u001b[A\n",
      "  9%|█████████▍                                                                                                | 9/101 [02:31<28:03, 18.30s/it]\u001b[A\n",
      " 10%|██████████▍                                                                                              | 10/101 [02:50<28:02, 18.49s/it]\u001b[A\n",
      " 11%|███████████▍                                                                                             | 11/101 [03:16<31:06, 20.74s/it]\u001b[A"
     ]
    },
    {
     "name": "stdout",
     "output_type": "stream",
     "text": [
      "Evaluation 10 (Epsilon=0.33369):\n",
      "\tTraining:\n",
      " \t\tGravity: 0.001758\n",
      " \t\tStability: 209.499\n",
      "\tEvalution:\n",
      " \t\tAAR: -24.688\n",
      " \t\tSES: 1.0\n",
      " \t\tMean Reward: -1000.0\n",
      " \t\tStd Reward: 0.0\n"
     ]
    },
    {
     "name": "stderr",
     "output_type": "stream",
     "text": [
      "\n",
      " 12%|████████████▍                                                                                            | 12/101 [03:35<30:08, 20.32s/it]\u001b[A\n",
      " 13%|█████████████▌                                                                                           | 13/101 [03:55<29:28, 20.09s/it]\u001b[A\n",
      " 14%|██████████████▌                                                                                          | 14/101 [04:14<28:35, 19.72s/it]\u001b[A\n",
      " 15%|███████████████▌                                                                                         | 15/101 [04:32<27:44, 19.35s/it]\u001b[A\n",
      " 16%|████████████████▋                                                                                        | 16/101 [04:51<27:11, 19.19s/it]\u001b[A\n",
      " 17%|█████████████████▋                                                                                       | 17/101 [05:10<26:46, 19.13s/it]\u001b[A\n",
      " 18%|██████████████████▋                                                                                      | 18/101 [05:29<26:36, 19.24s/it]\u001b[A"
     ]
    }
   ],
   "source": [
    "from environments.mountain_car.rl_methods.dqn import DQNAgent\n",
    "\n",
    "dqn_agent = functools.partial(experiments.get_agent, agent_name='dqn')\n",
    "dqn_path = DATASETS_DIR / 'dqn.csv'\n",
    "\n",
    "agents = [\n",
    "    dqn_agent(curriculum_name='transfer-learning'),\n",
    "    dqn_agent(curriculum_name='teacher-learning'),\n",
    "    dqn_agent(curriculum_name='one-pass'),\n",
    "    dqn_agent(curriculum_name='root-p'),\n",
    "    dqn_agent(curriculum_name='hard'),\n",
    "    dqn_agent(curriculum_name='linear'),\n",
    "    dqn_agent(curriculum_name='logarithmic'),\n",
    "    dqn_agent(curriculum_name='logistic'),\n",
    "    dqn_agent(curriculum_name='mixture'),\n",
    "    dqn_agent(curriculum_name='polynomial'),\n",
    "    dqn_agent(curriculum_name='anti-curriculum')\n",
    "]\n",
    "\n",
    "file_exists_and_not_empty = os.path.exists(dqn_path) and os.path.getsize(dqn_path) > 0\n",
    "\n",
    "with open(dqn_path, 'a') as f:\n",
    "    if not file_exists_and_not_empty:\n",
    "        f.write(f\"{','.join(COLUMNS)}\\n\")\n",
    "        f.flush()\n",
    "    for agent in tqdm(agents):\n",
    "        print(f\"Training of '{agent.metadata['agent_name']}' via CL method '{agent.metadata['curriculum_name']}' has started\")\n",
    "        curriculum = experiments.get_curriculum(agent)\n",
    "        mountain_car.train_evaluate(agent, curriculum)\n",
    "        agent_df = data_frame_from_agent(agent)\n",
    "        if f.tell() == 0:\n",
    "            agent_df.to_csv(f, index=False)\n",
    "        else:\n",
    "            agent_df.to_csv(f, header=False, index=False)\n",
    "        f.flush()"
   ]
  },
  {
   "cell_type": "markdown",
   "id": "d8f28f5b-28ff-49e9-bea2-ed214f882027",
   "metadata": {},
   "source": [
    "### PPO"
   ]
  },
  {
   "cell_type": "code",
   "execution_count": null,
   "id": "afad4268-3206-4691-9d2a-f3f9f92e00a7",
   "metadata": {
    "scrolled": true
   },
   "outputs": [],
   "source": [
    "from environments.mountain_car.rl_methods.ppo import PPOAgent\n",
    "\n",
    "ppo_agent = functools.partial(experiments.get_agent, agent_name='ppo')\n",
    "ppo_path = DATASETS_DIR / 'ppo.csv'\n",
    "\n",
    "agents = [\n",
    "    ppo_agent(curriculum_name='baseline'),\n",
    "    ppo_agent(curriculum_name='transfer-learning'),\n",
    "    ppo_agent(curriculum_name='teacher-learning'),\n",
    "    ppo_agent(curriculum_name='one-pass'),\n",
    "    ppo_agent(curriculum_name='root-p'),\n",
    "    ppo_agent(curriculum_name='hard'),\n",
    "    ppo_agent(curriculum_name='linear'),\n",
    "    ppo_agent(curriculum_name='logarithmic'),\n",
    "    ppo_agent(curriculum_name='logistic'),\n",
    "    ppo_agent(curriculum_name='mixture'),\n",
    "    ppo_agent(curriculum_name='polynomial'),\n",
    "    ppo_agent(curriculum_name='anti-curriculum')\n",
    "]\n",
    "\n",
    "file_exists_and_not_empty = os.path.exists(ppo_path) and os.path.getsize(ppo_path) > 0\n",
    "\n",
    "with open(ppo_path, 'a') as f:\n",
    "    if not file_exists_and_not_empty:\n",
    "        f.write(f\"{','.join(COLUMNS)}\\n\")\n",
    "        f.flush()\n",
    "    for agent in tqdm(agents):\n",
    "        curriculum = experiments.get_curriculum(agent)\n",
    "        mountain_car.train_evaluate(agent, curriculum)\n",
    "        agent_df = data_frame_from_agent(agent)\n",
    "        if f.tell() == 0:\n",
    "            agent_df.to_csv(f, index=False)\n",
    "        else:\n",
    "            agent_df.to_csv(f, header=False, index=False)\n",
    "        f.flush()"
   ]
  },
  {
   "cell_type": "markdown",
   "id": "cab04375-6ae4-4a04-a7ce-095a0e7c8d4a",
   "metadata": {},
   "source": [
    "### Q-Learning"
   ]
  },
  {
   "cell_type": "markdown",
   "id": "fe0a7c7c-63be-44ec-ac45-8562ec58e8ba",
   "metadata": {},
   "source": [
    "#### Curriculum parameter: gravity"
   ]
  },
  {
   "cell_type": "code",
   "execution_count": null,
   "id": "033bae37-cc5f-4a67-90e4-0985d5940885",
   "metadata": {
    "scrolled": true
   },
   "outputs": [],
   "source": [
    "from environments.mountain_car.rl_methods.q_learning import QLearningAgent\n",
    "\n",
    "q_learning_agent = functools.partial(experiments.get_agent, agent_name='q-learning')\n",
    "q_learning_path = DATASETS_DIR / 'q-learning.csv'\n",
    "\n",
    "agents = [\n",
    "    q_learning_agent(curriculum_name='baseline'),\n",
    "    q_learning_agent(curriculum_name='transfer-learning'),\n",
    "    q_learning_agent(curriculum_name='teacher-learning'),\n",
    "    q_learning_agent(curriculum_name='one-pass'),\n",
    "    q_learning_agent(curriculum_name='root-p'),\n",
    "    q_learning_agent(curriculum_name='hard'),\n",
    "    q_learning_agent(curriculum_name='linear'),\n",
    "    q_learning_agent(curriculum_name='logarithmic'),\n",
    "    q_learning_agent(curriculum_name='logistic'),\n",
    "    q_learning_agent(curriculum_name='mixture'),\n",
    "    q_learning_agent(curriculum_name='polynomial'),\n",
    "    q_learning_agent(curriculum_name='anti-curriculum')\n",
    "]\n",
    "\n",
    "file_exists_and_not_empty = os.path.exists(q_learning_path) and os.path.getsize(q_learning_path) > 0\n",
    "\n",
    "with open(q_learning_path, 'a') as f:\n",
    "    if not file_exists_and_not_empty:\n",
    "        f.write(f\"{','.join(COLUMNS)}\\n\")\n",
    "        f.flush()\n",
    "    for agent in tqdm(agents):\n",
    "        print(f\"Training of '{agent.metadata['agent_name']}' via CL method '{agent.metadata['curriculum_name']}' has started\")\n",
    "        curriculum = experiments.get_curriculum(agent)\n",
    "        mountain_car.train_evaluate(agent, curriculum)\n",
    "        agent_df = data_frame_from_agent(agent)\n",
    "        if f.tell() == 0:\n",
    "            agent_df.to_csv(f, index=False)\n",
    "        else:\n",
    "            agent_df.to_csv(f, header=False, index=False)\n",
    "        f.flush()"
   ]
  }
 ],
 "metadata": {
  "kernelspec": {
   "display_name": "aclarel_3.11.3",
   "language": "python",
   "name": "aclarel_3.11.3"
  },
  "language_info": {
   "codemirror_mode": {
    "name": "ipython",
    "version": 3
   },
   "file_extension": ".py",
   "mimetype": "text/x-python",
   "name": "python",
   "nbconvert_exporter": "python",
   "pygments_lexer": "ipython3",
   "version": "3.11.3"
  }
 },
 "nbformat": 4,
 "nbformat_minor": 5
}
