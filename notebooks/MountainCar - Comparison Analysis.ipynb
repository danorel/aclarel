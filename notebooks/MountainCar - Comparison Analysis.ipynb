{
 "cells": [
  {
   "cell_type": "code",
   "execution_count": 1,
   "id": "4ca45a75-f165-4ea3-bc90-82975e6a1ffc",
   "metadata": {},
   "outputs": [
    {
     "name": "stdout",
     "output_type": "stream",
     "text": [
      "/Users/danorel/Workspace/Education/University/KMA/Research/aclarel\n"
     ]
    }
   ],
   "source": [
    "%cd .."
   ]
  },
  {
   "cell_type": "code",
   "execution_count": 2,
   "id": "39deedfb-bba0-4411-ba29-682770bd9115",
   "metadata": {},
   "outputs": [],
   "source": [
    "import functools\n",
    "import pathlib\n",
    "\n",
    "from tqdm import tqdm\n",
    "\n",
    "import environments.mountain_car.environment as mountain_car\n",
    "import environments.mountain_car.experiments as experiments"
   ]
  },
  {
   "cell_type": "markdown",
   "id": "2578746b-32c2-4d99-97c1-ddb34ac23df5",
   "metadata": {},
   "source": [
    "## Curriculum Learning: Setup"
   ]
  },
  {
   "cell_type": "markdown",
   "id": "83fe9e13-c218-4b3b-a556-4cadca967a73",
   "metadata": {},
   "source": [
    "### Data Frame"
   ]
  },
  {
   "cell_type": "code",
   "execution_count": 3,
   "id": "1da28ed2-c431-4eaf-8c1b-06379ed1223a",
   "metadata": {},
   "outputs": [],
   "source": [
    "import pandas as pd\n",
    "\n",
    "def data_frame_from_agents(agents):\n",
    "    df = pd.DataFrame()\n",
    "    for agent in agents:\n",
    "        df = pd.concat([df, agent.measurements])\n",
    "    return df"
   ]
  },
  {
   "cell_type": "markdown",
   "id": "0177b7c8-d10a-4258-976e-b39bcf5e148b",
   "metadata": {},
   "source": [
    "## Reinforcement Learning: Experiments"
   ]
  },
  {
   "cell_type": "code",
   "execution_count": 4,
   "id": "0e36bc6a-1ea4-4cec-b410-2a53cee6dd20",
   "metadata": {},
   "outputs": [],
   "source": [
    "DATASETS_DIR = pathlib.Path(\"datasets\") / \"mountain_car\"\n",
    "DATASETS_DIR.mkdir(parents=True, exist_ok=True)"
   ]
  },
  {
   "cell_type": "code",
   "execution_count": 5,
   "id": "afad4268-3206-4691-9d2a-f3f9f92e00a7",
   "metadata": {
    "scrolled": true
   },
   "outputs": [
    {
     "name": "stdout",
     "output_type": "stream",
     "text": [
      "Device: cpu\n",
      "Autocast gradients: False\n"
     ]
    },
    {
     "name": "stderr",
     "output_type": "stream",
     "text": [
      "/Users/danorel/miniconda3/envs/aclarel_3.11.3/lib/python3.11/site-packages/torch/cuda/amp/grad_scaler.py:126: UserWarning: torch.cuda.amp.GradScaler is enabled, but CUDA is not available.  Disabling.\n",
      "  warnings.warn(\n",
      "/Users/danorel/miniconda3/envs/aclarel_3.11.3/lib/python3.11/site-packages/torch/cuda/amp/grad_scaler.py:126: UserWarning: torch.cuda.amp.GradScaler is enabled, but CUDA is not available.  Disabling.\n",
      "  warnings.warn(\n",
      "/Users/danorel/miniconda3/envs/aclarel_3.11.3/lib/python3.11/site-packages/torch/cuda/amp/grad_scaler.py:126: UserWarning: torch.cuda.amp.GradScaler is enabled, but CUDA is not available.  Disabling.\n",
      "  warnings.warn(\n",
      "/Users/danorel/miniconda3/envs/aclarel_3.11.3/lib/python3.11/site-packages/torch/cuda/amp/grad_scaler.py:126: UserWarning: torch.cuda.amp.GradScaler is enabled, but CUDA is not available.  Disabling.\n",
      "  warnings.warn(\n",
      "/Users/danorel/miniconda3/envs/aclarel_3.11.3/lib/python3.11/site-packages/torch/cuda/amp/grad_scaler.py:126: UserWarning: torch.cuda.amp.GradScaler is enabled, but CUDA is not available.  Disabling.\n",
      "  warnings.warn(\n",
      "/Users/danorel/miniconda3/envs/aclarel_3.11.3/lib/python3.11/site-packages/torch/cuda/amp/grad_scaler.py:126: UserWarning: torch.cuda.amp.GradScaler is enabled, but CUDA is not available.  Disabling.\n",
      "  warnings.warn(\n",
      "/Users/danorel/miniconda3/envs/aclarel_3.11.3/lib/python3.11/site-packages/torch/cuda/amp/grad_scaler.py:126: UserWarning: torch.cuda.amp.GradScaler is enabled, but CUDA is not available.  Disabling.\n",
      "  warnings.warn(\n",
      "/Users/danorel/miniconda3/envs/aclarel_3.11.3/lib/python3.11/site-packages/torch/cuda/amp/grad_scaler.py:126: UserWarning: torch.cuda.amp.GradScaler is enabled, but CUDA is not available.  Disabling.\n",
      "  warnings.warn(\n",
      "/Users/danorel/miniconda3/envs/aclarel_3.11.3/lib/python3.11/site-packages/torch/cuda/amp/grad_scaler.py:126: UserWarning: torch.cuda.amp.GradScaler is enabled, but CUDA is not available.  Disabling.\n",
      "  warnings.warn(\n",
      "/Users/danorel/miniconda3/envs/aclarel_3.11.3/lib/python3.11/site-packages/torch/cuda/amp/grad_scaler.py:126: UserWarning: torch.cuda.amp.GradScaler is enabled, but CUDA is not available.  Disabling.\n",
      "  warnings.warn(\n",
      "/Users/danorel/miniconda3/envs/aclarel_3.11.3/lib/python3.11/site-packages/torch/cuda/amp/grad_scaler.py:126: UserWarning: torch.cuda.amp.GradScaler is enabled, but CUDA is not available.  Disabling.\n",
      "  warnings.warn(\n",
      "/Users/danorel/miniconda3/envs/aclarel_3.11.3/lib/python3.11/site-packages/torch/cuda/amp/grad_scaler.py:126: UserWarning: torch.cuda.amp.GradScaler is enabled, but CUDA is not available.  Disabling.\n",
      "  warnings.warn(\n"
     ]
    },
    {
     "name": "stdout",
     "output_type": "stream",
     "text": [
      "Device: cpu\n",
      "Autocast gradients: False\n",
      "Device: cpu\n",
      "Autocast gradients: False\n",
      "Device: cpu\n",
      "Autocast gradients: False\n",
      "Device: cpu\n",
      "Autocast gradients: False\n",
      "Device: cpu\n",
      "Autocast gradients: False\n",
      "Device: cpu\n",
      "Autocast gradients: False\n",
      "Device: cpu\n",
      "Autocast gradients: False\n",
      "Device: cpu\n",
      "Autocast gradients: False\n",
      "Device: cpu\n",
      "Autocast gradients: False\n",
      "Device: cpu\n",
      "Autocast gradients: False\n",
      "Device: cpu\n",
      "Autocast gradients: False\n"
     ]
    },
    {
     "name": "stderr",
     "output_type": "stream",
     "text": [
      "  0%|                                                            | 0/12 [00:00<?, ?it/s]\n",
      "  0%|                                                           | 0/201 [00:00<?, ?it/s]\u001b[A/Users/danorel/miniconda3/envs/aclarel_3.11.3/lib/python3.11/site-packages/gym/utils/passive_env_checker.py:233: DeprecationWarning: `np.bool8` is a deprecated alias for `np.bool_`.  (Deprecated NumPy 1.24)\n",
      "  if not isinstance(terminated, (bool, np.bool8)):\n",
      "/Users/danorel/Workspace/Education/University/KMA/Research/aclarel/environments/mountain_car/rl_methods/__init__.py:65: FutureWarning: The behavior of DataFrame concatenation with empty or all-NA entries is deprecated. In a future version, this will no longer exclude empty or all-NA columns when determining the result dtypes. To retain the old behavior, exclude the relevant entries before the concat operation.\n",
      "  self.measurements = pd.concat([self.measurements, measurement], ignore_index=True)\n",
      "\n",
      "  0%|▎                                                  | 1/201 [00:06<23:13,  6.97s/it]\u001b[A"
     ]
    },
    {
     "name": "stdout",
     "output_type": "stream",
     "text": [
      "Evaluation 0 (Epsilon=None):\n",
      "\tTraining Gravity: 0.0025\n",
      " \tTraining Stability: 0.0\n",
      " \tAAR: -9.994\n",
      " \tSES: 0\n",
      " \tMean Reward: -1000.0\n",
      " \tStd Reward: 0.0\n",
      "\n"
     ]
    },
    {
     "name": "stderr",
     "output_type": "stream",
     "text": [
      "\n",
      "  1%|▌                                                  | 2/201 [00:14<23:19,  7.03s/it]\u001b[A\n",
      "  1%|▊                                                  | 3/201 [00:21<23:53,  7.24s/it]\u001b[A\n",
      "  2%|█                                                  | 4/201 [00:28<23:52,  7.27s/it]\u001b[A\n",
      "  2%|█▎                                                 | 5/201 [00:36<24:05,  7.38s/it]\u001b[A\n",
      "  3%|█▌                                                 | 6/201 [00:44<24:14,  7.46s/it]\u001b[A"
     ]
    },
    {
     "name": "stdout",
     "output_type": "stream",
     "text": [
      "Evaluation 5 (Epsilon=None):\n",
      "\tTraining Gravity: 0.0025\n",
      " \tTraining Stability: 0.0\n",
      " \tAAR: -10.003\n",
      " \tSES: 0\n",
      " \tMean Reward: -1000.0\n",
      " \tStd Reward: 0.0\n",
      "\n"
     ]
    },
    {
     "name": "stderr",
     "output_type": "stream",
     "text": [
      "\n",
      "  3%|█▊                                                 | 7/201 [00:51<24:23,  7.55s/it]\u001b[A\n",
      "  4%|██                                                 | 8/201 [00:59<24:04,  7.49s/it]\u001b[A\n",
      "  4%|██▎                                                | 9/201 [01:06<23:35,  7.37s/it]\u001b[A\n",
      "  5%|██▍                                               | 10/201 [01:13<23:27,  7.37s/it]\u001b[A\n",
      "  5%|██▋                                               | 11/201 [01:20<23:14,  7.34s/it]\u001b[A"
     ]
    },
    {
     "name": "stdout",
     "output_type": "stream",
     "text": [
      "Evaluation 10 (Epsilon=None):\n",
      "\tTraining Gravity: 0.0025\n",
      " \tTraining Stability: 0.0\n",
      " \tAAR: -9.999\n",
      " \tSES: 0\n",
      " \tMean Reward: -1000.0\n",
      " \tStd Reward: 0.0\n",
      "\n"
     ]
    },
    {
     "name": "stderr",
     "output_type": "stream",
     "text": [
      "\n",
      "  6%|██▉                                               | 12/201 [01:28<23:13,  7.37s/it]\u001b[A\n",
      "  6%|███▏                                              | 13/201 [01:35<23:08,  7.39s/it]\u001b[A\n",
      "  7%|███▍                                              | 14/201 [01:44<23:58,  7.69s/it]\u001b[A\n",
      "  7%|███▋                                              | 15/201 [01:53<25:10,  8.12s/it]\u001b[A\n",
      "  8%|███▉                                              | 16/201 [02:02<25:59,  8.43s/it]\u001b[A"
     ]
    },
    {
     "name": "stdout",
     "output_type": "stream",
     "text": [
      "Evaluation 15 (Epsilon=None):\n",
      "\tTraining Gravity: 0.0025\n",
      " \tTraining Stability: 0.0\n",
      " \tAAR: -10.009\n",
      " \tSES: 0\n",
      " \tMean Reward: -1000.0\n",
      " \tStd Reward: 0.0\n",
      "\n"
     ]
    },
    {
     "name": "stderr",
     "output_type": "stream",
     "text": [
      "\n",
      "  8%|████▏                                             | 17/201 [02:10<25:45,  8.40s/it]\u001b[A\n",
      "  9%|████▍                                             | 18/201 [02:18<24:51,  8.15s/it]\u001b[A\n",
      "  9%|████▋                                             | 19/201 [02:25<23:49,  7.85s/it]\u001b[A\n",
      " 10%|████▉                                             | 20/201 [02:32<23:03,  7.64s/it]\u001b[A\n",
      " 10%|█████▏                                            | 21/201 [02:39<22:28,  7.49s/it]\u001b[A"
     ]
    },
    {
     "name": "stdout",
     "output_type": "stream",
     "text": [
      "Evaluation 20 (Epsilon=None):\n",
      "\tTraining Gravity: 0.0025\n",
      " \tTraining Stability: 0.0\n",
      " \tAAR: -10.002\n",
      " \tSES: 0\n",
      " \tMean Reward: -1000.0\n",
      " \tStd Reward: 0.0\n",
      "\n"
     ]
    },
    {
     "name": "stderr",
     "output_type": "stream",
     "text": [
      "\n",
      " 11%|█████▍                                            | 22/201 [02:46<22:05,  7.40s/it]\u001b[A\n",
      " 11%|█████▋                                            | 23/201 [02:53<20:59,  7.08s/it]\u001b[A\n",
      " 12%|█████▉                                            | 24/201 [02:58<19:38,  6.66s/it]\u001b[A\n",
      " 12%|██████▏                                           | 25/201 [03:04<18:18,  6.24s/it]\u001b[A\n",
      " 13%|██████▍                                           | 26/201 [03:09<17:31,  6.01s/it]\u001b[A"
     ]
    },
    {
     "name": "stdout",
     "output_type": "stream",
     "text": [
      "Evaluation 25 (Epsilon=None):\n",
      "\tTraining Gravity: 0.0025\n",
      " \tTraining Stability: 0.0\n",
      " \tAAR: -9.996\n",
      " \tSES: 0\n",
      " \tMean Reward: -1000.0\n",
      " \tStd Reward: 0.0\n",
      "\n"
     ]
    },
    {
     "name": "stderr",
     "output_type": "stream",
     "text": [
      "\n",
      " 13%|██████▋                                           | 27/201 [03:15<16:59,  5.86s/it]\u001b[A\n",
      " 14%|██████▉                                           | 28/201 [03:20<16:45,  5.81s/it]\u001b[A\n",
      " 14%|███████▏                                          | 29/201 [03:26<16:49,  5.87s/it]\u001b[A\n",
      " 15%|███████▍                                          | 30/201 [03:32<16:45,  5.88s/it]\u001b[A\n",
      " 15%|███████▋                                          | 31/201 [03:38<16:54,  5.97s/it]\u001b[A"
     ]
    },
    {
     "name": "stdout",
     "output_type": "stream",
     "text": [
      "Evaluation 30 (Epsilon=None):\n",
      "\tTraining Gravity: 0.0025\n",
      " \tTraining Stability: 0.0\n",
      " \tAAR: -10.0\n",
      " \tSES: 0\n",
      " \tMean Reward: -1000.0\n",
      " \tStd Reward: 0.0\n",
      "\n"
     ]
    },
    {
     "name": "stderr",
     "output_type": "stream",
     "text": [
      "\n",
      " 16%|███████▉                                          | 32/201 [03:45<17:19,  6.15s/it]\u001b[A\n",
      " 16%|████████▏                                         | 33/201 [03:51<17:26,  6.23s/it]\u001b[A\n",
      " 17%|████████▍                                         | 34/201 [03:58<17:39,  6.34s/it]\u001b[A\n",
      " 17%|████████▋                                         | 35/201 [04:05<17:38,  6.38s/it]\u001b[A\n",
      " 18%|████████▉                                         | 36/201 [04:11<17:35,  6.39s/it]\u001b[A"
     ]
    },
    {
     "name": "stdout",
     "output_type": "stream",
     "text": [
      "Evaluation 35 (Epsilon=None):\n",
      "\tTraining Gravity: 0.0025\n",
      " \tTraining Stability: 0.0\n",
      " \tAAR: -10.02\n",
      " \tSES: 0\n",
      " \tMean Reward: -1000.0\n",
      " \tStd Reward: 0.0\n",
      "\n"
     ]
    },
    {
     "name": "stderr",
     "output_type": "stream",
     "text": [
      "\n",
      " 18%|█████████▏                                        | 37/201 [04:17<17:32,  6.42s/it]\u001b[A\n",
      " 19%|█████████▍                                        | 38/201 [04:24<17:38,  6.49s/it]\u001b[A\n",
      " 19%|█████████▋                                        | 39/201 [04:30<17:18,  6.41s/it]\u001b[A\n",
      " 20%|█████████▉                                        | 40/201 [04:36<16:53,  6.30s/it]\u001b[A\n",
      " 20%|██████████▏                                       | 41/201 [04:42<16:30,  6.19s/it]\u001b[A"
     ]
    },
    {
     "name": "stdout",
     "output_type": "stream",
     "text": [
      "Evaluation 40 (Epsilon=None):\n",
      "\tTraining Gravity: 0.0025\n",
      " \tTraining Stability: 0.0\n",
      " \tAAR: -10.009\n",
      " \tSES: 0\n",
      " \tMean Reward: -1000.0\n",
      " \tStd Reward: 0.0\n",
      "\n"
     ]
    },
    {
     "name": "stderr",
     "output_type": "stream",
     "text": [
      "\n",
      " 21%|██████████▍                                       | 42/201 [04:48<15:56,  6.02s/it]\u001b[A\n",
      " 21%|██████████▋                                       | 43/201 [04:53<15:10,  5.76s/it]\u001b[A\n",
      " 22%|██████████▉                                       | 44/201 [04:58<14:39,  5.60s/it]\u001b[A\n",
      " 22%|███████████▏                                      | 45/201 [05:04<14:26,  5.55s/it]\u001b[A\n",
      " 23%|███████████▍                                      | 46/201 [05:09<14:11,  5.49s/it]\u001b[A"
     ]
    },
    {
     "name": "stdout",
     "output_type": "stream",
     "text": [
      "Evaluation 45 (Epsilon=None):\n",
      "\tTraining Gravity: 0.0025\n",
      " \tTraining Stability: 0.0\n",
      " \tAAR: -9.999\n",
      " \tSES: 0\n",
      " \tMean Reward: -1000.0\n",
      " \tStd Reward: 0.0\n",
      "\n"
     ]
    },
    {
     "name": "stderr",
     "output_type": "stream",
     "text": [
      "\n",
      " 23%|███████████▋                                      | 47/201 [05:15<14:09,  5.51s/it]\u001b[A\n",
      " 24%|███████████▉                                      | 48/201 [05:20<14:10,  5.56s/it]\u001b[A\n",
      " 24%|████████████▏                                     | 49/201 [05:26<14:30,  5.73s/it]\u001b[A\n",
      " 25%|████████████▍                                     | 50/201 [05:32<14:36,  5.80s/it]\u001b[A\n",
      " 25%|████████████▋                                     | 51/201 [05:38<14:36,  5.84s/it]\u001b[A"
     ]
    },
    {
     "name": "stdout",
     "output_type": "stream",
     "text": [
      "Evaluation 50 (Epsilon=None):\n",
      "\tTraining Gravity: 0.0025\n",
      " \tTraining Stability: 0.0\n",
      " \tAAR: -10.008\n",
      " \tSES: 0\n",
      " \tMean Reward: -1000.0\n",
      " \tStd Reward: 0.0\n",
      "\n"
     ]
    },
    {
     "name": "stderr",
     "output_type": "stream",
     "text": [
      "\n",
      " 26%|████████████▉                                     | 52/201 [05:44<14:36,  5.88s/it]\u001b[A\n",
      " 26%|█████████████▏                                    | 53/201 [05:50<14:31,  5.89s/it]\u001b[A\n",
      " 27%|█████████████▍                                    | 54/201 [05:56<14:36,  5.96s/it]\u001b[A\n",
      " 27%|█████████████▋                                    | 55/201 [06:02<14:35,  6.00s/it]\u001b[A\n",
      " 28%|█████████████▉                                    | 56/201 [06:09<14:33,  6.02s/it]\u001b[A"
     ]
    },
    {
     "name": "stdout",
     "output_type": "stream",
     "text": [
      "Evaluation 55 (Epsilon=None):\n",
      "\tTraining Gravity: 0.0025\n",
      " \tTraining Stability: 0.0\n",
      " \tAAR: -10.002\n",
      " \tSES: 0\n",
      " \tMean Reward: -1000.0\n",
      " \tStd Reward: 0.0\n",
      "\n"
     ]
    },
    {
     "name": "stderr",
     "output_type": "stream",
     "text": [
      "\n",
      " 28%|██████████████▏                                   | 57/201 [06:15<14:53,  6.21s/it]\u001b[A\n",
      " 29%|██████████████▍                                   | 58/201 [06:22<15:04,  6.33s/it]\u001b[A\n",
      " 29%|██████████████▋                                   | 59/201 [06:28<15:04,  6.37s/it]\u001b[A\n",
      " 30%|██████████████▉                                   | 60/201 [06:35<15:04,  6.41s/it]\u001b[A\n",
      " 30%|███████████████▏                                  | 61/201 [06:41<15:07,  6.48s/it]\u001b[A"
     ]
    },
    {
     "name": "stdout",
     "output_type": "stream",
     "text": [
      "Evaluation 60 (Epsilon=None):\n",
      "\tTraining Gravity: 0.0025\n",
      " \tTraining Stability: 0.0\n",
      " \tAAR: -9.993\n",
      " \tSES: 0\n",
      " \tMean Reward: -1000.0\n",
      " \tStd Reward: 0.0\n",
      "\n"
     ]
    },
    {
     "name": "stderr",
     "output_type": "stream",
     "text": [
      "\n",
      " 31%|███████████████▍                                  | 62/201 [06:48<15:09,  6.54s/it]\u001b[A\n",
      " 31%|███████████████▋                                  | 63/201 [06:55<15:01,  6.53s/it]\u001b[A\n",
      " 32%|███████████████▉                                  | 64/201 [07:01<14:43,  6.45s/it]\u001b[A\n",
      " 32%|████████████████▏                                 | 65/201 [07:07<14:23,  6.35s/it]\u001b[A\n",
      " 33%|████████████████▍                                 | 66/201 [07:13<14:16,  6.34s/it]\u001b[A"
     ]
    },
    {
     "name": "stdout",
     "output_type": "stream",
     "text": [
      "Evaluation 65 (Epsilon=None):\n",
      "\tTraining Gravity: 0.0025\n",
      " \tTraining Stability: 0.0\n",
      " \tAAR: -10.011\n",
      " \tSES: 0\n",
      " \tMean Reward: -1000.0\n",
      " \tStd Reward: 0.0\n",
      "\n"
     ]
    },
    {
     "name": "stderr",
     "output_type": "stream",
     "text": [
      "\n",
      " 33%|████████████████▋                                 | 67/201 [07:19<14:05,  6.31s/it]\u001b[A\n",
      " 34%|████████████████▉                                 | 68/201 [07:25<13:37,  6.14s/it]\u001b[A\n",
      " 34%|█████████████████▏                                | 69/201 [07:31<13:13,  6.01s/it]\u001b[A\n",
      " 35%|█████████████████▍                                | 70/201 [07:37<13:02,  5.97s/it]\u001b[A\n",
      " 35%|█████████████████▋                                | 71/201 [07:42<12:43,  5.87s/it]\u001b[A"
     ]
    },
    {
     "name": "stdout",
     "output_type": "stream",
     "text": [
      "Evaluation 70 (Epsilon=None):\n",
      "\tTraining Gravity: 0.0025\n",
      " \tTraining Stability: 0.0\n",
      " \tAAR: -9.999\n",
      " \tSES: 0\n",
      " \tMean Reward: -1000.0\n",
      " \tStd Reward: 0.0\n",
      "\n"
     ]
    },
    {
     "name": "stderr",
     "output_type": "stream",
     "text": [
      "\n",
      " 36%|█████████████████▉                                | 72/201 [07:48<12:13,  5.69s/it]\u001b[A\n",
      " 36%|██████████████████▏                               | 73/201 [07:53<11:51,  5.56s/it]\u001b[A\n",
      " 37%|██████████████████▍                               | 74/201 [07:58<11:33,  5.46s/it]\u001b[A\n",
      " 37%|██████████████████▋                               | 75/201 [08:04<11:35,  5.52s/it]\u001b[A\n",
      " 38%|██████████████████▉                               | 76/201 [08:10<11:47,  5.66s/it]\u001b[A"
     ]
    },
    {
     "name": "stdout",
     "output_type": "stream",
     "text": [
      "Evaluation 75 (Epsilon=None):\n",
      "\tTraining Gravity: 0.0025\n",
      " \tTraining Stability: 0.0\n",
      " \tAAR: -10.017\n",
      " \tSES: 0\n",
      " \tMean Reward: -1000.0\n",
      " \tStd Reward: 0.0\n",
      "\n"
     ]
    },
    {
     "name": "stderr",
     "output_type": "stream",
     "text": [
      "\n",
      " 38%|███████████████████▏                              | 77/201 [08:16<12:06,  5.86s/it]\u001b[A\n",
      " 39%|███████████████████▍                              | 78/201 [08:23<12:22,  6.04s/it]\u001b[A\n",
      " 39%|███████████████████▋                              | 79/201 [08:29<12:25,  6.11s/it]\u001b[A\n",
      " 40%|███████████████████▉                              | 80/201 [08:35<12:30,  6.20s/it]\u001b[A\n",
      " 40%|████████████████████▏                             | 81/201 [08:42<12:33,  6.28s/it]\u001b[A"
     ]
    },
    {
     "name": "stdout",
     "output_type": "stream",
     "text": [
      "Evaluation 80 (Epsilon=None):\n",
      "\tTraining Gravity: 0.0025\n",
      " \tTraining Stability: 0.0\n",
      " \tAAR: -10.015\n",
      " \tSES: 0\n",
      " \tMean Reward: -1000.0\n",
      " \tStd Reward: 0.0\n",
      "\n"
     ]
    },
    {
     "name": "stderr",
     "output_type": "stream",
     "text": [
      "\n",
      " 41%|████████████████████▍                             | 82/201 [08:48<12:19,  6.21s/it]\u001b[A\n",
      " 41%|████████████████████▋                             | 83/201 [08:54<11:59,  6.10s/it]\u001b[A\n",
      " 42%|████████████████████▉                             | 84/201 [08:59<11:34,  5.93s/it]\u001b[A\n",
      " 42%|█████████████████████▏                            | 85/201 [09:05<11:14,  5.82s/it]\u001b[A\n",
      " 43%|█████████████████████▍                            | 86/201 [09:10<10:57,  5.72s/it]\u001b[A"
     ]
    },
    {
     "name": "stdout",
     "output_type": "stream",
     "text": [
      "Evaluation 85 (Epsilon=None):\n",
      "\tTraining Gravity: 0.0025\n",
      " \tTraining Stability: 0.0\n",
      " \tAAR: -9.991\n",
      " \tSES: 0\n",
      " \tMean Reward: -1000.0\n",
      " \tStd Reward: 0.0\n",
      "\n"
     ]
    },
    {
     "name": "stderr",
     "output_type": "stream",
     "text": [
      "\n",
      " 43%|█████████████████████▋                            | 87/201 [09:16<10:36,  5.59s/it]\u001b[A\n",
      " 44%|█████████████████████▉                            | 88/201 [09:21<10:18,  5.48s/it]\u001b[A\n",
      " 44%|██████████████████████▏                           | 89/201 [09:26<10:05,  5.41s/it]\u001b[A\n",
      " 45%|██████████████████████▍                           | 90/201 [09:31<09:53,  5.35s/it]\u001b[A\n",
      " 45%|██████████████████████▋                           | 91/201 [09:37<09:47,  5.34s/it]\u001b[A"
     ]
    },
    {
     "name": "stdout",
     "output_type": "stream",
     "text": [
      "Evaluation 90 (Epsilon=None):\n",
      "\tTraining Gravity: 0.0025\n",
      " \tTraining Stability: 0.0\n",
      " \tAAR: -9.993\n",
      " \tSES: 0\n",
      " \tMean Reward: -1000.0\n",
      " \tStd Reward: 0.0\n",
      "\n"
     ]
    },
    {
     "name": "stderr",
     "output_type": "stream",
     "text": [
      "\n",
      " 46%|██████████████████████▉                           | 92/201 [09:42<09:36,  5.29s/it]\u001b[A\n",
      " 46%|███████████████████████▏                          | 93/201 [09:47<09:41,  5.38s/it]\u001b[A\n",
      " 47%|███████████████████████▍                          | 94/201 [09:53<09:42,  5.44s/it]\u001b[A\n",
      " 47%|███████████████████████▋                          | 95/201 [09:58<09:36,  5.44s/it]\u001b[A\n",
      " 48%|███████████████████████▉                          | 96/201 [10:04<09:28,  5.41s/it]\u001b[A"
     ]
    },
    {
     "name": "stdout",
     "output_type": "stream",
     "text": [
      "Evaluation 95 (Epsilon=None):\n",
      "\tTraining Gravity: 0.0025\n",
      " \tTraining Stability: 0.0\n",
      " \tAAR: -10.005\n",
      " \tSES: 0\n",
      " \tMean Reward: -1000.0\n",
      " \tStd Reward: 0.0\n",
      "\n"
     ]
    },
    {
     "name": "stderr",
     "output_type": "stream",
     "text": [
      "\n",
      " 48%|████████████████████████▏                         | 97/201 [10:09<09:15,  5.35s/it]\u001b[A\n",
      " 49%|████████████████████████▍                         | 98/201 [10:14<09:11,  5.35s/it]\u001b[A\n",
      " 49%|████████████████████████▋                         | 99/201 [10:20<09:21,  5.51s/it]\u001b[A\n",
      " 50%|████████████████████████▍                        | 100/201 [10:26<09:28,  5.63s/it]\u001b[A\n",
      " 50%|████████████████████████▌                        | 101/201 [10:32<09:34,  5.74s/it]\u001b[A"
     ]
    },
    {
     "name": "stdout",
     "output_type": "stream",
     "text": [
      "Evaluation 100 (Epsilon=None):\n",
      "\tTraining Gravity: 0.0025\n",
      " \tTraining Stability: 0.0\n",
      " \tAAR: -10.009\n",
      " \tSES: 0\n",
      " \tMean Reward: -1000.0\n",
      " \tStd Reward: 0.0\n",
      "\n"
     ]
    },
    {
     "name": "stderr",
     "output_type": "stream",
     "text": [
      "\n",
      " 51%|████████████████████████▊                        | 102/201 [10:38<09:46,  5.92s/it]\u001b[A\n",
      " 51%|█████████████████████████                        | 103/201 [10:45<10:10,  6.22s/it]\u001b[A\n",
      " 52%|█████████████████████████▎                       | 104/201 [10:52<10:23,  6.43s/it]\u001b[A\n",
      " 52%|█████████████████████████▌                       | 105/201 [10:59<10:22,  6.48s/it]\u001b[A\n",
      " 53%|█████████████████████████▊                       | 106/201 [11:05<09:59,  6.31s/it]\u001b[A"
     ]
    },
    {
     "name": "stdout",
     "output_type": "stream",
     "text": [
      "Evaluation 105 (Epsilon=None):\n",
      "\tTraining Gravity: 0.0025\n",
      " \tTraining Stability: 0.0\n",
      " \tAAR: -10.011\n",
      " \tSES: 0\n",
      " \tMean Reward: -1000.0\n",
      " \tStd Reward: 0.0\n",
      "\n"
     ]
    },
    {
     "name": "stderr",
     "output_type": "stream",
     "text": [
      "\n",
      " 53%|██████████████████████████                       | 107/201 [11:11<09:44,  6.22s/it]\u001b[A\n",
      " 54%|██████████████████████████▎                      | 108/201 [11:17<09:31,  6.15s/it]\u001b[A\n",
      " 54%|██████████████████████████▌                      | 109/201 [11:23<09:21,  6.10s/it]\u001b[A\n",
      " 55%|██████████████████████████▊                      | 110/201 [11:29<09:15,  6.10s/it]\u001b[A\n",
      " 55%|███████████████████████████                      | 111/201 [11:35<09:02,  6.02s/it]\u001b[A"
     ]
    },
    {
     "name": "stdout",
     "output_type": "stream",
     "text": [
      "Evaluation 110 (Epsilon=None):\n",
      "\tTraining Gravity: 0.0025\n",
      " \tTraining Stability: 0.0\n",
      " \tAAR: -10.005\n",
      " \tSES: 0\n",
      " \tMean Reward: -1000.0\n",
      " \tStd Reward: 0.0\n",
      "\n"
     ]
    },
    {
     "name": "stderr",
     "output_type": "stream",
     "text": [
      "\n",
      " 56%|███████████████████████████▎                     | 112/201 [11:40<08:44,  5.89s/it]\u001b[A\n",
      " 56%|███████████████████████████▌                     | 113/201 [11:46<08:27,  5.77s/it]\u001b[A\n",
      " 57%|███████████████████████████▊                     | 114/201 [11:51<08:10,  5.64s/it]\u001b[A\n",
      " 57%|████████████████████████████                     | 115/201 [11:56<07:58,  5.56s/it]\u001b[A\n",
      " 58%|████████████████████████████▎                    | 116/201 [12:02<07:46,  5.49s/it]\u001b[A"
     ]
    },
    {
     "name": "stdout",
     "output_type": "stream",
     "text": [
      "Evaluation 115 (Epsilon=None):\n",
      "\tTraining Gravity: 0.0025\n",
      " \tTraining Stability: 0.0\n",
      " \tAAR: -9.999\n",
      " \tSES: 0\n",
      " \tMean Reward: -1000.0\n",
      " \tStd Reward: 0.0\n",
      "\n"
     ]
    },
    {
     "name": "stderr",
     "output_type": "stream",
     "text": [
      "\n",
      " 58%|████████████████████████████▌                    | 117/201 [12:07<07:38,  5.46s/it]\u001b[A\n",
      " 59%|████████████████████████████▊                    | 118/201 [12:13<07:41,  5.56s/it]\u001b[A\n",
      " 59%|█████████████████████████████                    | 119/201 [12:19<07:47,  5.70s/it]\u001b[A\n",
      " 60%|█████████████████████████████▎                   | 120/201 [12:25<07:48,  5.78s/it]\u001b[A\n",
      " 60%|█████████████████████████████▍                   | 121/201 [12:31<07:56,  5.95s/it]\u001b[A"
     ]
    },
    {
     "name": "stdout",
     "output_type": "stream",
     "text": [
      "Evaluation 120 (Epsilon=None):\n",
      "\tTraining Gravity: 0.0025\n",
      " \tTraining Stability: 0.0\n",
      " \tAAR: -9.998\n",
      " \tSES: 0\n",
      " \tMean Reward: -1000.0\n",
      " \tStd Reward: 0.0\n",
      "\n"
     ]
    },
    {
     "name": "stderr",
     "output_type": "stream",
     "text": [
      "\n",
      " 61%|█████████████████████████████▋                   | 122/201 [12:38<07:59,  6.07s/it]\u001b[A\n",
      " 61%|█████████████████████████████▉                   | 123/201 [12:44<08:01,  6.17s/it]\u001b[A\n",
      " 62%|██████████████████████████████▏                  | 124/201 [12:51<08:01,  6.26s/it]\u001b[A\n",
      " 62%|██████████████████████████████▍                  | 125/201 [12:57<08:00,  6.32s/it]\u001b[A\n",
      " 63%|██████████████████████████████▋                  | 126/201 [13:03<07:48,  6.25s/it]\u001b[A"
     ]
    },
    {
     "name": "stdout",
     "output_type": "stream",
     "text": [
      "Evaluation 125 (Epsilon=None):\n",
      "\tTraining Gravity: 0.0025\n",
      " \tTraining Stability: 0.0\n",
      " \tAAR: -9.988\n",
      " \tSES: 0\n",
      " \tMean Reward: -1000.0\n",
      " \tStd Reward: 0.0\n",
      "\n"
     ]
    },
    {
     "name": "stderr",
     "output_type": "stream",
     "text": [
      "\n",
      " 63%|██████████████████████████████▉                  | 127/201 [13:09<07:36,  6.17s/it]\u001b[A\n",
      " 64%|███████████████████████████████▏                 | 128/201 [13:15<07:27,  6.13s/it]\u001b[A\n",
      " 64%|███████████████████████████████▍                 | 129/201 [13:21<07:18,  6.09s/it]\u001b[A\n",
      " 65%|███████████████████████████████▋                 | 130/201 [13:28<07:20,  6.20s/it]\u001b[A\n",
      " 65%|███████████████████████████████▉                 | 131/201 [13:33<07:08,  6.12s/it]\u001b[A"
     ]
    },
    {
     "name": "stdout",
     "output_type": "stream",
     "text": [
      "Evaluation 130 (Epsilon=None):\n",
      "\tTraining Gravity: 0.0025\n",
      " \tTraining Stability: 0.0\n",
      " \tAAR: -10.01\n",
      " \tSES: 0\n",
      " \tMean Reward: -1000.0\n",
      " \tStd Reward: 0.0\n",
      "\n"
     ]
    },
    {
     "name": "stderr",
     "output_type": "stream",
     "text": [
      "\n",
      " 66%|████████████████████████████████▏                | 132/201 [13:39<06:52,  5.98s/it]\u001b[A\n",
      " 66%|████████████████████████████████▍                | 133/201 [13:45<06:39,  5.88s/it]\u001b[A\n",
      " 67%|████████████████████████████████▋                | 134/201 [13:50<06:28,  5.81s/it]\u001b[A\n",
      " 67%|████████████████████████████████▉                | 135/201 [13:56<06:19,  5.75s/it]\u001b[A\n",
      " 68%|█████████████████████████████████▏               | 136/201 [14:02<06:12,  5.74s/it]\u001b[A"
     ]
    },
    {
     "name": "stdout",
     "output_type": "stream",
     "text": [
      "Evaluation 135 (Epsilon=None):\n",
      "\tTraining Gravity: 0.0025\n",
      " \tTraining Stability: 0.0\n",
      " \tAAR: -9.998\n",
      " \tSES: 0\n",
      " \tMean Reward: -1000.0\n",
      " \tStd Reward: 0.0\n",
      "\n"
     ]
    },
    {
     "name": "stderr",
     "output_type": "stream",
     "text": [
      "\n",
      " 68%|█████████████████████████████████▍               | 137/201 [14:07<06:06,  5.73s/it]\u001b[A\n",
      " 69%|█████████████████████████████████▋               | 138/201 [14:13<05:59,  5.70s/it]\u001b[A\n",
      " 69%|█████████████████████████████████▉               | 139/201 [14:19<05:50,  5.66s/it]\u001b[A\n",
      " 70%|██████████████████████████████████▏              | 140/201 [14:24<05:42,  5.61s/it]\u001b[A\n",
      " 70%|██████████████████████████████████▎              | 141/201 [14:30<05:34,  5.57s/it]\u001b[A"
     ]
    },
    {
     "name": "stdout",
     "output_type": "stream",
     "text": [
      "Evaluation 140 (Epsilon=None):\n",
      "\tTraining Gravity: 0.0025\n",
      " \tTraining Stability: 0.0\n",
      " \tAAR: -10.015\n",
      " \tSES: 0\n",
      " \tMean Reward: -1000.0\n",
      " \tStd Reward: 0.0\n",
      "\n"
     ]
    },
    {
     "name": "stderr",
     "output_type": "stream",
     "text": [
      "\n",
      " 71%|██████████████████████████████████▌              | 142/201 [14:35<05:23,  5.48s/it]\u001b[A\n",
      " 71%|██████████████████████████████████▊              | 143/201 [14:40<05:16,  5.45s/it]\u001b[A\n",
      " 72%|███████████████████████████████████              | 144/201 [14:46<05:14,  5.52s/it]\u001b[A\n",
      " 72%|███████████████████████████████████▎             | 145/201 [14:52<05:14,  5.61s/it]\u001b[A\n",
      " 73%|███████████████████████████████████▌             | 146/201 [14:58<05:15,  5.73s/it]\u001b[A"
     ]
    },
    {
     "name": "stdout",
     "output_type": "stream",
     "text": [
      "Evaluation 145 (Epsilon=None):\n",
      "\tTraining Gravity: 0.0025\n",
      " \tTraining Stability: 0.0\n",
      " \tAAR: -10.006\n",
      " \tSES: 0\n",
      " \tMean Reward: -1000.0\n",
      " \tStd Reward: 0.0\n",
      "\n"
     ]
    },
    {
     "name": "stderr",
     "output_type": "stream",
     "text": [
      "\n",
      " 73%|███████████████████████████████████▊             | 147/201 [15:04<05:14,  5.82s/it]\u001b[A\n",
      " 74%|████████████████████████████████████             | 148/201 [15:10<05:11,  5.88s/it]\u001b[A\n",
      " 74%|████████████████████████████████████▎            | 149/201 [15:16<05:09,  5.94s/it]\u001b[A\n",
      " 75%|████████████████████████████████████▌            | 150/201 [15:22<05:05,  5.99s/it]\u001b[A\n",
      " 75%|████████████████████████████████████▊            | 151/201 [15:28<04:59,  5.98s/it]\u001b[A"
     ]
    },
    {
     "name": "stdout",
     "output_type": "stream",
     "text": [
      "Evaluation 150 (Epsilon=None):\n",
      "\tTraining Gravity: 0.0025\n",
      " \tTraining Stability: 0.0\n",
      " \tAAR: -10.01\n",
      " \tSES: 0\n",
      " \tMean Reward: -1000.0\n",
      " \tStd Reward: 0.0\n",
      "\n"
     ]
    },
    {
     "name": "stderr",
     "output_type": "stream",
     "text": [
      "\n",
      " 76%|█████████████████████████████████████            | 152/201 [15:34<04:53,  5.98s/it]\u001b[A\n",
      " 76%|█████████████████████████████████████▎           | 153/201 [15:40<04:48,  6.01s/it]\u001b[A\n",
      " 77%|█████████████████████████████████████▌           | 154/201 [15:46<04:48,  6.13s/it]\u001b[A\n",
      " 77%|█████████████████████████████████████▊           | 155/201 [15:53<04:44,  6.19s/it]\u001b[A\n",
      " 78%|██████████████████████████████████████           | 156/201 [15:58<04:30,  6.01s/it]\u001b[A"
     ]
    },
    {
     "name": "stdout",
     "output_type": "stream",
     "text": [
      "Evaluation 155 (Epsilon=None):\n",
      "\tTraining Gravity: 0.0025\n",
      " \tTraining Stability: 0.0\n",
      " \tAAR: -10.014\n",
      " \tSES: 0\n",
      " \tMean Reward: -1000.0\n",
      " \tStd Reward: 0.0\n",
      "\n"
     ]
    },
    {
     "name": "stderr",
     "output_type": "stream",
     "text": [
      "\n",
      " 78%|██████████████████████████████████████▎          | 157/201 [16:04<04:13,  5.77s/it]\u001b[A\n",
      " 79%|██████████████████████████████████████▌          | 158/201 [16:09<03:57,  5.52s/it]\u001b[A\n",
      " 79%|██████████████████████████████████████▊          | 159/201 [16:13<03:44,  5.35s/it]\u001b[A\n",
      " 80%|███████████████████████████████████████          | 160/201 [16:19<03:38,  5.33s/it]\u001b[A\n",
      " 80%|███████████████████████████████████████▏         | 161/201 [16:24<03:34,  5.37s/it]\u001b[A"
     ]
    },
    {
     "name": "stdout",
     "output_type": "stream",
     "text": [
      "Evaluation 160 (Epsilon=None):\n",
      "\tTraining Gravity: 0.0025\n",
      " \tTraining Stability: 0.0\n",
      " \tAAR: -10.012\n",
      " \tSES: 0\n",
      " \tMean Reward: -1000.0\n",
      " \tStd Reward: 0.0\n",
      "\n"
     ]
    },
    {
     "name": "stderr",
     "output_type": "stream",
     "text": [
      "\n",
      " 81%|███████████████████████████████████████▍         | 162/201 [16:30<03:32,  5.46s/it]\u001b[A\n",
      " 81%|███████████████████████████████████████▋         | 163/201 [16:36<03:31,  5.56s/it]\u001b[A\n",
      " 82%|███████████████████████████████████████▉         | 164/201 [16:41<03:22,  5.46s/it]\u001b[A\n",
      " 82%|████████████████████████████████████████▏        | 165/201 [16:46<03:10,  5.30s/it]\u001b[A\n",
      " 83%|████████████████████████████████████████▍        | 166/201 [16:51<03:01,  5.19s/it]\u001b[A"
     ]
    },
    {
     "name": "stdout",
     "output_type": "stream",
     "text": [
      "Evaluation 165 (Epsilon=None):\n",
      "\tTraining Gravity: 0.0025\n",
      " \tTraining Stability: 0.0\n",
      " \tAAR: -10.023\n",
      " \tSES: 0\n",
      " \tMean Reward: -1000.0\n",
      " \tStd Reward: 0.0\n",
      "\n"
     ]
    },
    {
     "name": "stderr",
     "output_type": "stream",
     "text": [
      "\n",
      " 83%|████████████████████████████████████████▋        | 167/201 [16:56<02:55,  5.16s/it]\u001b[A\n",
      " 84%|████████████████████████████████████████▉        | 168/201 [17:01<02:47,  5.06s/it]\u001b[A\n",
      " 84%|█████████████████████████████████████████▏       | 169/201 [17:05<02:34,  4.83s/it]\u001b[A\n",
      " 85%|█████████████████████████████████████████▍       | 170/201 [17:09<02:23,  4.64s/it]\u001b[A\n",
      " 85%|█████████████████████████████████████████▋       | 171/201 [17:13<02:14,  4.47s/it]\u001b[A"
     ]
    },
    {
     "name": "stdout",
     "output_type": "stream",
     "text": [
      "Evaluation 170 (Epsilon=None):\n",
      "\tTraining Gravity: 0.0025\n",
      " \tTraining Stability: 0.0\n",
      " \tAAR: -10.008\n",
      " \tSES: 0\n",
      " \tMean Reward: -1000.0\n",
      " \tStd Reward: 0.0\n",
      "\n"
     ]
    },
    {
     "name": "stderr",
     "output_type": "stream",
     "text": [
      "\n",
      " 86%|█████████████████████████████████████████▉       | 172/201 [17:17<02:03,  4.27s/it]\u001b[A\n",
      " 86%|██████████████████████████████████████████▏      | 173/201 [17:21<01:55,  4.14s/it]\u001b[A\n",
      " 87%|██████████████████████████████████████████▍      | 174/201 [17:25<01:49,  4.05s/it]\u001b[A\n",
      " 87%|██████████████████████████████████████████▋      | 175/201 [17:29<01:43,  3.99s/it]\u001b[A\n",
      " 88%|██████████████████████████████████████████▉      | 176/201 [17:32<01:38,  3.94s/it]\u001b[A"
     ]
    },
    {
     "name": "stdout",
     "output_type": "stream",
     "text": [
      "Evaluation 175 (Epsilon=None):\n",
      "\tTraining Gravity: 0.0025\n",
      " \tTraining Stability: 0.0\n",
      " \tAAR: -9.993\n",
      " \tSES: 0\n",
      " \tMean Reward: -1000.0\n",
      " \tStd Reward: 0.0\n",
      "\n"
     ]
    },
    {
     "name": "stderr",
     "output_type": "stream",
     "text": [
      "\n",
      " 88%|███████████████████████████████████████████▏     | 177/201 [17:36<01:33,  3.90s/it]\u001b[A\n",
      " 89%|███████████████████████████████████████████▍     | 178/201 [17:40<01:28,  3.86s/it]\u001b[A\n",
      " 89%|███████████████████████████████████████████▋     | 179/201 [17:44<01:24,  3.85s/it]\u001b[A\n",
      " 90%|███████████████████████████████████████████▉     | 180/201 [17:48<01:20,  3.85s/it]\u001b[A\n",
      " 90%|████████████████████████████████████████████     | 181/201 [17:51<01:16,  3.84s/it]\u001b[A"
     ]
    },
    {
     "name": "stdout",
     "output_type": "stream",
     "text": [
      "Evaluation 180 (Epsilon=None):\n",
      "\tTraining Gravity: 0.0025\n",
      " \tTraining Stability: 0.0\n",
      " \tAAR: -9.999\n",
      " \tSES: 0\n",
      " \tMean Reward: -1000.0\n",
      " \tStd Reward: 0.0\n",
      "\n"
     ]
    },
    {
     "name": "stderr",
     "output_type": "stream",
     "text": [
      "\n",
      " 91%|████████████████████████████████████████████▎    | 182/201 [17:55<01:13,  3.85s/it]\u001b[A\n",
      " 91%|████████████████████████████████████████████▌    | 183/201 [17:59<01:09,  3.87s/it]\u001b[A\n",
      " 92%|████████████████████████████████████████████▊    | 184/201 [18:03<01:04,  3.81s/it]\u001b[A\n",
      " 92%|█████████████████████████████████████████████    | 185/201 [18:07<01:00,  3.75s/it]\u001b[A\n",
      " 93%|█████████████████████████████████████████████▎   | 186/201 [18:10<00:55,  3.72s/it]\u001b[A"
     ]
    },
    {
     "name": "stdout",
     "output_type": "stream",
     "text": [
      "Evaluation 185 (Epsilon=None):\n",
      "\tTraining Gravity: 0.0025\n",
      " \tTraining Stability: 0.0\n",
      " \tAAR: -10.015\n",
      " \tSES: 0\n",
      " \tMean Reward: -1000.0\n",
      " \tStd Reward: 0.0\n",
      "\n"
     ]
    },
    {
     "name": "stderr",
     "output_type": "stream",
     "text": [
      "\n",
      " 93%|█████████████████████████████████████████████▌   | 187/201 [18:14<00:51,  3.70s/it]\u001b[A\n",
      " 94%|█████████████████████████████████████████████▊   | 188/201 [18:17<00:47,  3.67s/it]\u001b[A\n",
      " 94%|██████████████████████████████████████████████   | 189/201 [18:21<00:43,  3.65s/it]\u001b[A\n",
      " 95%|██████████████████████████████████████████████▎  | 190/201 [18:25<00:40,  3.64s/it]\u001b[A\n",
      " 95%|██████████████████████████████████████████████▌  | 191/201 [18:28<00:36,  3.63s/it]\u001b[A"
     ]
    },
    {
     "name": "stdout",
     "output_type": "stream",
     "text": [
      "Evaluation 190 (Epsilon=None):\n",
      "\tTraining Gravity: 0.0025\n",
      " \tTraining Stability: 0.0\n",
      " \tAAR: -9.982\n",
      " \tSES: 0\n",
      " \tMean Reward: -1000.0\n",
      " \tStd Reward: 0.0\n",
      "\n"
     ]
    },
    {
     "name": "stderr",
     "output_type": "stream",
     "text": [
      "\n",
      " 96%|██████████████████████████████████████████████▊  | 192/201 [18:32<00:32,  3.62s/it]\u001b[A\n",
      " 96%|███████████████████████████████████████████████  | 193/201 [18:36<00:29,  3.65s/it]\u001b[A\n",
      " 97%|███████████████████████████████████████████████▎ | 194/201 [18:40<00:26,  3.79s/it]\u001b[A\n",
      " 97%|███████████████████████████████████████████████▌ | 195/201 [18:44<00:22,  3.81s/it]\u001b[A\n",
      " 98%|███████████████████████████████████████████████▊ | 196/201 [18:47<00:19,  3.82s/it]\u001b[A"
     ]
    },
    {
     "name": "stdout",
     "output_type": "stream",
     "text": [
      "Evaluation 195 (Epsilon=None):\n",
      "\tTraining Gravity: 0.0025\n",
      " \tTraining Stability: 0.0\n",
      " \tAAR: -9.993\n",
      " \tSES: 0\n",
      " \tMean Reward: -1000.0\n",
      " \tStd Reward: 0.0\n",
      "\n"
     ]
    },
    {
     "name": "stderr",
     "output_type": "stream",
     "text": [
      "\n",
      " 98%|████████████████████████████████████████████████ | 197/201 [18:51<00:15,  3.82s/it]\u001b[A\n",
      " 99%|████████████████████████████████████████████████▎| 198/201 [18:55<00:11,  3.81s/it]\u001b[A\n",
      " 99%|████████████████████████████████████████████████▌| 199/201 [18:59<00:07,  3.82s/it]\u001b[A\n",
      "100%|████████████████████████████████████████████████▊| 200/201 [19:03<00:03,  3.85s/it]\u001b[A\n",
      "100%|█████████████████████████████████████████████████| 201/201 [19:07<00:00,  5.71s/it]\u001b[A"
     ]
    },
    {
     "name": "stdout",
     "output_type": "stream",
     "text": [
      "Evaluation 200 (Epsilon=None):\n",
      "\tTraining Gravity: 0.0025\n",
      " \tTraining Stability: 0.0\n",
      " \tAAR: -10.006\n",
      " \tSES: 0\n",
      " \tMean Reward: -1000.0\n",
      " \tStd Reward: 0.0\n",
      "\n"
     ]
    },
    {
     "name": "stderr",
     "output_type": "stream",
     "text": [
      "\n",
      "  8%|████                                            | 1/12 [19:09<3:30:39, 1149.04s/it]\n",
      "  0%|                                                           | 0/201 [00:00<?, ?it/s]\u001b[A/Users/danorel/miniconda3/envs/aclarel_3.11.3/lib/python3.11/site-packages/gym/utils/passive_env_checker.py:233: DeprecationWarning: `np.bool8` is a deprecated alias for `np.bool_`.  (Deprecated NumPy 1.24)\n",
      "  if not isinstance(terminated, (bool, np.bool8)):\n",
      "\n",
      "  0%|▎                                                  | 1/201 [00:01<06:39,  2.00s/it]\u001b[A"
     ]
    },
    {
     "name": "stdout",
     "output_type": "stream",
     "text": [
      "Evaluation 0 (Epsilon=None):\n",
      "\tTraining Gravity: 0.00025\n",
      " \tTraining Stability: 0.0\n",
      " \tAAR: -98.816\n",
      " \tSES: 0\n",
      " \tMean Reward: -1000.0\n",
      " \tStd Reward: 0.0\n",
      "\n"
     ]
    },
    {
     "name": "stderr",
     "output_type": "stream",
     "text": [
      "\n",
      "  1%|▌                                                  | 2/201 [00:02<04:38,  1.40s/it]\u001b[A\n",
      "  1%|▊                                                  | 3/201 [00:04<04:11,  1.27s/it]\u001b[A\n",
      "  2%|█                                                  | 4/201 [00:06<05:33,  1.70s/it]\u001b[A\n",
      "  2%|█▎                                                 | 5/201 [00:07<04:43,  1.45s/it]\u001b[A\n",
      "  3%|█▌                                                 | 6/201 [00:08<04:30,  1.39s/it]\u001b[A"
     ]
    },
    {
     "name": "stdout",
     "output_type": "stream",
     "text": [
      "Evaluation 5 (Epsilon=None):\n",
      "\tTraining Gravity: 0.000364\n",
      " \tTraining Stability: 0.0\n",
      " \tAAR: -66.646\n",
      " \tSES: 0\n",
      " \tMean Reward: -1000.0\n",
      " \tStd Reward: 0.0\n",
      "\n"
     ]
    },
    {
     "name": "stderr",
     "output_type": "stream",
     "text": [
      "\n",
      "  3%|█▊                                                 | 7/201 [00:10<05:10,  1.60s/it]\u001b[A\n",
      "  4%|██                                                 | 8/201 [00:13<06:19,  1.96s/it]\u001b[A\n",
      "  4%|██▎                                                | 9/201 [00:17<08:06,  2.53s/it]\u001b[A\n",
      "  5%|██▍                                               | 10/201 [00:21<09:13,  2.90s/it]\u001b[A\n",
      "  5%|██▋                                               | 11/201 [00:22<07:35,  2.40s/it]\u001b[A"
     ]
    },
    {
     "name": "stdout",
     "output_type": "stream",
     "text": [
      "Evaluation 10 (Epsilon=None):\n",
      "\tTraining Gravity: 0.000477\n",
      " \tTraining Stability: 0.0\n",
      " \tAAR: -51.081\n",
      " \tSES: 0\n",
      " \tMean Reward: -1000.0\n",
      " \tStd Reward: 0.0\n",
      "\n"
     ]
    },
    {
     "name": "stderr",
     "output_type": "stream",
     "text": [
      "\n",
      "  6%|██▉                                               | 12/201 [00:24<07:20,  2.33s/it]\u001b[A\n",
      "  6%|███▏                                              | 13/201 [00:26<07:25,  2.37s/it]\u001b[A\n",
      "  7%|███▍                                              | 14/201 [00:28<06:53,  2.21s/it]\u001b[A\n",
      "  7%|███▋                                              | 15/201 [00:32<08:07,  2.62s/it]\u001b[A\n",
      "  8%|███▉                                              | 16/201 [00:35<08:50,  2.87s/it]\u001b[A"
     ]
    },
    {
     "name": "stdout",
     "output_type": "stream",
     "text": [
      "Evaluation 15 (Epsilon=None):\n",
      "\tTraining Gravity: 0.000591\n",
      " \tTraining Stability: 0.0\n",
      " \tAAR: -42.241\n",
      " \tSES: 0\n",
      " \tMean Reward: -1000.0\n",
      " \tStd Reward: 0.0\n",
      "\n"
     ]
    },
    {
     "name": "stderr",
     "output_type": "stream",
     "text": [
      "\n",
      "  8%|████▏                                             | 17/201 [00:38<08:33,  2.79s/it]\u001b[A\n",
      "  9%|████▍                                             | 18/201 [00:41<09:03,  2.97s/it]\u001b[A\n",
      "  9%|████▋                                             | 19/201 [00:45<09:18,  3.07s/it]\u001b[A\n",
      " 10%|████▉                                             | 20/201 [00:47<08:56,  2.96s/it]\u001b[A\n",
      " 10%|█████▏                                            | 21/201 [00:49<07:37,  2.54s/it]\u001b[A"
     ]
    },
    {
     "name": "stdout",
     "output_type": "stream",
     "text": [
      "Evaluation 20 (Epsilon=None):\n",
      "\tTraining Gravity: 0.000705\n",
      " \tTraining Stability: 0.0\n",
      " \tAAR: -35.06\n",
      " \tSES: 0\n",
      " \tMean Reward: -1000.0\n",
      " \tStd Reward: 0.0\n",
      "\n"
     ]
    },
    {
     "name": "stderr",
     "output_type": "stream",
     "text": [
      "\n",
      " 11%|█████▍                                            | 22/201 [00:52<07:54,  2.65s/it]\u001b[A\n",
      " 11%|█████▋                                            | 23/201 [00:55<08:27,  2.85s/it]\u001b[A\n",
      " 12%|█████▉                                            | 24/201 [00:58<08:03,  2.73s/it]\u001b[A\n",
      " 12%|██████▏                                           | 25/201 [01:01<08:39,  2.95s/it]\u001b[A\n",
      " 13%|██████▍                                           | 26/201 [01:04<09:06,  3.12s/it]\u001b[A"
     ]
    },
    {
     "name": "stdout",
     "output_type": "stream",
     "text": [
      "Evaluation 25 (Epsilon=None):\n",
      "\tTraining Gravity: 0.000818\n",
      " \tTraining Stability: 0.0\n",
      " \tAAR: -30.527\n",
      " \tSES: 0\n",
      " \tMean Reward: -1000.0\n",
      " \tStd Reward: 0.0\n",
      "\n"
     ]
    },
    {
     "name": "stderr",
     "output_type": "stream",
     "text": [
      "\n",
      " 13%|██████▋                                           | 27/201 [01:08<09:19,  3.21s/it]\u001b[A\n",
      " 14%|██████▉                                           | 28/201 [01:12<09:40,  3.36s/it]\u001b[A\n",
      " 14%|███████▏                                          | 29/201 [01:15<09:52,  3.44s/it]\u001b[A\n",
      " 15%|███████▍                                          | 30/201 [01:19<09:58,  3.50s/it]\u001b[A\n",
      " 15%|███████▋                                          | 31/201 [01:23<10:09,  3.59s/it]\u001b[A"
     ]
    },
    {
     "name": "stdout",
     "output_type": "stream",
     "text": [
      "Evaluation 30 (Epsilon=None):\n",
      "\tTraining Gravity: 0.000932\n",
      " \tTraining Stability: 0.0\n",
      " \tAAR: -26.821\n",
      " \tSES: 0\n",
      " \tMean Reward: -1000.0\n",
      " \tStd Reward: 0.0\n",
      "\n"
     ]
    },
    {
     "name": "stderr",
     "output_type": "stream",
     "text": [
      "\n",
      " 16%|███████▉                                          | 32/201 [01:26<10:05,  3.58s/it]\u001b[A\n",
      " 16%|████████▏                                         | 33/201 [01:30<10:05,  3.60s/it]\u001b[A\n",
      " 17%|████████▍                                         | 34/201 [01:34<10:02,  3.61s/it]\u001b[A\n",
      " 17%|████████▋                                         | 35/201 [01:37<09:59,  3.61s/it]\u001b[A\n",
      " 18%|████████▉                                         | 36/201 [01:41<09:56,  3.62s/it]\u001b[A"
     ]
    },
    {
     "name": "stdout",
     "output_type": "stream",
     "text": [
      "Evaluation 35 (Epsilon=None):\n",
      "\tTraining Gravity: 0.001045\n",
      " \tTraining Stability: 0.0\n",
      " \tAAR: -23.907\n",
      " \tSES: 0\n",
      " \tMean Reward: -1000.0\n",
      " \tStd Reward: 0.0\n",
      "\n"
     ]
    },
    {
     "name": "stderr",
     "output_type": "stream",
     "text": [
      "\n",
      " 18%|█████████▏                                        | 37/201 [01:44<09:52,  3.62s/it]\u001b[A\n",
      " 19%|█████████▍                                        | 38/201 [01:48<09:48,  3.61s/it]\u001b[A\n",
      " 19%|█████████▋                                        | 39/201 [01:52<09:46,  3.62s/it]\u001b[A\n",
      " 20%|█████████▉                                        | 40/201 [01:55<09:43,  3.62s/it]\u001b[A\n",
      " 20%|██████████▏                                       | 41/201 [01:59<09:38,  3.62s/it]\u001b[A"
     ]
    },
    {
     "name": "stdout",
     "output_type": "stream",
     "text": [
      "Evaluation 40 (Epsilon=None):\n",
      "\tTraining Gravity: 0.001159\n",
      " \tTraining Stability: 0.0\n",
      " \tAAR: -21.592\n",
      " \tSES: 0\n",
      " \tMean Reward: -1000.0\n",
      " \tStd Reward: 0.0\n",
      "\n"
     ]
    },
    {
     "name": "stderr",
     "output_type": "stream",
     "text": [
      "\n",
      " 21%|██████████▍                                       | 42/201 [02:03<09:36,  3.63s/it]\u001b[A\n",
      " 21%|██████████▋                                       | 43/201 [02:06<09:15,  3.51s/it]\u001b[A\n",
      " 22%|██████████▉                                       | 44/201 [02:10<09:24,  3.59s/it]\u001b[A\n",
      " 22%|███████████▏                                      | 45/201 [02:13<09:30,  3.66s/it]\u001b[A\n",
      " 23%|███████████▍                                      | 46/201 [02:17<09:35,  3.71s/it]\u001b[A"
     ]
    },
    {
     "name": "stdout",
     "output_type": "stream",
     "text": [
      "Evaluation 45 (Epsilon=None):\n",
      "\tTraining Gravity: 0.001273\n",
      " \tTraining Stability: 0.0\n",
      " \tAAR: -19.561\n",
      " \tSES: 0\n",
      " \tMean Reward: -1000.0\n",
      " \tStd Reward: 0.0\n",
      "\n"
     ]
    },
    {
     "name": "stderr",
     "output_type": "stream",
     "text": [
      "\n",
      " 23%|███████████▋                                      | 47/201 [02:21<09:37,  3.75s/it]\u001b[A\n",
      " 24%|███████████▉                                      | 48/201 [02:25<09:28,  3.71s/it]\u001b[A\n",
      " 24%|████████████▏                                     | 49/201 [02:27<08:18,  3.28s/it]\u001b[A\n",
      " 25%|████████████▍                                     | 50/201 [02:31<08:36,  3.42s/it]\u001b[A\n",
      " 25%|████████████▋                                     | 51/201 [02:35<08:52,  3.55s/it]\u001b[A"
     ]
    },
    {
     "name": "stdout",
     "output_type": "stream",
     "text": [
      "Evaluation 50 (Epsilon=None):\n",
      "\tTraining Gravity: 0.001386\n",
      " \tTraining Stability: 0.0\n",
      " \tAAR: -18.003\n",
      " \tSES: 0\n",
      " \tMean Reward: -1000.0\n",
      " \tStd Reward: 0.0\n",
      "\n"
     ]
    },
    {
     "name": "stderr",
     "output_type": "stream",
     "text": [
      "\n",
      " 26%|████████████▉                                     | 52/201 [02:38<08:52,  3.58s/it]\u001b[A\n",
      " 26%|█████████████▏                                    | 53/201 [02:42<08:52,  3.60s/it]\u001b[A\n",
      " 27%|█████████████▍                                    | 54/201 [02:45<08:51,  3.61s/it]\u001b[A\n",
      " 27%|█████████████▋                                    | 55/201 [02:49<08:49,  3.62s/it]\u001b[A\n",
      " 28%|█████████████▉                                    | 56/201 [02:52<08:26,  3.49s/it]\u001b[A"
     ]
    },
    {
     "name": "stdout",
     "output_type": "stream",
     "text": [
      "Evaluation 55 (Epsilon=None):\n",
      "\tTraining Gravity: 0.0015\n",
      " \tTraining Stability: 0.0\n",
      " \tAAR: -16.562\n",
      " \tSES: 0\n",
      " \tMean Reward: -1000.0\n",
      " \tStd Reward: 0.0\n",
      "\n"
     ]
    },
    {
     "name": "stderr",
     "output_type": "stream",
     "text": [
      "\n",
      " 28%|██████████████▏                                   | 57/201 [02:56<08:42,  3.63s/it]\u001b[A\n",
      " 29%|██████████████▍                                   | 58/201 [03:00<08:48,  3.69s/it]\u001b[A\n",
      " 29%|██████████████▋                                   | 59/201 [03:04<08:53,  3.76s/it]\u001b[A\n",
      " 30%|██████████████▉                                   | 60/201 [03:08<08:52,  3.77s/it]\u001b[A\n",
      " 30%|███████████████▏                                  | 61/201 [03:12<08:51,  3.80s/it]\u001b[A"
     ]
    },
    {
     "name": "stdout",
     "output_type": "stream",
     "text": [
      "Evaluation 60 (Epsilon=None):\n",
      "\tTraining Gravity: 0.001614\n",
      " \tTraining Stability: 0.0\n",
      " \tAAR: -15.502\n",
      " \tSES: 0\n",
      " \tMean Reward: -1000.0\n",
      " \tStd Reward: 0.0\n",
      "\n"
     ]
    },
    {
     "name": "stderr",
     "output_type": "stream",
     "text": [
      "\n",
      " 31%|███████████████▍                                  | 62/201 [03:15<08:47,  3.79s/it]\u001b[A\n",
      " 31%|███████████████▋                                  | 63/201 [03:19<08:32,  3.71s/it]\u001b[A\n",
      " 32%|███████████████▉                                  | 64/201 [03:22<08:18,  3.64s/it]\u001b[A\n",
      " 32%|████████████████▏                                 | 65/201 [03:26<08:06,  3.58s/it]\u001b[A\n",
      " 33%|████████████████▍                                 | 66/201 [03:29<07:57,  3.54s/it]\u001b[A"
     ]
    },
    {
     "name": "stdout",
     "output_type": "stream",
     "text": [
      "Evaluation 65 (Epsilon=None):\n",
      "\tTraining Gravity: 0.001727\n",
      " \tTraining Stability: 0.0\n",
      " \tAAR: -14.466\n",
      " \tSES: 0\n",
      " \tMean Reward: -1000.0\n",
      " \tStd Reward: 0.0\n",
      "\n"
     ]
    },
    {
     "name": "stderr",
     "output_type": "stream",
     "text": [
      "\n",
      " 33%|████████████████▋                                 | 67/201 [03:33<07:52,  3.52s/it]\u001b[A\n",
      " 34%|████████████████▉                                 | 68/201 [03:36<07:49,  3.53s/it]\u001b[A\n",
      " 34%|█████████████████▏                                | 69/201 [03:40<07:41,  3.50s/it]\u001b[A\n",
      " 35%|█████████████████▍                                | 70/201 [03:43<07:35,  3.47s/it]\u001b[A\n",
      " 35%|█████████████████▋                                | 71/201 [03:47<07:34,  3.50s/it]\u001b[A"
     ]
    },
    {
     "name": "stdout",
     "output_type": "stream",
     "text": [
      "Evaluation 70 (Epsilon=None):\n",
      "\tTraining Gravity: 0.001841\n",
      " \tTraining Stability: 0.0\n",
      " \tAAR: -13.594\n",
      " \tSES: 0\n",
      " \tMean Reward: -1000.0\n",
      " \tStd Reward: 0.0\n",
      "\n"
     ]
    },
    {
     "name": "stderr",
     "output_type": "stream",
     "text": [
      "\n",
      " 36%|█████████████████▉                                | 72/201 [03:50<07:39,  3.56s/it]\u001b[A\n",
      " 36%|██████████████████▏                               | 73/201 [03:54<07:46,  3.64s/it]\u001b[A\n",
      " 37%|██████████████████▍                               | 74/201 [03:58<07:49,  3.69s/it]\u001b[A\n",
      " 37%|██████████████████▋                               | 75/201 [04:02<07:59,  3.80s/it]\u001b[A\n",
      " 38%|██████████████████▉                               | 76/201 [04:06<08:07,  3.90s/it]\u001b[A"
     ]
    },
    {
     "name": "stdout",
     "output_type": "stream",
     "text": [
      "Evaluation 75 (Epsilon=None):\n",
      "\tTraining Gravity: 0.001955\n",
      " \tTraining Stability: 0.0\n",
      " \tAAR: -12.79\n",
      " \tSES: 0\n",
      " \tMean Reward: -1000.0\n",
      " \tStd Reward: 0.0\n",
      "\n"
     ]
    },
    {
     "name": "stderr",
     "output_type": "stream",
     "text": [
      "\n",
      " 38%|███████████████████▏                              | 77/201 [04:10<08:08,  3.94s/it]\u001b[A\n",
      " 39%|███████████████████▍                              | 78/201 [04:14<08:05,  3.95s/it]\u001b[A\n",
      " 39%|███████████████████▋                              | 79/201 [04:18<08:02,  3.95s/it]\u001b[A\n",
      " 40%|███████████████████▉                              | 80/201 [04:22<07:53,  3.91s/it]\u001b[A\n",
      " 40%|████████████████████▏                             | 81/201 [04:26<07:39,  3.83s/it]\u001b[A"
     ]
    },
    {
     "name": "stdout",
     "output_type": "stream",
     "text": [
      "Evaluation 80 (Epsilon=None):\n",
      "\tTraining Gravity: 0.002068\n",
      " \tTraining Stability: 0.0\n",
      " \tAAR: -12.089\n",
      " \tSES: 0\n",
      " \tMean Reward: -1000.0\n",
      " \tStd Reward: 0.0\n",
      "\n"
     ]
    },
    {
     "name": "stderr",
     "output_type": "stream",
     "text": [
      "\n",
      " 41%|████████████████████▍                             | 82/201 [04:29<07:21,  3.71s/it]\u001b[A\n",
      " 41%|████████████████████▋                             | 83/201 [04:33<07:08,  3.64s/it]\u001b[A\n",
      " 42%|████████████████████▉                             | 84/201 [04:36<06:57,  3.57s/it]\u001b[A\n",
      " 42%|█████████████████████▏                            | 85/201 [04:40<07:01,  3.63s/it]\u001b[A\n",
      " 43%|█████████████████████▍                            | 86/201 [04:43<06:50,  3.57s/it]\u001b[A"
     ]
    },
    {
     "name": "stdout",
     "output_type": "stream",
     "text": [
      "Evaluation 85 (Epsilon=None):\n",
      "\tTraining Gravity: 0.002182\n",
      " \tTraining Stability: 0.0\n",
      " \tAAR: -11.464\n",
      " \tSES: 0\n",
      " \tMean Reward: -1000.0\n",
      " \tStd Reward: 0.0\n",
      "\n"
     ]
    },
    {
     "name": "stderr",
     "output_type": "stream",
     "text": [
      "\n",
      " 43%|█████████████████████▋                            | 87/201 [04:47<06:42,  3.53s/it]\u001b[A\n",
      " 44%|█████████████████████▉                            | 88/201 [04:50<06:35,  3.50s/it]\u001b[A\n",
      " 44%|██████████████████████▏                           | 89/201 [04:54<06:31,  3.49s/it]\u001b[A\n",
      " 45%|██████████████████████▍                           | 90/201 [04:57<06:25,  3.47s/it]\u001b[A\n",
      " 45%|██████████████████████▋                           | 91/201 [05:00<06:21,  3.46s/it]\u001b[A"
     ]
    },
    {
     "name": "stdout",
     "output_type": "stream",
     "text": [
      "Evaluation 90 (Epsilon=None):\n",
      "\tTraining Gravity: 0.002295\n",
      " \tTraining Stability: 0.0\n",
      " \tAAR: -10.879\n",
      " \tSES: 0\n",
      " \tMean Reward: -1000.0\n",
      " \tStd Reward: 0.0\n",
      "\n"
     ]
    },
    {
     "name": "stderr",
     "output_type": "stream",
     "text": [
      "\n",
      " 46%|██████████████████████▉                           | 92/201 [05:04<06:18,  3.48s/it]\u001b[A\n",
      " 46%|███████████████████████▏                          | 93/201 [05:07<06:14,  3.47s/it]\u001b[A\n",
      " 47%|███████████████████████▍                          | 94/201 [05:11<06:11,  3.48s/it]\u001b[A\n",
      " 47%|███████████████████████▋                          | 95/201 [05:15<06:13,  3.53s/it]\u001b[A\n",
      " 48%|███████████████████████▉                          | 96/201 [05:18<06:13,  3.56s/it]\u001b[A"
     ]
    },
    {
     "name": "stdout",
     "output_type": "stream",
     "text": [
      "Evaluation 95 (Epsilon=None):\n",
      "\tTraining Gravity: 0.002409\n",
      " \tTraining Stability: 0.0\n",
      " \tAAR: -10.385\n",
      " \tSES: 0\n",
      " \tMean Reward: -1000.0\n",
      " \tStd Reward: 0.0\n",
      "\n"
     ]
    },
    {
     "name": "stderr",
     "output_type": "stream",
     "text": [
      "\n",
      " 48%|████████████████████████▏                         | 97/201 [05:22<06:11,  3.57s/it]\u001b[A\n",
      " 49%|████████████████████████▍                         | 98/201 [05:25<06:09,  3.59s/it]\u001b[A\n",
      " 49%|████████████████████████▋                         | 99/201 [05:29<06:07,  3.60s/it]\u001b[A\n",
      " 50%|████████████████████████▍                        | 100/201 [05:33<06:04,  3.61s/it]\u001b[A\n",
      " 50%|████████████████████████▌                        | 101/201 [05:36<06:01,  3.62s/it]\u001b[A"
     ]
    },
    {
     "name": "stdout",
     "output_type": "stream",
     "text": [
      "Evaluation 100 (Epsilon=None):\n",
      "\tTraining Gravity: 0.0025\n",
      " \tTraining Stability: 0.0\n",
      " \tAAR: -9.98\n",
      " \tSES: 0\n",
      " \tMean Reward: -1000.0\n",
      " \tStd Reward: 0.0\n",
      "\n"
     ]
    },
    {
     "name": "stderr",
     "output_type": "stream",
     "text": [
      "\n",
      " 51%|████████████████████████▊                        | 102/201 [05:40<06:00,  3.64s/it]\u001b[A\n",
      " 51%|█████████████████████████                        | 103/201 [05:44<06:01,  3.69s/it]\u001b[A\n",
      " 52%|█████████████████████████▎                       | 104/201 [05:48<06:00,  3.72s/it]\u001b[A\n",
      " 52%|█████████████████████████▌                       | 105/201 [05:51<06:03,  3.79s/it]\u001b[A\n",
      " 53%|█████████████████████████▊                       | 106/201 [05:55<06:01,  3.80s/it]\u001b[A"
     ]
    },
    {
     "name": "stdout",
     "output_type": "stream",
     "text": [
      "Evaluation 105 (Epsilon=None):\n",
      "\tTraining Gravity: 0.0025\n",
      " \tTraining Stability: 0.0\n",
      " \tAAR: -10.008\n",
      " \tSES: 0\n",
      " \tMean Reward: -1000.0\n",
      " \tStd Reward: 0.0\n",
      "\n"
     ]
    },
    {
     "name": "stderr",
     "output_type": "stream",
     "text": [
      "\n",
      " 53%|██████████████████████████                       | 107/201 [05:59<05:58,  3.82s/it]\u001b[A\n",
      " 54%|██████████████████████████▎                      | 108/201 [06:03<05:54,  3.81s/it]\u001b[A\n",
      " 54%|██████████████████████████▌                      | 109/201 [06:07<05:47,  3.78s/it]\u001b[A\n",
      " 55%|██████████████████████████▊                      | 110/201 [06:10<05:39,  3.74s/it]\u001b[A\n",
      " 55%|███████████████████████████                      | 111/201 [06:14<05:33,  3.71s/it]\u001b[A"
     ]
    },
    {
     "name": "stdout",
     "output_type": "stream",
     "text": [
      "Evaluation 110 (Epsilon=None):\n",
      "\tTraining Gravity: 0.0025\n",
      " \tTraining Stability: 0.0\n",
      " \tAAR: -10.015\n",
      " \tSES: 0\n",
      " \tMean Reward: -1000.0\n",
      " \tStd Reward: 0.0\n",
      "\n"
     ]
    },
    {
     "name": "stderr",
     "output_type": "stream",
     "text": [
      "\n",
      " 56%|███████████████████████████▎                     | 112/201 [06:18<05:29,  3.70s/it]\u001b[A\n",
      " 56%|███████████████████████████▌                     | 113/201 [06:21<05:24,  3.68s/it]\u001b[A\n",
      " 57%|███████████████████████████▊                     | 114/201 [06:25<05:18,  3.66s/it]\u001b[A\n",
      " 57%|████████████████████████████                     | 115/201 [06:28<05:13,  3.64s/it]\u001b[A\n",
      " 58%|████████████████████████████▎                    | 116/201 [06:32<05:10,  3.65s/it]\u001b[A"
     ]
    },
    {
     "name": "stdout",
     "output_type": "stream",
     "text": [
      "Evaluation 115 (Epsilon=None):\n",
      "\tTraining Gravity: 0.0025\n",
      " \tTraining Stability: 0.0\n",
      " \tAAR: -10.013\n",
      " \tSES: 0\n",
      " \tMean Reward: -1000.0\n",
      " \tStd Reward: 0.0\n",
      "\n"
     ]
    },
    {
     "name": "stderr",
     "output_type": "stream",
     "text": [
      "\n",
      " 58%|████████████████████████████▌                    | 117/201 [06:36<05:04,  3.63s/it]\u001b[A\n",
      " 59%|████████████████████████████▊                    | 118/201 [06:39<04:57,  3.58s/it]\u001b[A\n",
      " 59%|█████████████████████████████                    | 119/201 [06:43<04:49,  3.53s/it]\u001b[A\n",
      " 60%|█████████████████████████████▎                   | 120/201 [06:46<04:43,  3.50s/it]\u001b[A\n",
      " 60%|█████████████████████████████▍                   | 121/201 [06:50<04:39,  3.49s/it]\u001b[A"
     ]
    },
    {
     "name": "stdout",
     "output_type": "stream",
     "text": [
      "Evaluation 120 (Epsilon=None):\n",
      "\tTraining Gravity: 0.0025\n",
      " \tTraining Stability: 0.0\n",
      " \tAAR: -9.993\n",
      " \tSES: 0\n",
      " \tMean Reward: -1000.0\n",
      " \tStd Reward: 0.0\n",
      "\n"
     ]
    },
    {
     "name": "stderr",
     "output_type": "stream",
     "text": [
      "\n",
      " 61%|█████████████████████████████▋                   | 122/201 [06:53<04:34,  3.47s/it]\u001b[A\n",
      " 61%|█████████████████████████████▉                   | 123/201 [06:56<04:29,  3.46s/it]\u001b[A\n",
      " 62%|██████████████████████████████▏                  | 124/201 [07:00<04:25,  3.45s/it]\u001b[A\n",
      " 62%|██████████████████████████████▍                  | 125/201 [07:03<04:22,  3.45s/it]\u001b[A\n",
      " 63%|██████████████████████████████▋                  | 126/201 [07:07<04:20,  3.47s/it]\u001b[A"
     ]
    },
    {
     "name": "stdout",
     "output_type": "stream",
     "text": [
      "Evaluation 125 (Epsilon=None):\n",
      "\tTraining Gravity: 0.0025\n",
      " \tTraining Stability: 0.0\n",
      " \tAAR: -9.993\n",
      " \tSES: 0\n",
      " \tMean Reward: -1000.0\n",
      " \tStd Reward: 0.0\n",
      "\n"
     ]
    },
    {
     "name": "stderr",
     "output_type": "stream",
     "text": [
      "\n",
      " 63%|██████████████████████████████▉                  | 127/201 [07:10<04:17,  3.48s/it]\u001b[A\n",
      " 64%|███████████████████████████████▏                 | 128/201 [07:14<04:13,  3.47s/it]\u001b[A\n",
      " 64%|███████████████████████████████▍                 | 129/201 [07:17<04:09,  3.47s/it]\u001b[A\n",
      " 65%|███████████████████████████████▋                 | 130/201 [07:21<04:05,  3.46s/it]\u001b[A\n",
      " 65%|███████████████████████████████▉                 | 131/201 [07:24<04:04,  3.49s/it]\u001b[A"
     ]
    },
    {
     "name": "stdout",
     "output_type": "stream",
     "text": [
      "Evaluation 130 (Epsilon=None):\n",
      "\tTraining Gravity: 0.0025\n",
      " \tTraining Stability: 0.0\n",
      " \tAAR: -10.023\n",
      " \tSES: 0\n",
      " \tMean Reward: -1000.0\n",
      " \tStd Reward: 0.0\n",
      "\n"
     ]
    },
    {
     "name": "stderr",
     "output_type": "stream",
     "text": [
      "\n",
      " 66%|████████████████████████████████▏                | 132/201 [07:28<04:06,  3.58s/it]\u001b[A\n",
      " 66%|████████████████████████████████▍                | 133/201 [07:32<04:03,  3.59s/it]\u001b[A\n",
      " 67%|████████████████████████████████▋                | 134/201 [07:35<04:02,  3.62s/it]\u001b[A\n",
      " 67%|████████████████████████████████▉                | 135/201 [07:39<04:02,  3.68s/it]\u001b[A\n",
      " 68%|█████████████████████████████████▏               | 136/201 [07:43<04:02,  3.73s/it]\u001b[A"
     ]
    },
    {
     "name": "stdout",
     "output_type": "stream",
     "text": [
      "Evaluation 135 (Epsilon=None):\n",
      "\tTraining Gravity: 0.0025\n",
      " \tTraining Stability: 0.0\n",
      " \tAAR: -9.991\n",
      " \tSES: 0\n",
      " \tMean Reward: -1000.0\n",
      " \tStd Reward: 0.0\n",
      "\n"
     ]
    },
    {
     "name": "stderr",
     "output_type": "stream",
     "text": [
      "\n",
      " 68%|█████████████████████████████████▍               | 137/201 [07:47<04:01,  3.77s/it]\u001b[A\n",
      " 69%|█████████████████████████████████▋               | 138/201 [07:51<03:58,  3.79s/it]\u001b[A\n",
      " 69%|█████████████████████████████████▉               | 139/201 [07:55<03:57,  3.83s/it]\u001b[A\n",
      " 70%|██████████████████████████████████▏              | 140/201 [07:58<03:53,  3.82s/it]\u001b[A\n",
      " 70%|██████████████████████████████████▎              | 141/201 [08:02<03:49,  3.83s/it]\u001b[A"
     ]
    },
    {
     "name": "stdout",
     "output_type": "stream",
     "text": [
      "Evaluation 140 (Epsilon=None):\n",
      "\tTraining Gravity: 0.0025\n",
      " \tTraining Stability: 0.0\n",
      " \tAAR: -9.998\n",
      " \tSES: 0\n",
      " \tMean Reward: -1000.0\n",
      " \tStd Reward: 0.0\n",
      "\n"
     ]
    },
    {
     "name": "stderr",
     "output_type": "stream",
     "text": [
      "\n",
      " 71%|██████████████████████████████████▌              | 142/201 [08:06<03:48,  3.88s/it]\u001b[A\n",
      " 71%|██████████████████████████████████▊              | 143/201 [08:10<03:44,  3.86s/it]\u001b[A\n",
      " 72%|███████████████████████████████████              | 144/201 [08:14<03:39,  3.85s/it]\u001b[A\n",
      " 72%|███████████████████████████████████▎             | 145/201 [08:18<03:35,  3.84s/it]\u001b[A\n",
      " 73%|███████████████████████████████████▌             | 146/201 [08:21<03:29,  3.81s/it]\u001b[A"
     ]
    },
    {
     "name": "stdout",
     "output_type": "stream",
     "text": [
      "Evaluation 145 (Epsilon=None):\n",
      "\tTraining Gravity: 0.0025\n",
      " \tTraining Stability: 0.0\n",
      " \tAAR: -9.994\n",
      " \tSES: 0\n",
      " \tMean Reward: -1000.0\n",
      " \tStd Reward: 0.0\n",
      "\n"
     ]
    },
    {
     "name": "stderr",
     "output_type": "stream",
     "text": [
      "\n",
      " 73%|███████████████████████████████████▊             | 147/201 [08:25<03:22,  3.75s/it]\u001b[A\n",
      " 74%|████████████████████████████████████             | 148/201 [08:29<03:16,  3.71s/it]\u001b[A\n",
      " 74%|████████████████████████████████████▎            | 149/201 [08:32<03:11,  3.68s/it]\u001b[A\n",
      " 75%|████████████████████████████████████▌            | 150/201 [08:36<03:09,  3.72s/it]\u001b[A\n",
      " 75%|████████████████████████████████████▊            | 151/201 [08:40<03:04,  3.70s/it]\u001b[A"
     ]
    },
    {
     "name": "stdout",
     "output_type": "stream",
     "text": [
      "Evaluation 150 (Epsilon=None):\n",
      "\tTraining Gravity: 0.0025\n",
      " \tTraining Stability: 0.0\n",
      " \tAAR: -9.974\n",
      " \tSES: 0\n",
      " \tMean Reward: -1000.0\n",
      " \tStd Reward: 0.0\n",
      "\n"
     ]
    },
    {
     "name": "stderr",
     "output_type": "stream",
     "text": [
      "\n",
      " 76%|█████████████████████████████████████            | 152/201 [08:43<02:59,  3.66s/it]\u001b[A\n",
      " 76%|█████████████████████████████████████▎           | 153/201 [08:47<02:55,  3.65s/it]\u001b[A\n",
      " 77%|█████████████████████████████████████▌           | 154/201 [08:51<02:51,  3.64s/it]\u001b[A\n",
      " 77%|█████████████████████████████████████▊           | 155/201 [08:54<02:46,  3.63s/it]\u001b[A\n",
      " 78%|██████████████████████████████████████           | 156/201 [08:58<02:43,  3.63s/it]\u001b[A"
     ]
    },
    {
     "name": "stdout",
     "output_type": "stream",
     "text": [
      "Evaluation 155 (Epsilon=None):\n",
      "\tTraining Gravity: 0.0025\n",
      " \tTraining Stability: 0.0\n",
      " \tAAR: -9.987\n",
      " \tSES: 0\n",
      " \tMean Reward: -1000.0\n",
      " \tStd Reward: 0.0\n",
      "\n"
     ]
    },
    {
     "name": "stderr",
     "output_type": "stream",
     "text": [
      "\n",
      " 78%|██████████████████████████████████████▎          | 157/201 [09:02<02:41,  3.67s/it]\u001b[A\n",
      " 79%|██████████████████████████████████████▌          | 158/201 [09:05<02:37,  3.65s/it]\u001b[A\n",
      " 79%|██████████████████████████████████████▊          | 159/201 [09:09<02:33,  3.65s/it]\u001b[A\n",
      " 80%|███████████████████████████████████████          | 160/201 [09:12<02:29,  3.64s/it]\u001b[A\n",
      " 80%|███████████████████████████████████████▏         | 161/201 [09:16<02:25,  3.64s/it]\u001b[A"
     ]
    },
    {
     "name": "stdout",
     "output_type": "stream",
     "text": [
      "Evaluation 160 (Epsilon=None):\n",
      "\tTraining Gravity: 0.0025\n",
      " \tTraining Stability: 0.0\n",
      " \tAAR: -9.992\n",
      " \tSES: 0\n",
      " \tMean Reward: -1000.0\n",
      " \tStd Reward: 0.0\n",
      "\n"
     ]
    },
    {
     "name": "stderr",
     "output_type": "stream",
     "text": [
      "\n",
      " 81%|███████████████████████████████████████▍         | 162/201 [09:20<02:21,  3.64s/it]\u001b[A\n",
      " 81%|███████████████████████████████████████▋         | 163/201 [09:23<02:18,  3.64s/it]\u001b[A\n",
      " 82%|███████████████████████████████████████▉         | 164/201 [09:27<02:14,  3.65s/it]\u001b[A\n",
      " 82%|████████████████████████████████████████▏        | 165/201 [09:31<02:11,  3.64s/it]\u001b[A\n",
      " 83%|████████████████████████████████████████▍        | 166/201 [09:34<02:07,  3.65s/it]\u001b[A"
     ]
    },
    {
     "name": "stdout",
     "output_type": "stream",
     "text": [
      "Evaluation 165 (Epsilon=None):\n",
      "\tTraining Gravity: 0.0025\n",
      " \tTraining Stability: 0.0\n",
      " \tAAR: -9.987\n",
      " \tSES: 0\n",
      " \tMean Reward: -1000.0\n",
      " \tStd Reward: 0.0\n",
      "\n"
     ]
    },
    {
     "name": "stderr",
     "output_type": "stream",
     "text": [
      "\n",
      " 83%|████████████████████████████████████████▋        | 167/201 [09:38<02:02,  3.61s/it]\u001b[A\n",
      " 84%|████████████████████████████████████████▉        | 168/201 [09:41<01:57,  3.57s/it]\u001b[A\n",
      " 84%|█████████████████████████████████████████▏       | 169/201 [09:45<01:53,  3.54s/it]\u001b[A\n",
      " 85%|█████████████████████████████████████████▍       | 170/201 [09:48<01:51,  3.61s/it]\u001b[A\n",
      " 85%|█████████████████████████████████████████▋       | 171/201 [09:52<01:48,  3.62s/it]\u001b[A"
     ]
    },
    {
     "name": "stdout",
     "output_type": "stream",
     "text": [
      "Evaluation 170 (Epsilon=None):\n",
      "\tTraining Gravity: 0.0025\n",
      " \tTraining Stability: 0.0\n",
      " \tAAR: -10.005\n",
      " \tSES: 0\n",
      " \tMean Reward: -1000.0\n",
      " \tStd Reward: 0.0\n",
      "\n"
     ]
    },
    {
     "name": "stderr",
     "output_type": "stream",
     "text": [
      "\n",
      " 86%|█████████████████████████████████████████▉       | 172/201 [09:56<01:44,  3.62s/it]\u001b[A\n",
      " 86%|██████████████████████████████████████████▏      | 173/201 [09:59<01:41,  3.63s/it]\u001b[A\n",
      " 87%|██████████████████████████████████████████▍      | 174/201 [10:03<01:38,  3.66s/it]\u001b[A\n",
      " 87%|██████████████████████████████████████████▋      | 175/201 [10:07<01:35,  3.66s/it]\u001b[A\n",
      " 88%|██████████████████████████████████████████▉      | 176/201 [10:10<01:31,  3.65s/it]\u001b[A"
     ]
    },
    {
     "name": "stdout",
     "output_type": "stream",
     "text": [
      "Evaluation 175 (Epsilon=None):\n",
      "\tTraining Gravity: 0.0025\n",
      " \tTraining Stability: 0.0\n",
      " \tAAR: -9.995\n",
      " \tSES: 0\n",
      " \tMean Reward: -1000.0\n",
      " \tStd Reward: 0.0\n",
      "\n"
     ]
    },
    {
     "name": "stderr",
     "output_type": "stream",
     "text": [
      "\n",
      " 88%|███████████████████████████████████████████▏     | 177/201 [10:14<01:27,  3.65s/it]\u001b[A\n",
      " 89%|███████████████████████████████████████████▍     | 178/201 [10:18<01:23,  3.64s/it]\u001b[A\n",
      " 89%|███████████████████████████████████████████▋     | 179/201 [10:21<01:18,  3.57s/it]\u001b[A\n",
      " 90%|███████████████████████████████████████████▉     | 180/201 [10:25<01:14,  3.53s/it]\u001b[A\n",
      " 90%|████████████████████████████████████████████     | 181/201 [10:28<01:10,  3.51s/it]\u001b[A"
     ]
    },
    {
     "name": "stdout",
     "output_type": "stream",
     "text": [
      "Evaluation 180 (Epsilon=None):\n",
      "\tTraining Gravity: 0.0025\n",
      " \tTraining Stability: 0.0\n",
      " \tAAR: -9.994\n",
      " \tSES: 0\n",
      " \tMean Reward: -1000.0\n",
      " \tStd Reward: 0.0\n",
      "\n"
     ]
    },
    {
     "name": "stderr",
     "output_type": "stream",
     "text": [
      "\n",
      " 91%|████████████████████████████████████████████▎    | 182/201 [10:32<01:07,  3.53s/it]\u001b[A\n",
      " 91%|████████████████████████████████████████████▌    | 183/201 [10:35<01:03,  3.51s/it]\u001b[A\n",
      " 92%|████████████████████████████████████████████▊    | 184/201 [10:38<00:59,  3.48s/it]\u001b[A\n",
      " 92%|█████████████████████████████████████████████    | 185/201 [10:42<00:55,  3.48s/it]\u001b[A\n",
      " 93%|█████████████████████████████████████████████▎   | 186/201 [10:45<00:51,  3.47s/it]\u001b[A"
     ]
    },
    {
     "name": "stdout",
     "output_type": "stream",
     "text": [
      "Evaluation 185 (Epsilon=None):\n",
      "\tTraining Gravity: 0.0025\n",
      " \tTraining Stability: 0.0\n",
      " \tAAR: -9.986\n",
      " \tSES: 0\n",
      " \tMean Reward: -1000.0\n",
      " \tStd Reward: 0.0\n",
      "\n"
     ]
    },
    {
     "name": "stderr",
     "output_type": "stream",
     "text": [
      "\n",
      " 93%|█████████████████████████████████████████████▌   | 187/201 [10:49<00:48,  3.46s/it]\u001b[A\n",
      " 94%|█████████████████████████████████████████████▊   | 188/201 [10:52<00:44,  3.45s/it]\u001b[A\n",
      " 94%|██████████████████████████████████████████████   | 189/201 [10:56<00:41,  3.45s/it]\u001b[A\n",
      " 95%|██████████████████████████████████████████████▎  | 190/201 [10:59<00:37,  3.45s/it]\u001b[A\n",
      " 95%|██████████████████████████████████████████████▌  | 191/201 [11:03<00:34,  3.46s/it]\u001b[A"
     ]
    },
    {
     "name": "stdout",
     "output_type": "stream",
     "text": [
      "Evaluation 190 (Epsilon=None):\n",
      "\tTraining Gravity: 0.0025\n",
      " \tTraining Stability: 0.0\n",
      " \tAAR: -9.997\n",
      " \tSES: 0\n",
      " \tMean Reward: -1000.0\n",
      " \tStd Reward: 0.0\n",
      "\n"
     ]
    },
    {
     "name": "stderr",
     "output_type": "stream",
     "text": [
      "\n",
      " 96%|██████████████████████████████████████████████▊  | 192/201 [11:06<00:31,  3.46s/it]\u001b[A\n",
      " 96%|███████████████████████████████████████████████  | 193/201 [11:10<00:27,  3.47s/it]\u001b[A\n",
      " 97%|███████████████████████████████████████████████▎ | 194/201 [11:13<00:24,  3.46s/it]\u001b[A\n",
      " 97%|███████████████████████████████████████████████▌ | 195/201 [11:17<00:20,  3.47s/it]\u001b[A\n",
      " 98%|███████████████████████████████████████████████▊ | 196/201 [11:20<00:17,  3.46s/it]\u001b[A"
     ]
    },
    {
     "name": "stdout",
     "output_type": "stream",
     "text": [
      "Evaluation 195 (Epsilon=None):\n",
      "\tTraining Gravity: 0.0025\n",
      " \tTraining Stability: 0.0\n",
      " \tAAR: -10.01\n",
      " \tSES: 0\n",
      " \tMean Reward: -1000.0\n",
      " \tStd Reward: 0.0\n",
      "\n"
     ]
    },
    {
     "name": "stderr",
     "output_type": "stream",
     "text": [
      "\n",
      " 98%|████████████████████████████████████████████████ | 197/201 [11:23<00:13,  3.45s/it]\u001b[A\n",
      " 99%|████████████████████████████████████████████████▎| 198/201 [11:27<00:10,  3.45s/it]\u001b[A\n",
      " 99%|████████████████████████████████████████████████▌| 199/201 [11:31<00:07,  3.52s/it]\u001b[A\n",
      "100%|████████████████████████████████████████████████▊| 200/201 [11:34<00:03,  3.56s/it]\u001b[A\n",
      "100%|█████████████████████████████████████████████████| 201/201 [11:38<00:00,  3.47s/it]\u001b[A"
     ]
    },
    {
     "name": "stdout",
     "output_type": "stream",
     "text": [
      "Evaluation 200 (Epsilon=None):\n",
      "\tTraining Gravity: 0.0025\n",
      " \tTraining Stability: 0.0\n",
      " \tAAR: -10.005\n",
      " \tSES: 0\n",
      " \tMean Reward: -1000.0\n",
      " \tStd Reward: 0.0\n",
      "\n"
     ]
    },
    {
     "name": "stderr",
     "output_type": "stream",
     "text": [
      "\n",
      " 17%|████████▏                                        | 2/12 [30:48<2:27:26, 884.67s/it]\n",
      "  0%|                                                           | 0/201 [00:00<?, ?it/s]\u001b[A/Users/danorel/Workspace/Education/University/KMA/Research/aclarel/environments/mountain_car/rl_methods/__init__.py:65: FutureWarning: The behavior of DataFrame concatenation with empty or all-NA entries is deprecated. In a future version, this will no longer exclude empty or all-NA columns when determining the result dtypes. To retain the old behavior, exclude the relevant entries before the concat operation.\n",
      "  self.measurements = pd.concat([self.measurements, measurement], ignore_index=True)\n",
      "\n",
      "  0%|▎                                                  | 1/201 [00:03<13:16,  3.98s/it]\u001b[A"
     ]
    },
    {
     "name": "stdout",
     "output_type": "stream",
     "text": [
      "Evaluation 0 (Epsilon=None):\n",
      "\tTraining Gravity: 0.002511\n",
      " \tTraining Stability: 0.0\n",
      " \tAAR: -9.977\n",
      " \tSES: 0\n",
      " \tMean Reward: -1000.0\n",
      " \tStd Reward: 0.0\n",
      "\n"
     ]
    },
    {
     "name": "stderr",
     "output_type": "stream",
     "text": [
      "\n",
      "  1%|▌                                                  | 2/201 [00:07<12:51,  3.88s/it]\u001b[A\n",
      "  1%|▊                                                  | 3/201 [00:11<12:40,  3.84s/it]\u001b[A\n",
      "  2%|█                                                  | 4/201 [00:15<12:33,  3.82s/it]\u001b[A\n",
      "  2%|█▎                                                 | 5/201 [00:19<12:28,  3.82s/it]\u001b[A\n",
      "  3%|█▌                                                 | 6/201 [00:22<12:21,  3.80s/it]\u001b[A"
     ]
    },
    {
     "name": "stdout",
     "output_type": "stream",
     "text": [
      "Evaluation 5 (Epsilon=None):\n",
      "\tTraining Gravity: 0.002567\n",
      " \tTraining Stability: 0.0\n",
      " \tAAR: -9.751\n",
      " \tSES: 0\n",
      " \tMean Reward: -1000.0\n",
      " \tStd Reward: 0.0\n",
      "\n"
     ]
    },
    {
     "name": "stderr",
     "output_type": "stream",
     "text": [
      "\n",
      "  3%|█▊                                                 | 7/201 [00:26<12:04,  3.74s/it]\u001b[A\n",
      "  4%|██                                                 | 8/201 [00:30<11:54,  3.70s/it]\u001b[A\n",
      "  4%|██▎                                                | 9/201 [00:33<11:44,  3.67s/it]\u001b[A\n",
      "  5%|██▍                                               | 10/201 [00:37<11:37,  3.65s/it]\u001b[A\n",
      "  5%|██▋                                               | 11/201 [00:40<11:23,  3.60s/it]\u001b[A"
     ]
    },
    {
     "name": "stdout",
     "output_type": "stream",
     "text": [
      "Evaluation 10 (Epsilon=None):\n",
      "\tTraining Gravity: 0.002624\n",
      " \tTraining Stability: 0.0\n",
      " \tAAR: -9.528\n",
      " \tSES: 0\n",
      " \tMean Reward: -1000.0\n",
      " \tStd Reward: 0.0\n",
      "\n"
     ]
    },
    {
     "name": "stderr",
     "output_type": "stream",
     "text": [
      "\n",
      "  6%|██▉                                               | 12/201 [00:44<11:09,  3.54s/it]\u001b[A\n",
      "  6%|███▏                                              | 13/201 [00:47<10:58,  3.50s/it]\u001b[A\n",
      "  7%|███▍                                              | 14/201 [00:51<10:51,  3.48s/it]\u001b[A\n",
      "  7%|███▋                                              | 15/201 [00:54<10:46,  3.48s/it]\u001b[A\n",
      "  8%|███▉                                              | 16/201 [00:58<10:40,  3.46s/it]\u001b[A"
     ]
    },
    {
     "name": "stdout",
     "output_type": "stream",
     "text": [
      "Evaluation 15 (Epsilon=None):\n",
      "\tTraining Gravity: 0.00268\n",
      " \tTraining Stability: 0.0\n",
      " \tAAR: -9.318\n",
      " \tSES: 0\n",
      " \tMean Reward: -1000.0\n",
      " \tStd Reward: 0.0\n",
      "\n"
     ]
    },
    {
     "name": "stderr",
     "output_type": "stream",
     "text": [
      "\n",
      "  8%|████▏                                             | 17/201 [01:01<10:35,  3.45s/it]\u001b[A\n",
      "  9%|████▍                                             | 18/201 [01:04<10:36,  3.48s/it]\u001b[A\n",
      "  9%|████▋                                             | 19/201 [01:08<10:36,  3.50s/it]\u001b[A\n",
      " 10%|████▉                                             | 20/201 [01:11<10:29,  3.48s/it]\u001b[A\n",
      " 10%|█████▏                                            | 21/201 [01:15<10:35,  3.53s/it]\u001b[A"
     ]
    },
    {
     "name": "stdout",
     "output_type": "stream",
     "text": [
      "Evaluation 20 (Epsilon=None):\n",
      "\tTraining Gravity: 0.002736\n",
      " \tTraining Stability: 0.0\n",
      " \tAAR: -9.142\n",
      " \tSES: 0\n",
      " \tMean Reward: -1000.0\n",
      " \tStd Reward: 0.0\n",
      "\n"
     ]
    },
    {
     "name": "stderr",
     "output_type": "stream",
     "text": [
      "\n",
      " 11%|█████▍                                            | 22/201 [01:19<10:26,  3.50s/it]\u001b[A\n",
      " 11%|█████▋                                            | 23/201 [01:22<10:20,  3.49s/it]\u001b[A\n",
      " 12%|█████▉                                            | 24/201 [01:25<10:14,  3.47s/it]\u001b[A\n",
      " 12%|██████▏                                           | 25/201 [01:29<10:13,  3.48s/it]\u001b[A\n",
      " 13%|██████▍                                           | 26/201 [01:33<10:22,  3.56s/it]\u001b[A"
     ]
    },
    {
     "name": "stdout",
     "output_type": "stream",
     "text": [
      "Evaluation 25 (Epsilon=None):\n",
      "\tTraining Gravity: 0.002792\n",
      " \tTraining Stability: 0.0\n",
      " \tAAR: -8.949\n",
      " \tSES: 0\n",
      " \tMean Reward: -1000.0\n",
      " \tStd Reward: 0.0\n",
      "\n"
     ]
    },
    {
     "name": "stderr",
     "output_type": "stream",
     "text": [
      "\n",
      " 13%|██████▋                                           | 27/201 [01:36<10:22,  3.58s/it]\u001b[A\n",
      " 14%|██████▉                                           | 28/201 [01:40<10:31,  3.65s/it]\u001b[A\n",
      " 14%|███████▏                                          | 29/201 [01:44<10:31,  3.67s/it]\u001b[A\n",
      " 15%|███████▍                                          | 30/201 [01:47<10:24,  3.65s/it]\u001b[A\n",
      " 15%|███████▋                                          | 31/201 [01:51<10:19,  3.64s/it]\u001b[A"
     ]
    },
    {
     "name": "stdout",
     "output_type": "stream",
     "text": [
      "Evaluation 30 (Epsilon=None):\n",
      "\tTraining Gravity: 0.002849\n",
      " \tTraining Stability: 0.0\n",
      " \tAAR: -8.79\n",
      " \tSES: 0\n",
      " \tMean Reward: -1000.0\n",
      " \tStd Reward: 0.0\n",
      "\n"
     ]
    },
    {
     "name": "stderr",
     "output_type": "stream",
     "text": [
      "\n",
      " 16%|███████▉                                          | 32/201 [01:55<10:16,  3.65s/it]\u001b[A\n",
      " 16%|████████▏                                         | 33/201 [01:58<10:09,  3.63s/it]\u001b[A\n",
      " 17%|████████▍                                         | 34/201 [02:02<10:06,  3.63s/it]\u001b[A\n",
      " 17%|████████▋                                         | 35/201 [02:06<10:02,  3.63s/it]\u001b[A\n",
      " 18%|████████▉                                         | 36/201 [02:09<09:58,  3.63s/it]\u001b[A"
     ]
    },
    {
     "name": "stdout",
     "output_type": "stream",
     "text": [
      "Evaluation 35 (Epsilon=None):\n",
      "\tTraining Gravity: 0.002905\n",
      " \tTraining Stability: 0.0\n",
      " \tAAR: -8.616\n",
      " \tSES: 0\n",
      " \tMean Reward: -1000.0\n",
      " \tStd Reward: 0.0\n",
      "\n"
     ]
    },
    {
     "name": "stderr",
     "output_type": "stream",
     "text": [
      "\n",
      " 18%|█████████▏                                        | 37/201 [02:13<09:55,  3.63s/it]\u001b[A\n",
      " 19%|█████████▍                                        | 38/201 [02:16<09:51,  3.63s/it]\u001b[A\n",
      " 19%|█████████▋                                        | 39/201 [02:20<09:38,  3.57s/it]\u001b[A\n",
      " 20%|█████████▉                                        | 40/201 [02:23<09:29,  3.54s/it]\u001b[A\n",
      " 20%|██████████▏                                       | 41/201 [02:27<09:23,  3.52s/it]\u001b[A"
     ]
    },
    {
     "name": "stdout",
     "output_type": "stream",
     "text": [
      "Evaluation 40 (Epsilon=None):\n",
      "\tTraining Gravity: 0.002961\n",
      " \tTraining Stability: 0.0\n",
      " \tAAR: -8.467\n",
      " \tSES: 0\n",
      " \tMean Reward: -1000.0\n",
      " \tStd Reward: 0.0\n",
      "\n"
     ]
    },
    {
     "name": "stderr",
     "output_type": "stream",
     "text": [
      "\n",
      " 21%|██████████▍                                       | 42/201 [02:30<09:15,  3.49s/it]\u001b[A\n",
      " 21%|██████████▋                                       | 43/201 [02:34<09:02,  3.43s/it]\u001b[A\n",
      " 22%|██████████▉                                       | 44/201 [02:37<08:53,  3.40s/it]\u001b[A\n",
      " 22%|███████████▏                                      | 45/201 [02:40<08:44,  3.36s/it]\u001b[A\n",
      " 23%|███████████▍                                      | 46/201 [02:43<08:35,  3.33s/it]\u001b[A"
     ]
    },
    {
     "name": "stdout",
     "output_type": "stream",
     "text": [
      "Evaluation 45 (Epsilon=None):\n",
      "\tTraining Gravity: 0.003017\n",
      " \tTraining Stability: 0.0\n",
      " \tAAR: -8.272\n",
      " \tSES: 0\n",
      " \tMean Reward: -1000.0\n",
      " \tStd Reward: 0.0\n",
      "\n"
     ]
    },
    {
     "name": "stderr",
     "output_type": "stream",
     "text": [
      "\n",
      " 23%|███████████▋                                      | 47/201 [02:47<08:30,  3.32s/it]\u001b[A\n",
      " 24%|███████████▉                                      | 48/201 [02:50<08:26,  3.31s/it]\u001b[A\n",
      " 24%|████████████▏                                     | 49/201 [02:53<08:23,  3.31s/it]\u001b[A\n",
      " 25%|████████████▍                                     | 50/201 [02:57<08:29,  3.38s/it]\u001b[A\n",
      " 25%|████████████▋                                     | 51/201 [03:00<08:29,  3.39s/it]\u001b[A"
     ]
    },
    {
     "name": "stdout",
     "output_type": "stream",
     "text": [
      "Evaluation 50 (Epsilon=None):\n",
      "\tTraining Gravity: 0.003074\n",
      " \tTraining Stability: 0.0\n",
      " \tAAR: -8.132\n",
      " \tSES: 0\n",
      " \tMean Reward: -1000.0\n",
      " \tStd Reward: 0.0\n",
      "\n"
     ]
    },
    {
     "name": "stderr",
     "output_type": "stream",
     "text": [
      "\n",
      " 26%|████████████▉                                     | 52/201 [03:04<08:27,  3.41s/it]\u001b[A\n",
      " 26%|█████████████▏                                    | 53/201 [03:07<08:34,  3.47s/it]\u001b[A\n",
      " 27%|█████████████▍                                    | 54/201 [03:11<08:43,  3.56s/it]\u001b[A\n",
      " 27%|█████████████▋                                    | 55/201 [03:15<08:41,  3.57s/it]\u001b[A\n",
      " 28%|█████████████▉                                    | 56/201 [03:19<08:50,  3.66s/it]\u001b[A"
     ]
    },
    {
     "name": "stdout",
     "output_type": "stream",
     "text": [
      "Evaluation 55 (Epsilon=None):\n",
      "\tTraining Gravity: 0.00313\n",
      " \tTraining Stability: 0.0\n",
      " \tAAR: -7.992\n",
      " \tSES: 0\n",
      " \tMean Reward: -1000.0\n",
      " \tStd Reward: 0.0\n",
      "\n"
     ]
    },
    {
     "name": "stderr",
     "output_type": "stream",
     "text": [
      "\n",
      " 28%|██████████████▏                                   | 57/201 [03:22<08:47,  3.67s/it]\u001b[A\n",
      " 29%|██████████████▍                                   | 58/201 [03:26<08:41,  3.65s/it]\u001b[A\n",
      " 29%|██████████████▋                                   | 59/201 [03:30<08:38,  3.65s/it]\u001b[A\n",
      " 30%|██████████████▉                                   | 60/201 [03:33<08:42,  3.71s/it]\u001b[A\n",
      " 30%|███████████████▏                                  | 61/201 [03:37<08:44,  3.75s/it]\u001b[A"
     ]
    },
    {
     "name": "stdout",
     "output_type": "stream",
     "text": [
      "Evaluation 60 (Epsilon=None):\n",
      "\tTraining Gravity: 0.003186\n",
      " \tTraining Stability: 0.0\n",
      " \tAAR: -7.834\n",
      " \tSES: 0\n",
      " \tMean Reward: -1000.0\n",
      " \tStd Reward: 0.0\n",
      "\n"
     ]
    },
    {
     "name": "stderr",
     "output_type": "stream",
     "text": [
      "\n",
      " 31%|███████████████▍                                  | 62/201 [03:41<08:43,  3.77s/it]\u001b[A\n",
      " 31%|███████████████▋                                  | 63/201 [03:45<08:41,  3.78s/it]\u001b[A\n",
      " 32%|███████████████▉                                  | 64/201 [03:48<08:29,  3.72s/it]\u001b[A\n",
      " 32%|████████████████▏                                 | 65/201 [03:52<08:19,  3.67s/it]\u001b[A\n",
      " 33%|████████████████▍                                 | 66/201 [03:55<08:07,  3.61s/it]\u001b[A"
     ]
    },
    {
     "name": "stdout",
     "output_type": "stream",
     "text": [
      "Evaluation 65 (Epsilon=None):\n",
      "\tTraining Gravity: 0.003242\n",
      " \tTraining Stability: 0.0\n",
      " \tAAR: -7.717\n",
      " \tSES: 0\n",
      " \tMean Reward: -1000.0\n",
      " \tStd Reward: 0.0\n",
      "\n"
     ]
    },
    {
     "name": "stderr",
     "output_type": "stream",
     "text": [
      "\n",
      " 33%|████████████████▋                                 | 67/201 [03:59<07:50,  3.51s/it]\u001b[A\n",
      " 34%|████████████████▉                                 | 68/201 [04:02<07:37,  3.44s/it]\u001b[A\n",
      " 34%|█████████████████▏                                | 69/201 [04:05<07:26,  3.38s/it]\u001b[A\n",
      " 35%|█████████████████▍                                | 70/201 [04:08<07:13,  3.31s/it]\u001b[A\n",
      " 35%|█████████████████▋                                | 71/201 [04:12<07:03,  3.26s/it]\u001b[A"
     ]
    },
    {
     "name": "stdout",
     "output_type": "stream",
     "text": [
      "Evaluation 70 (Epsilon=None):\n",
      "\tTraining Gravity: 0.003299\n",
      " \tTraining Stability: 0.0\n",
      " \tAAR: -7.575\n",
      " \tSES: 0\n",
      " \tMean Reward: -1000.0\n",
      " \tStd Reward: 0.0\n",
      "\n"
     ]
    },
    {
     "name": "stderr",
     "output_type": "stream",
     "text": [
      "\n",
      " 36%|█████████████████▉                                | 72/201 [04:15<06:55,  3.22s/it]\u001b[A\n",
      " 36%|██████████████████▏                               | 73/201 [04:18<06:48,  3.19s/it]\u001b[A\n",
      " 37%|██████████████████▍                               | 74/201 [04:21<06:43,  3.18s/it]\u001b[A\n",
      " 37%|██████████████████▋                               | 75/201 [04:24<06:41,  3.18s/it]\u001b[A\n",
      " 38%|██████████████████▉                               | 76/201 [04:27<06:35,  3.16s/it]\u001b[A"
     ]
    },
    {
     "name": "stdout",
     "output_type": "stream",
     "text": [
      "Evaluation 75 (Epsilon=None):\n",
      "\tTraining Gravity: 0.003355\n",
      " \tTraining Stability: 0.0\n",
      " \tAAR: -7.452\n",
      " \tSES: 0\n",
      " \tMean Reward: -1000.0\n",
      " \tStd Reward: 0.0\n",
      "\n"
     ]
    },
    {
     "name": "stderr",
     "output_type": "stream",
     "text": [
      "\n",
      " 38%|███████████████████▏                              | 77/201 [04:30<06:30,  3.15s/it]\u001b[A\n",
      " 39%|███████████████████▍                              | 78/201 [04:33<06:26,  3.15s/it]\u001b[A\n",
      " 39%|███████████████████▋                              | 79/201 [04:37<06:26,  3.17s/it]\u001b[A\n",
      " 40%|███████████████████▉                              | 80/201 [04:40<06:25,  3.19s/it]\u001b[A\n",
      " 40%|████████████████████▏                             | 81/201 [04:43<06:27,  3.23s/it]\u001b[A"
     ]
    },
    {
     "name": "stdout",
     "output_type": "stream",
     "text": [
      "Evaluation 80 (Epsilon=None):\n",
      "\tTraining Gravity: 0.003411\n",
      " \tTraining Stability: 0.0\n",
      " \tAAR: -7.352\n",
      " \tSES: 0\n",
      " \tMean Reward: -1000.0\n",
      " \tStd Reward: 0.0\n",
      "\n"
     ]
    },
    {
     "name": "stderr",
     "output_type": "stream",
     "text": [
      "\n",
      " 41%|████████████████████▍                             | 82/201 [04:47<06:36,  3.33s/it]\u001b[A\n",
      " 41%|████████████████████▋                             | 83/201 [04:50<06:36,  3.36s/it]\u001b[A\n",
      " 42%|████████████████████▉                             | 84/201 [04:54<06:35,  3.38s/it]\u001b[A\n",
      " 42%|█████████████████████▏                            | 85/201 [04:57<06:35,  3.41s/it]\u001b[A\n",
      " 43%|█████████████████████▍                            | 86/201 [05:00<06:28,  3.38s/it]\u001b[A"
     ]
    },
    {
     "name": "stdout",
     "output_type": "stream",
     "text": [
      "Evaluation 85 (Epsilon=None):\n",
      "\tTraining Gravity: 0.003467\n",
      " \tTraining Stability: 0.0\n",
      " \tAAR: -7.204\n",
      " \tSES: 0\n",
      " \tMean Reward: -1000.0\n",
      " \tStd Reward: 0.0\n",
      "\n"
     ]
    },
    {
     "name": "stderr",
     "output_type": "stream",
     "text": [
      "\n",
      " 43%|█████████████████████▋                            | 87/201 [05:04<06:17,  3.31s/it]\u001b[A\n",
      " 44%|█████████████████████▉                            | 88/201 [05:07<06:07,  3.25s/it]\u001b[A\n",
      " 44%|██████████████████████▏                           | 89/201 [05:10<05:59,  3.21s/it]\u001b[A\n",
      " 45%|██████████████████████▍                           | 90/201 [05:13<05:55,  3.21s/it]\u001b[A\n",
      " 45%|██████████████████████▋                           | 91/201 [05:16<05:53,  3.21s/it]\u001b[A"
     ]
    },
    {
     "name": "stdout",
     "output_type": "stream",
     "text": [
      "Evaluation 90 (Epsilon=None):\n",
      "\tTraining Gravity: 0.003524\n",
      " \tTraining Stability: 0.0\n",
      " \tAAR: -7.102\n",
      " \tSES: 0\n",
      " \tMean Reward: -1000.0\n",
      " \tStd Reward: 0.0\n",
      "\n"
     ]
    },
    {
     "name": "stderr",
     "output_type": "stream",
     "text": [
      "\n",
      " 46%|██████████████████████▉                           | 92/201 [05:20<05:52,  3.23s/it]\u001b[A\n",
      " 46%|███████████████████████▏                          | 93/201 [05:23<05:52,  3.27s/it]\u001b[A\n",
      " 47%|███████████████████████▍                          | 94/201 [05:26<05:55,  3.32s/it]\u001b[A\n",
      " 47%|███████████████████████▋                          | 95/201 [05:30<05:57,  3.37s/it]\u001b[A\n",
      " 48%|███████████████████████▉                          | 96/201 [05:33<05:57,  3.40s/it]\u001b[A"
     ]
    },
    {
     "name": "stdout",
     "output_type": "stream",
     "text": [
      "Evaluation 95 (Epsilon=None):\n",
      "\tTraining Gravity: 0.00358\n",
      " \tTraining Stability: 0.0\n",
      " \tAAR: -6.982\n",
      " \tSES: 0\n",
      " \tMean Reward: -1000.0\n",
      " \tStd Reward: 0.0\n",
      "\n"
     ]
    },
    {
     "name": "stderr",
     "output_type": "stream",
     "text": [
      "\n",
      " 48%|████████████████████████▏                         | 97/201 [05:37<05:56,  3.43s/it]\u001b[A\n",
      " 49%|████████████████████████▍                         | 98/201 [05:40<05:54,  3.45s/it]\u001b[A\n",
      " 49%|████████████████████████▋                         | 99/201 [05:44<05:51,  3.45s/it]\u001b[A\n",
      " 50%|████████████████████████▍                        | 100/201 [05:47<05:47,  3.44s/it]\u001b[A\n",
      " 50%|████████████████████████▌                        | 101/201 [05:51<05:43,  3.44s/it]\u001b[A"
     ]
    },
    {
     "name": "stdout",
     "output_type": "stream",
     "text": [
      "Evaluation 100 (Epsilon=None):\n",
      "\tTraining Gravity: 0.003636\n",
      " \tTraining Stability: 0.0\n",
      " \tAAR: -6.877\n",
      " \tSES: 0\n",
      " \tMean Reward: -1000.0\n",
      " \tStd Reward: 0.0\n",
      "\n"
     ]
    },
    {
     "name": "stderr",
     "output_type": "stream",
     "text": [
      "\n",
      " 51%|████████████████████████▊                        | 102/201 [05:54<05:41,  3.45s/it]\u001b[A\n",
      " 51%|█████████████████████████                        | 103/201 [05:58<05:38,  3.45s/it]\u001b[A\n",
      " 52%|█████████████████████████▎                       | 104/201 [06:01<05:34,  3.45s/it]\u001b[A\n",
      " 52%|█████████████████████████▌                       | 105/201 [06:04<05:30,  3.45s/it]\u001b[A\n",
      " 53%|█████████████████████████▊                       | 106/201 [06:08<05:29,  3.47s/it]\u001b[A"
     ]
    },
    {
     "name": "stdout",
     "output_type": "stream",
     "text": [
      "Evaluation 105 (Epsilon=None):\n",
      "\tTraining Gravity: 0.003692\n",
      " \tTraining Stability: 0.0\n",
      " \tAAR: -6.775\n",
      " \tSES: 0\n",
      " \tMean Reward: -1000.0\n",
      " \tStd Reward: 0.0\n",
      "\n"
     ]
    },
    {
     "name": "stderr",
     "output_type": "stream",
     "text": [
      "\n",
      " 53%|██████████████████████████                       | 107/201 [06:11<05:24,  3.45s/it]\u001b[A\n",
      " 54%|██████████████████████████▎                      | 108/201 [06:15<05:21,  3.46s/it]\u001b[A\n",
      " 54%|██████████████████████████▌                      | 109/201 [06:18<05:15,  3.43s/it]\u001b[A\n",
      " 55%|██████████████████████████▊                      | 110/201 [06:21<05:04,  3.35s/it]\u001b[A\n",
      " 55%|███████████████████████████                      | 111/201 [06:25<04:59,  3.32s/it]\u001b[A"
     ]
    },
    {
     "name": "stdout",
     "output_type": "stream",
     "text": [
      "Evaluation 110 (Epsilon=None):\n",
      "\tTraining Gravity: 0.003749\n",
      " \tTraining Stability: 0.0\n",
      " \tAAR: -6.666\n",
      " \tSES: 0\n",
      " \tMean Reward: -1000.0\n",
      " \tStd Reward: 0.0\n",
      "\n"
     ]
    },
    {
     "name": "stderr",
     "output_type": "stream",
     "text": [
      "\n",
      " 56%|███████████████████████████▎                     | 112/201 [06:28<04:47,  3.23s/it]\u001b[A\n",
      " 56%|███████████████████████████▌                     | 113/201 [06:31<04:37,  3.16s/it]\u001b[A\n",
      " 57%|███████████████████████████▊                     | 114/201 [06:34<04:30,  3.11s/it]\u001b[A\n",
      " 57%|████████████████████████████                     | 115/201 [06:37<04:24,  3.08s/it]\u001b[A\n",
      " 58%|████████████████████████████▎                    | 116/201 [06:40<04:20,  3.07s/it]\u001b[A"
     ]
    },
    {
     "name": "stdout",
     "output_type": "stream",
     "text": [
      "Evaluation 115 (Epsilon=None):\n",
      "\tTraining Gravity: 0.003805\n",
      " \tTraining Stability: 0.0\n",
      " \tAAR: -6.574\n",
      " \tSES: 0\n",
      " \tMean Reward: -1000.0\n",
      " \tStd Reward: 0.0\n",
      "\n"
     ]
    },
    {
     "name": "stderr",
     "output_type": "stream",
     "text": [
      "\n",
      " 58%|████████████████████████████▌                    | 117/201 [06:43<04:15,  3.04s/it]\u001b[A\n",
      " 59%|████████████████████████████▊                    | 118/201 [06:46<04:11,  3.03s/it]\u001b[A\n",
      " 59%|█████████████████████████████                    | 119/201 [06:49<04:13,  3.10s/it]\u001b[A\n",
      " 60%|█████████████████████████████▎                   | 120/201 [06:52<04:11,  3.11s/it]\u001b[A\n",
      " 60%|█████████████████████████████▍                   | 121/201 [06:55<04:11,  3.14s/it]\u001b[A"
     ]
    },
    {
     "name": "stdout",
     "output_type": "stream",
     "text": [
      "Evaluation 120 (Epsilon=None):\n",
      "\tTraining Gravity: 0.003861\n",
      " \tTraining Stability: 0.0\n",
      " \tAAR: -6.491\n",
      " \tSES: 0\n",
      " \tMean Reward: -1000.0\n",
      " \tStd Reward: 0.0\n",
      "\n"
     ]
    },
    {
     "name": "stderr",
     "output_type": "stream",
     "text": [
      "\n",
      " 61%|█████████████████████████████▋                   | 122/201 [06:58<04:11,  3.18s/it]\u001b[A\n",
      " 61%|█████████████████████████████▉                   | 123/201 [07:02<04:10,  3.21s/it]\u001b[A\n",
      " 62%|██████████████████████████████▏                  | 124/201 [07:05<04:10,  3.25s/it]\u001b[A\n",
      " 62%|██████████████████████████████▍                  | 125/201 [07:09<04:11,  3.31s/it]\u001b[A\n",
      " 63%|██████████████████████████████▋                  | 126/201 [07:12<04:13,  3.37s/it]\u001b[A"
     ]
    },
    {
     "name": "stdout",
     "output_type": "stream",
     "text": [
      "Evaluation 125 (Epsilon=None):\n",
      "\tTraining Gravity: 0.003917\n",
      " \tTraining Stability: 0.0\n",
      " \tAAR: -6.378\n",
      " \tSES: 0\n",
      " \tMean Reward: -1000.0\n",
      " \tStd Reward: 0.0\n",
      "\n"
     ]
    },
    {
     "name": "stderr",
     "output_type": "stream",
     "text": [
      "\n",
      " 63%|██████████████████████████████▉                  | 127/201 [07:16<04:15,  3.45s/it]\u001b[A\n",
      " 64%|███████████████████████████████▏                 | 128/201 [07:19<04:16,  3.51s/it]\u001b[A\n",
      " 64%|███████████████████████████████▍                 | 129/201 [07:23<04:20,  3.62s/it]\u001b[A\n",
      " 65%|███████████████████████████████▋                 | 130/201 [07:27<04:20,  3.68s/it]\u001b[A\n",
      " 65%|███████████████████████████████▉                 | 131/201 [07:31<04:23,  3.76s/it]\u001b[A"
     ]
    },
    {
     "name": "stdout",
     "output_type": "stream",
     "text": [
      "Evaluation 130 (Epsilon=None):\n",
      "\tTraining Gravity: 0.003974\n",
      " \tTraining Stability: 0.0\n",
      " \tAAR: -6.281\n",
      " \tSES: 0\n",
      " \tMean Reward: -1000.0\n",
      " \tStd Reward: 0.0\n",
      "\n"
     ]
    },
    {
     "name": "stderr",
     "output_type": "stream",
     "text": [
      "\n",
      " 66%|████████████████████████████████▏                | 132/201 [07:35<04:21,  3.78s/it]\u001b[A\n",
      " 66%|████████████████████████████████▍                | 133/201 [07:39<04:18,  3.80s/it]\u001b[A\n",
      " 67%|████████████████████████████████▋                | 134/201 [07:42<04:14,  3.80s/it]\u001b[A\n",
      " 67%|████████████████████████████████▉                | 135/201 [07:46<04:11,  3.81s/it]\u001b[A\n",
      " 68%|█████████████████████████████████▏               | 136/201 [07:50<04:07,  3.81s/it]\u001b[A"
     ]
    },
    {
     "name": "stdout",
     "output_type": "stream",
     "text": [
      "Evaluation 135 (Epsilon=None):\n",
      "\tTraining Gravity: 0.00403\n",
      " \tTraining Stability: 0.0\n",
      " \tAAR: -6.204\n",
      " \tSES: 0\n",
      " \tMean Reward: -1000.0\n",
      " \tStd Reward: 0.0\n",
      "\n"
     ]
    },
    {
     "name": "stderr",
     "output_type": "stream",
     "text": [
      "\n",
      " 68%|█████████████████████████████████▍               | 137/201 [07:54<04:04,  3.82s/it]\u001b[A\n",
      " 69%|█████████████████████████████████▋               | 138/201 [07:58<04:03,  3.86s/it]\u001b[A\n",
      " 69%|█████████████████████████████████▉               | 139/201 [08:02<03:58,  3.85s/it]\u001b[A\n",
      " 70%|██████████████████████████████████▏              | 140/201 [08:06<03:53,  3.83s/it]\u001b[A\n",
      " 70%|██████████████████████████████████▎              | 141/201 [08:09<03:45,  3.76s/it]\u001b[A"
     ]
    },
    {
     "name": "stdout",
     "output_type": "stream",
     "text": [
      "Evaluation 140 (Epsilon=None):\n",
      "\tTraining Gravity: 0.004086\n",
      " \tTraining Stability: 0.0\n",
      " \tAAR: -6.12\n",
      " \tSES: 0\n",
      " \tMean Reward: -1000.0\n",
      " \tStd Reward: 0.0\n",
      "\n"
     ]
    },
    {
     "name": "stderr",
     "output_type": "stream",
     "text": [
      "\n",
      " 71%|██████████████████████████████████▌              | 142/201 [08:13<03:38,  3.71s/it]\u001b[A\n",
      " 71%|██████████████████████████████████▊              | 143/201 [08:16<03:30,  3.62s/it]\u001b[A\n",
      " 72%|███████████████████████████████████              | 144/201 [08:20<03:22,  3.56s/it]\u001b[A\n",
      " 72%|███████████████████████████████████▎             | 145/201 [08:23<03:14,  3.47s/it]\u001b[A\n",
      " 73%|███████████████████████████████████▌             | 146/201 [08:26<03:08,  3.43s/it]\u001b[A"
     ]
    },
    {
     "name": "stdout",
     "output_type": "stream",
     "text": [
      "Evaluation 145 (Epsilon=None):\n",
      "\tTraining Gravity: 0.004142\n",
      " \tTraining Stability: 0.0\n",
      " \tAAR: -6.03\n",
      " \tSES: 0\n",
      " \tMean Reward: -1000.0\n",
      " \tStd Reward: 0.0\n",
      "\n"
     ]
    },
    {
     "name": "stderr",
     "output_type": "stream",
     "text": [
      "\n",
      " 73%|███████████████████████████████████▊             | 147/201 [08:30<03:04,  3.41s/it]\u001b[A\n",
      " 74%|████████████████████████████████████             | 148/201 [08:33<02:56,  3.32s/it]\u001b[A\n",
      " 74%|████████████████████████████████████▎            | 149/201 [08:36<02:49,  3.27s/it]\u001b[A\n",
      " 75%|████████████████████████████████████▌            | 150/201 [08:39<02:44,  3.23s/it]\u001b[A\n",
      " 75%|████████████████████████████████████▊            | 151/201 [08:42<02:39,  3.20s/it]\u001b[A"
     ]
    },
    {
     "name": "stdout",
     "output_type": "stream",
     "text": [
      "Evaluation 150 (Epsilon=None):\n",
      "\tTraining Gravity: 0.004199\n",
      " \tTraining Stability: 0.0\n",
      " \tAAR: -5.951\n",
      " \tSES: 0\n",
      " \tMean Reward: -1000.0\n",
      " \tStd Reward: 0.0\n",
      "\n"
     ]
    },
    {
     "name": "stderr",
     "output_type": "stream",
     "text": [
      "\n",
      " 76%|█████████████████████████████████████            | 152/201 [08:45<02:35,  3.18s/it]\u001b[A\n",
      " 76%|█████████████████████████████████████▎           | 153/201 [08:48<02:31,  3.16s/it]\u001b[A\n",
      " 77%|█████████████████████████████████████▌           | 154/201 [08:51<02:28,  3.16s/it]\u001b[A\n",
      " 77%|█████████████████████████████████████▊           | 155/201 [08:55<02:25,  3.15s/it]\u001b[A\n",
      " 78%|██████████████████████████████████████           | 156/201 [08:58<02:21,  3.15s/it]\u001b[A"
     ]
    },
    {
     "name": "stdout",
     "output_type": "stream",
     "text": [
      "Evaluation 155 (Epsilon=None):\n",
      "\tTraining Gravity: 0.004255\n",
      " \tTraining Stability: 0.0\n",
      " \tAAR: -5.882\n",
      " \tSES: 0\n",
      " \tMean Reward: -1000.0\n",
      " \tStd Reward: 0.0\n",
      "\n"
     ]
    },
    {
     "name": "stderr",
     "output_type": "stream",
     "text": [
      "\n",
      " 78%|██████████████████████████████████████▎          | 157/201 [09:01<02:18,  3.14s/it]\u001b[A\n",
      " 79%|██████████████████████████████████████▌          | 158/201 [09:04<02:14,  3.13s/it]\u001b[A\n",
      " 79%|██████████████████████████████████████▊          | 159/201 [09:07<02:12,  3.16s/it]\u001b[A\n",
      " 80%|███████████████████████████████████████          | 160/201 [09:10<02:09,  3.15s/it]\u001b[A\n",
      " 80%|███████████████████████████████████████▏         | 161/201 [09:13<02:05,  3.15s/it]\u001b[A"
     ]
    },
    {
     "name": "stdout",
     "output_type": "stream",
     "text": [
      "Evaluation 160 (Epsilon=None):\n",
      "\tTraining Gravity: 0.004311\n",
      " \tTraining Stability: 0.0\n",
      " \tAAR: -5.803\n",
      " \tSES: 0\n",
      " \tMean Reward: -1000.0\n",
      " \tStd Reward: 0.0\n",
      "\n"
     ]
    },
    {
     "name": "stderr",
     "output_type": "stream",
     "text": [
      "\n",
      " 81%|███████████████████████████████████████▍         | 162/201 [09:17<02:02,  3.15s/it]\u001b[A\n",
      " 81%|███████████████████████████████████████▋         | 163/201 [09:20<01:59,  3.14s/it]\u001b[A\n",
      " 82%|███████████████████████████████████████▉         | 164/201 [09:23<01:56,  3.16s/it]\u001b[A\n",
      " 82%|████████████████████████████████████████▏        | 165/201 [09:26<01:53,  3.16s/it]\u001b[A\n",
      " 83%|████████████████████████████████████████▍        | 166/201 [09:29<01:51,  3.19s/it]\u001b[A"
     ]
    },
    {
     "name": "stdout",
     "output_type": "stream",
     "text": [
      "Evaluation 165 (Epsilon=None):\n",
      "\tTraining Gravity: 0.004367\n",
      " \tTraining Stability: 0.0\n",
      " \tAAR: -5.724\n",
      " \tSES: 0\n",
      " \tMean Reward: -1000.0\n",
      " \tStd Reward: 0.0\n",
      "\n"
     ]
    },
    {
     "name": "stderr",
     "output_type": "stream",
     "text": [
      "\n",
      " 83%|████████████████████████████████████████▋        | 167/201 [09:33<01:49,  3.21s/it]\u001b[A\n",
      " 84%|████████████████████████████████████████▉        | 168/201 [09:36<01:46,  3.23s/it]\u001b[A\n",
      " 84%|█████████████████████████████████████████▏       | 169/201 [09:39<01:43,  3.25s/it]\u001b[A\n",
      " 85%|█████████████████████████████████████████▍       | 170/201 [09:42<01:40,  3.25s/it]\u001b[A\n",
      " 85%|█████████████████████████████████████████▋       | 171/201 [09:46<01:38,  3.28s/it]\u001b[A"
     ]
    },
    {
     "name": "stdout",
     "output_type": "stream",
     "text": [
      "Evaluation 170 (Epsilon=None):\n",
      "\tTraining Gravity: 0.004424\n",
      " \tTraining Stability: 0.0\n",
      " \tAAR: -5.653\n",
      " \tSES: 0\n",
      " \tMean Reward: -1000.0\n",
      " \tStd Reward: 0.0\n",
      "\n"
     ]
    },
    {
     "name": "stderr",
     "output_type": "stream",
     "text": [
      "\n",
      " 86%|█████████████████████████████████████████▉       | 172/201 [09:49<01:36,  3.32s/it]\u001b[A\n",
      " 86%|██████████████████████████████████████████▏      | 173/201 [09:53<01:34,  3.36s/it]\u001b[A\n",
      " 87%|██████████████████████████████████████████▍      | 174/201 [09:56<01:31,  3.39s/it]\u001b[A\n",
      " 87%|██████████████████████████████████████████▋      | 175/201 [10:00<01:28,  3.39s/it]\u001b[A\n",
      " 88%|██████████████████████████████████████████▉      | 176/201 [10:03<01:25,  3.41s/it]\u001b[A"
     ]
    },
    {
     "name": "stdout",
     "output_type": "stream",
     "text": [
      "Evaluation 175 (Epsilon=None):\n",
      "\tTraining Gravity: 0.00448\n",
      " \tTraining Stability: 0.0\n",
      " \tAAR: -5.586\n",
      " \tSES: 0\n",
      " \tMean Reward: -1000.0\n",
      " \tStd Reward: 0.0\n",
      "\n"
     ]
    },
    {
     "name": "stderr",
     "output_type": "stream",
     "text": [
      "\n",
      " 88%|███████████████████████████████████████████▏     | 177/201 [10:06<01:22,  3.42s/it]\u001b[A\n",
      " 89%|███████████████████████████████████████████▍     | 178/201 [10:10<01:18,  3.42s/it]\u001b[A\n",
      " 89%|███████████████████████████████████████████▋     | 179/201 [10:13<01:16,  3.47s/it]\u001b[A\n",
      " 90%|███████████████████████████████████████████▉     | 180/201 [10:17<01:13,  3.52s/it]\u001b[A\n",
      " 90%|████████████████████████████████████████████     | 181/201 [10:21<01:11,  3.55s/it]\u001b[A"
     ]
    },
    {
     "name": "stdout",
     "output_type": "stream",
     "text": [
      "Evaluation 180 (Epsilon=None):\n",
      "\tTraining Gravity: 0.004536\n",
      " \tTraining Stability: 0.0\n",
      " \tAAR: -5.522\n",
      " \tSES: 0\n",
      " \tMean Reward: -1000.0\n",
      " \tStd Reward: 0.0\n",
      "\n"
     ]
    },
    {
     "name": "stderr",
     "output_type": "stream",
     "text": [
      "\n",
      " 91%|████████████████████████████████████████████▎    | 182/201 [10:24<01:08,  3.58s/it]\u001b[A\n",
      " 91%|████████████████████████████████████████████▌    | 183/201 [10:28<01:03,  3.55s/it]\u001b[A\n",
      " 92%|████████████████████████████████████████████▊    | 184/201 [10:31<01:00,  3.54s/it]\u001b[A\n",
      " 92%|█████████████████████████████████████████████    | 185/201 [10:35<00:56,  3.50s/it]\u001b[A\n",
      " 93%|█████████████████████████████████████████████▎   | 186/201 [10:38<00:52,  3.50s/it]\u001b[A"
     ]
    },
    {
     "name": "stdout",
     "output_type": "stream",
     "text": [
      "Evaluation 185 (Epsilon=None):\n",
      "\tTraining Gravity: 0.004592\n",
      " \tTraining Stability: 0.0\n",
      " \tAAR: -5.444\n",
      " \tSES: 0\n",
      " \tMean Reward: -1000.0\n",
      " \tStd Reward: 0.0\n",
      "\n"
     ]
    },
    {
     "name": "stderr",
     "output_type": "stream",
     "text": [
      "\n",
      " 93%|█████████████████████████████████████████████▌   | 187/201 [10:42<00:48,  3.50s/it]\u001b[A\n",
      " 94%|█████████████████████████████████████████████▊   | 188/201 [10:45<00:45,  3.48s/it]\u001b[A\n",
      " 94%|██████████████████████████████████████████████   | 189/201 [10:49<00:41,  3.47s/it]\u001b[A\n",
      " 95%|██████████████████████████████████████████████▎  | 190/201 [10:52<00:38,  3.46s/it]\u001b[A\n",
      " 95%|██████████████████████████████████████████████▌  | 191/201 [10:56<00:34,  3.46s/it]\u001b[A"
     ]
    },
    {
     "name": "stdout",
     "output_type": "stream",
     "text": [
      "Evaluation 190 (Epsilon=None):\n",
      "\tTraining Gravity: 0.004649\n",
      " \tTraining Stability: 0.0\n",
      " \tAAR: -5.38\n",
      " \tSES: 0\n",
      " \tMean Reward: -1000.0\n",
      " \tStd Reward: 0.0\n",
      "\n"
     ]
    },
    {
     "name": "stderr",
     "output_type": "stream",
     "text": [
      "\n",
      " 96%|██████████████████████████████████████████████▊  | 192/201 [10:59<00:31,  3.46s/it]\u001b[A\n",
      " 96%|███████████████████████████████████████████████  | 193/201 [11:02<00:27,  3.46s/it]\u001b[A\n",
      " 97%|███████████████████████████████████████████████▎ | 194/201 [11:06<00:24,  3.46s/it]\u001b[A\n",
      " 97%|███████████████████████████████████████████████▌ | 195/201 [11:09<00:20,  3.49s/it]\u001b[A\n",
      " 98%|███████████████████████████████████████████████▊ | 196/201 [11:13<00:17,  3.43s/it]\u001b[A"
     ]
    },
    {
     "name": "stdout",
     "output_type": "stream",
     "text": [
      "Evaluation 195 (Epsilon=None):\n",
      "\tTraining Gravity: 0.004705\n",
      " \tTraining Stability: 0.0\n",
      " \tAAR: -5.32\n",
      " \tSES: 0\n",
      " \tMean Reward: -1000.0\n",
      " \tStd Reward: 0.0\n",
      "\n"
     ]
    },
    {
     "name": "stderr",
     "output_type": "stream",
     "text": [
      "\n",
      " 98%|████████████████████████████████████████████████ | 197/201 [11:16<00:13,  3.40s/it]\u001b[A\n",
      " 99%|████████████████████████████████████████████████▎| 198/201 [11:19<00:09,  3.33s/it]\u001b[A\n",
      " 99%|████████████████████████████████████████████████▌| 199/201 [11:22<00:06,  3.30s/it]\u001b[A\n",
      "100%|████████████████████████████████████████████████▊| 200/201 [11:26<00:03,  3.26s/it]\u001b[A\n",
      "100%|█████████████████████████████████████████████████| 201/201 [11:29<00:00,  3.43s/it]\u001b[A"
     ]
    },
    {
     "name": "stdout",
     "output_type": "stream",
     "text": [
      "Evaluation 200 (Epsilon=None):\n",
      "\tTraining Gravity: 0.004761\n",
      " \tTraining Stability: 0.0\n",
      " \tAAR: -5.256\n",
      " \tSES: 0\n",
      " \tMean Reward: -1000.0\n",
      " \tStd Reward: 0.0\n",
      "\n"
     ]
    },
    {
     "name": "stderr",
     "output_type": "stream",
     "text": [
      "\n",
      " 25%|████████████▎                                    | 3/12 [42:19<1:59:23, 795.99s/it]\n",
      "  0%|                                                           | 0/201 [00:00<?, ?it/s]\u001b[A/Users/danorel/miniconda3/envs/aclarel_3.11.3/lib/python3.11/site-packages/gym/utils/passive_env_checker.py:233: DeprecationWarning: `np.bool8` is a deprecated alias for `np.bool_`.  (Deprecated NumPy 1.24)\n",
      "  if not isinstance(terminated, (bool, np.bool8)):\n",
      "\n",
      "  0%|▎                                                  | 1/201 [00:02<07:44,  2.32s/it]\u001b[A"
     ]
    },
    {
     "name": "stdout",
     "output_type": "stream",
     "text": [
      "Evaluation 0 (Epsilon=None):\n",
      "\tTraining Gravity: 0.00025\n",
      " \tTraining Stability: 0.0\n",
      " \tAAR: -99.36\n",
      " \tSES: 0\n",
      " \tMean Reward: -1000.0\n",
      " \tStd Reward: 0.0\n",
      "\n"
     ]
    },
    {
     "name": "stderr",
     "output_type": "stream",
     "text": [
      "\n",
      "  1%|▌                                                  | 2/201 [00:05<09:02,  2.73s/it]\u001b[A\n",
      "  1%|▊                                                  | 3/201 [00:06<06:54,  2.09s/it]\u001b[A\n",
      "  2%|█                                                  | 4/201 [00:09<08:03,  2.45s/it]\u001b[A\n",
      "  2%|█▎                                                 | 5/201 [00:11<07:48,  2.39s/it]\u001b[A\n",
      "  3%|█▌                                                 | 6/201 [00:14<08:26,  2.60s/it]\u001b[A"
     ]
    },
    {
     "name": "stdout",
     "output_type": "stream",
     "text": [
      "Evaluation 5 (Epsilon=None):\n",
      "\tTraining Gravity: 0.000307\n",
      " \tTraining Stability: 0.0\n",
      " \tAAR: -81.421\n",
      " \tSES: 0\n",
      " \tMean Reward: -1000.0\n",
      " \tStd Reward: 0.0\n",
      "\n"
     ]
    },
    {
     "name": "stderr",
     "output_type": "stream",
     "text": [
      "\n",
      "  3%|█▊                                                 | 7/201 [00:18<08:57,  2.77s/it]\u001b[A\n",
      "  4%|██                                                 | 8/201 [00:20<08:47,  2.73s/it]\u001b[A\n",
      "  4%|██▎                                                | 9/201 [00:23<09:11,  2.87s/it]\u001b[A\n",
      "  5%|██▍                                               | 10/201 [00:27<09:36,  3.02s/it]\u001b[A\n",
      "  5%|██▋                                               | 11/201 [00:30<09:34,  3.02s/it]\u001b[A"
     ]
    },
    {
     "name": "stdout",
     "output_type": "stream",
     "text": [
      "Evaluation 10 (Epsilon=None):\n",
      "\tTraining Gravity: 0.000363\n",
      " \tTraining Stability: 0.0\n",
      " \tAAR: -68.489\n",
      " \tSES: 0\n",
      " \tMean Reward: -1000.0\n",
      " \tStd Reward: 0.0\n",
      "\n"
     ]
    },
    {
     "name": "stderr",
     "output_type": "stream",
     "text": [
      "\n",
      "  6%|██▉                                               | 12/201 [00:32<08:26,  2.68s/it]\u001b[A\n",
      "  6%|███▏                                              | 13/201 [00:35<08:57,  2.86s/it]\u001b[A\n",
      "  7%|███▍                                              | 14/201 [00:38<09:00,  2.89s/it]\u001b[A\n",
      "  7%|███▋                                              | 15/201 [00:41<09:18,  3.00s/it]\u001b[A\n",
      "  8%|███▉                                              | 16/201 [00:44<09:30,  3.08s/it]\u001b[A"
     ]
    },
    {
     "name": "stdout",
     "output_type": "stream",
     "text": [
      "Evaluation 15 (Epsilon=None):\n",
      "\tTraining Gravity: 0.00042\n",
      " \tTraining Stability: 0.0\n",
      " \tAAR: -59.47\n",
      " \tSES: 0\n",
      " \tMean Reward: -1000.0\n",
      " \tStd Reward: 0.0\n",
      "\n"
     ]
    },
    {
     "name": "stderr",
     "output_type": "stream",
     "text": [
      "\n",
      "  8%|████▏                                             | 17/201 [00:48<09:38,  3.14s/it]\u001b[A\n",
      "  9%|████▍                                             | 18/201 [00:51<09:16,  3.04s/it]\u001b[A\n",
      "  9%|████▋                                             | 19/201 [00:53<08:29,  2.80s/it]\u001b[A\n",
      " 10%|████▉                                             | 20/201 [00:56<08:53,  2.95s/it]\u001b[A\n",
      " 10%|█████▏                                            | 21/201 [00:59<08:24,  2.80s/it]\u001b[A"
     ]
    },
    {
     "name": "stdout",
     "output_type": "stream",
     "text": [
      "Evaluation 20 (Epsilon=None):\n",
      "\tTraining Gravity: 0.000476\n",
      " \tTraining Stability: 0.0\n",
      " \tAAR: -52.135\n",
      " \tSES: 0\n",
      " \tMean Reward: -1000.0\n",
      " \tStd Reward: 0.0\n",
      "\n"
     ]
    },
    {
     "name": "stderr",
     "output_type": "stream",
     "text": [
      "\n",
      " 11%|█████▍                                            | 22/201 [01:02<08:47,  2.95s/it]\u001b[A\n",
      " 11%|█████▋                                            | 23/201 [01:05<09:00,  3.04s/it]\u001b[A\n",
      " 12%|█████▉                                            | 24/201 [01:08<09:13,  3.13s/it]\u001b[A\n",
      " 12%|██████▏                                           | 25/201 [01:12<09:18,  3.17s/it]\u001b[A\n",
      " 13%|██████▍                                           | 26/201 [01:15<09:24,  3.22s/it]\u001b[A"
     ]
    },
    {
     "name": "stdout",
     "output_type": "stream",
     "text": [
      "Evaluation 25 (Epsilon=None):\n",
      "\tTraining Gravity: 0.000533\n",
      " \tTraining Stability: 0.0\n",
      " \tAAR: -46.996\n",
      " \tSES: 0\n",
      " \tMean Reward: -1000.0\n",
      " \tStd Reward: 0.0\n",
      "\n"
     ]
    },
    {
     "name": "stderr",
     "output_type": "stream",
     "text": [
      "\n",
      " 13%|██████▋                                           | 27/201 [01:17<08:27,  2.92s/it]\u001b[A\n",
      " 14%|██████▉                                           | 28/201 [01:19<07:15,  2.52s/it]\u001b[A\n",
      " 14%|███████▏                                          | 29/201 [01:22<08:02,  2.81s/it]\u001b[A\n",
      " 15%|███████▍                                          | 30/201 [01:26<08:45,  3.08s/it]\u001b[A\n",
      " 15%|███████▋                                          | 31/201 [01:28<07:59,  2.82s/it]\u001b[A"
     ]
    },
    {
     "name": "stdout",
     "output_type": "stream",
     "text": [
      "Evaluation 30 (Epsilon=None):\n",
      "\tTraining Gravity: 0.000589\n",
      " \tTraining Stability: 0.0\n",
      " \tAAR: -42.06\n",
      " \tSES: 0\n",
      " \tMean Reward: -1000.0\n",
      " \tStd Reward: 0.0\n",
      "\n"
     ]
    },
    {
     "name": "stderr",
     "output_type": "stream",
     "text": [
      "\n",
      " 16%|███████▉                                          | 32/201 [01:31<07:30,  2.67s/it]\u001b[A\n",
      " 16%|████████▏                                         | 33/201 [01:34<07:54,  2.82s/it]\u001b[A\n",
      " 17%|████████▍                                         | 34/201 [01:37<08:21,  3.00s/it]\u001b[A\n",
      " 17%|████████▋                                         | 35/201 [01:40<08:04,  2.92s/it]\u001b[A\n",
      " 18%|████████▉                                         | 36/201 [01:43<08:27,  3.07s/it]\u001b[A"
     ]
    },
    {
     "name": "stdout",
     "output_type": "stream",
     "text": [
      "Evaluation 35 (Epsilon=None):\n",
      "\tTraining Gravity: 0.000646\n",
      " \tTraining Stability: 0.0\n",
      " \tAAR: -38.729\n",
      " \tSES: 0\n",
      " \tMean Reward: -1000.0\n",
      " \tStd Reward: 0.0\n",
      "\n"
     ]
    },
    {
     "name": "stderr",
     "output_type": "stream",
     "text": [
      "\n",
      " 18%|█████████▏                                        | 37/201 [01:47<08:41,  3.18s/it]\u001b[A\n",
      " 19%|█████████▍                                        | 38/201 [01:49<07:58,  2.93s/it]\u001b[A\n",
      " 19%|█████████▋                                        | 39/201 [01:53<08:20,  3.09s/it]\u001b[A\n",
      " 20%|█████████▉                                        | 40/201 [01:56<08:34,  3.19s/it]\u001b[A\n",
      " 20%|██████████▏                                       | 41/201 [01:58<07:23,  2.77s/it]\u001b[A"
     ]
    },
    {
     "name": "stdout",
     "output_type": "stream",
     "text": [
      "Evaluation 40 (Epsilon=None):\n",
      "\tTraining Gravity: 0.000702\n",
      " \tTraining Stability: 0.0\n",
      " \tAAR: -35.203\n",
      " \tSES: 0\n",
      " \tMean Reward: -1000.0\n",
      " \tStd Reward: 0.0\n",
      "\n"
     ]
    },
    {
     "name": "stderr",
     "output_type": "stream",
     "text": [
      "\n",
      " 21%|██████████▍                                       | 42/201 [02:01<07:53,  2.98s/it]\u001b[A\n",
      " 21%|██████████▋                                       | 43/201 [02:05<08:04,  3.07s/it]\u001b[A\n",
      " 22%|██████████▉                                       | 44/201 [02:08<08:23,  3.21s/it]\u001b[A\n",
      " 22%|███████████▏                                      | 45/201 [02:11<07:55,  3.05s/it]\u001b[A\n",
      " 23%|███████████▍                                      | 46/201 [02:14<08:03,  3.12s/it]\u001b[A"
     ]
    },
    {
     "name": "stdout",
     "output_type": "stream",
     "text": [
      "Evaluation 45 (Epsilon=None):\n",
      "\tTraining Gravity: 0.000759\n",
      " \tTraining Stability: 0.0\n",
      " \tAAR: -32.89\n",
      " \tSES: 0\n",
      " \tMean Reward: -1000.0\n",
      " \tStd Reward: 0.0\n",
      "\n"
     ]
    },
    {
     "name": "stderr",
     "output_type": "stream",
     "text": [
      "\n",
      " 23%|███████████▋                                      | 47/201 [02:17<08:09,  3.18s/it]\u001b[A\n",
      " 24%|███████████▉                                      | 48/201 [02:21<08:10,  3.21s/it]\u001b[A\n",
      " 24%|████████████▏                                     | 49/201 [02:24<08:11,  3.24s/it]\u001b[A\n",
      " 25%|████████████▍                                     | 50/201 [02:27<08:17,  3.30s/it]\u001b[A\n",
      " 25%|████████████▋                                     | 51/201 [02:31<08:13,  3.29s/it]\u001b[A"
     ]
    },
    {
     "name": "stdout",
     "output_type": "stream",
     "text": [
      "Evaluation 50 (Epsilon=None):\n",
      "\tTraining Gravity: 0.000815\n",
      " \tTraining Stability: 0.0\n",
      " \tAAR: -30.678\n",
      " \tSES: 0\n",
      " \tMean Reward: -1000.0\n",
      " \tStd Reward: 0.0\n",
      "\n"
     ]
    },
    {
     "name": "stderr",
     "output_type": "stream",
     "text": [
      "\n",
      " 26%|████████████▉                                     | 52/201 [02:34<08:10,  3.29s/it]\u001b[A\n",
      " 26%|█████████████▏                                    | 53/201 [02:37<08:06,  3.28s/it]\u001b[A\n",
      " 27%|█████████████▍                                    | 54/201 [02:40<08:02,  3.29s/it]\u001b[A\n",
      " 27%|█████████████▋                                    | 55/201 [02:44<07:58,  3.28s/it]\u001b[A\n",
      " 28%|█████████████▉                                    | 56/201 [02:47<07:54,  3.27s/it]\u001b[A"
     ]
    },
    {
     "name": "stdout",
     "output_type": "stream",
     "text": [
      "Evaluation 55 (Epsilon=None):\n",
      "\tTraining Gravity: 0.000872\n",
      " \tTraining Stability: 0.0\n",
      " \tAAR: -28.779\n",
      " \tSES: 0\n",
      " \tMean Reward: -1000.0\n",
      " \tStd Reward: 0.0\n",
      "\n"
     ]
    },
    {
     "name": "stderr",
     "output_type": "stream",
     "text": [
      "\n",
      " 28%|██████████████▏                                   | 57/201 [02:50<07:52,  3.28s/it]\u001b[A\n",
      " 29%|██████████████▍                                   | 58/201 [02:54<07:48,  3.28s/it]\u001b[A\n",
      " 29%|██████████████▋                                   | 59/201 [02:57<07:50,  3.31s/it]\u001b[A\n",
      " 30%|██████████████▉                                   | 60/201 [03:01<07:57,  3.38s/it]\u001b[A\n",
      " 30%|███████████████▏                                  | 61/201 [03:04<07:56,  3.40s/it]\u001b[A"
     ]
    },
    {
     "name": "stdout",
     "output_type": "stream",
     "text": [
      "Evaluation 60 (Epsilon=None):\n",
      "\tTraining Gravity: 0.000928\n",
      " \tTraining Stability: 0.0\n",
      " \tAAR: -26.841\n",
      " \tSES: 0\n",
      " \tMean Reward: -1000.0\n",
      " \tStd Reward: 0.0\n",
      "\n"
     ]
    },
    {
     "name": "stderr",
     "output_type": "stream",
     "text": [
      "\n",
      " 31%|███████████████▍                                  | 62/201 [03:07<07:50,  3.38s/it]\u001b[A\n",
      " 31%|███████████████▋                                  | 63/201 [03:11<07:42,  3.35s/it]\u001b[A\n",
      " 32%|███████████████▉                                  | 64/201 [03:14<07:22,  3.23s/it]\u001b[A\n",
      " 32%|████████████████▏                                 | 65/201 [03:16<06:49,  3.01s/it]\u001b[A\n",
      " 33%|████████████████▍                                 | 66/201 [03:19<06:57,  3.09s/it]\u001b[A"
     ]
    },
    {
     "name": "stdout",
     "output_type": "stream",
     "text": [
      "Evaluation 65 (Epsilon=None):\n",
      "\tTraining Gravity: 0.000985\n",
      " \tTraining Stability: 0.0\n",
      " \tAAR: -25.367\n",
      " \tSES: 0\n",
      " \tMean Reward: -1000.0\n",
      " \tStd Reward: 0.0\n",
      "\n"
     ]
    },
    {
     "name": "stderr",
     "output_type": "stream",
     "text": [
      "\n",
      " 33%|████████████████▋                                 | 67/201 [03:23<07:01,  3.15s/it]\u001b[A\n",
      " 34%|████████████████▉                                 | 68/201 [03:26<07:04,  3.19s/it]\u001b[A\n",
      " 34%|█████████████████▏                                | 69/201 [03:29<06:57,  3.17s/it]\u001b[A\n",
      " 35%|█████████████████▍                                | 70/201 [03:32<06:52,  3.15s/it]\u001b[A\n",
      " 35%|█████████████████▋                                | 71/201 [03:35<06:48,  3.15s/it]\u001b[A"
     ]
    },
    {
     "name": "stdout",
     "output_type": "stream",
     "text": [
      "Evaluation 70 (Epsilon=None):\n",
      "\tTraining Gravity: 0.001041\n",
      " \tTraining Stability: 0.0\n",
      " \tAAR: -23.974\n",
      " \tSES: 0\n",
      " \tMean Reward: -1000.0\n",
      " \tStd Reward: 0.0\n",
      "\n"
     ]
    },
    {
     "name": "stderr",
     "output_type": "stream",
     "text": [
      "\n",
      " 36%|█████████████████▉                                | 72/201 [03:38<06:44,  3.13s/it]\u001b[A\n",
      " 36%|██████████████████▏                               | 73/201 [03:41<06:41,  3.13s/it]\u001b[A\n",
      " 37%|██████████████████▍                               | 74/201 [03:45<06:37,  3.13s/it]\u001b[A\n",
      " 37%|██████████████████▋                               | 75/201 [03:48<06:34,  3.13s/it]\u001b[A\n",
      " 38%|██████████████████▉                               | 76/201 [03:51<06:34,  3.15s/it]\u001b[A"
     ]
    },
    {
     "name": "stdout",
     "output_type": "stream",
     "text": [
      "Evaluation 75 (Epsilon=None):\n",
      "\tTraining Gravity: 0.001098\n",
      " \tTraining Stability: 0.0\n",
      " \tAAR: -22.78\n",
      " \tSES: 0\n",
      " \tMean Reward: -1000.0\n",
      " \tStd Reward: 0.0\n",
      "\n"
     ]
    },
    {
     "name": "stderr",
     "output_type": "stream",
     "text": [
      "\n",
      " 38%|███████████████████▏                              | 77/201 [03:54<06:30,  3.15s/it]\u001b[A\n",
      " 39%|███████████████████▍                              | 78/201 [03:57<06:28,  3.15s/it]\u001b[A\n",
      " 39%|███████████████████▋                              | 79/201 [04:01<06:30,  3.20s/it]\u001b[A\n",
      " 40%|███████████████████▉                              | 80/201 [04:04<06:27,  3.20s/it]\u001b[A\n",
      " 40%|████████████████████▏                             | 81/201 [04:07<06:23,  3.20s/it]\u001b[A"
     ]
    },
    {
     "name": "stdout",
     "output_type": "stream",
     "text": [
      "Evaluation 80 (Epsilon=None):\n",
      "\tTraining Gravity: 0.001155\n",
      " \tTraining Stability: 0.0\n",
      " \tAAR: -21.658\n",
      " \tSES: 0\n",
      " \tMean Reward: -1000.0\n",
      " \tStd Reward: 0.0\n",
      "\n"
     ]
    },
    {
     "name": "stderr",
     "output_type": "stream",
     "text": [
      "\n",
      " 41%|████████████████████▍                             | 82/201 [04:10<06:21,  3.21s/it]\u001b[A\n",
      " 41%|████████████████████▋                             | 83/201 [04:14<06:24,  3.25s/it]\u001b[A\n",
      " 42%|████████████████████▉                             | 84/201 [04:17<06:27,  3.31s/it]\u001b[A\n",
      " 42%|█████████████████████▏                            | 85/201 [04:20<06:28,  3.35s/it]\u001b[A\n",
      " 43%|█████████████████████▍                            | 86/201 [04:24<06:29,  3.39s/it]\u001b[A"
     ]
    },
    {
     "name": "stdout",
     "output_type": "stream",
     "text": [
      "Evaluation 85 (Epsilon=None):\n",
      "\tTraining Gravity: 0.001211\n",
      " \tTraining Stability: 0.0\n",
      " \tAAR: -20.662\n",
      " \tSES: 0\n",
      " \tMean Reward: -1000.0\n",
      " \tStd Reward: 0.0\n",
      "\n"
     ]
    },
    {
     "name": "stderr",
     "output_type": "stream",
     "text": [
      "\n",
      " 43%|█████████████████████▋                            | 87/201 [04:28<06:35,  3.47s/it]\u001b[A\n",
      " 44%|█████████████████████▉                            | 88/201 [04:31<06:37,  3.52s/it]\u001b[A\n",
      " 44%|██████████████████████▏                           | 89/201 [04:35<06:39,  3.57s/it]\u001b[A\n",
      " 45%|██████████████████████▍                           | 90/201 [04:39<07:00,  3.79s/it]\u001b[A\n",
      " 45%|██████████████████████▋                           | 91/201 [04:43<07:09,  3.91s/it]\u001b[A"
     ]
    },
    {
     "name": "stdout",
     "output_type": "stream",
     "text": [
      "Evaluation 90 (Epsilon=None):\n",
      "\tTraining Gravity: 0.001268\n",
      " \tTraining Stability: 0.0\n",
      " \tAAR: -19.738\n",
      " \tSES: 0\n",
      " \tMean Reward: -1000.0\n",
      " \tStd Reward: 0.0\n",
      "\n"
     ]
    },
    {
     "name": "stderr",
     "output_type": "stream",
     "text": [
      "\n",
      " 46%|██████████████████████▉                           | 92/201 [04:48<07:16,  4.01s/it]\u001b[A\n",
      " 46%|███████████████████████▏                          | 93/201 [04:52<07:17,  4.05s/it]\u001b[A\n",
      " 47%|███████████████████████▍                          | 94/201 [04:56<07:13,  4.05s/it]\u001b[A\n",
      " 47%|███████████████████████▋                          | 95/201 [05:00<07:06,  4.03s/it]\u001b[A\n",
      " 48%|███████████████████████▉                          | 96/201 [05:04<07:03,  4.03s/it]\u001b[A"
     ]
    },
    {
     "name": "stdout",
     "output_type": "stream",
     "text": [
      "Evaluation 95 (Epsilon=None):\n",
      "\tTraining Gravity: 0.001324\n",
      " \tTraining Stability: 0.0\n",
      " \tAAR: -18.891\n",
      " \tSES: 0\n",
      " \tMean Reward: -1000.0\n",
      " \tStd Reward: 0.0\n",
      "\n"
     ]
    },
    {
     "name": "stderr",
     "output_type": "stream",
     "text": [
      "\n",
      " 48%|████████████████████████▏                         | 97/201 [05:08<07:00,  4.04s/it]\u001b[A\n",
      " 49%|████████████████████████▍                         | 98/201 [05:12<06:51,  3.99s/it]\u001b[A\n",
      " 49%|████████████████████████▋                         | 99/201 [05:15<06:32,  3.84s/it]\u001b[A\n",
      " 50%|████████████████████████▍                        | 100/201 [05:19<06:13,  3.70s/it]\u001b[A\n",
      " 50%|████████████████████████▌                        | 101/201 [05:22<05:56,  3.57s/it]\u001b[A"
     ]
    },
    {
     "name": "stdout",
     "output_type": "stream",
     "text": [
      "Evaluation 100 (Epsilon=None):\n",
      "\tTraining Gravity: 0.001381\n",
      " \tTraining Stability: 0.0\n",
      " \tAAR: -18.096\n",
      " \tSES: 0\n",
      " \tMean Reward: -1000.0\n",
      " \tStd Reward: 0.0\n",
      "\n"
     ]
    },
    {
     "name": "stderr",
     "output_type": "stream",
     "text": [
      "\n",
      " 51%|████████████████████████▊                        | 102/201 [05:25<05:41,  3.45s/it]\u001b[A\n",
      " 51%|█████████████████████████                        | 103/201 [05:28<05:29,  3.36s/it]\u001b[A\n",
      " 52%|█████████████████████████▎                       | 104/201 [05:31<05:18,  3.28s/it]\u001b[A\n",
      " 52%|█████████████████████████▌                       | 105/201 [05:34<05:10,  3.24s/it]\u001b[A\n",
      " 53%|█████████████████████████▊                       | 106/201 [05:38<05:09,  3.26s/it]\u001b[A"
     ]
    },
    {
     "name": "stdout",
     "output_type": "stream",
     "text": [
      "Evaluation 105 (Epsilon=None):\n",
      "\tTraining Gravity: 0.001437\n",
      " \tTraining Stability: 0.0\n",
      " \tAAR: -17.398\n",
      " \tSES: 0\n",
      " \tMean Reward: -1000.0\n",
      " \tStd Reward: 0.0\n",
      "\n"
     ]
    },
    {
     "name": "stderr",
     "output_type": "stream",
     "text": [
      "\n",
      " 53%|██████████████████████████                       | 107/201 [05:41<05:02,  3.22s/it]\u001b[A\n",
      " 54%|██████████████████████████▎                      | 108/201 [05:44<05:00,  3.23s/it]\u001b[A\n",
      " 54%|██████████████████████████▌                      | 109/201 [05:47<04:53,  3.19s/it]\u001b[A\n",
      " 55%|██████████████████████████▊                      | 110/201 [05:50<04:48,  3.17s/it]\u001b[A\n",
      " 55%|███████████████████████████                      | 111/201 [05:53<04:43,  3.15s/it]\u001b[A"
     ]
    },
    {
     "name": "stdout",
     "output_type": "stream",
     "text": [
      "Evaluation 110 (Epsilon=None):\n",
      "\tTraining Gravity: 0.001494\n",
      " \tTraining Stability: 0.0\n",
      " \tAAR: -16.748\n",
      " \tSES: 0\n",
      " \tMean Reward: -1000.0\n",
      " \tStd Reward: 0.0\n",
      "\n"
     ]
    },
    {
     "name": "stderr",
     "output_type": "stream",
     "text": [
      "\n",
      " 56%|███████████████████████████▎                     | 112/201 [05:56<04:37,  3.12s/it]\u001b[A\n",
      " 56%|███████████████████████████▌                     | 113/201 [05:59<04:30,  3.07s/it]\u001b[A\n",
      " 57%|███████████████████████████▊                     | 114/201 [06:02<04:27,  3.07s/it]\u001b[A\n",
      " 57%|████████████████████████████                     | 115/201 [06:06<04:25,  3.09s/it]\u001b[A\n",
      " 58%|████████████████████████████▎                    | 116/201 [06:09<04:25,  3.12s/it]\u001b[A"
     ]
    },
    {
     "name": "stdout",
     "output_type": "stream",
     "text": [
      "Evaluation 115 (Epsilon=None):\n",
      "\tTraining Gravity: 0.00155\n",
      " \tTraining Stability: 0.0\n",
      " \tAAR: -16.149\n",
      " \tSES: 0\n",
      " \tMean Reward: -1000.0\n",
      " \tStd Reward: 0.0\n",
      "\n"
     ]
    },
    {
     "name": "stderr",
     "output_type": "stream",
     "text": [
      "\n",
      " 58%|████████████████████████████▌                    | 117/201 [06:12<04:23,  3.13s/it]\u001b[A\n",
      " 59%|████████████████████████████▊                    | 118/201 [06:15<04:20,  3.14s/it]\u001b[A\n",
      " 59%|█████████████████████████████                    | 119/201 [06:19<04:23,  3.22s/it]\u001b[A\n",
      " 60%|█████████████████████████████▎                   | 120/201 [06:22<04:22,  3.24s/it]\u001b[A\n",
      " 60%|█████████████████████████████▍                   | 121/201 [06:25<04:20,  3.26s/it]\u001b[A"
     ]
    },
    {
     "name": "stdout",
     "output_type": "stream",
     "text": [
      "Evaluation 120 (Epsilon=None):\n",
      "\tTraining Gravity: 0.001607\n",
      " \tTraining Stability: 0.0\n",
      " \tAAR: -15.535\n",
      " \tSES: 0\n",
      " \tMean Reward: -1000.0\n",
      " \tStd Reward: 0.0\n",
      "\n"
     ]
    },
    {
     "name": "stderr",
     "output_type": "stream",
     "text": [
      "\n",
      " 61%|█████████████████████████████▋                   | 122/201 [06:28<04:18,  3.27s/it]\u001b[A\n",
      " 61%|█████████████████████████████▉                   | 123/201 [06:32<04:15,  3.28s/it]\u001b[A\n",
      " 62%|██████████████████████████████▏                  | 124/201 [06:35<04:12,  3.28s/it]\u001b[A\n",
      " 62%|██████████████████████████████▍                  | 125/201 [06:38<04:09,  3.28s/it]\u001b[A\n",
      " 63%|██████████████████████████████▋                  | 126/201 [06:42<04:05,  3.28s/it]\u001b[A"
     ]
    },
    {
     "name": "stdout",
     "output_type": "stream",
     "text": [
      "Evaluation 125 (Epsilon=None):\n",
      "\tTraining Gravity: 0.001663\n",
      " \tTraining Stability: 0.0\n",
      " \tAAR: -15.064\n",
      " \tSES: 0\n",
      " \tMean Reward: -1000.0\n",
      " \tStd Reward: 0.0\n",
      "\n"
     ]
    },
    {
     "name": "stderr",
     "output_type": "stream",
     "text": [
      "\n",
      " 63%|██████████████████████████████▉                  | 127/201 [06:45<04:02,  3.28s/it]\u001b[A\n",
      " 64%|███████████████████████████████▏                 | 128/201 [06:48<03:59,  3.28s/it]\u001b[A\n",
      " 64%|███████████████████████████████▍                 | 129/201 [06:51<03:52,  3.23s/it]\u001b[A\n",
      " 65%|███████████████████████████████▋                 | 130/201 [06:54<03:47,  3.20s/it]\u001b[A\n",
      " 65%|███████████████████████████████▉                 | 131/201 [06:58<03:44,  3.21s/it]\u001b[A"
     ]
    },
    {
     "name": "stdout",
     "output_type": "stream",
     "text": [
      "Evaluation 130 (Epsilon=None):\n",
      "\tTraining Gravity: 0.00172\n",
      " \tTraining Stability: 0.0\n",
      " \tAAR: -14.554\n",
      " \tSES: 0\n",
      " \tMean Reward: -1000.0\n",
      " \tStd Reward: 0.0\n",
      "\n"
     ]
    },
    {
     "name": "stderr",
     "output_type": "stream",
     "text": [
      "\n",
      " 66%|████████████████████████████████▏                | 132/201 [07:01<03:39,  3.18s/it]\u001b[A\n",
      " 66%|████████████████████████████████▍                | 133/201 [07:04<03:35,  3.17s/it]\u001b[A\n",
      " 67%|████████████████████████████████▋                | 134/201 [07:07<03:31,  3.16s/it]\u001b[A\n",
      " 67%|████████████████████████████████▉                | 135/201 [07:10<03:31,  3.21s/it]\u001b[A\n",
      " 68%|█████████████████████████████████▏               | 136/201 [07:14<03:32,  3.27s/it]\u001b[A"
     ]
    },
    {
     "name": "stdout",
     "output_type": "stream",
     "text": [
      "Evaluation 135 (Epsilon=None):\n",
      "\tTraining Gravity: 0.001776\n",
      " \tTraining Stability: 0.0\n",
      " \tAAR: -14.054\n",
      " \tSES: 0\n",
      " \tMean Reward: -1000.0\n",
      " \tStd Reward: 0.0\n",
      "\n"
     ]
    },
    {
     "name": "stderr",
     "output_type": "stream",
     "text": [
      "\n",
      " 68%|█████████████████████████████████▍               | 137/201 [07:17<03:32,  3.32s/it]\u001b[A\n",
      " 69%|█████████████████████████████████▋               | 138/201 [07:20<03:27,  3.30s/it]\u001b[A\n",
      " 69%|█████████████████████████████████▉               | 139/201 [07:24<03:21,  3.25s/it]\u001b[A\n",
      " 70%|██████████████████████████████████▏              | 140/201 [07:27<03:15,  3.21s/it]\u001b[A\n",
      " 70%|██████████████████████████████████▎              | 141/201 [07:30<03:11,  3.19s/it]\u001b[A"
     ]
    },
    {
     "name": "stdout",
     "output_type": "stream",
     "text": [
      "Evaluation 140 (Epsilon=None):\n",
      "\tTraining Gravity: 0.001833\n",
      " \tTraining Stability: 0.0\n",
      " \tAAR: -13.673\n",
      " \tSES: 0\n",
      " \tMean Reward: -1000.0\n",
      " \tStd Reward: 0.0\n",
      "\n"
     ]
    },
    {
     "name": "stderr",
     "output_type": "stream",
     "text": [
      "\n",
      " 71%|██████████████████████████████████▌              | 142/201 [07:33<03:07,  3.17s/it]\u001b[A\n",
      " 71%|██████████████████████████████████▊              | 143/201 [07:36<03:03,  3.16s/it]\u001b[A\n",
      " 72%|███████████████████████████████████              | 144/201 [07:39<02:59,  3.16s/it]\u001b[A\n",
      " 72%|███████████████████████████████████▎             | 145/201 [07:42<02:56,  3.15s/it]\u001b[A\n",
      " 73%|███████████████████████████████████▌             | 146/201 [07:46<02:53,  3.16s/it]\u001b[A"
     ]
    },
    {
     "name": "stdout",
     "output_type": "stream",
     "text": [
      "Evaluation 145 (Epsilon=None):\n",
      "\tTraining Gravity: 0.001889\n",
      " \tTraining Stability: 0.0\n",
      " \tAAR: -13.243\n",
      " \tSES: 0\n",
      " \tMean Reward: -1000.0\n",
      " \tStd Reward: 0.0\n",
      "\n"
     ]
    },
    {
     "name": "stderr",
     "output_type": "stream",
     "text": [
      "\n",
      " 73%|███████████████████████████████████▊             | 147/201 [07:49<02:52,  3.20s/it]\u001b[A\n",
      " 74%|████████████████████████████████████             | 148/201 [07:52<02:50,  3.22s/it]\u001b[A\n",
      " 74%|████████████████████████████████████▎            | 149/201 [07:55<02:48,  3.24s/it]\u001b[A\n",
      " 75%|████████████████████████████████████▌            | 150/201 [07:59<02:45,  3.25s/it]\u001b[A\n",
      " 75%|████████████████████████████████████▊            | 151/201 [08:02<02:40,  3.22s/it]\u001b[A"
     ]
    },
    {
     "name": "stdout",
     "output_type": "stream",
     "text": [
      "Evaluation 150 (Epsilon=None):\n",
      "\tTraining Gravity: 0.001946\n",
      " \tTraining Stability: 0.0\n",
      " \tAAR: -12.832\n",
      " \tSES: 0\n",
      " \tMean Reward: -1000.0\n",
      " \tStd Reward: 0.0\n",
      "\n"
     ]
    },
    {
     "name": "stderr",
     "output_type": "stream",
     "text": [
      "\n",
      " 76%|█████████████████████████████████████            | 152/201 [08:05<02:36,  3.19s/it]\u001b[A\n",
      " 76%|█████████████████████████████████████▎           | 153/201 [08:08<02:32,  3.17s/it]\u001b[A\n",
      " 77%|█████████████████████████████████████▌           | 154/201 [08:11<02:28,  3.17s/it]\u001b[A\n",
      " 77%|█████████████████████████████████████▊           | 155/201 [08:14<02:24,  3.15s/it]\u001b[A\n",
      " 78%|██████████████████████████████████████           | 156/201 [08:17<02:21,  3.15s/it]\u001b[A"
     ]
    },
    {
     "name": "stdout",
     "output_type": "stream",
     "text": [
      "Evaluation 155 (Epsilon=None):\n",
      "\tTraining Gravity: 0.002003\n",
      " \tTraining Stability: 0.0\n",
      " \tAAR: -12.485\n",
      " \tSES: 0\n",
      " \tMean Reward: -1000.0\n",
      " \tStd Reward: 0.0\n",
      "\n"
     ]
    },
    {
     "name": "stderr",
     "output_type": "stream",
     "text": [
      "\n",
      " 78%|██████████████████████████████████████▎          | 157/201 [08:21<02:18,  3.15s/it]\u001b[A\n",
      " 79%|██████████████████████████████████████▌          | 158/201 [08:24<02:16,  3.17s/it]\u001b[A\n",
      " 79%|██████████████████████████████████████▊          | 159/201 [08:27<02:14,  3.21s/it]\u001b[A\n",
      " 80%|███████████████████████████████████████          | 160/201 [08:30<02:12,  3.22s/it]\u001b[A\n",
      " 80%|███████████████████████████████████████▏         | 161/201 [08:34<02:09,  3.24s/it]\u001b[A"
     ]
    },
    {
     "name": "stdout",
     "output_type": "stream",
     "text": [
      "Evaluation 160 (Epsilon=None):\n",
      "\tTraining Gravity: 0.002059\n",
      " \tTraining Stability: 0.0\n",
      " \tAAR: -12.137\n",
      " \tSES: 0\n",
      " \tMean Reward: -1000.0\n",
      " \tStd Reward: 0.0\n",
      "\n"
     ]
    },
    {
     "name": "stderr",
     "output_type": "stream",
     "text": [
      "\n",
      " 81%|███████████████████████████████████████▍         | 162/201 [08:37<02:07,  3.27s/it]\u001b[A\n",
      " 81%|███████████████████████████████████████▋         | 163/201 [08:40<02:04,  3.27s/it]\u001b[A\n",
      " 82%|███████████████████████████████████████▉         | 164/201 [08:44<02:01,  3.28s/it]\u001b[A\n",
      " 82%|████████████████████████████████████████▏        | 165/201 [08:47<01:58,  3.28s/it]\u001b[A\n",
      " 83%|████████████████████████████████████████▍        | 166/201 [08:50<01:54,  3.28s/it]\u001b[A"
     ]
    },
    {
     "name": "stdout",
     "output_type": "stream",
     "text": [
      "Evaluation 165 (Epsilon=None):\n",
      "\tTraining Gravity: 0.002116\n",
      " \tTraining Stability: 0.0\n",
      " \tAAR: -11.811\n",
      " \tSES: 0\n",
      " \tMean Reward: -1000.0\n",
      " \tStd Reward: 0.0\n",
      "\n"
     ]
    },
    {
     "name": "stderr",
     "output_type": "stream",
     "text": [
      "\n",
      " 83%|████████████████████████████████████████▋        | 167/201 [08:54<01:52,  3.32s/it]\u001b[A\n",
      " 84%|████████████████████████████████████████▉        | 168/201 [08:57<01:50,  3.35s/it]\u001b[A\n",
      " 84%|█████████████████████████████████████████▏       | 169/201 [09:00<01:46,  3.34s/it]\u001b[A\n",
      " 85%|█████████████████████████████████████████▍       | 170/201 [09:04<01:44,  3.38s/it]\u001b[A\n",
      " 85%|█████████████████████████████████████████▋       | 171/201 [09:07<01:40,  3.36s/it]\u001b[A"
     ]
    },
    {
     "name": "stdout",
     "output_type": "stream",
     "text": [
      "Evaluation 170 (Epsilon=None):\n",
      "\tTraining Gravity: 0.002172\n",
      " \tTraining Stability: 0.0\n",
      " \tAAR: -11.519\n",
      " \tSES: 0\n",
      " \tMean Reward: -1000.0\n",
      " \tStd Reward: 0.0\n",
      "\n"
     ]
    },
    {
     "name": "stderr",
     "output_type": "stream",
     "text": [
      "\n",
      " 86%|█████████████████████████████████████████▉       | 172/201 [09:10<01:37,  3.35s/it]\u001b[A\n",
      " 86%|██████████████████████████████████████████▏      | 173/201 [09:14<01:32,  3.31s/it]\u001b[A\n",
      " 87%|██████████████████████████████████████████▍      | 174/201 [09:17<01:27,  3.26s/it]\u001b[A\n",
      " 87%|██████████████████████████████████████████▋      | 175/201 [09:20<01:23,  3.23s/it]\u001b[A\n",
      " 88%|██████████████████████████████████████████▉      | 176/201 [09:23<01:20,  3.20s/it]\u001b[A"
     ]
    },
    {
     "name": "stdout",
     "output_type": "stream",
     "text": [
      "Evaluation 175 (Epsilon=None):\n",
      "\tTraining Gravity: 0.002229\n",
      " \tTraining Stability: 0.0\n",
      " \tAAR: -11.218\n",
      " \tSES: 0\n",
      " \tMean Reward: -1000.0\n",
      " \tStd Reward: 0.0\n",
      "\n"
     ]
    },
    {
     "name": "stderr",
     "output_type": "stream",
     "text": [
      "\n",
      " 88%|███████████████████████████████████████████▏     | 177/201 [09:26<01:16,  3.19s/it]\u001b[A\n",
      " 89%|███████████████████████████████████████████▍     | 178/201 [09:29<01:12,  3.17s/it]\u001b[A\n",
      " 89%|███████████████████████████████████████████▋     | 179/201 [09:32<01:09,  3.15s/it]\u001b[A\n",
      " 90%|███████████████████████████████████████████▉     | 180/201 [09:36<01:06,  3.15s/it]\u001b[A\n",
      " 90%|████████████████████████████████████████████     | 181/201 [09:39<01:03,  3.18s/it]\u001b[A"
     ]
    },
    {
     "name": "stdout",
     "output_type": "stream",
     "text": [
      "Evaluation 180 (Epsilon=None):\n",
      "\tTraining Gravity: 0.002285\n",
      " \tTraining Stability: 0.0\n",
      " \tAAR: -10.936\n",
      " \tSES: 0\n",
      " \tMean Reward: -1000.0\n",
      " \tStd Reward: 0.0\n",
      "\n"
     ]
    },
    {
     "name": "stderr",
     "output_type": "stream",
     "text": [
      "\n",
      " 91%|████████████████████████████████████████████▎    | 182/201 [09:42<01:00,  3.19s/it]\u001b[A\n",
      " 91%|████████████████████████████████████████████▌    | 183/201 [09:45<00:57,  3.21s/it]\u001b[A\n",
      " 92%|████████████████████████████████████████████▊    | 184/201 [09:49<00:55,  3.26s/it]\u001b[A\n",
      " 92%|█████████████████████████████████████████████    | 185/201 [09:52<00:53,  3.32s/it]\u001b[A\n",
      " 93%|█████████████████████████████████████████████▎   | 186/201 [09:56<00:50,  3.35s/it]\u001b[A"
     ]
    },
    {
     "name": "stdout",
     "output_type": "stream",
     "text": [
      "Evaluation 185 (Epsilon=None):\n",
      "\tTraining Gravity: 0.002342\n",
      " \tTraining Stability: 0.0\n",
      " \tAAR: -10.653\n",
      " \tSES: 0\n",
      " \tMean Reward: -1000.0\n",
      " \tStd Reward: 0.0\n",
      "\n"
     ]
    },
    {
     "name": "stderr",
     "output_type": "stream",
     "text": [
      "\n",
      " 93%|█████████████████████████████████████████████▌   | 187/201 [09:59<00:47,  3.38s/it]\u001b[A\n",
      " 94%|█████████████████████████████████████████████▊   | 188/201 [10:03<00:44,  3.45s/it]\u001b[A\n",
      " 94%|██████████████████████████████████████████████   | 189/201 [10:06<00:41,  3.49s/it]\u001b[A\n",
      " 95%|██████████████████████████████████████████████▎  | 190/201 [10:10<00:38,  3.49s/it]\u001b[A\n",
      " 95%|██████████████████████████████████████████████▌  | 191/201 [10:13<00:34,  3.48s/it]\u001b[A"
     ]
    },
    {
     "name": "stdout",
     "output_type": "stream",
     "text": [
      "Evaluation 190 (Epsilon=None):\n",
      "\tTraining Gravity: 0.002398\n",
      " \tTraining Stability: 0.0\n",
      " \tAAR: -10.43\n",
      " \tSES: 0\n",
      " \tMean Reward: -1000.0\n",
      " \tStd Reward: 0.0\n",
      "\n"
     ]
    },
    {
     "name": "stderr",
     "output_type": "stream",
     "text": [
      "\n",
      " 96%|██████████████████████████████████████████████▊  | 192/201 [10:17<00:31,  3.47s/it]\u001b[A\n",
      " 96%|███████████████████████████████████████████████  | 193/201 [10:20<00:27,  3.47s/it]\u001b[A\n",
      " 97%|███████████████████████████████████████████████▎ | 194/201 [10:24<00:24,  3.46s/it]\u001b[A\n",
      " 97%|███████████████████████████████████████████████▌ | 195/201 [10:27<00:20,  3.46s/it]\u001b[A\n",
      " 98%|███████████████████████████████████████████████▊ | 196/201 [10:31<00:17,  3.50s/it]\u001b[A"
     ]
    },
    {
     "name": "stdout",
     "output_type": "stream",
     "text": [
      "Evaluation 195 (Epsilon=None):\n",
      "\tTraining Gravity: 0.002455\n",
      " \tTraining Stability: 0.0\n",
      " \tAAR: -10.187\n",
      " \tSES: 0\n",
      " \tMean Reward: -1000.0\n",
      " \tStd Reward: 0.0\n",
      "\n"
     ]
    },
    {
     "name": "stderr",
     "output_type": "stream",
     "text": [
      "\n",
      " 98%|████████████████████████████████████████████████ | 197/201 [10:34<00:13,  3.48s/it]\u001b[A\n",
      " 99%|████████████████████████████████████████████████▎| 198/201 [10:37<00:10,  3.42s/it]\u001b[A\n",
      " 99%|████████████████████████████████████████████████▌| 199/201 [10:41<00:06,  3.37s/it]\u001b[A\n",
      "100%|████████████████████████████████████████████████▊| 200/201 [10:44<00:03,  3.35s/it]\u001b[A\n",
      "100%|█████████████████████████████████████████████████| 201/201 [10:47<00:00,  3.22s/it]\u001b[A"
     ]
    },
    {
     "name": "stdout",
     "output_type": "stream",
     "text": [
      "Evaluation 200 (Epsilon=None):\n",
      "\tTraining Gravity: 0.0025\n",
      " \tTraining Stability: 0.0\n",
      " \tAAR: -9.993\n",
      " \tSES: 0\n",
      " \tMean Reward: -1000.0\n",
      " \tStd Reward: 0.0\n",
      "\n"
     ]
    },
    {
     "name": "stderr",
     "output_type": "stream",
     "text": [
      "\n",
      " 33%|████████████████▎                                | 4/12 [53:07<1:38:23, 737.90s/it]\n",
      "  0%|                                                           | 0/201 [00:00<?, ?it/s]\u001b[A/Users/danorel/Workspace/Education/University/KMA/Research/aclarel/environments/mountain_car/rl_methods/__init__.py:65: FutureWarning: The behavior of DataFrame concatenation with empty or all-NA entries is deprecated. In a future version, this will no longer exclude empty or all-NA columns when determining the result dtypes. To retain the old behavior, exclude the relevant entries before the concat operation.\n",
      "  self.measurements = pd.concat([self.measurements, measurement], ignore_index=True)\n",
      "\n",
      "  0%|▎                                                  | 1/201 [00:03<10:08,  3.04s/it]\u001b[A"
     ]
    },
    {
     "name": "stdout",
     "output_type": "stream",
     "text": [
      "Evaluation 0 (Epsilon=None):\n",
      "\tTraining Gravity: 0.001375\n",
      " \tTraining Stability: 0.0\n",
      " \tAAR: -18.21\n",
      " \tSES: 0\n",
      " \tMean Reward: -1000.0\n",
      " \tStd Reward: 0.0\n",
      "\n"
     ]
    },
    {
     "name": "stderr",
     "output_type": "stream",
     "text": [
      "\n",
      "  1%|▌                                                  | 2/201 [00:05<09:54,  2.99s/it]\u001b[A\n",
      "  1%|▊                                                  | 3/201 [00:08<09:43,  2.95s/it]\u001b[A\n",
      "  2%|█                                                  | 4/201 [00:11<09:25,  2.87s/it]\u001b[A\n",
      "  2%|█▎                                                 | 5/201 [00:14<09:13,  2.82s/it]\u001b[A\n",
      "  3%|█▌                                                 | 6/201 [00:17<09:05,  2.80s/it]\u001b[A"
     ]
    },
    {
     "name": "stdout",
     "output_type": "stream",
     "text": [
      "Evaluation 5 (Epsilon=None):\n",
      "\tTraining Gravity: 0.001375\n",
      " \tTraining Stability: 0.0\n",
      " \tAAR: -18.172\n",
      " \tSES: 0\n",
      " \tMean Reward: -1000.0\n",
      " \tStd Reward: 0.0\n",
      "\n"
     ]
    },
    {
     "name": "stderr",
     "output_type": "stream",
     "text": [
      "\n",
      "  3%|█▊                                                 | 7/201 [00:19<09:00,  2.79s/it]\u001b[A\n",
      "  4%|██                                                 | 8/201 [00:22<08:59,  2.79s/it]\u001b[A\n",
      "  4%|██▎                                                | 9/201 [00:25<09:00,  2.82s/it]\u001b[A\n",
      "  5%|██▍                                               | 10/201 [00:28<09:00,  2.83s/it]\u001b[A\n",
      "  5%|██▋                                               | 11/201 [00:31<09:02,  2.86s/it]\u001b[A"
     ]
    },
    {
     "name": "stdout",
     "output_type": "stream",
     "text": [
      "Evaluation 10 (Epsilon=None):\n",
      "\tTraining Gravity: 0.001375\n",
      " \tTraining Stability: 0.0\n",
      " \tAAR: -18.223\n",
      " \tSES: 0\n",
      " \tMean Reward: -1000.0\n",
      " \tStd Reward: 0.0\n",
      "\n"
     ]
    },
    {
     "name": "stderr",
     "output_type": "stream",
     "text": [
      "\n",
      "  6%|██▉                                               | 12/201 [00:34<09:12,  2.92s/it]\u001b[A\n",
      "  6%|███▏                                              | 13/201 [00:37<09:23,  3.00s/it]\u001b[A\n",
      "  7%|███▍                                              | 14/201 [00:40<09:27,  3.03s/it]\u001b[A\n",
      "  7%|███▋                                              | 15/201 [00:43<09:34,  3.09s/it]\u001b[A\n",
      "  8%|███▉                                              | 16/201 [00:47<10:00,  3.25s/it]\u001b[A"
     ]
    },
    {
     "name": "stdout",
     "output_type": "stream",
     "text": [
      "Evaluation 15 (Epsilon=None):\n",
      "\tTraining Gravity: 0.001375\n",
      " \tTraining Stability: 0.0\n",
      " \tAAR: -18.179\n",
      " \tSES: 0\n",
      " \tMean Reward: -1000.0\n",
      " \tStd Reward: 0.0\n",
      "\n"
     ]
    },
    {
     "name": "stderr",
     "output_type": "stream",
     "text": [
      "\n",
      "  8%|████▏                                             | 17/201 [00:51<10:17,  3.36s/it]\u001b[A\n",
      "  9%|████▍                                             | 18/201 [00:54<10:19,  3.39s/it]\u001b[A\n",
      "  9%|████▋                                             | 19/201 [00:58<10:21,  3.42s/it]\u001b[A\n",
      " 10%|████▉                                             | 20/201 [01:01<10:35,  3.51s/it]\u001b[A\n",
      " 10%|█████▏                                            | 21/201 [01:05<10:50,  3.61s/it]\u001b[A"
     ]
    },
    {
     "name": "stdout",
     "output_type": "stream",
     "text": [
      "Evaluation 20 (Epsilon=None):\n",
      "\tTraining Gravity: 0.001375\n",
      " \tTraining Stability: 0.0\n",
      " \tAAR: -18.175\n",
      " \tSES: 0\n",
      " \tMean Reward: -1000.0\n",
      " \tStd Reward: 0.0\n",
      "\n"
     ]
    },
    {
     "name": "stderr",
     "output_type": "stream",
     "text": [
      "\n",
      " 11%|█████▍                                            | 22/201 [01:09<11:10,  3.75s/it]\u001b[A\n",
      " 11%|█████▋                                            | 23/201 [01:13<11:21,  3.83s/it]\u001b[A\n",
      " 12%|█████▉                                            | 24/201 [01:17<11:37,  3.94s/it]\u001b[A\n",
      " 12%|██████▏                                           | 25/201 [01:22<11:41,  3.99s/it]\u001b[A\n",
      " 13%|██████▍                                           | 26/201 [01:25<11:29,  3.94s/it]\u001b[A"
     ]
    },
    {
     "name": "stdout",
     "output_type": "stream",
     "text": [
      "Evaluation 25 (Epsilon=None):\n",
      "\tTraining Gravity: 0.001375\n",
      " \tTraining Stability: 0.0\n",
      " \tAAR: -18.082\n",
      " \tSES: 0\n",
      " \tMean Reward: -1000.0\n",
      " \tStd Reward: 0.0\n",
      "\n"
     ]
    },
    {
     "name": "stderr",
     "output_type": "stream",
     "text": [
      "\n",
      " 13%|██████▋                                           | 27/201 [01:30<11:47,  4.06s/it]\u001b[A\n",
      " 14%|██████▉                                           | 28/201 [01:34<11:55,  4.14s/it]\u001b[A\n",
      " 14%|███████▏                                          | 29/201 [01:39<12:10,  4.25s/it]\u001b[A\n",
      " 15%|███████▍                                          | 30/201 [01:42<11:30,  4.04s/it]\u001b[A\n",
      " 15%|███████▋                                          | 31/201 [01:46<11:27,  4.05s/it]\u001b[A"
     ]
    },
    {
     "name": "stdout",
     "output_type": "stream",
     "text": [
      "Evaluation 30 (Epsilon=None):\n",
      "\tTraining Gravity: 0.001375\n",
      " \tTraining Stability: 0.0\n",
      " \tAAR: -18.175\n",
      " \tSES: 0\n",
      " \tMean Reward: -1000.0\n",
      " \tStd Reward: 0.0\n",
      "\n"
     ]
    },
    {
     "name": "stderr",
     "output_type": "stream",
     "text": [
      "\n",
      " 16%|███████▉                                          | 32/201 [01:50<11:25,  4.06s/it]\u001b[A\n",
      " 16%|████████▏                                         | 33/201 [01:54<11:21,  4.05s/it]\u001b[A\n",
      " 17%|████████▍                                         | 34/201 [01:58<11:16,  4.05s/it]\u001b[A\n",
      " 17%|████████▋                                         | 35/201 [02:02<11:00,  3.98s/it]\u001b[A\n",
      " 18%|████████▉                                         | 36/201 [02:06<10:40,  3.88s/it]\u001b[A"
     ]
    },
    {
     "name": "stdout",
     "output_type": "stream",
     "text": [
      "Evaluation 35 (Epsilon=None):\n",
      "\tTraining Gravity: 0.001375\n",
      " \tTraining Stability: 0.0\n",
      " \tAAR: -18.182\n",
      " \tSES: 0\n",
      " \tMean Reward: -1000.0\n",
      " \tStd Reward: 0.0\n",
      "\n"
     ]
    },
    {
     "name": "stderr",
     "output_type": "stream",
     "text": [
      "\n",
      " 18%|█████████▏                                        | 37/201 [02:09<10:19,  3.78s/it]\u001b[A\n",
      " 19%|█████████▍                                        | 38/201 [02:13<09:48,  3.61s/it]\u001b[A\n",
      " 19%|█████████▋                                        | 39/201 [02:16<09:20,  3.46s/it]\u001b[A\n",
      " 20%|█████████▉                                        | 40/201 [02:19<08:59,  3.35s/it]\u001b[A\n",
      " 20%|██████████▏                                       | 41/201 [02:22<08:40,  3.25s/it]\u001b[A"
     ]
    },
    {
     "name": "stdout",
     "output_type": "stream",
     "text": [
      "Evaluation 40 (Epsilon=None):\n",
      "\tTraining Gravity: 0.001375\n",
      " \tTraining Stability: 0.0\n",
      " \tAAR: -18.188\n",
      " \tSES: 0\n",
      " \tMean Reward: -1000.0\n",
      " \tStd Reward: 0.0\n",
      "\n"
     ]
    },
    {
     "name": "stderr",
     "output_type": "stream",
     "text": [
      "\n",
      " 21%|██████████▍                                       | 42/201 [02:25<08:24,  3.17s/it]\u001b[A\n",
      " 21%|██████████▋                                       | 43/201 [02:28<08:07,  3.09s/it]\u001b[A\n",
      " 22%|██████████▉                                       | 44/201 [02:31<07:54,  3.02s/it]\u001b[A\n",
      " 22%|███████████▏                                      | 45/201 [02:33<07:44,  2.98s/it]\u001b[A\n",
      " 23%|███████████▍                                      | 46/201 [02:36<07:37,  2.95s/it]\u001b[A"
     ]
    },
    {
     "name": "stdout",
     "output_type": "stream",
     "text": [
      "Evaluation 45 (Epsilon=None):\n",
      "\tTraining Gravity: 0.001375\n",
      " \tTraining Stability: 0.0\n",
      " \tAAR: -18.193\n",
      " \tSES: 0\n",
      " \tMean Reward: -1000.0\n",
      " \tStd Reward: 0.0\n",
      "\n"
     ]
    },
    {
     "name": "stderr",
     "output_type": "stream",
     "text": [
      "\n",
      " 23%|███████████▋                                      | 47/201 [02:39<07:31,  2.93s/it]\u001b[A\n",
      " 24%|███████████▉                                      | 48/201 [02:42<07:25,  2.91s/it]\u001b[A\n",
      " 24%|████████████▏                                     | 49/201 [02:45<07:25,  2.93s/it]\u001b[A\n",
      " 25%|████████████▍                                     | 50/201 [02:48<07:37,  3.03s/it]\u001b[A\n",
      " 25%|████████████▋                                     | 51/201 [02:52<07:44,  3.10s/it]\u001b[A"
     ]
    },
    {
     "name": "stdout",
     "output_type": "stream",
     "text": [
      "Evaluation 50 (Epsilon=None):\n",
      "\tTraining Gravity: 0.001375\n",
      " \tTraining Stability: 0.0\n",
      " \tAAR: -18.183\n",
      " \tSES: 0\n",
      " \tMean Reward: -1000.0\n",
      " \tStd Reward: 0.0\n",
      "\n"
     ]
    },
    {
     "name": "stderr",
     "output_type": "stream",
     "text": [
      "\n",
      " 26%|████████████▉                                     | 52/201 [02:55<07:53,  3.18s/it]\u001b[A\n",
      " 26%|█████████████▏                                    | 53/201 [02:58<08:02,  3.26s/it]\u001b[A\n",
      " 27%|█████████████▍                                    | 54/201 [03:02<08:06,  3.31s/it]\u001b[A\n",
      " 27%|█████████████▋                                    | 55/201 [03:05<08:06,  3.33s/it]\u001b[A\n",
      " 28%|█████████████▉                                    | 56/201 [03:08<07:58,  3.30s/it]\u001b[A"
     ]
    },
    {
     "name": "stdout",
     "output_type": "stream",
     "text": [
      "Evaluation 55 (Epsilon=None):\n",
      "\tTraining Gravity: 0.001375\n",
      " \tTraining Stability: 0.0\n",
      " \tAAR: -18.094\n",
      " \tSES: 0\n",
      " \tMean Reward: -1000.0\n",
      " \tStd Reward: 0.0\n",
      "\n"
     ]
    },
    {
     "name": "stderr",
     "output_type": "stream",
     "text": [
      "\n",
      " 28%|██████████████▏                                   | 57/201 [03:11<07:46,  3.24s/it]\u001b[A\n",
      " 29%|██████████████▍                                   | 58/201 [03:15<07:38,  3.21s/it]\u001b[A\n",
      " 29%|██████████████▋                                   | 59/201 [03:18<07:32,  3.19s/it]\u001b[A\n",
      " 30%|██████████████▉                                   | 60/201 [03:21<07:27,  3.18s/it]\u001b[A\n",
      " 30%|███████████████▏                                  | 61/201 [03:24<07:22,  3.16s/it]\u001b[A"
     ]
    },
    {
     "name": "stdout",
     "output_type": "stream",
     "text": [
      "Evaluation 60 (Epsilon=None):\n",
      "\tTraining Gravity: 0.001375\n",
      " \tTraining Stability: 0.0\n",
      " \tAAR: -18.188\n",
      " \tSES: 0\n",
      " \tMean Reward: -1000.0\n",
      " \tStd Reward: 0.0\n",
      "\n"
     ]
    },
    {
     "name": "stderr",
     "output_type": "stream",
     "text": [
      "\n",
      " 31%|███████████████▍                                  | 62/201 [03:27<07:12,  3.11s/it]\u001b[A\n",
      " 31%|███████████████▋                                  | 63/201 [03:30<07:05,  3.08s/it]\u001b[A\n",
      " 32%|███████████████▉                                  | 64/201 [03:33<06:39,  2.92s/it]\u001b[A\n",
      " 32%|████████████████▏                                 | 65/201 [03:36<06:41,  2.95s/it]\u001b[A\n",
      " 33%|████████████████▍                                 | 66/201 [03:39<06:40,  2.97s/it]\u001b[A"
     ]
    },
    {
     "name": "stdout",
     "output_type": "stream",
     "text": [
      "Evaluation 65 (Epsilon=None):\n",
      "\tTraining Gravity: 0.001375\n",
      " \tTraining Stability: 0.0\n",
      " \tAAR: -18.207\n",
      " \tSES: 0\n",
      " \tMean Reward: -1000.0\n",
      " \tStd Reward: 0.0\n",
      "\n"
     ]
    },
    {
     "name": "stderr",
     "output_type": "stream",
     "text": [
      "\n",
      " 33%|████████████████▋                                 | 67/201 [03:41<06:28,  2.90s/it]\u001b[A\n",
      " 34%|████████████████▉                                 | 68/201 [03:44<06:29,  2.93s/it]\u001b[A\n",
      " 34%|█████████████████▏                                | 69/201 [03:47<06:29,  2.95s/it]\u001b[A\n",
      " 35%|█████████████████▍                                | 70/201 [03:50<06:32,  2.99s/it]\u001b[A\n",
      " 35%|█████████████████▋                                | 71/201 [03:54<06:35,  3.04s/it]\u001b[A"
     ]
    },
    {
     "name": "stdout",
     "output_type": "stream",
     "text": [
      "Evaluation 70 (Epsilon=None):\n",
      "\tTraining Gravity: 0.001375\n",
      " \tTraining Stability: 0.0\n",
      " \tAAR: -18.173\n",
      " \tSES: 0\n",
      " \tMean Reward: -1000.0\n",
      " \tStd Reward: 0.0\n",
      "\n"
     ]
    },
    {
     "name": "stderr",
     "output_type": "stream",
     "text": [
      "\n",
      " 36%|█████████████████▉                                | 72/201 [03:57<06:39,  3.09s/it]\u001b[A\n",
      " 36%|██████████████████▏                               | 73/201 [04:00<06:48,  3.19s/it]\u001b[A\n",
      " 37%|██████████████████▍                               | 74/201 [04:04<06:55,  3.27s/it]\u001b[A\n",
      " 37%|██████████████████▋                               | 75/201 [04:08<07:14,  3.45s/it]\u001b[A\n",
      " 38%|██████████████████▉                               | 76/201 [04:11<07:26,  3.57s/it]\u001b[A"
     ]
    },
    {
     "name": "stdout",
     "output_type": "stream",
     "text": [
      "Evaluation 75 (Epsilon=None):\n",
      "\tTraining Gravity: 0.001375\n",
      " \tTraining Stability: 0.0\n",
      " \tAAR: -18.197\n",
      " \tSES: 0\n",
      " \tMean Reward: -1000.0\n",
      " \tStd Reward: 0.0\n",
      "\n"
     ]
    },
    {
     "name": "stderr",
     "output_type": "stream",
     "text": [
      "\n",
      " 38%|███████████████████▏                              | 77/201 [04:15<07:32,  3.65s/it]\u001b[A\n",
      " 39%|███████████████████▍                              | 78/201 [04:19<07:31,  3.67s/it]\u001b[A\n",
      " 39%|███████████████████▋                              | 79/201 [04:23<07:33,  3.72s/it]\u001b[A\n",
      " 40%|███████████████████▉                              | 80/201 [04:26<07:06,  3.52s/it]\u001b[A\n",
      " 40%|████████████████████▏                             | 81/201 [04:30<07:17,  3.64s/it]\u001b[A"
     ]
    },
    {
     "name": "stdout",
     "output_type": "stream",
     "text": [
      "Evaluation 80 (Epsilon=None):\n",
      "\tTraining Gravity: 0.001375\n",
      " \tTraining Stability: 0.0\n",
      " \tAAR: -18.18\n",
      " \tSES: 0\n",
      " \tMean Reward: -1000.0\n",
      " \tStd Reward: 0.0\n",
      "\n"
     ]
    },
    {
     "name": "stderr",
     "output_type": "stream",
     "text": [
      "\n",
      " 41%|████████████████████▍                             | 82/201 [04:33<07:13,  3.65s/it]\u001b[A\n",
      " 41%|████████████████████▋                             | 83/201 [04:37<07:04,  3.59s/it]\u001b[A\n",
      " 42%|████████████████████▉                             | 84/201 [04:40<06:54,  3.54s/it]\u001b[A\n",
      " 42%|█████████████████████▏                            | 85/201 [04:44<06:41,  3.46s/it]\u001b[A\n",
      " 43%|█████████████████████▍                            | 86/201 [04:47<06:31,  3.40s/it]\u001b[A"
     ]
    },
    {
     "name": "stdout",
     "output_type": "stream",
     "text": [
      "Evaluation 85 (Epsilon=None):\n",
      "\tTraining Gravity: 0.001375\n",
      " \tTraining Stability: 0.0\n",
      " \tAAR: -18.179\n",
      " \tSES: 0\n",
      " \tMean Reward: -1000.0\n",
      " \tStd Reward: 0.0\n",
      "\n"
     ]
    },
    {
     "name": "stderr",
     "output_type": "stream",
     "text": [
      "\n",
      " 43%|█████████████████████▋                            | 87/201 [04:50<06:18,  3.32s/it]\u001b[A\n",
      " 44%|█████████████████████▉                            | 88/201 [04:52<05:39,  3.00s/it]\u001b[A\n",
      " 44%|██████████████████████▏                           | 89/201 [04:55<05:40,  3.04s/it]\u001b[A\n",
      " 45%|██████████████████████▍                           | 90/201 [04:59<05:41,  3.07s/it]\u001b[A\n",
      " 45%|██████████████████████▋                           | 91/201 [05:02<05:42,  3.11s/it]\u001b[A"
     ]
    },
    {
     "name": "stdout",
     "output_type": "stream",
     "text": [
      "Evaluation 90 (Epsilon=None):\n",
      "\tTraining Gravity: 0.001375\n",
      " \tTraining Stability: 0.0\n",
      " \tAAR: -18.2\n",
      " \tSES: 0\n",
      " \tMean Reward: -1000.0\n",
      " \tStd Reward: 0.0\n",
      "\n"
     ]
    },
    {
     "name": "stderr",
     "output_type": "stream",
     "text": [
      "\n",
      " 46%|██████████████████████▉                           | 92/201 [05:05<05:40,  3.12s/it]\u001b[A\n",
      " 46%|███████████████████████▏                          | 93/201 [05:08<05:43,  3.18s/it]\u001b[A\n",
      " 47%|███████████████████████▍                          | 94/201 [05:11<05:39,  3.17s/it]\u001b[A\n",
      " 47%|███████████████████████▋                          | 95/201 [05:14<05:34,  3.16s/it]\u001b[A\n",
      " 48%|███████████████████████▉                          | 96/201 [05:18<05:31,  3.15s/it]\u001b[A"
     ]
    },
    {
     "name": "stdout",
     "output_type": "stream",
     "text": [
      "Evaluation 95 (Epsilon=None):\n",
      "\tTraining Gravity: 0.001375\n",
      " \tTraining Stability: 0.0\n",
      " \tAAR: -18.183\n",
      " \tSES: 0\n",
      " \tMean Reward: -1000.0\n",
      " \tStd Reward: 0.0\n",
      "\n"
     ]
    },
    {
     "name": "stderr",
     "output_type": "stream",
     "text": [
      "\n",
      " 48%|████████████████████████▏                         | 97/201 [05:21<05:28,  3.16s/it]\u001b[A\n",
      " 49%|████████████████████████▍                         | 98/201 [05:24<05:31,  3.22s/it]\u001b[A\n",
      " 49%|████████████████████████▋                         | 99/201 [05:28<05:34,  3.28s/it]\u001b[A\n",
      " 50%|████████████████████████▍                        | 100/201 [05:31<05:36,  3.33s/it]\u001b[A\n",
      " 50%|████████████████████████▌                        | 101/201 [05:34<05:36,  3.37s/it]\u001b[A"
     ]
    },
    {
     "name": "stdout",
     "output_type": "stream",
     "text": [
      "Evaluation 100 (Epsilon=None):\n",
      "\tTraining Gravity: 0.001375\n",
      " \tTraining Stability: 0.0\n",
      " \tAAR: -18.227\n",
      " \tSES: 0\n",
      " \tMean Reward: -1000.0\n",
      " \tStd Reward: 0.0\n",
      "\n"
     ]
    },
    {
     "name": "stderr",
     "output_type": "stream",
     "text": [
      "\n",
      " 51%|████████████████████████▊                        | 102/201 [05:38<05:37,  3.41s/it]\u001b[A\n",
      " 51%|█████████████████████████                        | 103/201 [05:42<05:42,  3.49s/it]\u001b[A\n",
      " 52%|█████████████████████████▎                       | 104/201 [05:45<05:40,  3.51s/it]\u001b[A\n",
      " 52%|█████████████████████████▌                       | 105/201 [05:49<05:34,  3.48s/it]\u001b[A\n",
      " 53%|█████████████████████████▊                       | 106/201 [05:52<05:22,  3.39s/it]\u001b[A"
     ]
    },
    {
     "name": "stdout",
     "output_type": "stream",
     "text": [
      "Evaluation 105 (Epsilon=None):\n",
      "\tTraining Gravity: 0.001375\n",
      " \tTraining Stability: 0.0\n",
      " \tAAR: -18.164\n",
      " \tSES: 0\n",
      " \tMean Reward: -1000.0\n",
      " \tStd Reward: 0.0\n",
      "\n"
     ]
    },
    {
     "name": "stderr",
     "output_type": "stream",
     "text": [
      "\n",
      " 53%|██████████████████████████                       | 107/201 [05:55<05:08,  3.28s/it]\u001b[A\n",
      " 54%|██████████████████████████▎                      | 108/201 [05:58<04:57,  3.20s/it]\u001b[A\n",
      " 54%|██████████████████████████▌                      | 109/201 [06:01<04:45,  3.10s/it]\u001b[A\n",
      " 55%|██████████████████████████▊                      | 110/201 [06:04<04:35,  3.03s/it]\u001b[A\n",
      " 55%|███████████████████████████                      | 111/201 [06:06<04:28,  2.98s/it]\u001b[A"
     ]
    },
    {
     "name": "stdout",
     "output_type": "stream",
     "text": [
      "Evaluation 110 (Epsilon=None):\n",
      "\tTraining Gravity: 0.001375\n",
      " \tTraining Stability: 0.0\n",
      " \tAAR: -18.188\n",
      " \tSES: 0\n",
      " \tMean Reward: -1000.0\n",
      " \tStd Reward: 0.0\n",
      "\n"
     ]
    },
    {
     "name": "stderr",
     "output_type": "stream",
     "text": [
      "\n",
      " 56%|███████████████████████████▎                     | 112/201 [06:09<04:24,  2.97s/it]\u001b[A\n",
      " 56%|███████████████████████████▌                     | 113/201 [06:13<04:26,  3.02s/it]\u001b[A\n",
      " 57%|███████████████████████████▊                     | 114/201 [06:16<04:23,  3.03s/it]\u001b[A\n",
      " 57%|████████████████████████████                     | 115/201 [06:19<04:23,  3.06s/it]\u001b[A\n",
      " 58%|████████████████████████████▎                    | 116/201 [06:22<04:22,  3.09s/it]\u001b[A"
     ]
    },
    {
     "name": "stdout",
     "output_type": "stream",
     "text": [
      "Evaluation 115 (Epsilon=None):\n",
      "\tTraining Gravity: 0.001375\n",
      " \tTraining Stability: 0.0\n",
      " \tAAR: -18.222\n",
      " \tSES: 0\n",
      " \tMean Reward: -1000.0\n",
      " \tStd Reward: 0.0\n",
      "\n"
     ]
    },
    {
     "name": "stderr",
     "output_type": "stream",
     "text": [
      "\n",
      " 58%|████████████████████████████▌                    | 117/201 [06:25<04:21,  3.11s/it]\u001b[A\n",
      " 59%|████████████████████████████▊                    | 118/201 [06:28<04:18,  3.11s/it]\u001b[A\n",
      " 59%|█████████████████████████████                    | 119/201 [06:32<04:22,  3.21s/it]\u001b[A\n",
      " 60%|█████████████████████████████▎                   | 120/201 [06:35<04:23,  3.26s/it]\u001b[A\n",
      " 60%|█████████████████████████████▍                   | 121/201 [06:39<04:34,  3.44s/it]\u001b[A"
     ]
    },
    {
     "name": "stdout",
     "output_type": "stream",
     "text": [
      "Evaluation 120 (Epsilon=None):\n",
      "\tTraining Gravity: 0.001375\n",
      " \tTraining Stability: 0.0\n",
      " \tAAR: -18.125\n",
      " \tSES: 0\n",
      " \tMean Reward: -1000.0\n",
      " \tStd Reward: 0.0\n",
      "\n"
     ]
    },
    {
     "name": "stderr",
     "output_type": "stream",
     "text": [
      "\n",
      " 61%|█████████████████████████████▋                   | 122/201 [06:43<04:42,  3.57s/it]\u001b[A\n",
      " 61%|█████████████████████████████▉                   | 123/201 [06:47<04:44,  3.65s/it]\u001b[A\n",
      " 62%|██████████████████████████████▏                  | 124/201 [06:51<04:51,  3.79s/it]\u001b[A\n",
      " 62%|██████████████████████████████▍                  | 125/201 [06:54<04:48,  3.79s/it]\u001b[A\n",
      " 63%|██████████████████████████████▋                  | 126/201 [06:58<04:43,  3.78s/it]\u001b[A"
     ]
    },
    {
     "name": "stdout",
     "output_type": "stream",
     "text": [
      "Evaluation 125 (Epsilon=None):\n",
      "\tTraining Gravity: 0.001375\n",
      " \tTraining Stability: 0.0\n",
      " \tAAR: -18.223\n",
      " \tSES: 0\n",
      " \tMean Reward: -1000.0\n",
      " \tStd Reward: 0.0\n",
      "\n"
     ]
    },
    {
     "name": "stderr",
     "output_type": "stream",
     "text": [
      "\n",
      " 63%|██████████████████████████████▉                  | 127/201 [07:02<04:35,  3.73s/it]\u001b[A\n",
      " 64%|███████████████████████████████▏                 | 128/201 [07:05<04:28,  3.68s/it]\u001b[A\n",
      " 64%|███████████████████████████████▍                 | 129/201 [07:09<04:20,  3.62s/it]\u001b[A\n",
      " 65%|███████████████████████████████▋                 | 130/201 [07:12<04:09,  3.52s/it]\u001b[A\n",
      " 65%|███████████████████████████████▉                 | 131/201 [07:15<03:59,  3.42s/it]\u001b[A"
     ]
    },
    {
     "name": "stdout",
     "output_type": "stream",
     "text": [
      "Evaluation 130 (Epsilon=None):\n",
      "\tTraining Gravity: 0.001375\n",
      " \tTraining Stability: 0.0\n",
      " \tAAR: -18.121\n",
      " \tSES: 0\n",
      " \tMean Reward: -1000.0\n",
      " \tStd Reward: 0.0\n",
      "\n"
     ]
    },
    {
     "name": "stderr",
     "output_type": "stream",
     "text": [
      "\n",
      " 66%|████████████████████████████████▏                | 132/201 [07:18<03:50,  3.34s/it]\u001b[A\n",
      " 66%|████████████████████████████████▍                | 133/201 [07:21<03:40,  3.24s/it]\u001b[A\n",
      " 67%|████████████████████████████████▋                | 134/201 [07:24<03:32,  3.17s/it]\u001b[A\n",
      " 67%|████████████████████████████████▉                | 135/201 [07:27<03:16,  2.97s/it]\u001b[A\n",
      " 68%|█████████████████████████████████▏               | 136/201 [07:30<03:14,  2.98s/it]\u001b[A"
     ]
    },
    {
     "name": "stdout",
     "output_type": "stream",
     "text": [
      "Evaluation 135 (Epsilon=None):\n",
      "\tTraining Gravity: 0.001375\n",
      " \tTraining Stability: 0.0\n",
      " \tAAR: -18.195\n",
      " \tSES: 0\n",
      " \tMean Reward: -1000.0\n",
      " \tStd Reward: 0.0\n",
      "\n"
     ]
    },
    {
     "name": "stderr",
     "output_type": "stream",
     "text": [
      "\n",
      " 68%|█████████████████████████████████▍               | 137/201 [07:33<03:11,  2.99s/it]\u001b[A\n",
      " 69%|█████████████████████████████████▋               | 138/201 [07:36<03:07,  2.97s/it]\u001b[A\n",
      " 69%|█████████████████████████████████▉               | 139/201 [07:39<03:02,  2.95s/it]\u001b[A\n",
      " 70%|██████████████████████████████████▏              | 140/201 [07:42<02:58,  2.93s/it]\u001b[A\n",
      " 70%|██████████████████████████████████▎              | 141/201 [07:45<02:56,  2.93s/it]\u001b[A"
     ]
    },
    {
     "name": "stdout",
     "output_type": "stream",
     "text": [
      "Evaluation 140 (Epsilon=None):\n",
      "\tTraining Gravity: 0.001375\n",
      " \tTraining Stability: 0.0\n",
      " \tAAR: -18.177\n",
      " \tSES: 0\n",
      " \tMean Reward: -1000.0\n",
      " \tStd Reward: 0.0\n",
      "\n"
     ]
    },
    {
     "name": "stderr",
     "output_type": "stream",
     "text": [
      "\n",
      " 71%|██████████████████████████████████▌              | 142/201 [07:48<02:54,  2.96s/it]\u001b[A\n",
      " 71%|██████████████████████████████████▊              | 143/201 [07:51<02:59,  3.10s/it]\u001b[A\n",
      " 72%|███████████████████████████████████              | 144/201 [07:54<03:01,  3.18s/it]\u001b[A\n",
      " 72%|███████████████████████████████████▎             | 145/201 [07:58<03:03,  3.27s/it]\u001b[A\n",
      " 73%|███████████████████████████████████▌             | 146/201 [08:01<03:03,  3.33s/it]\u001b[A"
     ]
    },
    {
     "name": "stdout",
     "output_type": "stream",
     "text": [
      "Evaluation 145 (Epsilon=None):\n",
      "\tTraining Gravity: 0.001375\n",
      " \tTraining Stability: 0.0\n",
      " \tAAR: -18.144\n",
      " \tSES: 0\n",
      " \tMean Reward: -1000.0\n",
      " \tStd Reward: 0.0\n",
      "\n"
     ]
    },
    {
     "name": "stderr",
     "output_type": "stream",
     "text": [
      "\n",
      " 73%|███████████████████████████████████▊             | 147/201 [08:05<03:04,  3.42s/it]\u001b[A\n",
      " 74%|████████████████████████████████████             | 148/201 [08:09<03:04,  3.49s/it]\u001b[A\n",
      " 74%|████████████████████████████████████▎            | 149/201 [08:12<03:03,  3.52s/it]\u001b[A\n",
      " 75%|████████████████████████████████████▌            | 150/201 [08:16<02:59,  3.51s/it]\u001b[A\n",
      " 75%|████████████████████████████████████▊            | 151/201 [08:19<02:54,  3.50s/it]\u001b[A"
     ]
    },
    {
     "name": "stdout",
     "output_type": "stream",
     "text": [
      "Evaluation 150 (Epsilon=None):\n",
      "\tTraining Gravity: 0.001375\n",
      " \tTraining Stability: 0.0\n",
      " \tAAR: -18.176\n",
      " \tSES: 0\n",
      " \tMean Reward: -1000.0\n",
      " \tStd Reward: 0.0\n",
      "\n"
     ]
    },
    {
     "name": "stderr",
     "output_type": "stream",
     "text": [
      "\n",
      " 76%|█████████████████████████████████████            | 152/201 [08:23<02:50,  3.48s/it]\u001b[A\n",
      " 76%|█████████████████████████████████████▎           | 153/201 [08:26<02:43,  3.40s/it]\u001b[A\n",
      " 77%|█████████████████████████████████████▌           | 154/201 [08:29<02:35,  3.31s/it]\u001b[A\n",
      " 77%|█████████████████████████████████████▊           | 155/201 [08:32<02:26,  3.18s/it]\u001b[A\n",
      " 78%|██████████████████████████████████████           | 156/201 [08:35<02:19,  3.10s/it]\u001b[A"
     ]
    },
    {
     "name": "stdout",
     "output_type": "stream",
     "text": [
      "Evaluation 155 (Epsilon=None):\n",
      "\tTraining Gravity: 0.001375\n",
      " \tTraining Stability: 0.0\n",
      " \tAAR: -18.103\n",
      " \tSES: 0\n",
      " \tMean Reward: -1000.0\n",
      " \tStd Reward: 0.0\n",
      "\n"
     ]
    },
    {
     "name": "stderr",
     "output_type": "stream",
     "text": [
      "\n",
      " 78%|██████████████████████████████████████▎          | 157/201 [08:38<02:13,  3.04s/it]\u001b[A\n",
      " 79%|██████████████████████████████████████▌          | 158/201 [08:41<02:09,  3.01s/it]\u001b[A\n",
      " 79%|██████████████████████████████████████▊          | 159/201 [08:44<02:05,  3.00s/it]\u001b[A\n",
      " 80%|███████████████████████████████████████          | 160/201 [08:46<02:01,  2.96s/it]\u001b[A\n",
      " 80%|███████████████████████████████████████▏         | 161/201 [08:49<01:58,  2.96s/it]\u001b[A"
     ]
    },
    {
     "name": "stdout",
     "output_type": "stream",
     "text": [
      "Evaluation 160 (Epsilon=None):\n",
      "\tTraining Gravity: 0.001375\n",
      " \tTraining Stability: 0.0\n",
      " \tAAR: -18.18\n",
      " \tSES: 0\n",
      " \tMean Reward: -1000.0\n",
      " \tStd Reward: 0.0\n",
      "\n"
     ]
    },
    {
     "name": "stderr",
     "output_type": "stream",
     "text": [
      "\n",
      " 81%|███████████████████████████████████████▍         | 162/201 [08:52<01:54,  2.93s/it]\u001b[A\n",
      " 81%|███████████████████████████████████████▋         | 163/201 [08:55<01:50,  2.92s/it]\u001b[A\n",
      " 82%|███████████████████████████████████████▉         | 164/201 [08:58<01:47,  2.92s/it]\u001b[A\n",
      " 82%|████████████████████████████████████████▏        | 165/201 [09:01<01:46,  2.95s/it]\u001b[A\n",
      " 83%|████████████████████████████████████████▍        | 166/201 [09:04<01:45,  3.02s/it]\u001b[A"
     ]
    },
    {
     "name": "stdout",
     "output_type": "stream",
     "text": [
      "Evaluation 165 (Epsilon=None):\n",
      "\tTraining Gravity: 0.001375\n",
      " \tTraining Stability: 0.0\n",
      " \tAAR: -18.155\n",
      " \tSES: 0\n",
      " \tMean Reward: -1000.0\n",
      " \tStd Reward: 0.0\n",
      "\n"
     ]
    },
    {
     "name": "stderr",
     "output_type": "stream",
     "text": [
      "\n",
      " 83%|████████████████████████████████████████▋        | 167/201 [09:08<01:47,  3.16s/it]\u001b[A\n",
      " 84%|████████████████████████████████████████▉        | 168/201 [09:11<01:47,  3.26s/it]\u001b[A\n",
      " 84%|█████████████████████████████████████████▏       | 169/201 [09:15<01:47,  3.35s/it]\u001b[A\n",
      " 85%|█████████████████████████████████████████▍       | 170/201 [09:19<01:48,  3.49s/it]\u001b[A\n",
      " 85%|█████████████████████████████████████████▋       | 171/201 [09:22<01:43,  3.44s/it]\u001b[A"
     ]
    },
    {
     "name": "stdout",
     "output_type": "stream",
     "text": [
      "Evaluation 170 (Epsilon=None):\n",
      "\tTraining Gravity: 0.001375\n",
      " \tTraining Stability: 0.0\n",
      " \tAAR: -18.086\n",
      " \tSES: 0\n",
      " \tMean Reward: -1000.0\n",
      " \tStd Reward: 0.0\n",
      "\n"
     ]
    },
    {
     "name": "stderr",
     "output_type": "stream",
     "text": [
      "\n",
      " 86%|█████████████████████████████████████████▉       | 172/201 [09:25<01:35,  3.29s/it]\u001b[A\n",
      " 86%|██████████████████████████████████████████▏      | 173/201 [09:29<01:36,  3.44s/it]\u001b[A\n",
      " 87%|██████████████████████████████████████████▍      | 174/201 [09:33<01:35,  3.55s/it]\u001b[A\n",
      " 87%|██████████████████████████████████████████▋      | 175/201 [09:36<01:33,  3.61s/it]\u001b[A\n",
      " 88%|██████████████████████████████████████████▉      | 176/201 [09:39<01:24,  3.38s/it]\u001b[A"
     ]
    },
    {
     "name": "stdout",
     "output_type": "stream",
     "text": [
      "Evaluation 175 (Epsilon=None):\n",
      "\tTraining Gravity: 0.001375\n",
      " \tTraining Stability: 0.0\n",
      " \tAAR: -18.05\n",
      " \tSES: 0\n",
      " \tMean Reward: -1000.0\n",
      " \tStd Reward: 0.0\n",
      "\n"
     ]
    },
    {
     "name": "stderr",
     "output_type": "stream",
     "text": [
      "\n",
      " 88%|███████████████████████████████████████████▏     | 177/201 [09:43<01:22,  3.42s/it]\u001b[A\n",
      " 89%|███████████████████████████████████████████▍     | 178/201 [09:46<01:18,  3.42s/it]\u001b[A\n",
      " 89%|███████████████████████████████████████████▋     | 179/201 [09:49<01:09,  3.16s/it]\u001b[A\n",
      " 90%|███████████████████████████████████████████▉     | 180/201 [09:52<01:08,  3.24s/it]\u001b[A\n",
      " 90%|████████████████████████████████████████████     | 181/201 [09:55<01:04,  3.25s/it]\u001b[A"
     ]
    },
    {
     "name": "stdout",
     "output_type": "stream",
     "text": [
      "Evaluation 180 (Epsilon=None):\n",
      "\tTraining Gravity: 0.001375\n",
      " \tTraining Stability: 0.0\n",
      " \tAAR: -18.083\n",
      " \tSES: 0\n",
      " \tMean Reward: -1000.0\n",
      " \tStd Reward: 0.0\n",
      "\n"
     ]
    },
    {
     "name": "stderr",
     "output_type": "stream",
     "text": [
      "\n",
      " 91%|████████████████████████████████████████████▎    | 182/201 [09:59<01:01,  3.26s/it]\u001b[A\n",
      " 91%|████████████████████████████████████████████▌    | 183/201 [10:02<00:57,  3.22s/it]\u001b[A\n",
      " 92%|████████████████████████████████████████████▊    | 184/201 [10:05<00:54,  3.18s/it]\u001b[A\n",
      " 92%|█████████████████████████████████████████████    | 185/201 [10:08<00:50,  3.14s/it]\u001b[A\n",
      " 93%|█████████████████████████████████████████████▎   | 186/201 [10:10<00:40,  2.71s/it]\u001b[A"
     ]
    },
    {
     "name": "stdout",
     "output_type": "stream",
     "text": [
      "Evaluation 185 (Epsilon=None):\n",
      "\tTraining Gravity: 0.001375\n",
      " \tTraining Stability: 0.0\n",
      " \tAAR: -17.991\n",
      " \tSES: 0\n",
      " \tMean Reward: -1000.0\n",
      " \tStd Reward: 0.0\n",
      "\n"
     ]
    },
    {
     "name": "stderr",
     "output_type": "stream",
     "text": [
      "\n",
      " 93%|█████████████████████████████████████████████▌   | 187/201 [10:13<00:39,  2.80s/it]\u001b[A\n",
      " 94%|█████████████████████████████████████████████▊   | 188/201 [10:16<00:37,  2.85s/it]\u001b[A\n",
      " 94%|██████████████████████████████████████████████   | 189/201 [10:19<00:35,  2.96s/it]\u001b[A\n",
      " 95%|██████████████████████████████████████████████▎  | 190/201 [10:22<00:32,  3.00s/it]\u001b[A\n",
      " 95%|██████████████████████████████████████████████▌  | 191/201 [10:25<00:30,  3.04s/it]\u001b[A"
     ]
    },
    {
     "name": "stdout",
     "output_type": "stream",
     "text": [
      "Evaluation 190 (Epsilon=None):\n",
      "\tTraining Gravity: 0.001375\n",
      " \tTraining Stability: 0.0\n",
      " \tAAR: -18.207\n",
      " \tSES: 0\n",
      " \tMean Reward: -1000.0\n",
      " \tStd Reward: 0.0\n",
      "\n"
     ]
    },
    {
     "name": "stderr",
     "output_type": "stream",
     "text": [
      "\n",
      " 96%|██████████████████████████████████████████████▊  | 192/201 [10:28<00:28,  3.14s/it]\u001b[A\n",
      " 96%|███████████████████████████████████████████████  | 193/201 [10:32<00:25,  3.23s/it]\u001b[A\n",
      " 97%|███████████████████████████████████████████████▎ | 194/201 [10:35<00:23,  3.30s/it]\u001b[A\n",
      " 97%|███████████████████████████████████████████████▌ | 195/201 [10:39<00:20,  3.35s/it]\u001b[A\n",
      " 98%|███████████████████████████████████████████████▊ | 196/201 [10:42<00:17,  3.40s/it]\u001b[A"
     ]
    },
    {
     "name": "stdout",
     "output_type": "stream",
     "text": [
      "Evaluation 195 (Epsilon=None):\n",
      "\tTraining Gravity: 0.001375\n",
      " \tTraining Stability: 0.0\n",
      " \tAAR: -18.166\n",
      " \tSES: 0\n",
      " \tMean Reward: -1000.0\n",
      " \tStd Reward: 0.0\n",
      "\n"
     ]
    },
    {
     "name": "stderr",
     "output_type": "stream",
     "text": [
      "\n",
      " 98%|████████████████████████████████████████████████ | 197/201 [10:46<00:13,  3.42s/it]\u001b[A\n",
      " 99%|████████████████████████████████████████████████▎| 198/201 [10:49<00:10,  3.45s/it]\u001b[A\n",
      " 99%|████████████████████████████████████████████████▌| 199/201 [10:53<00:06,  3.44s/it]\u001b[A\n",
      "100%|████████████████████████████████████████████████▊| 200/201 [10:56<00:03,  3.39s/it]\u001b[A\n",
      "100%|█████████████████████████████████████████████████| 201/201 [10:59<00:00,  3.28s/it]\u001b[A"
     ]
    },
    {
     "name": "stdout",
     "output_type": "stream",
     "text": [
      "Evaluation 200 (Epsilon=None):\n",
      "\tTraining Gravity: 0.001375\n",
      " \tTraining Stability: 0.0\n",
      " \tAAR: -18.215\n",
      " \tSES: 0\n",
      " \tMean Reward: -1000.0\n",
      " \tStd Reward: 0.0\n",
      "\n"
     ]
    },
    {
     "name": "stderr",
     "output_type": "stream",
     "text": [
      "\n",
      " 42%|███████████████████▌                           | 5/12 [1:04:08<1:22:50, 710.05s/it]\n",
      "  0%|                                                           | 0/201 [00:00<?, ?it/s]\u001b[A/Users/danorel/miniconda3/envs/aclarel_3.11.3/lib/python3.11/site-packages/gym/utils/passive_env_checker.py:233: DeprecationWarning: `np.bool8` is a deprecated alias for `np.bool_`.  (Deprecated NumPy 1.24)\n",
      "  if not isinstance(terminated, (bool, np.bool8)):\n",
      "/Users/danorel/Workspace/Education/University/KMA/Research/aclarel/environments/mountain_car/rl_methods/__init__.py:65: FutureWarning: The behavior of DataFrame concatenation with empty or all-NA entries is deprecated. In a future version, this will no longer exclude empty or all-NA columns when determining the result dtypes. To retain the old behavior, exclude the relevant entries before the concat operation.\n",
      "  self.measurements = pd.concat([self.measurements, measurement], ignore_index=True)\n",
      "\n",
      "  0%|▎                                                  | 1/201 [00:03<10:44,  3.22s/it]\u001b[A"
     ]
    },
    {
     "name": "stdout",
     "output_type": "stream",
     "text": [
      "Evaluation 0 (Epsilon=None):\n",
      "\tTraining Gravity: 0.00025\n",
      " \tTraining Stability: 0.0\n",
      " \tAAR: -100.264\n",
      " \tSES: 0\n",
      " \tMean Reward: -1000.0\n",
      " \tStd Reward: 0.0\n",
      "\n"
     ]
    },
    {
     "name": "stderr",
     "output_type": "stream",
     "text": [
      "\n",
      "  1%|▌                                                  | 2/201 [00:06<10:30,  3.17s/it]\u001b[A\n",
      "  1%|▊                                                  | 3/201 [00:09<10:22,  3.14s/it]\u001b[A\n",
      "  2%|█                                                  | 4/201 [00:12<10:17,  3.14s/it]\u001b[A\n",
      "  2%|█▎                                                 | 5/201 [00:15<10:13,  3.13s/it]\u001b[A\n",
      "  3%|█▌                                                 | 6/201 [00:18<10:13,  3.14s/it]\u001b[A"
     ]
    },
    {
     "name": "stdout",
     "output_type": "stream",
     "text": [
      "Evaluation 5 (Epsilon=None):\n",
      "\tTraining Gravity: 0.00025\n",
      " \tTraining Stability: 0.0\n",
      " \tAAR: -100.301\n",
      " \tSES: 0\n",
      " \tMean Reward: -1000.0\n",
      " \tStd Reward: 0.0\n",
      "\n"
     ]
    },
    {
     "name": "stderr",
     "output_type": "stream",
     "text": [
      "\n",
      "  3%|█▊                                                 | 7/201 [00:22<10:09,  3.14s/it]\u001b[A\n",
      "  4%|██                                                 | 8/201 [00:25<09:57,  3.10s/it]\u001b[A\n",
      "  4%|██▎                                                | 9/201 [00:28<09:49,  3.07s/it]\u001b[A\n",
      "  5%|██▍                                               | 10/201 [00:31<09:40,  3.04s/it]\u001b[A\n",
      "  5%|██▋                                               | 11/201 [00:34<09:35,  3.03s/it]\u001b[A"
     ]
    },
    {
     "name": "stdout",
     "output_type": "stream",
     "text": [
      "Evaluation 10 (Epsilon=None):\n",
      "\tTraining Gravity: 0.00025\n",
      " \tTraining Stability: 0.0\n",
      " \tAAR: -100.285\n",
      " \tSES: 0\n",
      " \tMean Reward: -1000.0\n",
      " \tStd Reward: 0.0\n",
      "\n"
     ]
    },
    {
     "name": "stderr",
     "output_type": "stream",
     "text": [
      "\n",
      "  6%|██▉                                               | 12/201 [00:37<09:37,  3.05s/it]\u001b[A\n",
      "  6%|███▏                                              | 13/201 [00:40<09:44,  3.11s/it]\u001b[A\n",
      "  7%|███▍                                              | 14/201 [00:43<09:55,  3.19s/it]\u001b[A\n",
      "  7%|███▋                                              | 15/201 [00:47<10:09,  3.28s/it]\u001b[A\n",
      "  8%|███▉                                              | 16/201 [00:50<10:16,  3.33s/it]\u001b[A"
     ]
    },
    {
     "name": "stdout",
     "output_type": "stream",
     "text": [
      "Evaluation 15 (Epsilon=None):\n",
      "\tTraining Gravity: 0.00025\n",
      " \tTraining Stability: 0.0\n",
      " \tAAR: -100.15\n",
      " \tSES: 0\n",
      " \tMean Reward: -1000.0\n",
      " \tStd Reward: 0.0\n",
      "\n"
     ]
    },
    {
     "name": "stderr",
     "output_type": "stream",
     "text": [
      "\n",
      "  8%|████▏                                             | 17/201 [00:54<10:28,  3.42s/it]\u001b[A\n",
      "  9%|████▍                                             | 18/201 [00:58<10:43,  3.52s/it]\u001b[A\n",
      "  9%|████▋                                             | 19/201 [01:01<10:45,  3.55s/it]\u001b[A\n",
      " 10%|████▉                                             | 20/201 [01:05<10:40,  3.54s/it]\u001b[A\n",
      " 10%|█████▏                                            | 21/201 [01:08<10:36,  3.54s/it]\u001b[A"
     ]
    },
    {
     "name": "stdout",
     "output_type": "stream",
     "text": [
      "Evaluation 20 (Epsilon=None):\n",
      "\tTraining Gravity: 0.00025\n",
      " \tTraining Stability: 0.0\n",
      " \tAAR: -100.216\n",
      " \tSES: 0\n",
      " \tMean Reward: -1000.0\n",
      " \tStd Reward: 0.0\n",
      "\n"
     ]
    },
    {
     "name": "stderr",
     "output_type": "stream",
     "text": [
      "\n",
      " 11%|█████▍                                            | 22/201 [01:12<10:31,  3.53s/it]\u001b[A\n",
      " 11%|█████▋                                            | 23/201 [01:15<10:16,  3.46s/it]\u001b[A\n",
      " 12%|█████▉                                            | 24/201 [01:18<10:03,  3.41s/it]\u001b[A\n",
      " 12%|██████▏                                           | 25/201 [01:22<09:55,  3.38s/it]\u001b[A\n",
      " 13%|██████▍                                           | 26/201 [01:25<09:41,  3.32s/it]\u001b[A"
     ]
    },
    {
     "name": "stdout",
     "output_type": "stream",
     "text": [
      "Evaluation 25 (Epsilon=None):\n",
      "\tTraining Gravity: 0.00025\n",
      " \tTraining Stability: 0.0\n",
      " \tAAR: -100.273\n",
      " \tSES: 0\n",
      " \tMean Reward: -1000.0\n",
      " \tStd Reward: 0.0\n",
      "\n"
     ]
    },
    {
     "name": "stderr",
     "output_type": "stream",
     "text": [
      "\n",
      " 13%|██████▋                                           | 27/201 [01:28<09:29,  3.27s/it]\u001b[A\n",
      " 14%|██████▉                                           | 28/201 [01:31<09:18,  3.23s/it]\u001b[A\n",
      " 14%|███████▏                                          | 29/201 [01:34<09:11,  3.21s/it]\u001b[A\n",
      " 15%|███████▍                                          | 30/201 [01:37<09:02,  3.17s/it]\u001b[A\n",
      " 15%|███████▋                                          | 31/201 [01:40<08:50,  3.12s/it]\u001b[A"
     ]
    },
    {
     "name": "stdout",
     "output_type": "stream",
     "text": [
      "Evaluation 30 (Epsilon=None):\n",
      "\tTraining Gravity: 0.00025\n",
      " \tTraining Stability: 0.0\n",
      " \tAAR: -100.168\n",
      " \tSES: 0\n",
      " \tMean Reward: -1000.0\n",
      " \tStd Reward: 0.0\n",
      "\n"
     ]
    },
    {
     "name": "stderr",
     "output_type": "stream",
     "text": [
      "\n",
      " 16%|███████▉                                          | 32/201 [01:43<08:42,  3.09s/it]\u001b[A\n",
      " 16%|████████▏                                         | 33/201 [01:46<08:42,  3.11s/it]\u001b[A\n",
      " 17%|████████▍                                         | 34/201 [01:49<08:33,  3.07s/it]\u001b[A\n",
      " 17%|████████▋                                         | 35/201 [01:52<08:25,  3.05s/it]\u001b[A\n",
      " 18%|████████▉                                         | 36/201 [01:56<08:22,  3.04s/it]\u001b[A"
     ]
    },
    {
     "name": "stdout",
     "output_type": "stream",
     "text": [
      "Evaluation 35 (Epsilon=None):\n",
      "\tTraining Gravity: 0.00025\n",
      " \tTraining Stability: 0.0\n",
      " \tAAR: -99.887\n",
      " \tSES: 0\n",
      " \tMean Reward: -1000.0\n",
      " \tStd Reward: 0.0\n",
      "\n"
     ]
    },
    {
     "name": "stderr",
     "output_type": "stream",
     "text": [
      "\n",
      " 18%|█████████▏                                        | 37/201 [01:59<08:23,  3.07s/it]\u001b[A\n",
      " 19%|█████████▍                                        | 38/201 [02:02<08:31,  3.14s/it]\u001b[A\n",
      " 19%|█████████▋                                        | 39/201 [02:05<08:41,  3.22s/it]\u001b[A\n",
      " 20%|█████████▉                                        | 40/201 [02:09<08:48,  3.28s/it]\u001b[A\n",
      " 20%|██████████▏                                       | 41/201 [02:12<08:52,  3.33s/it]\u001b[A"
     ]
    },
    {
     "name": "stdout",
     "output_type": "stream",
     "text": [
      "Evaluation 40 (Epsilon=None):\n",
      "\tTraining Gravity: 0.00025\n",
      " \tTraining Stability: 0.0\n",
      " \tAAR: -99.891\n",
      " \tSES: 0\n",
      " \tMean Reward: -1000.0\n",
      " \tStd Reward: 0.0\n",
      "\n"
     ]
    },
    {
     "name": "stderr",
     "output_type": "stream",
     "text": [
      "\n",
      " 21%|██████████▍                                       | 42/201 [02:16<08:53,  3.35s/it]\u001b[A\n",
      " 21%|██████████▋                                       | 43/201 [02:19<09:00,  3.42s/it]\u001b[A\n",
      " 22%|██████████▉                                       | 44/201 [02:23<08:59,  3.44s/it]\u001b[A\n",
      " 22%|███████████▏                                      | 45/201 [02:26<08:57,  3.45s/it]\u001b[A\n",
      " 23%|███████████▍                                      | 46/201 [02:29<08:47,  3.40s/it]\u001b[A"
     ]
    },
    {
     "name": "stdout",
     "output_type": "stream",
     "text": [
      "Evaluation 45 (Epsilon=None):\n",
      "\tTraining Gravity: 0.00025\n",
      " \tTraining Stability: 0.0\n",
      " \tAAR: -99.967\n",
      " \tSES: 0\n",
      " \tMean Reward: -1000.0\n",
      " \tStd Reward: 0.0\n",
      "\n"
     ]
    },
    {
     "name": "stderr",
     "output_type": "stream",
     "text": [
      "\n",
      " 23%|███████████▋                                      | 47/201 [02:33<08:37,  3.36s/it]\u001b[A\n",
      " 24%|███████████▉                                      | 48/201 [02:36<08:31,  3.35s/it]\u001b[A\n",
      " 24%|████████████▏                                     | 49/201 [02:39<08:30,  3.36s/it]\u001b[A\n",
      " 25%|████████████▍                                     | 50/201 [02:43<08:25,  3.35s/it]\u001b[A\n",
      " 25%|████████████▋                                     | 51/201 [02:46<08:20,  3.34s/it]\u001b[A"
     ]
    },
    {
     "name": "stdout",
     "output_type": "stream",
     "text": [
      "Evaluation 50 (Epsilon=None):\n",
      "\tTraining Gravity: 0.00025\n",
      " \tTraining Stability: 0.0\n",
      " \tAAR: -100.24\n",
      " \tSES: 0\n",
      " \tMean Reward: -1000.0\n",
      " \tStd Reward: 0.0\n",
      "\n"
     ]
    },
    {
     "name": "stderr",
     "output_type": "stream",
     "text": [
      "\n",
      " 26%|████████████▉                                     | 52/201 [02:49<08:10,  3.29s/it]\u001b[A\n",
      " 26%|█████████████▏                                    | 53/201 [02:52<08:02,  3.26s/it]\u001b[A\n",
      " 27%|█████████████▍                                    | 54/201 [02:56<07:53,  3.22s/it]\u001b[A\n",
      " 27%|█████████████▋                                    | 55/201 [02:59<07:47,  3.20s/it]\u001b[A\n",
      " 28%|█████████████▉                                    | 56/201 [03:02<07:42,  3.19s/it]\u001b[A"
     ]
    },
    {
     "name": "stdout",
     "output_type": "stream",
     "text": [
      "Evaluation 55 (Epsilon=None):\n",
      "\tTraining Gravity: 0.001\n",
      " \tTraining Stability: 0.0\n",
      " \tAAR: -25.069\n",
      " \tSES: 0\n",
      " \tMean Reward: -1000.0\n",
      " \tStd Reward: 0.0\n",
      "\n"
     ]
    },
    {
     "name": "stderr",
     "output_type": "stream",
     "text": [
      "\n",
      " 28%|██████████████▏                                   | 57/201 [03:05<07:41,  3.20s/it]\u001b[A\n",
      " 29%|██████████████▍                                   | 58/201 [03:08<07:36,  3.20s/it]\u001b[A\n",
      " 29%|██████████████▋                                   | 59/201 [03:11<07:30,  3.17s/it]\u001b[A\n",
      " 30%|██████████████▉                                   | 60/201 [03:15<07:29,  3.19s/it]\u001b[A\n",
      " 30%|███████████████▏                                  | 61/201 [03:18<07:37,  3.27s/it]\u001b[A"
     ]
    },
    {
     "name": "stdout",
     "output_type": "stream",
     "text": [
      "Evaluation 60 (Epsilon=None):\n",
      "\tTraining Gravity: 0.001\n",
      " \tTraining Stability: 0.0\n",
      " \tAAR: -24.958\n",
      " \tSES: 0\n",
      " \tMean Reward: -1000.0\n",
      " \tStd Reward: 0.0\n",
      "\n"
     ]
    },
    {
     "name": "stderr",
     "output_type": "stream",
     "text": [
      "\n",
      " 31%|███████████████▍                                  | 62/201 [03:22<07:43,  3.33s/it]\u001b[A\n",
      " 31%|███████████████▋                                  | 63/201 [03:25<07:51,  3.42s/it]\u001b[A\n",
      " 32%|███████████████▉                                  | 64/201 [03:29<07:57,  3.49s/it]\u001b[A\n",
      " 32%|████████████████▏                                 | 65/201 [03:32<07:59,  3.52s/it]\u001b[A\n",
      " 33%|████████████████▍                                 | 66/201 [03:36<08:06,  3.60s/it]\u001b[A"
     ]
    },
    {
     "name": "stdout",
     "output_type": "stream",
     "text": [
      "Evaluation 65 (Epsilon=None):\n",
      "\tTraining Gravity: 0.001\n",
      " \tTraining Stability: 0.0\n",
      " \tAAR: -24.95\n",
      " \tSES: 0\n",
      " \tMean Reward: -1000.0\n",
      " \tStd Reward: 0.0\n",
      "\n"
     ]
    },
    {
     "name": "stderr",
     "output_type": "stream",
     "text": [
      "\n",
      " 33%|████████████████▋                                 | 67/201 [03:40<08:00,  3.59s/it]\u001b[A\n",
      " 34%|████████████████▉                                 | 68/201 [03:43<07:50,  3.54s/it]\u001b[A\n",
      " 34%|█████████████████▏                                | 69/201 [03:47<07:40,  3.49s/it]\u001b[A\n",
      " 35%|█████████████████▍                                | 70/201 [03:50<07:29,  3.43s/it]\u001b[A\n",
      " 35%|█████████████████▋                                | 71/201 [03:53<07:15,  3.35s/it]\u001b[A"
     ]
    },
    {
     "name": "stdout",
     "output_type": "stream",
     "text": [
      "Evaluation 70 (Epsilon=None):\n",
      "\tTraining Gravity: 0.001\n",
      " \tTraining Stability: 0.0\n",
      " \tAAR: -25.045\n",
      " \tSES: 0\n",
      " \tMean Reward: -1000.0\n",
      " \tStd Reward: 0.0\n",
      "\n"
     ]
    },
    {
     "name": "stderr",
     "output_type": "stream",
     "text": [
      "\n",
      " 36%|█████████████████▉                                | 72/201 [03:56<07:03,  3.28s/it]\u001b[A\n",
      " 36%|██████████████████▏                               | 73/201 [03:59<06:54,  3.24s/it]\u001b[A\n",
      " 37%|██████████████████▍                               | 74/201 [04:02<06:47,  3.20s/it]\u001b[A\n",
      " 37%|██████████████████▋                               | 75/201 [04:06<06:41,  3.18s/it]\u001b[A\n",
      " 38%|██████████████████▉                               | 76/201 [04:09<06:36,  3.17s/it]\u001b[A"
     ]
    },
    {
     "name": "stdout",
     "output_type": "stream",
     "text": [
      "Evaluation 75 (Epsilon=None):\n",
      "\tTraining Gravity: 0.001\n",
      " \tTraining Stability: 0.0\n",
      " \tAAR: -25.031\n",
      " \tSES: 0\n",
      " \tMean Reward: -1000.0\n",
      " \tStd Reward: 0.0\n",
      "\n"
     ]
    },
    {
     "name": "stderr",
     "output_type": "stream",
     "text": [
      "\n",
      " 38%|███████████████████▏                              | 77/201 [04:12<06:25,  3.11s/it]\u001b[A\n",
      " 39%|███████████████████▍                              | 78/201 [04:15<06:18,  3.07s/it]\u001b[A\n",
      " 39%|███████████████████▋                              | 79/201 [04:18<06:12,  3.05s/it]\u001b[A\n",
      " 40%|███████████████████▉                              | 80/201 [04:21<06:07,  3.04s/it]\u001b[A\n",
      " 40%|████████████████████▏                             | 81/201 [04:24<06:04,  3.04s/it]\u001b[A"
     ]
    },
    {
     "name": "stdout",
     "output_type": "stream",
     "text": [
      "Evaluation 80 (Epsilon=None):\n",
      "\tTraining Gravity: 0.001\n",
      " \tTraining Stability: 0.0\n",
      " \tAAR: -24.969\n",
      " \tSES: 0\n",
      " \tMean Reward: -1000.0\n",
      " \tStd Reward: 0.0\n",
      "\n"
     ]
    },
    {
     "name": "stderr",
     "output_type": "stream",
     "text": [
      "\n",
      " 41%|████████████████████▍                             | 82/201 [04:27<06:04,  3.06s/it]\u001b[A\n",
      " 41%|████████████████████▋                             | 83/201 [04:30<06:04,  3.09s/it]\u001b[A\n",
      " 42%|████████████████████▉                             | 84/201 [04:33<06:06,  3.14s/it]\u001b[A\n",
      " 42%|█████████████████████▏                            | 85/201 [04:37<06:16,  3.25s/it]\u001b[A\n",
      " 43%|█████████████████████▍                            | 86/201 [04:40<06:20,  3.31s/it]\u001b[A"
     ]
    },
    {
     "name": "stdout",
     "output_type": "stream",
     "text": [
      "Evaluation 85 (Epsilon=None):\n",
      "\tTraining Gravity: 0.001\n",
      " \tTraining Stability: 0.0\n",
      " \tAAR: -24.965\n",
      " \tSES: 0\n",
      " \tMean Reward: -1000.0\n",
      " \tStd Reward: 0.0\n",
      "\n"
     ]
    },
    {
     "name": "stderr",
     "output_type": "stream",
     "text": [
      "\n",
      " 43%|█████████████████████▋                            | 87/201 [04:44<06:21,  3.34s/it]\u001b[A\n",
      " 44%|█████████████████████▉                            | 88/201 [04:47<06:21,  3.38s/it]\u001b[A\n",
      " 44%|██████████████████████▏                           | 89/201 [04:51<06:20,  3.40s/it]\u001b[A\n",
      " 45%|██████████████████████▍                           | 90/201 [04:54<06:18,  3.41s/it]\u001b[A\n",
      " 45%|██████████████████████▋                           | 91/201 [04:57<06:16,  3.42s/it]\u001b[A"
     ]
    },
    {
     "name": "stdout",
     "output_type": "stream",
     "text": [
      "Evaluation 90 (Epsilon=None):\n",
      "\tTraining Gravity: 0.001\n",
      " \tTraining Stability: 0.0\n",
      " \tAAR: -24.999\n",
      " \tSES: 0\n",
      " \tMean Reward: -1000.0\n",
      " \tStd Reward: 0.0\n",
      "\n"
     ]
    },
    {
     "name": "stderr",
     "output_type": "stream",
     "text": [
      "\n",
      " 46%|██████████████████████▉                           | 92/201 [05:01<06:13,  3.43s/it]\u001b[A\n",
      " 46%|███████████████████████▏                          | 93/201 [05:04<06:11,  3.44s/it]\u001b[A\n",
      " 47%|███████████████████████▍                          | 94/201 [05:08<06:09,  3.46s/it]\u001b[A\n",
      " 47%|███████████████████████▋                          | 95/201 [05:11<06:06,  3.45s/it]\u001b[A\n",
      " 48%|███████████████████████▉                          | 96/201 [05:15<05:57,  3.41s/it]\u001b[A"
     ]
    },
    {
     "name": "stdout",
     "output_type": "stream",
     "text": [
      "Evaluation 95 (Epsilon=None):\n",
      "\tTraining Gravity: 0.001\n",
      " \tTraining Stability: 0.0\n",
      " \tAAR: -25.0\n",
      " \tSES: 0\n",
      " \tMean Reward: -1000.0\n",
      " \tStd Reward: 0.0\n",
      "\n"
     ]
    },
    {
     "name": "stderr",
     "output_type": "stream",
     "text": [
      "\n",
      " 48%|████████████████████████▏                         | 97/201 [05:18<05:50,  3.37s/it]\u001b[A\n",
      " 49%|████████████████████████▍                         | 98/201 [05:21<05:43,  3.34s/it]\u001b[A\n",
      " 49%|████████████████████████▋                         | 99/201 [05:24<05:34,  3.28s/it]\u001b[A\n",
      " 50%|████████████████████████▍                        | 100/201 [05:27<05:26,  3.24s/it]\u001b[A\n",
      " 50%|████████████████████████▌                        | 101/201 [05:31<05:25,  3.25s/it]\u001b[A"
     ]
    },
    {
     "name": "stdout",
     "output_type": "stream",
     "text": [
      "Evaluation 100 (Epsilon=None):\n",
      "\tTraining Gravity: 0.001\n",
      " \tTraining Stability: 0.0\n",
      " \tAAR: -24.921\n",
      " \tSES: 0\n",
      " \tMean Reward: -1000.0\n",
      " \tStd Reward: 0.0\n",
      "\n"
     ]
    },
    {
     "name": "stderr",
     "output_type": "stream",
     "text": [
      "\n",
      " 51%|████████████████████████▊                        | 102/201 [05:34<05:19,  3.22s/it]\u001b[A\n",
      " 51%|█████████████████████████                        | 103/201 [05:37<05:14,  3.21s/it]\u001b[A\n",
      " 52%|█████████████████████████▎                       | 104/201 [05:40<05:15,  3.25s/it]\u001b[A\n",
      " 52%|█████████████████████████▌                       | 105/201 [05:44<05:10,  3.24s/it]\u001b[A\n",
      " 53%|█████████████████████████▊                       | 106/201 [05:47<05:09,  3.26s/it]\u001b[A"
     ]
    },
    {
     "name": "stdout",
     "output_type": "stream",
     "text": [
      "Evaluation 105 (Epsilon=None):\n",
      "\tTraining Gravity: 0.00175\n",
      " \tTraining Stability: 0.0\n",
      " \tAAR: -14.296\n",
      " \tSES: 0\n",
      " \tMean Reward: -1000.0\n",
      " \tStd Reward: 0.0\n",
      "\n"
     ]
    },
    {
     "name": "stderr",
     "output_type": "stream",
     "text": [
      "\n",
      " 53%|██████████████████████████                       | 107/201 [05:50<05:13,  3.34s/it]\u001b[A\n",
      " 54%|██████████████████████████▎                      | 108/201 [05:54<05:13,  3.37s/it]\u001b[A\n",
      " 54%|██████████████████████████▌                      | 109/201 [05:57<05:12,  3.39s/it]\u001b[A\n",
      " 55%|██████████████████████████▊                      | 110/201 [06:01<05:10,  3.41s/it]\u001b[A\n",
      " 55%|███████████████████████████                      | 111/201 [06:04<05:07,  3.42s/it]\u001b[A"
     ]
    },
    {
     "name": "stdout",
     "output_type": "stream",
     "text": [
      "Evaluation 110 (Epsilon=None):\n",
      "\tTraining Gravity: 0.00175\n",
      " \tTraining Stability: 0.0\n",
      " \tAAR: -14.322\n",
      " \tSES: 0\n",
      " \tMean Reward: -1000.0\n",
      " \tStd Reward: 0.0\n",
      "\n"
     ]
    },
    {
     "name": "stderr",
     "output_type": "stream",
     "text": [
      "\n",
      " 56%|███████████████████████████▎                     | 112/201 [06:08<05:16,  3.55s/it]\u001b[A\n",
      " 56%|███████████████████████████▌                     | 113/201 [06:12<05:14,  3.58s/it]\u001b[A\n",
      " 57%|███████████████████████████▊                     | 114/201 [06:15<05:13,  3.60s/it]\u001b[A\n",
      " 57%|████████████████████████████                     | 115/201 [06:19<05:10,  3.60s/it]\u001b[A\n",
      " 58%|████████████████████████████▎                    | 116/201 [06:23<05:07,  3.62s/it]\u001b[A"
     ]
    },
    {
     "name": "stdout",
     "output_type": "stream",
     "text": [
      "Evaluation 115 (Epsilon=None):\n",
      "\tTraining Gravity: 0.00175\n",
      " \tTraining Stability: 0.0\n",
      " \tAAR: -14.299\n",
      " \tSES: 0\n",
      " \tMean Reward: -1000.0\n",
      " \tStd Reward: 0.0\n",
      "\n"
     ]
    },
    {
     "name": "stderr",
     "output_type": "stream",
     "text": [
      "\n",
      " 58%|████████████████████████████▌                    | 117/201 [06:26<05:01,  3.59s/it]\u001b[A\n",
      " 59%|████████████████████████████▊                    | 118/201 [06:29<04:52,  3.52s/it]\u001b[A\n",
      " 59%|█████████████████████████████                    | 119/201 [06:33<04:39,  3.41s/it]\u001b[A\n",
      " 60%|█████████████████████████████▎                   | 120/201 [06:36<04:27,  3.30s/it]\u001b[A\n",
      " 60%|█████████████████████████████▍                   | 121/201 [06:39<04:17,  3.21s/it]\u001b[A"
     ]
    },
    {
     "name": "stdout",
     "output_type": "stream",
     "text": [
      "Evaluation 120 (Epsilon=None):\n",
      "\tTraining Gravity: 0.00175\n",
      " \tTraining Stability: 0.0\n",
      " \tAAR: -14.32\n",
      " \tSES: 0\n",
      " \tMean Reward: -1000.0\n",
      " \tStd Reward: 0.0\n",
      "\n"
     ]
    },
    {
     "name": "stderr",
     "output_type": "stream",
     "text": [
      "\n",
      " 61%|█████████████████████████████▋                   | 122/201 [06:42<04:07,  3.14s/it]\u001b[A\n",
      " 61%|█████████████████████████████▉                   | 123/201 [06:44<03:58,  3.05s/it]\u001b[A\n",
      " 62%|██████████████████████████████▏                  | 124/201 [06:47<03:51,  3.00s/it]\u001b[A\n",
      " 62%|██████████████████████████████▍                  | 125/201 [06:50<03:45,  2.96s/it]\u001b[A\n",
      " 63%|██████████████████████████████▋                  | 126/201 [06:53<03:40,  2.94s/it]\u001b[A"
     ]
    },
    {
     "name": "stdout",
     "output_type": "stream",
     "text": [
      "Evaluation 125 (Epsilon=None):\n",
      "\tTraining Gravity: 0.00175\n",
      " \tTraining Stability: 0.0\n",
      " \tAAR: -14.316\n",
      " \tSES: 0\n",
      " \tMean Reward: -1000.0\n",
      " \tStd Reward: 0.0\n",
      "\n"
     ]
    },
    {
     "name": "stderr",
     "output_type": "stream",
     "text": [
      "\n",
      " 63%|██████████████████████████████▉                  | 127/201 [06:56<03:36,  2.92s/it]\u001b[A\n",
      " 64%|███████████████████████████████▏                 | 128/201 [06:59<03:35,  2.95s/it]\u001b[A\n",
      " 64%|███████████████████████████████▍                 | 129/201 [07:02<03:36,  3.01s/it]\u001b[A\n",
      " 65%|███████████████████████████████▋                 | 130/201 [07:05<03:38,  3.08s/it]\u001b[A\n",
      " 65%|███████████████████████████████▉                 | 131/201 [07:09<03:43,  3.20s/it]\u001b[A"
     ]
    },
    {
     "name": "stdout",
     "output_type": "stream",
     "text": [
      "Evaluation 130 (Epsilon=None):\n",
      "\tTraining Gravity: 0.00175\n",
      " \tTraining Stability: 0.0\n",
      " \tAAR: -14.273\n",
      " \tSES: 0\n",
      " \tMean Reward: -1000.0\n",
      " \tStd Reward: 0.0\n",
      "\n"
     ]
    },
    {
     "name": "stderr",
     "output_type": "stream",
     "text": [
      "\n",
      " 66%|████████████████████████████████▏                | 132/201 [07:13<03:49,  3.32s/it]\u001b[A\n",
      " 66%|████████████████████████████████▍                | 133/201 [07:16<03:48,  3.36s/it]\u001b[A\n",
      " 67%|████████████████████████████████▋                | 134/201 [07:19<03:47,  3.39s/it]\u001b[A\n",
      " 67%|████████████████████████████████▉                | 135/201 [07:23<03:45,  3.41s/it]\u001b[A\n",
      " 68%|█████████████████████████████████▏               | 136/201 [07:26<03:41,  3.41s/it]\u001b[A"
     ]
    },
    {
     "name": "stdout",
     "output_type": "stream",
     "text": [
      "Evaluation 135 (Epsilon=None):\n",
      "\tTraining Gravity: 0.00175\n",
      " \tTraining Stability: 0.0\n",
      " \tAAR: -14.324\n",
      " \tSES: 0\n",
      " \tMean Reward: -1000.0\n",
      " \tStd Reward: 0.0\n",
      "\n"
     ]
    },
    {
     "name": "stderr",
     "output_type": "stream",
     "text": [
      "\n",
      " 68%|█████████████████████████████████▍               | 137/201 [07:30<03:39,  3.43s/it]\u001b[A\n",
      " 69%|█████████████████████████████████▋               | 138/201 [07:33<03:33,  3.39s/it]\u001b[A\n",
      " 69%|█████████████████████████████████▉               | 139/201 [07:36<03:28,  3.36s/it]\u001b[A\n",
      " 70%|██████████████████████████████████▏              | 140/201 [07:40<03:24,  3.35s/it]\u001b[A\n",
      " 70%|██████████████████████████████████▎              | 141/201 [07:43<03:17,  3.29s/it]\u001b[A"
     ]
    },
    {
     "name": "stdout",
     "output_type": "stream",
     "text": [
      "Evaluation 140 (Epsilon=None):\n",
      "\tTraining Gravity: 0.00175\n",
      " \tTraining Stability: 0.0\n",
      " \tAAR: -14.272\n",
      " \tSES: 0\n",
      " \tMean Reward: -1000.0\n",
      " \tStd Reward: 0.0\n",
      "\n"
     ]
    },
    {
     "name": "stderr",
     "output_type": "stream",
     "text": [
      "\n",
      " 71%|██████████████████████████████████▌              | 142/201 [07:46<03:13,  3.28s/it]\u001b[A\n",
      " 71%|██████████████████████████████████▊              | 143/201 [07:49<03:08,  3.25s/it]\u001b[A\n",
      " 72%|███████████████████████████████████              | 144/201 [07:52<03:04,  3.24s/it]\u001b[A\n",
      " 72%|███████████████████████████████████▎             | 145/201 [07:56<02:59,  3.21s/it]\u001b[A\n",
      " 73%|███████████████████████████████████▌             | 146/201 [07:59<02:55,  3.19s/it]\u001b[A"
     ]
    },
    {
     "name": "stdout",
     "output_type": "stream",
     "text": [
      "Evaluation 145 (Epsilon=None):\n",
      "\tTraining Gravity: 0.00175\n",
      " \tTraining Stability: 0.0\n",
      " \tAAR: -14.287\n",
      " \tSES: 0\n",
      " \tMean Reward: -1000.0\n",
      " \tStd Reward: 0.0\n",
      "\n"
     ]
    },
    {
     "name": "stderr",
     "output_type": "stream",
     "text": [
      "\n",
      " 73%|███████████████████████████████████▊             | 147/201 [08:02<02:52,  3.20s/it]\u001b[A\n",
      " 74%|████████████████████████████████████             | 148/201 [08:05<02:49,  3.20s/it]\u001b[A\n",
      " 74%|████████████████████████████████████▎            | 149/201 [08:08<02:45,  3.18s/it]\u001b[A\n",
      " 75%|████████████████████████████████████▌            | 150/201 [08:11<02:41,  3.17s/it]\u001b[A\n",
      " 75%|████████████████████████████████████▊            | 151/201 [08:15<02:37,  3.16s/it]\u001b[A"
     ]
    },
    {
     "name": "stdout",
     "output_type": "stream",
     "text": [
      "Evaluation 150 (Epsilon=None):\n",
      "\tTraining Gravity: 0.00175\n",
      " \tTraining Stability: 0.0\n",
      " \tAAR: -14.267\n",
      " \tSES: 0\n",
      " \tMean Reward: -1000.0\n",
      " \tStd Reward: 0.0\n",
      "\n"
     ]
    },
    {
     "name": "stderr",
     "output_type": "stream",
     "text": [
      "\n",
      " 76%|█████████████████████████████████████            | 152/201 [08:18<02:34,  3.16s/it]\u001b[A\n",
      " 76%|█████████████████████████████████████▎           | 153/201 [08:21<02:34,  3.21s/it]\u001b[A\n",
      " 77%|█████████████████████████████████████▌           | 154/201 [08:25<02:34,  3.29s/it]\u001b[A\n",
      " 77%|█████████████████████████████████████▊           | 155/201 [08:28<02:33,  3.34s/it]\u001b[A\n",
      " 78%|██████████████████████████████████████           | 156/201 [08:31<02:31,  3.37s/it]\u001b[A"
     ]
    },
    {
     "name": "stdout",
     "output_type": "stream",
     "text": [
      "Evaluation 155 (Epsilon=None):\n",
      "\tTraining Gravity: 0.0025\n",
      " \tTraining Stability: 0.0\n",
      " \tAAR: -9.992\n",
      " \tSES: 0\n",
      " \tMean Reward: -1000.0\n",
      " \tStd Reward: 0.0\n",
      "\n"
     ]
    },
    {
     "name": "stderr",
     "output_type": "stream",
     "text": [
      "\n",
      " 78%|██████████████████████████████████████▎          | 157/201 [08:35<02:29,  3.39s/it]\u001b[A\n",
      " 79%|██████████████████████████████████████▌          | 158/201 [08:38<02:27,  3.42s/it]\u001b[A\n",
      " 79%|██████████████████████████████████████▊          | 159/201 [08:42<02:24,  3.43s/it]\u001b[A\n",
      " 80%|███████████████████████████████████████          | 160/201 [08:45<02:20,  3.43s/it]\u001b[A\n",
      " 80%|███████████████████████████████████████▏         | 161/201 [08:49<02:17,  3.44s/it]\u001b[A"
     ]
    },
    {
     "name": "stdout",
     "output_type": "stream",
     "text": [
      "Evaluation 160 (Epsilon=None):\n",
      "\tTraining Gravity: 0.0025\n",
      " \tTraining Stability: 0.0\n",
      " \tAAR: -10.005\n",
      " \tSES: 0\n",
      " \tMean Reward: -1000.0\n",
      " \tStd Reward: 0.0\n",
      "\n"
     ]
    },
    {
     "name": "stderr",
     "output_type": "stream",
     "text": [
      "\n",
      " 81%|███████████████████████████████████████▍         | 162/201 [08:52<02:11,  3.38s/it]\u001b[A\n",
      " 81%|███████████████████████████████████████▋         | 163/201 [08:55<02:05,  3.29s/it]\u001b[A\n",
      " 82%|███████████████████████████████████████▉         | 164/201 [08:58<01:56,  3.16s/it]\u001b[A\n",
      " 82%|████████████████████████████████████████▏        | 165/201 [09:01<01:49,  3.04s/it]\u001b[A\n",
      " 83%|████████████████████████████████████████▍        | 166/201 [09:04<01:45,  3.01s/it]\u001b[A"
     ]
    },
    {
     "name": "stdout",
     "output_type": "stream",
     "text": [
      "Evaluation 165 (Epsilon=None):\n",
      "\tTraining Gravity: 0.0025\n",
      " \tTraining Stability: 0.0\n",
      " \tAAR: -9.973\n",
      " \tSES: 0\n",
      " \tMean Reward: -1000.0\n",
      " \tStd Reward: 0.0\n",
      "\n"
     ]
    },
    {
     "name": "stderr",
     "output_type": "stream",
     "text": [
      "\n",
      " 83%|████████████████████████████████████████▋        | 167/201 [09:06<01:39,  2.92s/it]\u001b[A\n",
      " 84%|████████████████████████████████████████▉        | 168/201 [09:09<01:34,  2.87s/it]\u001b[A\n",
      " 84%|█████████████████████████████████████████▏       | 169/201 [09:12<01:30,  2.84s/it]\u001b[A\n",
      " 85%|█████████████████████████████████████████▍       | 170/201 [09:15<01:27,  2.83s/it]\u001b[A\n",
      " 85%|█████████████████████████████████████████▋       | 171/201 [09:17<01:25,  2.84s/it]\u001b[A"
     ]
    },
    {
     "name": "stdout",
     "output_type": "stream",
     "text": [
      "Evaluation 170 (Epsilon=None):\n",
      "\tTraining Gravity: 0.0025\n",
      " \tTraining Stability: 0.0\n",
      " \tAAR: -9.984\n",
      " \tSES: 0\n",
      " \tMean Reward: -1000.0\n",
      " \tStd Reward: 0.0\n",
      "\n"
     ]
    },
    {
     "name": "stderr",
     "output_type": "stream",
     "text": [
      "\n",
      " 86%|█████████████████████████████████████████▉       | 172/201 [09:20<01:23,  2.87s/it]\u001b[A\n",
      " 86%|██████████████████████████████████████████▏      | 173/201 [09:23<01:22,  2.93s/it]\u001b[A\n",
      " 87%|██████████████████████████████████████████▍      | 174/201 [09:27<01:20,  2.99s/it]\u001b[A\n",
      " 87%|██████████████████████████████████████████▋      | 175/201 [09:30<01:19,  3.04s/it]\u001b[A\n",
      " 88%|██████████████████████████████████████████▉      | 176/201 [09:33<01:17,  3.09s/it]\u001b[A"
     ]
    },
    {
     "name": "stdout",
     "output_type": "stream",
     "text": [
      "Evaluation 175 (Epsilon=None):\n",
      "\tTraining Gravity: 0.0025\n",
      " \tTraining Stability: 0.0\n",
      " \tAAR: -10.018\n",
      " \tSES: 0\n",
      " \tMean Reward: -1000.0\n",
      " \tStd Reward: 0.0\n",
      "\n"
     ]
    },
    {
     "name": "stderr",
     "output_type": "stream",
     "text": [
      "\n",
      " 88%|███████████████████████████████████████████▏     | 177/201 [09:36<01:16,  3.20s/it]\u001b[A\n",
      " 89%|███████████████████████████████████████████▍     | 178/201 [09:40<01:16,  3.33s/it]\u001b[A\n",
      " 89%|███████████████████████████████████████████▋     | 179/201 [09:44<01:14,  3.36s/it]\u001b[A\n",
      " 90%|███████████████████████████████████████████▉     | 180/201 [09:47<01:11,  3.39s/it]\u001b[A\n",
      " 90%|████████████████████████████████████████████     | 181/201 [09:50<01:08,  3.41s/it]\u001b[A"
     ]
    },
    {
     "name": "stdout",
     "output_type": "stream",
     "text": [
      "Evaluation 180 (Epsilon=None):\n",
      "\tTraining Gravity: 0.0025\n",
      " \tTraining Stability: 0.0\n",
      " \tAAR: -9.989\n",
      " \tSES: 0\n",
      " \tMean Reward: -1000.0\n",
      " \tStd Reward: 0.0\n",
      "\n"
     ]
    },
    {
     "name": "stderr",
     "output_type": "stream",
     "text": [
      "\n",
      " 91%|████████████████████████████████████████████▎    | 182/201 [09:54<01:04,  3.42s/it]\u001b[A\n",
      " 91%|████████████████████████████████████████████▌    | 183/201 [09:57<01:01,  3.42s/it]\u001b[A\n",
      " 92%|████████████████████████████████████████████▊    | 184/201 [10:01<00:57,  3.38s/it]\u001b[A\n",
      " 92%|█████████████████████████████████████████████    | 185/201 [10:04<00:53,  3.35s/it]\u001b[A\n",
      " 93%|█████████████████████████████████████████████▎   | 186/201 [10:07<00:49,  3.29s/it]\u001b[A"
     ]
    },
    {
     "name": "stdout",
     "output_type": "stream",
     "text": [
      "Evaluation 185 (Epsilon=None):\n",
      "\tTraining Gravity: 0.0025\n",
      " \tTraining Stability: 0.0\n",
      " \tAAR: -9.991\n",
      " \tSES: 0\n",
      " \tMean Reward: -1000.0\n",
      " \tStd Reward: 0.0\n",
      "\n"
     ]
    },
    {
     "name": "stderr",
     "output_type": "stream",
     "text": [
      "\n",
      " 93%|█████████████████████████████████████████████▌   | 187/201 [10:10<00:45,  3.25s/it]\u001b[A\n",
      " 94%|█████████████████████████████████████████████▊   | 188/201 [10:13<00:41,  3.21s/it]\u001b[A\n",
      " 94%|██████████████████████████████████████████████   | 189/201 [10:16<00:38,  3.19s/it]\u001b[A\n",
      " 95%|██████████████████████████████████████████████▎  | 190/201 [10:20<00:34,  3.16s/it]\u001b[A\n",
      " 95%|██████████████████████████████████████████████▌  | 191/201 [10:23<00:31,  3.16s/it]\u001b[A"
     ]
    },
    {
     "name": "stdout",
     "output_type": "stream",
     "text": [
      "Evaluation 190 (Epsilon=None):\n",
      "\tTraining Gravity: 0.0025\n",
      " \tTraining Stability: 0.0\n",
      " \tAAR: -9.994\n",
      " \tSES: 0\n",
      " \tMean Reward: -1000.0\n",
      " \tStd Reward: 0.0\n",
      "\n"
     ]
    },
    {
     "name": "stderr",
     "output_type": "stream",
     "text": [
      "\n",
      " 96%|██████████████████████████████████████████████▊  | 192/201 [10:26<00:28,  3.21s/it]\u001b[A\n",
      " 96%|███████████████████████████████████████████████  | 193/201 [10:29<00:25,  3.20s/it]\u001b[A\n",
      " 97%|███████████████████████████████████████████████▎ | 194/201 [10:32<00:22,  3.20s/it]\u001b[A\n",
      " 97%|███████████████████████████████████████████████▌ | 195/201 [10:36<00:19,  3.26s/it]\u001b[A\n",
      " 98%|███████████████████████████████████████████████▊ | 196/201 [10:39<00:16,  3.33s/it]\u001b[A"
     ]
    },
    {
     "name": "stdout",
     "output_type": "stream",
     "text": [
      "Evaluation 195 (Epsilon=None):\n",
      "\tTraining Gravity: 0.0025\n",
      " \tTraining Stability: 0.0\n",
      " \tAAR: -9.978\n",
      " \tSES: 0\n",
      " \tMean Reward: -1000.0\n",
      " \tStd Reward: 0.0\n",
      "\n"
     ]
    },
    {
     "name": "stderr",
     "output_type": "stream",
     "text": [
      "\n",
      " 98%|████████████████████████████████████████████████ | 197/201 [10:43<00:13,  3.35s/it]\u001b[A\n",
      " 99%|████████████████████████████████████████████████▎| 198/201 [10:46<00:10,  3.41s/it]\u001b[A\n",
      " 99%|████████████████████████████████████████████████▌| 199/201 [10:50<00:07,  3.52s/it]\u001b[A\n",
      "100%|████████████████████████████████████████████████▊| 200/201 [10:54<00:03,  3.61s/it]\u001b[A\n",
      "100%|█████████████████████████████████████████████████| 201/201 [10:58<00:00,  3.27s/it]\u001b[A"
     ]
    },
    {
     "name": "stdout",
     "output_type": "stream",
     "text": [
      "Evaluation 200 (Epsilon=None):\n",
      "\tTraining Gravity: 0.0025\n",
      " \tTraining Stability: 0.0\n",
      " \tAAR: -10.005\n",
      " \tSES: 0\n",
      " \tMean Reward: -1000.0\n",
      " \tStd Reward: 0.0\n",
      "\n"
     ]
    },
    {
     "name": "stderr",
     "output_type": "stream",
     "text": [
      "\n",
      " 50%|███████████████████████▌                       | 6/12 [1:15:08<1:09:17, 692.90s/it]\n",
      "  0%|                                                           | 0/201 [00:00<?, ?it/s]\u001b[A/Users/danorel/miniconda3/envs/aclarel_3.11.3/lib/python3.11/site-packages/gym/utils/passive_env_checker.py:233: DeprecationWarning: `np.bool8` is a deprecated alias for `np.bool_`.  (Deprecated NumPy 1.24)\n",
      "  if not isinstance(terminated, (bool, np.bool8)):\n",
      "\n",
      "  0%|▎                                                  | 1/201 [00:01<06:37,  1.99s/it]\u001b[A"
     ]
    },
    {
     "name": "stdout",
     "output_type": "stream",
     "text": [
      "Evaluation 0 (Epsilon=None):\n",
      "\tTraining Gravity: 0.00025\n",
      " \tTraining Stability: 0.0\n",
      " \tAAR: -98.954\n",
      " \tSES: 0\n",
      " \tMean Reward: -1000.0\n",
      " \tStd Reward: 0.0\n",
      "\n"
     ]
    },
    {
     "name": "stderr",
     "output_type": "stream",
     "text": [
      "\n",
      "  1%|▌                                                  | 2/201 [00:03<05:26,  1.64s/it]\u001b[A\n",
      "  1%|▊                                                  | 3/201 [00:05<05:48,  1.76s/it]\u001b[A\n",
      "  2%|█                                                  | 4/201 [00:07<06:34,  2.00s/it]\u001b[A\n",
      "  2%|█▎                                                 | 5/201 [00:11<08:14,  2.52s/it]\u001b[A\n",
      "  3%|█▌                                                 | 6/201 [00:13<07:54,  2.43s/it]\u001b[A"
     ]
    },
    {
     "name": "stdout",
     "output_type": "stream",
     "text": [
      "Evaluation 5 (Epsilon=None):\n",
      "\tTraining Gravity: 0.000306\n",
      " \tTraining Stability: 0.0\n",
      " \tAAR: -80.806\n",
      " \tSES: 0\n",
      " \tMean Reward: -1000.0\n",
      " \tStd Reward: 0.0\n",
      "\n"
     ]
    },
    {
     "name": "stderr",
     "output_type": "stream",
     "text": [
      "\n",
      "  3%|█▊                                                 | 7/201 [00:17<09:19,  2.88s/it]\u001b[A\n",
      "  4%|██                                                 | 8/201 [00:21<10:23,  3.23s/it]\u001b[A\n",
      "  4%|██▎                                                | 9/201 [00:22<08:21,  2.61s/it]\u001b[A\n",
      "  5%|██▍                                               | 10/201 [00:25<08:37,  2.71s/it]\u001b[A\n",
      "  5%|██▋                                               | 11/201 [00:28<08:35,  2.71s/it]\u001b[A"
     ]
    },
    {
     "name": "stdout",
     "output_type": "stream",
     "text": [
      "Evaluation 10 (Epsilon=None):\n",
      "\tTraining Gravity: 0.000363\n",
      " \tTraining Stability: 0.0\n",
      " \tAAR: -68.567\n",
      " \tSES: 0\n",
      " \tMean Reward: -1000.0\n",
      " \tStd Reward: 0.0\n",
      "\n"
     ]
    },
    {
     "name": "stderr",
     "output_type": "stream",
     "text": [
      "\n",
      "  6%|██▉                                               | 12/201 [00:30<07:49,  2.49s/it]\u001b[A\n",
      "  6%|███▏                                              | 13/201 [00:31<07:00,  2.24s/it]\u001b[A\n",
      "  7%|███▍                                              | 14/201 [00:34<07:43,  2.48s/it]\u001b[A\n",
      "  7%|███▋                                              | 15/201 [00:37<08:13,  2.65s/it]\u001b[A\n",
      "  8%|███▉                                              | 16/201 [00:40<07:54,  2.56s/it]\u001b[A"
     ]
    },
    {
     "name": "stdout",
     "output_type": "stream",
     "text": [
      "Evaluation 15 (Epsilon=None):\n",
      "\tTraining Gravity: 0.000419\n",
      " \tTraining Stability: 0.0\n",
      " \tAAR: -59.281\n",
      " \tSES: 0\n",
      " \tMean Reward: -1000.0\n",
      " \tStd Reward: 0.0\n",
      "\n"
     ]
    },
    {
     "name": "stderr",
     "output_type": "stream",
     "text": [
      "\n",
      "  8%|████▏                                             | 17/201 [00:42<07:58,  2.60s/it]\u001b[A\n",
      "  9%|████▍                                             | 18/201 [00:45<08:11,  2.69s/it]\u001b[A\n",
      "  9%|████▋                                             | 19/201 [00:48<08:19,  2.75s/it]\u001b[A\n",
      " 10%|████▉                                             | 20/201 [00:51<08:24,  2.79s/it]\u001b[A\n",
      " 10%|█████▏                                            | 21/201 [00:54<08:28,  2.83s/it]\u001b[A"
     ]
    },
    {
     "name": "stdout",
     "output_type": "stream",
     "text": [
      "Evaluation 20 (Epsilon=None):\n",
      "\tTraining Gravity: 0.000475\n",
      " \tTraining Stability: 0.0\n",
      " \tAAR: -52.795\n",
      " \tSES: 0\n",
      " \tMean Reward: -1000.0\n",
      " \tStd Reward: 0.0\n",
      "\n"
     ]
    },
    {
     "name": "stderr",
     "output_type": "stream",
     "text": [
      "\n",
      " 11%|█████▍                                            | 22/201 [00:57<08:33,  2.87s/it]\u001b[A\n",
      " 11%|█████▋                                            | 23/201 [01:00<08:45,  2.95s/it]\u001b[A\n",
      " 12%|█████▉                                            | 24/201 [01:01<07:23,  2.51s/it]\u001b[A\n",
      " 12%|██████▏                                           | 25/201 [01:05<07:55,  2.70s/it]\u001b[A\n",
      " 13%|██████▍                                           | 26/201 [01:08<08:18,  2.85s/it]\u001b[A"
     ]
    },
    {
     "name": "stdout",
     "output_type": "stream",
     "text": [
      "Evaluation 25 (Epsilon=None):\n",
      "\tTraining Gravity: 0.000531\n",
      " \tTraining Stability: 0.0\n",
      " \tAAR: -47.095\n",
      " \tSES: 0\n",
      " \tMean Reward: -1000.0\n",
      " \tStd Reward: 0.0\n",
      "\n"
     ]
    },
    {
     "name": "stderr",
     "output_type": "stream",
     "text": [
      "\n",
      " 13%|██████▋                                           | 27/201 [01:11<08:24,  2.90s/it]\u001b[A\n",
      " 14%|██████▉                                           | 28/201 [01:14<08:40,  3.01s/it]\u001b[A\n",
      " 14%|███████▏                                          | 29/201 [01:16<07:52,  2.74s/it]\u001b[A\n",
      " 15%|███████▍                                          | 30/201 [01:19<08:08,  2.86s/it]\u001b[A\n",
      " 15%|███████▋                                          | 31/201 [01:22<07:33,  2.67s/it]\u001b[A"
     ]
    },
    {
     "name": "stdout",
     "output_type": "stream",
     "text": [
      "Evaluation 30 (Epsilon=None):\n",
      "\tTraining Gravity: 0.000588\n",
      " \tTraining Stability: 0.0\n",
      " \tAAR: -42.24\n",
      " \tSES: 0\n",
      " \tMean Reward: -1000.0\n",
      " \tStd Reward: 0.0\n",
      "\n"
     ]
    },
    {
     "name": "stderr",
     "output_type": "stream",
     "text": [
      "\n",
      " 16%|███████▉                                          | 32/201 [01:25<08:03,  2.86s/it]\u001b[A\n",
      " 16%|████████▏                                         | 33/201 [01:27<07:23,  2.64s/it]\u001b[A\n",
      " 17%|████████▍                                         | 34/201 [01:30<07:38,  2.75s/it]\u001b[A\n",
      " 17%|████████▋                                         | 35/201 [01:33<07:48,  2.82s/it]\u001b[A\n",
      " 18%|████████▉                                         | 36/201 [01:36<07:48,  2.84s/it]\u001b[A"
     ]
    },
    {
     "name": "stdout",
     "output_type": "stream",
     "text": [
      "Evaluation 35 (Epsilon=None):\n",
      "\tTraining Gravity: 0.000644\n",
      " \tTraining Stability: 0.0\n",
      " \tAAR: -38.649\n",
      " \tSES: 0\n",
      " \tMean Reward: -1000.0\n",
      " \tStd Reward: 0.0\n",
      "\n"
     ]
    },
    {
     "name": "stderr",
     "output_type": "stream",
     "text": [
      "\n",
      " 18%|█████████▏                                        | 37/201 [01:39<07:54,  2.89s/it]\u001b[A\n",
      " 19%|█████████▍                                        | 38/201 [01:42<08:00,  2.95s/it]\u001b[A\n",
      " 19%|█████████▋                                        | 39/201 [01:45<07:59,  2.96s/it]\u001b[A\n",
      " 20%|█████████▉                                        | 40/201 [01:46<06:41,  2.49s/it]\u001b[A\n",
      " 20%|██████████▏                                       | 41/201 [01:49<06:40,  2.51s/it]\u001b[A"
     ]
    },
    {
     "name": "stdout",
     "output_type": "stream",
     "text": [
      "Evaluation 40 (Epsilon=None):\n",
      "\tTraining Gravity: 0.0007\n",
      " \tTraining Stability: 0.0\n",
      " \tAAR: -35.498\n",
      " \tSES: 0\n",
      " \tMean Reward: -1000.0\n",
      " \tStd Reward: 0.0\n",
      "\n"
     ]
    },
    {
     "name": "stderr",
     "output_type": "stream",
     "text": [
      "\n",
      " 21%|██████████▍                                       | 42/201 [01:51<06:40,  2.52s/it]\u001b[A\n",
      " 21%|██████████▋                                       | 43/201 [01:54<07:01,  2.67s/it]\u001b[A\n",
      " 22%|██████████▉                                       | 44/201 [01:57<07:13,  2.76s/it]\u001b[A\n",
      " 22%|███████████▏                                      | 45/201 [02:00<07:11,  2.76s/it]\u001b[A\n",
      " 23%|███████████▍                                      | 46/201 [02:03<07:19,  2.84s/it]\u001b[A"
     ]
    },
    {
     "name": "stdout",
     "output_type": "stream",
     "text": [
      "Evaluation 45 (Epsilon=None):\n",
      "\tTraining Gravity: 0.000756\n",
      " \tTraining Stability: 0.0\n",
      " \tAAR: -33.106\n",
      " \tSES: 0\n",
      " \tMean Reward: -1000.0\n",
      " \tStd Reward: 0.0\n",
      "\n"
     ]
    },
    {
     "name": "stderr",
     "output_type": "stream",
     "text": [
      "\n",
      " 23%|███████████▋                                      | 47/201 [02:06<07:28,  2.91s/it]\u001b[A\n",
      " 24%|███████████▉                                      | 48/201 [02:10<07:38,  3.00s/it]\u001b[A\n",
      " 24%|████████████▏                                     | 49/201 [02:13<07:44,  3.05s/it]\u001b[A\n",
      " 25%|████████████▍                                     | 50/201 [02:16<07:39,  3.04s/it]\u001b[A\n",
      " 25%|████████████▋                                     | 51/201 [02:19<07:32,  3.02s/it]\u001b[A"
     ]
    },
    {
     "name": "stdout",
     "output_type": "stream",
     "text": [
      "Evaluation 50 (Epsilon=None):\n",
      "\tTraining Gravity: 0.000813\n",
      " \tTraining Stability: 0.0\n",
      " \tAAR: -30.611\n",
      " \tSES: 0\n",
      " \tMean Reward: -1000.0\n",
      " \tStd Reward: 0.0\n",
      "\n"
     ]
    },
    {
     "name": "stderr",
     "output_type": "stream",
     "text": [
      "\n",
      " 26%|████████████▉                                     | 52/201 [02:22<07:38,  3.08s/it]\u001b[A\n",
      " 26%|█████████████▏                                    | 53/201 [02:25<07:46,  3.15s/it]\u001b[A\n",
      " 27%|█████████████▍                                    | 54/201 [02:28<07:48,  3.19s/it]\u001b[A\n",
      " 27%|█████████████▋                                    | 55/201 [02:32<07:50,  3.22s/it]\u001b[A\n",
      " 28%|█████████████▉                                    | 56/201 [02:35<07:51,  3.25s/it]\u001b[A"
     ]
    },
    {
     "name": "stdout",
     "output_type": "stream",
     "text": [
      "Evaluation 55 (Epsilon=None):\n",
      "\tTraining Gravity: 0.000869\n",
      " \tTraining Stability: 0.0\n",
      " \tAAR: -28.819\n",
      " \tSES: 0\n",
      " \tMean Reward: -1000.0\n",
      " \tStd Reward: 0.0\n",
      "\n"
     ]
    },
    {
     "name": "stderr",
     "output_type": "stream",
     "text": [
      "\n",
      " 28%|██████████████▏                                   | 57/201 [02:39<07:57,  3.31s/it]\u001b[A\n",
      " 29%|██████████████▍                                   | 58/201 [02:42<07:59,  3.35s/it]\u001b[A\n",
      " 29%|██████████████▋                                   | 59/201 [02:45<07:21,  3.11s/it]\u001b[A\n",
      " 30%|██████████████▉                                   | 60/201 [02:48<07:31,  3.21s/it]\u001b[A\n",
      " 30%|███████████████▏                                  | 61/201 [02:51<07:39,  3.28s/it]\u001b[A"
     ]
    },
    {
     "name": "stdout",
     "output_type": "stream",
     "text": [
      "Evaluation 60 (Epsilon=None):\n",
      "\tTraining Gravity: 0.000925\n",
      " \tTraining Stability: 0.0\n",
      " \tAAR: -27.029\n",
      " \tSES: 0\n",
      " \tMean Reward: -1000.0\n",
      " \tStd Reward: 0.0\n",
      "\n"
     ]
    },
    {
     "name": "stderr",
     "output_type": "stream",
     "text": [
      "\n",
      " 31%|███████████████▍                                  | 62/201 [02:55<07:42,  3.33s/it]\u001b[A\n",
      " 31%|███████████████▋                                  | 63/201 [02:57<06:55,  3.01s/it]\u001b[A\n",
      " 32%|███████████████▉                                  | 64/201 [03:00<07:04,  3.10s/it]\u001b[A\n",
      " 32%|████████████████▏                                 | 65/201 [03:04<07:07,  3.15s/it]\u001b[A\n",
      " 33%|████████████████▍                                 | 66/201 [03:07<06:54,  3.07s/it]\u001b[A"
     ]
    },
    {
     "name": "stdout",
     "output_type": "stream",
     "text": [
      "Evaluation 65 (Epsilon=None):\n",
      "\tTraining Gravity: 0.000981\n",
      " \tTraining Stability: 0.0\n",
      " \tAAR: -25.347\n",
      " \tSES: 0\n",
      " \tMean Reward: -1000.0\n",
      " \tStd Reward: 0.0\n",
      "\n"
     ]
    },
    {
     "name": "stderr",
     "output_type": "stream",
     "text": [
      "\n",
      " 33%|████████████████▋                                 | 67/201 [03:10<06:54,  3.09s/it]\u001b[A\n",
      " 34%|████████████████▉                                 | 68/201 [03:13<06:51,  3.09s/it]\u001b[A\n",
      " 34%|█████████████████▏                                | 69/201 [03:16<06:46,  3.08s/it]\u001b[A\n",
      " 35%|█████████████████▍                                | 70/201 [03:19<06:47,  3.11s/it]\u001b[A\n",
      " 35%|█████████████████▋                                | 71/201 [03:22<06:33,  3.03s/it]\u001b[A"
     ]
    },
    {
     "name": "stdout",
     "output_type": "stream",
     "text": [
      "Evaluation 70 (Epsilon=None):\n",
      "\tTraining Gravity: 0.001038\n",
      " \tTraining Stability: 0.0\n",
      " \tAAR: -24.132\n",
      " \tSES: 0\n",
      " \tMean Reward: -1000.0\n",
      " \tStd Reward: 0.0\n",
      "\n"
     ]
    },
    {
     "name": "stderr",
     "output_type": "stream",
     "text": [
      "\n",
      " 36%|█████████████████▉                                | 72/201 [03:25<06:25,  2.99s/it]\u001b[A\n",
      " 36%|██████████████████▏                               | 73/201 [03:27<05:51,  2.75s/it]\u001b[A\n",
      " 37%|██████████████████▍                               | 74/201 [03:30<05:53,  2.79s/it]\u001b[A\n",
      " 37%|██████████████████▋                               | 75/201 [03:33<05:55,  2.82s/it]\u001b[A\n",
      " 38%|██████████████████▉                               | 76/201 [03:36<06:01,  2.89s/it]\u001b[A"
     ]
    },
    {
     "name": "stdout",
     "output_type": "stream",
     "text": [
      "Evaluation 75 (Epsilon=None):\n",
      "\tTraining Gravity: 0.001094\n",
      " \tTraining Stability: 0.0\n",
      " \tAAR: -22.82\n",
      " \tSES: 0\n",
      " \tMean Reward: -1000.0\n",
      " \tStd Reward: 0.0\n",
      "\n"
     ]
    },
    {
     "name": "stderr",
     "output_type": "stream",
     "text": [
      "\n",
      " 38%|███████████████████▏                              | 77/201 [03:39<06:10,  2.99s/it]\u001b[A\n",
      " 39%|███████████████████▍                              | 78/201 [03:42<06:20,  3.09s/it]\u001b[A\n",
      " 39%|███████████████████▋                              | 79/201 [03:46<06:32,  3.22s/it]\u001b[A\n",
      " 40%|███████████████████▉                              | 80/201 [03:50<06:44,  3.34s/it]\u001b[A\n",
      " 40%|████████████████████▏                             | 81/201 [03:53<06:44,  3.37s/it]\u001b[A"
     ]
    },
    {
     "name": "stdout",
     "output_type": "stream",
     "text": [
      "Evaluation 80 (Epsilon=None):\n",
      "\tTraining Gravity: 0.00115\n",
      " \tTraining Stability: 0.0\n",
      " \tAAR: -21.708\n",
      " \tSES: 0\n",
      " \tMean Reward: -1000.0\n",
      " \tStd Reward: 0.0\n",
      "\n"
     ]
    },
    {
     "name": "stderr",
     "output_type": "stream",
     "text": [
      "\n",
      " 41%|████████████████████▍                             | 82/201 [03:56<06:43,  3.39s/it]\u001b[A\n",
      " 41%|████████████████████▋                             | 83/201 [04:00<06:42,  3.41s/it]\u001b[A\n",
      " 42%|████████████████████▉                             | 84/201 [04:03<06:39,  3.41s/it]\u001b[A\n",
      " 42%|█████████████████████▏                            | 85/201 [04:07<06:36,  3.42s/it]\u001b[A\n",
      " 43%|█████████████████████▍                            | 86/201 [04:09<06:04,  3.17s/it]\u001b[A"
     ]
    },
    {
     "name": "stdout",
     "output_type": "stream",
     "text": [
      "Evaluation 85 (Epsilon=None):\n",
      "\tTraining Gravity: 0.001206\n",
      " \tTraining Stability: 0.0\n",
      " \tAAR: -20.58\n",
      " \tSES: 0\n",
      " \tMean Reward: -1000.0\n",
      " \tStd Reward: 0.0\n",
      "\n"
     ]
    },
    {
     "name": "stderr",
     "output_type": "stream",
     "text": [
      "\n",
      " 43%|█████████████████████▋                            | 87/201 [04:13<06:09,  3.24s/it]\u001b[A\n",
      " 44%|█████████████████████▉                            | 88/201 [04:16<06:07,  3.25s/it]\u001b[A\n",
      " 44%|██████████████████████▏                           | 89/201 [04:19<05:58,  3.20s/it]\u001b[A\n",
      " 45%|██████████████████████▍                           | 90/201 [04:22<05:54,  3.19s/it]\u001b[A\n",
      " 45%|██████████████████████▋                           | 91/201 [04:25<05:44,  3.14s/it]\u001b[A"
     ]
    },
    {
     "name": "stdout",
     "output_type": "stream",
     "text": [
      "Evaluation 90 (Epsilon=None):\n",
      "\tTraining Gravity: 0.001263\n",
      " \tTraining Stability: 0.0\n",
      " \tAAR: -19.787\n",
      " \tSES: 0\n",
      " \tMean Reward: -1000.0\n",
      " \tStd Reward: 0.0\n",
      "\n"
     ]
    },
    {
     "name": "stderr",
     "output_type": "stream",
     "text": [
      "\n",
      " 46%|██████████████████████▉                           | 92/201 [04:28<05:37,  3.10s/it]\u001b[A\n",
      " 46%|███████████████████████▏                          | 93/201 [04:31<05:30,  3.06s/it]\u001b[A\n",
      " 47%|███████████████████████▍                          | 94/201 [04:34<05:13,  2.93s/it]\u001b[A\n",
      " 47%|███████████████████████▋                          | 95/201 [04:37<05:13,  2.96s/it]\u001b[A\n",
      " 48%|███████████████████████▉                          | 96/201 [04:40<05:12,  2.97s/it]\u001b[A"
     ]
    },
    {
     "name": "stdout",
     "output_type": "stream",
     "text": [
      "Evaluation 95 (Epsilon=None):\n",
      "\tTraining Gravity: 0.001319\n",
      " \tTraining Stability: 0.0\n",
      " \tAAR: -18.936\n",
      " \tSES: 0\n",
      " \tMean Reward: -1000.0\n",
      " \tStd Reward: 0.0\n",
      "\n"
     ]
    },
    {
     "name": "stderr",
     "output_type": "stream",
     "text": [
      "\n",
      " 48%|████████████████████████▏                         | 97/201 [04:43<05:09,  2.98s/it]\u001b[A\n",
      " 49%|████████████████████████▍                         | 98/201 [04:46<05:03,  2.95s/it]\u001b[A\n",
      " 49%|████████████████████████▋                         | 99/201 [04:49<04:58,  2.93s/it]\u001b[A\n",
      " 50%|████████████████████████▍                        | 100/201 [04:52<04:59,  2.97s/it]\u001b[A\n",
      " 50%|████████████████████████▌                        | 101/201 [04:55<05:02,  3.03s/it]\u001b[A"
     ]
    },
    {
     "name": "stdout",
     "output_type": "stream",
     "text": [
      "Evaluation 100 (Epsilon=None):\n",
      "\tTraining Gravity: 0.001375\n",
      " \tTraining Stability: 0.0\n",
      " \tAAR: -18.204\n",
      " \tSES: 0\n",
      " \tMean Reward: -1000.0\n",
      " \tStd Reward: 0.0\n",
      "\n"
     ]
    },
    {
     "name": "stderr",
     "output_type": "stream",
     "text": [
      "\n",
      " 51%|████████████████████████▊                        | 102/201 [04:58<05:09,  3.12s/it]\u001b[A\n",
      " 51%|█████████████████████████                        | 103/201 [05:02<05:17,  3.24s/it]\u001b[A\n",
      " 52%|█████████████████████████▎                       | 104/201 [05:05<05:20,  3.31s/it]\u001b[A\n",
      " 52%|█████████████████████████▌                       | 105/201 [05:08<04:52,  3.05s/it]\u001b[A\n",
      " 53%|█████████████████████████▊                       | 106/201 [05:11<04:59,  3.15s/it]\u001b[A"
     ]
    },
    {
     "name": "stdout",
     "output_type": "stream",
     "text": [
      "Evaluation 105 (Epsilon=None):\n",
      "\tTraining Gravity: 0.001431\n",
      " \tTraining Stability: 0.0\n",
      " \tAAR: -17.366\n",
      " \tSES: 0\n",
      " \tMean Reward: -1000.0\n",
      " \tStd Reward: 0.0\n",
      "\n"
     ]
    },
    {
     "name": "stderr",
     "output_type": "stream",
     "text": [
      "\n",
      " 53%|██████████████████████████                       | 107/201 [05:15<05:14,  3.35s/it]\u001b[A\n",
      " 54%|██████████████████████████▎                      | 108/201 [05:18<05:18,  3.42s/it]\u001b[A\n",
      " 54%|██████████████████████████▌                      | 109/201 [05:22<05:20,  3.48s/it]\u001b[A\n",
      " 55%|██████████████████████████▊                      | 110/201 [05:25<05:15,  3.47s/it]\u001b[A\n",
      " 55%|███████████████████████████                      | 111/201 [05:29<05:18,  3.54s/it]\u001b[A"
     ]
    },
    {
     "name": "stdout",
     "output_type": "stream",
     "text": [
      "Evaluation 110 (Epsilon=None):\n",
      "\tTraining Gravity: 0.001488\n",
      " \tTraining Stability: 0.0\n",
      " \tAAR: -16.826\n",
      " \tSES: 0\n",
      " \tMean Reward: -1000.0\n",
      " \tStd Reward: 0.0\n",
      "\n"
     ]
    },
    {
     "name": "stderr",
     "output_type": "stream",
     "text": [
      "\n",
      " 56%|███████████████████████████▎                     | 112/201 [05:33<05:13,  3.52s/it]\u001b[A\n",
      " 56%|███████████████████████████▌                     | 113/201 [05:36<05:05,  3.48s/it]\u001b[A\n",
      " 57%|███████████████████████████▊                     | 114/201 [05:39<04:59,  3.44s/it]\u001b[A\n",
      " 57%|████████████████████████████                     | 115/201 [05:43<04:54,  3.43s/it]\u001b[A\n",
      " 58%|████████████████████████████▎                    | 116/201 [05:46<04:43,  3.34s/it]\u001b[A"
     ]
    },
    {
     "name": "stdout",
     "output_type": "stream",
     "text": [
      "Evaluation 115 (Epsilon=None):\n",
      "\tTraining Gravity: 0.001544\n",
      " \tTraining Stability: 0.0\n",
      " \tAAR: -16.207\n",
      " \tSES: 0\n",
      " \tMean Reward: -1000.0\n",
      " \tStd Reward: 0.0\n",
      "\n"
     ]
    },
    {
     "name": "stderr",
     "output_type": "stream",
     "text": [
      "\n",
      " 58%|████████████████████████████▌                    | 117/201 [05:49<04:35,  3.28s/it]\u001b[A\n",
      " 59%|████████████████████████████▊                    | 118/201 [05:52<04:25,  3.20s/it]\u001b[A\n",
      " 59%|█████████████████████████████                    | 119/201 [05:55<04:17,  3.14s/it]\u001b[A\n",
      " 60%|█████████████████████████████▎                   | 120/201 [05:58<04:10,  3.09s/it]\u001b[A\n",
      " 60%|█████████████████████████████▍                   | 121/201 [06:01<04:06,  3.08s/it]\u001b[A"
     ]
    },
    {
     "name": "stdout",
     "output_type": "stream",
     "text": [
      "Evaluation 120 (Epsilon=None):\n",
      "\tTraining Gravity: 0.0016\n",
      " \tTraining Stability: 0.0\n",
      " \tAAR: -15.579\n",
      " \tSES: 0\n",
      " \tMean Reward: -1000.0\n",
      " \tStd Reward: 0.0\n",
      "\n"
     ]
    },
    {
     "name": "stderr",
     "output_type": "stream",
     "text": [
      "\n",
      " 61%|█████████████████████████████▋                   | 122/201 [06:04<04:01,  3.06s/it]\u001b[A\n",
      " 61%|█████████████████████████████▉                   | 123/201 [06:07<03:57,  3.04s/it]\u001b[A\n",
      " 62%|██████████████████████████████▏                  | 124/201 [06:10<03:53,  3.04s/it]\u001b[A\n",
      " 62%|██████████████████████████████▍                  | 125/201 [06:13<03:51,  3.05s/it]\u001b[A\n",
      " 63%|██████████████████████████████▋                  | 126/201 [06:16<03:48,  3.05s/it]\u001b[A"
     ]
    },
    {
     "name": "stdout",
     "output_type": "stream",
     "text": [
      "Evaluation 125 (Epsilon=None):\n",
      "\tTraining Gravity: 0.001656\n",
      " \tTraining Stability: 0.0\n",
      " \tAAR: -15.075\n",
      " \tSES: 0\n",
      " \tMean Reward: -1000.0\n",
      " \tStd Reward: 0.0\n",
      "\n"
     ]
    },
    {
     "name": "stderr",
     "output_type": "stream",
     "text": [
      "\n",
      " 63%|██████████████████████████████▉                  | 127/201 [06:19<03:47,  3.08s/it]\u001b[A\n",
      " 64%|███████████████████████████████▏                 | 128/201 [06:23<03:48,  3.13s/it]\u001b[A\n",
      " 64%|███████████████████████████████▍                 | 129/201 [06:26<03:49,  3.19s/it]\u001b[A\n",
      " 65%|███████████████████████████████▋                 | 130/201 [06:29<03:48,  3.21s/it]\u001b[A\n",
      " 65%|███████████████████████████████▉                 | 131/201 [06:33<03:50,  3.29s/it]\u001b[A"
     ]
    },
    {
     "name": "stdout",
     "output_type": "stream",
     "text": [
      "Evaluation 130 (Epsilon=None):\n",
      "\tTraining Gravity: 0.001713\n",
      " \tTraining Stability: 0.0\n",
      " \tAAR: -14.602\n",
      " \tSES: 0\n",
      " \tMean Reward: -1000.0\n",
      " \tStd Reward: 0.0\n",
      "\n"
     ]
    },
    {
     "name": "stderr",
     "output_type": "stream",
     "text": [
      "\n",
      " 66%|████████████████████████████████▏                | 132/201 [06:36<03:54,  3.40s/it]\u001b[A\n",
      " 66%|████████████████████████████████▍                | 133/201 [06:40<03:57,  3.49s/it]\u001b[A\n",
      " 67%|████████████████████████████████▋                | 134/201 [06:44<04:03,  3.63s/it]\u001b[A\n",
      " 67%|████████████████████████████████▉                | 135/201 [06:48<04:03,  3.70s/it]\u001b[A\n",
      " 68%|█████████████████████████████████▏               | 136/201 [06:52<04:01,  3.72s/it]\u001b[A"
     ]
    },
    {
     "name": "stdout",
     "output_type": "stream",
     "text": [
      "Evaluation 135 (Epsilon=None):\n",
      "\tTraining Gravity: 0.001769\n",
      " \tTraining Stability: 0.0\n",
      " \tAAR: -14.131\n",
      " \tSES: 0\n",
      " \tMean Reward: -1000.0\n",
      " \tStd Reward: 0.0\n",
      "\n"
     ]
    },
    {
     "name": "stderr",
     "output_type": "stream",
     "text": [
      "\n",
      " 68%|█████████████████████████████████▍               | 137/201 [06:55<04:00,  3.75s/it]\u001b[A\n",
      " 69%|█████████████████████████████████▋               | 138/201 [06:59<03:51,  3.67s/it]\u001b[A\n",
      " 69%|█████████████████████████████████▉               | 139/201 [07:02<03:42,  3.60s/it]\u001b[A\n",
      " 70%|██████████████████████████████████▏              | 140/201 [07:06<03:34,  3.52s/it]\u001b[A\n",
      " 70%|██████████████████████████████████▎              | 141/201 [07:09<03:24,  3.41s/it]\u001b[A"
     ]
    },
    {
     "name": "stdout",
     "output_type": "stream",
     "text": [
      "Evaluation 140 (Epsilon=None):\n",
      "\tTraining Gravity: 0.001825\n",
      " \tTraining Stability: 0.0\n",
      " \tAAR: -13.72\n",
      " \tSES: 0\n",
      " \tMean Reward: -1000.0\n",
      " \tStd Reward: 0.0\n",
      "\n"
     ]
    },
    {
     "name": "stderr",
     "output_type": "stream",
     "text": [
      "\n",
      " 71%|██████████████████████████████████▌              | 142/201 [07:12<03:16,  3.33s/it]\u001b[A\n",
      " 71%|██████████████████████████████████▊              | 143/201 [07:15<03:08,  3.25s/it]\u001b[A\n",
      " 72%|███████████████████████████████████              | 144/201 [07:18<03:03,  3.22s/it]\u001b[A\n",
      " 72%|███████████████████████████████████▎             | 145/201 [07:21<02:55,  3.14s/it]\u001b[A\n",
      " 73%|███████████████████████████████████▌             | 146/201 [07:24<02:49,  3.08s/it]\u001b[A"
     ]
    },
    {
     "name": "stdout",
     "output_type": "stream",
     "text": [
      "Evaluation 145 (Epsilon=None):\n",
      "\tTraining Gravity: 0.001881\n",
      " \tTraining Stability: 0.0\n",
      " \tAAR: -13.309\n",
      " \tSES: 0\n",
      " \tMean Reward: -1000.0\n",
      " \tStd Reward: 0.0\n",
      "\n"
     ]
    },
    {
     "name": "stderr",
     "output_type": "stream",
     "text": [
      "\n",
      " 73%|███████████████████████████████████▊             | 147/201 [07:27<02:43,  3.03s/it]\u001b[A\n",
      " 74%|████████████████████████████████████             | 148/201 [07:30<02:38,  2.99s/it]\u001b[A\n",
      " 74%|████████████████████████████████████▎            | 149/201 [07:33<02:33,  2.96s/it]\u001b[A\n",
      " 75%|████████████████████████████████████▌            | 150/201 [07:36<02:29,  2.93s/it]\u001b[A\n",
      " 75%|████████████████████████████████████▊            | 151/201 [07:39<02:27,  2.96s/it]\u001b[A"
     ]
    },
    {
     "name": "stdout",
     "output_type": "stream",
     "text": [
      "Evaluation 150 (Epsilon=None):\n",
      "\tTraining Gravity: 0.001938\n",
      " \tTraining Stability: 0.0\n",
      " \tAAR: -12.932\n",
      " \tSES: 0\n",
      " \tMean Reward: -1000.0\n",
      " \tStd Reward: 0.0\n",
      "\n"
     ]
    },
    {
     "name": "stderr",
     "output_type": "stream",
     "text": [
      "\n",
      " 76%|█████████████████████████████████████            | 152/201 [07:42<02:27,  3.01s/it]\u001b[A\n",
      " 76%|█████████████████████████████████████▎           | 153/201 [07:45<02:27,  3.07s/it]\u001b[A\n",
      " 77%|█████████████████████████████████████▌           | 154/201 [07:48<02:28,  3.17s/it]\u001b[A\n",
      " 77%|█████████████████████████████████████▊           | 155/201 [07:52<02:29,  3.25s/it]\u001b[A\n",
      " 78%|██████████████████████████████████████           | 156/201 [07:55<02:29,  3.32s/it]\u001b[A"
     ]
    },
    {
     "name": "stdout",
     "output_type": "stream",
     "text": [
      "Evaluation 155 (Epsilon=None):\n",
      "\tTraining Gravity: 0.001994\n",
      " \tTraining Stability: 0.0\n",
      " \tAAR: -12.53\n",
      " \tSES: 0\n",
      " \tMean Reward: -1000.0\n",
      " \tStd Reward: 0.0\n",
      "\n"
     ]
    },
    {
     "name": "stderr",
     "output_type": "stream",
     "text": [
      "\n",
      " 78%|██████████████████████████████████████▎          | 157/201 [07:59<02:27,  3.36s/it]\u001b[A\n",
      " 79%|██████████████████████████████████████▌          | 158/201 [08:02<02:25,  3.38s/it]\u001b[A\n",
      " 79%|██████████████████████████████████████▊          | 159/201 [08:06<02:22,  3.40s/it]\u001b[A\n",
      " 80%|███████████████████████████████████████          | 160/201 [08:09<02:20,  3.42s/it]\u001b[A\n",
      " 80%|███████████████████████████████████████▏         | 161/201 [08:13<02:17,  3.43s/it]\u001b[A"
     ]
    },
    {
     "name": "stdout",
     "output_type": "stream",
     "text": [
      "Evaluation 160 (Epsilon=None):\n",
      "\tTraining Gravity: 0.00205\n",
      " \tTraining Stability: 0.0\n",
      " \tAAR: -12.226\n",
      " \tSES: 0\n",
      " \tMean Reward: -1000.0\n",
      " \tStd Reward: 0.0\n",
      "\n"
     ]
    },
    {
     "name": "stderr",
     "output_type": "stream",
     "text": [
      "\n",
      " 81%|███████████████████████████████████████▍         | 162/201 [08:16<02:12,  3.39s/it]\u001b[A\n",
      " 81%|███████████████████████████████████████▋         | 163/201 [08:19<02:07,  3.35s/it]\u001b[A\n",
      " 82%|███████████████████████████████████████▉         | 164/201 [08:22<02:03,  3.33s/it]\u001b[A\n",
      " 82%|████████████████████████████████████████▏        | 165/201 [08:26<01:59,  3.31s/it]\u001b[A\n",
      " 83%|████████████████████████████████████████▍        | 166/201 [08:29<01:54,  3.26s/it]\u001b[A"
     ]
    },
    {
     "name": "stdout",
     "output_type": "stream",
     "text": [
      "Evaluation 165 (Epsilon=None):\n",
      "\tTraining Gravity: 0.002106\n",
      " \tTraining Stability: 0.0\n",
      " \tAAR: -11.873\n",
      " \tSES: 0\n",
      " \tMean Reward: -1000.0\n",
      " \tStd Reward: 0.0\n",
      "\n"
     ]
    },
    {
     "name": "stderr",
     "output_type": "stream",
     "text": [
      "\n",
      " 83%|████████████████████████████████████████▋        | 167/201 [08:32<01:49,  3.23s/it]\u001b[A\n",
      " 84%|████████████████████████████████████████▉        | 168/201 [08:35<01:45,  3.20s/it]\u001b[A\n",
      " 84%|█████████████████████████████████████████▏       | 169/201 [08:38<01:41,  3.18s/it]\u001b[A\n",
      " 85%|█████████████████████████████████████████▍       | 170/201 [08:41<01:38,  3.17s/it]\u001b[A\n",
      " 85%|█████████████████████████████████████████▋       | 171/201 [08:44<01:33,  3.12s/it]\u001b[A"
     ]
    },
    {
     "name": "stdout",
     "output_type": "stream",
     "text": [
      "Evaluation 170 (Epsilon=None):\n",
      "\tTraining Gravity: 0.002163\n",
      " \tTraining Stability: 0.0\n",
      " \tAAR: -11.588\n",
      " \tSES: 0\n",
      " \tMean Reward: -1000.0\n",
      " \tStd Reward: 0.0\n",
      "\n"
     ]
    },
    {
     "name": "stderr",
     "output_type": "stream",
     "text": [
      "\n",
      " 86%|█████████████████████████████████████████▉       | 172/201 [08:47<01:29,  3.09s/it]\u001b[A\n",
      " 86%|██████████████████████████████████████████▏      | 173/201 [08:50<01:25,  3.07s/it]\u001b[A\n",
      " 87%|██████████████████████████████████████████▍      | 174/201 [08:53<01:22,  3.05s/it]\u001b[A\n",
      " 87%|██████████████████████████████████████████▋      | 175/201 [08:57<01:19,  3.05s/it]\u001b[A\n",
      " 88%|██████████████████████████████████████████▉      | 176/201 [09:00<01:18,  3.15s/it]\u001b[A"
     ]
    },
    {
     "name": "stdout",
     "output_type": "stream",
     "text": [
      "Evaluation 175 (Epsilon=None):\n",
      "\tTraining Gravity: 0.002219\n",
      " \tTraining Stability: 0.0\n",
      " \tAAR: -11.261\n",
      " \tSES: 0\n",
      " \tMean Reward: -1000.0\n",
      " \tStd Reward: 0.0\n",
      "\n"
     ]
    },
    {
     "name": "stderr",
     "output_type": "stream",
     "text": [
      "\n",
      " 88%|███████████████████████████████████████████▏     | 177/201 [09:03<01:16,  3.19s/it]\u001b[A\n",
      " 89%|███████████████████████████████████████████▍     | 178/201 [09:07<01:14,  3.25s/it]\u001b[A\n",
      " 89%|███████████████████████████████████████████▋     | 179/201 [09:10<01:12,  3.31s/it]\u001b[A\n",
      " 90%|███████████████████████████████████████████▉     | 180/201 [09:14<01:11,  3.40s/it]\u001b[A\n",
      " 90%|████████████████████████████████████████████     | 181/201 [09:17<01:08,  3.41s/it]\u001b[A"
     ]
    },
    {
     "name": "stdout",
     "output_type": "stream",
     "text": [
      "Evaluation 180 (Epsilon=None):\n",
      "\tTraining Gravity: 0.002275\n",
      " \tTraining Stability: 0.0\n",
      " \tAAR: -10.985\n",
      " \tSES: 0\n",
      " \tMean Reward: -1000.0\n",
      " \tStd Reward: 0.0\n",
      "\n"
     ]
    },
    {
     "name": "stderr",
     "output_type": "stream",
     "text": [
      "\n",
      " 91%|████████████████████████████████████████████▎    | 182/201 [09:20<01:04,  3.41s/it]\u001b[A\n",
      " 91%|████████████████████████████████████████████▌    | 183/201 [09:24<01:01,  3.42s/it]\u001b[A\n",
      " 92%|████████████████████████████████████████████▊    | 184/201 [09:27<00:57,  3.38s/it]\u001b[A\n",
      " 92%|█████████████████████████████████████████████    | 185/201 [09:30<00:53,  3.35s/it]\u001b[A\n",
      " 93%|█████████████████████████████████████████████▎   | 186/201 [09:34<00:49,  3.33s/it]\u001b[A"
     ]
    },
    {
     "name": "stdout",
     "output_type": "stream",
     "text": [
      "Evaluation 185 (Epsilon=None):\n",
      "\tTraining Gravity: 0.002331\n",
      " \tTraining Stability: 0.0\n",
      " \tAAR: -10.733\n",
      " \tSES: 0\n",
      " \tMean Reward: -1000.0\n",
      " \tStd Reward: 0.0\n",
      "\n"
     ]
    },
    {
     "name": "stderr",
     "output_type": "stream",
     "text": [
      "\n",
      " 93%|█████████████████████████████████████████████▌   | 187/201 [09:37<00:45,  3.27s/it]\u001b[A\n",
      " 94%|█████████████████████████████████████████████▊   | 188/201 [09:40<00:42,  3.24s/it]\u001b[A\n",
      " 94%|██████████████████████████████████████████████   | 189/201 [09:43<00:38,  3.23s/it]\u001b[A\n",
      " 95%|██████████████████████████████████████████████▎  | 190/201 [09:47<00:35,  3.24s/it]\u001b[A\n",
      " 95%|██████████████████████████████████████████████▌  | 191/201 [09:50<00:32,  3.21s/it]\u001b[A"
     ]
    },
    {
     "name": "stdout",
     "output_type": "stream",
     "text": [
      "Evaluation 190 (Epsilon=None):\n",
      "\tTraining Gravity: 0.002387\n",
      " \tTraining Stability: 0.0\n",
      " \tAAR: -10.459\n",
      " \tSES: 0\n",
      " \tMean Reward: -1000.0\n",
      " \tStd Reward: 0.0\n",
      "\n"
     ]
    },
    {
     "name": "stderr",
     "output_type": "stream",
     "text": [
      "\n",
      " 96%|██████████████████████████████████████████████▊  | 192/201 [09:53<00:28,  3.19s/it]\u001b[A\n",
      " 96%|███████████████████████████████████████████████  | 193/201 [09:56<00:25,  3.13s/it]\u001b[A\n",
      " 97%|███████████████████████████████████████████████▎ | 194/201 [09:59<00:21,  3.09s/it]\u001b[A\n",
      " 97%|███████████████████████████████████████████████▌ | 195/201 [10:02<00:18,  3.06s/it]\u001b[A\n",
      " 98%|███████████████████████████████████████████████▊ | 196/201 [10:05<00:15,  3.04s/it]\u001b[A"
     ]
    },
    {
     "name": "stdout",
     "output_type": "stream",
     "text": [
      "Evaluation 195 (Epsilon=None):\n",
      "\tTraining Gravity: 0.002444\n",
      " \tTraining Stability: 0.0\n",
      " \tAAR: -10.236\n",
      " \tSES: 0\n",
      " \tMean Reward: -1000.0\n",
      " \tStd Reward: 0.0\n",
      "\n"
     ]
    },
    {
     "name": "stderr",
     "output_type": "stream",
     "text": [
      "\n",
      " 98%|████████████████████████████████████████████████ | 197/201 [10:08<00:12,  3.04s/it]\u001b[A\n",
      " 99%|████████████████████████████████████████████████▎| 198/201 [10:11<00:09,  3.04s/it]\u001b[A\n",
      " 99%|████████████████████████████████████████████████▌| 199/201 [10:14<00:06,  3.03s/it]\u001b[A\n",
      "100%|████████████████████████████████████████████████▊| 200/201 [10:17<00:03,  3.03s/it]\u001b[A\n",
      "100%|█████████████████████████████████████████████████| 201/201 [10:20<00:00,  3.09s/it]\u001b[A"
     ]
    },
    {
     "name": "stdout",
     "output_type": "stream",
     "text": [
      "Evaluation 200 (Epsilon=None):\n",
      "\tTraining Gravity: 0.0025\n",
      " \tTraining Stability: 0.0\n",
      " \tAAR: -10.01\n",
      " \tSES: 0\n",
      " \tMean Reward: -1000.0\n",
      " \tStd Reward: 0.0\n",
      "\n"
     ]
    },
    {
     "name": "stderr",
     "output_type": "stream",
     "text": [
      "\n",
      " 58%|████████████████████████████▌                    | 7/12 [1:25:29<55:47, 669.53s/it]\n",
      "  0%|                                                           | 0/201 [00:00<?, ?it/s]\u001b[A/Users/danorel/Workspace/Education/University/KMA/Research/aclarel/environments/mountain_car/rl_methods/__init__.py:65: FutureWarning: The behavior of DataFrame concatenation with empty or all-NA entries is deprecated. In a future version, this will no longer exclude empty or all-NA columns when determining the result dtypes. To retain the old behavior, exclude the relevant entries before the concat operation.\n",
      "  self.measurements = pd.concat([self.measurements, measurement], ignore_index=True)\n",
      "\n",
      "  0%|▎                                                  | 1/201 [00:02<09:43,  2.92s/it]\u001b[A"
     ]
    },
    {
     "name": "stdout",
     "output_type": "stream",
     "text": [
      "Evaluation 0 (Epsilon=None):\n",
      "\tTraining Gravity: 0.00025\n",
      " \tTraining Stability: 0.0\n",
      " \tAAR: -100.324\n",
      " \tSES: 0\n",
      " \tMean Reward: -1000.0\n",
      " \tStd Reward: 0.0\n",
      "\n"
     ]
    },
    {
     "name": "stderr",
     "output_type": "stream",
     "text": [
      "\n",
      "  1%|▌                                                  | 2/201 [00:05<08:15,  2.49s/it]\u001b[A\n",
      "  1%|▊                                                  | 3/201 [00:08<09:05,  2.76s/it]\u001b[A\n",
      "  2%|█                                                  | 4/201 [00:11<09:37,  2.93s/it]\u001b[A\n",
      "  2%|█▎                                                 | 5/201 [00:14<10:02,  3.07s/it]\u001b[A\n",
      "  3%|█▌                                                 | 6/201 [00:18<10:39,  3.28s/it]\u001b[A"
     ]
    },
    {
     "name": "stdout",
     "output_type": "stream",
     "text": [
      "Evaluation 5 (Epsilon=None):\n",
      "\tTraining Gravity: 0.001011\n",
      " \tTraining Stability: 0.0\n",
      " \tAAR: -24.783\n",
      " \tSES: 0\n",
      " \tMean Reward: -1000.0\n",
      " \tStd Reward: 0.0\n",
      "\n"
     ]
    },
    {
     "name": "stderr",
     "output_type": "stream",
     "text": [
      "\n",
      "  3%|█▊                                                 | 7/201 [00:22<10:58,  3.39s/it]\u001b[A\n",
      "  4%|██                                                 | 8/201 [00:25<11:21,  3.53s/it]\u001b[A\n",
      "  4%|██▎                                                | 9/201 [00:29<11:27,  3.58s/it]\u001b[A\n",
      "  5%|██▍                                               | 10/201 [00:33<11:30,  3.62s/it]\u001b[A\n",
      "  5%|██▋                                               | 11/201 [00:36<11:29,  3.63s/it]\u001b[A"
     ]
    },
    {
     "name": "stdout",
     "output_type": "stream",
     "text": [
      "Evaluation 10 (Epsilon=None):\n",
      "\tTraining Gravity: 0.001268\n",
      " \tTraining Stability: 0.0\n",
      " \tAAR: -19.671\n",
      " \tSES: 0\n",
      " \tMean Reward: -1000.0\n",
      " \tStd Reward: 0.0\n",
      "\n"
     ]
    },
    {
     "name": "stderr",
     "output_type": "stream",
     "text": [
      "\n",
      "  6%|██▉                                               | 12/201 [00:40<11:25,  3.63s/it]\u001b[A\n",
      "  6%|███▏                                              | 13/201 [00:44<11:24,  3.64s/it]\u001b[A\n",
      "  7%|███▍                                              | 14/201 [00:48<11:37,  3.73s/it]\u001b[A\n",
      "  7%|███▋                                              | 15/201 [00:51<11:39,  3.76s/it]\u001b[A\n",
      "  8%|███▉                                              | 16/201 [00:55<11:37,  3.77s/it]\u001b[A"
     ]
    },
    {
     "name": "stdout",
     "output_type": "stream",
     "text": [
      "Evaluation 15 (Epsilon=None):\n",
      "\tTraining Gravity: 0.001427\n",
      " \tTraining Stability: 0.0\n",
      " \tAAR: -17.526\n",
      " \tSES: 0\n",
      " \tMean Reward: -1000.0\n",
      " \tStd Reward: 0.0\n",
      "\n"
     ]
    },
    {
     "name": "stderr",
     "output_type": "stream",
     "text": [
      "\n",
      "  8%|████▏                                             | 17/201 [00:59<11:25,  3.72s/it]\u001b[A\n",
      "  9%|████▍                                             | 18/201 [01:02<11:06,  3.64s/it]\u001b[A\n",
      "  9%|████▋                                             | 19/201 [01:06<10:51,  3.58s/it]\u001b[A\n",
      " 10%|████▉                                             | 20/201 [01:09<10:30,  3.48s/it]\u001b[A\n",
      " 10%|█████▏                                            | 21/201 [01:12<10:07,  3.38s/it]\u001b[A"
     ]
    },
    {
     "name": "stdout",
     "output_type": "stream",
     "text": [
      "Evaluation 20 (Epsilon=None):\n",
      "\tTraining Gravity: 0.001543\n",
      " \tTraining Stability: 0.0\n",
      " \tAAR: -16.187\n",
      " \tSES: 0\n",
      " \tMean Reward: -1000.0\n",
      " \tStd Reward: 0.0\n",
      "\n"
     ]
    },
    {
     "name": "stderr",
     "output_type": "stream",
     "text": [
      "\n",
      " 11%|█████▍                                            | 22/201 [01:15<09:51,  3.31s/it]\u001b[A\n",
      " 11%|█████▋                                            | 23/201 [01:18<09:31,  3.21s/it]\u001b[A\n",
      " 12%|█████▉                                            | 24/201 [01:21<09:14,  3.13s/it]\u001b[A\n",
      " 12%|██████▏                                           | 25/201 [01:24<09:01,  3.08s/it]\u001b[A\n",
      " 13%|██████▍                                           | 26/201 [01:27<08:48,  3.02s/it]\u001b[A"
     ]
    },
    {
     "name": "stdout",
     "output_type": "stream",
     "text": [
      "Evaluation 25 (Epsilon=None):\n",
      "\tTraining Gravity: 0.001634\n",
      " \tTraining Stability: 0.0\n",
      " \tAAR: -15.268\n",
      " \tSES: 0\n",
      " \tMean Reward: -1000.0\n",
      " \tStd Reward: 0.0\n",
      "\n"
     ]
    },
    {
     "name": "stderr",
     "output_type": "stream",
     "text": [
      "\n",
      " 13%|██████▋                                           | 27/201 [01:30<08:39,  2.98s/it]\u001b[A\n",
      " 14%|██████▉                                           | 28/201 [01:33<08:46,  3.04s/it]\u001b[A\n",
      " 14%|███████▏                                          | 29/201 [01:36<08:35,  3.00s/it]\u001b[A\n",
      " 15%|███████▍                                          | 30/201 [01:39<08:31,  2.99s/it]\u001b[A\n",
      " 15%|███████▋                                          | 31/201 [01:42<08:43,  3.08s/it]\u001b[A"
     ]
    },
    {
     "name": "stdout",
     "output_type": "stream",
     "text": [
      "Evaluation 30 (Epsilon=None):\n",
      "\tTraining Gravity: 0.001708\n",
      " \tTraining Stability: 0.0\n",
      " \tAAR: -14.628\n",
      " \tSES: 0\n",
      " \tMean Reward: -1000.0\n",
      " \tStd Reward: 0.0\n",
      "\n"
     ]
    },
    {
     "name": "stderr",
     "output_type": "stream",
     "text": [
      "\n",
      " 16%|███████▉                                          | 32/201 [01:46<08:53,  3.16s/it]\u001b[A\n",
      " 16%|████████▏                                         | 33/201 [01:49<09:01,  3.22s/it]\u001b[A\n",
      " 17%|████████▍                                         | 34/201 [01:52<09:09,  3.29s/it]\u001b[A\n",
      " 17%|████████▋                                         | 35/201 [01:56<09:17,  3.36s/it]\u001b[A\n",
      " 18%|████████▉                                         | 36/201 [02:00<09:31,  3.46s/it]\u001b[A"
     ]
    },
    {
     "name": "stdout",
     "output_type": "stream",
     "text": [
      "Evaluation 35 (Epsilon=None):\n",
      "\tTraining Gravity: 0.001772\n",
      " \tTraining Stability: 0.0\n",
      " \tAAR: -14.121\n",
      " \tSES: 0\n",
      " \tMean Reward: -1000.0\n",
      " \tStd Reward: 0.0\n",
      "\n"
     ]
    },
    {
     "name": "stderr",
     "output_type": "stream",
     "text": [
      "\n",
      " 18%|█████████▏                                        | 37/201 [02:04<09:46,  3.58s/it]\u001b[A\n",
      " 19%|█████████▍                                        | 38/201 [02:07<09:56,  3.66s/it]\u001b[A\n",
      " 19%|█████████▋                                        | 39/201 [02:11<10:03,  3.72s/it]\u001b[A\n",
      " 20%|█████████▉                                        | 40/201 [02:15<10:07,  3.77s/it]\u001b[A\n",
      " 20%|██████████▏                                       | 41/201 [02:19<10:06,  3.79s/it]\u001b[A"
     ]
    },
    {
     "name": "stdout",
     "output_type": "stream",
     "text": [
      "Evaluation 40 (Epsilon=None):\n",
      "\tTraining Gravity: 0.001827\n",
      " \tTraining Stability: 0.0\n",
      " \tAAR: -13.722\n",
      " \tSES: 0\n",
      " \tMean Reward: -1000.0\n",
      " \tStd Reward: 0.0\n",
      "\n"
     ]
    },
    {
     "name": "stderr",
     "output_type": "stream",
     "text": [
      "\n",
      " 21%|██████████▍                                       | 42/201 [02:23<10:03,  3.80s/it]\u001b[A\n",
      " 21%|██████████▋                                       | 43/201 [02:27<10:00,  3.80s/it]\u001b[A\n",
      " 22%|██████████▉                                       | 44/201 [02:30<09:43,  3.71s/it]\u001b[A\n",
      " 22%|███████████▏                                      | 45/201 [02:33<09:22,  3.60s/it]\u001b[A\n",
      " 23%|███████████▍                                      | 46/201 [02:37<08:59,  3.48s/it]\u001b[A"
     ]
    },
    {
     "name": "stdout",
     "output_type": "stream",
     "text": [
      "Evaluation 45 (Epsilon=None):\n",
      "\tTraining Gravity: 0.001876\n",
      " \tTraining Stability: 0.0\n",
      " \tAAR: -13.319\n",
      " \tSES: 0\n",
      " \tMean Reward: -1000.0\n",
      " \tStd Reward: 0.0\n",
      "\n"
     ]
    },
    {
     "name": "stderr",
     "output_type": "stream",
     "text": [
      "\n",
      " 23%|███████████▋                                      | 47/201 [02:40<08:48,  3.43s/it]\u001b[A\n",
      " 24%|███████████▉                                      | 48/201 [02:43<08:24,  3.30s/it]\u001b[A\n",
      " 24%|████████████▏                                     | 49/201 [02:46<08:07,  3.21s/it]\u001b[A\n",
      " 25%|████████████▍                                     | 50/201 [02:49<07:51,  3.12s/it]\u001b[A\n",
      " 25%|████████████▋                                     | 51/201 [02:52<07:37,  3.05s/it]\u001b[A"
     ]
    },
    {
     "name": "stdout",
     "output_type": "stream",
     "text": [
      "Evaluation 50 (Epsilon=None):\n",
      "\tTraining Gravity: 0.00192\n",
      " \tTraining Stability: 0.0\n",
      " \tAAR: -13.018\n",
      " \tSES: 0\n",
      " \tMean Reward: -1000.0\n",
      " \tStd Reward: 0.0\n",
      "\n"
     ]
    },
    {
     "name": "stderr",
     "output_type": "stream",
     "text": [
      "\n",
      " 26%|████████████▉                                     | 52/201 [02:55<07:27,  3.00s/it]\u001b[A\n",
      " 26%|█████████████▏                                    | 53/201 [02:57<07:18,  2.97s/it]\u001b[A\n",
      " 27%|█████████████▍                                    | 54/201 [03:00<07:13,  2.95s/it]\u001b[A\n",
      " 27%|█████████████▋                                    | 55/201 [03:03<07:14,  2.97s/it]\u001b[A\n",
      " 28%|█████████████▉                                    | 56/201 [03:07<07:16,  3.01s/it]\u001b[A"
     ]
    },
    {
     "name": "stdout",
     "output_type": "stream",
     "text": [
      "Evaluation 55 (Epsilon=None):\n",
      "\tTraining Gravity: 0.001959\n",
      " \tTraining Stability: 0.0\n",
      " \tAAR: -12.767\n",
      " \tSES: 0\n",
      " \tMean Reward: -1000.0\n",
      " \tStd Reward: 0.0\n",
      "\n"
     ]
    },
    {
     "name": "stderr",
     "output_type": "stream",
     "text": [
      "\n",
      " 28%|██████████████▏                                   | 57/201 [03:10<07:20,  3.06s/it]\u001b[A\n",
      " 29%|██████████████▍                                   | 58/201 [03:13<07:22,  3.09s/it]\u001b[A\n",
      " 29%|██████████████▋                                   | 59/201 [03:16<07:21,  3.11s/it]\u001b[A\n",
      " 30%|██████████████▉                                   | 60/201 [03:19<07:20,  3.12s/it]\u001b[A\n",
      " 30%|███████████████▏                                  | 61/201 [03:22<07:18,  3.13s/it]\u001b[A"
     ]
    },
    {
     "name": "stdout",
     "output_type": "stream",
     "text": [
      "Evaluation 60 (Epsilon=None):\n",
      "\tTraining Gravity: 0.001996\n",
      " \tTraining Stability: 0.0\n",
      " \tAAR: -12.529\n",
      " \tSES: 0\n",
      " \tMean Reward: -1000.0\n",
      " \tStd Reward: 0.0\n",
      "\n"
     ]
    },
    {
     "name": "stderr",
     "output_type": "stream",
     "text": [
      "\n",
      " 31%|███████████████▍                                  | 62/201 [03:26<07:22,  3.19s/it]\u001b[A\n",
      " 31%|███████████████▋                                  | 63/201 [03:29<07:19,  3.18s/it]\u001b[A\n",
      " 32%|███████████████▉                                  | 64/201 [03:32<07:14,  3.17s/it]\u001b[A\n",
      " 32%|████████████████▏                                 | 65/201 [03:35<07:13,  3.19s/it]\u001b[A\n",
      " 33%|████████████████▍                                 | 66/201 [03:38<07:10,  3.19s/it]\u001b[A"
     ]
    },
    {
     "name": "stdout",
     "output_type": "stream",
     "text": [
      "Evaluation 65 (Epsilon=None):\n",
      "\tTraining Gravity: 0.002029\n",
      " \tTraining Stability: 0.0\n",
      " \tAAR: -12.289\n",
      " \tSES: 0\n",
      " \tMean Reward: -1000.0\n",
      " \tStd Reward: 0.0\n",
      "\n"
     ]
    },
    {
     "name": "stderr",
     "output_type": "stream",
     "text": [
      "\n",
      " 33%|████████████████▋                                 | 67/201 [03:42<07:05,  3.17s/it]\u001b[A\n",
      " 34%|████████████████▉                                 | 68/201 [03:45<07:00,  3.16s/it]\u001b[A\n",
      " 34%|█████████████████▏                                | 69/201 [03:48<07:06,  3.23s/it]\u001b[A\n",
      " 35%|█████████████████▍                                | 70/201 [03:51<07:00,  3.21s/it]\u001b[A\n",
      " 35%|█████████████████▋                                | 71/201 [03:54<06:55,  3.19s/it]\u001b[A"
     ]
    },
    {
     "name": "stdout",
     "output_type": "stream",
     "text": [
      "Evaluation 70 (Epsilon=None):\n",
      "\tTraining Gravity: 0.00206\n",
      " \tTraining Stability: 0.0\n",
      " \tAAR: -12.117\n",
      " \tSES: 0\n",
      " \tMean Reward: -1000.0\n",
      " \tStd Reward: 0.0\n",
      "\n"
     ]
    },
    {
     "name": "stderr",
     "output_type": "stream",
     "text": [
      "\n",
      " 36%|█████████████████▉                                | 72/201 [03:58<06:50,  3.18s/it]\u001b[A\n",
      " 36%|██████████████████▏                               | 73/201 [04:01<06:46,  3.18s/it]\u001b[A\n",
      " 37%|██████████████████▍                               | 74/201 [04:04<06:41,  3.16s/it]\u001b[A\n",
      " 37%|██████████████████▋                               | 75/201 [04:07<06:38,  3.16s/it]\u001b[A\n",
      " 38%|██████████████████▉                               | 76/201 [04:10<06:35,  3.16s/it]\u001b[A"
     ]
    },
    {
     "name": "stdout",
     "output_type": "stream",
     "text": [
      "Evaluation 75 (Epsilon=None):\n",
      "\tTraining Gravity: 0.002089\n",
      " \tTraining Stability: 0.0\n",
      " \tAAR: -11.935\n",
      " \tSES: 0\n",
      " \tMean Reward: -1000.0\n",
      " \tStd Reward: 0.0\n",
      "\n"
     ]
    },
    {
     "name": "stderr",
     "output_type": "stream",
     "text": [
      "\n",
      " 38%|███████████████████▏                              | 77/201 [04:13<06:31,  3.16s/it]\u001b[A\n",
      " 39%|███████████████████▍                              | 78/201 [04:16<06:27,  3.15s/it]\u001b[A\n",
      " 39%|███████████████████▋                              | 79/201 [04:20<06:25,  3.16s/it]\u001b[A\n",
      " 40%|███████████████████▉                              | 80/201 [04:23<06:21,  3.16s/it]\u001b[A\n",
      " 40%|████████████████████▏                             | 81/201 [04:26<06:20,  3.17s/it]\u001b[A"
     ]
    },
    {
     "name": "stdout",
     "output_type": "stream",
     "text": [
      "Evaluation 80 (Epsilon=None):\n",
      "\tTraining Gravity: 0.002116\n",
      " \tTraining Stability: 0.0\n",
      " \tAAR: -11.824\n",
      " \tSES: 0\n",
      " \tMean Reward: -1000.0\n",
      " \tStd Reward: 0.0\n",
      "\n"
     ]
    },
    {
     "name": "stderr",
     "output_type": "stream",
     "text": [
      "\n",
      " 41%|████████████████████▍                             | 82/201 [04:29<06:23,  3.22s/it]\u001b[A\n",
      " 41%|████████████████████▋                             | 83/201 [04:33<06:28,  3.29s/it]\u001b[A\n",
      " 42%|████████████████████▉                             | 84/201 [04:36<06:37,  3.39s/it]\u001b[A\n",
      " 42%|█████████████████████▏                            | 85/201 [04:40<06:38,  3.44s/it]\u001b[A\n",
      " 43%|█████████████████████▍                            | 86/201 [04:43<06:36,  3.45s/it]\u001b[A"
     ]
    },
    {
     "name": "stdout",
     "output_type": "stream",
     "text": [
      "Evaluation 85 (Epsilon=None):\n",
      "\tTraining Gravity: 0.002142\n",
      " \tTraining Stability: 0.0\n",
      " \tAAR: -11.672\n",
      " \tSES: 0\n",
      " \tMean Reward: -1000.0\n",
      " \tStd Reward: 0.0\n",
      "\n"
     ]
    },
    {
     "name": "stderr",
     "output_type": "stream",
     "text": [
      "\n",
      " 43%|█████████████████████▋                            | 87/201 [04:47<06:36,  3.48s/it]\u001b[A\n",
      " 44%|█████████████████████▉                            | 88/201 [04:51<06:40,  3.55s/it]\u001b[A\n",
      " 44%|██████████████████████▏                           | 89/201 [04:54<06:45,  3.62s/it]\u001b[A\n",
      " 45%|██████████████████████▍                           | 90/201 [04:58<06:51,  3.71s/it]\u001b[A\n",
      " 45%|██████████████████████▋                           | 91/201 [05:02<06:51,  3.74s/it]\u001b[A"
     ]
    },
    {
     "name": "stdout",
     "output_type": "stream",
     "text": [
      "Evaluation 90 (Epsilon=None):\n",
      "\tTraining Gravity: 0.002166\n",
      " \tTraining Stability: 0.0\n",
      " \tAAR: -11.525\n",
      " \tSES: 0\n",
      " \tMean Reward: -1000.0\n",
      " \tStd Reward: 0.0\n",
      "\n"
     ]
    },
    {
     "name": "stderr",
     "output_type": "stream",
     "text": [
      "\n",
      " 46%|██████████████████████▉                           | 92/201 [05:06<06:52,  3.79s/it]\u001b[A\n",
      " 46%|███████████████████████▏                          | 93/201 [05:10<06:46,  3.77s/it]\u001b[A\n",
      " 47%|███████████████████████▍                          | 94/201 [05:13<06:36,  3.70s/it]\u001b[A\n",
      " 47%|███████████████████████▋                          | 95/201 [05:17<06:24,  3.63s/it]\u001b[A\n",
      " 48%|███████████████████████▉                          | 96/201 [05:20<06:10,  3.53s/it]\u001b[A"
     ]
    },
    {
     "name": "stdout",
     "output_type": "stream",
     "text": [
      "Evaluation 95 (Epsilon=None):\n",
      "\tTraining Gravity: 0.002188\n",
      " \tTraining Stability: 0.0\n",
      " \tAAR: -11.436\n",
      " \tSES: 0\n",
      " \tMean Reward: -1000.0\n",
      " \tStd Reward: 0.0\n",
      "\n"
     ]
    },
    {
     "name": "stderr",
     "output_type": "stream",
     "text": [
      "\n",
      " 48%|████████████████████████▏                         | 97/201 [05:23<05:57,  3.44s/it]\u001b[A\n",
      " 49%|████████████████████████▍                         | 98/201 [05:27<05:48,  3.38s/it]\u001b[A\n",
      " 49%|████████████████████████▋                         | 99/201 [05:30<05:33,  3.27s/it]\u001b[A\n",
      " 50%|████████████████████████▍                        | 100/201 [05:33<05:22,  3.20s/it]\u001b[A\n",
      " 50%|████████████████████████▌                        | 101/201 [05:36<05:12,  3.12s/it]\u001b[A"
     ]
    },
    {
     "name": "stdout",
     "output_type": "stream",
     "text": [
      "Evaluation 100 (Epsilon=None):\n",
      "\tTraining Gravity: 0.00221\n",
      " \tTraining Stability: 0.0\n",
      " \tAAR: -11.307\n",
      " \tSES: 0\n",
      " \tMean Reward: -1000.0\n",
      " \tStd Reward: 0.0\n",
      "\n"
     ]
    },
    {
     "name": "stderr",
     "output_type": "stream",
     "text": [
      "\n",
      " 51%|████████████████████████▊                        | 102/201 [05:38<05:02,  3.05s/it]\u001b[A\n",
      " 51%|█████████████████████████                        | 103/201 [05:41<04:53,  3.00s/it]\u001b[A\n",
      " 52%|█████████████████████████▎                       | 104/201 [05:44<04:47,  2.96s/it]\u001b[A\n",
      " 52%|█████████████████████████▌                       | 105/201 [05:47<04:44,  2.96s/it]\u001b[A\n",
      " 53%|█████████████████████████▊                       | 106/201 [05:50<04:40,  2.96s/it]\u001b[A"
     ]
    },
    {
     "name": "stdout",
     "output_type": "stream",
     "text": [
      "Evaluation 105 (Epsilon=None):\n",
      "\tTraining Gravity: 0.00223\n",
      " \tTraining Stability: 0.0\n",
      " \tAAR: -11.215\n",
      " \tSES: 0\n",
      " \tMean Reward: -1000.0\n",
      " \tStd Reward: 0.0\n",
      "\n"
     ]
    },
    {
     "name": "stderr",
     "output_type": "stream",
     "text": [
      "\n",
      " 53%|██████████████████████████                       | 107/201 [05:53<04:37,  2.95s/it]\u001b[A\n",
      " 54%|██████████████████████████▎                      | 108/201 [05:56<04:36,  2.97s/it]\u001b[A\n",
      " 54%|██████████████████████████▌                      | 109/201 [05:59<04:36,  3.01s/it]\u001b[A\n",
      " 55%|██████████████████████████▊                      | 110/201 [06:02<04:38,  3.06s/it]\u001b[A\n",
      " 55%|███████████████████████████                      | 111/201 [06:05<04:37,  3.08s/it]\u001b[A"
     ]
    },
    {
     "name": "stdout",
     "output_type": "stream",
     "text": [
      "Evaluation 110 (Epsilon=None):\n",
      "\tTraining Gravity: 0.00225\n",
      " \tTraining Stability: 0.0\n",
      " \tAAR: -11.104\n",
      " \tSES: 0\n",
      " \tMean Reward: -1000.0\n",
      " \tStd Reward: 0.0\n",
      "\n"
     ]
    },
    {
     "name": "stderr",
     "output_type": "stream",
     "text": [
      "\n",
      " 56%|███████████████████████████▎                     | 112/201 [06:09<04:36,  3.11s/it]\u001b[A\n",
      " 56%|███████████████████████████▌                     | 113/201 [06:12<04:34,  3.12s/it]\u001b[A\n",
      " 57%|███████████████████████████▊                     | 114/201 [06:15<04:29,  3.10s/it]\u001b[A\n",
      " 57%|████████████████████████████                     | 115/201 [06:18<04:24,  3.08s/it]\u001b[A\n",
      " 58%|████████████████████████████▎                    | 116/201 [06:21<04:21,  3.08s/it]\u001b[A"
     ]
    },
    {
     "name": "stdout",
     "output_type": "stream",
     "text": [
      "Evaluation 115 (Epsilon=None):\n",
      "\tTraining Gravity: 0.002269\n",
      " \tTraining Stability: 0.0\n",
      " \tAAR: -11.005\n",
      " \tSES: 0\n",
      " \tMean Reward: -1000.0\n",
      " \tStd Reward: 0.0\n",
      "\n"
     ]
    },
    {
     "name": "stderr",
     "output_type": "stream",
     "text": [
      "\n",
      " 58%|████████████████████████████▌                    | 117/201 [06:24<04:19,  3.09s/it]\u001b[A\n",
      " 59%|████████████████████████████▊                    | 118/201 [06:27<04:15,  3.08s/it]\u001b[A\n",
      " 59%|█████████████████████████████                    | 119/201 [06:30<04:12,  3.08s/it]\u001b[A\n",
      " 60%|█████████████████████████████▎                   | 120/201 [06:33<04:12,  3.12s/it]\u001b[A\n",
      " 60%|█████████████████████████████▍                   | 121/201 [06:37<04:14,  3.18s/it]\u001b[A"
     ]
    },
    {
     "name": "stdout",
     "output_type": "stream",
     "text": [
      "Evaluation 120 (Epsilon=None):\n",
      "\tTraining Gravity: 0.002287\n",
      " \tTraining Stability: 0.0\n",
      " \tAAR: -10.932\n",
      " \tSES: 0\n",
      " \tMean Reward: -1000.0\n",
      " \tStd Reward: 0.0\n",
      "\n"
     ]
    },
    {
     "name": "stderr",
     "output_type": "stream",
     "text": [
      "\n",
      " 61%|█████████████████████████████▋                   | 122/201 [06:40<04:10,  3.17s/it]\u001b[A\n",
      " 61%|█████████████████████████████▉                   | 123/201 [06:43<04:06,  3.16s/it]\u001b[A\n",
      " 62%|██████████████████████████████▏                  | 124/201 [06:46<04:02,  3.15s/it]\u001b[A\n",
      " 62%|██████████████████████████████▍                  | 125/201 [06:49<03:59,  3.15s/it]\u001b[A\n",
      " 63%|██████████████████████████████▋                  | 126/201 [06:52<03:56,  3.15s/it]\u001b[A"
     ]
    },
    {
     "name": "stdout",
     "output_type": "stream",
     "text": [
      "Evaluation 125 (Epsilon=None):\n",
      "\tTraining Gravity: 0.002304\n",
      " \tTraining Stability: 0.0\n",
      " \tAAR: -10.834\n",
      " \tSES: 0\n",
      " \tMean Reward: -1000.0\n",
      " \tStd Reward: 0.0\n",
      "\n"
     ]
    },
    {
     "name": "stderr",
     "output_type": "stream",
     "text": [
      "\n",
      " 63%|██████████████████████████████▉                  | 127/201 [06:56<03:53,  3.16s/it]\u001b[A\n",
      " 64%|███████████████████████████████▏                 | 128/201 [06:59<03:50,  3.15s/it]\u001b[A\n",
      " 64%|███████████████████████████████▍                 | 129/201 [07:02<03:46,  3.14s/it]\u001b[A\n",
      " 65%|███████████████████████████████▋                 | 130/201 [07:05<03:43,  3.15s/it]\u001b[A\n",
      " 65%|███████████████████████████████▉                 | 131/201 [07:08<03:40,  3.15s/it]\u001b[A"
     ]
    },
    {
     "name": "stdout",
     "output_type": "stream",
     "text": [
      "Evaluation 130 (Epsilon=None):\n",
      "\tTraining Gravity: 0.00232\n",
      " \tTraining Stability: 0.0\n",
      " \tAAR: -10.775\n",
      " \tSES: 0\n",
      " \tMean Reward: -1000.0\n",
      " \tStd Reward: 0.0\n",
      "\n"
     ]
    },
    {
     "name": "stderr",
     "output_type": "stream",
     "text": [
      "\n",
      " 66%|████████████████████████████████▏                | 132/201 [07:12<03:40,  3.20s/it]\u001b[A\n",
      " 66%|████████████████████████████████▍                | 133/201 [07:15<03:39,  3.24s/it]\u001b[A\n",
      " 67%|████████████████████████████████▋                | 134/201 [07:18<03:37,  3.25s/it]\u001b[A\n",
      " 67%|████████████████████████████████▉                | 135/201 [07:21<03:36,  3.28s/it]\u001b[A\n",
      " 68%|█████████████████████████████████▏               | 136/201 [07:25<03:32,  3.27s/it]\u001b[A"
     ]
    },
    {
     "name": "stdout",
     "output_type": "stream",
     "text": [
      "Evaluation 135 (Epsilon=None):\n",
      "\tTraining Gravity: 0.002336\n",
      " \tTraining Stability: 0.0\n",
      " \tAAR: -10.722\n",
      " \tSES: 0\n",
      " \tMean Reward: -1000.0\n",
      " \tStd Reward: 0.0\n",
      "\n"
     ]
    },
    {
     "name": "stderr",
     "output_type": "stream",
     "text": [
      "\n",
      " 68%|█████████████████████████████████▍               | 137/201 [07:28<03:26,  3.23s/it]\u001b[A\n",
      " 69%|█████████████████████████████████▋               | 138/201 [07:31<03:21,  3.20s/it]\u001b[A\n",
      " 69%|█████████████████████████████████▉               | 139/201 [07:34<03:17,  3.18s/it]\u001b[A\n",
      " 70%|██████████████████████████████████▏              | 140/201 [07:37<03:13,  3.17s/it]\u001b[A\n",
      " 70%|██████████████████████████████████▎              | 141/201 [07:40<03:07,  3.12s/it]\u001b[A"
     ]
    },
    {
     "name": "stdout",
     "output_type": "stream",
     "text": [
      "Evaluation 140 (Epsilon=None):\n",
      "\tTraining Gravity: 0.002352\n",
      " \tTraining Stability: 0.0\n",
      " \tAAR: -10.642\n",
      " \tSES: 0\n",
      " \tMean Reward: -1000.0\n",
      " \tStd Reward: 0.0\n",
      "\n"
     ]
    },
    {
     "name": "stderr",
     "output_type": "stream",
     "text": [
      "\n",
      " 71%|██████████████████████████████████▌              | 142/201 [07:43<03:02,  3.09s/it]\u001b[A\n",
      " 71%|██████████████████████████████████▊              | 143/201 [07:46<02:57,  3.06s/it]\u001b[A\n",
      " 72%|███████████████████████████████████              | 144/201 [07:49<02:54,  3.05s/it]\u001b[A\n",
      " 72%|███████████████████████████████████▎             | 145/201 [07:52<02:50,  3.04s/it]\u001b[A\n",
      " 73%|███████████████████████████████████▌             | 146/201 [07:55<02:48,  3.07s/it]\u001b[A"
     ]
    },
    {
     "name": "stdout",
     "output_type": "stream",
     "text": [
      "Evaluation 145 (Epsilon=None):\n",
      "\tTraining Gravity: 0.002366\n",
      " \tTraining Stability: 0.0\n",
      " \tAAR: -10.577\n",
      " \tSES: 0\n",
      " \tMean Reward: -1000.0\n",
      " \tStd Reward: 0.0\n",
      "\n"
     ]
    },
    {
     "name": "stderr",
     "output_type": "stream",
     "text": [
      "\n",
      " 73%|███████████████████████████████████▊             | 147/201 [07:59<02:44,  3.05s/it]\u001b[A\n",
      " 74%|████████████████████████████████████             | 148/201 [08:02<02:41,  3.05s/it]\u001b[A\n",
      " 74%|████████████████████████████████████▎            | 149/201 [08:05<02:38,  3.05s/it]\u001b[A\n",
      " 75%|████████████████████████████████████▌            | 150/201 [08:08<02:35,  3.05s/it]\u001b[A\n",
      " 75%|████████████████████████████████████▊            | 151/201 [08:11<02:34,  3.09s/it]\u001b[A"
     ]
    },
    {
     "name": "stdout",
     "output_type": "stream",
     "text": [
      "Evaluation 150 (Epsilon=None):\n",
      "\tTraining Gravity: 0.002381\n",
      " \tTraining Stability: 0.0\n",
      " \tAAR: -10.503\n",
      " \tSES: 0\n",
      " \tMean Reward: -1000.0\n",
      " \tStd Reward: 0.0\n",
      "\n"
     ]
    },
    {
     "name": "stderr",
     "output_type": "stream",
     "text": [
      "\n",
      " 76%|█████████████████████████████████████            | 152/201 [08:14<02:32,  3.11s/it]\u001b[A\n",
      " 76%|█████████████████████████████████████▎           | 153/201 [08:17<02:29,  3.12s/it]\u001b[A\n",
      " 77%|█████████████████████████████████████▌           | 154/201 [08:20<02:27,  3.14s/it]\u001b[A\n",
      " 77%|█████████████████████████████████████▊           | 155/201 [08:23<02:24,  3.14s/it]\u001b[A\n",
      " 78%|██████████████████████████████████████           | 156/201 [08:27<02:21,  3.14s/it]\u001b[A"
     ]
    },
    {
     "name": "stdout",
     "output_type": "stream",
     "text": [
      "Evaluation 155 (Epsilon=None):\n",
      "\tTraining Gravity: 0.002394\n",
      " \tTraining Stability: 0.0\n",
      " \tAAR: -10.459\n",
      " \tSES: 0\n",
      " \tMean Reward: -1000.0\n",
      " \tStd Reward: 0.0\n",
      "\n"
     ]
    },
    {
     "name": "stderr",
     "output_type": "stream",
     "text": [
      "\n",
      " 78%|██████████████████████████████████████▎          | 157/201 [08:30<02:18,  3.14s/it]\u001b[A\n",
      " 79%|██████████████████████████████████████▌          | 158/201 [08:33<02:15,  3.14s/it]\u001b[A\n",
      " 79%|██████████████████████████████████████▊          | 159/201 [08:36<02:11,  3.14s/it]\u001b[A\n",
      " 80%|███████████████████████████████████████          | 160/201 [08:39<02:10,  3.19s/it]\u001b[A\n",
      " 80%|███████████████████████████████████████▏         | 161/201 [08:42<02:07,  3.18s/it]\u001b[A"
     ]
    },
    {
     "name": "stdout",
     "output_type": "stream",
     "text": [
      "Evaluation 160 (Epsilon=None):\n",
      "\tTraining Gravity: 0.002408\n",
      " \tTraining Stability: 0.0\n",
      " \tAAR: -10.39\n",
      " \tSES: 0\n",
      " \tMean Reward: -1000.0\n",
      " \tStd Reward: 0.0\n",
      "\n"
     ]
    },
    {
     "name": "stderr",
     "output_type": "stream",
     "text": [
      "\n",
      " 81%|███████████████████████████████████████▍         | 162/201 [08:46<02:03,  3.17s/it]\u001b[A\n",
      " 81%|███████████████████████████████████████▋         | 163/201 [08:49<02:00,  3.16s/it]\u001b[A\n",
      " 82%|███████████████████████████████████████▉         | 164/201 [08:52<01:56,  3.16s/it]\u001b[A\n",
      " 82%|████████████████████████████████████████▏        | 165/201 [08:55<01:53,  3.16s/it]\u001b[A\n",
      " 83%|████████████████████████████████████████▍        | 166/201 [08:58<01:52,  3.21s/it]\u001b[A"
     ]
    },
    {
     "name": "stdout",
     "output_type": "stream",
     "text": [
      "Evaluation 165 (Epsilon=None):\n",
      "\tTraining Gravity: 0.002421\n",
      " \tTraining Stability: 0.0\n",
      " \tAAR: -10.334\n",
      " \tSES: 0\n",
      " \tMean Reward: -1000.0\n",
      " \tStd Reward: 0.0\n",
      "\n"
     ]
    },
    {
     "name": "stderr",
     "output_type": "stream",
     "text": [
      "\n",
      " 83%|████████████████████████████████████████▋        | 167/201 [09:02<01:48,  3.19s/it]\u001b[A\n",
      " 84%|████████████████████████████████████████▉        | 168/201 [09:05<01:44,  3.17s/it]\u001b[A\n",
      " 84%|█████████████████████████████████████████▏       | 169/201 [09:08<01:41,  3.17s/it]\u001b[A\n",
      " 85%|█████████████████████████████████████████▍       | 170/201 [09:11<01:37,  3.16s/it]\u001b[A\n",
      " 85%|█████████████████████████████████████████▋       | 171/201 [09:14<01:34,  3.16s/it]\u001b[A"
     ]
    },
    {
     "name": "stdout",
     "output_type": "stream",
     "text": [
      "Evaluation 170 (Epsilon=None):\n",
      "\tTraining Gravity: 0.002433\n",
      " \tTraining Stability: 0.0\n",
      " \tAAR: -10.286\n",
      " \tSES: 0\n",
      " \tMean Reward: -1000.0\n",
      " \tStd Reward: 0.0\n",
      "\n"
     ]
    },
    {
     "name": "stderr",
     "output_type": "stream",
     "text": [
      "\n",
      " 86%|█████████████████████████████████████████▉       | 172/201 [09:17<01:31,  3.16s/it]\u001b[A\n",
      " 86%|██████████████████████████████████████████▏      | 173/201 [09:20<01:28,  3.16s/it]\u001b[A\n",
      " 87%|██████████████████████████████████████████▍      | 174/201 [09:24<01:25,  3.16s/it]\u001b[A\n",
      " 87%|██████████████████████████████████████████▋      | 175/201 [09:27<01:21,  3.15s/it]\u001b[A\n",
      " 88%|██████████████████████████████████████████▉      | 176/201 [09:30<01:19,  3.18s/it]\u001b[A"
     ]
    },
    {
     "name": "stdout",
     "output_type": "stream",
     "text": [
      "Evaluation 175 (Epsilon=None):\n",
      "\tTraining Gravity: 0.002446\n",
      " \tTraining Stability: 0.0\n",
      " \tAAR: -10.224\n",
      " \tSES: 0\n",
      " \tMean Reward: -1000.0\n",
      " \tStd Reward: 0.0\n",
      "\n"
     ]
    },
    {
     "name": "stderr",
     "output_type": "stream",
     "text": [
      "\n",
      " 88%|███████████████████████████████████████████▏     | 177/201 [09:33<01:17,  3.21s/it]\u001b[A\n",
      " 89%|███████████████████████████████████████████▍     | 178/201 [09:37<01:14,  3.24s/it]\u001b[A\n",
      " 89%|███████████████████████████████████████████▋     | 179/201 [09:40<01:11,  3.25s/it]\u001b[A\n",
      " 90%|███████████████████████████████████████████▉     | 180/201 [09:43<01:08,  3.26s/it]\u001b[A\n",
      " 90%|████████████████████████████████████████████     | 181/201 [09:46<01:05,  3.27s/it]\u001b[A"
     ]
    },
    {
     "name": "stdout",
     "output_type": "stream",
     "text": [
      "Evaluation 180 (Epsilon=None):\n",
      "\tTraining Gravity: 0.002458\n",
      " \tTraining Stability: 0.0\n",
      " \tAAR: -10.189\n",
      " \tSES: 0\n",
      " \tMean Reward: -1000.0\n",
      " \tStd Reward: 0.0\n",
      "\n"
     ]
    },
    {
     "name": "stderr",
     "output_type": "stream",
     "text": [
      "\n",
      " 91%|████████████████████████████████████████████▎    | 182/201 [09:50<01:02,  3.29s/it]\u001b[A\n",
      " 91%|████████████████████████████████████████████▌    | 183/201 [09:53<00:59,  3.30s/it]\u001b[A\n",
      " 92%|████████████████████████████████████████████▊    | 184/201 [09:56<00:55,  3.29s/it]\u001b[A\n",
      " 92%|█████████████████████████████████████████████    | 185/201 [10:00<00:52,  3.27s/it]\u001b[A\n",
      " 93%|█████████████████████████████████████████████▎   | 186/201 [10:03<00:48,  3.24s/it]\u001b[A"
     ]
    },
    {
     "name": "stdout",
     "output_type": "stream",
     "text": [
      "Evaluation 185 (Epsilon=None):\n",
      "\tTraining Gravity: 0.002469\n",
      " \tTraining Stability: 0.0\n",
      " \tAAR: -10.137\n",
      " \tSES: 0\n",
      " \tMean Reward: -1000.0\n",
      " \tStd Reward: 0.0\n",
      "\n"
     ]
    },
    {
     "name": "stderr",
     "output_type": "stream",
     "text": [
      "\n",
      " 93%|█████████████████████████████████████████████▌   | 187/201 [10:06<00:45,  3.23s/it]\u001b[A\n",
      " 94%|█████████████████████████████████████████████▊   | 188/201 [10:09<00:42,  3.23s/it]\u001b[A\n",
      " 94%|██████████████████████████████████████████████   | 189/201 [10:12<00:38,  3.22s/it]\u001b[A\n",
      " 95%|██████████████████████████████████████████████▎  | 190/201 [10:16<00:35,  3.20s/it]\u001b[A\n",
      " 95%|██████████████████████████████████████████████▌  | 191/201 [10:19<00:31,  3.19s/it]\u001b[A"
     ]
    },
    {
     "name": "stdout",
     "output_type": "stream",
     "text": [
      "Evaluation 190 (Epsilon=None):\n",
      "\tTraining Gravity: 0.00248\n",
      " \tTraining Stability: 0.0\n",
      " \tAAR: -10.062\n",
      " \tSES: 0\n",
      " \tMean Reward: -1000.0\n",
      " \tStd Reward: 0.0\n",
      "\n"
     ]
    },
    {
     "name": "stderr",
     "output_type": "stream",
     "text": [
      "\n",
      " 96%|██████████████████████████████████████████████▊  | 192/201 [10:22<00:28,  3.17s/it]\u001b[A\n",
      " 96%|███████████████████████████████████████████████  | 193/201 [10:25<00:25,  3.16s/it]\u001b[A\n",
      " 97%|███████████████████████████████████████████████▎ | 194/201 [10:28<00:21,  3.11s/it]\u001b[A\n",
      " 97%|███████████████████████████████████████████████▌ | 195/201 [10:31<00:18,  3.13s/it]\u001b[A\n",
      " 98%|███████████████████████████████████████████████▊ | 196/201 [10:34<00:15,  3.09s/it]\u001b[A"
     ]
    },
    {
     "name": "stdout",
     "output_type": "stream",
     "text": [
      "Evaluation 195 (Epsilon=None):\n",
      "\tTraining Gravity: 0.002491\n",
      " \tTraining Stability: 0.0\n",
      " \tAAR: -10.038\n",
      " \tSES: 0\n",
      " \tMean Reward: -1000.0\n",
      " \tStd Reward: 0.0\n",
      "\n"
     ]
    },
    {
     "name": "stderr",
     "output_type": "stream",
     "text": [
      "\n",
      " 98%|████████████████████████████████████████████████ | 197/201 [10:37<00:12,  3.13s/it]\u001b[A\n",
      " 99%|████████████████████████████████████████████████▎| 198/201 [10:40<00:09,  3.10s/it]\u001b[A\n",
      " 99%|████████████████████████████████████████████████▌| 199/201 [10:43<00:06,  3.07s/it]\u001b[A\n",
      "100%|████████████████████████████████████████████████▊| 200/201 [10:46<00:03,  3.05s/it]\u001b[A\n",
      "100%|█████████████████████████████████████████████████| 201/201 [10:49<00:00,  3.23s/it]\u001b[A"
     ]
    },
    {
     "name": "stdout",
     "output_type": "stream",
     "text": [
      "Evaluation 200 (Epsilon=None):\n",
      "\tTraining Gravity: 0.002502\n",
      " \tTraining Stability: 0.0\n",
      " \tAAR: -10.016\n",
      " \tSES: 0\n",
      " \tMean Reward: -1000.0\n",
      " \tStd Reward: 0.0\n",
      "\n"
     ]
    },
    {
     "name": "stderr",
     "output_type": "stream",
     "text": [
      "\n",
      " 67%|████████████████████████████████▋                | 8/12 [1:36:20<44:14, 663.61s/it]\n",
      "  0%|                                                           | 0/201 [00:00<?, ?it/s]\u001b[A/Users/danorel/miniconda3/envs/aclarel_3.11.3/lib/python3.11/site-packages/gym/utils/passive_env_checker.py:233: DeprecationWarning: `np.bool8` is a deprecated alias for `np.bool_`.  (Deprecated NumPy 1.24)\n",
      "  if not isinstance(terminated, (bool, np.bool8)):\n",
      "/Users/danorel/Workspace/Education/University/KMA/Research/aclarel/environments/mountain_car/rl_methods/__init__.py:65: FutureWarning: The behavior of DataFrame concatenation with empty or all-NA entries is deprecated. In a future version, this will no longer exclude empty or all-NA columns when determining the result dtypes. To retain the old behavior, exclude the relevant entries before the concat operation.\n",
      "  self.measurements = pd.concat([self.measurements, measurement], ignore_index=True)\n",
      "\n",
      "  0%|▎                                                  | 1/201 [00:02<09:58,  2.99s/it]\u001b[A"
     ]
    },
    {
     "name": "stdout",
     "output_type": "stream",
     "text": [
      "Evaluation 0 (Epsilon=None):\n",
      "\tTraining Gravity: 0.000266\n",
      " \tTraining Stability: 0.0\n",
      " \tAAR: -94.321\n",
      " \tSES: 0\n",
      " \tMean Reward: -1000.0\n",
      " \tStd Reward: 0.0\n",
      "\n"
     ]
    },
    {
     "name": "stderr",
     "output_type": "stream",
     "text": [
      "\n",
      "  1%|▌                                                  | 2/201 [00:04<06:29,  1.96s/it]\u001b[A\n",
      "  1%|▊                                                  | 3/201 [00:07<08:03,  2.44s/it]\u001b[A\n",
      "  2%|█                                                  | 4/201 [00:10<08:48,  2.68s/it]\u001b[A\n",
      "  2%|█▎                                                 | 5/201 [00:13<09:15,  2.83s/it]\u001b[A\n",
      "  3%|█▌                                                 | 6/201 [00:16<09:34,  2.94s/it]\u001b[A"
     ]
    },
    {
     "name": "stdout",
     "output_type": "stream",
     "text": [
      "Evaluation 5 (Epsilon=None):\n",
      "\tTraining Gravity: 0.000269\n",
      " \tTraining Stability: 0.0\n",
      " \tAAR: -93.112\n",
      " \tSES: 0\n",
      " \tMean Reward: -1000.0\n",
      " \tStd Reward: 0.0\n",
      "\n"
     ]
    },
    {
     "name": "stderr",
     "output_type": "stream",
     "text": [
      "\n",
      "  3%|█▊                                                 | 7/201 [00:19<09:42,  3.00s/it]\u001b[A\n",
      "  4%|██                                                 | 8/201 [00:20<07:48,  2.43s/it]\u001b[A\n",
      "  4%|██▎                                                | 9/201 [00:24<08:28,  2.65s/it]\u001b[A\n",
      "  5%|██▍                                               | 10/201 [00:26<08:09,  2.56s/it]\u001b[A\n",
      "  5%|██▋                                               | 11/201 [00:28<07:19,  2.31s/it]\u001b[A"
     ]
    },
    {
     "name": "stdout",
     "output_type": "stream",
     "text": [
      "Evaluation 10 (Epsilon=None):\n",
      "\tTraining Gravity: 0.000275\n",
      " \tTraining Stability: 0.0\n",
      " \tAAR: -89.966\n",
      " \tSES: 0\n",
      " \tMean Reward: -1000.0\n",
      " \tStd Reward: 0.0\n",
      "\n"
     ]
    },
    {
     "name": "stderr",
     "output_type": "stream",
     "text": [
      "\n",
      "  6%|██▉                                               | 12/201 [00:31<08:04,  2.57s/it]\u001b[A\n",
      "  6%|███▏                                              | 13/201 [00:33<08:04,  2.58s/it]\u001b[A\n",
      "  7%|███▍                                              | 14/201 [00:36<08:10,  2.63s/it]\u001b[A\n",
      "  7%|███▋                                              | 15/201 [00:39<08:39,  2.79s/it]\u001b[A\n",
      "  8%|███▉                                              | 16/201 [00:42<08:18,  2.69s/it]\u001b[A"
     ]
    },
    {
     "name": "stdout",
     "output_type": "stream",
     "text": [
      "Evaluation 15 (Epsilon=None):\n",
      "\tTraining Gravity: 0.000282\n",
      " \tTraining Stability: 0.0\n",
      " \tAAR: -88.154\n",
      " \tSES: 0\n",
      " \tMean Reward: -1000.0\n",
      " \tStd Reward: 0.0\n",
      "\n"
     ]
    },
    {
     "name": "stderr",
     "output_type": "stream",
     "text": [
      "\n",
      "  8%|████▏                                             | 17/201 [00:44<08:11,  2.67s/it]\u001b[A\n",
      "  9%|████▍                                             | 18/201 [00:47<08:01,  2.63s/it]\u001b[A\n",
      "  9%|████▋                                             | 19/201 [00:50<08:33,  2.82s/it]\u001b[A\n",
      " 10%|████▉                                             | 20/201 [00:53<08:20,  2.76s/it]\u001b[A\n",
      " 10%|█████▏                                            | 21/201 [00:56<08:36,  2.87s/it]\u001b[A"
     ]
    },
    {
     "name": "stdout",
     "output_type": "stream",
     "text": [
      "Evaluation 20 (Epsilon=None):\n",
      "\tTraining Gravity: 0.00029\n",
      " \tTraining Stability: 0.0\n",
      " \tAAR: -86.335\n",
      " \tSES: 0\n",
      " \tMean Reward: -1000.0\n",
      " \tStd Reward: 0.0\n",
      "\n"
     ]
    },
    {
     "name": "stderr",
     "output_type": "stream",
     "text": [
      "\n",
      " 11%|█████▍                                            | 22/201 [00:59<08:48,  2.95s/it]\u001b[A\n",
      " 11%|█████▋                                            | 23/201 [01:01<08:16,  2.79s/it]\u001b[A\n",
      " 12%|█████▉                                            | 24/201 [01:03<07:09,  2.43s/it]\u001b[A\n",
      " 12%|██████▏                                           | 25/201 [01:06<07:43,  2.63s/it]\u001b[A\n",
      " 13%|██████▍                                           | 26/201 [01:08<07:24,  2.54s/it]\u001b[A"
     ]
    },
    {
     "name": "stdout",
     "output_type": "stream",
     "text": [
      "Evaluation 25 (Epsilon=None):\n",
      "\tTraining Gravity: 0.000302\n",
      " \tTraining Stability: 0.0\n",
      " \tAAR: -82.255\n",
      " \tSES: 0\n",
      " \tMean Reward: -1000.0\n",
      " \tStd Reward: 0.0\n",
      "\n"
     ]
    },
    {
     "name": "stderr",
     "output_type": "stream",
     "text": [
      "\n",
      " 13%|██████▋                                           | 27/201 [01:11<07:14,  2.50s/it]\u001b[A\n",
      " 14%|██████▉                                           | 28/201 [01:13<06:33,  2.27s/it]\u001b[A\n",
      " 14%|███████▏                                          | 29/201 [01:15<06:25,  2.24s/it]\u001b[A\n",
      " 15%|███████▍                                          | 30/201 [01:18<06:55,  2.43s/it]\u001b[A\n",
      " 15%|███████▋                                          | 31/201 [01:20<06:25,  2.27s/it]\u001b[A"
     ]
    },
    {
     "name": "stdout",
     "output_type": "stream",
     "text": [
      "Evaluation 30 (Epsilon=None):\n",
      "\tTraining Gravity: 0.000316\n",
      " \tTraining Stability: 0.0\n",
      " \tAAR: -78.469\n",
      " \tSES: 0\n",
      " \tMean Reward: -1000.0\n",
      " \tStd Reward: 0.0\n",
      "\n"
     ]
    },
    {
     "name": "stderr",
     "output_type": "stream",
     "text": [
      "\n",
      " 16%|███████▉                                          | 32/201 [01:22<06:29,  2.31s/it]\u001b[A\n",
      " 16%|████████▏                                         | 33/201 [01:24<06:23,  2.28s/it]\u001b[A\n",
      " 17%|████████▍                                         | 34/201 [01:27<07:00,  2.52s/it]\u001b[A\n",
      " 17%|████████▋                                         | 35/201 [01:30<07:29,  2.71s/it]\u001b[A\n",
      " 18%|████████▉                                         | 36/201 [01:34<07:48,  2.84s/it]\u001b[A"
     ]
    },
    {
     "name": "stdout",
     "output_type": "stream",
     "text": [
      "Evaluation 35 (Epsilon=None):\n",
      "\tTraining Gravity: 0.000334\n",
      " \tTraining Stability: 0.0\n",
      " \tAAR: -74.724\n",
      " \tSES: 0\n",
      " \tMean Reward: -1000.0\n",
      " \tStd Reward: 0.0\n",
      "\n"
     ]
    },
    {
     "name": "stderr",
     "output_type": "stream",
     "text": [
      "\n",
      " 18%|█████████▏                                        | 37/201 [01:36<07:47,  2.85s/it]\u001b[A\n",
      " 19%|█████████▍                                        | 38/201 [01:40<08:00,  2.95s/it]\u001b[A\n",
      " 19%|█████████▋                                        | 39/201 [01:42<07:42,  2.86s/it]\u001b[A\n",
      " 20%|█████████▉                                        | 40/201 [01:46<08:01,  2.99s/it]\u001b[A\n",
      " 20%|██████████▏                                       | 41/201 [01:49<08:12,  3.08s/it]\u001b[A"
     ]
    },
    {
     "name": "stdout",
     "output_type": "stream",
     "text": [
      "Evaluation 40 (Epsilon=None):\n",
      "\tTraining Gravity: 0.000357\n",
      " \tTraining Stability: 0.0\n",
      " \tAAR: -70.243\n",
      " \tSES: 0\n",
      " \tMean Reward: -1000.0\n",
      " \tStd Reward: 0.0\n",
      "\n"
     ]
    },
    {
     "name": "stderr",
     "output_type": "stream",
     "text": [
      "\n",
      " 21%|██████████▍                                       | 42/201 [01:52<08:19,  3.14s/it]\u001b[A\n",
      " 21%|██████████▋                                       | 43/201 [01:55<08:12,  3.11s/it]\u001b[A\n",
      " 22%|██████████▉                                       | 44/201 [01:57<07:07,  2.72s/it]\u001b[A\n",
      " 22%|███████████▏                                      | 45/201 [01:59<06:23,  2.46s/it]\u001b[A\n",
      " 23%|███████████▍                                      | 46/201 [02:01<06:02,  2.34s/it]\u001b[A"
     ]
    },
    {
     "name": "stdout",
     "output_type": "stream",
     "text": [
      "Evaluation 45 (Epsilon=None):\n",
      "\tTraining Gravity: 0.000385\n",
      " \tTraining Stability: 0.0\n",
      " \tAAR: -64.287\n",
      " \tSES: 0\n",
      " \tMean Reward: -1000.0\n",
      " \tStd Reward: 0.0\n",
      "\n"
     ]
    },
    {
     "name": "stderr",
     "output_type": "stream",
     "text": [
      "\n",
      " 23%|███████████▋                                      | 47/201 [02:04<06:44,  2.63s/it]\u001b[A\n",
      " 24%|███████████▉                                      | 48/201 [02:07<07:11,  2.82s/it]\u001b[A\n",
      " 24%|████████████▏                                     | 49/201 [02:11<07:21,  2.91s/it]\u001b[A\n",
      " 25%|████████████▍                                     | 50/201 [02:13<07:18,  2.90s/it]\u001b[A\n",
      " 25%|████████████▋                                     | 51/201 [02:16<07:15,  2.90s/it]\u001b[A"
     ]
    },
    {
     "name": "stdout",
     "output_type": "stream",
     "text": [
      "Evaluation 50 (Epsilon=None):\n",
      "\tTraining Gravity: 0.000421\n",
      " \tTraining Stability: 0.0\n",
      " \tAAR: -59.294\n",
      " \tSES: 0\n",
      " \tMean Reward: -1000.0\n",
      " \tStd Reward: 0.0\n",
      "\n"
     ]
    },
    {
     "name": "stderr",
     "output_type": "stream",
     "text": [
      "\n",
      " 26%|████████████▉                                     | 52/201 [02:19<07:04,  2.85s/it]\u001b[A\n",
      " 26%|█████████████▏                                    | 53/201 [02:22<07:04,  2.87s/it]\u001b[A\n",
      " 27%|█████████████▍                                    | 54/201 [02:25<07:02,  2.88s/it]\u001b[A\n",
      " 27%|█████████████▋                                    | 55/201 [02:28<07:00,  2.88s/it]\u001b[A\n",
      " 28%|█████████████▉                                    | 56/201 [02:31<06:57,  2.88s/it]\u001b[A"
     ]
    },
    {
     "name": "stdout",
     "output_type": "stream",
     "text": [
      "Evaluation 55 (Epsilon=None):\n",
      "\tTraining Gravity: 0.000465\n",
      " \tTraining Stability: 0.0\n",
      " \tAAR: -53.934\n",
      " \tSES: 0\n",
      " \tMean Reward: -1000.0\n",
      " \tStd Reward: 0.0\n",
      "\n"
     ]
    },
    {
     "name": "stderr",
     "output_type": "stream",
     "text": [
      "\n",
      " 28%|██████████████▏                                   | 57/201 [02:34<06:58,  2.91s/it]\u001b[A\n",
      " 29%|██████████████▍                                   | 58/201 [02:37<07:00,  2.94s/it]\u001b[A\n",
      " 29%|██████████████▋                                   | 59/201 [02:40<06:59,  2.95s/it]\u001b[A\n",
      " 30%|██████████████▉                                   | 60/201 [02:42<06:44,  2.87s/it]\u001b[A\n",
      " 30%|███████████████▏                                  | 61/201 [02:45<06:17,  2.70s/it]\u001b[A"
     ]
    },
    {
     "name": "stdout",
     "output_type": "stream",
     "text": [
      "Evaluation 60 (Epsilon=None):\n",
      "\tTraining Gravity: 0.000518\n",
      " \tTraining Stability: 0.0\n",
      " \tAAR: -47.932\n",
      " \tSES: 0\n",
      " \tMean Reward: -1000.0\n",
      " \tStd Reward: 0.0\n",
      "\n"
     ]
    },
    {
     "name": "stderr",
     "output_type": "stream",
     "text": [
      "\n",
      " 31%|███████████████▍                                  | 62/201 [02:48<06:32,  2.83s/it]\u001b[A\n",
      " 31%|███████████████▋                                  | 63/201 [02:51<06:43,  2.92s/it]\u001b[A\n",
      " 32%|███████████████▉                                  | 64/201 [02:53<05:57,  2.61s/it]\u001b[A\n",
      " 32%|████████████████▏                                 | 65/201 [02:56<06:15,  2.76s/it]\u001b[A\n",
      " 33%|████████████████▍                                 | 66/201 [02:59<06:30,  2.89s/it]\u001b[A"
     ]
    },
    {
     "name": "stdout",
     "output_type": "stream",
     "text": [
      "Evaluation 65 (Epsilon=None):\n",
      "\tTraining Gravity: 0.000583\n",
      " \tTraining Stability: 0.0\n",
      " \tAAR: -42.802\n",
      " \tSES: 0\n",
      " \tMean Reward: -1000.0\n",
      " \tStd Reward: 0.0\n",
      "\n"
     ]
    },
    {
     "name": "stderr",
     "output_type": "stream",
     "text": [
      "\n",
      " 33%|████████████████▋                                 | 67/201 [03:02<06:38,  2.97s/it]\u001b[A\n",
      " 34%|████████████████▉                                 | 68/201 [03:05<06:42,  3.02s/it]\u001b[A\n",
      " 34%|█████████████████▏                                | 69/201 [03:09<06:45,  3.07s/it]\u001b[A\n",
      " 35%|█████████████████▍                                | 70/201 [03:12<06:38,  3.04s/it]\u001b[A\n",
      " 35%|█████████████████▋                                | 71/201 [03:15<06:39,  3.07s/it]\u001b[A"
     ]
    },
    {
     "name": "stdout",
     "output_type": "stream",
     "text": [
      "Evaluation 70 (Epsilon=None):\n",
      "\tTraining Gravity: 0.00066\n",
      " \tTraining Stability: 0.0\n",
      " \tAAR: -37.859\n",
      " \tSES: 0\n",
      " \tMean Reward: -1000.0\n",
      " \tStd Reward: 0.0\n",
      "\n"
     ]
    },
    {
     "name": "stderr",
     "output_type": "stream",
     "text": [
      "\n",
      " 36%|█████████████████▉                                | 72/201 [03:18<06:45,  3.15s/it]\u001b[A\n",
      " 36%|██████████████████▏                               | 73/201 [03:21<06:43,  3.15s/it]\u001b[A\n",
      " 37%|██████████████████▍                               | 74/201 [03:24<06:47,  3.21s/it]\u001b[A\n",
      " 37%|██████████████████▋                               | 75/201 [03:28<06:41,  3.19s/it]\u001b[A\n",
      " 38%|██████████████████▉                               | 76/201 [03:30<06:08,  2.95s/it]\u001b[A"
     ]
    },
    {
     "name": "stdout",
     "output_type": "stream",
     "text": [
      "Evaluation 75 (Epsilon=None):\n",
      "\tTraining Gravity: 0.000751\n",
      " \tTraining Stability: 0.0\n",
      " \tAAR: -33.044\n",
      " \tSES: 0\n",
      " \tMean Reward: -1000.0\n",
      " \tStd Reward: 0.0\n",
      "\n"
     ]
    },
    {
     "name": "stderr",
     "output_type": "stream",
     "text": [
      "\n",
      " 38%|███████████████████▏                              | 77/201 [03:33<06:13,  3.01s/it]\u001b[A\n",
      " 39%|███████████████████▍                              | 78/201 [03:36<06:06,  2.98s/it]\u001b[A\n",
      " 39%|███████████████████▋                              | 79/201 [03:39<06:09,  3.03s/it]\u001b[A\n",
      " 40%|███████████████████▉                              | 80/201 [03:42<06:10,  3.06s/it]\u001b[A\n",
      " 40%|████████████████████▏                             | 81/201 [03:46<06:10,  3.09s/it]\u001b[A"
     ]
    },
    {
     "name": "stdout",
     "output_type": "stream",
     "text": [
      "Evaluation 80 (Epsilon=None):\n",
      "\tTraining Gravity: 0.000855\n",
      " \tTraining Stability: 0.0\n",
      " \tAAR: -29.232\n",
      " \tSES: 0\n",
      " \tMean Reward: -1000.0\n",
      " \tStd Reward: 0.0\n",
      "\n"
     ]
    },
    {
     "name": "stderr",
     "output_type": "stream",
     "text": [
      "\n",
      " 41%|████████████████████▍                             | 82/201 [03:49<06:10,  3.11s/it]\u001b[A\n",
      " 41%|████████████████████▋                             | 83/201 [03:52<06:07,  3.12s/it]\u001b[A\n",
      " 42%|████████████████████▉                             | 84/201 [03:55<06:05,  3.13s/it]\u001b[A\n",
      " 42%|█████████████████████▏                            | 85/201 [03:58<05:58,  3.09s/it]\u001b[A\n",
      " 43%|█████████████████████▍                            | 86/201 [04:01<05:56,  3.10s/it]\u001b[A"
     ]
    },
    {
     "name": "stdout",
     "output_type": "stream",
     "text": [
      "Evaluation 85 (Epsilon=None):\n",
      "\tTraining Gravity: 0.000972\n",
      " \tTraining Stability: 0.0\n",
      " \tAAR: -25.747\n",
      " \tSES: 0\n",
      " \tMean Reward: -1000.0\n",
      " \tStd Reward: 0.0\n",
      "\n"
     ]
    },
    {
     "name": "stderr",
     "output_type": "stream",
     "text": [
      "\n",
      " 43%|█████████████████████▋                            | 87/201 [04:04<05:59,  3.16s/it]\u001b[A\n",
      " 44%|█████████████████████▉                            | 88/201 [04:08<06:06,  3.24s/it]\u001b[A\n",
      " 44%|██████████████████████▏                           | 89/201 [04:11<06:12,  3.33s/it]\u001b[A\n",
      " 45%|██████████████████████▍                           | 90/201 [04:15<06:19,  3.42s/it]\u001b[A\n",
      " 45%|██████████████████████▋                           | 91/201 [04:19<06:23,  3.49s/it]\u001b[A"
     ]
    },
    {
     "name": "stdout",
     "output_type": "stream",
     "text": [
      "Evaluation 90 (Epsilon=None):\n",
      "\tTraining Gravity: 0.001099\n",
      " \tTraining Stability: 0.0\n",
      " \tAAR: -22.728\n",
      " \tSES: 0\n",
      " \tMean Reward: -1000.0\n",
      " \tStd Reward: 0.0\n",
      "\n"
     ]
    },
    {
     "name": "stderr",
     "output_type": "stream",
     "text": [
      "\n",
      " 46%|██████████████████████▉                           | 92/201 [04:22<06:26,  3.54s/it]\u001b[A\n",
      " 46%|███████████████████████▏                          | 93/201 [04:26<06:21,  3.53s/it]\u001b[A\n",
      " 47%|███████████████████████▍                          | 94/201 [04:29<06:04,  3.41s/it]\u001b[A\n",
      " 47%|███████████████████████▋                          | 95/201 [04:32<05:53,  3.33s/it]\u001b[A\n",
      " 48%|███████████████████████▉                          | 96/201 [04:35<05:44,  3.28s/it]\u001b[A"
     ]
    },
    {
     "name": "stdout",
     "output_type": "stream",
     "text": [
      "Evaluation 95 (Epsilon=None):\n",
      "\tTraining Gravity: 0.001235\n",
      " \tTraining Stability: 0.0\n",
      " \tAAR: -20.281\n",
      " \tSES: 0\n",
      " \tMean Reward: -1000.0\n",
      " \tStd Reward: 0.0\n",
      "\n"
     ]
    },
    {
     "name": "stderr",
     "output_type": "stream",
     "text": [
      "\n",
      " 48%|████████████████████████▏                         | 97/201 [04:38<05:38,  3.25s/it]\u001b[A\n",
      " 49%|████████████████████████▍                         | 98/201 [04:42<05:31,  3.22s/it]\u001b[A\n",
      " 49%|████████████████████████▋                         | 99/201 [04:45<05:28,  3.22s/it]\u001b[A\n",
      " 50%|████████████████████████▍                        | 100/201 [04:48<05:24,  3.21s/it]\u001b[A\n",
      " 50%|████████████████████████▌                        | 101/201 [04:51<05:16,  3.17s/it]\u001b[A"
     ]
    },
    {
     "name": "stdout",
     "output_type": "stream",
     "text": [
      "Evaluation 100 (Epsilon=None):\n",
      "\tTraining Gravity: 0.001375\n",
      " \tTraining Stability: 0.0\n",
      " \tAAR: -18.195\n",
      " \tSES: 0\n",
      " \tMean Reward: -1000.0\n",
      " \tStd Reward: 0.0\n",
      "\n"
     ]
    },
    {
     "name": "stderr",
     "output_type": "stream",
     "text": [
      "\n",
      " 51%|████████████████████████▊                        | 102/201 [04:54<05:19,  3.22s/it]\u001b[A\n",
      " 51%|█████████████████████████                        | 103/201 [04:58<05:18,  3.25s/it]\u001b[A\n",
      " 52%|█████████████████████████▎                       | 104/201 [05:01<05:12,  3.22s/it]\u001b[A\n",
      " 52%|█████████████████████████▌                       | 105/201 [05:04<05:08,  3.21s/it]\u001b[A\n",
      " 53%|█████████████████████████▊                       | 106/201 [05:07<05:04,  3.20s/it]\u001b[A"
     ]
    },
    {
     "name": "stdout",
     "output_type": "stream",
     "text": [
      "Evaluation 105 (Epsilon=None):\n",
      "\tTraining Gravity: 0.001515\n",
      " \tTraining Stability: 0.0\n",
      " \tAAR: -16.518\n",
      " \tSES: 0\n",
      " \tMean Reward: -1000.0\n",
      " \tStd Reward: 0.0\n",
      "\n"
     ]
    },
    {
     "name": "stderr",
     "output_type": "stream",
     "text": [
      " 53%|█████████████████████████▊                       | 106/201 [05:09<04:37,  2.92s/it]\n",
      " 67%|████████████████████████████████▋                | 8/12 [1:41:30<50:45, 761.25s/it]\n",
      "\n",
      "KeyboardInterrupt\n",
      "\n"
     ]
    }
   ],
   "source": [
    "from environments.mountain_car.rl_methods.ppo import PPOAgent\n",
    "\n",
    "ppo_agent = functools.partial(experiments.get_agent, agent_name='ppo')\n",
    "\n",
    "agents = [\n",
    "    ppo_agent(curriculum_name='baseline'),\n",
    "    ppo_agent(curriculum_name='transfer-learning'),\n",
    "    ppo_agent(curriculum_name='teacher-learning'),\n",
    "    ppo_agent(curriculum_name='one-pass'),\n",
    "    ppo_agent(curriculum_name='root-p'),\n",
    "    ppo_agent(curriculum_name='hard'),\n",
    "    ppo_agent(curriculum_name='linear'),\n",
    "    ppo_agent(curriculum_name='logarithmic'),\n",
    "    ppo_agent(curriculum_name='logistic'),\n",
    "    ppo_agent(curriculum_name='mixture'),\n",
    "    ppo_agent(curriculum_name='polynomial'),\n",
    "    ppo_agent(curriculum_name='anti-curriculum')\n",
    "]\n",
    "\n",
    "for agent in tqdm(agents):\n",
    "    curriculum = experiments.get_curriculum(agent)\n",
    "    mountain_car.train_evaluate(agent, curriculum)\n",
    "\n",
    "ppo_df = data_frame_from_agents(agents)"
   ]
  },
  {
   "cell_type": "code",
   "execution_count": null,
   "id": "a7c8da70-d19b-4f06-9b94-04cbeed7a866",
   "metadata": {},
   "outputs": [],
   "source": [
    "ppo_df.to_csv(DATASETS_DIR / 'ppo.csv', index=False)"
   ]
  },
  {
   "cell_type": "markdown",
   "id": "cab04375-6ae4-4a04-a7ce-095a0e7c8d4a",
   "metadata": {},
   "source": [
    "### Q-Learning"
   ]
  },
  {
   "cell_type": "markdown",
   "id": "fe0a7c7c-63be-44ec-ac45-8562ec58e8ba",
   "metadata": {},
   "source": [
    "#### Curriculum parameter: gravity"
   ]
  },
  {
   "cell_type": "code",
   "execution_count": null,
   "id": "033bae37-cc5f-4a67-90e4-0985d5940885",
   "metadata": {
    "scrolled": true
   },
   "outputs": [],
   "source": [
    "from environments.mountain_car.rl_methods.q_learning import QLearningAgent\n",
    "\n",
    "q_learning_agent = functools.partial(experiments.get_agent, agent_name='q-learning')\n",
    "\n",
    "agents = [\n",
    "    q_learning_agent(curriculum_name='baseline'),\n",
    "    q_learning_agent(curriculum_name='transfer-learning'),\n",
    "    q_learning_agent(curriculum_name='teacher-learning'),\n",
    "    q_learning_agent(curriculum_name='one-pass'),\n",
    "    q_learning_agent(curriculum_name='root-p'),\n",
    "    q_learning_agent(curriculum_name='hard'),\n",
    "    q_learning_agent(curriculum_name='linear'),\n",
    "    q_learning_agent(curriculum_name='logarithmic'),\n",
    "    q_learning_agent(curriculum_name='logistic'),\n",
    "    q_learning_agent(curriculum_name='mixture'),\n",
    "    q_learning_agent(curriculum_name='polynomial'),\n",
    "    q_learning_agent(curriculum_name='anti-curriculum')\n",
    "]\n",
    "\n",
    "for agent in tqdm(agents):\n",
    "    curriculum = experiments.get_curriculum(agent)\n",
    "    mountain_car.train_evaluate(agent, curriculum)\n",
    "\n",
    "q_learning_df = data_frame_from_agents(agents)"
   ]
  },
  {
   "cell_type": "code",
   "execution_count": null,
   "id": "91f4ad78-e735-456b-9620-b119a486bc75",
   "metadata": {},
   "outputs": [],
   "source": [
    "q_learning_df.to_csv(DATASETS_DIR / 'q-learning.csv', index=False)"
   ]
  },
  {
   "cell_type": "markdown",
   "id": "fad6e92a-49c0-4c9f-9ca9-2dfad2290c98",
   "metadata": {},
   "source": [
    "### DQN"
   ]
  },
  {
   "cell_type": "markdown",
   "id": "381359f6-ce78-48fc-b4b4-450891ecf863",
   "metadata": {},
   "source": [
    "#### Curriculum parameter: gravity"
   ]
  },
  {
   "cell_type": "code",
   "execution_count": null,
   "id": "b29c9f1e-b0ac-4375-878f-4a6eff425452",
   "metadata": {
    "scrolled": true
   },
   "outputs": [],
   "source": [
    "from environments.mountain_car.rl_methods.dqn import DQNAgent\n",
    "\n",
    "dqn_agent = functools.partial(experiments.get_agent, agent_name='dqn')\n",
    "\n",
    "agents = [\n",
    "    dqn_agent(curriculum_name='baseline'),\n",
    "    dqn_agent(curriculum_name='transfer-learning'),\n",
    "    dqn_agent(curriculum_name='teacher-learning'),\n",
    "    dqn_agent(curriculum_name='one-pass'),\n",
    "    dqn_agent(curriculum_name='root-p'),\n",
    "    dqn_agent(curriculum_name='hard'),\n",
    "    dqn_agent(curriculum_name='linear'),\n",
    "    dqn_agent(curriculum_name='logarithmic'),\n",
    "    dqn_agent(curriculum_name='logistic'),\n",
    "    dqn_agent(curriculum_name='mixture'),\n",
    "    dqn_agent(curriculum_name='polynomial'),\n",
    "    dqn_agent(curriculum_name='anti-curriculum')\n",
    "]\n",
    "\n",
    "for agent in tqdm(agents):\n",
    "    curriculum = experiments.get_curriculum(agent)\n",
    "    cart_pole.train_evaluate(agent, curriculum)\n",
    "\n",
    "dqn_df = data_frame_from_agents(agents)"
   ]
  },
  {
   "cell_type": "code",
   "execution_count": null,
   "id": "71b2cf0a-776a-4c0f-b564-82e866fdbecc",
   "metadata": {},
   "outputs": [],
   "source": [
    "dqn_df.to_csv(DATASETS_DIR / 'dqn.csv', index=False)"
   ]
  }
 ],
 "metadata": {
  "kernelspec": {
   "display_name": "aclarel_3.11.3",
   "language": "python",
   "name": "aclarel_3.11.3"
  },
  "language_info": {
   "codemirror_mode": {
    "name": "ipython",
    "version": 3
   },
   "file_extension": ".py",
   "mimetype": "text/x-python",
   "name": "python",
   "nbconvert_exporter": "python",
   "pygments_lexer": "ipython3",
   "version": "3.11.3"
  }
 },
 "nbformat": 4,
 "nbformat_minor": 5
}
