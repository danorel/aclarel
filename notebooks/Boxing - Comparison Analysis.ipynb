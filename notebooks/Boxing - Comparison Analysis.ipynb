{
 "cells": [
  {
   "cell_type": "code",
   "execution_count": 1,
   "id": "4ca45a75-f165-4ea3-bc90-82975e6a1ffc",
   "metadata": {},
   "outputs": [
    {
     "name": "stdout",
     "output_type": "stream",
     "text": [
      "/Users/danorel/Workspace/Education/University/KMA/Research/aclarel\n"
     ]
    }
   ],
   "source": [
    "%cd .."
   ]
  },
  {
   "cell_type": "code",
   "execution_count": 2,
   "id": "39deedfb-bba0-4411-ba29-682770bd9115",
   "metadata": {},
   "outputs": [
    {
     "name": "stderr",
     "output_type": "stream",
     "text": [
      "A.L.E: Arcade Learning Environment (version 0.8.1+53f58b7)\n",
      "[Powered by Stella]\n"
     ]
    }
   ],
   "source": [
    "import functools\n",
    "import pathlib\n",
    "import os\n",
    "\n",
    "from tqdm import tqdm\n",
    "\n",
    "import environments.atari_games.boxing.environment as boxing\n",
    "import environments.atari_games.boxing.experiments as experiments"
   ]
  },
  {
   "cell_type": "markdown",
   "id": "2578746b-32c2-4d99-97c1-ddb34ac23df5",
   "metadata": {},
   "source": [
    "## Curriculum Learning: Setup"
   ]
  },
  {
   "cell_type": "markdown",
   "id": "83fe9e13-c218-4b3b-a556-4cadca967a73",
   "metadata": {},
   "source": [
    "### Data Frame"
   ]
  },
  {
   "cell_type": "code",
   "execution_count": 3,
   "id": "1da28ed2-c431-4eaf-8c1b-06379ed1223a",
   "metadata": {},
   "outputs": [],
   "source": [
    "import pandas as pd\n",
    "\n",
    "def data_frame_from_agent(agent):\n",
    "    df = pd.DataFrame(agent.measurements)\n",
    "    return df"
   ]
  },
  {
   "cell_type": "markdown",
   "id": "0177b7c8-d10a-4258-976e-b39bcf5e148b",
   "metadata": {},
   "source": [
    "## Reinforcement Learning: Experiments"
   ]
  },
  {
   "cell_type": "code",
   "execution_count": 4,
   "id": "0e36bc6a-1ea4-4cec-b410-2a53cee6dd20",
   "metadata": {},
   "outputs": [],
   "source": [
    "DATASETS_DIR = pathlib.Path(\"datasets\") / \"atari_games\" / \"boxing\"\n",
    "DATASETS_DIR.mkdir(parents=True, exist_ok=True)"
   ]
  },
  {
   "cell_type": "code",
   "execution_count": 5,
   "id": "43c33c5a-95bc-4c06-9ae4-a237d2a2d5a5",
   "metadata": {},
   "outputs": [],
   "source": [
    "COLUMNS = ['agent_name', 'curriculum_name', 'evaluation', 'aar', 'ses', 'learning_stability', 'mean_reward', 'std_reward', 'total_reward', 'success_rate']"
   ]
  },
  {
   "cell_type": "markdown",
   "id": "cab04375-6ae4-4a04-a7ce-095a0e7c8d4a",
   "metadata": {},
   "source": [
    "### PPO"
   ]
  },
  {
   "cell_type": "markdown",
   "id": "fe0a7c7c-63be-44ec-ac45-8562ec58e8ba",
   "metadata": {},
   "source": [
    "#### Curriculum parameter: frame skip"
   ]
  },
  {
   "cell_type": "code",
   "execution_count": 6,
   "id": "033bae37-cc5f-4a67-90e4-0985d5940885",
   "metadata": {
    "scrolled": true
   },
   "outputs": [
    {
     "name": "stderr",
     "output_type": "stream",
     "text": [
      "/Users/danorel/miniconda3/envs/aclarel_3.11.3/lib/python3.11/site-packages/torch/cuda/amp/grad_scaler.py:126: UserWarning: torch.cuda.amp.GradScaler is enabled, but CUDA is not available.  Disabling.\n",
      "  warnings.warn(\n",
      "/Users/danorel/miniconda3/envs/aclarel_3.11.3/lib/python3.11/site-packages/torch/cuda/amp/grad_scaler.py:126: UserWarning: torch.cuda.amp.GradScaler is enabled, but CUDA is not available.  Disabling.\n",
      "  warnings.warn(\n",
      "/Users/danorel/miniconda3/envs/aclarel_3.11.3/lib/python3.11/site-packages/torch/cuda/amp/grad_scaler.py:126: UserWarning: torch.cuda.amp.GradScaler is enabled, but CUDA is not available.  Disabling.\n",
      "  warnings.warn(\n",
      "/Users/danorel/miniconda3/envs/aclarel_3.11.3/lib/python3.11/site-packages/torch/cuda/amp/grad_scaler.py:126: UserWarning: torch.cuda.amp.GradScaler is enabled, but CUDA is not available.  Disabling.\n",
      "  warnings.warn(\n"
     ]
    },
    {
     "name": "stdout",
     "output_type": "stream",
     "text": [
      "Device: cpu\n",
      "Autocast gradients: False\n",
      "Device: cpu\n",
      "Autocast gradients: False\n",
      "Device: cpu\n",
      "Autocast gradients: False\n",
      "Device: cpu\n",
      "Autocast gradients: False\n"
     ]
    },
    {
     "name": "stderr",
     "output_type": "stream",
     "text": [
      "  0%|                                                                                                                    | 0/4 [00:00<?, ?it/s]"
     ]
    },
    {
     "name": "stdout",
     "output_type": "stream",
     "text": [
      "Training of 'ppo' via CL method 'logistic' has started\n"
     ]
    },
    {
     "name": "stderr",
     "output_type": "stream",
     "text": [
      "\n",
      "  0%|                                                                                                                   | 0/11 [00:00<?, ?it/s]\u001b[A/Users/danorel/miniconda3/envs/aclarel_3.11.3/lib/python3.11/site-packages/gym/utils/passive_env_checker.py:233: DeprecationWarning: `np.bool8` is a deprecated alias for `np.bool_`.  (Deprecated NumPy 1.24)\n",
      "  if not isinstance(terminated, (bool, np.bool8)):\n",
      "/Users/danorel/Workspace/Education/University/KMA/Research/aclarel/environments/atari_games/boxing/rl_methods/__init__.py:64: FutureWarning: The behavior of DataFrame concatenation with empty or all-NA entries is deprecated. In a future version, this will no longer exclude empty or all-NA columns when determining the result dtypes. To retain the old behavior, exclude the relevant entries before the concat operation.\n",
      "  self.measurements = pd.concat([self.measurements, measurement], ignore_index=True)\n",
      "\n",
      "  9%|█████████▋                                                                                                | 1/11 [05:30<55:03, 330.38s/it]\u001b[A"
     ]
    },
    {
     "name": "stdout",
     "output_type": "stream",
     "text": [
      "Evaluation 0:\n",
      "\tTraining:\n",
      " \t\tFrameskip: 1\n",
      " \t\tStability: 2.871\n",
      "\tEvalution:\n",
      " \t\tAAR: -0.0\n",
      " \t\tSES: 0\n",
      " \t\tMean Reward: 0.6\n",
      " \t\tStd Reward: 4.271\n"
     ]
    },
    {
     "name": "stderr",
     "output_type": "stream",
     "text": [
      "\n",
      " 18%|███████████████████▎                                                                                      | 2/11 [11:24<51:39, 344.43s/it]\u001b[A"
     ]
    },
    {
     "name": "stdout",
     "output_type": "stream",
     "text": [
      "Evaluation 1:\n",
      "\tTraining:\n",
      " \t\tFrameskip: 1\n",
      " \t\tStability: 3.666\n",
      "\tEvalution:\n",
      " \t\tAAR: -0.0\n",
      " \t\tSES: 0\n",
      " \t\tMean Reward: -1.6\n",
      " \t\tStd Reward: 1.356\n"
     ]
    },
    {
     "name": "stderr",
     "output_type": "stream",
     "text": [
      "\n",
      " 27%|████████████████████████████▉                                                                             | 3/11 [18:27<50:42, 380.30s/it]\u001b[A"
     ]
    },
    {
     "name": "stdout",
     "output_type": "stream",
     "text": [
      "Evaluation 2:\n",
      "\tTraining:\n",
      " \t\tFrameskip: 1\n",
      " \t\tStability: 5.571\n",
      "\tEvalution:\n",
      " \t\tAAR: -0.0\n",
      " \t\tSES: 0\n",
      " \t\tMean Reward: -2.8\n",
      " \t\tStd Reward: 8.727\n"
     ]
    },
    {
     "name": "stderr",
     "output_type": "stream",
     "text": [
      "\n",
      " 36%|██████████████████████████████████████▌                                                                   | 4/11 [22:19<37:31, 321.59s/it]\u001b[A"
     ]
    },
    {
     "name": "stdout",
     "output_type": "stream",
     "text": [
      "Evaluation 3:\n",
      "\tTraining:\n",
      " \t\tFrameskip: 2\n",
      " \t\tStability: 11.321\n",
      "\tEvalution:\n",
      " \t\tAAR: -0.001\n",
      " \t\tSES: 0\n",
      " \t\tMean Reward: -2.0\n",
      " \t\tStd Reward: 5.762\n"
     ]
    },
    {
     "name": "stderr",
     "output_type": "stream",
     "text": [
      "\n",
      " 45%|████████████████████████████████████████████████▏                                                         | 5/11 [25:19<27:04, 270.79s/it]\u001b[A"
     ]
    },
    {
     "name": "stdout",
     "output_type": "stream",
     "text": [
      "Evaluation 4:\n",
      "\tTraining:\n",
      " \t\tFrameskip: 3\n",
      " \t\tStability: 1.356\n",
      "\tEvalution:\n",
      " \t\tAAR: -0.0\n",
      " \t\tSES: 0\n",
      " \t\tMean Reward: -2.0\n",
      " \t\tStd Reward: 2.449\n"
     ]
    },
    {
     "name": "stderr",
     "output_type": "stream",
     "text": [
      "\n",
      " 55%|█████████████████████████████████████████████████████████▊                                                | 6/11 [27:15<18:10, 218.05s/it]\u001b[A"
     ]
    },
    {
     "name": "stdout",
     "output_type": "stream",
     "text": [
      "Evaluation 5:\n",
      "\tTraining:\n",
      " \t\tFrameskip: 5\n",
      " \t\tStability: 5.535\n",
      "\tEvalution:\n",
      " \t\tAAR: 0.0\n",
      " \t\tSES: 0\n",
      " \t\tMean Reward: -2.0\n",
      " \t\tStd Reward: 3.286\n"
     ]
    },
    {
     "name": "stderr",
     "output_type": "stream",
     "text": [
      "\n",
      " 64%|███████████████████████████████████████████████████████████████████▍                                      | 7/11 [28:48<11:48, 177.05s/it]\u001b[A"
     ]
    },
    {
     "name": "stdout",
     "output_type": "stream",
     "text": [
      "Evaluation 6:\n",
      "\tTraining:\n",
      " \t\tFrameskip: 7\n",
      " \t\tStability: 3.555\n",
      "\tEvalution:\n",
      " \t\tAAR: -0.0\n",
      " \t\tSES: 0\n",
      " \t\tMean Reward: 3.0\n",
      " \t\tStd Reward: 3.033\n"
     ]
    },
    {
     "name": "stderr",
     "output_type": "stream",
     "text": [
      "\n",
      " 73%|█████████████████████████████████████████████████████████████████████████████                             | 8/11 [30:12<07:22, 147.49s/it]\u001b[A"
     ]
    },
    {
     "name": "stdout",
     "output_type": "stream",
     "text": [
      "Evaluation 7:\n",
      "\tTraining:\n",
      " \t\tFrameskip: 8\n",
      " \t\tStability: 5.564\n",
      "\tEvalution:\n",
      " \t\tAAR: -0.0\n",
      " \t\tSES: 0\n",
      " \t\tMean Reward: -0.2\n",
      " \t\tStd Reward: 4.707\n"
     ]
    },
    {
     "name": "stderr",
     "output_type": "stream",
     "text": [
      "\n",
      " 82%|██████████████████████████████████████████████████████████████████████████████████████▋                   | 9/11 [31:31<04:12, 126.22s/it]\u001b[A"
     ]
    },
    {
     "name": "stdout",
     "output_type": "stream",
     "text": [
      "Evaluation 8:\n",
      "\tTraining:\n",
      " \t\tFrameskip: 9\n",
      " \t\tStability: 4.069\n",
      "\tEvalution:\n",
      " \t\tAAR: -0.0\n",
      " \t\tSES: 0\n",
      " \t\tMean Reward: -2.2\n",
      " \t\tStd Reward: 2.04\n"
     ]
    },
    {
     "name": "stderr",
     "output_type": "stream",
     "text": [
      "\n",
      " 91%|███████████████████████████████████████████████████████████████████████████████████████████████▍         | 10/11 [32:51<01:51, 111.96s/it]\u001b[A"
     ]
    },
    {
     "name": "stdout",
     "output_type": "stream",
     "text": [
      "Evaluation 9:\n",
      "\tTraining:\n",
      " \t\tFrameskip: 9\n",
      " \t\tStability: 4.707\n",
      "\tEvalution:\n",
      " \t\tAAR: -0.001\n",
      " \t\tSES: 0\n",
      " \t\tMean Reward: 2.6\n",
      " \t\tStd Reward: 6.888\n"
     ]
    },
    {
     "name": "stderr",
     "output_type": "stream",
     "text": [
      "\n",
      "100%|█████████████████████████████████████████████████████████████████████████████████████████████████████████| 11/11 [34:11<00:00, 186.52s/it]\u001b[A"
     ]
    },
    {
     "name": "stdout",
     "output_type": "stream",
     "text": [
      "Evaluation 10:\n",
      "\tTraining:\n",
      " \t\tFrameskip: 9\n",
      " \t\tStability: 2.332\n",
      "\tEvalution:\n",
      " \t\tAAR: -0.0\n",
      " \t\tSES: 0\n",
      " \t\tMean Reward: -2.2\n",
      " \t\tStd Reward: 4.665\n"
     ]
    },
    {
     "name": "stderr",
     "output_type": "stream",
     "text": [
      "\n",
      " 25%|██████████████████████████                                                                              | 1/4 [34:13<1:42:40, 2053.58s/it]"
     ]
    },
    {
     "name": "stdout",
     "output_type": "stream",
     "text": [
      "Training of 'ppo' via CL method 'mixture' has started\n"
     ]
    },
    {
     "name": "stderr",
     "output_type": "stream",
     "text": [
      "\n",
      "  0%|                                                                                                                   | 0/11 [00:00<?, ?it/s]\u001b[A/Users/danorel/miniconda3/envs/aclarel_3.11.3/lib/python3.11/site-packages/gym/utils/passive_env_checker.py:233: DeprecationWarning: `np.bool8` is a deprecated alias for `np.bool_`.  (Deprecated NumPy 1.24)\n",
      "  if not isinstance(terminated, (bool, np.bool8)):\n",
      "/Users/danorel/Workspace/Education/University/KMA/Research/aclarel/environments/atari_games/boxing/rl_methods/__init__.py:64: FutureWarning: The behavior of DataFrame concatenation with empty or all-NA entries is deprecated. In a future version, this will no longer exclude empty or all-NA columns when determining the result dtypes. To retain the old behavior, exclude the relevant entries before the concat operation.\n",
      "  self.measurements = pd.concat([self.measurements, measurement], ignore_index=True)\n",
      "\n",
      "  9%|█████████▍                                                                                              | 1/11 [06:51<1:08:38, 411.85s/it]\u001b[A"
     ]
    },
    {
     "name": "stdout",
     "output_type": "stream",
     "text": [
      "Evaluation 0:\n",
      "\tTraining:\n",
      " \t\tFrameskip: 1\n",
      " \t\tStability: 6.615\n",
      "\tEvalution:\n",
      " \t\tAAR: -0.0\n",
      " \t\tSES: 0\n",
      " \t\tMean Reward: 3.4\n",
      " \t\tStd Reward: 6.946\n"
     ]
    },
    {
     "name": "stderr",
     "output_type": "stream",
     "text": [
      "\n",
      " 18%|███████████████████▎                                                                                      | 2/11 [11:22<49:21, 329.02s/it]\u001b[A"
     ]
    },
    {
     "name": "stdout",
     "output_type": "stream",
     "text": [
      "Evaluation 1:\n",
      "\tTraining:\n",
      " \t\tFrameskip: 2\n",
      " \t\tStability: 8.913\n",
      "\tEvalution:\n",
      " \t\tAAR: -0.0\n",
      " \t\tSES: 0\n",
      " \t\tMean Reward: 2.4\n",
      " \t\tStd Reward: 3.929\n"
     ]
    },
    {
     "name": "stderr",
     "output_type": "stream",
     "text": [
      "\n",
      " 27%|████████████████████████████▉                                                                             | 3/11 [13:54<33:05, 248.16s/it]\u001b[A"
     ]
    },
    {
     "name": "stdout",
     "output_type": "stream",
     "text": [
      "Evaluation 2:\n",
      "\tTraining:\n",
      " \t\tFrameskip: 4\n",
      " \t\tStability: 8.523\n",
      "\tEvalution:\n",
      " \t\tAAR: -0.001\n",
      " \t\tSES: 0\n",
      " \t\tMean Reward: 6.4\n",
      " \t\tStd Reward: 7.365\n"
     ]
    },
    {
     "name": "stderr",
     "output_type": "stream",
     "text": [
      "\n",
      " 36%|██████████████████████████████████████▌                                                                   | 4/11 [15:57<23:09, 198.44s/it]\u001b[A"
     ]
    },
    {
     "name": "stdout",
     "output_type": "stream",
     "text": [
      "Evaluation 3:\n",
      "\tTraining:\n",
      " \t\tFrameskip: 6\n",
      " \t\tStability: 4.622\n",
      "\tEvalution:\n",
      " \t\tAAR: 0.0\n",
      " \t\tSES: 0\n",
      " \t\tMean Reward: 2.2\n",
      " \t\tStd Reward: 3.544\n"
     ]
    },
    {
     "name": "stderr",
     "output_type": "stream",
     "text": [
      "\n",
      " 45%|████████████████████████████████████████████████▏                                                         | 5/11 [17:45<16:35, 165.96s/it]\u001b[A"
     ]
    },
    {
     "name": "stdout",
     "output_type": "stream",
     "text": [
      "Evaluation 4:\n",
      "\tTraining:\n",
      " \t\tFrameskip: 8\n",
      " \t\tStability: 4.63\n",
      "\tEvalution:\n",
      " \t\tAAR: 0.0\n",
      " \t\tSES: 0\n",
      " \t\tMean Reward: -1.8\n",
      " \t\tStd Reward: 4.069\n"
     ]
    },
    {
     "name": "stderr",
     "output_type": "stream",
     "text": [
      "\n",
      " 55%|█████████████████████████████████████████████████████████▊                                                | 6/11 [24:58<21:23, 256.74s/it]\u001b[A"
     ]
    },
    {
     "name": "stdout",
     "output_type": "stream",
     "text": [
      "Evaluation 5:\n",
      "\tTraining:\n",
      " \t\tFrameskip: 1\n",
      " \t\tStability: 3.774\n",
      "\tEvalution:\n",
      " \t\tAAR: -0.0\n",
      " \t\tSES: 0\n",
      " \t\tMean Reward: 3.4\n",
      " \t\tStd Reward: 7.965\n"
     ]
    },
    {
     "name": "stderr",
     "output_type": "stream",
     "text": [
      "\n",
      " 64%|███████████████████████████████████████████████████████████████████▍                                      | 7/11 [33:51<23:08, 347.19s/it]\u001b[A"
     ]
    },
    {
     "name": "stdout",
     "output_type": "stream",
     "text": [
      "Evaluation 6:\n",
      "\tTraining:\n",
      " \t\tFrameskip: 1\n",
      " \t\tStability: 11.071\n",
      "\tEvalution:\n",
      " \t\tAAR: -0.0\n",
      " \t\tSES: 0\n",
      " \t\tMean Reward: 0.6\n",
      " \t\tStd Reward: 2.245\n"
     ]
    },
    {
     "name": "stderr",
     "output_type": "stream",
     "text": [
      "\n",
      " 73%|█████████████████████████████████████████████████████████████████████████████                             | 8/11 [40:13<17:54, 358.18s/it]\u001b[A"
     ]
    },
    {
     "name": "stdout",
     "output_type": "stream",
     "text": [
      "Evaluation 7:\n",
      "\tTraining:\n",
      " \t\tFrameskip: 2\n",
      " \t\tStability: 7.088\n",
      "\tEvalution:\n",
      " \t\tAAR: 0.0\n",
      " \t\tSES: 0\n",
      " \t\tMean Reward: 3.2\n",
      " \t\tStd Reward: 6.112\n"
     ]
    },
    {
     "name": "stderr",
     "output_type": "stream",
     "text": [
      "\n",
      " 82%|██████████████████████████████████████████████████████████████████████████████████████▋                   | 9/11 [44:18<10:45, 322.68s/it]\u001b[A"
     ]
    },
    {
     "name": "stdout",
     "output_type": "stream",
     "text": [
      "Evaluation 8:\n",
      "\tTraining:\n",
      " \t\tFrameskip: 4\n",
      " \t\tStability: 2.728\n",
      "\tEvalution:\n",
      " \t\tAAR: 0.0\n",
      " \t\tSES: 0\n",
      " \t\tMean Reward: 3.2\n",
      " \t\tStd Reward: 1.72\n"
     ]
    },
    {
     "name": "stderr",
     "output_type": "stream",
     "text": [
      "\n",
      " 91%|███████████████████████████████████████████████████████████████████████████████████████████████▍         | 10/11 [47:14<04:37, 277.62s/it]\u001b[A"
     ]
    },
    {
     "name": "stdout",
     "output_type": "stream",
     "text": [
      "Evaluation 9:\n",
      "\tTraining:\n",
      " \t\tFrameskip: 6\n",
      " \t\tStability: 2.332\n",
      "\tEvalution:\n",
      " \t\tAAR: 0.0\n",
      " \t\tSES: 0\n",
      " \t\tMean Reward: 0.4\n",
      " \t\tStd Reward: 3.929\n"
     ]
    },
    {
     "name": "stderr",
     "output_type": "stream",
     "text": [
      "\n",
      "100%|█████████████████████████████████████████████████████████████████████████████████████████████████████████| 11/11 [49:11<00:00, 268.30s/it]\u001b[A"
     ]
    },
    {
     "name": "stdout",
     "output_type": "stream",
     "text": [
      "Evaluation 10:\n",
      "\tTraining:\n",
      " \t\tFrameskip: 10\n",
      " \t\tStability: 3.633\n",
      "\tEvalution:\n",
      " \t\tAAR: -0.0\n",
      " \t\tSES: 0\n",
      " \t\tMean Reward: -1.2\n",
      " \t\tStd Reward: 5.741\n"
     ]
    },
    {
     "name": "stderr",
     "output_type": "stream",
     "text": [
      "\n",
      " 50%|███████████████████████████████████████████████████                                                   | 2/4 [1:23:26<1:26:05, 2582.87s/it]"
     ]
    },
    {
     "name": "stdout",
     "output_type": "stream",
     "text": [
      "Training of 'ppo' via CL method 'polynomial' has started\n"
     ]
    },
    {
     "name": "stderr",
     "output_type": "stream",
     "text": [
      "\n",
      "  0%|                                                                                                                   | 0/11 [00:00<?, ?it/s]\u001b[A/Users/danorel/miniconda3/envs/aclarel_3.11.3/lib/python3.11/site-packages/gym/utils/passive_env_checker.py:233: DeprecationWarning: `np.bool8` is a deprecated alias for `np.bool_`.  (Deprecated NumPy 1.24)\n",
      "  if not isinstance(terminated, (bool, np.bool8)):\n",
      "/Users/danorel/Workspace/Education/University/KMA/Research/aclarel/environments/atari_games/boxing/rl_methods/__init__.py:64: FutureWarning: The behavior of DataFrame concatenation with empty or all-NA entries is deprecated. In a future version, this will no longer exclude empty or all-NA columns when determining the result dtypes. To retain the old behavior, exclude the relevant entries before the concat operation.\n",
      "  self.measurements = pd.concat([self.measurements, measurement], ignore_index=True)\n",
      "\n",
      "  9%|█████████▍                                                                                              | 1/11 [07:53<1:18:53, 473.37s/it]\u001b[A"
     ]
    },
    {
     "name": "stdout",
     "output_type": "stream",
     "text": [
      "Evaluation 0:\n",
      "\tTraining:\n",
      " \t\tFrameskip: 1\n",
      " \t\tStability: 1.72\n",
      "\tEvalution:\n",
      " \t\tAAR: -0.0\n",
      " \t\tSES: 0\n",
      " \t\tMean Reward: -2.8\n",
      " \t\tStd Reward: 2.4\n"
     ]
    },
    {
     "name": "stderr",
     "output_type": "stream",
     "text": [
      "\n",
      " 18%|██████████████████▉                                                                                     | 2/11 [15:39<1:10:21, 469.05s/it]\u001b[A"
     ]
    },
    {
     "name": "stdout",
     "output_type": "stream",
     "text": [
      "Evaluation 1:\n",
      "\tTraining:\n",
      " \t\tFrameskip: 1\n",
      " \t\tStability: 7.228\n",
      "\tEvalution:\n",
      " \t\tAAR: -0.001\n",
      " \t\tSES: 0\n",
      " \t\tMean Reward: -4.8\n",
      " \t\tStd Reward: 6.765\n"
     ]
    },
    {
     "name": "stderr",
     "output_type": "stream",
     "text": [
      "\n",
      " 27%|████████████████████████████▎                                                                           | 3/11 [24:45<1:07:12, 504.00s/it]\u001b[A"
     ]
    },
    {
     "name": "stdout",
     "output_type": "stream",
     "text": [
      "Evaluation 2:\n",
      "\tTraining:\n",
      " \t\tFrameskip: 1\n",
      " \t\tStability: 6.21\n",
      "\tEvalution:\n",
      " \t\tAAR: -0.001\n",
      " \t\tSES: 0\n",
      " \t\tMean Reward: -7.2\n",
      " \t\tStd Reward: 10.685\n"
     ]
    },
    {
     "name": "stderr",
     "output_type": "stream",
     "text": [
      "\n",
      " 36%|█████████████████████████████████████▊                                                                  | 4/11 [35:07<1:04:15, 550.73s/it]\u001b[A"
     ]
    },
    {
     "name": "stdout",
     "output_type": "stream",
     "text": [
      "Evaluation 3:\n",
      "\tTraining:\n",
      " \t\tFrameskip: 1\n",
      " \t\tStability: 9.33\n",
      "\tEvalution:\n",
      " \t\tAAR: -0.002\n",
      " \t\tSES: 0\n",
      " \t\tMean Reward: 0.6\n",
      " \t\tStd Reward: 1.625\n"
     ]
    },
    {
     "name": "stderr",
     "output_type": "stream",
     "text": [
      "\n",
      " 45%|████████████████████████████████████████████████▏                                                         | 5/11 [40:16<46:22, 463.71s/it]\u001b[A"
     ]
    },
    {
     "name": "stdout",
     "output_type": "stream",
     "text": [
      "Evaluation 4:\n",
      "\tTraining:\n",
      " \t\tFrameskip: 2\n",
      " \t\tStability: 5.083\n",
      "\tEvalution:\n",
      " \t\tAAR: -0.0\n",
      " \t\tSES: 0\n",
      " \t\tMean Reward: -2.4\n",
      " \t\tStd Reward: 3.262\n"
     ]
    },
    {
     "name": "stderr",
     "output_type": "stream",
     "text": [
      "\n",
      " 55%|█████████████████████████████████████████████████████████▊                                                | 6/11 [44:03<31:55, 383.17s/it]\u001b[A"
     ]
    },
    {
     "name": "stdout",
     "output_type": "stream",
     "text": [
      "Evaluation 5:\n",
      "\tTraining:\n",
      " \t\tFrameskip: 3\n",
      " \t\tStability: 2.098\n",
      "\tEvalution:\n",
      " \t\tAAR: -0.0\n",
      " \t\tSES: 0\n",
      " \t\tMean Reward: -4.0\n",
      " \t\tStd Reward: 1.673\n"
     ]
    },
    {
     "name": "stderr",
     "output_type": "stream",
     "text": [
      "\n",
      " 64%|███████████████████████████████████████████████████████████████████▍                                      | 7/11 [47:03<21:07, 316.86s/it]\u001b[A"
     ]
    },
    {
     "name": "stdout",
     "output_type": "stream",
     "text": [
      "Evaluation 6:\n",
      "\tTraining:\n",
      " \t\tFrameskip: 4\n",
      " \t\tStability: 3.2\n",
      "\tEvalution:\n",
      " \t\tAAR: -0.0\n",
      " \t\tSES: 0\n",
      " \t\tMean Reward: -4.8\n",
      " \t\tStd Reward: 7.25\n"
     ]
    },
    {
     "name": "stderr",
     "output_type": "stream",
     "text": [
      "\n",
      " 73%|█████████████████████████████████████████████████████████████████████████████                             | 8/11 [49:36<13:13, 264.46s/it]\u001b[A"
     ]
    },
    {
     "name": "stdout",
     "output_type": "stream",
     "text": [
      "Evaluation 7:\n",
      "\tTraining:\n",
      " \t\tFrameskip: 5\n",
      " \t\tStability: 0.748\n",
      "\tEvalution:\n",
      " \t\tAAR: 0.0\n",
      " \t\tSES: 0\n",
      " \t\tMean Reward: -0.8\n",
      " \t\tStd Reward: 0.748\n"
     ]
    },
    {
     "name": "stderr",
     "output_type": "stream",
     "text": [
      "\n",
      " 82%|██████████████████████████████████████████████████████████████████████████████████████▋                   | 9/11 [51:44<07:23, 221.99s/it]\u001b[A"
     ]
    },
    {
     "name": "stdout",
     "output_type": "stream",
     "text": [
      "Evaluation 8:\n",
      "\tTraining:\n",
      " \t\tFrameskip: 6\n",
      " \t\tStability: 2.653\n",
      "\tEvalution:\n",
      " \t\tAAR: -0.0\n",
      " \t\tSES: 0\n",
      " \t\tMean Reward: -4.6\n",
      " \t\tStd Reward: 6.681\n"
     ]
    },
    {
     "name": "stderr",
     "output_type": "stream",
     "text": [
      "\n",
      " 91%|███████████████████████████████████████████████████████████████████████████████████████████████▍         | 10/11 [53:29<03:05, 185.83s/it]\u001b[A"
     ]
    },
    {
     "name": "stdout",
     "output_type": "stream",
     "text": [
      "Evaluation 9:\n",
      "\tTraining:\n",
      " \t\tFrameskip: 8\n",
      " \t\tStability: 4.792\n",
      "\tEvalution:\n",
      " \t\tAAR: -0.0\n",
      " \t\tSES: 0\n",
      " \t\tMean Reward: -1.8\n",
      " \t\tStd Reward: 5.036\n"
     ]
    },
    {
     "name": "stderr",
     "output_type": "stream",
     "text": [
      "\n",
      "100%|█████████████████████████████████████████████████████████████████████████████████████████████████████████| 11/11 [55:00<00:00, 300.03s/it]\u001b[A"
     ]
    },
    {
     "name": "stdout",
     "output_type": "stream",
     "text": [
      "Evaluation 10:\n",
      "\tTraining:\n",
      " \t\tFrameskip: 10\n",
      " \t\tStability: 8.447\n",
      "\tEvalution:\n",
      " \t\tAAR: -0.0\n",
      " \t\tSES: 0\n",
      " \t\tMean Reward: -2.8\n",
      " \t\tStd Reward: 3.868\n"
     ]
    },
    {
     "name": "stderr",
     "output_type": "stream",
     "text": [
      "\n",
      " 75%|██████████████████████████████████████████████████████████████████████████████                          | 3/4 [2:18:29<48:31, 2911.34s/it]"
     ]
    },
    {
     "name": "stdout",
     "output_type": "stream",
     "text": [
      "Training of 'ppo' via CL method 'anti-curriculum' has started\n"
     ]
    },
    {
     "name": "stderr",
     "output_type": "stream",
     "text": [
      "\n",
      "  0%|                                                                                                                   | 0/11 [00:00<?, ?it/s]\u001b[A/Users/danorel/miniconda3/envs/aclarel_3.11.3/lib/python3.11/site-packages/gym/utils/passive_env_checker.py:233: DeprecationWarning: `np.bool8` is a deprecated alias for `np.bool_`.  (Deprecated NumPy 1.24)\n",
      "  if not isinstance(terminated, (bool, np.bool8)):\n",
      "/Users/danorel/Workspace/Education/University/KMA/Research/aclarel/environments/atari_games/boxing/rl_methods/__init__.py:64: FutureWarning: The behavior of DataFrame concatenation with empty or all-NA entries is deprecated. In a future version, this will no longer exclude empty or all-NA columns when determining the result dtypes. To retain the old behavior, exclude the relevant entries before the concat operation.\n",
      "  self.measurements = pd.concat([self.measurements, measurement], ignore_index=True)\n",
      "\n",
      "  9%|█████████▋                                                                                                 | 1/11 [01:06<11:02, 66.24s/it]\u001b[A"
     ]
    },
    {
     "name": "stdout",
     "output_type": "stream",
     "text": [
      "Evaluation 0:\n",
      "\tTraining:\n",
      " \t\tFrameskip: 10\n",
      " \t\tStability: 4.445\n",
      "\tEvalution:\n",
      " \t\tAAR: -0.001\n",
      " \t\tSES: 0\n",
      " \t\tMean Reward: 2.2\n",
      " \t\tStd Reward: 2.786\n"
     ]
    },
    {
     "name": "stderr",
     "output_type": "stream",
     "text": [
      "\n",
      " 18%|███████████████████▍                                                                                       | 2/11 [02:20<10:39, 71.07s/it]\u001b[A"
     ]
    },
    {
     "name": "stdout",
     "output_type": "stream",
     "text": [
      "Evaluation 1:\n",
      "\tTraining:\n",
      " \t\tFrameskip: 9\n",
      " \t\tStability: 3.655\n",
      "\tEvalution:\n",
      " \t\tAAR: 0.0\n",
      " \t\tSES: 0\n",
      " \t\tMean Reward: 3.6\n",
      " \t\tStd Reward: 6.974\n"
     ]
    },
    {
     "name": "stderr",
     "output_type": "stream",
     "text": [
      "\n",
      " 27%|█████████████████████████████▏                                                                             | 3/11 [03:47<10:26, 78.32s/it]\u001b[A"
     ]
    },
    {
     "name": "stdout",
     "output_type": "stream",
     "text": [
      "Evaluation 2:\n",
      "\tTraining:\n",
      " \t\tFrameskip: 8\n",
      " \t\tStability: 6.431\n",
      "\tEvalution:\n",
      " \t\tAAR: 0.0\n",
      " \t\tSES: 0\n",
      " \t\tMean Reward: -1.0\n",
      " \t\tStd Reward: 4.817\n"
     ]
    },
    {
     "name": "stderr",
     "output_type": "stream",
     "text": [
      "\n",
      " 36%|██████████████████████████████████████▉                                                                    | 4/11 [05:18<09:41, 83.07s/it]\u001b[A"
     ]
    },
    {
     "name": "stdout",
     "output_type": "stream",
     "text": [
      "Evaluation 3:\n",
      "\tTraining:\n",
      " \t\tFrameskip: 7\n",
      " \t\tStability: 3.007\n",
      "\tEvalution:\n",
      " \t\tAAR: 0.001\n",
      " \t\tSES: 0\n",
      " \t\tMean Reward: -2.0\n",
      " \t\tStd Reward: 2.366\n"
     ]
    },
    {
     "name": "stderr",
     "output_type": "stream",
     "text": [
      "\n",
      " 45%|████████████████████████████████████████████████▋                                                          | 5/11 [06:46<08:30, 85.14s/it]\u001b[A"
     ]
    },
    {
     "name": "stdout",
     "output_type": "stream",
     "text": [
      "Evaluation 4:\n",
      "\tTraining:\n",
      " \t\tFrameskip: 6\n",
      " \t\tStability: 7.172\n",
      "\tEvalution:\n",
      " \t\tAAR: -0.0\n",
      " \t\tSES: 0\n",
      " \t\tMean Reward: 0.4\n",
      " \t\tStd Reward: 2.498\n"
     ]
    },
    {
     "name": "stderr",
     "output_type": "stream",
     "text": [
      "\n",
      " 55%|██████████████████████████████████████████████████████████▎                                                | 6/11 [08:08<07:00, 84.07s/it]\u001b[A"
     ]
    },
    {
     "name": "stdout",
     "output_type": "stream",
     "text": [
      "Evaluation 5:\n",
      "\tTraining:\n",
      " \t\tFrameskip: 5\n",
      " \t\tStability: 4.167\n",
      "\tEvalution:\n",
      " \t\tAAR: 0.0\n",
      " \t\tSES: 0\n",
      " \t\tMean Reward: 1.0\n",
      " \t\tStd Reward: 4.05\n"
     ]
    },
    {
     "name": "stderr",
     "output_type": "stream",
     "text": [
      "\n",
      " 64%|████████████████████████████████████████████████████████████████████                                       | 7/11 [10:03<06:16, 94.08s/it]\u001b[A"
     ]
    },
    {
     "name": "stdout",
     "output_type": "stream",
     "text": [
      "Evaluation 6:\n",
      "\tTraining:\n",
      " \t\tFrameskip: 4\n",
      " \t\tStability: 3.311\n",
      "\tEvalution:\n",
      " \t\tAAR: 0.0\n",
      " \t\tSES: 0\n",
      " \t\tMean Reward: -1.4\n",
      " \t\tStd Reward: 5.535\n"
     ]
    },
    {
     "name": "stderr",
     "output_type": "stream",
     "text": [
      "\n",
      " 73%|█████████████████████████████████████████████████████████████████████████████                             | 8/11 [12:38<05:40, 113.45s/it]\u001b[A"
     ]
    },
    {
     "name": "stdout",
     "output_type": "stream",
     "text": [
      "Evaluation 7:\n",
      "\tTraining:\n",
      " \t\tFrameskip: 3\n",
      " \t\tStability: 5.276\n",
      "\tEvalution:\n",
      " \t\tAAR: 0.0\n",
      " \t\tSES: 0\n",
      " \t\tMean Reward: 0.8\n",
      " \t\tStd Reward: 5.706\n"
     ]
    },
    {
     "name": "stderr",
     "output_type": "stream",
     "text": [
      "\n",
      " 82%|██████████████████████████████████████████████████████████████████████████████████████▋                   | 9/11 [16:35<05:04, 152.25s/it]\u001b[A"
     ]
    },
    {
     "name": "stdout",
     "output_type": "stream",
     "text": [
      "Evaluation 8:\n",
      "\tTraining:\n",
      " \t\tFrameskip: 2\n",
      " \t\tStability: 6.066\n",
      "\tEvalution:\n",
      " \t\tAAR: -0.0\n",
      " \t\tSES: 0\n",
      " \t\tMean Reward: 6.4\n",
      " \t\tStd Reward: 6.375\n"
     ]
    },
    {
     "name": "stderr",
     "output_type": "stream",
     "text": [
      "\n",
      " 91%|███████████████████████████████████████████████████████████████████████████████████████████████▍         | 10/11 [26:48<04:54, 294.22s/it]\u001b[A"
     ]
    },
    {
     "name": "stdout",
     "output_type": "stream",
     "text": [
      "Evaluation 9:\n",
      "\tTraining:\n",
      " \t\tFrameskip: 1\n",
      " \t\tStability: 7.255\n",
      "\tEvalution:\n",
      " \t\tAAR: 0.0\n",
      " \t\tSES: 0\n",
      " \t\tMean Reward: -3.8\n",
      " \t\tStd Reward: 1.939\n"
     ]
    },
    {
     "name": "stderr",
     "output_type": "stream",
     "text": [
      "\n",
      "100%|█████████████████████████████████████████████████████████████████████████████████████████████████████████| 11/11 [36:00<00:00, 196.45s/it]\u001b[A"
     ]
    },
    {
     "name": "stdout",
     "output_type": "stream",
     "text": [
      "Evaluation 10:\n",
      "\tTraining:\n",
      " \t\tFrameskip: 1\n",
      " \t\tStability: 4.758\n",
      "\tEvalution:\n",
      " \t\tAAR: 0.0\n",
      " \t\tSES: 0\n",
      " \t\tMean Reward: -2.4\n",
      " \t\tStd Reward: 5.463\n"
     ]
    },
    {
     "name": "stderr",
     "output_type": "stream",
     "text": [
      "\n",
      "100%|████████████████████████████████████████████████████████████████████████████████████████████████████████| 4/4 [2:54:31<00:00, 2618.00s/it]\n"
     ]
    }
   ],
   "source": [
    "from environments.atari_games.boxing.rl_methods.ppo import PPOAgent\n",
    "\n",
    "ppo_agent = functools.partial(experiments.get_agent, agent_name='ppo')\n",
    "ppo_path = DATASETS_DIR / 'ppo.csv'\n",
    "\n",
    "agents = [\n",
    "    ppo_agent(curriculum_name='logistic'),\n",
    "    ppo_agent(curriculum_name='mixture'),\n",
    "    ppo_agent(curriculum_name='polynomial'),\n",
    "    ppo_agent(curriculum_name='anti-curriculum')\n",
    "]\n",
    "\n",
    "file_exists_and_not_empty = os.path.exists(ppo_path) and os.path.getsize(ppo_path) > 0\n",
    "\n",
    "with open(ppo_path, 'a') as f:\n",
    "    if not file_exists_and_not_empty:\n",
    "        f.write(f\"{','.join(COLUMNS)}\\n\")\n",
    "        f.flush()\n",
    "    for agent in tqdm(agents):\n",
    "        print(f\"Training of '{agent.metadata['agent_name']}' via CL method '{agent.metadata['curriculum_name']}' has started\")\n",
    "        curriculum = experiments.get_curriculum(agent)\n",
    "        boxing.train_evaluate(agent, curriculum)\n",
    "        agent_df = data_frame_from_agent(agent)\n",
    "        if f.tell() == 0:\n",
    "            agent_df.to_csv(f, index=False)\n",
    "        else:\n",
    "            agent_df.to_csv(f, header=False, index=False)\n",
    "        f.flush()"
   ]
  },
  {
   "cell_type": "markdown",
   "id": "fad6e92a-49c0-4c9f-9ca9-2dfad2290c98",
   "metadata": {},
   "source": [
    "### DQN"
   ]
  },
  {
   "cell_type": "markdown",
   "id": "381359f6-ce78-48fc-b4b4-450891ecf863",
   "metadata": {},
   "source": [
    "#### Curriculum parameter: frame skip"
   ]
  },
  {
   "cell_type": "code",
   "execution_count": 7,
   "id": "b29c9f1e-b0ac-4375-878f-4a6eff425452",
   "metadata": {
    "scrolled": true
   },
   "outputs": [
    {
     "name": "stdout",
     "output_type": "stream",
     "text": [
      "Device: cpu\n",
      "Autocast gradients: False\n"
     ]
    },
    {
     "name": "stderr",
     "output_type": "stream",
     "text": [
      "/Users/danorel/miniconda3/envs/aclarel_3.11.3/lib/python3.11/site-packages/torch/cuda/amp/grad_scaler.py:126: UserWarning: torch.cuda.amp.GradScaler is enabled, but CUDA is not available.  Disabling.\n",
      "  warnings.warn(\n",
      "  0%|                                                                                                                    | 0/1 [00:00<?, ?it/s]"
     ]
    },
    {
     "name": "stdout",
     "output_type": "stream",
     "text": [
      "Training of 'dqn' via CL method 'anti-curriculum' has started\n"
     ]
    },
    {
     "name": "stderr",
     "output_type": "stream",
     "text": [
      "\n",
      "  0%|                                                                                                                   | 0/21 [00:00<?, ?it/s]\u001b[A/Users/danorel/miniconda3/envs/aclarel_3.11.3/lib/python3.11/site-packages/gym/utils/passive_env_checker.py:233: DeprecationWarning: `np.bool8` is a deprecated alias for `np.bool_`.  (Deprecated NumPy 1.24)\n",
      "  if not isinstance(terminated, (bool, np.bool8)):\n",
      "  0%|                                                                                                                   | 0/21 [00:11<?, ?it/s]\n",
      "  0%|                                                                                                                    | 0/1 [00:15<?, ?it/s]\n"
     ]
    },
    {
     "ename": "KeyboardInterrupt",
     "evalue": "",
     "output_type": "error",
     "traceback": [
      "\u001b[0;31m---------------------------------------------------------------------------\u001b[0m",
      "\u001b[0;31mKeyboardInterrupt\u001b[0m                         Traceback (most recent call last)",
      "Cell \u001b[0;32mIn[7], line 19\u001b[0m\n\u001b[1;32m     17\u001b[0m \u001b[38;5;28mprint\u001b[39m(\u001b[38;5;124mf\u001b[39m\u001b[38;5;124m\"\u001b[39m\u001b[38;5;124mTraining of \u001b[39m\u001b[38;5;124m'\u001b[39m\u001b[38;5;132;01m{\u001b[39;00magent\u001b[38;5;241m.\u001b[39mmetadata[\u001b[38;5;124m'\u001b[39m\u001b[38;5;124magent_name\u001b[39m\u001b[38;5;124m'\u001b[39m]\u001b[38;5;132;01m}\u001b[39;00m\u001b[38;5;124m'\u001b[39m\u001b[38;5;124m via CL method \u001b[39m\u001b[38;5;124m'\u001b[39m\u001b[38;5;132;01m{\u001b[39;00magent\u001b[38;5;241m.\u001b[39mmetadata[\u001b[38;5;124m'\u001b[39m\u001b[38;5;124mcurriculum_name\u001b[39m\u001b[38;5;124m'\u001b[39m]\u001b[38;5;132;01m}\u001b[39;00m\u001b[38;5;124m'\u001b[39m\u001b[38;5;124m has started\u001b[39m\u001b[38;5;124m\"\u001b[39m)\n\u001b[1;32m     18\u001b[0m curriculum \u001b[38;5;241m=\u001b[39m experiments\u001b[38;5;241m.\u001b[39mget_curriculum(agent)\n\u001b[0;32m---> 19\u001b[0m boxing\u001b[38;5;241m.\u001b[39mtrain_evaluate(agent, curriculum)\n\u001b[1;32m     20\u001b[0m agent_df \u001b[38;5;241m=\u001b[39m data_frame_from_agent(agent)\n\u001b[1;32m     21\u001b[0m \u001b[38;5;28;01mif\u001b[39;00m f\u001b[38;5;241m.\u001b[39mtell() \u001b[38;5;241m==\u001b[39m \u001b[38;5;241m0\u001b[39m:\n",
      "File \u001b[0;32m~/Workspace/Education/University/KMA/Research/aclarel/environments/atari_games/boxing/environment.py:108\u001b[0m, in \u001b[0;36mtrain_evaluate\u001b[0;34m(agent, curriculum, use_render)\u001b[0m\n\u001b[1;32m    106\u001b[0m total_evaluations \u001b[38;5;241m=\u001b[39m total_episodes \u001b[38;5;241m/\u001b[39m\u001b[38;5;241m/\u001b[39m evaluation_interval\n\u001b[1;32m    107\u001b[0m \u001b[38;5;28;01mfor\u001b[39;00m evaluation \u001b[38;5;129;01min\u001b[39;00m tqdm(\u001b[38;5;28mrange\u001b[39m(total_evaluations \u001b[38;5;241m+\u001b[39m \u001b[38;5;241m1\u001b[39m)):\n\u001b[0;32m--> 108\u001b[0m     agent, aar, ses, learning_stability \u001b[38;5;241m=\u001b[39m train_agent(training_env, agent, curriculum, evaluation, total_evaluations)\n\u001b[1;32m    109\u001b[0m     mean_reward, std_reward, total_reward, success_rate \u001b[38;5;241m=\u001b[39m evaluate_agent(evaluation_env, agent, use_render)\n\u001b[1;32m    110\u001b[0m     \u001b[38;5;28;01mif\u001b[39;00m evaluation \u001b[38;5;241m%\u001b[39m print_interval \u001b[38;5;241m==\u001b[39m \u001b[38;5;241m0\u001b[39m:\n",
      "File \u001b[0;32m~/Workspace/Education/University/KMA/Research/aclarel/environments/atari_games/boxing/environment.py:77\u001b[0m, in \u001b[0;36mtrain_agent\u001b[0;34m(env, agent, curriculum, evaluation, total_evaluations)\u001b[0m\n\u001b[1;32m     75\u001b[0m \u001b[38;5;28;01mwhile\u001b[39;00m \u001b[38;5;129;01mnot\u001b[39;00m done \u001b[38;5;129;01mand\u001b[39;00m \u001b[38;5;129;01mnot\u001b[39;00m truncated:\n\u001b[1;32m     76\u001b[0m     action, props \u001b[38;5;241m=\u001b[39m agent\u001b[38;5;241m.\u001b[39mact(state)\n\u001b[0;32m---> 77\u001b[0m     next_state, reward, done, truncated, _ \u001b[38;5;241m=\u001b[39m env\u001b[38;5;241m.\u001b[39mstep(action)\n\u001b[1;32m     78\u001b[0m     agent\u001b[38;5;241m.\u001b[39mtrain(state, action, reward, next_state, done, props[\u001b[38;5;124m'\u001b[39m\u001b[38;5;124mlog_prob\u001b[39m\u001b[38;5;124m'\u001b[39m])\n\u001b[1;32m     79\u001b[0m     state \u001b[38;5;241m=\u001b[39m next_state\n",
      "File \u001b[0;32m~/miniconda3/envs/aclarel_3.11.3/lib/python3.11/site-packages/gym/wrappers/order_enforcing.py:37\u001b[0m, in \u001b[0;36mOrderEnforcing.step\u001b[0;34m(self, action)\u001b[0m\n\u001b[1;32m     35\u001b[0m \u001b[38;5;28;01mif\u001b[39;00m \u001b[38;5;129;01mnot\u001b[39;00m \u001b[38;5;28mself\u001b[39m\u001b[38;5;241m.\u001b[39m_has_reset:\n\u001b[1;32m     36\u001b[0m     \u001b[38;5;28;01mraise\u001b[39;00m ResetNeeded(\u001b[38;5;124m\"\u001b[39m\u001b[38;5;124mCannot call env.step() before calling env.reset()\u001b[39m\u001b[38;5;124m\"\u001b[39m)\n\u001b[0;32m---> 37\u001b[0m \u001b[38;5;28;01mreturn\u001b[39;00m \u001b[38;5;28mself\u001b[39m\u001b[38;5;241m.\u001b[39menv\u001b[38;5;241m.\u001b[39mstep(action)\n",
      "File \u001b[0;32m~/miniconda3/envs/aclarel_3.11.3/lib/python3.11/site-packages/gym/wrappers/env_checker.py:39\u001b[0m, in \u001b[0;36mPassiveEnvChecker.step\u001b[0;34m(self, action)\u001b[0m\n\u001b[1;32m     37\u001b[0m     \u001b[38;5;28;01mreturn\u001b[39;00m env_step_passive_checker(\u001b[38;5;28mself\u001b[39m\u001b[38;5;241m.\u001b[39menv, action)\n\u001b[1;32m     38\u001b[0m \u001b[38;5;28;01melse\u001b[39;00m:\n\u001b[0;32m---> 39\u001b[0m     \u001b[38;5;28;01mreturn\u001b[39;00m \u001b[38;5;28mself\u001b[39m\u001b[38;5;241m.\u001b[39menv\u001b[38;5;241m.\u001b[39mstep(action)\n",
      "File \u001b[0;32m~/miniconda3/envs/aclarel_3.11.3/lib/python3.11/site-packages/ale_py/env/gym.py:256\u001b[0m, in \u001b[0;36mAtariEnv.step\u001b[0;34m(self, action_ind)\u001b[0m\n\u001b[1;32m    254\u001b[0m reward \u001b[38;5;241m=\u001b[39m \u001b[38;5;241m0.0\u001b[39m\n\u001b[1;32m    255\u001b[0m \u001b[38;5;28;01mfor\u001b[39;00m _ \u001b[38;5;129;01min\u001b[39;00m \u001b[38;5;28mrange\u001b[39m(frameskip):\n\u001b[0;32m--> 256\u001b[0m     reward \u001b[38;5;241m+\u001b[39m\u001b[38;5;241m=\u001b[39m \u001b[38;5;28mself\u001b[39m\u001b[38;5;241m.\u001b[39male\u001b[38;5;241m.\u001b[39mact(action)\n\u001b[1;32m    257\u001b[0m is_terminal \u001b[38;5;241m=\u001b[39m \u001b[38;5;28mself\u001b[39m\u001b[38;5;241m.\u001b[39male\u001b[38;5;241m.\u001b[39mgame_over(with_truncation\u001b[38;5;241m=\u001b[39m\u001b[38;5;28;01mFalse\u001b[39;00m)\n\u001b[1;32m    258\u001b[0m is_truncated \u001b[38;5;241m=\u001b[39m \u001b[38;5;28mself\u001b[39m\u001b[38;5;241m.\u001b[39male\u001b[38;5;241m.\u001b[39mgame_truncated()\n",
      "\u001b[0;31mKeyboardInterrupt\u001b[0m: "
     ]
    }
   ],
   "source": [
    "from environments.atari_games.boxing.rl_methods.dqn import DQNAgent\n",
    "\n",
    "dqn_agent = functools.partial(experiments.get_agent, agent_name='dqn')\n",
    "dqn_path = DATASETS_DIR / 'dqn.csv'\n",
    "\n",
    "agents = [\n",
    "    dqn_agent(curriculum_name='anti-curriculum')\n",
    "]\n",
    "\n",
    "file_exists_and_not_empty = os.path.exists(dqn_path) and os.path.getsize(dqn_path) > 0\n",
    "\n",
    "with open(dqn_path, 'a') as f:\n",
    "    if not file_exists_and_not_empty:\n",
    "        f.write(f\"{','.join(COLUMNS)}\\n\")\n",
    "        f.flush()\n",
    "    for agent in tqdm(agents):\n",
    "        print(f\"Training of '{agent.metadata['agent_name']}' via CL method '{agent.metadata['curriculum_name']}' has started\")\n",
    "        curriculum = experiments.get_curriculum(agent)\n",
    "        boxing.train_evaluate(agent, curriculum)\n",
    "        agent_df = data_frame_from_agent(agent)\n",
    "        if f.tell() == 0:\n",
    "            agent_df.to_csv(f, index=False)\n",
    "        else:\n",
    "            agent_df.to_csv(f, header=False, index=False)\n",
    "        f.flush()"
   ]
  }
 ],
 "metadata": {
  "kernelspec": {
   "display_name": "aclarel_3.11.3",
   "language": "python",
   "name": "aclarel_3.11.3"
  },
  "language_info": {
   "codemirror_mode": {
    "name": "ipython",
    "version": 3
   },
   "file_extension": ".py",
   "mimetype": "text/x-python",
   "name": "python",
   "nbconvert_exporter": "python",
   "pygments_lexer": "ipython3",
   "version": "3.11.3"
  }
 },
 "nbformat": 4,
 "nbformat_minor": 5
}
