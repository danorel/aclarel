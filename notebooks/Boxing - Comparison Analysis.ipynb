{
 "cells": [
  {
   "cell_type": "code",
   "execution_count": 1,
   "id": "4ca45a75-f165-4ea3-bc90-82975e6a1ffc",
   "metadata": {},
   "outputs": [
    {
     "name": "stdout",
     "output_type": "stream",
     "text": [
      "/Users/danorel/Workspace/Education/University/KMA/Research/aclarel\n"
     ]
    }
   ],
   "source": [
    "%cd .."
   ]
  },
  {
   "cell_type": "code",
   "execution_count": 2,
   "id": "39deedfb-bba0-4411-ba29-682770bd9115",
   "metadata": {},
   "outputs": [
    {
     "name": "stderr",
     "output_type": "stream",
     "text": [
      "A.L.E: Arcade Learning Environment (version 0.8.1+53f58b7)\n",
      "[Powered by Stella]\n"
     ]
    }
   ],
   "source": [
    "import functools\n",
    "import pathlib\n",
    "\n",
    "from tqdm import tqdm\n",
    "\n",
    "import environments.atari_games.boxing.environment as boxing\n",
    "import environments.atari_games.boxing.experiments as experiments"
   ]
  },
  {
   "cell_type": "markdown",
   "id": "2578746b-32c2-4d99-97c1-ddb34ac23df5",
   "metadata": {},
   "source": [
    "## Curriculum Learning: Setup"
   ]
  },
  {
   "cell_type": "markdown",
   "id": "83fe9e13-c218-4b3b-a556-4cadca967a73",
   "metadata": {},
   "source": [
    "### Data Frame"
   ]
  },
  {
   "cell_type": "code",
   "execution_count": 3,
   "id": "1da28ed2-c431-4eaf-8c1b-06379ed1223a",
   "metadata": {},
   "outputs": [],
   "source": [
    "import pandas as pd\n",
    "\n",
    "def data_frame_from_agents(agents):\n",
    "    df = pd.DataFrame()\n",
    "    for agent in agents:\n",
    "        df = pd.concat([df, agent.measurements])\n",
    "    return df"
   ]
  },
  {
   "cell_type": "markdown",
   "id": "0177b7c8-d10a-4258-976e-b39bcf5e148b",
   "metadata": {},
   "source": [
    "## Reinforcement Learning: Experiments"
   ]
  },
  {
   "cell_type": "code",
   "execution_count": 4,
   "id": "0e36bc6a-1ea4-4cec-b410-2a53cee6dd20",
   "metadata": {},
   "outputs": [],
   "source": [
    "DATASETS_DIR = pathlib.Path(\"datasets\") / \"atari_games\" / \"boxing\"\n",
    "DATASETS_DIR.mkdir(parents=True, exist_ok=True)"
   ]
  },
  {
   "cell_type": "markdown",
   "id": "fad6e92a-49c0-4c9f-9ca9-2dfad2290c98",
   "metadata": {},
   "source": [
    "### DQN"
   ]
  },
  {
   "cell_type": "markdown",
   "id": "381359f6-ce78-48fc-b4b4-450891ecf863",
   "metadata": {},
   "source": [
    "#### Curriculum parameter: frame skip"
   ]
  },
  {
   "cell_type": "code",
   "execution_count": null,
   "id": "b29c9f1e-b0ac-4375-878f-4a6eff425452",
   "metadata": {
    "scrolled": true
   },
   "outputs": [
    {
     "name": "stdout",
     "output_type": "stream",
     "text": [
      "Device: cpu\n",
      "Autocast gradients: False\n",
      "Device: cpu\n",
      "Autocast gradients: False\n",
      "Device: cpu\n",
      "Autocast gradients: False\n",
      "Device: cpu\n",
      "Autocast gradients: False\n",
      "Device: cpu\n",
      "Autocast gradients: False\n",
      "Device: cpu\n",
      "Autocast gradients: False\n",
      "Device: cpu\n",
      "Autocast gradients: False\n",
      "Device: cpu\n",
      "Autocast gradients: False\n",
      "Device: cpu\n",
      "Autocast gradients: False\n",
      "Device: cpu\n",
      "Autocast gradients: False\n",
      "Device: cpu\n",
      "Autocast gradients: False\n",
      "Device: cpu\n",
      "Autocast gradients: False\n"
     ]
    },
    {
     "name": "stderr",
     "output_type": "stream",
     "text": [
      "/Users/danorel/miniconda3/envs/aclarel_3.11.3/lib/python3.11/site-packages/torch/cuda/amp/grad_scaler.py:126: UserWarning: torch.cuda.amp.GradScaler is enabled, but CUDA is not available.  Disabling.\n",
      "  warnings.warn(\n",
      "/Users/danorel/miniconda3/envs/aclarel_3.11.3/lib/python3.11/site-packages/torch/cuda/amp/grad_scaler.py:126: UserWarning: torch.cuda.amp.GradScaler is enabled, but CUDA is not available.  Disabling.\n",
      "  warnings.warn(\n",
      "/Users/danorel/miniconda3/envs/aclarel_3.11.3/lib/python3.11/site-packages/torch/cuda/amp/grad_scaler.py:126: UserWarning: torch.cuda.amp.GradScaler is enabled, but CUDA is not available.  Disabling.\n",
      "  warnings.warn(\n",
      "/Users/danorel/miniconda3/envs/aclarel_3.11.3/lib/python3.11/site-packages/torch/cuda/amp/grad_scaler.py:126: UserWarning: torch.cuda.amp.GradScaler is enabled, but CUDA is not available.  Disabling.\n",
      "  warnings.warn(\n",
      "/Users/danorel/miniconda3/envs/aclarel_3.11.3/lib/python3.11/site-packages/torch/cuda/amp/grad_scaler.py:126: UserWarning: torch.cuda.amp.GradScaler is enabled, but CUDA is not available.  Disabling.\n",
      "  warnings.warn(\n",
      "/Users/danorel/miniconda3/envs/aclarel_3.11.3/lib/python3.11/site-packages/torch/cuda/amp/grad_scaler.py:126: UserWarning: torch.cuda.amp.GradScaler is enabled, but CUDA is not available.  Disabling.\n",
      "  warnings.warn(\n",
      "/Users/danorel/miniconda3/envs/aclarel_3.11.3/lib/python3.11/site-packages/torch/cuda/amp/grad_scaler.py:126: UserWarning: torch.cuda.amp.GradScaler is enabled, but CUDA is not available.  Disabling.\n",
      "  warnings.warn(\n",
      "/Users/danorel/miniconda3/envs/aclarel_3.11.3/lib/python3.11/site-packages/torch/cuda/amp/grad_scaler.py:126: UserWarning: torch.cuda.amp.GradScaler is enabled, but CUDA is not available.  Disabling.\n",
      "  warnings.warn(\n",
      "/Users/danorel/miniconda3/envs/aclarel_3.11.3/lib/python3.11/site-packages/torch/cuda/amp/grad_scaler.py:126: UserWarning: torch.cuda.amp.GradScaler is enabled, but CUDA is not available.  Disabling.\n",
      "  warnings.warn(\n",
      "/Users/danorel/miniconda3/envs/aclarel_3.11.3/lib/python3.11/site-packages/torch/cuda/amp/grad_scaler.py:126: UserWarning: torch.cuda.amp.GradScaler is enabled, but CUDA is not available.  Disabling.\n",
      "  warnings.warn(\n",
      "/Users/danorel/miniconda3/envs/aclarel_3.11.3/lib/python3.11/site-packages/torch/cuda/amp/grad_scaler.py:126: UserWarning: torch.cuda.amp.GradScaler is enabled, but CUDA is not available.  Disabling.\n",
      "  warnings.warn(\n",
      "/Users/danorel/miniconda3/envs/aclarel_3.11.3/lib/python3.11/site-packages/torch/cuda/amp/grad_scaler.py:126: UserWarning: torch.cuda.amp.GradScaler is enabled, but CUDA is not available.  Disabling.\n",
      "  warnings.warn(\n",
      "  0%|                                                                                     | 0/12 [00:00<?, ?it/s]"
     ]
    },
    {
     "name": "stdout",
     "output_type": "stream",
     "text": [
      "Training of 'dqn' via CL method 'baseline' has started\n"
     ]
    },
    {
     "name": "stderr",
     "output_type": "stream",
     "text": [
      "\n",
      "  0%|                                                                                     | 0/21 [00:00<?, ?it/s]\u001b[A/Users/danorel/miniconda3/envs/aclarel_3.11.3/lib/python3.11/site-packages/gym/utils/passive_env_checker.py:233: DeprecationWarning: `np.bool8` is a deprecated alias for `np.bool_`.  (Deprecated NumPy 1.24)\n",
      "  if not isinstance(terminated, (bool, np.bool8)):\n",
      "/Users/danorel/Workspace/Education/University/KMA/Research/aclarel/environments/atari_games/boxing/rl_methods/__init__.py:64: FutureWarning: The behavior of DataFrame concatenation with empty or all-NA entries is deprecated. In a future version, this will no longer exclude empty or all-NA columns when determining the result dtypes. To retain the old behavior, exclude the relevant entries before the concat operation.\n",
      "  self.measurements = pd.concat([self.measurements, measurement], ignore_index=True)\n",
      "\n",
      "  5%|███▌                                                                        | 1/21 [01:43<34:29, 103.50s/it]\u001b[A"
     ]
    },
    {
     "name": "stdout",
     "output_type": "stream",
     "text": [
      "Evaluation 0:\n",
      "\tTraining:\n",
      " \t\tFrameskip: 4\n",
      " \t\tStability: 9.33\n",
      "\tEvalution:\n",
      " \t\tAAR: -0.0\n",
      " \t\tSES: 1.0\n",
      " \t\tMean Reward: -1.0\n",
      " \t\tStd Reward: 6.693\n"
     ]
    },
    {
     "name": "stderr",
     "output_type": "stream",
     "text": [
      "\n",
      " 10%|███████▏                                                                    | 2/21 [03:37<34:47, 109.89s/it]\u001b[A"
     ]
    },
    {
     "name": "stdout",
     "output_type": "stream",
     "text": [
      "Evaluation 1:\n",
      "\tTraining:\n",
      " \t\tFrameskip: 4\n",
      " \t\tStability: 9.96\n",
      "\tEvalution:\n",
      " \t\tAAR: -0.003\n",
      " \t\tSES: 1.0\n",
      " \t\tMean Reward: -16.6\n",
      " \t\tStd Reward: 7.031\n"
     ]
    },
    {
     "name": "stderr",
     "output_type": "stream",
     "text": [
      "\n",
      " 14%|██████████▊                                                                 | 3/21 [05:34<33:55, 113.09s/it]\u001b[A"
     ]
    },
    {
     "name": "stdout",
     "output_type": "stream",
     "text": [
      "Evaluation 2:\n",
      "\tTraining:\n",
      " \t\tFrameskip: 4\n",
      " \t\tStability: 23.379\n",
      "\tEvalution:\n",
      " \t\tAAR: -0.005\n",
      " \t\tSES: 1.0\n",
      " \t\tMean Reward: -24.8\n",
      " \t\tStd Reward: 11.268\n"
     ]
    },
    {
     "name": "stderr",
     "output_type": "stream",
     "text": [
      "\n",
      " 19%|██████████████▍                                                             | 4/21 [07:34<32:43, 115.53s/it]\u001b[A"
     ]
    },
    {
     "name": "stdout",
     "output_type": "stream",
     "text": [
      "Evaluation 3:\n",
      "\tTraining:\n",
      " \t\tFrameskip: 4\n",
      " \t\tStability: 16.162\n",
      "\tEvalution:\n",
      " \t\tAAR: -0.005\n",
      " \t\tSES: 1.0\n",
      " \t\tMean Reward: -6.6\n",
      " \t\tStd Reward: 8.114\n"
     ]
    },
    {
     "name": "stderr",
     "output_type": "stream",
     "text": [
      "\n",
      " 24%|██████████████████                                                          | 5/21 [09:34<31:15, 117.19s/it]\u001b[A"
     ]
    },
    {
     "name": "stdout",
     "output_type": "stream",
     "text": [
      "Evaluation 4:\n",
      "\tTraining:\n",
      " \t\tFrameskip: 4\n",
      " \t\tStability: 9.478\n",
      "\tEvalution:\n",
      " \t\tAAR: -0.002\n",
      " \t\tSES: 1.0\n",
      " \t\tMean Reward: -36.4\n",
      " \t\tStd Reward: 7.71\n"
     ]
    },
    {
     "name": "stderr",
     "output_type": "stream",
     "text": [
      "\n",
      " 29%|█████████████████████▋                                                      | 6/21 [11:34<29:33, 118.25s/it]\u001b[A"
     ]
    },
    {
     "name": "stdout",
     "output_type": "stream",
     "text": [
      "Evaluation 5:\n",
      "\tTraining:\n",
      " \t\tFrameskip: 4\n",
      " \t\tStability: 12.643\n",
      "\tEvalution:\n",
      " \t\tAAR: -0.002\n",
      " \t\tSES: 1.0\n",
      " \t\tMean Reward: -39.4\n",
      " \t\tStd Reward: 4.454\n"
     ]
    },
    {
     "name": "stderr",
     "output_type": "stream",
     "text": [
      "\n",
      " 33%|█████████████████████████▎                                                  | 7/21 [13:33<27:39, 118.54s/it]\u001b[A"
     ]
    },
    {
     "name": "stdout",
     "output_type": "stream",
     "text": [
      "Evaluation 6:\n",
      "\tTraining:\n",
      " \t\tFrameskip: 4\n",
      " \t\tStability: 14.959\n",
      "\tEvalution:\n",
      " \t\tAAR: -0.005\n",
      " \t\tSES: 1.0\n",
      " \t\tMean Reward: -30.0\n",
      " \t\tStd Reward: 8.967\n"
     ]
    },
    {
     "name": "stderr",
     "output_type": "stream",
     "text": [
      "\n",
      " 38%|████████████████████████████▉                                               | 8/21 [15:35<25:54, 119.61s/it]\u001b[A"
     ]
    },
    {
     "name": "stdout",
     "output_type": "stream",
     "text": [
      "Evaluation 7:\n",
      "\tTraining:\n",
      " \t\tFrameskip: 4\n",
      " \t\tStability: 6.046\n",
      "\tEvalution:\n",
      " \t\tAAR: -0.002\n",
      " \t\tSES: 1.0\n",
      " \t\tMean Reward: -6.4\n",
      " \t\tStd Reward: 7.283\n"
     ]
    },
    {
     "name": "stderr",
     "output_type": "stream",
     "text": [
      "\n",
      " 43%|████████████████████████████████▌                                           | 9/21 [17:44<24:30, 122.54s/it]\u001b[A"
     ]
    },
    {
     "name": "stdout",
     "output_type": "stream",
     "text": [
      "Evaluation 8:\n",
      "\tTraining:\n",
      " \t\tFrameskip: 4\n",
      " \t\tStability: 7.915\n",
      "\tEvalution:\n",
      " \t\tAAR: -0.001\n",
      " \t\tSES: 1.0\n",
      " \t\tMean Reward: -25.4\n",
      " \t\tStd Reward: 10.519\n"
     ]
    },
    {
     "name": "stderr",
     "output_type": "stream",
     "text": [
      "\n",
      " 48%|███████████████████████████████████▋                                       | 10/21 [19:53<22:48, 124.44s/it]\u001b[A"
     ]
    },
    {
     "name": "stdout",
     "output_type": "stream",
     "text": [
      "Evaluation 9:\n",
      "\tTraining:\n",
      " \t\tFrameskip: 4\n",
      " \t\tStability: 10.519\n",
      "\tEvalution:\n",
      " \t\tAAR: -0.003\n",
      " \t\tSES: 1.0\n",
      " \t\tMean Reward: -16.6\n",
      " \t\tStd Reward: 7.116\n"
     ]
    },
    {
     "name": "stderr",
     "output_type": "stream",
     "text": [
      "\n",
      " 52%|███████████████████████████████████████▎                                   | 11/21 [22:15<21:38, 129.84s/it]\u001b[A"
     ]
    },
    {
     "name": "stdout",
     "output_type": "stream",
     "text": [
      "Evaluation 10:\n",
      "\tTraining:\n",
      " \t\tFrameskip: 4\n",
      " \t\tStability: 12.192\n",
      "\tEvalution:\n",
      " \t\tAAR: -0.003\n",
      " \t\tSES: 1.0\n",
      " \t\tMean Reward: -10.8\n",
      " \t\tStd Reward: 3.868\n"
     ]
    },
    {
     "name": "stderr",
     "output_type": "stream",
     "text": [
      "\n",
      " 57%|██████████████████████████████████████████▊                                | 12/21 [24:41<20:12, 134.76s/it]\u001b[A"
     ]
    },
    {
     "name": "stdout",
     "output_type": "stream",
     "text": [
      "Evaluation 11:\n",
      "\tTraining:\n",
      " \t\tFrameskip: 4\n",
      " \t\tStability: 2.993\n",
      "\tEvalution:\n",
      " \t\tAAR: -0.001\n",
      " \t\tSES: 1.0\n",
      " \t\tMean Reward: -20.4\n",
      " \t\tStd Reward: 11.638\n"
     ]
    },
    {
     "name": "stderr",
     "output_type": "stream",
     "text": [
      "\n",
      " 62%|██████████████████████████████████████████████▍                            | 13/21 [27:09<18:29, 138.70s/it]\u001b[A"
     ]
    },
    {
     "name": "stdout",
     "output_type": "stream",
     "text": [
      "Evaluation 12:\n",
      "\tTraining:\n",
      " \t\tFrameskip: 4\n",
      " \t\tStability: 8.98\n",
      "\tEvalution:\n",
      " \t\tAAR: -0.003\n",
      " \t\tSES: 1.0\n",
      " \t\tMean Reward: -18.2\n",
      " \t\tStd Reward: 5.6\n"
     ]
    },
    {
     "name": "stderr",
     "output_type": "stream",
     "text": [
      "\n",
      " 67%|██████████████████████████████████████████████████                         | 14/21 [29:35<16:27, 141.03s/it]\u001b[A"
     ]
    },
    {
     "name": "stdout",
     "output_type": "stream",
     "text": [
      "Evaluation 13:\n",
      "\tTraining:\n",
      " \t\tFrameskip: 4\n",
      " \t\tStability: 8.015\n",
      "\tEvalution:\n",
      " \t\tAAR: -0.002\n",
      " \t\tSES: 1.0\n",
      " \t\tMean Reward: -13.4\n",
      " \t\tStd Reward: 8.452\n"
     ]
    },
    {
     "name": "stderr",
     "output_type": "stream",
     "text": [
      "\n",
      " 71%|█████████████████████████████████████████████████████▌                     | 15/21 [32:03<14:19, 143.29s/it]\u001b[A"
     ]
    },
    {
     "name": "stdout",
     "output_type": "stream",
     "text": [
      "Evaluation 14:\n",
      "\tTraining:\n",
      " \t\tFrameskip: 4\n",
      " \t\tStability: 9.642\n",
      "\tEvalution:\n",
      " \t\tAAR: -0.003\n",
      " \t\tSES: 1.0\n",
      " \t\tMean Reward: -16.6\n",
      " \t\tStd Reward: 4.63\n"
     ]
    },
    {
     "name": "stderr",
     "output_type": "stream",
     "text": [
      "\n",
      " 76%|█████████████████████████████████████████████████████████▏                 | 16/21 [34:33<12:06, 145.30s/it]\u001b[A"
     ]
    },
    {
     "name": "stdout",
     "output_type": "stream",
     "text": [
      "Evaluation 15:\n",
      "\tTraining:\n",
      " \t\tFrameskip: 4\n",
      " \t\tStability: 7.94\n",
      "\tEvalution:\n",
      " \t\tAAR: -0.002\n",
      " \t\tSES: 1.0\n",
      " \t\tMean Reward: -16.6\n",
      " \t\tStd Reward: 9.992\n"
     ]
    },
    {
     "name": "stderr",
     "output_type": "stream",
     "text": [
      "\n",
      " 81%|████████████████████████████████████████████████████████████▋              | 17/21 [37:10<09:55, 148.76s/it]\u001b[A"
     ]
    },
    {
     "name": "stdout",
     "output_type": "stream",
     "text": [
      "Evaluation 16:\n",
      "\tTraining:\n",
      " \t\tFrameskip: 4\n",
      " \t\tStability: 3.464\n",
      "\tEvalution:\n",
      " \t\tAAR: -0.002\n",
      " \t\tSES: 1.0\n",
      " \t\tMean Reward: -18.4\n",
      " \t\tStd Reward: 10.632\n"
     ]
    },
    {
     "name": "stderr",
     "output_type": "stream",
     "text": [
      "\n",
      " 86%|████████████████████████████████████████████████████████████████▎          | 18/21 [40:08<07:52, 157.48s/it]\u001b[A"
     ]
    },
    {
     "name": "stdout",
     "output_type": "stream",
     "text": [
      "Evaluation 17:\n",
      "\tTraining:\n",
      " \t\tFrameskip: 4\n",
      " \t\tStability: 8.124\n",
      "\tEvalution:\n",
      " \t\tAAR: -0.002\n",
      " \t\tSES: 1.0\n",
      " \t\tMean Reward: -20.6\n",
      " \t\tStd Reward: 8.546\n"
     ]
    },
    {
     "name": "stderr",
     "output_type": "stream",
     "text": [
      "\n",
      " 90%|███████████████████████████████████████████████████████████████████▊       | 19/21 [43:02<05:24, 162.32s/it]\u001b[A"
     ]
    },
    {
     "name": "stdout",
     "output_type": "stream",
     "text": [
      "Evaluation 18:\n",
      "\tTraining:\n",
      " \t\tFrameskip: 4\n",
      " \t\tStability: 6.099\n",
      "\tEvalution:\n",
      " \t\tAAR: -0.003\n",
      " \t\tSES: 1.0\n",
      " \t\tMean Reward: -12.2\n",
      " \t\tStd Reward: 8.183\n"
     ]
    },
    {
     "name": "stderr",
     "output_type": "stream",
     "text": [
      "\n",
      " 95%|███████████████████████████████████████████████████████████████████████▍   | 20/21 [46:00<02:47, 167.28s/it]\u001b[A"
     ]
    },
    {
     "name": "stdout",
     "output_type": "stream",
     "text": [
      "Evaluation 19:\n",
      "\tTraining:\n",
      " \t\tFrameskip: 4\n",
      " \t\tStability: 7.403\n",
      "\tEvalution:\n",
      " \t\tAAR: -0.002\n",
      " \t\tSES: 1.0\n",
      " \t\tMean Reward: -21.6\n",
      " \t\tStd Reward: 10.365\n"
     ]
    },
    {
     "name": "stderr",
     "output_type": "stream",
     "text": [
      "\n",
      "100%|███████████████████████████████████████████████████████████████████████████| 21/21 [49:19<00:00, 140.95s/it]\u001b[A"
     ]
    },
    {
     "name": "stdout",
     "output_type": "stream",
     "text": [
      "Evaluation 20:\n",
      "\tTraining:\n",
      " \t\tFrameskip: 4\n",
      " \t\tStability: 7.222\n",
      "\tEvalution:\n",
      " \t\tAAR: -0.002\n",
      " \t\tSES: 1.0\n",
      " \t\tMean Reward: -22.0\n",
      " \t\tStd Reward: 4.382\n"
     ]
    },
    {
     "name": "stderr",
     "output_type": "stream",
     "text": [
      "\n",
      "  8%|██████                                                                   | 1/12 [49:22<9:03:08, 2962.58s/it]"
     ]
    },
    {
     "name": "stdout",
     "output_type": "stream",
     "text": [
      "Training of 'dqn' via CL method 'transfer-learning' has started\n"
     ]
    },
    {
     "name": "stderr",
     "output_type": "stream",
     "text": [
      "\n",
      "  0%|                                                                                     | 0/21 [00:00<?, ?it/s]\u001b[A/Users/danorel/miniconda3/envs/aclarel_3.11.3/lib/python3.11/site-packages/gym/utils/passive_env_checker.py:233: DeprecationWarning: `np.bool8` is a deprecated alias for `np.bool_`.  (Deprecated NumPy 1.24)\n",
      "  if not isinstance(terminated, (bool, np.bool8)):\n",
      "/Users/danorel/Workspace/Education/University/KMA/Research/aclarel/environments/atari_games/boxing/rl_methods/__init__.py:64: FutureWarning: The behavior of DataFrame concatenation with empty or all-NA entries is deprecated. In a future version, this will no longer exclude empty or all-NA columns when determining the result dtypes. To retain the old behavior, exclude the relevant entries before the concat operation.\n",
      "  self.measurements = pd.concat([self.measurements, measurement], ignore_index=True)\n",
      "\n",
      "  5%|███▌                                                                      | 1/21 [06:58<2:19:30, 418.51s/it]\u001b[A"
     ]
    },
    {
     "name": "stdout",
     "output_type": "stream",
     "text": [
      "Evaluation 0:\n",
      "\tTraining:\n",
      " \t\tFrameskip: 1\n",
      " \t\tStability: 6.771\n",
      "\tEvalution:\n",
      " \t\tAAR: -0.0\n",
      " \t\tSES: 1.0\n",
      " \t\tMean Reward: -26.2\n",
      " \t\tStd Reward: 16.388\n"
     ]
    },
    {
     "name": "stderr",
     "output_type": "stream",
     "text": [
      "[W collection.cpp:602] Warning: torch/profiler/profiler.py(161): stop_trace (function operator())\n",
      "[W collection.cpp:602] Warning: torch/autograd/profiler.py(291): __exit__ (function operator())\n",
      "[W collection.cpp:602] Warning: <built-in method _disable_profiler of PyCapsule object at 0x1219a6610> (function operator())\n",
      "\n",
      " 10%|███████                                                                   | 2/21 [14:06<2:14:22, 424.35s/it]\u001b[A"
     ]
    },
    {
     "name": "stdout",
     "output_type": "stream",
     "text": [
      "Evaluation 1:\n",
      "\tTraining:\n",
      " \t\tFrameskip: 1\n",
      " \t\tStability: 8.518\n",
      "\tEvalution:\n",
      " \t\tAAR: -0.003\n",
      " \t\tSES: 1.0\n",
      " \t\tMean Reward: -12.6\n",
      " \t\tStd Reward: 8.163\n"
     ]
    },
    {
     "name": "stderr",
     "output_type": "stream",
     "text": [
      "\n",
      " 14%|██████████▌                                                               | 3/21 [18:14<1:43:06, 343.69s/it]\u001b[A"
     ]
    },
    {
     "name": "stdout",
     "output_type": "stream",
     "text": [
      "Evaluation 2:\n",
      "\tTraining:\n",
      " \t\tFrameskip: 2\n",
      " \t\tStability: 8.015\n",
      "\tEvalution:\n",
      " \t\tAAR: -0.001\n",
      " \t\tSES: 1.0\n",
      " \t\tMean Reward: -6.8\n",
      " \t\tStd Reward: 6.765\n"
     ]
    },
    {
     "name": "stderr",
     "output_type": "stream",
     "text": [
      "\n",
      " 19%|██████████████                                                            | 4/21 [23:12<1:32:17, 325.72s/it]\u001b[A"
     ]
    },
    {
     "name": "stdout",
     "output_type": "stream",
     "text": [
      "Evaluation 3:\n",
      "\tTraining:\n",
      " \t\tFrameskip: 2\n",
      " \t\tStability: 3.878\n",
      "\tEvalution:\n",
      " \t\tAAR: -0.0\n",
      " \t\tSES: 1.0\n",
      " \t\tMean Reward: -10.0\n",
      " \t\tStd Reward: 14.683\n"
     ]
    },
    {
     "name": "stderr",
     "output_type": "stream",
     "text": [
      "\n",
      " 24%|█████████████████▌                                                        | 5/21 [28:48<1:27:49, 329.37s/it]\u001b[A"
     ]
    },
    {
     "name": "stdout",
     "output_type": "stream",
     "text": [
      "Evaluation 4:\n",
      "\tTraining:\n",
      " \t\tFrameskip: 2\n",
      " \t\tStability: 4.336\n",
      "\tEvalution:\n",
      " \t\tAAR: -0.001\n",
      " \t\tSES: 1.0\n",
      " \t\tMean Reward: -8.6\n",
      " \t\tStd Reward: 7.172\n"
     ]
    },
    {
     "name": "stderr",
     "output_type": "stream",
     "text": [
      "\n",
      " 29%|█████████████████████▏                                                    | 6/21 [33:00<1:15:44, 302.96s/it]\u001b[A"
     ]
    },
    {
     "name": "stdout",
     "output_type": "stream",
     "text": [
      "Evaluation 5:\n",
      "\tTraining:\n",
      " \t\tFrameskip: 3\n",
      " \t\tStability: 12.878\n",
      "\tEvalution:\n",
      " \t\tAAR: -0.003\n",
      " \t\tSES: 1.0\n",
      " \t\tMean Reward: -7.0\n",
      " \t\tStd Reward: 5.762\n"
     ]
    },
    {
     "name": "stderr",
     "output_type": "stream",
     "text": [
      "\n",
      " 33%|████████████████████████▋                                                 | 7/21 [37:00<1:05:53, 282.39s/it]\u001b[A"
     ]
    },
    {
     "name": "stdout",
     "output_type": "stream",
     "text": [
      "Evaluation 6:\n",
      "\tTraining:\n",
      " \t\tFrameskip: 3\n",
      " \t\tStability: 12.671\n",
      "\tEvalution:\n",
      " \t\tAAR: -0.002\n",
      " \t\tSES: 1.0\n",
      " \t\tMean Reward: -12.0\n",
      " \t\tStd Reward: 9.487\n"
     ]
    },
    {
     "name": "stderr",
     "output_type": "stream",
     "text": [
      "\n",
      " 38%|████████████████████████████▉                                               | 8/21 [40:36<56:38, 261.42s/it]\u001b[A"
     ]
    },
    {
     "name": "stdout",
     "output_type": "stream",
     "text": [
      "Evaluation 7:\n",
      "\tTraining:\n",
      " \t\tFrameskip: 3\n",
      " \t\tStability: 7.338\n",
      "\tEvalution:\n",
      " \t\tAAR: -0.001\n",
      " \t\tSES: 1.0\n",
      " \t\tMean Reward: -15.4\n",
      " \t\tStd Reward: 8.639\n"
     ]
    },
    {
     "name": "stderr",
     "output_type": "stream",
     "text": [
      "\n",
      " 43%|████████████████████████████████▌                                           | 9/21 [43:44<47:39, 238.31s/it]\u001b[A"
     ]
    },
    {
     "name": "stdout",
     "output_type": "stream",
     "text": [
      "Evaluation 8:\n",
      "\tTraining:\n",
      " \t\tFrameskip: 4\n",
      " \t\tStability: 2.966\n",
      "\tEvalution:\n",
      " \t\tAAR: -0.002\n",
      " \t\tSES: 1.0\n",
      " \t\tMean Reward: -17.4\n",
      " \t\tStd Reward: 9.912\n"
     ]
    },
    {
     "name": "stderr",
     "output_type": "stream",
     "text": [
      "\n",
      " 48%|███████████████████████████████████▋                                       | 10/21 [47:02<41:24, 225.90s/it]\u001b[A"
     ]
    },
    {
     "name": "stdout",
     "output_type": "stream",
     "text": [
      "Evaluation 9:\n",
      "\tTraining:\n",
      " \t\tFrameskip: 4\n",
      " \t\tStability: 5.477\n",
      "\tEvalution:\n",
      " \t\tAAR: -0.001\n",
      " \t\tSES: 1.0\n",
      " \t\tMean Reward: -10.6\n",
      " \t\tStd Reward: 8.523\n"
     ]
    },
    {
     "name": "stderr",
     "output_type": "stream",
     "text": [
      "\n",
      " 52%|███████████████████████████████████████▎                                   | 11/21 [50:11<35:46, 214.61s/it]\u001b[A"
     ]
    },
    {
     "name": "stdout",
     "output_type": "stream",
     "text": [
      "Evaluation 10:\n",
      "\tTraining:\n",
      " \t\tFrameskip: 4\n",
      " \t\tStability: 5.463\n",
      "\tEvalution:\n",
      " \t\tAAR: -0.0\n",
      " \t\tSES: 1.0\n",
      " \t\tMean Reward: -12.0\n",
      " \t\tStd Reward: 11.472\n"
     ]
    },
    {
     "name": "stderr",
     "output_type": "stream",
     "text": [
      "\n",
      " 57%|██████████████████████████████████████████▊                                | 12/21 [53:49<32:20, 215.62s/it]\u001b[A"
     ]
    },
    {
     "name": "stdout",
     "output_type": "stream",
     "text": [
      "Evaluation 11:\n",
      "\tTraining:\n",
      " \t\tFrameskip: 4\n",
      " \t\tStability: 9.867\n",
      "\tEvalution:\n",
      " \t\tAAR: -0.002\n",
      " \t\tSES: 1.0\n",
      " \t\tMean Reward: -10.4\n",
      " \t\tStd Reward: 13.588\n"
     ]
    },
    {
     "name": "stderr",
     "output_type": "stream",
     "text": [
      "\n",
      " 62%|██████████████████████████████████████████████▍                            | 13/21 [57:13<28:16, 212.01s/it]\u001b[A"
     ]
    },
    {
     "name": "stdout",
     "output_type": "stream",
     "text": [
      "Evaluation 12:\n",
      "\tTraining:\n",
      " \t\tFrameskip: 4\n",
      " \t\tStability: 8.616\n",
      "\tEvalution:\n",
      " \t\tAAR: -0.001\n",
      " \t\tSES: 1.0\n",
      " \t\tMean Reward: -10.8\n",
      " \t\tStd Reward: 8.542\n"
     ]
    },
    {
     "name": "stderr",
     "output_type": "stream",
     "text": [
      "\n",
      " 67%|████████████████████████████████████████████████▋                        | 14/21 [1:00:26<24:04, 206.37s/it]\u001b[A"
     ]
    },
    {
     "name": "stdout",
     "output_type": "stream",
     "text": [
      "Evaluation 13:\n",
      "\tTraining:\n",
      " \t\tFrameskip: 4\n",
      " \t\tStability: 11.232\n",
      "\tEvalution:\n",
      " \t\tAAR: -0.002\n",
      " \t\tSES: 1.0\n",
      " \t\tMean Reward: -9.2\n",
      " \t\tStd Reward: 6.013\n"
     ]
    },
    {
     "name": "stderr",
     "output_type": "stream",
     "text": [
      "\n",
      " 71%|████████████████████████████████████████████████████▏                    | 15/21 [1:03:53<20:39, 206.54s/it]\u001b[A"
     ]
    },
    {
     "name": "stdout",
     "output_type": "stream",
     "text": [
      "Evaluation 14:\n",
      "\tTraining:\n",
      " \t\tFrameskip: 4\n",
      " \t\tStability: 13.951\n",
      "\tEvalution:\n",
      " \t\tAAR: -0.002\n",
      " \t\tSES: 1.0\n",
      " \t\tMean Reward: -10.6\n",
      " \t\tStd Reward: 17.212\n"
     ]
    },
    {
     "name": "stderr",
     "output_type": "stream",
     "text": [
      "\n",
      " 76%|███████████████████████████████████████████████████████▌                 | 16/21 [1:07:04<16:48, 201.80s/it]\u001b[A"
     ]
    },
    {
     "name": "stdout",
     "output_type": "stream",
     "text": [
      "Evaluation 15:\n",
      "\tTraining:\n",
      " \t\tFrameskip: 4\n",
      " \t\tStability: 7.552\n",
      "\tEvalution:\n",
      " \t\tAAR: -0.0\n",
      " \t\tSES: 1.0\n",
      " \t\tMean Reward: -17.4\n",
      " \t\tStd Reward: 3.611\n"
     ]
    },
    {
     "name": "stderr",
     "output_type": "stream",
     "text": [
      "\n",
      " 81%|███████████████████████████████████████████████████████████              | 17/21 [1:10:36<13:40, 205.07s/it]\u001b[A"
     ]
    },
    {
     "name": "stdout",
     "output_type": "stream",
     "text": [
      "Evaluation 16:\n",
      "\tTraining:\n",
      " \t\tFrameskip: 4\n",
      " \t\tStability: 10.167\n",
      "\tEvalution:\n",
      " \t\tAAR: -0.002\n",
      " \t\tSES: 1.0\n",
      " \t\tMean Reward: -8.6\n",
      " \t\tStd Reward: 4.841\n"
     ]
    },
    {
     "name": "stderr",
     "output_type": "stream",
     "text": [
      "\n",
      " 86%|██████████████████████████████████████████████████████████████▌          | 18/21 [1:13:54<10:08, 202.71s/it]\u001b[A"
     ]
    },
    {
     "name": "stdout",
     "output_type": "stream",
     "text": [
      "Evaluation 17:\n",
      "\tTraining:\n",
      " \t\tFrameskip: 4\n",
      " \t\tStability: 15.51\n",
      "\tEvalution:\n",
      " \t\tAAR: -0.003\n",
      " \t\tSES: 0.988\n",
      " \t\tMean Reward: -7.6\n",
      " \t\tStd Reward: 6.771\n"
     ]
    },
    {
     "name": "stderr",
     "output_type": "stream",
     "text": [
      "\n",
      " 90%|██████████████████████████████████████████████████████████████████       | 19/21 [1:16:56<06:33, 196.61s/it]\u001b[A"
     ]
    },
    {
     "name": "stdout",
     "output_type": "stream",
     "text": [
      "Evaluation 18:\n",
      "\tTraining:\n",
      " \t\tFrameskip: 4\n",
      " \t\tStability: 9.708\n",
      "\tEvalution:\n",
      " \t\tAAR: -0.001\n",
      " \t\tSES: 1.0\n",
      " \t\tMean Reward: -6.2\n",
      " \t\tStd Reward: 9.389\n"
     ]
    },
    {
     "name": "stderr",
     "output_type": "stream",
     "text": [
      "\n",
      " 95%|█████████████████████████████████████████████████████████████████████▌   | 20/21 [1:19:52<03:10, 190.44s/it]\u001b[A"
     ]
    },
    {
     "name": "stdout",
     "output_type": "stream",
     "text": [
      "Evaluation 19:\n",
      "\tTraining:\n",
      " \t\tFrameskip: 4\n",
      " \t\tStability: 5.314\n",
      "\tEvalution:\n",
      " \t\tAAR: -0.003\n",
      " \t\tSES: 1.0\n",
      " \t\tMean Reward: -15.2\n",
      " \t\tStd Reward: 6.524\n"
     ]
    },
    {
     "name": "stderr",
     "output_type": "stream",
     "text": [
      "\n",
      "100%|█████████████████████████████████████████████████████████████████████████| 21/21 [1:23:13<00:00, 237.80s/it]\u001b[A"
     ]
    },
    {
     "name": "stdout",
     "output_type": "stream",
     "text": [
      "Evaluation 20:\n",
      "\tTraining:\n",
      " \t\tFrameskip: 4\n",
      " \t\tStability: 13.182\n",
      "\tEvalution:\n",
      " \t\tAAR: -0.002\n",
      " \t\tSES: 1.0\n",
      " \t\tMean Reward: -8.8\n",
      " \t\tStd Reward: 4.445\n"
     ]
    },
    {
     "name": "stderr",
     "output_type": "stream",
     "text": [
      "\n",
      " 17%|███████████▋                                                          | 2/12 [2:12:39<11:33:09, 4158.96s/it]"
     ]
    },
    {
     "name": "stdout",
     "output_type": "stream",
     "text": [
      "Training of 'dqn' via CL method 'teacher-learning' has started\n"
     ]
    },
    {
     "name": "stderr",
     "output_type": "stream",
     "text": [
      "\n",
      "  0%|                                                            | 0/21 [00:00<?, ?it/s]\u001b[A/Users/danorel/miniconda3/envs/aclarel_3.11.3/lib/python3.11/site-packages/gym/utils/passive_env_checker.py:233: DeprecationWarning: `np.bool8` is a deprecated alias for `np.bool_`.  (Deprecated NumPy 1.24)\n",
      "  if not isinstance(terminated, (bool, np.bool8)):\n",
      "/Users/danorel/Workspace/Education/University/KMA/Research/aclarel/environments/atari_games/boxing/rl_methods/__init__.py:64: FutureWarning: The behavior of DataFrame concatenation with empty or all-NA entries is deprecated. In a future version, this will no longer exclude empty or all-NA columns when determining the result dtypes. To retain the old behavior, exclude the relevant entries before the concat operation.\n",
      "  self.measurements = pd.concat([self.measurements, measurement], ignore_index=True)\n",
      "\n",
      "  5%|██▍                                                | 1/21 [02:16<45:25, 136.26s/it]\u001b[A"
     ]
    },
    {
     "name": "stdout",
     "output_type": "stream",
     "text": [
      "Evaluation 0:\n",
      "\tTraining:\n",
      " \t\tFrameskip: 4\n",
      " \t\tStability: 5.004\n",
      "\tEvalution:\n",
      " \t\tAAR: 0.0\n",
      " \t\tSES: 1.0\n",
      " \t\tMean Reward: -9.2\n",
      " \t\tStd Reward: 6.337\n"
     ]
    },
    {
     "name": "stderr",
     "output_type": "stream",
     "text": [
      "\n",
      " 10%|████▊                                              | 2/21 [04:34<43:31, 137.47s/it]\u001b[A"
     ]
    },
    {
     "name": "stdout",
     "output_type": "stream",
     "text": [
      "Evaluation 1:\n",
      "\tTraining:\n",
      " \t\tFrameskip: 4\n",
      " \t\tStability: 6.344\n",
      "\tEvalution:\n",
      " \t\tAAR: -0.001\n",
      " \t\tSES: 1.0\n",
      " \t\tMean Reward: 2.4\n",
      " \t\tStd Reward: 5.886\n"
     ]
    },
    {
     "name": "stderr",
     "output_type": "stream",
     "text": [
      "\n",
      " 14%|███████▎                                           | 3/21 [07:01<42:33, 141.87s/it]\u001b[A"
     ]
    },
    {
     "name": "stdout",
     "output_type": "stream",
     "text": [
      "Evaluation 2:\n",
      "\tTraining:\n",
      " \t\tFrameskip: 4\n",
      " \t\tStability: 4.099\n",
      "\tEvalution:\n",
      " \t\tAAR: -0.001\n",
      " \t\tSES: 0.998\n",
      " \t\tMean Reward: 5.0\n",
      " \t\tStd Reward: 5.55\n"
     ]
    },
    {
     "name": "stderr",
     "output_type": "stream",
     "text": [
      "\n",
      " 19%|█████████▋                                         | 4/21 [09:23<40:13, 141.96s/it]\u001b[A"
     ]
    },
    {
     "name": "stdout",
     "output_type": "stream",
     "text": [
      "Evaluation 3:\n",
      "\tTraining:\n",
      " \t\tFrameskip: 4\n",
      " \t\tStability: 6.911\n",
      "\tEvalution:\n",
      " \t\tAAR: -0.001\n",
      " \t\tSES: 1.0\n",
      " \t\tMean Reward: -8.0\n",
      " \t\tStd Reward: 9.338\n"
     ]
    },
    {
     "name": "stderr",
     "output_type": "stream",
     "text": [
      "\n",
      " 24%|████████████▏                                      | 5/21 [11:59<39:09, 146.87s/it]\u001b[A"
     ]
    },
    {
     "name": "stdout",
     "output_type": "stream",
     "text": [
      "Evaluation 4:\n",
      "\tTraining:\n",
      " \t\tFrameskip: 4\n",
      " \t\tStability: 18.906\n",
      "\tEvalution:\n",
      " \t\tAAR: -0.002\n",
      " \t\tSES: 1.0\n",
      " \t\tMean Reward: -5.8\n",
      " \t\tStd Reward: 8.28\n"
     ]
    },
    {
     "name": "stderr",
     "output_type": "stream",
     "text": [
      "\n",
      " 29%|██████████████▌                                    | 6/21 [14:37<37:40, 150.71s/it]\u001b[A"
     ]
    },
    {
     "name": "stdout",
     "output_type": "stream",
     "text": [
      "Evaluation 5:\n",
      "\tTraining:\n",
      " \t\tFrameskip: 4\n",
      " \t\tStability: 2.315\n",
      "\tEvalution:\n",
      " \t\tAAR: 0.0\n",
      " \t\tSES: 1.0\n",
      " \t\tMean Reward: -4.8\n",
      " \t\tStd Reward: 6.823\n"
     ]
    },
    {
     "name": "stderr",
     "output_type": "stream",
     "text": [
      "\n",
      " 33%|█████████████████                                  | 7/21 [17:25<36:27, 156.24s/it]\u001b[A"
     ]
    },
    {
     "name": "stdout",
     "output_type": "stream",
     "text": [
      "Evaluation 6:\n",
      "\tTraining:\n",
      " \t\tFrameskip: 4\n",
      " \t\tStability: 6.888\n",
      "\tEvalution:\n",
      " \t\tAAR: -0.001\n",
      " \t\tSES: 1.0\n",
      " \t\tMean Reward: -5.4\n",
      " \t\tStd Reward: 8.639\n"
     ]
    },
    {
     "name": "stderr",
     "output_type": "stream",
     "text": [
      "\n",
      " 38%|███████████████████▍                               | 8/21 [20:23<35:23, 163.36s/it]\u001b[A"
     ]
    },
    {
     "name": "stdout",
     "output_type": "stream",
     "text": [
      "Evaluation 7:\n",
      "\tTraining:\n",
      " \t\tFrameskip: 4\n",
      " \t\tStability: 0.49\n",
      "\tEvalution:\n",
      " \t\tAAR: -0.0\n",
      " \t\tSES: 1.0\n",
      " \t\tMean Reward: -0.6\n",
      " \t\tStd Reward: 2.417\n"
     ]
    },
    {
     "name": "stderr",
     "output_type": "stream",
     "text": [
      "\n",
      " 43%|█████████████████████▊                             | 9/21 [23:28<34:00, 170.00s/it]\u001b[A"
     ]
    },
    {
     "name": "stdout",
     "output_type": "stream",
     "text": [
      "Evaluation 8:\n",
      "\tTraining:\n",
      " \t\tFrameskip: 4\n",
      " \t\tStability: 4.841\n",
      "\tEvalution:\n",
      " \t\tAAR: -0.001\n",
      " \t\tSES: 1.0\n",
      " \t\tMean Reward: -4.2\n",
      " \t\tStd Reward: 7.026\n"
     ]
    },
    {
     "name": "stderr",
     "output_type": "stream",
     "text": [
      "\n",
      " 48%|███████████████████████▊                          | 10/21 [26:25<31:33, 172.15s/it]\u001b[A"
     ]
    },
    {
     "name": "stdout",
     "output_type": "stream",
     "text": [
      "Evaluation 9:\n",
      "\tTraining:\n",
      " \t\tFrameskip: 4\n",
      " \t\tStability: 3.37\n",
      "\tEvalution:\n",
      " \t\tAAR: -0.0\n",
      " \t\tSES: 1.0\n",
      " \t\tMean Reward: -2.0\n",
      " \t\tStd Reward: 7.563\n"
     ]
    },
    {
     "name": "stderr",
     "output_type": "stream",
     "text": [
      "\n",
      " 52%|██████████████████████████▏                       | 11/21 [29:44<30:03, 180.36s/it]\u001b[A"
     ]
    },
    {
     "name": "stdout",
     "output_type": "stream",
     "text": [
      "Evaluation 10:\n",
      "\tTraining:\n",
      " \t\tFrameskip: 4\n",
      " \t\tStability: 5.036\n",
      "\tEvalution:\n",
      " \t\tAAR: -0.0\n",
      " \t\tSES: 1.0\n",
      " \t\tMean Reward: 6.2\n",
      " \t\tStd Reward: 4.956\n"
     ]
    },
    {
     "name": "stderr",
     "output_type": "stream",
     "text": [
      "\n",
      " 57%|████████████████████████████▌                     | 12/21 [33:02<27:51, 185.74s/it]\u001b[A"
     ]
    },
    {
     "name": "stdout",
     "output_type": "stream",
     "text": [
      "Evaluation 11:\n",
      "\tTraining:\n",
      " \t\tFrameskip: 4\n",
      " \t\tStability: 5.463\n",
      "\tEvalution:\n",
      " \t\tAAR: 0.0\n",
      " \t\tSES: 1.0\n",
      " \t\tMean Reward: 0.0\n",
      " \t\tStd Reward: 3.286\n"
     ]
    },
    {
     "name": "stderr",
     "output_type": "stream",
     "text": [
      "\n",
      " 62%|██████████████████████████████▉                   | 13/21 [36:19<25:13, 189.23s/it]\u001b[A"
     ]
    },
    {
     "name": "stdout",
     "output_type": "stream",
     "text": [
      "Evaluation 12:\n",
      "\tTraining:\n",
      " \t\tFrameskip: 4\n",
      " \t\tStability: 3.633\n",
      "\tEvalution:\n",
      " \t\tAAR: 0.0\n",
      " \t\tSES: 1.0\n",
      " \t\tMean Reward: 2.0\n",
      " \t\tStd Reward: 5.254\n"
     ]
    },
    {
     "name": "stderr",
     "output_type": "stream",
     "text": [
      "\n",
      " 67%|█████████████████████████████████▎                | 14/21 [40:13<23:38, 202.70s/it]\u001b[A"
     ]
    },
    {
     "name": "stdout",
     "output_type": "stream",
     "text": [
      "Evaluation 13:\n",
      "\tTraining:\n",
      " \t\tFrameskip: 4\n",
      " \t\tStability: 5.953\n",
      "\tEvalution:\n",
      " \t\tAAR: -0.0\n",
      " \t\tSES: 1.0\n",
      " \t\tMean Reward: 4.6\n",
      " \t\tStd Reward: 4.587\n"
     ]
    },
    {
     "name": "stderr",
     "output_type": "stream",
     "text": [
      "\n",
      " 71%|███████████████████████████████████▋              | 15/21 [44:39<22:10, 221.80s/it]\u001b[A"
     ]
    },
    {
     "name": "stdout",
     "output_type": "stream",
     "text": [
      "Evaluation 14:\n",
      "\tTraining:\n",
      " \t\tFrameskip: 4\n",
      " \t\tStability: 7.392\n",
      "\tEvalution:\n",
      " \t\tAAR: -0.0\n",
      " \t\tSES: 0.989\n",
      " \t\tMean Reward: -0.8\n",
      " \t\tStd Reward: 3.429\n"
     ]
    },
    {
     "name": "stderr",
     "output_type": "stream",
     "text": [
      "\n",
      " 76%|██████████████████████████████████████            | 16/21 [48:35<18:50, 226.07s/it]\u001b[A"
     ]
    },
    {
     "name": "stdout",
     "output_type": "stream",
     "text": [
      "Evaluation 15:\n",
      "\tTraining:\n",
      " \t\tFrameskip: 4\n",
      " \t\tStability: 5.514\n",
      "\tEvalution:\n",
      " \t\tAAR: 0.0\n",
      " \t\tSES: 1.0\n",
      " \t\tMean Reward: 2.4\n",
      " \t\tStd Reward: 6.119\n"
     ]
    },
    {
     "name": "stderr",
     "output_type": "stream",
     "text": [
      "\n",
      " 81%|████████████████████████████████████████▍         | 17/21 [52:16<14:58, 224.55s/it]\u001b[A"
     ]
    },
    {
     "name": "stdout",
     "output_type": "stream",
     "text": [
      "Evaluation 16:\n",
      "\tTraining:\n",
      " \t\tFrameskip: 4\n",
      " \t\tStability: 10.98\n",
      "\tEvalution:\n",
      " \t\tAAR: -0.001\n",
      " \t\tSES: 1.0\n",
      " \t\tMean Reward: 1.4\n",
      " \t\tStd Reward: 4.63\n"
     ]
    },
    {
     "name": "stderr",
     "output_type": "stream",
     "text": [
      "\n",
      " 86%|██████████████████████████████████████████▊       | 18/21 [56:17<11:28, 229.57s/it]\u001b[A"
     ]
    },
    {
     "name": "stdout",
     "output_type": "stream",
     "text": [
      "Evaluation 17:\n",
      "\tTraining:\n",
      " \t\tFrameskip: 4\n",
      " \t\tStability: 3.688\n",
      "\tEvalution:\n",
      " \t\tAAR: 0.0\n",
      " \t\tSES: 1.0\n",
      " \t\tMean Reward: -0.6\n",
      " \t\tStd Reward: 5.463\n"
     ]
    },
    {
     "name": "stderr",
     "output_type": "stream",
     "text": [
      "\n",
      " 90%|███████████████████████████████████████████▍    | 19/21 [1:00:20<07:46, 233.49s/it]\u001b[A"
     ]
    },
    {
     "name": "stdout",
     "output_type": "stream",
     "text": [
      "Evaluation 18:\n",
      "\tTraining:\n",
      " \t\tFrameskip: 4\n",
      " \t\tStability: 2.728\n",
      "\tEvalution:\n",
      " \t\tAAR: 0.0\n",
      " \t\tSES: 1.0\n",
      " \t\tMean Reward: 0.6\n",
      " \t\tStd Reward: 4.499\n"
     ]
    },
    {
     "name": "stderr",
     "output_type": "stream",
     "text": [
      "\n",
      " 95%|█████████████████████████████████████████████▋  | 20/21 [1:03:55<03:47, 227.87s/it]\u001b[A"
     ]
    },
    {
     "name": "stdout",
     "output_type": "stream",
     "text": [
      "Evaluation 19:\n",
      "\tTraining:\n",
      " \t\tFrameskip: 4\n",
      " \t\tStability: 10.64\n",
      "\tEvalution:\n",
      " \t\tAAR: -0.001\n",
      " \t\tSES: 1.0\n",
      " \t\tMean Reward: -1.8\n",
      " \t\tStd Reward: 9.621\n"
     ]
    },
    {
     "name": "stderr",
     "output_type": "stream",
     "text": [
      "\n",
      "100%|████████████████████████████████████████████████| 21/21 [1:07:30<00:00, 192.86s/it]\u001b[A"
     ]
    },
    {
     "name": "stdout",
     "output_type": "stream",
     "text": [
      "Evaluation 20:\n",
      "\tTraining:\n",
      " \t\tFrameskip: 4\n",
      " \t\tStability: 15.041\n",
      "\tEvalution:\n",
      " \t\tAAR: -0.001\n",
      " \t\tSES: 1.0\n",
      " \t\tMean Reward: -1.2\n",
      " \t\tStd Reward: 1.833\n"
     ]
    },
    {
     "name": "stderr",
     "output_type": "stream",
     "text": [
      "\n",
      " 25%|█████████████████▌                                                    | 3/12 [3:20:11<10:16:33, 4110.39s/it]"
     ]
    },
    {
     "name": "stdout",
     "output_type": "stream",
     "text": [
      "Training of 'dqn' via CL method 'one-pass' has started\n"
     ]
    },
    {
     "name": "stderr",
     "output_type": "stream",
     "text": [
      "\n",
      "  0%|                                                            | 0/21 [00:00<?, ?it/s]\u001b[A/Users/danorel/miniconda3/envs/aclarel_3.11.3/lib/python3.11/site-packages/gym/utils/passive_env_checker.py:233: DeprecationWarning: `np.bool8` is a deprecated alias for `np.bool_`.  (Deprecated NumPy 1.24)\n",
      "  if not isinstance(terminated, (bool, np.bool8)):\n",
      "/Users/danorel/Workspace/Education/University/KMA/Research/aclarel/environments/atari_games/boxing/rl_methods/__init__.py:64: FutureWarning: The behavior of DataFrame concatenation with empty or all-NA entries is deprecated. In a future version, this will no longer exclude empty or all-NA columns when determining the result dtypes. To retain the old behavior, exclude the relevant entries before the concat operation.\n",
      "  self.measurements = pd.concat([self.measurements, measurement], ignore_index=True)\n",
      "\n",
      "  5%|██▎                                              | 1/21 [07:52<2:37:24, 472.22s/it]\u001b[A"
     ]
    },
    {
     "name": "stdout",
     "output_type": "stream",
     "text": [
      "Evaluation 0:\n",
      "\tTraining:\n",
      " \t\tFrameskip: 1\n",
      " \t\tStability: 13.161\n",
      "\tEvalution:\n",
      " \t\tAAR: -0.002\n",
      " \t\tSES: 1.0\n",
      " \t\tMean Reward: -52.8\n",
      " \t\tStd Reward: 10.167\n"
     ]
    },
    {
     "name": "stderr",
     "output_type": "stream",
     "text": [
      "\n",
      " 10%|████▋                                            | 2/21 [15:30<2:26:55, 463.98s/it]\u001b[A"
     ]
    },
    {
     "name": "stdout",
     "output_type": "stream",
     "text": [
      "Evaluation 1:\n",
      "\tTraining:\n",
      " \t\tFrameskip: 1\n",
      " \t\tStability: 14.935\n",
      "\tEvalution:\n",
      " \t\tAAR: -0.004\n",
      " \t\tSES: 1.0\n",
      " \t\tMean Reward: -27.2\n",
      " \t\tStd Reward: 15.561\n"
     ]
    },
    {
     "name": "stderr",
     "output_type": "stream",
     "text": [
      "\n",
      " 14%|███████                                          | 3/21 [24:00<2:25:27, 484.88s/it]\u001b[A"
     ]
    },
    {
     "name": "stdout",
     "output_type": "stream",
     "text": [
      "Evaluation 2:\n",
      "\tTraining:\n",
      " \t\tFrameskip: 1\n",
      " \t\tStability: 7.96\n",
      "\tEvalution:\n",
      " \t\tAAR: -0.002\n",
      " \t\tSES: 1.0\n",
      " \t\tMean Reward: -9.6\n",
      " \t\tStd Reward: 10.404\n"
     ]
    },
    {
     "name": "stderr",
     "output_type": "stream",
     "text": [
      "\n",
      " 19%|█████████▎                                       | 4/21 [29:34<2:00:29, 425.27s/it]\u001b[A"
     ]
    },
    {
     "name": "stdout",
     "output_type": "stream",
     "text": [
      "Evaluation 3:\n",
      "\tTraining:\n",
      " \t\tFrameskip: 2\n",
      " \t\tStability: 4.665\n",
      "\tEvalution:\n",
      " \t\tAAR: -0.001\n",
      " \t\tSES: 1.0\n",
      " \t\tMean Reward: -1.6\n",
      " \t\tStd Reward: 2.332\n"
     ]
    },
    {
     "name": "stderr",
     "output_type": "stream",
     "text": [
      "\n",
      " 24%|███████████▋                                     | 5/21 [35:46<1:48:21, 406.35s/it]\u001b[A"
     ]
    },
    {
     "name": "stdout",
     "output_type": "stream",
     "text": [
      "Evaluation 4:\n",
      "\tTraining:\n",
      " \t\tFrameskip: 2\n",
      " \t\tStability: 8.438\n",
      "\tEvalution:\n",
      " \t\tAAR: -0.0\n",
      " \t\tSES: 1.0\n",
      " \t\tMean Reward: -0.4\n",
      " \t\tStd Reward: 3.72\n"
     ]
    },
    {
     "name": "stderr",
     "output_type": "stream",
     "text": [
      "\n",
      " 29%|██████████████                                   | 6/21 [40:13<1:29:43, 358.91s/it]\u001b[A"
     ]
    },
    {
     "name": "stdout",
     "output_type": "stream",
     "text": [
      "Evaluation 5:\n",
      "\tTraining:\n",
      " \t\tFrameskip: 3\n",
      " \t\tStability: 4.604\n",
      "\tEvalution:\n",
      " \t\tAAR: -0.001\n",
      " \t\tSES: 1.0\n",
      " \t\tMean Reward: -4.0\n",
      " \t\tStd Reward: 4.604\n"
     ]
    },
    {
     "name": "stderr",
     "output_type": "stream",
     "text": [
      "\n",
      " 33%|████████████████▎                                | 7/21 [44:35<1:16:21, 327.27s/it]\u001b[A"
     ]
    },
    {
     "name": "stdout",
     "output_type": "stream",
     "text": [
      "Evaluation 6:\n",
      "\tTraining:\n",
      " \t\tFrameskip: 3\n",
      " \t\tStability: 1.497\n",
      "\tEvalution:\n",
      " \t\tAAR: -0.0\n",
      " \t\tSES: 1.0\n",
      " \t\tMean Reward: -4.0\n",
      " \t\tStd Reward: 5.797\n"
     ]
    },
    {
     "name": "stderr",
     "output_type": "stream",
     "text": [
      "\n",
      " 38%|██████████████████▋                              | 8/21 [47:57<1:02:16, 287.42s/it]\u001b[A"
     ]
    },
    {
     "name": "stdout",
     "output_type": "stream",
     "text": [
      "Evaluation 7:\n",
      "\tTraining:\n",
      " \t\tFrameskip: 4\n",
      " \t\tStability: 1.855\n",
      "\tEvalution:\n",
      " \t\tAAR: -0.0\n",
      " \t\tSES: 1.0\n",
      " \t\tMean Reward: -5.8\n",
      " \t\tStd Reward: 7.44\n"
     ]
    },
    {
     "name": "stderr",
     "output_type": "stream",
     "text": [
      "\n",
      " 43%|█████████████████████▊                             | 9/21 [51:25<52:29, 262.45s/it]\u001b[A"
     ]
    },
    {
     "name": "stdout",
     "output_type": "stream",
     "text": [
      "Evaluation 8:\n",
      "\tTraining:\n",
      " \t\tFrameskip: 4\n",
      " \t\tStability: 4.733\n",
      "\tEvalution:\n",
      " \t\tAAR: -0.0\n",
      " \t\tSES: 0.987\n",
      " \t\tMean Reward: -2.4\n",
      " \t\tStd Reward: 1.744\n"
     ]
    },
    {
     "name": "stderr",
     "output_type": "stream",
     "text": [
      "\n",
      " 48%|███████████████████████▊                          | 10/21 [54:39<44:16, 241.46s/it]\u001b[A"
     ]
    },
    {
     "name": "stdout",
     "output_type": "stream",
     "text": [
      "Evaluation 9:\n",
      "\tTraining:\n",
      " \t\tFrameskip: 5\n",
      " \t\tStability: 3.655\n",
      "\tEvalution:\n",
      " \t\tAAR: -0.001\n",
      " \t\tSES: 1.0\n",
      " \t\tMean Reward: -2.8\n",
      " \t\tStd Reward: 3.544\n"
     ]
    },
    {
     "name": "stderr",
     "output_type": "stream",
     "text": [
      "\n",
      " 52%|██████████████████████████▏                       | 11/21 [57:38<37:02, 222.28s/it]\u001b[A"
     ]
    },
    {
     "name": "stdout",
     "output_type": "stream",
     "text": [
      "Evaluation 10:\n",
      "\tTraining:\n",
      " \t\tFrameskip: 5\n",
      " \t\tStability: 1.356\n",
      "\tEvalution:\n",
      " \t\tAAR: -0.0\n",
      " \t\tSES: 1.0\n",
      " \t\tMean Reward: -6.0\n",
      " \t\tStd Reward: 5.292\n"
     ]
    },
    {
     "name": "stderr",
     "output_type": "stream",
     "text": [
      "\n",
      " 57%|███████████████████████████▍                    | 12/21 [1:00:16<30:22, 202.51s/it]\u001b[A"
     ]
    },
    {
     "name": "stdout",
     "output_type": "stream",
     "text": [
      "Evaluation 11:\n",
      "\tTraining:\n",
      " \t\tFrameskip: 6\n",
      " \t\tStability: 9.165\n",
      "\tEvalution:\n",
      " \t\tAAR: -0.0\n",
      " \t\tSES: 1.0\n",
      " \t\tMean Reward: -1.0\n",
      " \t\tStd Reward: 3.286\n"
     ]
    },
    {
     "name": "stderr",
     "output_type": "stream",
     "text": [
      "\n",
      " 62%|█████████████████████████████▋                  | 13/21 [1:02:51<25:06, 188.35s/it]\u001b[A"
     ]
    },
    {
     "name": "stdout",
     "output_type": "stream",
     "text": [
      "Evaluation 12:\n",
      "\tTraining:\n",
      " \t\tFrameskip: 6\n",
      " \t\tStability: 5.426\n",
      "\tEvalution:\n",
      " \t\tAAR: -0.001\n",
      " \t\tSES: 1.0\n",
      " \t\tMean Reward: -4.2\n",
      " \t\tStd Reward: 5.115\n"
     ]
    },
    {
     "name": "stderr",
     "output_type": "stream",
     "text": [
      "\n",
      " 67%|████████████████████████████████                | 14/21 [1:05:10<20:12, 173.25s/it]\u001b[A"
     ]
    },
    {
     "name": "stdout",
     "output_type": "stream",
     "text": [
      "Evaluation 13:\n",
      "\tTraining:\n",
      " \t\tFrameskip: 7\n",
      " \t\tStability: 7.359\n",
      "\tEvalution:\n",
      " \t\tAAR: -0.001\n",
      " \t\tSES: 1.0\n",
      " \t\tMean Reward: -10.8\n",
      " \t\tStd Reward: 14.274\n"
     ]
    },
    {
     "name": "stderr",
     "output_type": "stream",
     "text": [
      "\n",
      " 71%|██████████████████████████████████▎             | 15/21 [1:07:33<16:26, 164.34s/it]\u001b[A"
     ]
    },
    {
     "name": "stdout",
     "output_type": "stream",
     "text": [
      "Evaluation 14:\n",
      "\tTraining:\n",
      " \t\tFrameskip: 7\n",
      " \t\tStability: 7.172\n",
      "\tEvalution:\n",
      " \t\tAAR: -0.001\n",
      " \t\tSES: 1.0\n",
      " \t\tMean Reward: -5.0\n",
      " \t\tStd Reward: 3.633\n"
     ]
    },
    {
     "name": "stderr",
     "output_type": "stream",
     "text": [
      "\n",
      " 76%|████████████████████████████████████▌           | 16/21 [1:09:42<12:47, 153.50s/it]\u001b[A"
     ]
    },
    {
     "name": "stdout",
     "output_type": "stream",
     "text": [
      "Evaluation 15:\n",
      "\tTraining:\n",
      " \t\tFrameskip: 8\n",
      " \t\tStability: 7.139\n",
      "\tEvalution:\n",
      " \t\tAAR: -0.001\n",
      " \t\tSES: 1.0\n",
      " \t\tMean Reward: -0.2\n",
      " \t\tStd Reward: 1.47\n"
     ]
    },
    {
     "name": "stderr",
     "output_type": "stream",
     "text": [
      "\n",
      " 81%|██████████████████████████████████████▊         | 17/21 [1:11:48<09:40, 145.20s/it]\u001b[A"
     ]
    },
    {
     "name": "stdout",
     "output_type": "stream",
     "text": [
      "Evaluation 16:\n",
      "\tTraining:\n",
      " \t\tFrameskip: 8\n",
      " \t\tStability: 15.816\n",
      "\tEvalution:\n",
      " \t\tAAR: -0.001\n",
      " \t\tSES: 1.0\n",
      " \t\tMean Reward: -7.4\n",
      " \t\tStd Reward: 6.829\n"
     ]
    },
    {
     "name": "stderr",
     "output_type": "stream",
     "text": [
      "\n",
      " 86%|█████████████████████████████████████████▏      | 18/21 [1:14:09<07:12, 144.07s/it]\u001b[A"
     ]
    },
    {
     "name": "stdout",
     "output_type": "stream",
     "text": [
      "Evaluation 17:\n",
      "\tTraining:\n",
      " \t\tFrameskip: 9\n",
      " \t\tStability: 4.176\n",
      "\tEvalution:\n",
      " \t\tAAR: -0.0\n",
      " \t\tSES: 1.0\n",
      " \t\tMean Reward: -3.8\n",
      " \t\tStd Reward: 3.37\n"
     ]
    },
    {
     "name": "stderr",
     "output_type": "stream",
     "text": [
      "\n",
      " 90%|███████████████████████████████████████████▍    | 19/21 [1:16:22<04:41, 140.79s/it]\u001b[A"
     ]
    },
    {
     "name": "stdout",
     "output_type": "stream",
     "text": [
      "Evaluation 18:\n",
      "\tTraining:\n",
      " \t\tFrameskip: 9\n",
      " \t\tStability: 2.728\n",
      "\tEvalution:\n",
      " \t\tAAR: -0.0\n",
      " \t\tSES: 1.0\n",
      " \t\tMean Reward: -2.2\n",
      " \t\tStd Reward: 5.528\n"
     ]
    },
    {
     "name": "stderr",
     "output_type": "stream",
     "text": [
      "\n",
      " 95%|█████████████████████████████████████████████▋  | 20/21 [1:18:19<02:13, 133.64s/it]\u001b[A"
     ]
    },
    {
     "name": "stdout",
     "output_type": "stream",
     "text": [
      "Evaluation 19:\n",
      "\tTraining:\n",
      " \t\tFrameskip: 10\n",
      " \t\tStability: 6.046\n",
      "\tEvalution:\n",
      " \t\tAAR: -0.001\n",
      " \t\tSES: 1.0\n",
      " \t\tMean Reward: -5.8\n",
      " \t\tStd Reward: 7.111\n"
     ]
    },
    {
     "name": "stderr",
     "output_type": "stream",
     "text": [
      "\n",
      "100%|████████████████████████████████████████████████| 21/21 [1:20:23<00:00, 229.67s/it]\u001b[A"
     ]
    },
    {
     "name": "stdout",
     "output_type": "stream",
     "text": [
      "Evaluation 20:\n",
      "\tTraining:\n",
      " \t\tFrameskip: 10\n",
      " \t\tStability: 9.152\n",
      "\tEvalution:\n",
      " \t\tAAR: -0.002\n",
      " \t\tSES: 1.0\n",
      " \t\tMean Reward: -5.2\n",
      " \t\tStd Reward: 6.794\n"
     ]
    },
    {
     "name": "stderr",
     "output_type": "stream",
     "text": [
      "\n",
      " 33%|███████████████████████▋                                               | 4/12 [4:40:42<9:45:58, 4394.75s/it]"
     ]
    },
    {
     "name": "stdout",
     "output_type": "stream",
     "text": [
      "Training of 'dqn' via CL method 'root-p' has started\n"
     ]
    },
    {
     "name": "stderr",
     "output_type": "stream",
     "text": [
      "\n",
      "  0%|                                                            | 0/21 [00:00<?, ?it/s]\u001b[A/Users/danorel/miniconda3/envs/aclarel_3.11.3/lib/python3.11/site-packages/gym/utils/passive_env_checker.py:233: DeprecationWarning: `np.bool8` is a deprecated alias for `np.bool_`.  (Deprecated NumPy 1.24)\n",
      "  if not isinstance(terminated, (bool, np.bool8)):\n",
      "/Users/danorel/Workspace/Education/University/KMA/Research/aclarel/environments/atari_games/boxing/rl_methods/__init__.py:64: FutureWarning: The behavior of DataFrame concatenation with empty or all-NA entries is deprecated. In a future version, this will no longer exclude empty or all-NA columns when determining the result dtypes. To retain the old behavior, exclude the relevant entries before the concat operation.\n",
      "  self.measurements = pd.concat([self.measurements, measurement], ignore_index=True)\n",
      "\n",
      "  5%|██▍                                                | 1/21 [02:12<44:03, 132.18s/it]\u001b[A"
     ]
    },
    {
     "name": "stdout",
     "output_type": "stream",
     "text": [
      "Evaluation 0:\n",
      "\tTraining:\n",
      " \t\tFrameskip: 5\n",
      " \t\tStability: 2.939\n",
      "\tEvalution:\n",
      " \t\tAAR: 0.0\n",
      " \t\tSES: 0.999\n",
      " \t\tMean Reward: -2.6\n",
      " \t\tStd Reward: 6.499\n"
     ]
    },
    {
     "name": "stderr",
     "output_type": "stream",
     "text": [
      "\n",
      " 10%|████▊                                              | 2/21 [04:27<42:27, 134.09s/it]\u001b[A"
     ]
    },
    {
     "name": "stdout",
     "output_type": "stream",
     "text": [
      "Evaluation 1:\n",
      "\tTraining:\n",
      " \t\tFrameskip: 5\n",
      " \t\tStability: 5.269\n",
      "\tEvalution:\n",
      " \t\tAAR: -0.001\n",
      " \t\tSES: 0.999\n",
      " \t\tMean Reward: -12.4\n",
      " \t\tStd Reward: 14.732\n"
     ]
    },
    {
     "name": "stderr",
     "output_type": "stream",
     "text": [
      "\n",
      " 14%|███████▎                                           | 3/21 [06:41<40:13, 134.09s/it]\u001b[A"
     ]
    },
    {
     "name": "stdout",
     "output_type": "stream",
     "text": [
      "Evaluation 2:\n",
      "\tTraining:\n",
      " \t\tFrameskip: 5\n",
      " \t\tStability: 3.544\n",
      "\tEvalution:\n",
      " \t\tAAR: -0.0\n",
      " \t\tSES: 0.998\n",
      " \t\tMean Reward: -7.4\n",
      " \t\tStd Reward: 7.255\n"
     ]
    },
    {
     "name": "stderr",
     "output_type": "stream",
     "text": [
      "\n",
      " 19%|█████████▋                                         | 4/21 [08:52<37:36, 132.76s/it]\u001b[A"
     ]
    },
    {
     "name": "stdout",
     "output_type": "stream",
     "text": [
      "Evaluation 3:\n",
      "\tTraining:\n",
      " \t\tFrameskip: 5\n",
      " \t\tStability: 12.9\n",
      "\tEvalution:\n",
      " \t\tAAR: -0.003\n",
      " \t\tSES: 1.0\n",
      " \t\tMean Reward: -17.2\n",
      " \t\tStd Reward: 15.766\n"
     ]
    },
    {
     "name": "stderr",
     "output_type": "stream",
     "text": [
      "\n",
      " 24%|████████████▏                                      | 5/21 [11:04<35:21, 132.60s/it]\u001b[A"
     ]
    },
    {
     "name": "stdout",
     "output_type": "stream",
     "text": [
      "Evaluation 4:\n",
      "\tTraining:\n",
      " \t\tFrameskip: 5\n",
      " \t\tStability: 8.579\n",
      "\tEvalution:\n",
      " \t\tAAR: -0.002\n",
      " \t\tSES: 1.0\n",
      " \t\tMean Reward: -28.6\n",
      " \t\tStd Reward: 6.974\n"
     ]
    },
    {
     "name": "stderr",
     "output_type": "stream",
     "text": [
      "\n",
      " 29%|██████████████▌                                    | 6/21 [13:16<33:02, 132.19s/it]\u001b[A"
     ]
    },
    {
     "name": "stdout",
     "output_type": "stream",
     "text": [
      "Evaluation 5:\n",
      "\tTraining:\n",
      " \t\tFrameskip: 5\n",
      " \t\tStability: 11.943\n",
      "\tEvalution:\n",
      " \t\tAAR: -0.002\n",
      " \t\tSES: 1.0\n",
      " \t\tMean Reward: -7.6\n",
      " \t\tStd Reward: 2.577\n"
     ]
    },
    {
     "name": "stderr",
     "output_type": "stream",
     "text": [
      "\n",
      " 33%|█████████████████                                  | 7/21 [15:32<31:10, 133.61s/it]\u001b[A"
     ]
    },
    {
     "name": "stdout",
     "output_type": "stream",
     "text": [
      "Evaluation 6:\n",
      "\tTraining:\n",
      " \t\tFrameskip: 5\n",
      " \t\tStability: 6.794\n",
      "\tEvalution:\n",
      " \t\tAAR: -0.001\n",
      " \t\tSES: 1.0\n",
      " \t\tMean Reward: -12.0\n",
      " \t\tStd Reward: 9.695\n"
     ]
    },
    {
     "name": "stderr",
     "output_type": "stream",
     "text": [
      "\n",
      " 38%|███████████████████▍                               | 8/21 [17:58<29:48, 137.54s/it]\u001b[A"
     ]
    },
    {
     "name": "stdout",
     "output_type": "stream",
     "text": [
      "Evaluation 7:\n",
      "\tTraining:\n",
      " \t\tFrameskip: 5\n",
      " \t\tStability: 8.304\n",
      "\tEvalution:\n",
      " \t\tAAR: -0.002\n",
      " \t\tSES: 1.0\n",
      " \t\tMean Reward: -9.4\n",
      " \t\tStd Reward: 10.575\n"
     ]
    },
    {
     "name": "stderr",
     "output_type": "stream",
     "text": [
      "\n",
      " 43%|█████████████████████▊                             | 9/21 [20:22<27:54, 139.50s/it]\u001b[A"
     ]
    },
    {
     "name": "stdout",
     "output_type": "stream",
     "text": [
      "Evaluation 8:\n",
      "\tTraining:\n",
      " \t\tFrameskip: 5\n",
      " \t\tStability: 13.951\n",
      "\tEvalution:\n",
      " \t\tAAR: -0.003\n",
      " \t\tSES: 0.989\n",
      " \t\tMean Reward: -12.0\n",
      " \t\tStd Reward: 10.714\n"
     ]
    },
    {
     "name": "stderr",
     "output_type": "stream",
     "text": [
      "\n",
      " 48%|███████████████████████▊                          | 10/21 [22:42<25:36, 139.65s/it]\u001b[A"
     ]
    },
    {
     "name": "stdout",
     "output_type": "stream",
     "text": [
      "Evaluation 9:\n",
      "\tTraining:\n",
      " \t\tFrameskip: 5\n",
      " \t\tStability: 7.419\n",
      "\tEvalution:\n",
      " \t\tAAR: -0.002\n",
      " \t\tSES: 1.0\n",
      " \t\tMean Reward: -7.2\n",
      " \t\tStd Reward: 5.192\n"
     ]
    },
    {
     "name": "stderr",
     "output_type": "stream",
     "text": [
      "\n",
      " 52%|██████████████████████████▏                       | 11/21 [25:11<23:45, 142.56s/it]\u001b[A"
     ]
    },
    {
     "name": "stdout",
     "output_type": "stream",
     "text": [
      "Evaluation 10:\n",
      "\tTraining:\n",
      " \t\tFrameskip: 5\n",
      " \t\tStability: 6.419\n",
      "\tEvalution:\n",
      " \t\tAAR: -0.002\n",
      " \t\tSES: 1.0\n",
      " \t\tMean Reward: -10.8\n",
      " \t\tStd Reward: 8.518\n"
     ]
    },
    {
     "name": "stderr",
     "output_type": "stream",
     "text": [
      "\n",
      " 57%|████████████████████████████▌                     | 12/21 [27:39<21:38, 144.29s/it]\u001b[A"
     ]
    },
    {
     "name": "stdout",
     "output_type": "stream",
     "text": [
      "Evaluation 11:\n",
      "\tTraining:\n",
      " \t\tFrameskip: 5\n",
      " \t\tStability: 11.583\n",
      "\tEvalution:\n",
      " \t\tAAR: -0.001\n",
      " \t\tSES: 1.0\n",
      " \t\tMean Reward: -7.6\n",
      " \t\tStd Reward: 5.643\n"
     ]
    },
    {
     "name": "stderr",
     "output_type": "stream",
     "text": [
      "\n",
      " 62%|██████████████████████████████▉                   | 13/21 [30:18<19:49, 148.70s/it]\u001b[A"
     ]
    },
    {
     "name": "stdout",
     "output_type": "stream",
     "text": [
      "Evaluation 12:\n",
      "\tTraining:\n",
      " \t\tFrameskip: 5\n",
      " \t\tStability: 5.865\n",
      "\tEvalution:\n",
      " \t\tAAR: -0.002\n",
      " \t\tSES: 1.0\n",
      " \t\tMean Reward: -16.6\n",
      " \t\tStd Reward: 15.907\n"
     ]
    },
    {
     "name": "stderr",
     "output_type": "stream",
     "text": [
      "\n",
      " 67%|█████████████████████████████████▎                | 14/21 [33:12<18:15, 156.44s/it]\u001b[A"
     ]
    },
    {
     "name": "stdout",
     "output_type": "stream",
     "text": [
      "Evaluation 13:\n",
      "\tTraining:\n",
      " \t\tFrameskip: 5\n",
      " \t\tStability: 6.591\n",
      "\tEvalution:\n",
      " \t\tAAR: -0.001\n",
      " \t\tSES: 1.0\n",
      " \t\tMean Reward: -17.8\n",
      " \t\tStd Reward: 14.77\n"
     ]
    },
    {
     "name": "stderr",
     "output_type": "stream",
     "text": [
      "\n",
      " 71%|███████████████████████████████████▋              | 15/21 [36:16<16:27, 164.64s/it]\u001b[A"
     ]
    },
    {
     "name": "stdout",
     "output_type": "stream",
     "text": [
      "Evaluation 14:\n",
      "\tTraining:\n",
      " \t\tFrameskip: 5\n",
      " \t\tStability: 8.139\n",
      "\tEvalution:\n",
      " \t\tAAR: -0.001\n",
      " \t\tSES: 1.0\n",
      " \t\tMean Reward: -9.0\n",
      " \t\tStd Reward: 8.222\n"
     ]
    },
    {
     "name": "stderr",
     "output_type": "stream",
     "text": [
      "\n",
      " 76%|██████████████████████████████████████            | 16/21 [39:14<14:03, 168.70s/it]\u001b[A"
     ]
    },
    {
     "name": "stdout",
     "output_type": "stream",
     "text": [
      "Evaluation 15:\n",
      "\tTraining:\n",
      " \t\tFrameskip: 5\n",
      " \t\tStability: 8.823\n",
      "\tEvalution:\n",
      " \t\tAAR: -0.001\n",
      " \t\tSES: 1.0\n",
      " \t\tMean Reward: -18.4\n",
      " \t\tStd Reward: 6.184\n"
     ]
    },
    {
     "name": "stderr",
     "output_type": "stream",
     "text": [
      "\n",
      " 81%|████████████████████████████████████████▍         | 17/21 [43:09<12:34, 188.66s/it]\u001b[A"
     ]
    },
    {
     "name": "stdout",
     "output_type": "stream",
     "text": [
      "Evaluation 16:\n",
      "\tTraining:\n",
      " \t\tFrameskip: 5\n",
      " \t\tStability: 3.2\n",
      "\tEvalution:\n",
      " \t\tAAR: -0.001\n",
      " \t\tSES: 0.986\n",
      " \t\tMean Reward: -10.2\n",
      " \t\tStd Reward: 9.432\n"
     ]
    },
    {
     "name": "stderr",
     "output_type": "stream",
     "text": [
      "\n",
      " 86%|██████████████████████████████████████████▊       | 18/21 [46:45<09:49, 196.67s/it]\u001b[A"
     ]
    },
    {
     "name": "stdout",
     "output_type": "stream",
     "text": [
      "Evaluation 17:\n",
      "\tTraining:\n",
      " \t\tFrameskip: 5\n",
      " \t\tStability: 10.572\n",
      "\tEvalution:\n",
      " \t\tAAR: -0.002\n",
      " \t\tSES: 1.0\n",
      " \t\tMean Reward: -11.0\n",
      " \t\tStd Reward: 15.297\n"
     ]
    },
    {
     "name": "stderr",
     "output_type": "stream",
     "text": [
      "\n",
      " 90%|█████████████████████████████████████████████▏    | 19/21 [49:58<06:31, 195.72s/it]\u001b[A"
     ]
    },
    {
     "name": "stdout",
     "output_type": "stream",
     "text": [
      "Evaluation 18:\n",
      "\tTraining:\n",
      " \t\tFrameskip: 5\n",
      " \t\tStability: 6.431\n",
      "\tEvalution:\n",
      " \t\tAAR: -0.0\n",
      " \t\tSES: 1.0\n",
      " \t\tMean Reward: -7.0\n",
      " \t\tStd Reward: 13.115\n"
     ]
    },
    {
     "name": "stderr",
     "output_type": "stream",
     "text": [
      "\n",
      " 95%|███████████████████████████████████████████████▌  | 20/21 [53:12<03:15, 195.19s/it]\u001b[A"
     ]
    },
    {
     "name": "stdout",
     "output_type": "stream",
     "text": [
      "Evaluation 19:\n",
      "\tTraining:\n",
      " \t\tFrameskip: 5\n",
      " \t\tStability: 7.915\n",
      "\tEvalution:\n",
      " \t\tAAR: -0.001\n",
      " \t\tSES: 1.0\n",
      " \t\tMean Reward: -10.2\n",
      " \t\tStd Reward: 11.409\n"
     ]
    },
    {
     "name": "stderr",
     "output_type": "stream",
     "text": [
      "\n",
      "100%|██████████████████████████████████████████████████| 21/21 [55:46<00:00, 159.35s/it]\u001b[A"
     ]
    },
    {
     "name": "stdout",
     "output_type": "stream",
     "text": [
      "Evaluation 20:\n",
      "\tTraining:\n",
      " \t\tFrameskip: 5\n",
      " \t\tStability: 6.621\n",
      "\tEvalution:\n",
      " \t\tAAR: -0.001\n",
      " \t\tSES: 1.0\n",
      " \t\tMean Reward: -14.2\n",
      " \t\tStd Reward: 11.356\n"
     ]
    },
    {
     "name": "stderr",
     "output_type": "stream",
     "text": [
      "\n",
      " 42%|█████████████████████████████▌                                         | 5/12 [5:36:31<7:48:42, 4017.57s/it]"
     ]
    },
    {
     "name": "stdout",
     "output_type": "stream",
     "text": [
      "Training of 'dqn' via CL method 'hard' has started\n"
     ]
    },
    {
     "name": "stderr",
     "output_type": "stream",
     "text": [
      "\n",
      "  0%|                                                            | 0/21 [00:00<?, ?it/s]\u001b[A/Users/danorel/miniconda3/envs/aclarel_3.11.3/lib/python3.11/site-packages/gym/utils/passive_env_checker.py:233: DeprecationWarning: `np.bool8` is a deprecated alias for `np.bool_`.  (Deprecated NumPy 1.24)\n",
      "  if not isinstance(terminated, (bool, np.bool8)):\n",
      "/Users/danorel/Workspace/Education/University/KMA/Research/aclarel/environments/atari_games/boxing/rl_methods/__init__.py:64: FutureWarning: The behavior of DataFrame concatenation with empty or all-NA entries is deprecated. In a future version, this will no longer exclude empty or all-NA columns when determining the result dtypes. To retain the old behavior, exclude the relevant entries before the concat operation.\n",
      "  self.measurements = pd.concat([self.measurements, measurement], ignore_index=True)\n",
      "\n",
      "  5%|██▎                                              | 1/21 [06:23<2:07:46, 383.33s/it]\u001b[A"
     ]
    },
    {
     "name": "stdout",
     "output_type": "stream",
     "text": [
      "Evaluation 0:\n",
      "\tTraining:\n",
      " \t\tFrameskip: 1\n",
      " \t\tStability: 16.817\n",
      "\tEvalution:\n",
      " \t\tAAR: -0.001\n",
      " \t\tSES: 1.0\n",
      " \t\tMean Reward: -46.4\n",
      " \t\tStd Reward: 9.521\n"
     ]
    },
    {
     "name": "stderr",
     "output_type": "stream",
     "text": [
      "\n",
      " 10%|████▋                                            | 2/21 [12:55<2:03:06, 388.77s/it]\u001b[A"
     ]
    },
    {
     "name": "stdout",
     "output_type": "stream",
     "text": [
      "Evaluation 1:\n",
      "\tTraining:\n",
      " \t\tFrameskip: 1\n",
      " \t\tStability: 18.282\n",
      "\tEvalution:\n",
      " \t\tAAR: -0.005\n",
      " \t\tSES: 1.0\n",
      " \t\tMean Reward: -13.0\n",
      " \t\tStd Reward: 5.933\n"
     ]
    },
    {
     "name": "stderr",
     "output_type": "stream",
     "text": [
      "\n",
      " 14%|███████                                          | 3/21 [20:25<2:04:53, 416.32s/it]\u001b[A"
     ]
    },
    {
     "name": "stdout",
     "output_type": "stream",
     "text": [
      "Evaluation 2:\n",
      "\tTraining:\n",
      " \t\tFrameskip: 1\n",
      " \t\tStability: 18.166\n",
      "\tEvalution:\n",
      " \t\tAAR: -0.007\n",
      " \t\tSES: 1.0\n",
      " \t\tMean Reward: -45.4\n",
      " \t\tStd Reward: 13.5\n"
     ]
    },
    {
     "name": "stderr",
     "output_type": "stream",
     "text": [
      "\n",
      " 19%|█████████▎                                       | 4/21 [29:34<2:12:50, 468.84s/it]\u001b[A"
     ]
    },
    {
     "name": "stdout",
     "output_type": "stream",
     "text": [
      "Evaluation 3:\n",
      "\tTraining:\n",
      " \t\tFrameskip: 1\n",
      " \t\tStability: 11.61\n",
      "\tEvalution:\n",
      " \t\tAAR: -0.003\n",
      " \t\tSES: 1.0\n",
      " \t\tMean Reward: -46.8\n",
      " \t\tStd Reward: 19.712\n"
     ]
    },
    {
     "name": "stderr",
     "output_type": "stream",
     "text": [
      "\n",
      " 24%|███████████▋                                     | 5/21 [38:40<2:12:26, 496.63s/it]\u001b[A"
     ]
    },
    {
     "name": "stdout",
     "output_type": "stream",
     "text": [
      "Evaluation 4:\n",
      "\tTraining:\n",
      " \t\tFrameskip: 1\n",
      " \t\tStability: 12.142\n",
      "\tEvalution:\n",
      " \t\tAAR: -0.006\n",
      " \t\tSES: 1.0\n",
      " \t\tMean Reward: -35.4\n",
      " \t\tStd Reward: 7.552\n"
     ]
    },
    {
     "name": "stderr",
     "output_type": "stream",
     "text": [
      "\n",
      " 29%|██████████████                                   | 6/21 [47:26<2:06:41, 506.76s/it]\u001b[A"
     ]
    },
    {
     "name": "stdout",
     "output_type": "stream",
     "text": [
      "Evaluation 5:\n",
      "\tTraining:\n",
      " \t\tFrameskip: 1\n",
      " \t\tStability: 12.57\n",
      "\tEvalution:\n",
      " \t\tAAR: -0.004\n",
      " \t\tSES: 1.0\n",
      " \t\tMean Reward: -41.8\n",
      " \t\tStd Reward: 10.107\n"
     ]
    },
    {
     "name": "stderr",
     "output_type": "stream",
     "text": [
      "\n",
      " 33%|████████████████▎                                | 7/21 [50:11<1:32:08, 394.87s/it]\u001b[A"
     ]
    },
    {
     "name": "stdout",
     "output_type": "stream",
     "text": [
      "Evaluation 6:\n",
      "\tTraining:\n",
      " \t\tFrameskip: 4\n",
      " \t\tStability: 6.853\n",
      "\tEvalution:\n",
      " \t\tAAR: -0.005\n",
      " \t\tSES: 1.0\n",
      " \t\tMean Reward: -41.8\n",
      " \t\tStd Reward: 11.071\n"
     ]
    },
    {
     "name": "stderr",
     "output_type": "stream",
     "text": [
      "\n",
      " 38%|██████████████████▋                              | 8/21 [52:53<1:09:30, 320.80s/it]\u001b[A"
     ]
    },
    {
     "name": "stdout",
     "output_type": "stream",
     "text": [
      "Evaluation 7:\n",
      "\tTraining:\n",
      " \t\tFrameskip: 4\n",
      " \t\tStability: 15.561\n",
      "\tEvalution:\n",
      " \t\tAAR: -0.005\n",
      " \t\tSES: 1.0\n",
      " \t\tMean Reward: -48.8\n",
      " \t\tStd Reward: 11.071\n"
     ]
    },
    {
     "name": "stderr",
     "output_type": "stream",
     "text": [
      "\n",
      " 43%|█████████████████████▊                             | 9/21 [55:36<54:17, 271.45s/it]\u001b[A"
     ]
    },
    {
     "name": "stdout",
     "output_type": "stream",
     "text": [
      "Evaluation 8:\n",
      "\tTraining:\n",
      " \t\tFrameskip: 4\n",
      " \t\tStability: 13.836\n",
      "\tEvalution:\n",
      " \t\tAAR: -0.006\n",
      " \t\tSES: 1.0\n",
      " \t\tMean Reward: -42.0\n",
      " \t\tStd Reward: 17.877\n"
     ]
    },
    {
     "name": "stderr",
     "output_type": "stream",
     "text": [
      "\n",
      " 48%|███████████████████████▊                          | 10/21 [58:26<44:02, 240.25s/it]\u001b[A"
     ]
    },
    {
     "name": "stdout",
     "output_type": "stream",
     "text": [
      "Evaluation 9:\n",
      "\tTraining:\n",
      " \t\tFrameskip: 4\n",
      " \t\tStability: 12.921\n",
      "\tEvalution:\n",
      " \t\tAAR: -0.006\n",
      " \t\tSES: 1.0\n",
      " \t\tMean Reward: -41.4\n",
      " \t\tStd Reward: 11.723\n"
     ]
    },
    {
     "name": "stderr",
     "output_type": "stream",
     "text": [
      "\n",
      " 52%|█████████████████████████▏                      | 11/21 [1:01:11<36:11, 217.14s/it]\u001b[A"
     ]
    },
    {
     "name": "stdout",
     "output_type": "stream",
     "text": [
      "Evaluation 10:\n",
      "\tTraining:\n",
      " \t\tFrameskip: 4\n",
      " \t\tStability: 15.094\n",
      "\tEvalution:\n",
      " \t\tAAR: -0.005\n",
      " \t\tSES: 1.0\n",
      " \t\tMean Reward: -49.2\n",
      " \t\tStd Reward: 11.805\n"
     ]
    },
    {
     "name": "stderr",
     "output_type": "stream",
     "text": [
      "\n",
      " 57%|███████████████████████████▍                    | 12/21 [1:03:02<27:43, 184.79s/it]\u001b[A"
     ]
    },
    {
     "name": "stdout",
     "output_type": "stream",
     "text": [
      "Evaluation 11:\n",
      "\tTraining:\n",
      " \t\tFrameskip: 7\n",
      " \t\tStability: 15.615\n",
      "\tEvalution:\n",
      " \t\tAAR: -0.007\n",
      " \t\tSES: 1.0\n",
      " \t\tMean Reward: -52.6\n",
      " \t\tStd Reward: 13.366\n"
     ]
    },
    {
     "name": "stderr",
     "output_type": "stream",
     "text": [
      "\n",
      " 62%|█████████████████████████████▋                  | 13/21 [1:04:50<21:32, 161.57s/it]\u001b[A"
     ]
    },
    {
     "name": "stdout",
     "output_type": "stream",
     "text": [
      "Evaluation 12:\n",
      "\tTraining:\n",
      " \t\tFrameskip: 7\n",
      " \t\tStability: 5.845\n",
      "\tEvalution:\n",
      " \t\tAAR: -0.004\n",
      " \t\tSES: 1.0\n",
      " \t\tMean Reward: -28.8\n",
      " \t\tStd Reward: 12.781\n"
     ]
    },
    {
     "name": "stderr",
     "output_type": "stream",
     "text": [
      "\n",
      " 67%|████████████████████████████████                | 14/21 [1:06:38<16:58, 145.51s/it]\u001b[A"
     ]
    },
    {
     "name": "stdout",
     "output_type": "stream",
     "text": [
      "Evaluation 13:\n",
      "\tTraining:\n",
      " \t\tFrameskip: 7\n",
      " \t\tStability: 13.937\n",
      "\tEvalution:\n",
      " \t\tAAR: -0.006\n",
      " \t\tSES: 1.0\n",
      " \t\tMean Reward: -39.4\n",
      " \t\tStd Reward: 11.253\n"
     ]
    },
    {
     "name": "stderr",
     "output_type": "stream",
     "text": [
      "\n",
      " 71%|██████████████████████████████████▎             | 15/21 [1:08:30<13:30, 135.16s/it]\u001b[A"
     ]
    },
    {
     "name": "stdout",
     "output_type": "stream",
     "text": [
      "Evaluation 14:\n",
      "\tTraining:\n",
      " \t\tFrameskip: 7\n",
      " \t\tStability: 19.661\n",
      "\tEvalution:\n",
      " \t\tAAR: -0.005\n",
      " \t\tSES: 1.0\n",
      " \t\tMean Reward: -46.4\n",
      " \t\tStd Reward: 8.476\n"
     ]
    },
    {
     "name": "stderr",
     "output_type": "stream",
     "text": [
      "\n",
      " 76%|████████████████████████████████████▌           | 16/21 [1:10:18<10:35, 127.09s/it]\u001b[A"
     ]
    },
    {
     "name": "stdout",
     "output_type": "stream",
     "text": [
      "Evaluation 15:\n",
      "\tTraining:\n",
      " \t\tFrameskip: 7\n",
      " \t\tStability: 11.792\n",
      "\tEvalution:\n",
      " \t\tAAR: -0.005\n",
      " \t\tSES: 1.0\n",
      " \t\tMean Reward: -48.4\n",
      " \t\tStd Reward: 8.357\n"
     ]
    },
    {
     "name": "stderr",
     "output_type": "stream",
     "text": [
      "\n",
      " 81%|██████████████████████████████████████▊         | 17/21 [1:11:45<07:40, 115.08s/it]\u001b[A"
     ]
    },
    {
     "name": "stdout",
     "output_type": "stream",
     "text": [
      "Evaluation 16:\n",
      "\tTraining:\n",
      " \t\tFrameskip: 10\n",
      " \t\tStability: 5.706\n",
      "\tEvalution:\n",
      " \t\tAAR: -0.007\n",
      " \t\tSES: 1.0\n",
      " \t\tMean Reward: -40.2\n",
      " \t\tStd Reward: 10.534\n"
     ]
    },
    {
     "name": "stderr",
     "output_type": "stream",
     "text": [
      "\n",
      " 86%|█████████████████████████████████████████▏      | 18/21 [1:13:16<05:23, 107.70s/it]\u001b[A"
     ]
    },
    {
     "name": "stdout",
     "output_type": "stream",
     "text": [
      "Evaluation 17:\n",
      "\tTraining:\n",
      " \t\tFrameskip: 10\n",
      " \t\tStability: 13.023\n",
      "\tEvalution:\n",
      " \t\tAAR: -0.006\n",
      " \t\tSES: 1.0\n",
      " \t\tMean Reward: -31.2\n",
      " \t\tStd Reward: 19.041\n"
     ]
    },
    {
     "name": "stderr",
     "output_type": "stream",
     "text": [
      "\n",
      " 90%|███████████████████████████████████████████▍    | 19/21 [1:14:49<03:26, 103.48s/it]\u001b[A"
     ]
    },
    {
     "name": "stdout",
     "output_type": "stream",
     "text": [
      "Evaluation 18:\n",
      "\tTraining:\n",
      " \t\tFrameskip: 10\n",
      " \t\tStability: 9.33\n",
      "\tEvalution:\n",
      " \t\tAAR: -0.006\n",
      " \t\tSES: 1.0\n",
      " \t\tMean Reward: -44.8\n",
      " \t\tStd Reward: 11.444\n"
     ]
    },
    {
     "name": "stderr",
     "output_type": "stream",
     "text": [
      "\n",
      " 95%|█████████████████████████████████████████████▋  | 20/21 [1:16:28<01:41, 101.96s/it]\u001b[A"
     ]
    },
    {
     "name": "stdout",
     "output_type": "stream",
     "text": [
      "Evaluation 19:\n",
      "\tTraining:\n",
      " \t\tFrameskip: 10\n",
      " \t\tStability: 15.396\n",
      "\tEvalution:\n",
      " \t\tAAR: -0.005\n",
      " \t\tSES: 1.0\n",
      " \t\tMean Reward: -44.2\n",
      " \t\tStd Reward: 12.464\n"
     ]
    },
    {
     "name": "stderr",
     "output_type": "stream",
     "text": [
      "\n",
      "100%|████████████████████████████████████████████████| 21/21 [1:18:09<00:00, 223.32s/it]\u001b[A"
     ]
    },
    {
     "name": "stdout",
     "output_type": "stream",
     "text": [
      "Evaluation 20:\n",
      "\tTraining:\n",
      " \t\tFrameskip: 10\n",
      " \t\tStability: 11.713\n",
      "\tEvalution:\n",
      " \t\tAAR: -0.007\n",
      " \t\tSES: 1.0\n",
      " \t\tMean Reward: -39.8\n",
      " \t\tStd Reward: 11.053\n"
     ]
    },
    {
     "name": "stderr",
     "output_type": "stream",
     "text": [
      "\n",
      " 50%|███████████████████████████████████▌                                   | 6/12 [6:54:43<7:04:41, 4246.86s/it]"
     ]
    },
    {
     "name": "stdout",
     "output_type": "stream",
     "text": [
      "Training of 'dqn' via CL method 'linear' has started\n"
     ]
    },
    {
     "name": "stderr",
     "output_type": "stream",
     "text": [
      "\n",
      "  0%|                                                            | 0/21 [00:00<?, ?it/s]\u001b[A/Users/danorel/miniconda3/envs/aclarel_3.11.3/lib/python3.11/site-packages/gym/utils/passive_env_checker.py:233: DeprecationWarning: `np.bool8` is a deprecated alias for `np.bool_`.  (Deprecated NumPy 1.24)\n",
      "  if not isinstance(terminated, (bool, np.bool8)):\n",
      "/Users/danorel/Workspace/Education/University/KMA/Research/aclarel/environments/atari_games/boxing/rl_methods/__init__.py:64: FutureWarning: The behavior of DataFrame concatenation with empty or all-NA entries is deprecated. In a future version, this will no longer exclude empty or all-NA columns when determining the result dtypes. To retain the old behavior, exclude the relevant entries before the concat operation.\n",
      "  self.measurements = pd.concat([self.measurements, measurement], ignore_index=True)\n",
      "\n",
      "  5%|██▎                                              | 1/21 [06:14<2:04:58, 374.94s/it]\u001b[A"
     ]
    },
    {
     "name": "stdout",
     "output_type": "stream",
     "text": [
      "Evaluation 0:\n",
      "\tTraining:\n",
      " \t\tFrameskip: 1\n",
      " \t\tStability: 10.052\n",
      "\tEvalution:\n",
      " \t\tAAR: -0.002\n",
      " \t\tSES: 1.0\n",
      " \t\tMean Reward: -13.2\n",
      " \t\tStd Reward: 12.139\n"
     ]
    },
    {
     "name": "stderr",
     "output_type": "stream",
     "text": [
      "\n",
      " 10%|████▋                                            | 2/21 [12:45<2:01:40, 384.24s/it]\u001b[A"
     ]
    },
    {
     "name": "stdout",
     "output_type": "stream",
     "text": [
      "Evaluation 1:\n",
      "\tTraining:\n",
      " \t\tFrameskip: 1\n",
      " \t\tStability: 6.119\n",
      "\tEvalution:\n",
      " \t\tAAR: -0.002\n",
      " \t\tSES: 1.0\n",
      " \t\tMean Reward: -7.8\n",
      " \t\tStd Reward: 4.167\n"
     ]
    },
    {
     "name": "stderr",
     "output_type": "stream",
     "text": [
      "\n",
      " 14%|███████                                          | 3/21 [21:33<2:14:52, 449.61s/it]\u001b[A"
     ]
    },
    {
     "name": "stdout",
     "output_type": "stream",
     "text": [
      "Evaluation 2:\n",
      "\tTraining:\n",
      " \t\tFrameskip: 1\n",
      " \t\tStability: 11.374\n",
      "\tEvalution:\n",
      " \t\tAAR: -0.003\n",
      " \t\tSES: 1.0\n",
      " \t\tMean Reward: -60.4\n",
      " \t\tStd Reward: 22.267\n"
     ]
    },
    {
     "name": "stderr",
     "output_type": "stream",
     "text": [
      "\n",
      " 19%|█████████▎                                       | 4/21 [27:08<1:54:33, 404.33s/it]\u001b[A"
     ]
    },
    {
     "name": "stdout",
     "output_type": "stream",
     "text": [
      "Evaluation 3:\n",
      "\tTraining:\n",
      " \t\tFrameskip: 2\n",
      " \t\tStability: 19.5\n",
      "\tEvalution:\n",
      " \t\tAAR: -0.005\n",
      " \t\tSES: 1.0\n",
      " \t\tMean Reward: -42.6\n",
      " \t\tStd Reward: 24.508\n"
     ]
    },
    {
     "name": "stderr",
     "output_type": "stream",
     "text": [
      "\n",
      " 24%|███████████▋                                     | 5/21 [32:43<1:41:09, 379.34s/it]\u001b[A"
     ]
    },
    {
     "name": "stdout",
     "output_type": "stream",
     "text": [
      "Evaluation 4:\n",
      "\tTraining:\n",
      " \t\tFrameskip: 2\n",
      " \t\tStability: 12.241\n",
      "\tEvalution:\n",
      " \t\tAAR: -0.005\n",
      " \t\tSES: 1.0\n",
      " \t\tMean Reward: -58.2\n",
      " \t\tStd Reward: 20.054\n"
     ]
    },
    {
     "name": "stderr",
     "output_type": "stream",
     "text": [
      "\n",
      " 29%|██████████████                                   | 6/21 [36:52<1:23:46, 335.12s/it]\u001b[A"
     ]
    },
    {
     "name": "stdout",
     "output_type": "stream",
     "text": [
      "Evaluation 5:\n",
      "\tTraining:\n",
      " \t\tFrameskip: 3\n",
      " \t\tStability: 11.703\n",
      "\tEvalution:\n",
      " \t\tAAR: -0.006\n",
      " \t\tSES: 1.0\n",
      " \t\tMean Reward: -57.4\n",
      " \t\tStd Reward: 26.598\n"
     ]
    },
    {
     "name": "stderr",
     "output_type": "stream",
     "text": [
      "\n",
      " 33%|████████████████▎                                | 7/21 [40:50<1:10:46, 303.29s/it]\u001b[A"
     ]
    },
    {
     "name": "stdout",
     "output_type": "stream",
     "text": [
      "Evaluation 6:\n",
      "\tTraining:\n",
      " \t\tFrameskip: 3\n",
      " \t\tStability: 12.516\n",
      "\tEvalution:\n",
      " \t\tAAR: -0.004\n",
      " \t\tSES: 1.0\n",
      " \t\tMean Reward: -54.0\n",
      " \t\tStd Reward: 30.867\n"
     ]
    },
    {
     "name": "stderr",
     "output_type": "stream",
     "text": [
      "\n",
      " 38%|███████████████████▍                               | 8/21 [44:06<58:20, 269.26s/it]\u001b[A"
     ]
    },
    {
     "name": "stdout",
     "output_type": "stream",
     "text": [
      "Evaluation 7:\n",
      "\tTraining:\n",
      " \t\tFrameskip: 4\n",
      " \t\tStability: 35.626\n",
      "\tEvalution:\n",
      " \t\tAAR: -0.006\n",
      " \t\tSES: 1.0\n",
      " \t\tMean Reward: -52.2\n",
      " \t\tStd Reward: 25.506\n"
     ]
    },
    {
     "name": "stderr",
     "output_type": "stream",
     "text": [
      "\n",
      " 43%|█████████████████████▊                             | 9/21 [47:32<49:53, 249.45s/it]\u001b[A"
     ]
    },
    {
     "name": "stdout",
     "output_type": "stream",
     "text": [
      "Evaluation 8:\n",
      "\tTraining:\n",
      " \t\tFrameskip: 4\n",
      " \t\tStability: 20.006\n",
      "\tEvalution:\n",
      " \t\tAAR: -0.007\n",
      " \t\tSES: 0.987\n",
      " \t\tMean Reward: -55.0\n",
      " \t\tStd Reward: 24.755\n"
     ]
    },
    {
     "name": "stderr",
     "output_type": "stream",
     "text": [
      "\n",
      " 48%|███████████████████████▊                          | 10/21 [50:11<40:36, 221.52s/it]\u001b[A"
     ]
    },
    {
     "name": "stdout",
     "output_type": "stream",
     "text": [
      "Evaluation 9:\n",
      "\tTraining:\n",
      " \t\tFrameskip: 5\n",
      " \t\tStability: 23.846\n",
      "\tEvalution:\n",
      " \t\tAAR: -0.008\n",
      " \t\tSES: 1.0\n",
      " \t\tMean Reward: -45.4\n",
      " \t\tStd Reward: 26.733\n"
     ]
    },
    {
     "name": "stderr",
     "output_type": "stream",
     "text": [
      "\n",
      " 52%|██████████████████████████▏                       | 11/21 [52:54<33:55, 203.53s/it]\u001b[A"
     ]
    },
    {
     "name": "stdout",
     "output_type": "stream",
     "text": [
      "Evaluation 10:\n",
      "\tTraining:\n",
      " \t\tFrameskip: 5\n",
      " \t\tStability: 24.244\n",
      "\tEvalution:\n",
      " \t\tAAR: -0.009\n",
      " \t\tSES: 1.0\n",
      " \t\tMean Reward: -60.4\n",
      " \t\tStd Reward: 26.028\n"
     ]
    },
    {
     "name": "stderr",
     "output_type": "stream",
     "text": [
      "\n",
      " 57%|████████████████████████████▌                     | 12/21 [55:41<28:53, 192.62s/it]\u001b[A"
     ]
    },
    {
     "name": "stdout",
     "output_type": "stream",
     "text": [
      "Evaluation 11:\n",
      "\tTraining:\n",
      " \t\tFrameskip: 5\n",
      " \t\tStability: 17.611\n",
      "\tEvalution:\n",
      " \t\tAAR: -0.007\n",
      " \t\tSES: 1.0\n",
      " \t\tMean Reward: -58.2\n",
      " \t\tStd Reward: 30.753\n"
     ]
    },
    {
     "name": "stderr",
     "output_type": "stream",
     "text": [
      "\n",
      " 62%|██████████████████████████████▉                   | 13/21 [58:11<23:55, 179.49s/it]\u001b[A"
     ]
    },
    {
     "name": "stdout",
     "output_type": "stream",
     "text": [
      "Evaluation 12:\n",
      "\tTraining:\n",
      " \t\tFrameskip: 6\n",
      " \t\tStability: 22.194\n",
      "\tEvalution:\n",
      " \t\tAAR: -0.006\n",
      " \t\tSES: 1.0\n",
      " \t\tMean Reward: -59.2\n",
      " \t\tStd Reward: 31.083\n"
     ]
    },
    {
     "name": "stderr",
     "output_type": "stream",
     "text": [
      "\n",
      " 67%|████████████████████████████████                | 14/21 [1:00:31<19:34, 167.76s/it]\u001b[A"
     ]
    },
    {
     "name": "stdout",
     "output_type": "stream",
     "text": [
      "Evaluation 13:\n",
      "\tTraining:\n",
      " \t\tFrameskip: 6\n",
      " \t\tStability: 23.387\n",
      "\tEvalution:\n",
      " \t\tAAR: -0.008\n",
      " \t\tSES: 1.0\n",
      " \t\tMean Reward: -72.2\n",
      " \t\tStd Reward: 20.663\n"
     ]
    },
    {
     "name": "stderr",
     "output_type": "stream",
     "text": [
      "\n",
      " 71%|██████████████████████████████████▎             | 15/21 [1:02:46<15:46, 157.71s/it]\u001b[A"
     ]
    },
    {
     "name": "stdout",
     "output_type": "stream",
     "text": [
      "Evaluation 14:\n",
      "\tTraining:\n",
      " \t\tFrameskip: 7\n",
      " \t\tStability: 22.649\n",
      "\tEvalution:\n",
      " \t\tAAR: -0.01\n",
      " \t\tSES: 1.0\n",
      " \t\tMean Reward: -48.0\n",
      " \t\tStd Reward: 25.729\n"
     ]
    },
    {
     "name": "stderr",
     "output_type": "stream",
     "text": [
      "\n",
      " 76%|████████████████████████████████████▌           | 16/21 [1:04:54<12:24, 148.99s/it]\u001b[A"
     ]
    },
    {
     "name": "stdout",
     "output_type": "stream",
     "text": [
      "Evaluation 15:\n",
      "\tTraining:\n",
      " \t\tFrameskip: 7\n",
      " \t\tStability: 19.395\n",
      "\tEvalution:\n",
      " \t\tAAR: -0.005\n",
      " \t\tSES: 1.0\n",
      " \t\tMean Reward: -41.4\n",
      " \t\tStd Reward: 19.956\n"
     ]
    },
    {
     "name": "stderr",
     "output_type": "stream",
     "text": [
      "\n",
      " 81%|██████████████████████████████████████▊         | 17/21 [1:06:57<09:24, 141.09s/it]\u001b[A"
     ]
    },
    {
     "name": "stdout",
     "output_type": "stream",
     "text": [
      "Evaluation 16:\n",
      "\tTraining:\n",
      " \t\tFrameskip: 8\n",
      " \t\tStability: 11.196\n",
      "\tEvalution:\n",
      " \t\tAAR: -0.006\n",
      " \t\tSES: 1.0\n",
      " \t\tMean Reward: -67.4\n",
      " \t\tStd Reward: 13.764\n"
     ]
    },
    {
     "name": "stderr",
     "output_type": "stream",
     "text": [
      "\n",
      " 86%|█████████████████████████████████████████▏      | 18/21 [1:09:00<06:47, 135.70s/it]\u001b[A"
     ]
    },
    {
     "name": "stdout",
     "output_type": "stream",
     "text": [
      "Evaluation 17:\n",
      "\tTraining:\n",
      " \t\tFrameskip: 8\n",
      " \t\tStability: 13.06\n",
      "\tEvalution:\n",
      " \t\tAAR: -0.006\n",
      " \t\tSES: 1.0\n",
      " \t\tMean Reward: -44.0\n",
      " \t\tStd Reward: 25.589\n"
     ]
    },
    {
     "name": "stderr",
     "output_type": "stream",
     "text": [
      "\n",
      " 90%|███████████████████████████████████████████▍    | 19/21 [1:10:50<04:16, 128.02s/it]\u001b[A"
     ]
    },
    {
     "name": "stdout",
     "output_type": "stream",
     "text": [
      "Evaluation 18:\n",
      "\tTraining:\n",
      " \t\tFrameskip: 9\n",
      " \t\tStability: 5.477\n",
      "\tEvalution:\n",
      " \t\tAAR: -0.006\n",
      " \t\tSES: 1.0\n",
      " \t\tMean Reward: -57.4\n",
      " \t\tStd Reward: 18.554\n"
     ]
    },
    {
     "name": "stderr",
     "output_type": "stream",
     "text": [
      "\n",
      " 95%|█████████████████████████████████████████████▋  | 20/21 [1:12:41<02:02, 122.86s/it]\u001b[A"
     ]
    },
    {
     "name": "stdout",
     "output_type": "stream",
     "text": [
      "Evaluation 19:\n",
      "\tTraining:\n",
      " \t\tFrameskip: 9\n",
      " \t\tStability: 19.489\n",
      "\tEvalution:\n",
      " \t\tAAR: -0.009\n",
      " \t\tSES: 1.0\n",
      " \t\tMean Reward: -48.2\n",
      " \t\tStd Reward: 23.302\n"
     ]
    },
    {
     "name": "stderr",
     "output_type": "stream",
     "text": [
      "\n",
      "100%|████████████████████████████████████████████████| 21/21 [1:14:25<00:00, 212.62s/it]\u001b[A"
     ]
    },
    {
     "name": "stdout",
     "output_type": "stream",
     "text": [
      "Evaluation 20:\n",
      "\tTraining:\n",
      " \t\tFrameskip: 10\n",
      " \t\tStability: 31.436\n",
      "\tEvalution:\n",
      " \t\tAAR: -0.008\n",
      " \t\tSES: 1.0\n",
      " \t\tMean Reward: -70.0\n",
      " \t\tStd Reward: 23.983\n"
     ]
    },
    {
     "name": "stderr",
     "output_type": "stream",
     "text": [
      "\n",
      " 58%|█████████████████████████████████████████▍                             | 7/12 [8:09:10<5:59:55, 4319.08s/it]"
     ]
    },
    {
     "name": "stdout",
     "output_type": "stream",
     "text": [
      "Training of 'dqn' via CL method 'logarithmic' has started\n"
     ]
    },
    {
     "name": "stderr",
     "output_type": "stream",
     "text": [
      "\n",
      "  0%|                                                            | 0/21 [00:00<?, ?it/s]\u001b[A/Users/danorel/miniconda3/envs/aclarel_3.11.3/lib/python3.11/site-packages/gym/utils/passive_env_checker.py:233: DeprecationWarning: `np.bool8` is a deprecated alias for `np.bool_`.  (Deprecated NumPy 1.24)\n",
      "  if not isinstance(terminated, (bool, np.bool8)):\n",
      "/Users/danorel/Workspace/Education/University/KMA/Research/aclarel/environments/atari_games/boxing/rl_methods/__init__.py:64: FutureWarning: The behavior of DataFrame concatenation with empty or all-NA entries is deprecated. In a future version, this will no longer exclude empty or all-NA columns when determining the result dtypes. To retain the old behavior, exclude the relevant entries before the concat operation.\n",
      "  self.measurements = pd.concat([self.measurements, measurement], ignore_index=True)\n",
      "\n",
      "  5%|██▎                                              | 1/21 [07:34<2:31:25, 454.27s/it]\u001b[A"
     ]
    },
    {
     "name": "stdout",
     "output_type": "stream",
     "text": [
      "Evaluation 0:\n",
      "\tTraining:\n",
      " \t\tFrameskip: 1\n",
      " \t\tStability: 5.083\n",
      "\tEvalution:\n",
      " \t\tAAR: -0.0\n",
      " \t\tSES: 1.0\n",
      " \t\tMean Reward: -23.6\n",
      " \t\tStd Reward: 10.346\n"
     ]
    },
    {
     "name": "stderr",
     "output_type": "stream",
     "text": [
      "\n",
      " 10%|████▋                                            | 2/21 [10:30<1:31:58, 290.46s/it]\u001b[A"
     ]
    },
    {
     "name": "stdout",
     "output_type": "stream",
     "text": [
      "Evaluation 1:\n",
      "\tTraining:\n",
      " \t\tFrameskip: 3\n",
      " \t\tStability: 17.709\n",
      "\tEvalution:\n",
      " \t\tAAR: -0.005\n",
      " \t\tSES: 1.0\n",
      " \t\tMean Reward: -27.2\n",
      " \t\tStd Reward: 5.636\n"
     ]
    },
    {
     "name": "stderr",
     "output_type": "stream",
     "text": [
      "\n",
      " 14%|███████                                          | 3/21 [12:50<1:06:36, 222.04s/it]\u001b[A"
     ]
    },
    {
     "name": "stdout",
     "output_type": "stream",
     "text": [
      "Evaluation 2:\n",
      "\tTraining:\n",
      " \t\tFrameskip: 4\n",
      " \t\tStability: 11.268\n",
      "\tEvalution:\n",
      " \t\tAAR: -0.004\n",
      " \t\tSES: 1.0\n",
      " \t\tMean Reward: -45.8\n",
      " \t\tStd Reward: 12.189\n"
     ]
    },
    {
     "name": "stderr",
     "output_type": "stream",
     "text": [
      "\n",
      " 19%|█████████▋                                         | 4/21 [15:02<52:47, 186.30s/it]\u001b[A"
     ]
    },
    {
     "name": "stdout",
     "output_type": "stream",
     "text": [
      "Evaluation 3:\n",
      "\tTraining:\n",
      " \t\tFrameskip: 5\n",
      " \t\tStability: 24.037\n",
      "\tEvalution:\n",
      " \t\tAAR: -0.003\n",
      " \t\tSES: 1.0\n",
      " \t\tMean Reward: -29.4\n",
      " \t\tStd Reward: 13.47\n"
     ]
    },
    {
     "name": "stderr",
     "output_type": "stream",
     "text": [
      "\n",
      " 24%|████████████▏                                      | 5/21 [17:25<45:35, 170.97s/it]\u001b[A"
     ]
    },
    {
     "name": "stdout",
     "output_type": "stream",
     "text": [
      "Evaluation 4:\n",
      "\tTraining:\n",
      " \t\tFrameskip: 5\n",
      " \t\tStability: 20.827\n",
      "\tEvalution:\n",
      " \t\tAAR: -0.005\n",
      " \t\tSES: 1.0\n",
      " \t\tMean Reward: -21.6\n",
      " \t\tStd Reward: 2.059\n"
     ]
    },
    {
     "name": "stderr",
     "output_type": "stream",
     "text": [
      "\n",
      " 29%|██████████████▌                                    | 6/21 [19:15<37:29, 149.96s/it]\u001b[A"
     ]
    },
    {
     "name": "stdout",
     "output_type": "stream",
     "text": [
      "Evaluation 5:\n",
      "\tTraining:\n",
      " \t\tFrameskip: 6\n",
      " \t\tStability: 8.471\n",
      "\tEvalution:\n",
      " \t\tAAR: -0.002\n",
      " \t\tSES: 1.0\n",
      " \t\tMean Reward: -4.2\n",
      " \t\tStd Reward: 4.261\n"
     ]
    },
    {
     "name": "stderr",
     "output_type": "stream",
     "text": [
      "\n",
      " 33%|█████████████████                                  | 7/21 [21:18<32:59, 141.37s/it]\u001b[A"
     ]
    },
    {
     "name": "stdout",
     "output_type": "stream",
     "text": [
      "Evaluation 6:\n",
      "\tTraining:\n",
      " \t\tFrameskip: 6\n",
      " \t\tStability: 12.221\n",
      "\tEvalution:\n",
      " \t\tAAR: -0.003\n",
      " \t\tSES: 1.0\n",
      " \t\tMean Reward: -11.6\n",
      " \t\tStd Reward: 9.521\n"
     ]
    },
    {
     "name": "stderr",
     "output_type": "stream",
     "text": [
      "\n",
      " 38%|███████████████████▍                               | 8/21 [23:29<29:53, 137.99s/it]\u001b[A"
     ]
    },
    {
     "name": "stdout",
     "output_type": "stream",
     "text": [
      "Evaluation 7:\n",
      "\tTraining:\n",
      " \t\tFrameskip: 7\n",
      " \t\tStability: 3.868\n",
      "\tEvalution:\n",
      " \t\tAAR: -0.002\n",
      " \t\tSES: 1.0\n",
      " \t\tMean Reward: -12.2\n",
      " \t\tStd Reward: 5.671\n"
     ]
    },
    {
     "name": "stderr",
     "output_type": "stream",
     "text": [
      "\n",
      " 43%|█████████████████████▊                             | 9/21 [25:26<26:18, 131.51s/it]\u001b[A"
     ]
    },
    {
     "name": "stdout",
     "output_type": "stream",
     "text": [
      "Evaluation 8:\n",
      "\tTraining:\n",
      " \t\tFrameskip: 7\n",
      " \t\tStability: 7.605\n",
      "\tEvalution:\n",
      " \t\tAAR: -0.003\n",
      " \t\tSES: 1.0\n",
      " \t\tMean Reward: -13.4\n",
      " \t\tStd Reward: 8.958\n"
     ]
    },
    {
     "name": "stderr",
     "output_type": "stream",
     "text": [
      "\n",
      " 48%|███████████████████████▊                          | 10/21 [27:34<23:54, 130.45s/it]\u001b[A"
     ]
    },
    {
     "name": "stdout",
     "output_type": "stream",
     "text": [
      "Evaluation 9:\n",
      "\tTraining:\n",
      " \t\tFrameskip: 7\n",
      " \t\tStability: 8.495\n",
      "\tEvalution:\n",
      " \t\tAAR: -0.002\n",
      " \t\tSES: 1.0\n",
      " \t\tMean Reward: -11.4\n",
      " \t\tStd Reward: 13.124\n"
     ]
    },
    {
     "name": "stderr",
     "output_type": "stream",
     "text": [
      "\n",
      " 52%|██████████████████████████▏                       | 11/21 [29:29<20:56, 125.64s/it]\u001b[A"
     ]
    },
    {
     "name": "stdout",
     "output_type": "stream",
     "text": [
      "Evaluation 10:\n",
      "\tTraining:\n",
      " \t\tFrameskip: 8\n",
      " \t\tStability: 11.842\n",
      "\tEvalution:\n",
      " \t\tAAR: -0.002\n",
      " \t\tSES: 1.0\n",
      " \t\tMean Reward: -22.0\n",
      " \t\tStd Reward: 8.649\n"
     ]
    },
    {
     "name": "stderr",
     "output_type": "stream",
     "text": [
      "\n",
      " 57%|████████████████████████████▌                     | 12/21 [31:20<18:09, 121.02s/it]\u001b[A"
     ]
    },
    {
     "name": "stdout",
     "output_type": "stream",
     "text": [
      "Evaluation 11:\n",
      "\tTraining:\n",
      " \t\tFrameskip: 8\n",
      " \t\tStability: 7.348\n",
      "\tEvalution:\n",
      " \t\tAAR: -0.002\n",
      " \t\tSES: 1.0\n",
      " \t\tMean Reward: -15.2\n",
      " \t\tStd Reward: 8.085\n"
     ]
    },
    {
     "name": "stderr",
     "output_type": "stream",
     "text": [
      "\n",
      " 62%|██████████████████████████████▉                   | 13/21 [33:12<15:48, 118.54s/it]\u001b[A"
     ]
    },
    {
     "name": "stdout",
     "output_type": "stream",
     "text": [
      "Evaluation 12:\n",
      "\tTraining:\n",
      " \t\tFrameskip: 8\n",
      " \t\tStability: 12.718\n",
      "\tEvalution:\n",
      " \t\tAAR: -0.003\n",
      " \t\tSES: 1.0\n",
      " \t\tMean Reward: -23.2\n",
      " \t\tStd Reward: 17.792\n"
     ]
    },
    {
     "name": "stderr",
     "output_type": "stream",
     "text": [
      "\n",
      " 67%|█████████████████████████████████▎                | 14/21 [35:05<13:36, 116.70s/it]\u001b[A"
     ]
    },
    {
     "name": "stdout",
     "output_type": "stream",
     "text": [
      "Evaluation 13:\n",
      "\tTraining:\n",
      " \t\tFrameskip: 8\n",
      " \t\tStability: 10.477\n",
      "\tEvalution:\n",
      " \t\tAAR: -0.005\n",
      " \t\tSES: 1.0\n",
      " \t\tMean Reward: -27.6\n",
      " \t\tStd Reward: 18.8\n"
     ]
    },
    {
     "name": "stderr",
     "output_type": "stream",
     "text": [
      "\n",
      " 71%|███████████████████████████████████▋              | 15/21 [36:49<11:17, 112.91s/it]\u001b[A"
     ]
    },
    {
     "name": "stdout",
     "output_type": "stream",
     "text": [
      "Evaluation 14:\n",
      "\tTraining:\n",
      " \t\tFrameskip: 9\n",
      " \t\tStability: 17.339\n",
      "\tEvalution:\n",
      " \t\tAAR: -0.007\n",
      " \t\tSES: 1.0\n",
      " \t\tMean Reward: -35.6\n",
      " \t\tStd Reward: 24.872\n"
     ]
    },
    {
     "name": "stderr",
     "output_type": "stream",
     "text": [
      "\n",
      " 76%|██████████████████████████████████████            | 16/21 [38:43<09:25, 113.15s/it]\u001b[A"
     ]
    },
    {
     "name": "stdout",
     "output_type": "stream",
     "text": [
      "Evaluation 15:\n",
      "\tTraining:\n",
      " \t\tFrameskip: 9\n",
      " \t\tStability: 11.99\n",
      "\tEvalution:\n",
      " \t\tAAR: -0.003\n",
      " \t\tSES: 1.0\n",
      " \t\tMean Reward: -19.4\n",
      " \t\tStd Reward: 17.42\n"
     ]
    },
    {
     "name": "stderr",
     "output_type": "stream",
     "text": [
      "\n",
      " 81%|████████████████████████████████████████▍         | 17/21 [40:42<07:40, 115.12s/it]\u001b[A"
     ]
    },
    {
     "name": "stdout",
     "output_type": "stream",
     "text": [
      "Evaluation 16:\n",
      "\tTraining:\n",
      " \t\tFrameskip: 9\n",
      " \t\tStability: 21.433\n",
      "\tEvalution:\n",
      " \t\tAAR: -0.003\n",
      " \t\tSES: 1.0\n",
      " \t\tMean Reward: -19.0\n",
      " \t\tStd Reward: 14.128\n"
     ]
    },
    {
     "name": "stderr",
     "output_type": "stream",
     "text": [
      "\n",
      " 86%|██████████████████████████████████████████▊       | 18/21 [42:38<05:46, 115.35s/it]\u001b[A"
     ]
    },
    {
     "name": "stdout",
     "output_type": "stream",
     "text": [
      "Evaluation 17:\n",
      "\tTraining:\n",
      " \t\tFrameskip: 9\n",
      " \t\tStability: 4.472\n",
      "\tEvalution:\n",
      " \t\tAAR: -0.002\n",
      " \t\tSES: 1.0\n",
      " \t\tMean Reward: -22.6\n",
      " \t\tStd Reward: 19.582\n"
     ]
    },
    {
     "name": "stderr",
     "output_type": "stream",
     "text": [
      "\n",
      " 90%|█████████████████████████████████████████████▏    | 19/21 [44:35<03:51, 115.87s/it]\u001b[A"
     ]
    },
    {
     "name": "stdout",
     "output_type": "stream",
     "text": [
      "Evaluation 18:\n",
      "\tTraining:\n",
      " \t\tFrameskip: 9\n",
      " \t\tStability: 5.389\n",
      "\tEvalution:\n",
      " \t\tAAR: -0.001\n",
      " \t\tSES: 1.0\n",
      " \t\tMean Reward: -16.4\n",
      " \t\tStd Reward: 10.837\n"
     ]
    },
    {
     "name": "stderr",
     "output_type": "stream",
     "text": [
      "\n",
      " 95%|███████████████████████████████████████████████▌  | 20/21 [46:26<01:54, 114.26s/it]\u001b[A"
     ]
    },
    {
     "name": "stdout",
     "output_type": "stream",
     "text": [
      "Evaluation 19:\n",
      "\tTraining:\n",
      " \t\tFrameskip: 10\n",
      " \t\tStability: 15.284\n",
      "\tEvalution:\n",
      " \t\tAAR: -0.003\n",
      " \t\tSES: 1.0\n",
      " \t\tMean Reward: -23.8\n",
      " \t\tStd Reward: 11.754\n"
     ]
    },
    {
     "name": "stderr",
     "output_type": "stream",
     "text": [
      "\n",
      "100%|██████████████████████████████████████████████████| 21/21 [48:27<00:00, 138.45s/it]\u001b[A"
     ]
    },
    {
     "name": "stdout",
     "output_type": "stream",
     "text": [
      "Evaluation 20:\n",
      "\tTraining:\n",
      " \t\tFrameskip: 10\n",
      " \t\tStability: 9.415\n",
      "\tEvalution:\n",
      " \t\tAAR: -0.002\n",
      " \t\tSES: 1.0\n",
      " \t\tMean Reward: -26.0\n",
      " \t\tStd Reward: 15.811\n"
     ]
    },
    {
     "name": "stderr",
     "output_type": "stream",
     "text": [
      "\n",
      " 67%|███████████████████████████████████████████████▎                       | 8/12 [8:57:41<4:18:02, 3870.60s/it]"
     ]
    },
    {
     "name": "stdout",
     "output_type": "stream",
     "text": [
      "Training of 'dqn' via CL method 'logistic' has started\n"
     ]
    },
    {
     "name": "stderr",
     "output_type": "stream",
     "text": [
      "\n",
      "  0%|                                                            | 0/21 [00:00<?, ?it/s]\u001b[A/Users/danorel/miniconda3/envs/aclarel_3.11.3/lib/python3.11/site-packages/gym/utils/passive_env_checker.py:233: DeprecationWarning: `np.bool8` is a deprecated alias for `np.bool_`.  (Deprecated NumPy 1.24)\n",
      "  if not isinstance(terminated, (bool, np.bool8)):\n",
      "/Users/danorel/Workspace/Education/University/KMA/Research/aclarel/environments/atari_games/boxing/rl_methods/__init__.py:64: FutureWarning: The behavior of DataFrame concatenation with empty or all-NA entries is deprecated. In a future version, this will no longer exclude empty or all-NA columns when determining the result dtypes. To retain the old behavior, exclude the relevant entries before the concat operation.\n",
      "  self.measurements = pd.concat([self.measurements, measurement], ignore_index=True)\n",
      "\n",
      "  5%|██▎                                              | 1/21 [07:40<2:33:27, 460.35s/it]\u001b[A"
     ]
    },
    {
     "name": "stdout",
     "output_type": "stream",
     "text": [
      "Evaluation 0:\n",
      "\tTraining:\n",
      " \t\tFrameskip: 1\n",
      " \t\tStability: 13.09\n",
      "\tEvalution:\n",
      " \t\tAAR: -0.002\n",
      " \t\tSES: 1.0\n",
      " \t\tMean Reward: -28.2\n",
      " \t\tStd Reward: 3.655\n"
     ]
    },
    {
     "name": "stderr",
     "output_type": "stream",
     "text": [
      "\n",
      " 10%|████▋                                            | 2/21 [14:58<2:21:32, 447.00s/it]\u001b[A"
     ]
    },
    {
     "name": "stdout",
     "output_type": "stream",
     "text": [
      "Evaluation 1:\n",
      "\tTraining:\n",
      " \t\tFrameskip: 1\n",
      " \t\tStability: 17.675\n",
      "\tEvalution:\n",
      " \t\tAAR: -0.005\n",
      " \t\tSES: 1.0\n",
      " \t\tMean Reward: -12.4\n",
      " \t\tStd Reward: 7.864\n"
     ]
    }
   ],
   "source": [
    "from environments.atari_games.boxing.rl_methods.dqn import DQNAgent\n",
    "\n",
    "dqn_agent = functools.partial(experiments.get_agent, agent_name='dqn')\n",
    "\n",
    "agents = [\n",
    "    dqn_agent(curriculum_name='baseline'),\n",
    "    dqn_agent(curriculum_name='transfer-learning'),\n",
    "    dqn_agent(curriculum_name='teacher-learning'),\n",
    "    dqn_agent(curriculum_name='one-pass'),\n",
    "    dqn_agent(curriculum_name='root-p'),\n",
    "    dqn_agent(curriculum_name='hard'),\n",
    "    dqn_agent(curriculum_name='linear'),\n",
    "    dqn_agent(curriculum_name='logarithmic'),\n",
    "    dqn_agent(curriculum_name='logistic'),\n",
    "    dqn_agent(curriculum_name='mixture'),\n",
    "    dqn_agent(curriculum_name='polynomial'),\n",
    "    dqn_agent(curriculum_name='anti-curriculum')\n",
    "]\n",
    "\n",
    "for agent in tqdm(agents):\n",
    "    print(f\"Training of '{agent.metadata['agent_name']}' via CL method '{agent.metadata['curriculum_name']}' has started\")\n",
    "    curriculum = experiments.get_curriculum(agent)\n",
    "    boxing.train_evaluate(agent, curriculum)\n",
    "\n",
    "dqn_df = data_frame_from_agents(agents)"
   ]
  },
  {
   "cell_type": "code",
   "execution_count": null,
   "id": "71b2cf0a-776a-4c0f-b564-82e866fdbecc",
   "metadata": {},
   "outputs": [],
   "source": [
    "dqn_df.to_csv(DATASETS_DIR / 'dqn.csv', index=False)"
   ]
  },
  {
   "cell_type": "markdown",
   "id": "cab04375-6ae4-4a04-a7ce-095a0e7c8d4a",
   "metadata": {},
   "source": [
    "### PPO"
   ]
  },
  {
   "cell_type": "markdown",
   "id": "fe0a7c7c-63be-44ec-ac45-8562ec58e8ba",
   "metadata": {},
   "source": [
    "#### Curriculum parameter: frame skip"
   ]
  },
  {
   "cell_type": "code",
   "execution_count": null,
   "id": "033bae37-cc5f-4a67-90e4-0985d5940885",
   "metadata": {
    "scrolled": true
   },
   "outputs": [],
   "source": [
    "from environments.atari_games.boxing.rl_methods.ppo import PPOAgent\n",
    "\n",
    "ppo_agent = functools.partial(experiments.get_agent, agent_name='ppo')\n",
    "\n",
    "agents = [\n",
    "    ppo_agent(curriculum_name='baseline'),\n",
    "    ppo_agent(curriculum_name='transfer-learning'),\n",
    "    ppo_agent(curriculum_name='teacher-learning'),\n",
    "    ppo_agent(curriculum_name='one-pass'),\n",
    "    ppo_agent(curriculum_name='root-p'),\n",
    "    ppo_agent(curriculum_name='hard'),\n",
    "    ppo_agent(curriculum_name='linear'),\n",
    "    ppo_agent(curriculum_name='logarithmic'),\n",
    "    ppo_agent(curriculum_name='logistic'),\n",
    "    ppo_agent(curriculum_name='mixture'),\n",
    "    ppo_agent(curriculum_name='polynomial'),\n",
    "    ppo_agent(curriculum_name='anti-curriculum')\n",
    "]\n",
    "\n",
    "for agent in tqdm(agents):\n",
    "    print(f\"Training of '{agent.metadata['agent_name']}' via CL method '{agent.metadata['curriculum_name']}' has started\")\n",
    "    curriculum = experiments.get_curriculum(agent)\n",
    "    boxing.train_evaluate(agent, curriculum)\n",
    "\n",
    "ppo_df = data_frame_from_agents(agents)"
   ]
  },
  {
   "cell_type": "code",
   "execution_count": null,
   "id": "91f4ad78-e735-456b-9620-b119a486bc75",
   "metadata": {},
   "outputs": [],
   "source": [
    "ppo_df.to_csv(DATASETS_DIR / 'ppo.csv', index=False)"
   ]
  }
 ],
 "metadata": {
  "kernelspec": {
   "display_name": "aclarel_3.11.3",
   "language": "python",
   "name": "aclarel_3.11.3"
  },
  "language_info": {
   "codemirror_mode": {
    "name": "ipython",
    "version": 3
   },
   "file_extension": ".py",
   "mimetype": "text/x-python",
   "name": "python",
   "nbconvert_exporter": "python",
   "pygments_lexer": "ipython3",
   "version": "3.11.3"
  }
 },
 "nbformat": 4,
 "nbformat_minor": 5
}
